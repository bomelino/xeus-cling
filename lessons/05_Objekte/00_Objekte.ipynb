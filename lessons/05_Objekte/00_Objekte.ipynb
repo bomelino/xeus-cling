{
 "cells": [
  {
   "cell_type": "markdown",
   "metadata": {},
   "source": [
    "# Objekte und Klassen"
   ]
  },
  {
   "cell_type": "markdown",
   "metadata": {},
   "source": [
    "<div class=\"prereq\">\n",
    "    <h3>Was man wissen sollte</h3>\n",
    "    <div>\n",
    "        Wir hatten schon einen <a class=\"prereq\" href=\"/user-redirect/algoviz/lessons/02_Sortieren/14_ErsterKontaktMitObjekten.ipynb\">einen ersten Kontakt mit Objekten</a>. Das führen wir jetzt fort. Und auch <a class=\"prereq\" href=\"/user-redirect/algoviz/lessons/02_Sortieren/16_Strings.ipynb\">Strings</a> und\n",
    "        <a class=\"prereq\" href=\"/user-redirect/algoviz/lessons/03_Fortgeschritten/04_Vektoren.ipynb\">Vektoren</a> sind Objekte.\n",
    "    </div>\n",
    "</div>"
   ]
  },
  {
   "cell_type": "markdown",
   "metadata": {},
   "source": [
    "Die **Objektorientierung** ist ein wesentliches Programmierparadigma, dass die moderen Softwareentwicklung dominiert. Das zugrundeliegende Konzept des **Objektes** haben wir auch schon in vielen Notebooks verwendet\n",
    "und wollen es jetzt hier vertiefen. Dabei werden wir sowohl die **intuitive** Interpretation als auch die **technischen** Aspekte in den Blick nehmen. Diese unterscheiden sich nämlich an manchen Stelle, was durchaus zu Problemen bei der Implementierung und Nutzung führen kann.\n",
    "\n",
    "Aber beginnen wir mit einer kurzen Wiederholung."
   ]
  },
  {
   "cell_type": "markdown",
   "metadata": {},
   "source": [
    "## Objekte und Klassen\n",
    "\n",
    "In C++ und vielen anderen Programmiersprachen gehört jedes Objekt zu einer **Klasse**. Diese entspricht im Grunde einem Bauplan, der beschreibt, wie ein einzelnes Objekt dieser Klasse aussieht und welche Fähigkeiten es hat. Mit Hilfe dieses Bauplans können **Objekte** erzeugt werden, die ihm entsprechen. Man nennt Sie auch **Instanzen** der jeweiligen Klasse. Jede dieser Instanzen ist im Kern identisch zu allen andern Instanzen. Allerdings gibt es bestimmte **Attrbute** Parameter, die sich zwischen den Instanzen unterscheiden.\n",
    "\n",
    "![Klassen und Objekte](/user-redirect/algoviz/img/05_Objekte/ObjekteKlassen.png)\n",
    "\n",
    "In dem hier dargestellten Beispiel beschreibt die Blaupause die Klasse *Tie-Fighter*. Die konkreten Tie-Fighter sind *Instanzen* dieser Klasse. Sie haben grundsätzlich die gleiche Spezifikation, wie z.B. Größe, Gewicht und Bauweie, und funktionieren auf dieselbe Art und Weise. Jedoch haben sie auch *Attribute*, in denen sich die einzelnen Tie-Fighter voneinander unterscheiden, z.B. Ort, Kennzeichen, Reparaturstatus.\n",
    "\n",
    "Dieses Konzept von **Klassen** und **Objekten** entspricht der Art und Weise, wie wir die Welt wahrnehmen und mit Hilfe von Begriffen ordnen. So gibt es z.B. die Klasse **Hund** zu der die unterschiedlichsten **Instanzen** gehören. Unter dem Begriff *Hund* fassen wir die gemeinsamen Eigenschaften all dieser Instanzen zusammen, die sich Trotzdem in der Ausprägung unterscheiden können.\n",
    "\n",
    "Diese intuitive Interpretation macht zu weiten Teilen die Stärke des Konzeptes in der Programmierung aus. Und genauso haben wir auch bereis genutzt. Schauen wir uns dazu nochmal ein Beispiel ähnlich zu dem aus der Lesson [Ein erster Kontakt mit Objekten](/user-redirect/algoviz/lessons/02_Grundlagen/14_ErsterKontaktMitObjekten.ipynb) an."
   ]
  },
  {
   "cell_type": "code",
   "execution_count": 1,
   "metadata": {},
   "outputs": [],
   "source": [
    "#include <algoviz/SVG.hpp>\n",
    "\n",
    "SVG zeichnung = SVG(400,400,\"Ein Objekt der Klasse SVG\");"
   ]
  },
  {
   "cell_type": "markdown",
   "metadata": {},
   "source": [
    "Mit dieser Anweisung **erzeugen** wir ein Objekt der Klasse `SVG` und nennen es `zeichnung`. Bei der Erzeugung werden drei der **Attribute** des Objektes festgelegt, die Breite und Höhe in Pixeln, sowi den dargestellten Titel. Nehmen wir die Anweisung mal schrittweise unter die Lupe.\n",
    "\n",
    "Der erste Teil `SVG zeichnung` ist die Deklaration einer Variablen `zeichnung`. Dabei wird ein Speicherbereich reserviert, der groß genug ist, um alle Attribute, die ein Objekt der Klasse `SVG` speichern muss, zu speichern. \n",
    "\n",
    "Im zweiten Teil `SVG(400,400,\"Ein Objekt der Klasse SVG\")` wird ein sogenannter **Konstruktor** der Klasse `SVG` aufgerufen. Das ist eine spezielle Form von Operation, die dazu dient, ein  neu erzeugtes Objekt der Klasse zu initialisieren. Dabei werden in der Regel die Attribute auf feste vorgegebene Werte gesetzt, die zum Teil durch die Parameter des Konstruktors bestimmt werden.\n",
    "\n",
    "In manchen Fällen kann man den Aufruf eines Konstruktors auch weglassen. Dann wird der **Standardkonstruktor**, der keine Parameter hat, aufgerufen. Der für die Klasse `SVG` setzt z.B. die Größe auf 200x200 Pixel und den Titel auf \"SVG\"."
   ]
  },
  {
   "cell_type": "code",
   "execution_count": 3,
   "metadata": {},
   "outputs": [],
   "source": [
    "SVG zeichnung2;"
   ]
  },
  {
   "cell_type": "markdown",
   "metadata": {},
   "source": [
    "Diese Anweisung entspricht damit der Anweisung `SVG zeichnung 2 = SVG();`."
   ]
  },
  {
   "cell_type": "markdown",
   "metadata": {},
   "source": [
    "Und damit haben wir auch schon zwei unterschiedliche Objekte der Klasse `SVG`erzeugt."
   ]
  },
  {
   "cell_type": "markdown",
   "metadata": {},
   "source": [
    "## Methoden - Operationen auf Objekten\n",
    "\n",
    "Eine Klasse stellt eine Reihe von Operationen zur Verfügung, die auf ihren Objekten ausgeführt werden können. Diese Art der Operationen nennt man auch häufig **Methode**.\n",
    "\n",
    "Die Klasse `SVG` stellt z.B. die Methode `drawRect(x,y,width,height)` zur Verfügung mit der ein Rechteck gezeichnet werden kann. Dabei muss angegeben werden, **welches** Objekt der KLasse das Rechteck zeichnen soll. Dies geschieht, indem man das Objekt dem Operationsaufruf durch `.` getrennt voranstellt."
   ]
  },
  {
   "cell_type": "code",
   "execution_count": 4,
   "metadata": {},
   "outputs": [],
   "source": [
    "zeichnung.drawRect(20,20,100,50);"
   ]
  },
  {
   "cell_type": "markdown",
   "metadata": {},
   "source": [
    "Wie man sieht wird die Operation nur auf der jeweiligen Instanz aufgerufen. Alle anderen Instanzen sind nicht betroffen. Allerdings können wir das natürlich auch mit `zeichnung2` machen."
   ]
  },
  {
   "cell_type": "code",
   "execution_count": 6,
   "metadata": {},
   "outputs": [],
   "source": [
    "zeichnung2.drawRect(20,20,50,100);"
   ]
  },
  {
   "cell_type": "markdown",
   "metadata": {},
   "source": [
    "Zu jeder Klasse sollte es eine Dokumentation geben, welche Methoden sie hat und welche Attribute verändert werden können. Für `SVG` können wir sie in Jupyter Notebook können wir sie mit `?SVG` öffnen."
   ]
  },
  {
   "cell_type": "code",
   "execution_count": 7,
   "metadata": {},
   "outputs": [],
   "source": [
    "?SVG"
   ]
  },
  {
   "cell_type": "markdown",
   "metadata": {},
   "source": [
    "<div class=\"task\">\n",
    "    <h3>Aufgabe</h3>\n",
    "    <div>\n",
    "        Suchen Sie die Methode heraus mit der Sie die eine Zeichnung löschen können und rufen Sie sie auf beiden Instanzen auf.\n",
    "    </div>\n",
    "</div>"
   ]
  },
  {
   "cell_type": "code",
   "execution_count": 10,
   "metadata": {},
   "outputs": [],
   "source": [
    "// ..."
   ]
  },
  {
   "cell_type": "markdown",
   "metadata": {},
   "source": [
    "## Objekte als Parameter"
   ]
  },
  {
   "cell_type": "markdown",
   "metadata": {},
   "source": [
    "Bislang haben wir im Grunde nur Dinge wiederholt, die wir schon kennen. Aber jetzt werden wir uns einen neuen Aspekt kümmern: **Objekte als Parameter von Operationen**. Wir haben ja schon geometrische Objekte in ein `SVG` eingefügt und manipuliert. Z.B. einen KReis, den wir dann wie einen [Ball haben springen](/user-redirect/algoviz/lessons/02_Grundlagen/19_BouncingBall.ipynb) lassen.\n",
    "\n",
    "Machen wir das jetzt auch noch einmal."
   ]
  },
  {
   "cell_type": "code",
   "execution_count": 12,
   "metadata": {},
   "outputs": [],
   "source": [
    "#include <algoviz/SVG.hpp>\n",
    "using namespace std;\n",
    "\n",
    "AlgoViz::clear(); // Wir fangen mal neu an\n",
    "\n",
    "// Wir erzeugen ein neues Objekt der Klasse SVG\n",
    "SVG zeichnung = SVG(400,400,\"Unsere Zeichnung\");\n",
    "\n",
    "// Jetzt erzeugen wir ein Objekt der Klasse Circle\n",
    "Circle kreis = Circle(40,40,10,&zeichnung);"
   ]
  },
  {
   "cell_type": "markdown",
   "metadata": {},
   "source": [
    "Die letzte Zeile ist die, die uns interessiert. Im Grunde haben wir fast alles davon erklärt. Es wird genügend Speicher reserviert, um ein Objekt der Klasse `Circle` zu speichern und anschließend werden die Attribute mit dem Konstruktor `Circle(x,y,radius,svg)` gesetzt. Das letzte Argument ist dabei offensichtlich das Objekt Klasse `SVG` in dem der Kreis gezeichnet werden soll. **Aber warum muss ein & davor stehen?** Reicht es nicht das ganze ohne das `&` anzugeben?\n",
    "\n",
    "Probieren wir es aus."
   ]
  },
  {
   "cell_type": "code",
   "execution_count": 13,
   "metadata": {},
   "outputs": [
    {
     "name": "stderr",
     "output_type": "stream",
     "text": [
      "\u001b[1minput_line_24:2:18: \u001b[0m\u001b[0;1;31merror: \u001b[0m\u001b[1mno matching constructor for initialization of 'Circle'\u001b[0m\n",
      " Circle kreis2 = Circle(40,40,10,zeichnung);\n",
      "\u001b[0;1;32m                 ^      ~~~~~~~~~~~~~~~~~~\n",
      "\u001b[0m\u001b[1m/home/michael/miniconda3/include/algoviz/SVG.hpp:1106:5: \u001b[0m\u001b[0;1;30mnote: \u001b[0mcandidate constructor not viable: no known conversion from 'SVG' to 'SVG *' for 4th argument; take the address of the argument with &\u001b[0m\n",
      "    Circle(int cx, int cy, int radius, SVG *view) : SVGElement(view)\n",
      "\u001b[0;1;32m    ^\n",
      "\u001b[0m\u001b[1m/home/michael/miniconda3/include/algoviz/SVG.hpp:1120:5: \u001b[0m\u001b[0;1;30mnote: \u001b[0mcandidate constructor not viable: requires single argument 'original', but 4 arguments were provided\u001b[0m\n",
      "    Circle(const Circle &original)\n",
      "\u001b[0;1;32m    ^\n",
      "\u001b[0m\u001b[1m/home/michael/miniconda3/include/algoviz/SVG.hpp:1096:5: \u001b[0m\u001b[0;1;30mnote: \u001b[0mcandidate constructor not viable: requires 0 arguments, but 4 were provided\u001b[0m\n",
      "    Circle() : SVGElement() {};\n",
      "\u001b[0;1;32m    ^\n",
      "\u001b[0m"
     ]
    },
    {
     "ename": "Interpreter Error",
     "evalue": "",
     "output_type": "error",
     "traceback": [
      "Interpreter Error: "
     ]
    }
   ],
   "source": [
    "Circle kreis2 = Circle(40,40,10,zeichnung);"
   ]
  },
  {
   "cell_type": "markdown",
   "metadata": {},
   "source": [
    "Scheinbar ist das `&`wichtig. Aber warum?"
   ]
  },
  {
   "cell_type": "markdown",
   "metadata": {},
   "source": [
    "<div class=\"followup\">\n",
    "    <h3>Wo es weiter geht</h3>\n",
    "    <div>Um das zu sehen, müssen wir einen etwas längeren Weg zurücklegen, der uns \n",
    "        durch die folgenden Lessons führen wird. Dabei werden wir die wichtigen \n",
    "        Konzepte\n",
    "    <a class=\"followup\" href=\"/user-redirect/algoviz/lessons/05_Objekte/01_Referenzen.ipynb\">der Referenz</a> und <a class=\"followup\" href=\"/user-redirect/algoviz/lessons/05_Objekte/02_Zeiger.ipynb\">des Zeigers</a> kennenlernen.\n",
    "    </div>\n",
    "</div>   "
   ]
  }
 ],
 "metadata": {
  "kernelspec": {
   "display_name": "C++17",
   "language": "C++17",
   "name": "xcpp17"
  },
  "language_info": {
   "codemirror_mode": "text/x-c++src",
   "file_extension": ".cpp",
   "mimetype": "text/x-c++src",
   "name": "c++",
   "version": "17"
  }
 },
 "nbformat": 4,
 "nbformat_minor": 4
}
