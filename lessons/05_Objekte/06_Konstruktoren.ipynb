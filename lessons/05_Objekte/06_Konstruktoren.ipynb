{
 "cells": [
  {
   "cell_type": "markdown",
   "metadata": {},
   "source": [
    "# Konstruktoren und Destruktoren"
   ]
  },
  {
   "cell_type": "markdown",
   "metadata": {},
   "source": [
    "<div class=\"prereq\">\n",
    "    <h3>Was man wissen sollte</h3>\n",
    "    <div>\n",
    "        Sich im Detail mit Konstruktoren zu beschäftigen macht nur Sinn, wenn man bereits weiß, wie man \n",
    "        <a class=\"prereq\" href=\"/user-redirect/algoviz/lessons/05_Objekte/05_Klassen.ipynb\">Klassen\n",
    "            implementiert</a>. Außerdem werden wir Objekte <a class=\"prereq\" href=\"/user-redirect/algoviz/lessons/05_Objekte/03_DynamischeObjekte.ipynb\">dynamisch erzeugen</a>.\n",
    "    </div>\n",
    "</div>"
   ]
  },
  {
   "cell_type": "markdown",
   "metadata": {},
   "source": [
    "<div class=\"prereq\">\n",
    "    <h3>ACHTUNG!!!</h3>\n",
    "    <div>\n",
    "        Da wir in dieser Lesson die Klasse Bruch immer wieder neu deklarieren ist es notwendig regelmäßig \n",
    "        den Kernel neu zu starten, um ohne Fehler weitermachenzu können. In den entsprechenden Zellen ist\n",
    "        immer ein Hinweis dafür hinterlegt! Sie sollten dann die Zellen davor NICHT erneut ausführen!\n",
    "    </div>\n",
    "</div>"
   ]
  },
  {
   "cell_type": "markdown",
   "metadata": {},
   "source": [
    "In dieser Lesson entwickeln wir die Klasse `Bruch` zur Repräsentation werden wir schrittweise eine Klasse für die Repräsentation von [**gemischten Brüchen**](https://de.wikipedia.org/wiki/Bruchrechnung#Gemischte_Br%C3%BCche) weiter. Dabei widmen wir uns hier mit dem **Erzeugen** und dem **Zerstören** von Objekten.\n",
    "\n",
    "Hier ist unsere bisherige Klasse."
   ]
  },
  {
   "cell_type": "code",
   "execution_count": 1,
   "metadata": {},
   "outputs": [],
   "source": [
    "#include <iostream>\n",
    "using namespace std;\n",
    "\n",
    "class Bruch {\n",
    "    \n",
    "    public:\n",
    "    \n",
    "        // Die Attribute\n",
    "        int ganzerAnteil;\n",
    "        int zaehler;\n",
    "        int nenner;\n",
    "    \n",
    "        // Gib den Bruch aus.\n",
    "        void print() {\n",
    "            cout << ganzerAnteil << \"(\" << zaehler << \"/\" << nenner << \")\";\n",
    "        }\n",
    "    \n",
    "        // Gib den Wert des Bruchs als double zurück\n",
    "        double toDouble() {\n",
    "            return ganzerAnteil + ( 1.0 * zaehler / nenner);\n",
    "        }\n",
    "    \n",
    "}"
   ]
  },
  {
   "cell_type": "markdown",
   "metadata": {},
   "source": [
    "## Konstruktoren\n",
    "\n",
    "Wenn wir im Moment ein Objekt der KLasse `Bruch` anlegen, sind wir nicht sicher, welche Werte die Attribute haben. Also müssen wir sie immer anschließend von Hand setzen. Bestimmte Methoden, die sogeannten **Konstruktoren** ermöglichen es allerdings, diesen Prozess etwas zu vereinfachen.\n",
    "\n",
    "Grundsätzlich ist ein **Konstrukor** eine Operation, die nur beim Erzeugen eines Objektes aufgerufen wird. Dazu hat jede Klasse einen **Standardkonstruktor**, der genauso heißt, wie die Klasse und keinen Parameter erhält. Wird dieser Standard konstruktor nicht implementiert, macht er nichts."
   ]
  },
  {
   "cell_type": "code",
   "execution_count": 2,
   "metadata": {},
   "outputs": [
    {
     "name": "stdout",
     "output_type": "stream",
     "text": [
      "0(0/0)"
     ]
    }
   ],
   "source": [
    "Bruch test = Bruch();\n",
    "test.print();"
   ]
  },
  {
   "cell_type": "markdown",
   "metadata": {},
   "source": [
    "Wenn Sie die vorherige Zelle ausgeführt haben können verschiedene Ergebnisse eintreten. Entweder wurden alle drei Werte mit 0 initialisiert oder sie haben irgendwelche Werte. Was genau eintritt hängt davon ab, auf welchem Computer Sie arbeiten. Daher sollten sie immer davon ausgehen, dass in solchen Situationen irgendwelche Werte in den Attributen stehen (wie bei der Deklaration von Variablen).\n",
    "\n",
    "Als Konsequenz sollte man in **jeder** Klasse einen **Standardkonstruktor** implementieren. Dazu fügt man ihn einfach als Mathode hinzu. Allerdings muss man dabei zwei Dinge beachten:\n",
    "- Der Konstruktor heißt genauso wie die Klasse\n",
    "- Er hat **keinen** Rückgabewert, noch nicht mal `void`\n",
    "\n",
    "In der Folgenden Klassen-Deklaration haben wir ihn berewits implementiert. Damit es zu keinem Fehler kommt, sollten Sie vor dem Ausführen der Zelle den **Kernel einmal neu starten!**"
   ]
  },
  {
   "cell_type": "code",
   "execution_count": 1,
   "metadata": {},
   "outputs": [],
   "source": [
    "// ACHTUNG!\n",
    "//\n",
    "// Da wir den Standardkonstruktor jetz ändern, sollte vor dem Ausführen dieser Zelle\n",
    "// Der Kernel neu gestartet werden. Sonst kommt es später zu Fehlern!\n",
    "\n",
    "#include <iostream>\n",
    "using namespace std;\n",
    "\n",
    "class Bruch {\n",
    "    \n",
    "    public:\n",
    "    \n",
    "        // Die Attribute\n",
    "        int ganzerAnteil;\n",
    "        int zaehler;\n",
    "        int nenner;\n",
    "    \n",
    "    \n",
    "        // Der Standardkonstruktor\n",
    "        Bruch() {\n",
    "            // Wir legen alle Werte so fest, dass wir 0 darstellen.\n",
    "            ganzerAnteil = 0;\n",
    "            zaehler = 0;\n",
    "            nenner = 1;\n",
    "        }\n",
    "    \n",
    "    \n",
    "        // Gib den Bruch aus.\n",
    "        void print() {\n",
    "            cout << ganzerAnteil << \"(\" << zaehler << \"/\" << nenner << \")\";\n",
    "        }\n",
    "    \n",
    "        // Gib den Wert des Bruchs als double zurück\n",
    "        double toDouble() {\n",
    "            return ganzerAnteil + ( 1.0 * zaehler / nenner);\n",
    "        }\n",
    "    \n",
    "}"
   ]
  },
  {
   "cell_type": "markdown",
   "metadata": {},
   "source": [
    "Jetzt werden bei der Erzeugung des Objektes die Attribute entsprechend gesetzt."
   ]
  },
  {
   "cell_type": "code",
   "execution_count": 2,
   "metadata": {},
   "outputs": [
    {
     "name": "stdout",
     "output_type": "stream",
     "text": [
      "0(0/1)"
     ]
    }
   ],
   "source": [
    "Bruch test = Bruch();\n",
    "test.print();"
   ]
  },
  {
   "cell_type": "markdown",
   "metadata": {},
   "source": [
    "Häufig möchte man Konstruktoren für verschiedene Situationen haben. Daher kann man eine ganze Reihe von Konstruktoren definieren, die sich in ihren Parameterlisten unterscheiden. In der nächsten Zelle haben wir bereits einige deklariert, die wir anschließend einzeln implementieren werden."
   ]
  },
  {
   "cell_type": "code",
   "execution_count": 2,
   "metadata": {},
   "outputs": [],
   "source": [
    "// ACHTUNG!\n",
    "//\n",
    "// Da wir den Standardkonstruktor jetz ändern, sollte vor dem Ausführen dieser Zelle\n",
    "// Der Kernel neu gestartet werden. Sonst kommt es später zu Fehlern!\n",
    "\n",
    "#include <iostream>\n",
    "using namespace std;\n",
    "\n",
    "class Bruch {\n",
    "    \n",
    "    public:\n",
    "    \n",
    "        // Die Attribute\n",
    "        int ganzerAnteil;\n",
    "        int zaehler;\n",
    "        int nenner;\n",
    "    \n",
    "    \n",
    "        // Der Standardkonstruktor\n",
    "        Bruch() {\n",
    "            // Wir legen alle Werte so fest, dass wir 0 darstellen.\n",
    "            ganzerAnteil = 0;\n",
    "            zaehler = 0;\n",
    "            nenner = 1;\n",
    "        }\n",
    "    \n",
    "        // Die anderen Konstruktoren\n",
    "        Bruch(int ganzerAnteil, int zaehler, int nenner);\n",
    "        Bruch(int ganzerAnteil);\n",
    "        Bruch(int zaehler, int nenner);\n",
    "        Bruch(Bruch &original);\n",
    "    \n",
    "        // Gib den Bruch aus.\n",
    "        void print() {\n",
    "            cout << ganzerAnteil << \"(\" << zaehler << \"/\" << nenner << \")\";\n",
    "        }\n",
    "    \n",
    "        // Gib den Wert des Bruchs als double zurück\n",
    "        double toDouble() {\n",
    "            return ganzerAnteil + ( 1.0 * zaehler / nenner);\n",
    "        }\n",
    "    \n",
    "}"
   ]
  },
  {
   "cell_type": "markdown",
   "metadata": {},
   "source": [
    "Beginnen wir mit dem ersten Konstruktor. Er soll Werte für die drei Attribute als Parameter erhalten. Gleichzeitig soll er darauf achten, dass die Einschränkungen erfüllt sind. Aber setzen wir als erstes die Attribute. Außerdem fügen wir eine Ausgabe hinzu, um zu sehen, ob der Konstruktor ausgeführt wird."
   ]
  },
  {
   "cell_type": "code",
   "execution_count": 2,
   "metadata": {},
   "outputs": [],
   "source": [
    "Bruch::Bruch(int ganzerAnteil, int zaehler, int nenner) {\n",
    "    cout << \"Erzeuge Bruch!\" << endl;   // Nur damit man es sieht\n",
    "    \n",
    "    ganzerAnteil = ganzerAnteil;\n",
    "    zaehler = zaehler;\n",
    "    nenner = nenner;\n",
    "}"
   ]
  },
  {
   "cell_type": "markdown",
   "metadata": {},
   "source": [
    "Um den neuen Konstruktor zu nutzen, müssen wir einfach die Parameter mit Argumenten versehen."
   ]
  },
  {
   "cell_type": "code",
   "execution_count": 3,
   "metadata": {},
   "outputs": [
    {
     "name": "stdout",
     "output_type": "stream",
     "text": [
      "Erzeuge Bruch!\n",
      "0(0/0)"
     ]
    }
   ],
   "source": [
    "Bruch test = Bruch(42,3,17);\n",
    "test.print();"
   ]
  },
  {
   "cell_type": "markdown",
   "metadata": {},
   "source": [
    "Hmm ... Der Konstruktor wurde zwar aufgerufen, aber die Attribute wurden nicht richtig gesetzt.\n",
    "\n",
    "Das liegt daran, dass die Parameter genauso heißen wie die Attribute. Daher nimmt der Compiler an, dass immer die Parameter gemeint sind. Das ist der gleiche Mechanismums wie der bei lokalen und globalen Variablen. Wir müssen also klarmachen, welches die PArameter und welches die attribute sind.\n",
    "\n",
    "Innerhalb einer Methode ist das Objekt auf dem sie aufgerufen wird über den `this`-Zeiger erreichbar. D.h. `this` zeigt auf das aktuelle Objekt. Damit ist `this->ganzerAnteil` das Attribut `ganzerAnteil`des aktuellen Objektes. Und damit können wir die Attribute von den Parametern unterscheiden."
   ]
  },
  {
   "cell_type": "code",
   "execution_count": 3,
   "metadata": {},
   "outputs": [],
   "source": [
    "// ACHTUNG!\n",
    "//\n",
    "// Führen Sie vor dieser Zelle einen Kernel-Restart durch und führen Sie auch \n",
    "// vorher die Zelle mit der Klassendeklaration aus! (drei Zellen zurück)\n",
    "// Die beiden Zellen dazwischen führen sie NICHT aus!!!\n",
    "\n",
    "Bruch::Bruch(int ganzerAnteil, int zaehler, int nenner) {\n",
    "    cout << \"Erzeuge Bruch!\" << endl;   // Nur damit man es sieht\n",
    "    \n",
    "    // <Attribut>      = <Parameter>\n",
    "    this->ganzerAnteil = ganzerAnteil;\n",
    "    this->zaehler      = zaehler;\n",
    "    this->nenner       = nenner;\n",
    "}"
   ]
  },
  {
   "cell_type": "markdown",
   "metadata": {},
   "source": [
    "Jetzt sollte es klappen."
   ]
  },
  {
   "cell_type": "code",
   "execution_count": 4,
   "metadata": {},
   "outputs": [
    {
     "name": "stdout",
     "output_type": "stream",
     "text": [
      "Erzeuge Bruch!\n",
      "42(3/17)"
     ]
    }
   ],
   "source": [
    "Bruch test = Bruch(42,3,17);\n",
    "test.print();"
   ]
  },
  {
   "cell_type": "markdown",
   "metadata": {},
   "source": [
    "### Mehr Konstruktoren\n",
    "\n",
    "Damit die Arbeit im Folgenden einfacher wird, implementieren wir die restlichen Konstruktoren direkt in der Deklaration."
   ]
  },
  {
   "cell_type": "code",
   "execution_count": 1,
   "metadata": {},
   "outputs": [],
   "source": [
    "// ACHTUNG!\n",
    "//\n",
    "// Da wir den Standardkonstruktor jetz ändern, sollte vor dem Ausführen dieser Zelle\n",
    "// Der Kernel neu gestartet werden. Sonst kommt es später zu Fehlern!\n",
    "\n",
    "#include <iostream>\n",
    "using namespace std;\n",
    "\n",
    "class Bruch {\n",
    "    \n",
    "    public:\n",
    "    \n",
    "        // Die Attribute\n",
    "        int ganzerAnteil;\n",
    "        int zaehler;\n",
    "        int nenner;\n",
    "    \n",
    "    \n",
    "        // Der Standardkonstruktor\n",
    "        Bruch() {\n",
    "            // Wir legen alle Werte so fest, dass wir 0 darstellen.\n",
    "            ganzerAnteil = 0;\n",
    "            zaehler = 0;\n",
    "            nenner = 1;\n",
    "        }\n",
    "    \n",
    "        // Die anderen Konstruktoren\n",
    "        Bruch(int ganzerAnteil, int zaehler, int nenner) {            \n",
    "            this-> ganzerAnteil = ganzerAnteil;\n",
    "            this->zaehler = zaehler;\n",
    "            this->nenner = nenner;\n",
    "        }\n",
    "    \n",
    "        // NEU!!\n",
    "        // eine ganze Zahl\n",
    "        Bruch(int ganzerAnteil) {\n",
    "            this->ganzerAnteil = ganzerAnteil;\n",
    "            zaehler = 0;    // Es gibt keinen Parameter mit dem Namen!\n",
    "            nenner = 1;\n",
    "        }\n",
    "    \n",
    "        // NEU!!\n",
    "        // Ein reiner Bruch\n",
    "        Bruch(int zaehler, int nenner) {\n",
    "            ganzerAnteil = 0;\n",
    "            this->zaehler = zaehler;\n",
    "            this->nenner = nenner;\n",
    "        }\n",
    "    \n",
    "        // NEU!!\n",
    "        // Eine Kopie eines anderen Bruches\n",
    "        Bruch(Bruch &original) {\n",
    "            ganzerAnteil = original.ganzerAnteil;\n",
    "            zaehler = original.zaehler;\n",
    "            nenner = original.nenner;\n",
    "        }\n",
    "\n",
    "    \n",
    "        // Gib den Bruch aus.\n",
    "        void print() {\n",
    "            cout << ganzerAnteil << \"(\" << zaehler << \"/\" << nenner << \")\";\n",
    "        }\n",
    "    \n",
    "        // Gib den Wert des Bruchs als double zurück\n",
    "        double toDouble() {\n",
    "            return ganzerAnteil + ( 1.0 * zaehler / nenner);\n",
    "        }\n",
    "    \n",
    "}"
   ]
  },
  {
   "cell_type": "markdown",
   "metadata": {},
   "source": [
    "Jetzt können wir Brüche auf die unterschiedlichsten Arten erzeugen."
   ]
  },
  {
   "cell_type": "code",
   "execution_count": 3,
   "metadata": {},
   "outputs": [
    {
     "name": "stdout",
     "output_type": "stream",
     "text": [
      "Standardkonstruktor: 0(0/1)\n",
      "Drei Parameter: 4(7/13)\n",
      "Ganze Zahl: 4(0/1)\n",
      "Reiner Bruch: 0(2/3)\n",
      "Die Kopie: 4(7/13)"
     ]
    }
   ],
   "source": [
    "Bruch test1 = Bruch();\n",
    "cout << \"Standardkonstruktor: \";\n",
    "test1.print();\n",
    "cout << endl;\n",
    "\n",
    "Bruch test2 = Bruch(4,7,13);\n",
    "cout << \"Drei Parameter: \";\n",
    "test2.print();\n",
    "cout << endl;\n",
    "\n",
    "Bruch test3 = Bruch(4);\n",
    "cout << \"Ganze Zahl: \";\n",
    "test3.print();\n",
    "cout << endl;\n",
    "\n",
    "Bruch test4 = Bruch(2,3);\n",
    "cout << \"Reiner Bruch: \";\n",
    "test4.print();\n",
    "cout << endl;\n",
    "\n",
    "Bruch kopie = Bruch(test2);\n",
    "cout << \"Die Kopie: \";\n",
    "kopie.print();"
   ]
  },
  {
   "cell_type": "markdown",
   "metadata": {},
   "source": [
    "## Destruktoren\n",
    "\n",
    "Das Gegenteil von Konstruktoren ist der **Destruktor**. Das ist eine Methode, die automatisch aufgerufen wird, wenn ein Objekt zerstört, d.h. aus dem Speicher gelöscht wird. Der Destruktor der Klasse Bruch heißt `~ Bruch()`, d.h. dem Klassennamen wird nur die Tilde `~` vorangestellt. Führen wir mal einen Destruktor in die Klasse Bruch ein und probieren aus, wann er aufgerufen wird.\n",
    "\n",
    "**Anmerkung:** Der Übersichtlichkeit halber, nutzen wir im Folgenden nur den Standardkonstruktor, der eine Kontrollausgabe macht."
   ]
  },
  {
   "cell_type": "code",
   "execution_count": 1,
   "metadata": {},
   "outputs": [],
   "source": [
    "// ACHTUNG!\n",
    "//\n",
    "// Da wir den Standardkonstruktor jetz ändern, sollte vor dem Ausführen dieser Zelle\n",
    "// Der Kernel neu gestartet werden. Sonst kommt es später zu Fehlern!\n",
    "\n",
    "#include <iostream>\n",
    "using namespace std;\n",
    "\n",
    "class Bruch {\n",
    "    \n",
    "    public:\n",
    "    \n",
    "        // Die Attribute\n",
    "        int ganzerAnteil;\n",
    "        int zaehler;\n",
    "        int nenner;\n",
    "    \n",
    "    \n",
    "        // Der Standardkonstruktor\n",
    "        Bruch() {\n",
    "            cout << \"KONSTRUKTOR: Bruch \" << this << \" wird erzeugt!\" << endl;\n",
    "            // Wir legen alle Werte so fest, dass wir 0 darstellen.\n",
    "            ganzerAnteil = 0;\n",
    "            zaehler = 0;\n",
    "            nenner = 1;\n",
    "        }\n",
    "    \n",
    "        // NEU !!!!\n",
    "        // Der Destruktor hat keine Parameter\n",
    "        ~Bruch() {            \n",
    "            cout << \"DESTRUKTOR: Bruch \" << this << \" wird zerstört!\" <<endl;\n",
    "        }\n",
    "}"
   ]
  },
  {
   "cell_type": "markdown",
   "metadata": {},
   "source": [
    "Jetzt können wir mal innerhalb einer Schleife mehrere Brüche anlegen."
   ]
  },
  {
   "cell_type": "code",
   "execution_count": 2,
   "metadata": {},
   "outputs": [
    {
     "name": "stdout",
     "output_type": "stream",
     "text": [
      "\n",
      "= Beginn der Schleife \n",
      "KONSTRUKTOR: Bruch 0x7ffd128b1308 wird erzeugt!\n",
      "= in der Schleife \n",
      "DESTRUKTOR: Bruch 0x7ffd128b1308 wird zerstört!\n",
      "\n",
      "= Beginn der Schleife \n",
      "KONSTRUKTOR: Bruch 0x7ffd128b1308 wird erzeugt!\n",
      "= in der Schleife \n",
      "DESTRUKTOR: Bruch 0x7ffd128b1308 wird zerstört!\n",
      "\n",
      "= Beginn der Schleife \n",
      "KONSTRUKTOR: Bruch 0x7ffd128b1308 wird erzeugt!\n",
      "= in der Schleife \n",
      "DESTRUKTOR: Bruch 0x7ffd128b1308 wird zerstört!\n"
     ]
    }
   ],
   "source": [
    "for (int i = 0; i < 3; i++ ) {\n",
    "    cout << endl;\n",
    "    cout << \"= Beginn der Schleife \" << endl;\n",
    "    Bruch test = Bruch();\n",
    "    cout << \"= in der Schleife \" << endl;\n",
    "}"
   ]
  },
  {
   "cell_type": "markdown",
   "metadata": {},
   "source": [
    "Wie man sieht, wird in jedem Schleifendurchlauf einmal der Konstruktor aufgerufen, da ein neuer Bruch angelegt wird. Und am Ende der Schleife, wenn die lokale Variable gelöscht wird, wird automatisch der Destruktor aufgerufen! Die drei Objekte sind somit am Ende der Schleife wieder gelöscht worden."
   ]
  },
  {
   "cell_type": "markdown",
   "metadata": {},
   "source": [
    "Machen wir das Ganze mal mit einem Zeiger und legen die Objekte dynamisch an."
   ]
  },
  {
   "cell_type": "code",
   "execution_count": 3,
   "metadata": {},
   "outputs": [
    {
     "name": "stdout",
     "output_type": "stream",
     "text": [
      "\n",
      "= Beginn der Schleife \n",
      "KONSTRUKTOR: Bruch 0x5650e42877a0 wird erzeugt!\n",
      "= in der Schleife \n",
      "\n",
      "= Beginn der Schleife \n",
      "KONSTRUKTOR: Bruch 0x5650e41f0e60 wird erzeugt!\n",
      "= in der Schleife \n",
      "\n",
      "= Beginn der Schleife \n",
      "KONSTRUKTOR: Bruch 0x5650e4112a60 wird erzeugt!\n",
      "= in der Schleife \n"
     ]
    }
   ],
   "source": [
    "for (int i = 0; i < 3; i++ ) {\n",
    "    cout << endl;\n",
    "    cout << \"= Beginn der Schleife \" << endl;\n",
    "    Bruch *test = new Bruch();\n",
    "    cout << \"= in der Schleife \" << endl;\n",
    "}"
   ]
  },
  {
   "cell_type": "markdown",
   "metadata": {},
   "source": [
    "Diesmal werden nur die Konstruktoren aufgerufen und drei Objekte erzeugt, die **NICHT** wieder gelöscht werden. D.h. im Anschluss an die Schleife liegen die drei Objekte irgendwo im Speicher. Aber wir wissen unter Umständen nicht mehr wo.\n",
    "\n",
    "Wenn wir diese Objekte wider löschen wollen müssen wir das mit `delete` tun."
   ]
  },
  {
   "cell_type": "code",
   "execution_count": 4,
   "metadata": {},
   "outputs": [
    {
     "name": "stdout",
     "output_type": "stream",
     "text": [
      "\n",
      "= Beginn der Schleife \n",
      "KONSTRUKTOR: Bruch 0x5650e45d07a0 wird erzeugt!\n",
      "= in der Schleife \n",
      "DESTRUKTOR: Bruch 0x5650e45d07a0 wird zerstört!\n",
      "\n",
      "= Beginn der Schleife \n",
      "KONSTRUKTOR: Bruch 0x5650e45d07a0 wird erzeugt!\n",
      "= in der Schleife \n",
      "DESTRUKTOR: Bruch 0x5650e45d07a0 wird zerstört!\n",
      "\n",
      "= Beginn der Schleife \n",
      "KONSTRUKTOR: Bruch 0x5650e45d07a0 wird erzeugt!\n",
      "= in der Schleife \n",
      "DESTRUKTOR: Bruch 0x5650e45d07a0 wird zerstört!\n"
     ]
    }
   ],
   "source": [
    "for (int i = 0; i < 3; i++ ) {\n",
    "    cout << endl;\n",
    "    cout << \"= Beginn der Schleife \" << endl;\n",
    "    Bruch *test = new Bruch();\n",
    "    cout << \"= in der Schleife \" << endl;\n",
    "    \n",
    "    // Wieder löschen\n",
    "    delete test;\n",
    "}"
   ]
  },
  {
   "cell_type": "markdown",
   "metadata": {},
   "source": [
    "Wie man sieht, werden die Objekte jetzt wieder gelöscht."
   ]
  },
  {
   "cell_type": "markdown",
   "metadata": {},
   "source": [
    "## Der Lebenszyklus von Objekten\n",
    "\n",
    "- Damit haben wir alle Phasen des Lbenszyklus von Objekten kennengelernt. Sie werden mit Hilfe von **Konstruktoren** erzeugt. Diese legen dabei die initialen Attributwerte fest und können auch noch weitere Dinge tun, die nach der Erstellung eines entsprechenden Objektes notwendig sind.\n",
    "\n",
    "- Während ddas Objekt existiert, kann man es mittels seiner Methoden manipulieren und auf seine Attribute zugreifen.\n",
    "\n",
    "- Wenn das Objekt zerstört wird, kann man mittels des **Destruktors** sicherstellen, dass z.B. andere Objekte davon erfahren, das Objekt in einer Datei gespeichert wird oder was so nötig/erwünscht ist.\n",
    "\n",
    "- Wird das Objekt direkt in einer Variable gespiechert, wird es bei der Deklaration erzeugt und beim Löschen der variable zerstört.\n",
    "\n",
    "- Wird das Objekt dynamisch, d.h. mittels `new` erzeugt, bleibt es bestehen, bis es mittels `delete` gelöscht wird. \n",
    "\n",
    "- Wird das Objekt mit `new`erzeugt, muss man den Zeiger, der bei der Erzeugung zurückgegeben wurde, speichern. Ansonsten kann man auf das Objekt nicht mehr zugreifen und es auch nicht mehr löschen."
   ]
  },
  {
   "cell_type": "markdown",
   "metadata": {},
   "source": [
    "<div class=\"followup\">\n",
    "    <h3>Wo es weiter geht</h3>\n",
    "    <div>\n",
    "        Als nächstes sollte man sich dem Thema der \n",
    "        <a class=\"followup\" href=\"/user-redirect/algoviz/lessons/05_Objekte/07_Kapselung.ipynb\">Kapselung</a>\n",
    "        widmen. Ansonsten gibt es noch einmal die Zusammenfassung unserer Klasse\n",
    "        <a class=\"followup\" href=\"/user-redirect/algoviz/lessons/05_Objekte/08_Bruch.ipynb\">Bruch</a> in einer Datei.\n",
    "    </div>\n",
    "</div>   "
   ]
  }
 ],
 "metadata": {
  "kernelspec": {
   "display_name": "C++17",
   "language": "C++17",
   "name": "xcpp17"
  },
  "language_info": {
   "codemirror_mode": "text/x-c++src",
   "file_extension": ".cpp",
   "mimetype": "text/x-c++src",
   "name": "c++",
   "version": "17"
  }
 },
 "nbformat": 4,
 "nbformat_minor": 4
}
