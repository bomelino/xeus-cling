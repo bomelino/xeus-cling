{
 "cells": [
  {
   "cell_type": "markdown",
   "metadata": {},
   "source": [
    "# Dynamische Objekte"
   ]
  },
  {
   "cell_type": "markdown",
   "metadata": {},
   "source": [
    "<div class=\"prereq\">\n",
    "    <h3>Was man wissen sollte</h3>\n",
    "    <div>\n",
    "        Um Objekte dynamisch erzeugen zu können, benötigen wird \n",
    "        <a class=\"prereq\" href=\"/user-redirect/algoviz/lessons/05_Objekte/02_Zeiger.ipynb\">\n",
    "            Zeiger</a>. Außerdem werden wir mit <a class=\"prereq\" href=\"/user-redirect/algoviz/lessons/03_Fortgeschritten/04_Vektoren.ipynb\">Vektoren</a> arbeiten.\n",
    "    </div>\n",
    "</div>"
   ]
  },
  {
   "cell_type": "code",
   "execution_count": 1,
   "metadata": {},
   "outputs": [],
   "source": [
    "#include <algoviz/SVG.hpp>\n",
    "using namespace std;"
   ]
  },
  {
   "cell_type": "markdown",
   "metadata": {},
   "source": [
    "Bislang haben wir Objekte wie z.B. Strings dadurch erzeugt, dass wir Variablen deklariert haben, die die entsprechende Klasse als Typ haben. Dabei wird ein sogenannter **Konstruktor** aufgerufen, der das Objekt anlegt. So erzeugt die folgende Anweisung ein Objekt der Klasse `SVG` und über den Konstruktor wird die Größe des Zeichenfeldes festgelegt."
   ]
  },
  {
   "cell_type": "code",
   "execution_count": 2,
   "metadata": {},
   "outputs": [],
   "source": [
    "SVG zeichnung = SVG(400,400);"
   ]
  },
  {
   "cell_type": "markdown",
   "metadata": {},
   "source": [
    "Und die folgende Anweisung erzeugt einen Kreis, also ein Objekt der Klasse `Circle`, dass in der Zeichnung dargestellt werden soll."
   ]
  },
  {
   "cell_type": "code",
   "execution_count": 11,
   "metadata": {},
   "outputs": [],
   "source": [
    "Circle kreis = Circle(20,20,5,&zeichnung);"
   ]
  },
  {
   "cell_type": "markdown",
   "metadata": {},
   "source": [
    "Wenn wir jetzt noch einen KReis erzeugen wollen, aber dieselbe Variable verwenden wie vorher, wird unser alter KReis ersetzt und verschwindet."
   ]
  },
  {
   "cell_type": "code",
   "execution_count": 12,
   "metadata": {},
   "outputs": [],
   "source": [
    "kreis = Circle(50,50,20,&zeichnung);"
   ]
  },
  {
   "cell_type": "markdown",
   "metadata": {},
   "source": [
    "Also benötigen wir für jedes Objekt eine eigene Variable oder ein Element in einem Array (das hatten wir schon mal genutzt). Was wir auf diese Art nicht können ist Objekte **dynamisch** in einem Programm erzeugen. Damit ist gemeint, dass wir erst im Laufe des Programmes festlegen wieviele Objekte wir benötigen und wann wir sie erzeugen. Damit wir das tun können, benötigen wir einen Mechanismus, der Objekte zu Zeiten, die im Programm festgelegt sind, erzeugen und bei Bedarf wieder zerstören kann."
   ]
  },
  {
   "cell_type": "markdown",
   "metadata": {},
   "source": [
    "## Die Erzeugung von Objekten\n",
    "\n",
    "In C++ können Objekte mit den Operator `new` zu jedem beliebigen Zeitpunkt erzeugt werden. Dabei muss man einen Konstruktor aufrufen, der das Objekt erzeugt."
   ]
  },
  {
   "cell_type": "code",
   "execution_count": 13,
   "metadata": {},
   "outputs": [],
   "source": [
    "new Circle(60,10,10,&zeichnung);"
   ]
  },
  {
   "cell_type": "markdown",
   "metadata": {},
   "source": [
    "Das können wir auch wiederholen."
   ]
  },
  {
   "cell_type": "code",
   "execution_count": 18,
   "metadata": {},
   "outputs": [
    {
     "name": "stdout",
     "output_type": "stream",
     "text": [
      "Wieviele Kreise soll ich erzeugen?\n",
      "10\n"
     ]
    }
   ],
   "source": [
    "// Variante 1: mit new\n",
    "\n",
    "zeichnung.clear();\n",
    "\n",
    "int n = 0;\n",
    "\n",
    "cout << \"Wieviele Kreise soll ich erzeugen?\" << endl;\n",
    "cin >> n;\n",
    "\n",
    "for ( int i = 0 ; i < n ; i++ ) {\n",
    "    new Circle(30*i+10,30*i+10,10,&zeichnung);    \n",
    "}"
   ]
  },
  {
   "cell_type": "markdown",
   "metadata": {},
   "source": [
    "Wie man sieht, werden die Kreise erzeugt und bleiben erhalten. Wenn man das `new` allerdings weglässt, verschwinden die Kreise sofort wieder."
   ]
  },
  {
   "cell_type": "code",
   "execution_count": 3,
   "metadata": {},
   "outputs": [
    {
     "name": "stdout",
     "output_type": "stream",
     "text": [
      "Wieviele Kreise soll ich erzeugen?\n",
      "10\n"
     ]
    }
   ],
   "source": [
    "// Variante 2: Kein new\n",
    "\n",
    "zeichnung.clear();\n",
    "\n",
    "int n = 0;\n",
    "\n",
    "cout << \"Wieviele Kreise soll ich erzeugen?\" << endl;\n",
    "cin >> n;\n",
    "\n",
    "for ( int i = 0 ; i < n ; i++ ) {\n",
    "    Circle(30*i+10,30*i+10,10,&zeichnung);    \n",
    "    AlgoViz::sleep(1000);  // Wir warten mal etwas, damit man den Effekt besser sieht.\n",
    "}"
   ]
  },
  {
   "cell_type": "markdown",
   "metadata": {},
   "source": [
    "Und wenn man eine lokale Variable verwendet bleiben die Kreise zwar länger erhalten, aber verschwinden auch wieder."
   ]
  },
  {
   "cell_type": "code",
   "execution_count": 4,
   "metadata": {},
   "outputs": [
    {
     "name": "stdout",
     "output_type": "stream",
     "text": [
      "Wieviele Kreise soll ich erzeugen?\n",
      "10\n"
     ]
    }
   ],
   "source": [
    "// Variante 3: Lokale Variablen\n",
    "\n",
    "zeichnung.clear();\n",
    "\n",
    "int n = 0;\n",
    "\n",
    "cout << \"Wieviele Kreise soll ich erzeugen?\" << endl;\n",
    "cin >> n;\n",
    "\n",
    "for ( int i = 0 ; i < n ; i++ ) {\n",
    "    Circle kreis = Circle(30*i+10,30*i+10,10,&zeichnung);    \n",
    "    AlgoViz::sleep(1000);  // Wir warten mal etwas, damit man den Effekt besser sieht.\n",
    "}"
   ]
  },
  {
   "cell_type": "markdown",
   "metadata": {},
   "source": [
    "Wie kommen diese drei unterschiedlichen Verhaltensweisen zustande, obwohl man scheinbar immer das gleiche tut? Um das zu beantworten schauen wir uns die drei Varianten im umgekehrter Reihenfolge genauer an."
   ]
  },
  {
   "cell_type": "markdown",
   "metadata": {},
   "source": [
    "### Variante 3: Lokale Variablen\n",
    "\n",
    "Diese Variante haben wir schon häufiger genutzt. Bei der Deklaration der lokalen Variabel wird ein Objekt der Klasse `Circle` erzeugt und der Konstruktor aufgerufen. Dieses Objekt bleibt bestehen, bis die lkale Variable am Ende des Schleifenrumpf gelöscht wird (also nach der Wartezeit). Daher bleibt der Kreis auch in der Zeichnung zu sehen. Im nächsten Schleifendurchlauf wird dann ein neuer Kreis erzeugt usw."
   ]
  },
  {
   "cell_type": "markdown",
   "metadata": {},
   "source": [
    "### Variante 2: Kein new\n",
    "\n",
    "In Variante 2 wird das Objekt ebenfalls erzeugt. Allerdings wird es nicht in einer okalen Variable gespeichert. Dadurch wird es direkt nach seiner Erzeugung wieder gelöscht. Es steht einfach kein Platz für seine Speicherung zur Verfügung. Daher wird der Kreis noch vor der Wartezeit gelöscht und das neue Objekt ist nur kurz zu sehen."
   ]
  },
  {
   "cell_type": "markdown",
   "metadata": {},
   "source": [
    "### Variante 1: Mit new\n",
    "\n",
    "Der `new` Operator bewirkt, dass das Objekt mit dem Konstruktor erzeugt wird. Gleichzeitig wird aber auch Speicherplatz reserviert, in dem es gespeichert werden kann. Und dieser Platz wird im Gegensatz zu einer lokalen Variable am Ende des Blockes **nicht** wieder freigegeben. Stattdessen bleibt das Objekt bestehen, bis es explizit zerstört wird (wozu wir noch kommen werden)."
   ]
  },
  {
   "cell_type": "markdown",
   "metadata": {},
   "source": [
    "<div class=\"prereq\">\n",
    "    <h3>Merke!</h3>\n",
    "    <div>\n",
    "        Mit dem Operator <tt>new</tt> kann man neue Objekte erzeugen und dauerhaft erhalten. Im Gegensatz zur\n",
    "        Speicherung in lokalen Variablen werden die Objekte nicht am Ende des Blocks oder der Operation zerstört.\n",
    "    </div>\n",
    "</div>"
   ]
  },
  {
   "cell_type": "markdown",
   "metadata": {},
   "source": [
    "## Ein Problem\n",
    "\n",
    "Ok! Jetzt wissen wir, wie Objekte dynamisch un dauerhaft erzeugt werden können. Also machen wir das nochmal."
   ]
  },
  {
   "cell_type": "code",
   "execution_count": 2,
   "metadata": {},
   "outputs": [
    {
     "name": "stdout",
     "output_type": "stream",
     "text": [
      "Wieviele Kreise soll ich erzeugen?\n",
      "2\n"
     ]
    }
   ],
   "source": [
    "#include <algoviz/SVG.hpp>\n",
    "using namespace std;\n",
    "\n",
    "SVG zeichnung = SVG(400,400);\n",
    "\n",
    "zeichnung.clear();\n",
    "\n",
    "int n = 0;\n",
    "\n",
    "cout << \"Wieviele Kreise soll ich erzeugen?\" << endl;\n",
    "cin >> n;\n",
    "\n",
    "for ( int i = 0 ; i < n ; i++ ) {\n",
    "    // Erzeuge die Kreise dauerhaft.\n",
    "    new Circle(30*i+10,30*i+10,10,&zeichnung);    \n",
    "}"
   ]
  },
  {
   "cell_type": "markdown",
   "metadata": {},
   "source": [
    "Jetzt haben wir die Kreise und wllen sie blau färben. Aber wie kommen wir an sie heran? \n",
    "\n",
    "Schauen wir uns mal an, wass wir als Rückgabewert erhalten, wenn wir `new`ausführen."
   ]
  },
  {
   "cell_type": "code",
   "execution_count": 10,
   "metadata": {},
   "outputs": [
    {
     "data": {
      "text/plain": [
       "@0x7ffe614241f0"
      ]
     },
     "execution_count": 10,
     "metadata": {},
     "output_type": "execute_result"
    }
   ],
   "source": [
    "new Circle(40,40,60,&zeichnung)"
   ]
  },
  {
   "cell_type": "markdown",
   "metadata": {},
   "source": [
    "Das sieht aus wie ein Zeiger. Und tatsächlich ist es auch einer. `new` gibt den Zeiger auf das neu erzeugte Objekt zurück. "
   ]
  },
  {
   "cell_type": "code",
   "execution_count": 9,
   "metadata": {},
   "outputs": [],
   "source": [
    "//Räumen wir vorher etwas auf.\n",
    "zeichnung.clear();\n",
    "\n",
    "// Jetzt machen wir einen neuen Kreis und speichern den Pointer in einer Variable\n",
    "Circle *zeiger = new Circle(80,50,30,&zeichnung);"
   ]
  },
  {
   "cell_type": "markdown",
   "metadata": {},
   "source": [
    "Jetzt können wir auch auf den neuen Kreis zugreifen. Dazu dereferenzieren wir den Zeiger und rufen dann eine Methode auf dem Objekt auf."
   ]
  },
  {
   "cell_type": "code",
   "execution_count": 12,
   "metadata": {},
   "outputs": [],
   "source": [
    "(*zeiger).setFill(\"blue\");"
   ]
  },
  {
   "cell_type": "markdown",
   "metadata": {},
   "source": [
    "Für diese Notation gibt es ein Kurzform, die sogenannte **Pfeilnotation**."
   ]
  },
  {
   "cell_type": "code",
   "execution_count": 14,
   "metadata": {},
   "outputs": [],
   "source": [
    "zeiger->setFill(\"red\");    // Ist das gleiche wie (*zeiger).setFill(\"red\")"
   ]
  },
  {
   "cell_type": "markdown",
   "metadata": {},
   "source": [
    "Diese Notation wird angewandt, wenn man auf das Objekt über einen Zeiger zugreift. Der Pfeil `->` \n",
    "dereferenziert den Zeiger und greift dann auf die Methode oder das jeweilige Attribut zurück."
   ]
  },
  {
   "cell_type": "markdown",
   "metadata": {},
   "source": [
    "Jetztz können wir also Objekte dynamisch erzeugen und sie auch manipulieren."
   ]
  },
  {
   "cell_type": "code",
   "execution_count": 6,
   "metadata": {},
   "outputs": [
    {
     "name": "stdout",
     "output_type": "stream",
     "text": [
      "Wieviele Kreise soll ich erzeugen?\n",
      "50\n"
     ]
    }
   ],
   "source": [
    "#include <algoviz/SVG.hpp>\n",
    "using namespace std;\n",
    "\n",
    "AlgoViz::clear();\n",
    "\n",
    "// Unser Zeiger auf die Kreise\n",
    "Circle *zeiger = nullptr;\n",
    "\n",
    "SVG zeichnung = SVG(400,400);\n",
    "\n",
    "zeichnung.clear();\n",
    "\n",
    "int n = 0;\n",
    "\n",
    "cout << \"Wieviele Kreise soll ich erzeugen?\" << endl;\n",
    "cin >> n;\n",
    "\n",
    "for ( int i = 0 ; i < n ; i++ ) {\n",
    "    // Erzeuge die Kreise dauerhaft und merke dir die Adresse in zeiger\n",
    "    zeiger = new Circle(400/n*i,400/n*i,10,&zeichnung);\n",
    "    // Verändere den neu erzeugten Kreis.\n",
    "    zeiger->setFill(255/n*i,0,255-255/n*i);\n",
    "}"
   ]
  },
  {
   "cell_type": "markdown",
   "metadata": {},
   "source": [
    "Allerdings können wir so auch nur immer auf den zuletzt erzeugtem Kreis zugreifen, denn nur dessen Adresse wird in `zeiger`gespeichert. Wird der nächste Kreis erzeugt, vergessen wir die Adresse des vorherigen Kreises und ersetzen sie durch die des neuen. Also müssen wir noch dafür sorgen, dass die Zeiger auf die Kreise gespeichert werden. Dazu können wir sehr gut einen Vektor nutzen."
   ]
  },
  {
   "cell_type": "code",
   "execution_count": 4,
   "metadata": {},
   "outputs": [
    {
     "name": "stdout",
     "output_type": "stream",
     "text": [
      "Wieviele Kreise soll ich erzeugen?\n",
      "20\n"
     ]
    }
   ],
   "source": [
    "#include <algoviz/SVG.hpp>\n",
    "using namespace std;\n",
    "\n",
    "AlgoViz::clear();\n",
    "\n",
    "// Unser Zeiger auf die Kreise\n",
    "Circle *zeiger = nullptr;\n",
    "\n",
    "// Wir legen einen Vektor an, der unsere Zeiger speichert.\n",
    "vector<Circle*> kreise;\n",
    "\n",
    "SVG zeichnung = SVG(400,400);\n",
    "\n",
    "zeichnung.clear();\n",
    "\n",
    "int n = 0;\n",
    "\n",
    "cout << \"Wieviele Kreise soll ich erzeugen?\" << endl;\n",
    "cin >> n;\n",
    "\n",
    "for ( int i = 0 ; i < n ; i++ ) {\n",
    "    // Erzeuge die Kreise dauerhaft und merke dir den Zeiger.\n",
    "    zeiger = new Circle(400/n*i,400/n*i,10,&zeichnung);\n",
    "    zeiger->setFill(255/n*i,0,255-255/n*i);\n",
    "    \n",
    "    // Wir fügen den Zeiger an den Vektor an.\n",
    "    kreise.push_back(zeiger);\n",
    "}\n",
    "\n",
    "// Jetzt können wir die Kreise nochmal durchlaufen und z.B.\n",
    "// den Radius ändern.\n",
    "for ( Circle *kreis : kreise ) {\n",
    "    kreis->setRadius(20);\n",
    "}"
   ]
  },
  {
   "cell_type": "markdown",
   "metadata": {},
   "source": [
    "Der Vektor dient uns also dazu all die Zeiger auf die neuen Objekte zu speichern."
   ]
  },
  {
   "cell_type": "markdown",
   "metadata": {},
   "source": [
    "<div class=\"task\">\n",
    "    <h3>Aufgabe</h3>\n",
    "    <div>\n",
    "        Schreiben Sie ein Programm, dass eine vom Nutzer eigegebene Zahl von Kreisen erzeugt, diese \n",
    "        an einem zufälligen Ort plaziert, mit einem zufälligen Radius (zwischen 0 und 30) versieht und\n",
    "        in einer zufälligen Farbe einfärbt.(nutzen Sie die RGB Werte) \n",
    "    </div>\n",
    "</div>"
   ]
  },
  {
   "cell_type": "code",
   "execution_count": null,
   "metadata": {},
   "outputs": [],
   "source": [
    "// ..."
   ]
  },
  {
   "cell_type": "markdown",
   "metadata": {},
   "source": [
    "## Und wieder weg!\n",
    "\n",
    "Mit dem Operator `delete`können wir den Speicher auf den ein Zeiger zeigt wieder freigeben. Dabei wird das Objekt zerstört. Also machen wir erst mal ein Objekt."
   ]
  },
  {
   "cell_type": "code",
   "execution_count": 8,
   "metadata": {},
   "outputs": [],
   "source": [
    "#include <algoviz/SVG.hpp>\n",
    "using namespace std;\n",
    "\n",
    "AlgoViz::clear();\n",
    "\n",
    "// Unser Zeiger auf die Kreise\n",
    "Circle *zeiger = nullptr;\n",
    "\n",
    "SVG zeichnung = SVG(400,400);\n",
    "\n",
    "// Jetzt machen wir es\n",
    "zeiger = new Circle(200,200,100,&zeichnung);"
   ]
  },
  {
   "cell_type": "markdown",
   "metadata": {},
   "source": [
    "Und jetzt löschen wir es wieder."
   ]
  },
  {
   "cell_type": "code",
   "execution_count": 9,
   "metadata": {},
   "outputs": [],
   "source": [
    "delete zeiger;"
   ]
  },
  {
   "cell_type": "markdown",
   "metadata": {},
   "source": [
    "Wie man sieht verschwindet der Kreis."
   ]
  },
  {
   "cell_type": "markdown",
   "metadata": {},
   "source": [
    "Wenn man ein Objekt gelöscht oder zerstört hat, führt ein Zugriff über den Zeiger aber in der Regel zu Problemen. Häufig stürzt das Programm dann ab. In Jupyter Notebooks heisst das, dass der Kernel stirbt."
   ]
  },
  {
   "cell_type": "code",
   "execution_count": null,
   "metadata": {},
   "outputs": [],
   "source": [
    "zeiger->setFill(\"green\");"
   ]
  },
  {
   "cell_type": "markdown",
   "metadata": {},
   "source": [
    "<div class=\"prereq\">\n",
    "    <h3>Merke!</h3>\n",
    "    <div>\n",
    "        Wurde ein bjekt mit <tt>delete</tt> gelöscht führt ein erneuter Zugriff zum Absturz!\n",
    "    </div>\n",
    "</div>"
   ]
  },
  {
   "cell_type": "markdown",
   "metadata": {},
   "source": [
    "<div class=\"task\">\n",
    "    <h3>Aufgabe</h3>\n",
    "    <div>\n",
    "        Ergänzen Sie ihr Programm aus der vorherigen Aufgabe darum, dass die Kreise nach 10 Sekunden wieder nacheinander im Abstand von jeweils 1 Sekunde gelöscht werden. Alle!\n",
    "    </div>\n",
    "</div>"
   ]
  },
  {
   "cell_type": "markdown",
   "metadata": {},
   "source": [
    "<div class=\"followup\">\n",
    "    <h3>Wo es weiter geht</h3>\n",
    "    <div>Ein weiteres <a class=\"followup\" href=\"/user-redirect/algoviz/lessons/05_Objekte/04_Raindrops.ipynb\">Beispiel</a> für die Nutzung dynamischer Objekte (ja wieder Kreise - sieht einfach schöner aus) ist gut, um sich mit den neuen Konzepten auseinanderzusetzen. Ansonsten geht es damit weiter, wie man eigene <a class=\"followup\" href=\"/user-redirect/algoviz/lessons/05_Objekte/05_Klassen.ipynb\">Klassen</a> schreibt.\n",
    "    </div>\n",
    "</div>   "
   ]
  }
 ],
 "metadata": {
  "kernelspec": {
   "display_name": "C++17",
   "language": "C++17",
   "name": "xcpp17"
  },
  "language_info": {
   "codemirror_mode": "text/x-c++src",
   "file_extension": ".cpp",
   "mimetype": "text/x-c++src",
   "name": "c++",
   "version": "17"
  }
 },
 "nbformat": 4,
 "nbformat_minor": 4
}
