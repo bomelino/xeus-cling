{
 "cells": [
  {
   "cell_type": "markdown",
   "metadata": {},
   "source": [
    "# Zeiger"
   ]
  },
  {
   "cell_type": "markdown",
   "metadata": {},
   "source": [
    "<div class=\"prereq\">\n",
    "    <h3>Was man wissen sollte</h3>\n",
    "    <div>\n",
    "        Um Zeiger zu verstehen, sind \n",
    "        <a class=\"prereq\" href=\"/user-redirect/algoviz/lessons/05_Objekte/01_Referenzen.ipynb\">\n",
    "            Referenzen und Adressen</a> unerlässlich.\n",
    "    </div>\n",
    "</div>"
   ]
  },
  {
   "cell_type": "code",
   "execution_count": 2,
   "metadata": {},
   "outputs": [],
   "source": [
    "#include <iostream>\n",
    "using namespace std;"
   ]
  },
  {
   "cell_type": "markdown",
   "metadata": {},
   "source": [
    "Wie wir bereits gesehen haben hat jede Variable, jeder gespeicherte Wert und jedes Objekt eine Adresse, die angibt, wo sich sein Speicherbereich befindet. Diese kann man auch selbst in einer Variablen speichern. Dazu muss man diese Variable als **Zeiger** oder **Pointer** deklarieren. Dies geschieht, indem man bei der Deklaration ein `*` voranstellt.\n",
    "\n",
    "Im folgenden Beipspiel deklarieren wir eine `int`-Variable und einen Zeiger auf einen `int`-Wert."
   ]
  },
  {
   "cell_type": "code",
   "execution_count": 6,
   "metadata": {},
   "outputs": [],
   "source": [
    "int variable = 42;        // Die Variable\n",
    "int *zeiger = &variable;  // Ein Zeiger auf einen int-Wert."
   ]
  },
  {
   "cell_type": "markdown",
   "metadata": {},
   "source": [
    "`zeiger` enthält jetzt die Adresse von `variable`.\n",
    "\n",
    "![Zeiger zeigt auf Variable](/user-redirect/algoviz/img/05_Objekte/Zeiger.png)"
   ]
  },
  {
   "cell_type": "code",
   "execution_count": 7,
   "metadata": {},
   "outputs": [
    {
     "name": "stdout",
     "output_type": "stream",
     "text": [
      "Adresse von variable = 0x7f2369d71048\n",
      "Wert von zeiger = 0x7f2369d71048\n"
     ]
    }
   ],
   "source": [
    "cout << \"Adresse von variable = \" << &variable << endl;\n",
    "cout << \"Wert von zeiger = \" << zeiger << endl;"
   ]
  },
  {
   "cell_type": "markdown",
   "metadata": {},
   "source": [
    "Der Name **Zeiger** oder **Pointer** resultiert aus dem Bild, dass er auf den Wert im Speicher \"zeigt\". Daher verwenden wir im Folgenden Bilder dieser Form, die darstellen, worauf der Zeiger zeigt.\n",
    "\n",
    "![Zeiger zeigt auf Variable](/user-redirect/algoviz/img/05_Objekte/Zeiger2.png)"
   ]
  },
  {
   "cell_type": "markdown",
   "metadata": {},
   "source": [
    "Hat man einen Zeiger, dann kann auf den Wert auf den er zeigt zugreifen. Dazu müssen wir den Zeiger **dereferenziern**, oder etwas salopper gesagt: **wir greifen durch den Zeiger durch**. Dies geschieht, indem man der Zeiger Variable wieder ein `*` voranstellt."
   ]
  },
  {
   "cell_type": "code",
   "execution_count": 8,
   "metadata": {},
   "outputs": [
    {
     "name": "stdout",
     "output_type": "stream",
     "text": [
      "Wert auf den zeiger zeigt = 42\n",
      "Die Adresse auf die zeiger zeigt = 0x7f2369d71048\n"
     ]
    }
   ],
   "source": [
    "// *zeiger greift durch den Zeiger durch und gibt den Wert zurück.\n",
    "\n",
    "cout << \"Wert auf den zeiger zeigt = \" << *zeiger << endl;\n",
    "\n",
    "cout << \"Die Adresse auf die zeiger zeigt = \" << zeiger << endl;"
   ]
  },
  {
   "cell_type": "markdown",
   "metadata": {},
   "source": [
    "## Der Adress- und der Dereferenzierungs-Operator\n",
    "\n",
    "Wie man sieht spielen der Adressoperator `&` und der Dereferenzierungs-Operator `*` Doppelrollen.\n",
    "\n",
    "Bei der **Deklaration von Variablen** bezeichnet `&` **Referenz-Variablen oder -Parameter**, während  `*` einen Zeiger kennzeichnet.\n",
    "\n",
    "Beim **Zugriff auf Variablen** wird `&` genutzt, um die Adresse einer Variable zu ermitteln, während `*` einen Zeiger dereferenziert. Damit sind die beiden Operatoren im Grunde zueinander invers. Um das zu sehen, betrachten wir eine `int`-Variable und einen `int`-Zeiger, d.h. einen Zeiger auf einen `int`-Wert im Speicher."
   ]
  },
  {
   "cell_type": "code",
   "execution_count": 5,
   "metadata": {},
   "outputs": [],
   "source": [
    "int frieda = 42;\n",
    "int *anneliese = &frieda;"
   ]
  },
  {
   "cell_type": "markdown",
   "metadata": {},
   "source": [
    "Die folgende Zeile holt sich erst die Adresse von `frieda` und dereferenziert sie anschließend. Daher erhalten wir den Wert von `frieda`. <a style=\"float:right\" href=\"https://www.youtube.com/watch?v=CgMZB3LvphY\">(...)</a>"
   ]
  },
  {
   "cell_type": "code",
   "execution_count": 3,
   "metadata": {},
   "outputs": [
    {
     "data": {
      "text/plain": [
       "42"
      ]
     },
     "execution_count": 3,
     "metadata": {},
     "output_type": "execute_result"
    }
   ],
   "source": [
    "*(&frieda)"
   ]
  },
  {
   "cell_type": "markdown",
   "metadata": {},
   "source": [
    "Die folgende Kombination dereferenziert zuerst `anneliese` und bestimmt dann die Adresse des Wertes. Also ergibt sich wieder die Adresse von `anneliese`."
   ]
  },
  {
   "cell_type": "code",
   "execution_count": 6,
   "metadata": {},
   "outputs": [
    {
     "data": {
      "text/plain": [
       "@0x7ffcc6b4a6d0"
      ]
     },
     "execution_count": 6,
     "metadata": {},
     "output_type": "execute_result"
    }
   ],
   "source": [
    "cout << &(*anneliese) << endl;"
   ]
  },
  {
   "cell_type": "markdown",
   "metadata": {},
   "source": [
    "Prüfen wir das nocheinmal direkt."
   ]
  },
  {
   "cell_type": "code",
   "execution_count": 7,
   "metadata": {},
   "outputs": [
    {
     "data": {
      "text/plain": [
       "@0x7ffcc6b4a6d0"
      ]
     },
     "execution_count": 7,
     "metadata": {},
     "output_type": "execute_result"
    }
   ],
   "source": [
    "cout << anneliese << endl;"
   ]
  },
  {
   "cell_type": "markdown",
   "metadata": {},
   "source": [
    "## Die Veränderung des Werts \"hinter\" einem Zeiger\n",
    "\n",
    "Hat man einen Zeiger auf einen Wert, dann kann man ihm mit Hilfe des Dereferenzierungs-Operators neue Werte zuweisen. Dabei muss der Zeiger, wie eine Variable auf der **linken** Seite der Zuweisung stehen. Allerdings darf man den Dereferenzierungs-Operator nicht vergessen!"
   ]
  },
  {
   "cell_type": "code",
   "execution_count": 26,
   "metadata": {},
   "outputs": [
    {
     "data": {
      "text/plain": [
       "89"
      ]
     },
     "execution_count": 26,
     "metadata": {},
     "output_type": "execute_result"
    }
   ],
   "source": [
    "*anneliese = 89;   // Der Wert auf den anneliese zeigt wird verändert."
   ]
  },
  {
   "cell_type": "code",
   "execution_count": 25,
   "metadata": {},
   "outputs": [
    {
     "name": "stderr",
     "output_type": "stream",
     "text": [
      "\u001b[1minput_line_42:2:14: \u001b[0m\u001b[0;1;31merror: \u001b[0m\u001b[1massigning to 'int *' from incompatible type 'int'\u001b[0m\n",
      " anneliese = 90;   // Das geht nicht, da 89 keine Adresse ist!\n",
      "\u001b[0;1;32m             ^~\n",
      "\u001b[0m"
     ]
    },
    {
     "ename": "Interpreter Error",
     "evalue": "",
     "output_type": "error",
     "traceback": [
      "Interpreter Error: "
     ]
    }
   ],
   "source": [
    "anneliese = 90;   // Das geht nicht, da 89 keine Adresse ist!"
   ]
  },
  {
   "cell_type": "markdown",
   "metadata": {},
   "source": [
    "<div class=\"task\">\n",
    "    <h3>Aufgabe</h3>\n",
    "    <center>\n",
    "    <img src=\"/user-redirect/algoviz/img/05_Objekte/KirkPicardSpock.png\"></img>\n",
    "    </center>\n",
    "    <div>\n",
    "        Überlegen Sie, welche Ausgabe der folgende Code-Abschnitt ergibt <b>bevor</b> Sie ihn ausführen.\n",
    "        Vollziehen Sie die einzelnen Schritte grafisch nach.\n",
    "    </div>\n",
    "</div>"
   ]
  },
  {
   "cell_type": "code",
   "execution_count": 11,
   "metadata": {},
   "outputs": [
    {
     "name": "stdout",
     "output_type": "stream",
     "text": [
      "A: 42\n",
      "B: -42\n",
      "C: 42\n",
      "D: 3\n",
      "E: 3\n",
      "F: 42\n",
      "G: 42\n"
     ]
    }
   ],
   "source": [
    "#include <iostream>\n",
    "using namespace std;\n",
    "\n",
    "int spock = 42;\n",
    "int mirrorSpock = -42;\n",
    "\n",
    "int *picard = &spock;\n",
    "int *kirk = &mirrorSpock;\n",
    "\n",
    "cout << \"A: \" << *picard << endl;\n",
    "cout << \"B: \" << *kirk << endl;\n",
    "\n",
    "kirk = picard;\n",
    "\n",
    "cout << \"C: \" << *kirk << endl;\n",
    "\n",
    "*picard = 3;\n",
    "\n",
    "cout << \"D: \" << *kirk << endl;\n",
    "cout << \"E: \" << spock << endl;\n",
    "\n",
    "picard = &mirrorSpock;\n",
    "mirrorSpock = -(*picard);\n",
    "\n",
    "cout << \"F: \" << *picard << endl;\n",
    "cout << \"G: \" << mirrorSpock << endl;"
   ]
  },
  {
   "cell_type": "markdown",
   "metadata": {},
   "source": [
    "## Die Initialisierung von Zeigern"
   ]
  },
  {
   "cell_type": "markdown",
   "metadata": {},
   "source": [
    "<div class=\"prereq\">\n",
    "    <h3>Warnung!</h3>\n",
    "    <div>\n",
    "        <img style=\"float:right\" width=\"250px\" src=\"/user-redirect/algoviz/img/05_Objekte/RedAlert.jpg\"></a>\n",
    "        <p style=\"font-size: 200%; line-height: 1.2;\">\n",
    "        Deklarieren Sie <b>NIEMALS</b> einen Zeiger ohne ihn zu initialisieren!\n",
    "        </p>\n",
    "        <br/>\n",
    "        <center style=\"font-size:200%;\">\n",
    "            <span style=\"text-decoration: line-through red\"><tt>int *zeiger;</tt></span>\n",
    "        </center>\n",
    "        <p style=\"font-size: 150%; line-height: 1.2;\">\n",
    "            Anschließend zeigt er <b>IRGENDWO</b> hin! Man weiß also nicht, welche Wirkung eine Veränderung des Wertes\n",
    "            haben wird!\n",
    "        </p>\n",
    "        <p style=\"font-size: 150%; line-height: 1.2;\">\n",
    "            Nicht initialiserte Zeiger sind eine <b>Sicherheitslücke</b>, die unter Umständen auf unvorhergesehene \n",
    "            Weise genutzt werden kann!\n",
    "        </p>\n",
    "    </div>\n",
    "</div>"
   ]
  },
  {
   "cell_type": "markdown",
   "metadata": {},
   "source": [
    "Wenn Sie einen Zeiger anlegen und ihm nicht sofort eine Adresse zuweisen, sollten Sie ihn  mit dem **Nullzeiger** `nullptr` initialisieren."
   ]
  },
  {
   "cell_type": "code",
   "execution_count": 19,
   "metadata": {},
   "outputs": [],
   "source": [
    "int *zeiger = nullptr;"
   ]
  },
  {
   "cell_type": "markdown",
   "metadata": {},
   "source": [
    "Der Nullzeiger zeigt auf keinen Wert und lässte es nicht zu, dass er dereferenziert wird. Das führt bei der Ausführung zu einem Fehler."
   ]
  },
  {
   "cell_type": "code",
   "execution_count": 27,
   "metadata": {},
   "outputs": [
    {
     "name": "stderr",
     "output_type": "stream",
     "text": [
      "\u001b[1minput_line_45:2:3: \u001b[0m\u001b[0;1;35mwarning: \u001b[0m\u001b[1mnull passed to a callee that requires a non-null argument [-Wnonnull]\u001b[0m\n",
      " *zeiger = 5;\n",
      "\u001b[0;1;32m  ^~~~~~\n",
      "\u001b[0m"
     ]
    },
    {
     "ename": "Interpreter Exception",
     "evalue": "",
     "output_type": "error",
     "traceback": [
      "Interpreter Exception: "
     ]
    }
   ],
   "source": [
    "*zeiger = 5;"
   ]
  },
  {
   "cell_type": "markdown",
   "metadata": {},
   "source": [
    "Daher sollte man **vor** der Dereferenzierung eines Zeigers sicherstellen, dass er nicht auf `nullptr` zeigt."
   ]
  },
  {
   "cell_type": "code",
   "execution_count": 28,
   "metadata": {},
   "outputs": [
    {
     "name": "stdout",
     "output_type": "stream",
     "text": [
      "Nullzeiger!\n"
     ]
    }
   ],
   "source": [
    "if ( zeiger != nullptr ) {\n",
    "    cout << *zeiger << endl;\n",
    "} else {\n",
    "    cout << \"Nullzeiger!\" << endl;\n",
    "}"
   ]
  },
  {
   "cell_type": "markdown",
   "metadata": {},
   "source": [
    "<div class=\"followup\">\n",
    "    <h3>Wo es weiter geht</h3>\n",
    "    <div>Bislang fehlt uns noch der Grund, warum wir Zeiger benötigen. Ein wesentlicher Grund sind\n",
    "    <a class=\"followup\" href=\"/user-redirect/algoviz/lessons/05_Objekte/03_DynamischeObjekte.ipynb\">dynamische Objekte</a>, die\n",
    "        wir daher als nächstes betrachten.\n",
    "    </div>\n",
    "</div>   "
   ]
  }
 ],
 "metadata": {
  "kernelspec": {
   "display_name": "C++17",
   "language": "C++17",
   "name": "xcpp17"
  },
  "language_info": {
   "codemirror_mode": "text/x-c++src",
   "file_extension": ".cpp",
   "mimetype": "text/x-c++src",
   "name": "c++",
   "version": "17"
  }
 },
 "nbformat": 4,
 "nbformat_minor": 4
}
