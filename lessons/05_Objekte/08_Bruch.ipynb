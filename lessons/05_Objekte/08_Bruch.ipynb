{
 "cells": [
  {
   "cell_type": "markdown",
   "metadata": {},
   "source": [
    "# Eine Klasse in einer Datei"
   ]
  },
  {
   "cell_type": "markdown",
   "metadata": {},
   "source": [
    "<div class=\"prereq\">\n",
    "    <h3>Was man wissen sollte</h3>\n",
    "    <div>\n",
    "        Sich im Detail mit Konstruktoren zu beschäftigen macht nur Sinn, wenn man bereits weiß, wie man \n",
    "        <a class=\"prereq\" href=\"/user-redirect/algoviz/lessons/05_Objekte/05_Klassen.ipynb\">Klassen\n",
    "            implementiert</a>, was <a class=\"prereq\" href=\"/user-redirect/algoviz/lessons/05_Objekte/06_Konstruktoren.ipynb\">Konstruktoren und Destruktoren sind</a> und\n",
    "        wie man <a class=\"prereq\" href=\"/user-redirect/algoviz/lessons/05_Objekte/07_Kapselung.ipynb\">\n",
    "        Die Daten kapselt.</a>\n",
    "    </div>\n",
    "</div>"
   ]
  },
  {
   "cell_type": "markdown",
   "metadata": {},
   "source": [
    "Wie wir schon gesehen haben, ist es doch recht lästig Klassen in Jupyter Notebooks zu deklarieren und zu definieren. Daher lagert man sie am Besten in externe Dateien aus, die nur den Quelltext für die Klasse enthalten. Die entsprechende Date für die Klasse `Bruch` finden Sie in der Datei [Bruch.hpp](/user-redirect/algoviz/lessons/05_Objekte/Bruch.hpp).\n",
    "\n",
    "Die Datei kann auch mit Jupyter Notebook bearbeitet werden.\n",
    "\n",
    "Um sie zu nutzen, muss sie mit `#include` eingebunden werden. Dabei muss der Dateiname in doppelte Anführungszeichen `\" ... \"` gesetzt werden."
   ]
  },
  {
   "cell_type": "code",
   "execution_count": 1,
   "metadata": {},
   "outputs": [],
   "source": [
    "#include \"Bruch.hpp\""
   ]
  },
  {
   "cell_type": "markdown",
   "metadata": {},
   "source": [
    "Jetzt können wir die Klasse Bruch nutzen."
   ]
  },
  {
   "cell_type": "code",
   "execution_count": 2,
   "metadata": {},
   "outputs": [],
   "source": [
    "Bruch test = Bruch(42,3,17);\n",
    "test.print();"
   ]
  },
  {
   "cell_type": "code",
   "execution_count": 4,
   "metadata": {},
   "outputs": [
    {
     "name": "stdout",
     "output_type": "stream",
     "text": [
      "2(11/13)"
     ]
    }
   ],
   "source": [
    "Bruch faktor = Bruch(37,13);\n",
    "faktor.print();"
   ]
  },
  {
   "cell_type": "code",
   "execution_count": 5,
   "metadata": {},
   "outputs": [
    {
     "name": "stdout",
     "output_type": "stream",
     "text": [
      "120(9/221)"
     ]
    }
   ],
   "source": [
    "test.mult(faktor);\n",
    "test.print();"
   ]
  },
  {
   "cell_type": "code",
   "execution_count": 6,
   "metadata": {},
   "outputs": [
    {
     "name": "stdout",
     "output_type": "stream",
     "text": [
      "1"
     ]
    }
   ],
   "source": [
    "test = Bruch(1);\n",
    "test.print();"
   ]
  },
  {
   "cell_type": "code",
   "execution_count": 9,
   "metadata": {},
   "outputs": [
    {
     "name": "stdout",
     "output_type": "stream",
     "text": [
      "0(1/2)\n",
      "8"
     ]
    }
   ],
   "source": [
    "Bruch divisor = Bruch(1,2);\n",
    "divisor.print();\n",
    "cout << endl;\n",
    "\n",
    "test.div(divisor);\n",
    "test.print();"
   ]
  },
  {
   "cell_type": "markdown",
   "metadata": {},
   "source": [
    "<div class=\"task\">\n",
    "    <h3>Aufgabe</h3>\n",
    "    <div>\n",
    "        Machen Sie sich mit der Implementierung der Klasse Bruch vertraut. Vollziehen Sie die Implementierung\n",
    "        der arithmetischen Operationen nach.        \n",
    "    <div>\n",
    "</div>"
   ]
  },
  {
   "cell_type": "markdown",
   "metadata": {},
   "source": [
    "## Kürzen mit einem algorithmischen Klassiker\n",
    "\n",
    "Unser nächstes Ziel ist es, den gebrochenen Anteil eines Bruch vollständig zu kürzen. Dazu müssen wir den **größten gemeinsamen Teiler** des Zählers und des Nenners ermitteln und beide durch ihn zu teilen.\n",
    "\n",
    "Die Ermittlung des größten gemeinsamen Teilers ist ein algorithmischer Klassiker, der bereits von \n",
    "[Euklid](https://de.wikipedia.org/wiki/Euklid) entwickelt wurde. Daher wird das Verfahren auch **Euklidischer Algorithmus** genannt. Im Original hat er ihn so formuliert:\n",
    "\n",
    "> Wenn CD aber AB nicht misst, und man nimmt bei AB, CD abwechselnd immer das kleinere vom größeren weg, \n",
    "> dann muss (schließlich) eine Zahl übrig bleiben, die die vorangehende misst.\n",
    "\n",
    "Er bezog ihn auf zwei Längen CD und AB. Schreibt man ihn auf Zhalen um, ergibt sich die folgende Formulierung.\n",
    "\n",
    "> Wenn die kleinere Zahl $b$ die größere $a$ nicht teilt, und man subtrahiert von $a$ und $b$ immer \n",
    "> das kleinere vom größeren, dann bleibt schließlich eine Zahl übrig, die die vorangehende teilt.\n",
    "\n",
    "Oder etwas anders formuliert: Man zieht wiederholt die kleinere von der größeren Zahl ab, bis beide gleich sind. Dies ist dann der größte gemeinsame Teiler der beiden anfänglichen Zahlen. Hier als Pseudocode\n",
    "\n",
    "    WENN a = 0 DANN\n",
    "        Gib b zurück\n",
    "    SONST\n",
    "        SOLANGE b != 0 TUE\n",
    "            WENN a > b DANN\n",
    "                a = a-b\n",
    "            SONST\n",
    "                b = b-a\n",
    "            ENDE\n",
    "        ENDE\n",
    "        Gib a zurück\n",
    "    ENDE\n",
    "    \n",
    "        \n",
    "\n"
   ]
  },
  {
   "cell_type": "markdown",
   "metadata": {},
   "source": [
    "<div class=\"task\">\n",
    "    <h3>Aufgabe</h3>\n",
    "    <div>\n",
    "        Verwenden Sie den euklidischen Algorithmus, um diene Operation <tt>kuerzen()</tt> zu implementieren,\n",
    "        die den gebrochenen Anteil kürzt. Dabei soll der zu kürzende Bruch als Parameter übergeben werden \n",
    "        (als Referenz-Parameter oder nicht?).\n",
    "    <div>\n",
    "    <div>\n",
    "        Überlegen Sie sich, wie Sie den größten gemeinsamen Teiler mit Hilfe der ganzzahligen Division und\n",
    "        des Divisionsrestes schneller berechnen können (Hinweis: was ist, wenn die kleinere Zahl mehrmals \n",
    "        in die größere passt?)\n",
    "    </div>\n",
    "</div>"
   ]
  },
  {
   "cell_type": "markdown",
   "metadata": {},
   "source": [
    "<div class=\"followup\">\n",
    "    <h3>Wo es weiter geht</h3>\n",
    "    <div>\n",
    "        Wir werden uns im folgenden mit den ersten <a class =\"followup\" href=\"/user-redirect/algoviz/lessons/06_ADT/00_AbstrakteDatentypen.ipynb\">abstrakten Datentypen</a>\n",
    "        beschäftigen.\n",
    "    </div>\n",
    "</div>   "
   ]
  }
 ],
 "metadata": {
  "kernelspec": {
   "display_name": "C++17",
   "language": "C++17",
   "name": "xcpp17"
  },
  "language_info": {
   "codemirror_mode": "text/x-c++src",
   "file_extension": ".cpp",
   "mimetype": "text/x-c++src",
   "name": "c++",
   "version": "17"
  }
 },
 "nbformat": 4,
 "nbformat_minor": 4
}
