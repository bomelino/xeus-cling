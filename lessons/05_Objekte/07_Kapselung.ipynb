{
 "cells": [
  {
   "cell_type": "markdown",
   "metadata": {},
   "source": [
    "# Kapselung"
   ]
  },
  {
   "cell_type": "markdown",
   "metadata": {},
   "source": [
    "<div class=\"prereq\">\n",
    "    <h3>Was man wissen sollte</h3>\n",
    "    <div>\n",
    "        Sich im Detail mit Konstruktoren zu beschäftigen macht nur Sinn, wenn man bereits weiß, wie man \n",
    "        <a class=\"prereq\" href=\"/user-redirect/algoviz/lessons/05_Objekte/05_Klassen.ipynb\">Klassen\n",
    "            implementiert</a>. Außerdem werden wir Objekte <a class=\"prereq\" href=\"/user-redirect/algoviz/lessons/05_Objekte/03_DynamischeObjekte.ipynb\">dynamisch erzeugen</a>.\n",
    "    </div>\n",
    "</div>"
   ]
  },
  {
   "cell_type": "markdown",
   "metadata": {},
   "source": [
    "<div class=\"prereq\">\n",
    "    <h3>ACHTUNG!!!</h3>\n",
    "    <div>\n",
    "        Da wir in dieser Lesson die Klasse Bruch immer wieder neu deklarieren ist es notwendig regelmäßig \n",
    "        den Kernel neu zu starten, um ohne Fehler weitermachenzu können. In den entsprechenden Zellen ist\n",
    "        immer ein Hinweis dafür hinterlegt! Sie sollten dann die Zellen davor NICHT erneut ausführen!\n",
    "    </div>\n",
    "</div>"
   ]
  },
  {
   "cell_type": "markdown",
   "metadata": {},
   "source": [
    "In dieser Lesson entwickeln wir die Klasse `Bruch` zur Repräsentation werden wir schrittweise eine Klasse für die Repräsentation von [**gemischten Brüchen**](https://de.wikipedia.org/wiki/Bruchrechnung#Gemischte_Br%C3%BCche) weiter. Dabei widmen wir uns hier mit dem **Erzeugen** und dem **Zerstören** von Objekten.\n",
    "\n",
    "Dabei werden wir im Kern auf die bisherige Klasse `Bruch` zurückgreifen. Allerdings assen wir aus Gründen der Übersichtlichkeit einige der [Konstruktoren](/user-redirect/algoviz/lessons/05_Objekte/06_Konstruktoren.ipynb) und Methoden weg."
   ]
  },
  {
   "cell_type": "markdown",
   "metadata": {},
   "source": [
    "In der bisherigen Implementierung können wir frei auf die Attrbute zugreifen und sie auch verändern. Dadurch haben wir keine Kontrolle darüber, ob die Einschränkungen, die üblicherweise für gemischte Brüche gelten auch eingehalten werden.\n",
    "\n",
    "Hier sind sie nochmal:\n",
    "- Der Zähler ist größer gleich Null.\n",
    "- Der Nenner ist größer als Null.\n",
    "- Der Zähler ist echt kleiner als der Nenner.\n",
    "\n",
    "Was wir jetzt erreichen wollen ist, dass das Objekt selbst immer dafür sorgt, dass die Einschränkungen gelten. Dazu führen wir als erstes eine Methode `repair()` ein, die sie überprüft und die Werte gegebenenfalls umrechnet. Dabei muss der Fall dass der Nenner 0 ist aber gesondert betrachtet werden."
   ]
  },
  {
   "cell_type": "code",
   "execution_count": 1,
   "metadata": {},
   "outputs": [],
   "source": [
    "// ACHTUNG!\n",
    "//\n",
    "// Da wir den Standardkonstruktor jetz ändern, sollte vor dem Ausführen dieser Zelle\n",
    "// Der Kernel neu gestartet werden. Sonst kommt es später zu Fehlern!\n",
    "\n",
    "#include <iostream>\n",
    "using namespace std;\n",
    "\n",
    "class Bruch {\n",
    "    \n",
    "    public:\n",
    "    \n",
    "        // Die Attribute\n",
    "        int ganzerAnteil;\n",
    "        int zaehler;\n",
    "        int nenner;\n",
    "    \n",
    "    \n",
    "        // Der Standardkonstruktor\n",
    "        Bruch() {\n",
    "            // Wir legen alle Werte so fest, dass wir 0 darstellen.\n",
    "            ganzerAnteil = 0;\n",
    "            zaehler = 0;\n",
    "            nenner = 1;\n",
    "        }\n",
    "    \n",
    "        // Unser Hauptkonstruktor\n",
    "        Bruch(int ganzerAnteil, int zaehler, int nenner) {            \n",
    "            this-> ganzerAnteil = ganzerAnteil;\n",
    "            this->zaehler = zaehler;\n",
    "            this->nenner = nenner;\n",
    "            \n",
    "            // Repariere den Bruch\n",
    "            repair();\n",
    "        }\n",
    "    \n",
    "        // Gib den Bruch aus.\n",
    "        void print() {\n",
    "            cout << ganzerAnteil << \"(\" << zaehler << \"/\" << nenner << \")\";\n",
    "        }\n",
    "    \n",
    "    \n",
    "        // NEU!!!\n",
    "        // Die Reparatur der Eigenschaften\n",
    "        void repair();\n",
    "    \n",
    "        // Prüfe ob der Nenner 0 ist\n",
    "        bool isNumber();\n",
    "}"
   ]
  },
  {
   "cell_type": "markdown",
   "metadata": {},
   "source": [
    "Nachdem wir sie deklariert haben können wir sie implementieren. Dabei gehen wir schrittweise vor."
   ]
  },
  {
   "cell_type": "code",
   "execution_count": 2,
   "metadata": {},
   "outputs": [],
   "source": [
    "void Bruch::repair() {\n",
    "    \n",
    "    if ( nenner == 0 ) {\n",
    "        // Setzte alles auf 0!\n",
    "        zaehler = 0;\n",
    "        ganzerAnteil = 0;\n",
    "    } else {\n",
    "        \n",
    "        // Als erstes prüfen wir die Vorzeichen\n",
    "        \n",
    "        int vorzeichen = 1;\n",
    "        // Ist der Zähler negativ, merken wir uns das Vorzeichen\n",
    "        if ( zaehler < 0 ) {\n",
    "            vorzeichen = -vorzeichen;\n",
    "            zaehler = -zaehler;\n",
    "        }\n",
    "\n",
    "        // Ist der Nenner negativ, merken wir und das Vorzeichen\n",
    "        if ( nenner < 0 ) {\n",
    "            vorzeichen = -vorzeichen;\n",
    "            nenner = -nenner;\n",
    "        }\n",
    "        \n",
    "        // Wenn der Zähler zu groß ist ...\n",
    "        if ( zaehler >= nenner ) {\n",
    "            // .. addiere den Quotienten zum ganzzahligen Anteil\n",
    "            ganzerAnteil += vorzeichen * zaehler/nenner;\n",
    "            // .. und behalte den Divisionsrest als Zähler\n",
    "            zaehler = zaehler % nenner;\n",
    "        }\n",
    "    }\n",
    "    \n",
    "}"
   ]
  },
  {
   "cell_type": "markdown",
   "metadata": {},
   "source": [
    "Mit `isNumber()` können wir prüfen, ob der Nenner 0 ist."
   ]
  },
  {
   "cell_type": "code",
   "execution_count": 3,
   "metadata": {},
   "outputs": [],
   "source": [
    "bool Bruch::isNumber() {\n",
    "    // Gebe true zurück, falls der Nenner != 0 ist.\n",
    "    return ( nenner != 0 );\n",
    "}"
   ]
  },
  {
   "cell_type": "markdown",
   "metadata": {},
   "source": [
    "Jetzt haben wir zwar eine Methode mit der wir die Bedingungen reparieren, wenn sie nicht vorliegen. Das können wir z.B. in unserem Konstruktor einbauen."
   ]
  },
  {
   "cell_type": "code",
   "execution_count": 4,
   "metadata": {},
   "outputs": [
    {
     "name": "stdout",
     "output_type": "stream",
     "text": [
      "40(1/13)"
     ]
    }
   ],
   "source": [
    "Bruch test = Bruch(42,-27,13);\n",
    "test.print();"
   ]
  },
  {
   "cell_type": "markdown",
   "metadata": {},
   "source": [
    "Aber wir sind immer noch nicht sicher, dass sie aufgerufen wird, wenn ein Attribut direkt verändert wird. Um das sicherzustellen, müssten wir erzwingen, dass man die Attribute nur mittels einer Methode verändern kann.\n",
    "Dazu müssen wir díe **Sichtbarkeit** der Attribute ändern. Statt sie `public` - als öffentlich - zu machen, sollten wir sie `private` machen. In diesem Fall würde nur die Klasse selbst auf sie zugreifen können (Das Phänomen hatten wir schon ganz am [Anfang](/user-redirect/algoviz/lessons/05_Objekte/05_Klassen.ipynb)).\n",
    "\n",
    "Im Gegenzug dazu führen wir Methoden ein, die uns erlauben die Attribute zu setzen und auszulesen. Diese Methoden nennt man häufig **getter** und **setter**, da sie die entsprechenden Attribute holen (get) und setzen (set). Das spiegelt sich auch in der Namensgebung wieder."
   ]
  },
  {
   "cell_type": "code",
   "execution_count": 1,
   "metadata": {},
   "outputs": [],
   "source": [
    "// ACHTUNG!\n",
    "//\n",
    "// Da wir den Standardkonstruktor jetz ändern, sollte vor dem Ausführen dieser Zelle\n",
    "// Der Kernel neu gestartet werden. Sonst kommt es später zu Fehlern!\n",
    "#include <iostream>\n",
    "using namespace std;\n",
    "\n",
    "class Bruch {\n",
    "    \n",
    "    // NEU!!\n",
    "    // Die Neuen Operationen sind ganz am Ende!\n",
    "    \n",
    "    // Die Attrbute sind jetzt privat\n",
    "    private:    \n",
    "        // Die Attribute\n",
    "        int ganzerAnteil;\n",
    "        int zaehler;\n",
    "        int nenner;\n",
    "    \n",
    "    \n",
    "    // Die Methoden bleiben öffentlich\n",
    "    public:\n",
    "        /**\n",
    "         * Der Standardkonstruktor\n",
    "         */\n",
    "        Bruch() {\n",
    "            // Wir legen alle Werte so fest, dass wir 0 darstellen.\n",
    "            ganzerAnteil = 0;\n",
    "            zaehler = 0;\n",
    "            nenner = 1;\n",
    "        }\n",
    "    \n",
    "        /**\n",
    "         *  Unser Hauptkonstruktor\n",
    "         */\n",
    "        Bruch(int ganzerAnteil, int zaehler, int nenner) {            \n",
    "            this-> ganzerAnteil = ganzerAnteil;\n",
    "            this->zaehler = zaehler;\n",
    "            this->nenner = nenner;\n",
    "            \n",
    "            // Repariere den Bruch\n",
    "            repair();\n",
    "        }\n",
    "    \n",
    "        /**\n",
    "         * Ausgabe des Bruchs\n",
    "         */\n",
    "        void print() {\n",
    "            cout << ganzerAnteil << \"(\" << zaehler << \"/\" << nenner << \")\";\n",
    "        }\n",
    "    \n",
    "    \n",
    "        /**\n",
    "         * Die Reparatur der Eigenschaften\n",
    "         */\n",
    "        void repair() {\n",
    "    \n",
    "            if ( nenner == 0 ) {\n",
    "                // Setzte alles auf 0!\n",
    "                zaehler = 0;\n",
    "                ganzerAnteil = 0;\n",
    "            } else {\n",
    "        \n",
    "                // Als erstes prüfen wir die Vorzeichen\n",
    "        \n",
    "                int vorzeichen = 1;\n",
    "                // Ist der Zähler negativ, merken wir uns das Vorzeichen\n",
    "                if ( zaehler < 0 ) {\n",
    "                    vorzeichen = -vorzeichen;\n",
    "                    zaehler = -zaehler;\n",
    "                }\n",
    "\n",
    "                // Ist der Nenner negativ, merken wir und das Vorzeichen\n",
    "                if ( nenner < 0 ) {\n",
    "                    vorzeichen = -vorzeichen;\n",
    "                    nenner = -nenner;\n",
    "                }\n",
    "        \n",
    "                // Wenn der Zähler zu groß ist ...\n",
    "                if ( zaehler >= nenner ) {\n",
    "                    // .. addiere den Quotienten zum ganzzahligen Anteil\n",
    "                    ganzerAnteil += vorzeichen * zaehler/nenner;\n",
    "                    // .. und behalte den Divisionsrest als Zähler\n",
    "                    zaehler = zaehler % nenner;\n",
    "                }\n",
    "            }\n",
    "        } // Ende von repair()\n",
    "    \n",
    "    \n",
    "    \n",
    "        /**\n",
    "         * Prüfe ob der Bruch eine Zahl ist.\n",
    "         */\n",
    "        bool isNumber() {\n",
    "            // Gebe true zurück, falls der Nenner != 0 ist.\n",
    "            return ( nenner != 0 );\n",
    "        }\n",
    "    \n",
    "    \n",
    "        // AB HIER NEU!!!!\n",
    "        // Mit diesen Methoden können wir auf die attribute zugreifen.\n",
    "    \n",
    "        int getGanzerAnteil();\n",
    "        int getZaehler();\n",
    "        int getNenner();\n",
    "        double get();\n",
    "    \n",
    "        void setGanzerAnteil(int ganzerAnteil);\n",
    "        void setZaehler(int zaehler);\n",
    "        void setNenner(int nenner);\n",
    "        void set(int ganzerAnteil, int zaehler, int nenner);        \n",
    "}"
   ]
  },
  {
   "cell_type": "markdown",
   "metadata": {},
   "source": [
    "Wir implementieren nur den Getter und den Setter für `zaehler`. Die anderen können Sie dann selbst ergänzen."
   ]
  },
  {
   "cell_type": "code",
   "execution_count": 2,
   "metadata": {},
   "outputs": [],
   "source": [
    "int Bruch::getZaehler() {\n",
    "    return zaehler;\n",
    "}"
   ]
  },
  {
   "cell_type": "code",
   "execution_count": 3,
   "metadata": {},
   "outputs": [],
   "source": [
    "void Bruch::setZaehler(int zaehler) {\n",
    "    // Setze das Attribut auf den Parameter.\n",
    "    this->zaehler = zaehler;\n",
    "    \n",
    "    // Repariere den Bruch anschließend.\n",
    "    repair();\n",
    "}"
   ]
  },
  {
   "cell_type": "markdown",
   "metadata": {},
   "source": [
    "Probieren wir jetzt alles aus.\n",
    "\n",
    "Als erstes versuchen wir direkt auf das Attribut zuzugreifen."
   ]
  },
  {
   "cell_type": "code",
   "execution_count": 4,
   "metadata": {},
   "outputs": [],
   "source": [
    "Bruch test = Bruch(42,3,17);"
   ]
  },
  {
   "cell_type": "code",
   "execution_count": 5,
   "metadata": {},
   "outputs": [
    {
     "name": "stderr",
     "output_type": "stream",
     "text": [
      "\u001b[1minput_line_13:2:7: \u001b[0m\u001b[0;1;31merror: \u001b[0m\u001b[1m'zaehler' is a private member of 'Bruch'\u001b[0m\n",
      " test.zaehler = -27;\n",
      "\u001b[0;1;32m      ^\n",
      "\u001b[0m\u001b[1minput_line_9:12:13: \u001b[0m\u001b[0;1;30mnote: \u001b[0mdeclared private here\u001b[0m\n",
      "        int zaehler;\n",
      "\u001b[0;1;32m            ^\n",
      "\u001b[0m"
     ]
    },
    {
     "ename": "Interpreter Error",
     "evalue": "",
     "output_type": "error",
     "traceback": [
      "Interpreter Error: "
     ]
    }
   ],
   "source": [
    "test.zaehler = -27;"
   ]
  },
  {
   "cell_type": "markdown",
   "metadata": {},
   "source": [
    "Das geht nicht mehr, da das Attribute jetzt `private` ist. Aber mit `getZaehler()`geht es noch."
   ]
  },
  {
   "cell_type": "code",
   "execution_count": 6,
   "metadata": {},
   "outputs": [
    {
     "data": {
      "text/plain": [
       "3"
      ]
     },
     "execution_count": 6,
     "metadata": {},
     "output_type": "execute_result"
    }
   ],
   "source": [
    "test.getZaehler()"
   ]
  },
  {
   "cell_type": "markdown",
   "metadata": {},
   "source": [
    "Und auch das Ändern mit `setZaehler()` klappt. Außerdem wird der Bruch direkt repariert."
   ]
  },
  {
   "cell_type": "code",
   "execution_count": 7,
   "metadata": {},
   "outputs": [
    {
     "name": "stdout",
     "output_type": "stream",
     "text": [
      "41(10/17)"
     ]
    }
   ],
   "source": [
    "test.setZaehler(-27);\n",
    "test.print();"
   ]
  },
  {
   "cell_type": "markdown",
   "metadata": {},
   "source": [
    "<div class=\"task\">\n",
    "    <h3>Aufgabe</h3>\n",
    "    <div>\n",
    "        Implementieren Sie die fehlenden Getter und Setter.\n",
    "    <div>\n",
    "</div>"
   ]
  },
  {
   "cell_type": "markdown",
   "metadata": {},
   "source": [
    "## Zusammenfassung\n",
    "\n",
    "Das Prinzip, das wir gerade kennengelernt haben, ist das der **Kapselung**. Dabei sorgt man dafür, dass eine Klasse die Daten ihrer Objekte nach außen **abkapselt**. D.h. man kann die Attribute nicht einfach ändern. Stattdessen stellt sie eine Reihe von Methoden zur Verfügung, über die dies geschehen kann. Dadurch \"merkt\" das Objekt, wenn Änderungen vorgenommen werden und kann entsprechend reagieren. Das schließt unter Umständen auch die Möglichkeit ein, die Änderung zu verhindern, da dann ein ungewollter Zustand eintritt. Damit ist die **Kapselung** auch ein wesentlicher Beitrag zur **sicheren** Gestaltung von Software.\n",
    "\n",
    "In unserem beispiel bemerkt der Bruch die Änderungen der Attribute und kann dafür sorgen, dass die Restriktionen eingehalten werden. Dadurch können wir bei der Implementierung von weitern Methoden, z.B. zur Addition oder Multiplikation, garantieren, dass sie erfüllt sind."
   ]
  },
  {
   "cell_type": "markdown",
   "metadata": {},
   "source": [
    "<div class=\"followup\">\n",
    "    <h3>Wo es weiter geht</h3>\n",
    "    <div>\n",
    "        Wenn noch nicht geschehen sollte man sich jetzt mit den <a class=\"followup\" href=\"/user-redirect/algoviz/lessons/05_Objekte/06_Konstruktoren.ipynb\">Konstruktoren und Destruktoren</a> beschäftigen.\n",
    "        Ansonsten gibt es noch einmal die Zusammenfassung unserer Klasse\n",
    "        <a class=\"followup\" href=\"/user-redirect/algoviz/lessons/05_Objekte/08_Bruch.ipynb\">Bruch</a> in einer Datei.\n",
    "    </div>\n",
    "</div>   "
   ]
  }
 ],
 "metadata": {
  "kernelspec": {
   "display_name": "C++17",
   "language": "C++17",
   "name": "xcpp17"
  },
  "language_info": {
   "codemirror_mode": "text/x-c++src",
   "file_extension": ".cpp",
   "mimetype": "text/x-c++src",
   "name": "c++",
   "version": "17"
  }
 },
 "nbformat": 4,
 "nbformat_minor": 4
}
