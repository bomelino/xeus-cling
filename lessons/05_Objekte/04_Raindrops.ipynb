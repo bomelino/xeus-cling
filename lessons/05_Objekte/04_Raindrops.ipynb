{
 "cells": [
  {
   "cell_type": "markdown",
   "metadata": {},
   "source": [
    "# Beispiel : Raindrops"
   ]
  },
  {
   "cell_type": "markdown",
   "metadata": {},
   "source": [
    "<div class=\"prereq\">\n",
    "    <h3>Was man wissen sollte</h3>\n",
    "    <div>\n",
    "        Wir benötigen <a class=\"prereq\" href=\"/user-redirect/algoviz/lessons/03_Forgeschritten/04_Vektoren.ipynb\">\n",
    "            Vektoren</a> und <a class=\"prereq\" href=\"/user-redirect/algoviz/lessons/05_Objekte/03_DynamischeObjekte.ipynb\">dynamische Objekter</a>.\n",
    "    </div>\n",
    "</div>"
   ]
  },
  {
   "cell_type": "markdown",
   "metadata": {},
   "source": [
    "In desem Beispiel wollen wir eine enfache Simulation von [Regentropfen](https://vimeo.com/300140104) auf einer Wasseroberfläche programmieren. Dabei soll die Position des nächsten [Tropfen](https://vimeo.com/376098176) durch einen Klick mit der Maus bestimmt werden. Er  hinterlässt einen Kreis, der immer größer und heller wird, bis er verschwindet.\n",
    "\n",
    "Da wir nicht wissen wie häufig und wann der Nutzer klickt, erzeugen wir die [Tropfen](https://vimeo.com/392790448) dynamisch. Außerdem wollen wir sie wieder löschen, wenn sie nicht mehr sichtbar sind.\n",
    "\n",
    "Beginnen wir mit dem Anlegen unserer Wasserfläche."
   ]
  },
  {
   "cell_type": "code",
   "execution_count": 1,
   "metadata": {},
   "outputs": [],
   "source": [
    "#include <algoviz/SVG.hpp>\n",
    "using namespace std;\n",
    "\n",
    "AlgoViz::clear();\n",
    "\n",
    "// Da wier nur einen See benötigen, regeln wir das über eine globale Variable.\n",
    "SVG see = SVG(400,400);\n",
    "see.setStatusMsg(\"Beenden mit beliebiger Taste\");"
   ]
  },
  {
   "cell_type": "markdown",
   "metadata": {},
   "source": [
    "Als nächstes brauchen wir eine Schleife, die die Maus abfragt und die wir mit einer beliebigen Taste abbrechen können. Wenn der Nutzer klickt, soll statt eines [Regentropfen](https://vimeo.com/302183458) erstmal ein statischer Kreis erzeugt werden. Da er erhalten bleiben soll, regeln wir das über einen Zeiger und den `new`-Operator."
   ]
  },
  {
   "cell_type": "code",
   "execution_count": 2,
   "metadata": {},
   "outputs": [],
   "source": [
    "#include <algoviz/SVG.hpp>\n",
    "using namespace std;\n",
    "\n",
    "AlgoViz::clear();\n",
    "\n",
    "// Da wier nur einen See benötigen, regeln wir das über eine globale Variable.\n",
    "SVG see = SVG(400,400);\n",
    "see.setStatusMsg(\"Beenden mit beliebiger Taste\");\n",
    "\n",
    "string taste = \"\";\n",
    "MouseState maus;\n",
    "\n",
    "Circle *tropfen;\n",
    "\n",
    "while ( taste == \"\" ) {\n",
    "    taste = see.lastKey();\n",
    "    maus = see.lastClick();\n",
    "    \n",
    "    if ( maus.isLegal() ) {\n",
    "        // Erzeuge den tropfen am Ort des Klicks im see\n",
    "        tropfen = new Circle(maus.x(),maus.y(),10,&see);\n",
    "    }\n",
    "    \n",
    "}\n",
    "\n",
    "see.clearStatusMsg();"
   ]
  },
  {
   "cell_type": "markdown",
   "metadata": {},
   "source": [
    "Die [Tropfen](https://www.youtube.com/watch?v=l5aZJBLAu1E&list=PLjVJCxghpoEk56hosYpNaxKjHQifA8QGv) sollten nur aus dem Kreis bestehen, also machen wir die Füllung durchsichtig."
   ]
  },
  {
   "cell_type": "code",
   "execution_count": 3,
   "metadata": {},
   "outputs": [],
   "source": [
    "#include <algoviz/SVG.hpp>\n",
    "using namespace std;\n",
    "\n",
    "AlgoViz::clear();\n",
    "\n",
    "// Da wier nur einen See benötigen, regeln wir das über eine globale Variable.\n",
    "SVG see = SVG(400,400);\n",
    "see.setStatusMsg(\"Beenden mit beliebiger Taste\");\n",
    "\n",
    "string taste = \"\";\n",
    "MouseState maus;\n",
    "\n",
    "Circle *tropfen;\n",
    "\n",
    "while ( taste == \"\" ) {\n",
    "    taste = see.lastKey();\n",
    "    maus = see.lastClick();\n",
    "    \n",
    "    if ( maus.isLegal() ) {\n",
    "        // Erzeuge den tropfen am Ort des Klicks im see\n",
    "        tropfen = new Circle(maus.x(),maus.y(),10,&see);\n",
    "        \n",
    "        // MAche das innere durchsichtig.\n",
    "        tropfen->setFill(\"transparent\");\n",
    "    }\n",
    "    \n",
    "}\n",
    "\n",
    "see.clearStatusMsg();"
   ]
  },
  {
   "cell_type": "markdown",
   "metadata": {},
   "source": [
    "Jetzt kümmern wir uns um die Größe der [Regentropfen](https://www.youtube.com/watch?v=Zp-LBD_q0sQ) bzw. der Wellen. Dazu müssen wir allerdings auf jeden [Tropfen](https://www.youtube.com/watch?v=RD5b_0QB0wI) zugreifen können. Daher müssen wir die Zeiger alle neu erzeugten Kreise speichern. Das können wir sehr einfach mit einem Vector machen. Dann können wir, nachdem wir die Maus geprüft haben nochmal alle [Tropfen](https://www.youtube.com/watch?v=sySlY1XKlhM) durchlaufen und ihre Größe anpassen."
   ]
  },
  {
   "cell_type": "code",
   "execution_count": 2,
   "metadata": {},
   "outputs": [],
   "source": [
    "#include <algoviz/SVG.hpp>\n",
    "using namespace std;\n",
    "\n",
    "AlgoViz::clear();\n",
    "\n",
    "// Da wier nur einen See benötigen, regeln wir das über eine globale Variable.\n",
    "SVG see = SVG(400,400);\n",
    "see.setStatusMsg(\"Beenden mit beliebiger Taste\");\n",
    "\n",
    "string taste = \"\";\n",
    "MouseState maus;\n",
    "\n",
    "Circle *tropfen;\n",
    "\n",
    "// Der Vektor für viele Tropfen.\n",
    "vector<Circle*> regen;\n",
    "\n",
    "while ( taste == \"\" ) {\n",
    "    taste = see.lastKey();\n",
    "    maus = see.lastClick();\n",
    "    \n",
    "    if ( maus.isLegal() ) {\n",
    "        // Erzeuge den tropfen am Ort des Klicks im see\n",
    "        tropfen = new Circle(maus.x(),maus.y(),0,&see);\n",
    "        \n",
    "        // Mache das innere durchsichtig.\n",
    "        tropfen->setFill(\"transparent\");\n",
    "        \n",
    "        // Speichere den Tropfen\n",
    "        regen.push_back(tropfen);\n",
    "    }\n",
    "    \n",
    "    \n",
    "    // Durchlaufe nochmal alle Tropfen\n",
    "    for ( Circle* tropfen : regen ) {\n",
    "        // Mache Sie größer ...\n",
    "        int r = tropfen->getRadius();\n",
    "        tropfen->setRadius(r+1);\n",
    "        // ... und blasser\n",
    "        tropfen->setColor(r,r,r);\n",
    "    }\n",
    "}\n",
    "\n",
    "see.clearStatusMsg();"
   ]
  },
  {
   "cell_type": "markdown",
   "metadata": {},
   "source": [
    "Das sieht schon ganz gut aus. Aber je mehr [Tropfen](https://www.youtube.com/watch?v=esEdC0c3YI4) wir machen desto langsamer wird das Ganze. Das liegt auch daran, dass wir \"alte\" [Tropfen](https://www.youtube.com/watch?v=NXhhLZlQgO4), die gar nicht mehr zu sehen sind, nicht wegräumen. Das können wir mit `delete` machen."
   ]
  },
  {
   "cell_type": "code",
   "execution_count": null,
   "metadata": {},
   "outputs": [],
   "source": [
    "#include <algoviz/SVG.hpp>Das sieht schon ganz gut aus. Aber je mehr Tropfen wir machen desto langsamer wird das Ganze. Das liegt auch daran, dass wir \"alte\" Tropfen, die gar nicht mehr zu sehen sind, nicht wegräumen. Das können wir mit delete machen.\n",
    "\n",
    "\n",
    "using namespace std;\n",
    "\n",
    "AlgoViz::clear();\n",
    "\n",
    "// Da wier nur einen See benötigen, regeln wir das über eine globale Variable.\n",
    "SVG see = SVG(400,400);\n",
    "see.setStatusMsg(\"Beenden mit beliebiger Taste\");\n",
    "\n",
    "string taste = \"\";\n",
    "MouseState maus;\n",
    "\n",
    "Circle *tropfen;\n",
    "\n",
    "// Der Vektor für viele Tropfen.\n",
    "vector<Circle*> regen;\n",
    "\n",
    "while ( taste == \"\" ) {\n",
    "    taste = see.lastKey();\n",
    "    maus = see.lastClick();\n",
    "    \n",
    "    if ( maus.isLegal() ) {\n",
    "        // Erzeuge den tropfen am Ort des Klicks im see\n",
    "        tropfen = new Circle(maus.x(),maus.y(),0,&see);\n",
    "        \n",
    "        // Mache das innere durchsichtig.\n",
    "        tropfen->setFill(\"transparent\");\n",
    "        \n",
    "        // Speichere den Tropfen\n",
    "        regen.push_back(tropfen);\n",
    "    }\n",
    "    \n",
    "    \n",
    "    // Durchlaufe nochmal alle Tropfen\n",
    "    for ( Circle* tropfen : regen ) {\n",
    "        // Mache Sie größer ...\n",
    "        int r = tropfen->getRadius();\n",
    "        \n",
    "        // Für r = 255 sind die Tropfewn weiß und somit unsichtbar\n",
    "        if ( r < 255 ) { \n",
    "            tropfen->setRadius(r+1);\n",
    "            // ... und blasser\n",
    "            tropfen->setColor(r,r,r);\n",
    "        } else {\n",
    "            // Lösche den Tropfen\n",
    "            delete tropfen;\n",
    "        }\n",
    "    }\n",
    "}\n",
    "\n",
    "see.clearStatusMsg();"
   ]
  },
  {
   "cell_type": "markdown",
   "metadata": {},
   "source": [
    "Hmm. Wie es scheint stürzt das Programm ab, sobald der erste [Tropfen](https://www.youtube.com/watch?v=CvBfHwUxHIk) gelöscht wird. Das liegt einfach daran, dass wir beim nächsten Durchlauf wieder alle Zeiger, die in `regen` gespeichert wurden, durchlaufen. Also auch diejenigen, die wir bereits gelöscht haben. Und das führt zum Absturz.\n",
    "\n",
    "Daher sollten wir die die [Tropfen](https://www.youtube.com/watch?v=TzFnYcIqj6I) die wir löschen auch aus dem Vektor `regen` entfernen."
   ]
  },
  {
   "cell_type": "code",
   "execution_count": 1,
   "metadata": {},
   "outputs": [
    {
     "name": "stderr",
     "output_type": "stream",
     "text": [
      "\u001b[1minput_line_8:40:19: \u001b[0m\u001b[0;1;31merror: \u001b[0m\u001b[1mno matching member function for call to 'erase'\u001b[0m\n",
      "            regen.erase(tropfen);\n",
      "\u001b[0;1;32m            ~~~~~~^~~~~\n",
      "\u001b[0m\u001b[1m/home/michael/miniconda3/bin/../lib/gcc/x86_64-conda_cos6-linux-gnu/7.3.0/../../../../x86_64-conda_cos6-linux-gnu/include/c++/7.3.0/bits/stl_vector.h:1179:7: \u001b[0m\u001b[0;1;30mnote: \u001b[0mcandidate function not viable: no known conversion from 'Circle *' to 'std::vector<Circle *, std::allocator<Circle *> >::const_iterator'\n",
      "      (aka '__normal_iterator<Circle *const *, std::vector<Circle *, std::allocator<Circle *> > >') for 1st argument\u001b[0m\n",
      "      erase(const_iterator __position)\n",
      "\u001b[0;1;32m      ^\n",
      "\u001b[0m\u001b[1m/home/michael/miniconda3/bin/../lib/gcc/x86_64-conda_cos6-linux-gnu/7.3.0/../../../../x86_64-conda_cos6-linux-gnu/include/c++/7.3.0/bits/stl_vector.h:1206:7: \u001b[0m\u001b[0;1;30mnote: \u001b[0mcandidate function not viable: requires 2 arguments, but 1 was provided\u001b[0m\n",
      "      erase(const_iterator __first, const_iterator __last)\n",
      "\u001b[0;1;32m      ^\n",
      "\u001b[0m"
     ]
    },
    {
     "ename": "Interpreter Error",
     "evalue": "",
     "output_type": "error",
     "traceback": [
      "Interpreter Error: "
     ]
    }
   ],
   "source": [
    "#include <algoviz/SVG.hpp>\n",
    "using namespace std;\n",
    "\n",
    "AlgoViz::clear();\n",
    "\n",
    "// Da wier nur einen See benötigen, regeln wir das über eine globale Variable.\n",
    "SVG see = SVG(400,400);\n",
    "see.setStatusMsg(\"Beenden mit beliebiger Taste\");\n",
    "\n",
    "string taste = \"\";\n",
    "MouseState maus;\n",
    "\n",
    "Circle *tropfen;\n",
    "\n",
    "// Der Vektor für viele Tropfen.\n",
    "vector<Circle*> regen;\n",
    "\n",
    "while ( taste == \"\" ) {\n",
    "    taste = see.lastKey();\n",
    "    maus = see.lastClick();\n",
    "    \n",
    "    if ( maus.isLegal() ) {\n",
    "        // Erzeuge den tropfen am Ort des Klicks im see\n",
    "        tropfen = new Circle(maus.x(),maus.y(),0,&see);\n",
    "        \n",
    "        // Mache das innere durchsichtig.\n",
    "        tropfen->setFill(\"transparent\");\n",
    "        \n",
    "        // Speichere den Tropfen\n",
    "        regen.push_back(tropfen);\n",
    "    }\n",
    "    \n",
    "    \n",
    "    // Durchlaufe nochmal alle Tropfen\n",
    "    for ( Circle* tropfen : regen ) {\n",
    "        // Mache Sie größer ...\n",
    "        int r = tropfen->getRadius();\n",
    "        \n",
    "        // Für r = 255 sind die Tropfewn weiß und somit unsichtbar\n",
    "        if ( r < 255 ) { \n",
    "            tropfen->setRadius(r+1);\n",
    "            // ... und blasser\n",
    "            tropfen->setColor(r,r,r);\n",
    "        } else {\n",
    "            // Lösche den Tropfen auch aus dem Vektor\n",
    "            regen.erase(tropfen);\n",
    "            delete tropfen;\n",
    "        }\n",
    "    }\n",
    "}\n",
    "\n",
    "see.clearStatusMsg();"
   ]
  },
  {
   "cell_type": "markdown",
   "metadata": {},
   "source": [
    "Hmm. Das scheint so nicht zu gehen. Das liegt daran, dass wir in der For-Schleife den Vektor den wir durchlaufen nicht verändern dürfen. D.h. wir dürfen auch kein Element löschen. Wenn wir das tun wollen, müssen wir das mit einem Iterator von Hand machen."
   ]
  },
  {
   "cell_type": "code",
   "execution_count": 1,
   "metadata": {},
   "outputs": [],
   "source": [
    "#include <algoviz/SVG.hpp>\n",
    "using namespace std;\n",
    "\n",
    "AlgoViz::clear();\n",
    "\n",
    "// Da wier nur einen See benötigen, regeln wir das über eine globale Variable.\n",
    "SVG see = SVG(400,400);\n",
    "see.setStatusMsg(\"Beenden mit beliebiger Taste\");\n",
    "\n",
    "string taste = \"\";\n",
    "MouseState maus;\n",
    "\n",
    "Circle *tropfen;\n",
    "\n",
    "// Der Vektor für viele Tropfen.\n",
    "vector<Circle*> regen;\n",
    "\n",
    "while ( taste == \"\" ) {\n",
    "    taste = see.lastKey();\n",
    "    maus = see.lastClick();\n",
    "    \n",
    "    if ( maus.isLegal() ) {\n",
    "        // Erzeuge den tropfen am Ort des Klicks im see\n",
    "        tropfen = new Circle(maus.x(),maus.y(),0,&see);\n",
    "        \n",
    "        // Mache das innere durchsichtig.\n",
    "        tropfen->setFill(\"transparent\");\n",
    "        \n",
    "        // Speichere den Tropfen\n",
    "        regen.push_back(tropfen);\n",
    "    }\n",
    "    \n",
    "    \n",
    "    // Durchlaufe nochmal alle Tropfen, aber mit einem Iterator, da wir welche löschen möchten.\n",
    "    auto it = regen.begin();\n",
    "    while ( it != regen.end() ) {\n",
    "        // Hole dir den Zeiger\n",
    "        Circle *tropfen = *it;\n",
    "\n",
    "        // Mache den Tropgfen größer ...\n",
    "        int r = tropfen->getRadius();\n",
    "        \n",
    "        // Für r = 255 sind die Tropfewn weiß und somit unsichtbar\n",
    "        if ( r < 255 ) { \n",
    "            tropfen->setRadius(r+1);\n",
    "            // ... und blasser\n",
    "            tropfen->setColor(r,r,r);\n",
    "            \n",
    "            // Gehe zum nächsten Tropfen\n",
    "            it++;\n",
    "        } else {\n",
    "            // Lösche den Tropfen auch aus dem Vektor\n",
    "            regen.erase(it);\n",
    "            delete tropfen;\n",
    "            // Hier müssen wir nicht zum nächsten Tropfen gehen, \n",
    "            // da der Iterator durch das Löschen automatisch weitergeht.\n",
    "        }\n",
    "    }\n",
    "}\n",
    "\n",
    "see.clearStatusMsg();"
   ]
  },
  {
   "cell_type": "markdown",
   "metadata": {},
   "source": [
    "Damit haben wir eigentlich alles und das [Gewitter](https://www.youtube.com/watch?v=v2AC41dglnM) kann kommen."
   ]
  },
  {
   "cell_type": "markdown",
   "metadata": {},
   "source": [
    "<div class=\"followup\">\n",
    "    <h3>Wo es weiter geht</h3>\n",
    "    <div>Als nächstes beschäftigen wir uns damit, wie man eigene <a class=\"followup\" href=\"/user-redirect/algoviz/lessons/05_Objekte/05_Klassen.ipynb\">Klassen</a> schreibt.\n",
    "    </div>\n",
    "</div>   "
   ]
  },
  {
   "cell_type": "markdown",
   "metadata": {},
   "source": [
    "Es geht auch [härter](https://www.youtube.com/watch?v=i6f5wwq0H8Q) und [schneller](https://www.youtube.com/watch?v=-q66zKQ3-XM)."
   ]
  }
 ],
 "metadata": {
  "kernelspec": {
   "display_name": "C++17",
   "language": "C++17",
   "name": "xcpp17"
  },
  "language_info": {
   "codemirror_mode": "text/x-c++src",
   "file_extension": ".cpp",
   "mimetype": "text/x-c++src",
   "name": "c++",
   "version": "17"
  }
 },
 "nbformat": 4,
 "nbformat_minor": 4
}
