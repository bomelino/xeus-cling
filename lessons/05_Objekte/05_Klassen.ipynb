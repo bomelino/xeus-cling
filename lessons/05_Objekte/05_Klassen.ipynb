{
 "cells": [
  {
   "cell_type": "markdown",
   "metadata": {},
   "source": [
    "# Eine eigene Klassen"
   ]
  },
  {
   "cell_type": "markdown",
   "metadata": {},
   "source": [
    "<div class=\"prereq\">\n",
    "    <h3>Was man wissen sollte</h3>\n",
    "    <div>\n",
    "        Damit wir eine eigene Klasse einführen können, sollte man bereits das intuitive Konzept von \n",
    "        <a class=\"prereq\" href=\"/user-redirect/algoviz/lessons/05_Objekte/00_Objekte.ipynb\">Klassen und Objekten</a> kennen.\n",
    "    </div>\n",
    "</div>"
   ]
  },
  {
   "cell_type": "markdown",
   "metadata": {},
   "source": [
    "In dieser Lesson werden wir schrittweise eine Klasse für die Repräsentation von [**gemischten Brüchen**](https://de.wikipedia.org/wiki/Bruchrechnung#Gemischte_Br%C3%BCche) entwickeln. Dabei werden wir uns auch mit den Gründen zur Verwendung von Klassen und Objekten beschäftigen."
   ]
  },
  {
   "cell_type": "markdown",
   "metadata": {},
   "source": [
    "## Gemischte Brüche\n",
    "\n",
    "Ein gemischter Bruch ist ein Bruch der Form $$42 \\frac{7}{13}.$$ Er besteht aus\n",
    "- einem **ganzahligen Anteil**, in unserem Beispiel $42$\n",
    "- einem **Zähler**, in unserem Beispiel $7$ und\n",
    "- einem **Nenner**, in unserem Beispiel $13$.\n",
    "\n",
    "Außerdem gelten dei folgenden Einschränkungen:\n",
    "- Der Zähler ist größer gleich Null.\n",
    "- Der Nenner ist größer als Null.\n",
    "- Der Zähler ist echt kleiner als der Nenner.\n",
    "\n",
    "Um einen solchen gemischten Bruch in einem Programm zu repräsenteiren zu können, benötigen wir also drei Variablen. Dabei müssen wir dann in allen Situationen sicherstellen, dass die Werte der drei Variablen konsistent sind, d.h. die zusammengehörigen Werte enthalten. Um das zu vereinfachen. wäre es gut, wenn man die drei Werte in einer Einheit **bündeln** kann. Und genau das ermöglichen Objekte und Klassen.\n",
    "\n",
    "Da jeder gemischte Bruch die gleiche Struktur hat, also im Grunde den gleichen Bauplan, erstellen wir eine eigene Klasse dafür. Ihre Definition wird durch das Schlüsselwort `class` eingeleitet, gefolgt von ihrem Namen `Bruch`. Wir treffen dabei die Vereinbarung, dass Klassennamen immer mit einem Großbuchstaben beginnen. Wenn Sie aus mehreren Worten zusammengesetzt sind, beginnt jedes Teilwort mit einem Großbuchstaben ([Pascal Case oder Upper Camel Case](https://en.wikipedia.org/wiki/Camel_case)). Die Komponenten, die zu den Objekten dieser Klasse gehören werden in ein Paar geschweifter Klammern eingeschlossen. Aber hier erstmal die \"leere\" Klasse."
   ]
  },
  {
   "cell_type": "code",
   "execution_count": 50,
   "metadata": {},
   "outputs": [],
   "source": [
    "class Bruch {\n",
    "    \n",
    "}"
   ]
  },
  {
   "cell_type": "markdown",
   "metadata": {},
   "source": [
    "Als nächstes fügen wir die **Attributee**, d.h. Eigenschaften und Werte, die jedes Objekt der Klasse haben muss. Dabei deklarieren wir sie im Grunde genauso, wie Variablen."
   ]
  },
  {
   "cell_type": "code",
   "execution_count": 51,
   "metadata": {},
   "outputs": [],
   "source": [
    "class Bruch {\n",
    "    \n",
    "    int ganzerAnteil;\n",
    "    int zaehler;\n",
    "    int nenner;\n",
    "    \n",
    "}"
   ]
  },
  {
   "cell_type": "markdown",
   "metadata": {},
   "source": [
    "Damit können wir jetzt bereits ein Objekt der Klasse `Bruch`anlegen. Dazu deklarieren wir einfach eine Varaible vom Typ `Bruch` und initialisieren Sie mit dem **Standardkonstruktor**, den jede Klasse automatisch hat. Er tut nichts, außer den benötigten Speicherplatz zu reservieren."
   ]
  },
  {
   "cell_type": "code",
   "execution_count": 52,
   "metadata": {},
   "outputs": [],
   "source": [
    "Bruch test = Bruch();"
   ]
  },
  {
   "cell_type": "markdown",
   "metadata": {},
   "source": [
    "Und jetzt müssten wir eigentlich schon auf die Attribute zugreifen können. Also setzen wir mal den ganzzahligen Anteil."
   ]
  },
  {
   "cell_type": "code",
   "execution_count": 53,
   "metadata": {},
   "outputs": [
    {
     "name": "stderr",
     "output_type": "stream",
     "text": [
      "\u001b[1minput_line_68:2:7: \u001b[0m\u001b[0;1;31merror: \u001b[0m\u001b[1m'ganzerAnteil' is a private member of '__cling_N553::Bruch'\u001b[0m\n",
      " test.ganzerAnteil = 42;\n",
      "\u001b[0;1;32m      ^\n",
      "\u001b[0m\u001b[1minput_line_66:3:9: \u001b[0m\u001b[0;1;30mnote: \u001b[0mimplicitly declared private here\u001b[0m\n",
      "    int ganzerAnteil;\n",
      "\u001b[0;1;32m        ^\n",
      "\u001b[0m"
     ]
    },
    {
     "ename": "Interpreter Error",
     "evalue": "",
     "output_type": "error",
     "traceback": [
      "Interpreter Error: "
     ]
    }
   ],
   "source": [
    "test.ganzerAnteil = 42;"
   ]
  },
  {
   "cell_type": "markdown",
   "metadata": {},
   "source": [
    "Dabei erhalten wir leiden einen Fehler, der besagt, dass das Attribut `ganzerAnteil` ein privates Mitglied der Klasse ist. D.h. nur die Objekte selber können direkt auf die Werte der Attribute zugreifen. Von außen oder aus Objekte anderer Klassen heraus, geht das allerdings nicht. Daher können wir die Attribute weder ändern noch auslesen.\n",
    "\n",
    "Um das zu ermöglichen, müssen wir die Attribute **öffentlich machen**. Das geschieht, indem wir ihre **Sichtbarkeit** auf `public` ändern, wie das in der nächsten Zele geschieht."
   ]
  },
  {
   "cell_type": "code",
   "execution_count": 54,
   "metadata": {},
   "outputs": [],
   "source": [
    "class Bruch {\n",
    "    \n",
    "    public: // Alles was folgt kann von jedem genutzt werden.\n",
    "    \n",
    "        // Die Attribute\n",
    "        int ganzerAnteil;\n",
    "        int zaehler;\n",
    "        int nenner;\n",
    "    \n",
    "}"
   ]
  },
  {
   "cell_type": "markdown",
   "metadata": {},
   "source": [
    "Das Schlüsselwort `public:` besagt, dass alle Attribute und Komponenten der Klasse, die im folgenden deklariert werden, **öffentlich** sind. Das bewirkt, dass man jederzeit auf sie zugreifen kann. Für Attribute bedeutet dies, dass wir sie jetzt auslesen und setzen können."
   ]
  },
  {
   "cell_type": "code",
   "execution_count": 55,
   "metadata": {},
   "outputs": [],
   "source": [
    "Bruch test = Bruch();\n",
    "test.ganzerAnteil = 42;\n",
    "test.zaehler = 7;\n",
    "test.nenner = 13;"
   ]
  },
  {
   "cell_type": "markdown",
   "metadata": {},
   "source": [
    "Und jetzt verwenden sie zur Ausgabe."
   ]
  },
  {
   "cell_type": "code",
   "execution_count": 56,
   "metadata": {},
   "outputs": [
    {
     "name": "stdout",
     "output_type": "stream",
     "text": [
      "42(7/13)"
     ]
    }
   ],
   "source": [
    "#include <iostream>\n",
    "using namespace std;\n",
    "\n",
    "cout << test.ganzerAnteil << \"(\" << test.zaehler << \"/\" << test.nenner << \")\";"
   ]
  },
  {
   "cell_type": "markdown",
   "metadata": {},
   "source": [
    "Damit haben wir die drei Attribute **gebündelt**. Da sie Teile desselben Objektes sind, ist klar, dass sie zusammen gehören, und wir können nur über das gemeinsame Objekt auf sie zugreifen."
   ]
  },
  {
   "cell_type": "markdown",
   "metadata": {},
   "source": [
    "### Methoden\n",
    "\n",
    "Außer Attributen, können wir der Klasse auch **Methoden** hinzufügen, also Operationen, die nur auf einem Objekt dieser Klasse ausgeführt werden können. Machen wir das als Beispiel mal für die Ausgabe von eben.\n",
    "\n",
    "Als erstes deklarieren wir die Methode in der Klassenbeschreibung. Dazu fügen wir einfach die Signatur hinzu."
   ]
  },
  {
   "cell_type": "code",
   "execution_count": 57,
   "metadata": {},
   "outputs": [],
   "source": [
    "class Bruch {\n",
    "    \n",
    "    public:\n",
    "    \n",
    "        // Die Attribute\n",
    "        int ganzerAnteil;\n",
    "        int zaehler;\n",
    "        int nenner;\n",
    "    \n",
    "        // Eine Methode für die Ausgabe\n",
    "        void print();\n",
    "}"
   ]
  },
  {
   "cell_type": "markdown",
   "metadata": {},
   "source": [
    "Wenn wir die Methode jetzt ausführen wollen geht das natürlich sachief. Wir haben sie noch gar nicht programmiert."
   ]
  },
  {
   "cell_type": "code",
   "execution_count": 58,
   "metadata": {},
   "outputs": [
    {
     "name": "stderr",
     "output_type": "stream",
     "text": [
      "IncrementalExecutor::executeFunction: symbol '_ZN12__cling_N5595Bruch5printEv' unresolved while linking [cling interface function]!\n",
      "You are probably missing the definition of __cling_N559::Bruch::print()\n",
      "Maybe you need to load the corresponding shared library?\n"
     ]
    },
    {
     "ename": "Interpreter Error",
     "evalue": "",
     "output_type": "error",
     "traceback": [
      "Interpreter Error: "
     ]
    }
   ],
   "source": [
    "Bruch test = Bruch();\n",
    "\n",
    "test.ganzerAnteil = 42;\n",
    "test.zaehler = 7;\n",
    "test.nenner = 13;\n",
    "\n",
    "test.print();"
   ]
  },
  {
   "cell_type": "markdown",
   "metadata": {},
   "source": [
    "Um die Methode zu implementieren, müssen wir im Grunde wie jede andere Operation programmieren. Allerdings müssen wir den Namen der Klasse zu der sie gehört mit angeben."
   ]
  },
  {
   "cell_type": "code",
   "execution_count": 59,
   "metadata": {},
   "outputs": [],
   "source": [
    "void Bruch::print() {\n",
    "    cout << ganzerAnteil << \"(\" << zaehler << \"/\" << nenner << \")\";    \n",
    "}"
   ]
  },
  {
   "cell_type": "markdown",
   "metadata": {},
   "source": [
    "Wie man sieht kann man auf die Attribute innerhalb der Methode einfach zugreifen ohne das Objekt voranzustellen. Wir implementieren die Methode also im Grunde aus der Perspektive des Objektes, dass seine eigenen Attribute natürlich kennt.\n",
    "\n",
    "Jetzt sollte es gehen."
   ]
  },
  {
   "cell_type": "code",
   "execution_count": 60,
   "metadata": {},
   "outputs": [
    {
     "name": "stdout",
     "output_type": "stream",
     "text": [
      "42(7/13)"
     ]
    }
   ],
   "source": [
    "Bruch test = Bruch();\n",
    "\n",
    "test.ganzerAnteil = 42;\n",
    "test.zaehler = 7;\n",
    "test.nenner = 13;\n",
    "\n",
    "test.print();"
   ]
  },
  {
   "cell_type": "markdown",
   "metadata": {},
   "source": [
    "### Ein alternativer Ort zur Implementierung der Methode\n",
    "\n",
    "Statt die Methode außerhalb der Klassen Deklaration zu implementieren, können Sie es auch innerhalb tun. Das sieht dann so aus:"
   ]
  },
  {
   "cell_type": "code",
   "execution_count": 61,
   "metadata": {},
   "outputs": [],
   "source": [
    "class Bruch {\n",
    "    \n",
    "    public:\n",
    "    \n",
    "        // Die Attribute\n",
    "        int ganzerAnteil;\n",
    "        int zaehler;\n",
    "        int nenner;\n",
    "    \n",
    "        // Eine Methode für die Ausgabe, inklusive Implementierung\n",
    "        void print() {\n",
    "            cout << ganzerAnteil << \"(\" << zaehler << \"/\" << nenner << \")\";\n",
    "        }\n",
    "}"
   ]
  },
  {
   "cell_type": "markdown",
   "metadata": {},
   "source": [
    "Beide Methoden sind möglich. Die erste wird in der Regel genutzt, wenn man mit \"echten\" C-Compileren arbeitet. Die zweite ist aber für die Verwendung in Jupyter Notebooks häufig einfacher."
   ]
  },
  {
   "cell_type": "markdown",
   "metadata": {},
   "source": [
    "<div class=\"task\">\n",
    "    <h3>Aufgabe</h3>\n",
    "    <div>\n",
    "        Ergänzen Sie die Klasse um eine Methode <tt>toDouble()</tt>, die den Bruch als \n",
    "        <tt>double</tt> Wert zurück gibt.\n",
    "    </div>\n",
    "    <div>\n",
    "        <b>Hinweis!</b> Sie können erzwingen, dass zwei <tt>int</tt>-Werte als <tt>double</tt> dividiert\n",
    "        werden, indem sie dem Dividenden vorher mit dem Faktor <tt>1.0</tt> multiplizieren. Alternativ\n",
    "        können Sie den Typ auch explizit umwandeln.\n",
    "    <div>\n",
    "</div>"
   ]
  },
  {
   "cell_type": "code",
   "execution_count": 62,
   "metadata": {},
   "outputs": [
    {
     "name": "stderr",
     "output_type": "stream",
     "text": [
      "\u001b[1minput_line_78:8:6: \u001b[0m\u001b[0;1;31merror: \u001b[0m\u001b[1mno member named 'toDouble' in '__cling_N563::Bruch'\u001b[0m\n",
      "test.toDouble()\n",
      "\u001b[0;1;32m~~~~ ^\n",
      "\u001b[0m"
     ]
    },
    {
     "ename": "Interpreter Error",
     "evalue": "",
     "output_type": "error",
     "traceback": [
      "Interpreter Error: "
     ]
    }
   ],
   "source": [
    "// Ergänzen Sie die Klasse oben um die Deklaration der Methode und iplementieren Sie sie dort.\n",
    "\n",
    "// Hiermit können Sie sie austesten:\n",
    "\n",
    "Bruch test = Bruch();\n",
    "\n",
    "test.ganzerAnteil = 42;\n",
    "test.zaehler = 7;\n",
    "test.nenner = 13;\n",
    "\n",
    "test.toDouble()"
   ]
  },
  {
   "cell_type": "markdown",
   "metadata": {},
   "source": [
    "<div class=\"followup\">\n",
    "    <h3>Wo es weiter geht</h3>\n",
    "    <div>\n",
    "    <a class=\"followup\" href=\"/user-redirect/algoviz/lessons/05_Objekte/06_Konstruktoren.ipynb\">Konstruktoren</a> sind eine besondere Form von\n",
    "        Methoden, die bei der Erzeugung von Objekten eine Rolle spielen. Außerdem verwendet man Methoden zur\n",
    "        <a class=\"followup\" href=\"/user-redirect/algoviz/lessons/05_Objekte/07_Kapselung.ipynb\">Kapselung</a> \n",
    "        der Daten in einem Objekt, um ungewollte Zugriffe, Zustände und Situationen zu vermeiden.\n",
    "    </div>\n",
    "</div>   "
   ]
  }
 ],
 "metadata": {
  "kernelspec": {
   "display_name": "C++17",
   "language": "C++17",
   "name": "xcpp17"
  },
  "language_info": {
   "codemirror_mode": "text/x-c++src",
   "file_extension": ".cpp",
   "mimetype": "text/x-c++src",
   "name": "c++",
   "version": "17"
  }
 },
 "nbformat": 4,
 "nbformat_minor": 4
}
