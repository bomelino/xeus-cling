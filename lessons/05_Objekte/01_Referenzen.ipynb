{
 "cells": [
  {
   "cell_type": "markdown",
   "metadata": {},
   "source": [
    "# Referenzen und Adressen"
   ]
  },
  {
   "cell_type": "markdown",
   "metadata": {},
   "source": [
    "<div class=\"prereq\">\n",
    "    <h3>Was man wissen sollte</h3>\n",
    "    <div>\n",
    "        Wir haben nochmal einen Blick auf <a class=\"prereq\" href=\"/user-redirect/algoviz/lessons/05_Objekte/00_Objekte.ipynb\">Klassen und Objekte</a> geworfen.\n",
    "    </div>\n",
    "</div>"
   ]
  },
  {
   "cell_type": "markdown",
   "metadata": {},
   "source": [
    "Wir bereiten erstmal alles für unsere Experimente vor. Wir erzeugen ein Objekt der Klasse `SVG` und zwei Objekte der Klasse `Circle` in ihm. mit ihnen werden wir im Folgenden arbeiten."
   ]
  },
  {
   "cell_type": "code",
   "execution_count": 14,
   "metadata": {},
   "outputs": [],
   "source": [
    "#include<algoviz/SVG.hpp>\n",
    "using namespace std;\n",
    "\n",
    "AlgoViz::clear();\n",
    "\n",
    "SVG zeichnung = SVG(400,400);\n",
    "\n",
    "Circle kreis1 = Circle(20,20,10,&zeichnung);\n",
    "Circle kreis2 = Circle(60,60,20,&zeichnung);\n",
    "\n",
    "kreis2.setFill(\"red\");"
   ]
  },
  {
   "cell_type": "markdown",
   "metadata": {},
   "source": [
    "Jetzt haben wir zwei Objekte der Klasse `Circle`, die sich deutlich voneinander unterscheiden. Wir können beide auch unabhängig voneinander verändern und durch Methoden oder Operationen manipulieren.\n",
    "\n",
    "Unser nöchstes Ziel ist es das `&` zu erklären, dass notwendig ist, wenn wir den Kreis einem SVG hinzufügen wollen."
   ]
  },
  {
   "cell_type": "markdown",
   "metadata": {},
   "source": [
    "Wir beginnen damit, dass wir eine Operation implementieren, die einen Kreis als Parameter erhält und ihn verändern soll. Und zwar soll sie seinen Radius verdoppeln und ihn blau machen. Das ist nicht weiter schwer."
   ]
  },
  {
   "cell_type": "code",
   "execution_count": 2,
   "metadata": {},
   "outputs": [],
   "source": [
    "void veraendere(Circle k) {\n",
    "    k.setFill(\"blue\");\n",
    "    k.setRadius( 2* k.getRadius() );\n",
    "    k.moveTo(200,200);\n",
    "}"
   ]
  },
  {
   "cell_type": "markdown",
   "metadata": {},
   "source": [
    "Wenn jetzt alles so funktioniert, wie man sich das denkt, müsste der folgende Aufruf den schwarzen Kreis blau färben und seinen Radius verdoppeln."
   ]
  },
  {
   "cell_type": "code",
   "execution_count": 4,
   "metadata": {},
   "outputs": [],
   "source": [
    "veraendere(kreis1);"
   ]
  },
  {
   "cell_type": "markdown",
   "metadata": {},
   "source": [
    "Hm. Wie es scheint passiert nichts. Was haben wir falsch gemacht? Tatsächlich funktioniert das Ganze so, wie wir es bislang beschrieben haben. Um das zu sehen, bauen wir mal eine Wartephase ein. D.h. nachdem wir den Kreis verändert haben, warten wir auf einen Click."
   ]
  },
  {
   "cell_type": "code",
   "execution_count": 10,
   "metadata": {},
   "outputs": [],
   "source": [
    "void veraendere(Circle k) {\n",
    "    k.setFill(\"blue\");\n",
    "    k.setRadius( 2* k.getRadius() );\n",
    "    k.moveTo(200,200);\n",
    "    \n",
    "    zeichnung.waitForClick();\n",
    "}"
   ]
  },
  {
   "cell_type": "markdown",
   "metadata": {},
   "source": [
    "Führen Sie die nächste Zelle aus. Aber lesen Sie danach weiter, **bevor** Sie klicken!"
   ]
  },
  {
   "cell_type": "code",
   "execution_count": 11,
   "metadata": {},
   "outputs": [],
   "source": [
    "veraendere(kreis1);"
   ]
  },
  {
   "cell_type": "markdown",
   "metadata": {},
   "source": [
    "Wo kommt der dritte, blaue Kreis her? Klicken Sie jetzt."
   ]
  },
  {
   "cell_type": "markdown",
   "metadata": {},
   "source": [
    "..."
   ]
  },
  {
   "cell_type": "markdown",
   "metadata": {},
   "source": [
    "Jetzt ist er wieder weg. Was ist passiert? Wir gehen mal die einzelnen Schritte durch.\n",
    "\n",
    "**1. Schritt:** Mit der Anweisung `Circle kreis1 = Circle(20,20,10,&zeichnung)`haben wir ein Objekt der Klasse Kreis erzeugt, mit einem Ort und einem Radisu versehen und zu `zeichnung` hinzugefügt.\n",
    "\n",
    "**2. Schritt:** `verandere(kreis1)` wird aufgerufen. Bei dem Aufruf wird der Parameter `k` als **lokale Variable** in `veraendere()` angelegt. Das Objekt `kreis1` wird in diese lokale Variable `k` **kopiert**. Dabei werden alle Attribute (Ort, Radisu, Farbe etc.) kopiert. D.h. es wird eine **identische** Kopie von `kreis1` gemacht. Diese Kopie wird in der lokalen Variable `k`  gespeichert. D.h. `kreis1` und `k` sind **Verschiedene** Instanzen mit denselben Attributen!\n",
    "\n",
    "**3. Schritt:** `k` wird verändert. Die Kopie wird vergrößert, anders eingefärbt und verschoben. Dadurch erscheint der dritte Kreis, die ursprüngliche Kopie von `kreis1`.\n",
    "\n",
    "**4. Schritt:** Wir warten auf den Klick. In dieser Zeit existiert das veränderte `k` und wird angezeigt.\n",
    "\n",
    "**5. Schritt:** Nach dem Klick wird die Operation `veraendere()` beendet. Das führt dazu, dass die lokale Variable `k` aus dem Speicher gelöscht wird. Und das wiederrum führt dazu, dass der blaue Kreis wieder verschwindet!\n",
    "\n",
    "In der Konsequenz hat `veraendere()` als nicht den übergebenen Kreis verändert, sondern eine Kopie, die beim Aufruf erzeugt und am Ende der Operation wieder **zerstört** wird. Warten wir nicht auf den Klick führt dies dazu, dass der ganze Prozess so schnell geht, dass wir ihn unter Umständen gar nicht sehen (oder wenn die Netzwerkverbindung langsam genug ist, der dritte Kreis nur kurz aufflackert)."
   ]
  },
  {
   "cell_type": "markdown",
   "metadata": {},
   "source": [
    "Denselben Effekt können wir auch mit anderen Typen, z.B. `string` beobachten."
   ]
  },
  {
   "cell_type": "code",
   "execution_count": 13,
   "metadata": {},
   "outputs": [],
   "source": [
    "void change(string text) {\n",
    "    text = \"_\" + text;\n",
    "    cout << \"in change: \" << text << endl;\n",
    "}"
   ]
  },
  {
   "cell_type": "code",
   "execution_count": 14,
   "metadata": {},
   "outputs": [
    {
     "name": "stdout",
     "output_type": "stream",
     "text": [
      "vor change: Hallo\n",
      "in change: _Hallo\n",
      "nach change: Hallo\n"
     ]
    }
   ],
   "source": [
    "string meinText = \"Hallo\";\n",
    "    \n",
    "cout << \"vor change: \" << meinText << endl;\n",
    "change(meinText);\n",
    "cout << \"nach change: \" << meinText << endl;"
   ]
  },
  {
   "cell_type": "markdown",
   "metadata": {},
   "source": [
    "Wie man hier sieht, geht die Veränderung, die in `change()` vorgenommen wird wieder verloren. Beim Aufruf wird `meinText` Kopiert und die Kopie in der lokalen Variable `text` gespeichert. Diese wird verändert und am Ende der Operation wieder gelöscht. D.h. der Inhalt von `meinText` wurde gar nicht verändert."
   ]
  },
  {
   "cell_type": "markdown",
   "metadata": {},
   "source": [
    "Diesen Mechanismus nennt man **Call-By-Value**. Die Argumente beim Aufruf einer Operation werden kopiert und in der Operation mit den Kopien gearbeitet."
   ]
  },
  {
   "cell_type": "markdown",
   "metadata": {},
   "source": [
    "Damit stellt sich die Frage, wie wir Objekte in einer Operation verändern können? Und dazu verwendet man das Konzept der **Adressen**, **Referenzen** und **Zeiger**."
   ]
  },
  {
   "cell_type": "markdown",
   "metadata": {},
   "source": [
    "## Adressen - Wo Variablen wohnen\n",
    "\n",
    "Wie wir bereits mehrmals festgestellt haben sind Variablen und auch Objekte reservierte Speicherbereiche in denen die jeweiligen Werte und Attribute gespeichert werden können. Um etwas besser zu verstehen, wie das geschieht, beschreiben wir das Vorgehen mit Hilfe von Paco, unserem Papier Computer.\n",
    "\n",
    "Immer wenn Paco eine Operation aufruft, oder eine globale Variable speichern muss, erstellt er auf einem Blatt Papier einen Kasten (den reservierten Speicherbereich). Dieser Kasten wird mit einem Typ und einem Namen versehen. Allerdings macht er noch mehr. Jedes Blatt erhält eine eigene eindeutige Nummer (die blaue Zahl). Und jeder Kasten erhält ebenfalls eine eindeutige Nummer (die rote Zahl). Beide Zahlen haben eine feste Stellenzahl (in unserem Beispiel jeweils vier). Die **Adresse** der Variable ist dann die Konkatenation der beiden Zahlen. Als erstes die Seitennummer und als zweites die Nummer auf dem Blatt.\n",
    "\n",
    "![Pacos Speicher](/user-redirect/algoviz/img/05_Objekte/PacoSpeicher.png)\n",
    "\n",
    "Diese Adresse ermöglicht es jede Variable eindeutig zu identifizieren, auch wenn Sie auf einem anderen Blatt ist.\n",
    "\n",
    "### Die Speicherorganisation \n",
    "\n",
    "Dieses Modell entspricht im Kern der Art, wie Betriebssysteme den Programmen Speicher zur Verfügung stehen. Der Speicher wird dabei als eine Sequenz von Bytes organisiert, die ähnlich wie die Einträge eines Arrays durchnummeriert sind. Außerdem ist er in der Regel auch in **Pages** oder **Speicherseiten** einer bestimmten Größe unterteilt.\n",
    "\n",
    "Eine Variable oder ein Objekt ist dann ein **zusammenhängender Abschnitt** in einer dieser Seiten, ihre/seine Werte gespeichert werden können. Damit hat jede Variable und jedes Objekt eine **Adresse**, die Nummer der Speicherstelle, an dem sein reservierter Bereich beginnt. Und diese Adresse kann man sich anzeigen lassen. Dies macht der **Adressoperator `&`**. Man stellt ihn dem Namen der Variable voran und erhält so die Adresse. Mit `sizeof()`erhält man die Größe des reservierten Speicherbereichs."
   ]
  },
  {
   "cell_type": "code",
   "execution_count": 4,
   "metadata": {},
   "outputs": [
    {
     "name": "stdout",
     "output_type": "stream",
     "text": [
      "Adresse: 0x7ffb0c80d028\n",
      "Größe in Byte: 4\n"
     ]
    }
   ],
   "source": [
    "#include <iostream>\n",
    "using namespace std;  // nicht mehr gebraucht.\n",
    "\n",
    "int variable;\n",
    "\n",
    "// &variable ist die Adresse der Variable.\n",
    "cout << \"Adresse: \" << &variable << endl;\n",
    "\n",
    "// sizeof(variable) ergibt die Größe des Speicherbereichs.\n",
    "cout << \"Größe in Byte: \" << sizeof(variable) << endl;"
   ]
  },
  {
   "cell_type": "markdown",
   "metadata": {},
   "source": [
    "Wie man sieht wird die Adresse wird als *Hexadezimalzahl* dargestellt.\n",
    "\n",
    "Genauso kann man sich auch die Adresse und Größe eines beliebigen Objektes anzeigen lassen. Hier z.B. von einem `string`."
   ]
  },
  {
   "cell_type": "code",
   "execution_count": 6,
   "metadata": {},
   "outputs": [
    {
     "name": "stdout",
     "output_type": "stream",
     "text": [
      "Adresse von text: 0x7ffb0c80d050\n",
      "Größe von text in Byte: 32\n"
     ]
    }
   ],
   "source": [
    "string text = \"Dies ist ein Text\";\n",
    "\n",
    "// &variable ist die Adresse der Variable.\n",
    "cout << \"Adresse von text: \" << &text << endl;\n",
    "\n",
    "// sizeof(variable) ergibt die Größe des Speicherbereichs.\n",
    "cout << \"Größe von text in Byte: \" << sizeof(text) << endl;"
   ]
  },
  {
   "cell_type": "markdown",
   "metadata": {},
   "source": [
    "Dabei fällt auf, dass die Größe des Strings nicht von seiner Länge abhängt. Stattdessen ist scheinbar jeder String 32 Byte groß. Das liegt daran, dass der eigentliche Inhalt **nicht** in dem für das Objekt reservierten Speicherbereich gespeichert wird sondern an anderer Stelle. Wie das funktioniert werden wir später noch sehen."
   ]
  },
  {
   "cell_type": "markdown",
   "metadata": {},
   "source": [
    "### Adressen von lokalen Variablen\n",
    "\n",
    "Damit können wir uns auch die Adresse der lokalen Variablen in Operationen anzeigen lassen."
   ]
  },
  {
   "cell_type": "code",
   "execution_count": 20,
   "metadata": {},
   "outputs": [],
   "source": [
    "string meinText = \"Hallo\";"
   ]
  },
  {
   "cell_type": "code",
   "execution_count": 21,
   "metadata": {},
   "outputs": [],
   "source": [
    "void operation(string lokalerText)  {\n",
    "    cout << \"Adresse von lokalerText: \" << &lokalerText << endl;\n",
    "}"
   ]
  },
  {
   "cell_type": "code",
   "execution_count": 22,
   "metadata": {},
   "outputs": [
    {
     "name": "stdout",
     "output_type": "stream",
     "text": [
      "Adresse von meinText : 0x7fd9caa47258\n",
      "Adresse von lokalerText: 0x7ffc8edbc9c8\n"
     ]
    }
   ],
   "source": [
    "cout << \"Adresse von meinText : \" << &meinText << endl;\n",
    "operation(meinText);"
   ]
  },
  {
   "cell_type": "markdown",
   "metadata": {},
   "source": [
    "Wie man sieht haben die globale Variable `meinText` und `lokalerText` verschiedene Adressen, d.h. sie sind nicht identisch!"
   ]
  },
  {
   "cell_type": "markdown",
   "metadata": {},
   "source": [
    "## Referenzparameter\n",
    "\n",
    "Damit eine Operation auf das \"richitge\" Objekt zugreift, müsste es die Möglichkeit geben dafür zu sorgen, dass die lokalen Variabeln, bzw. die Parameter dieselbe **Adresse** verwenden. Und genau das tun die sogenannten\n",
    "**Referenz-Parameter**.\n",
    "\n",
    "Ein \"normaler\" wird zu einem solchen Referenz-Parameter, wenn man in der Signatur seinem Namen den Adressoperator `&` voranstellt. Dadurch wird beim Aufruf der Operation **nicht** der Wert kopiert, sondern der Parameter, also die lokale Variable dahinter, verwendet dieselbe **Adresse** wie das Argument des Aufrufs.\n",
    "\n",
    "![Die Referenz](/user-redirect/algoviz/img/05_Objekte/PacoSpeicherReferenz.png)\n",
    "\n",
    "Probieren wir das konkret aus."
   ]
  },
  {
   "cell_type": "code",
   "execution_count": 22,
   "metadata": {},
   "outputs": [],
   "source": [
    "#include <iostream>\n",
    "using namespace std;"
   ]
  },
  {
   "cell_type": "markdown",
   "metadata": {},
   "source": [
    "Die Operation `changeMitReferenz()`verwendet einen Referenz-Parameter, während `changeOhneReferenz()` einen \"normalen\" Parameter verwendet."
   ]
  },
  {
   "cell_type": "code",
   "execution_count": 10,
   "metadata": {},
   "outputs": [],
   "source": [
    "void changeMitReferenz(string &lokalerText) {\n",
    "    lokalerText = \"_\" + lokalerText;    \n",
    "    cout << \"in changeMitReferenz: \" << lokalerText << endl;\n",
    "    cout << \"Adresse von lokalerText : \" << &lokalerText << endl;\n",
    "}"
   ]
  },
  {
   "cell_type": "code",
   "execution_count": 11,
   "metadata": {},
   "outputs": [],
   "source": [
    "void changeOhneReferenz(string lokalerText) {\n",
    "    lokalerText = \"_\" + lokalerText;    \n",
    "    cout << \"in changeOneReferenz: \" << lokalerText << endl;\n",
    "    cout << \"Adresse von lokalerText : \" << &lokalerText << endl;\n",
    "}"
   ]
  },
  {
   "cell_type": "markdown",
   "metadata": {},
   "source": [
    "Probieren wir nun zuerst den Aufruf **ohne Referenz** aus. Dabei geschieht das, was wir bereits kennen. `lokalerText` ist eine Kopie mit einer anderen Adresse. Dadurch wird `globalerText` nicht verändert."
   ]
  },
  {
   "cell_type": "code",
   "execution_count": 13,
   "metadata": {},
   "outputs": [
    {
     "name": "stdout",
     "output_type": "stream",
     "text": [
      "globalerText : Hallo\n",
      "Adresse von globalerText : 0x7ffb0c80d070\n",
      "in changeOneReferenz: _Hallo\n",
      "Adresse von lokalerText : 0x7ffe3ee7eab8\n",
      "globalerText : Hallo\n"
     ]
    }
   ],
   "source": [
    "string globalerText = \"Hallo\";\n",
    "\n",
    "cout << \"globalerText : \" << globalerText << endl;\n",
    "cout << \"Adresse von globalerText : \" << &globalerText << endl;\n",
    "\n",
    "changeOhneReferenz(globalerText);\n",
    "\n",
    "cout << \"globalerText : \" << globalerText << endl;"
   ]
  },
  {
   "cell_type": "markdown",
   "metadata": {},
   "source": [
    "Und jetzt mit Referenz:"
   ]
  },
  {
   "cell_type": "code",
   "execution_count": 14,
   "metadata": {},
   "outputs": [
    {
     "name": "stdout",
     "output_type": "stream",
     "text": [
      "globalerText : Hallo\n",
      "Adresse von globalerText : 0x7ffb0c80d090\n",
      "in changeMitReferenz: _Hallo\n",
      "Adresse von lokalerText : 0x7ffb0c80d090\n",
      "globalerText : _Hallo\n"
     ]
    }
   ],
   "source": [
    "string globalerText = \"Hallo\";\n",
    "\n",
    "cout << \"globalerText : \" << globalerText << endl;\n",
    "cout << \"Adresse von globalerText : \" << &globalerText << endl;\n",
    "\n",
    "changeMitReferenz(globalerText);\n",
    "\n",
    "cout << \"globalerText : \" << globalerText << endl;"
   ]
  },
  {
   "cell_type": "markdown",
   "metadata": {},
   "source": [
    "Wie man sieht hat die Variable `lokalerText` die gleiche Adresse, wie `globalerText`. Dadurch verändert die Operation tatsächlich die gleiche Variable und keine Kopie."
   ]
  },
  {
   "cell_type": "markdown",
   "metadata": {},
   "source": [
    "Der Adressoperator `&` vor dem Namen des Parameters einer Operation sorgt also dafür, dass statt einer Kopie dieselbe Adresse genutzt werden soll. Diesen Mechanismus nennt man **Call-By-Reference**."
   ]
  },
  {
   "cell_type": "markdown",
   "metadata": {},
   "source": [
    "### Referenz-Variablen\n",
    "\n",
    "Neben Referenz-Parametern gibt es auch **Referenz-Variablen**. Diese Variablen speichern nicht, wie \"normale\" Variablen den Wert, sondern sie sind sozusagen ein Alias für eine andere Variable. Probieren wir das mal aus. Dazu deklarieren und initialisieren wir eine \"normale\" Variable."
   ]
  },
  {
   "cell_type": "code",
   "execution_count": null,
   "metadata": {},
   "outputs": [],
   "source": [
    "int variable = 42;"
   ]
  },
  {
   "cell_type": "markdown",
   "metadata": {},
   "source": [
    "Im nächsten Schritt deklarieren wir eine Referenz-Variable, die wir auf `variable` verweisen lassen. Dabei müssen wir, genau wie bei einem Referenz-Parameter, den Adressoperator `&` vor den Namen stellen."
   ]
  },
  {
   "cell_type": "code",
   "execution_count": 16,
   "metadata": {},
   "outputs": [],
   "source": [
    "int &referenz = variable;"
   ]
  },
  {
   "cell_type": "markdown",
   "metadata": {},
   "source": [
    "Wenn wir jetzt `variable` einen Wert zuweisen ändert sich auch der Wert von `referenz`."
   ]
  },
  {
   "cell_type": "code",
   "execution_count": 19,
   "metadata": {},
   "outputs": [
    {
     "name": "stdout",
     "output_type": "stream",
     "text": [
      "variable = 0\n",
      "referenz = 0\n",
      "variable = 84\n",
      "referenz = 84\n"
     ]
    }
   ],
   "source": [
    "cout << \"variable = \" << variable << endl;\n",
    "cout << \"referenz = \" << referenz << endl;\n",
    "\n",
    "variable = 84;\n",
    "\n",
    "cout << \"variable = \" << variable << endl;\n",
    "cout << \"referenz = \" << referenz << endl;"
   ]
  },
  {
   "cell_type": "markdown",
   "metadata": {},
   "source": [
    "Und umgekehrt genau das Gleiche. Wenn wir `referenz` einen neuen Wert zuweisen, ändert sich auch `variable`."
   ]
  },
  {
   "cell_type": "code",
   "execution_count": 20,
   "metadata": {},
   "outputs": [
    {
     "name": "stdout",
     "output_type": "stream",
     "text": [
      "variable = 84\n",
      "referenz = 84\n",
      "variable = 123\n",
      "referenz = 123\n"
     ]
    }
   ],
   "source": [
    "cout << \"variable = \" << variable << endl;\n",
    "cout << \"referenz = \" << referenz << endl;\n",
    "\n",
    "referenz = 123;\n",
    "\n",
    "cout << \"variable = \" << variable << endl;\n",
    "cout << \"referenz = \" << referenz << endl;"
   ]
  },
  {
   "cell_type": "markdown",
   "metadata": {},
   "source": [
    "Das Ganze liegt daran, dass die beiden Variablen **dieselbe** Adresse haben. Ändern wir den Wert, der an dieser Adresse gespeichert wird, indem wir über die eine Variable darauf zugreifen, so ändern wir natürlich auch den Wert, auf den wir über die andere Variable zugreifen."
   ]
  },
  {
   "cell_type": "code",
   "execution_count": 23,
   "metadata": {},
   "outputs": [
    {
     "name": "stdout",
     "output_type": "stream",
     "text": [
      "&variable = 0x7ffb0c80d028\n",
      "&referenz = 0x7ffb0c80d028\n"
     ]
    }
   ],
   "source": [
    "cout << \"&variable = \" << &variable << endl;\n",
    "cout << \"&referenz = \" << &referenz << endl;"
   ]
  },
  {
   "cell_type": "markdown",
   "metadata": {},
   "source": [
    "### Initialisierung von von Referenz-Variablen und -Parametern\n",
    "\n",
    "Wenn wir eine Referenz-Variable deklarieren **muss** sie initilaisiert werden. Dabei können wir aber nur eine andere Variable gleichen Typs verwenden, keinen Ausdruck oder Konstanten Wert."
   ]
  },
  {
   "cell_type": "code",
   "execution_count": 24,
   "metadata": {},
   "outputs": [],
   "source": [
    "int variable = 42;\n",
    "int &referenz = variable;   // Dies geht, da eine Variable zugewiesen wird"
   ]
  },
  {
   "cell_type": "code",
   "execution_count": 26,
   "metadata": {},
   "outputs": [
    {
     "name": "stderr",
     "output_type": "stream",
     "text": [
      "\u001b[1minput_line_37:2:7: \u001b[0m\u001b[0;1;31merror: \u001b[0m\u001b[1mnon-const lvalue reference to type 'int' cannot bind to a temporary of type 'int'\u001b[0m\n",
      " int &ausdruck = variable + 1;  // Dies geht nicht, da das Ergebnis der rechten Seite keine Variable ist.\n",
      "\u001b[0;1;32m      ^          ~~~~~~~~~~~~\n",
      "\u001b[0m"
     ]
    },
    {
     "ename": "Interpreter Error",
     "evalue": "",
     "output_type": "error",
     "traceback": [
      "Interpreter Error: "
     ]
    }
   ],
   "source": [
    "int &ausdruck = variable + 1;  // Dies geht nicht, da das Ergebnis der rechten Seite keine Variable ist."
   ]
  },
  {
   "cell_type": "code",
   "execution_count": 27,
   "metadata": {},
   "outputs": [
    {
     "name": "stderr",
     "output_type": "stream",
     "text": [
      "\u001b[1minput_line_38:2:7: \u001b[0m\u001b[0;1;31merror: \u001b[0m\u001b[1mnon-const lvalue reference to type 'int' cannot bind to a temporary of type 'int'\u001b[0m\n",
      " int &konstante = 42;   // Dies geht auch nicht\n",
      "\u001b[0;1;32m      ^           ~~\n",
      "\u001b[0m"
     ]
    },
    {
     "ename": "Interpreter Error",
     "evalue": "",
     "output_type": "error",
     "traceback": [
      "Interpreter Error: "
     ]
    }
   ],
   "source": [
    "int &konstante = 42;   // Dies geht auch nicht"
   ]
  },
  {
   "cell_type": "code",
   "execution_count": 28,
   "metadata": {},
   "outputs": [
    {
     "name": "stderr",
     "output_type": "stream",
     "text": [
      "\u001b[1minput_line_39:2:7: \u001b[0m\u001b[0;1;31merror: \u001b[0m\u001b[1mdeclaration of reference variable 'nichtinitialisiert' requires an initializer\u001b[0m\n",
      " int &nichtinitialisiert;  // Geht auch nicht\n",
      "\u001b[0;1;32m      ^~~~~~~~~~~~~~~~~~\n",
      "\u001b[0m"
     ]
    },
    {
     "ename": "Interpreter Error",
     "evalue": "",
     "output_type": "error",
     "traceback": [
      "Interpreter Error: "
     ]
    }
   ],
   "source": [
    "int &nichtinitialisiert;  // Geht auch nicht"
   ]
  },
  {
   "cell_type": "markdown",
   "metadata": {},
   "source": [
    "Diese Einschränkungen gelten auch für Referenz-Parameter."
   ]
  },
  {
   "cell_type": "code",
   "execution_count": 29,
   "metadata": {},
   "outputs": [],
   "source": [
    "void mitReferenz(int &referenz) {\n",
    "    referenz++;\n",
    "}"
   ]
  },
  {
   "cell_type": "code",
   "execution_count": 30,
   "metadata": {},
   "outputs": [],
   "source": [
    "mitReferenz(variable);    // Geht"
   ]
  },
  {
   "cell_type": "code",
   "execution_count": 31,
   "metadata": {},
   "outputs": [
    {
     "name": "stderr",
     "output_type": "stream",
     "text": [
      "\u001b[1minput_line_42:2:2: \u001b[0m\u001b[0;1;31merror: \u001b[0m\u001b[1mno matching function for call to 'mitReferenz'\u001b[0m\n",
      " mitReferenz(42);          \n",
      "\u001b[0;1;32m ^~~~~~~~~~~\n",
      "\u001b[0m\u001b[1minput_line_40:1:6: \u001b[0m\u001b[0;1;30mnote: \u001b[0mcandidate function not viable: expects an l-value for 1st argument\u001b[0m\n",
      "void mitReferenz(int &referenz) {\n",
      "\u001b[0;1;32m     ^\n",
      "\u001b[0m"
     ]
    },
    {
     "ename": "Interpreter Error",
     "evalue": "",
     "output_type": "error",
     "traceback": [
      "Interpreter Error: "
     ]
    }
   ],
   "source": [
    "mitReferenz(42);          // Geht nicht"
   ]
  },
  {
   "cell_type": "code",
   "execution_count": 32,
   "metadata": {},
   "outputs": [
    {
     "name": "stderr",
     "output_type": "stream",
     "text": [
      "\u001b[1minput_line_43:2:2: \u001b[0m\u001b[0;1;31merror: \u001b[0m\u001b[1mno matching function for call to 'mitReferenz'\u001b[0m\n",
      " mitReferenz(variable+1);  // Geht nicht\n",
      "\u001b[0;1;32m ^~~~~~~~~~~\n",
      "\u001b[0m\u001b[1minput_line_40:1:6: \u001b[0m\u001b[0;1;30mnote: \u001b[0mcandidate function not viable: expects an l-value for 1st argument\u001b[0m\n",
      "void mitReferenz(int &referenz) {\n",
      "\u001b[0;1;32m     ^\n",
      "\u001b[0m"
     ]
    },
    {
     "ename": "Interpreter Error",
     "evalue": "",
     "output_type": "error",
     "traceback": [
      "Interpreter Error: "
     ]
    }
   ],
   "source": [
    "mitReferenz(variable+1);  // Geht nicht"
   ]
  },
  {
   "cell_type": "markdown",
   "metadata": {},
   "source": [
    "# Zusammenfassung\n",
    "\n",
    "- Eine Variable/ein Objekt hat eine **Adresse**, die den Ort angbit, an dem es gepsichert wird.\n",
    "\n",
    "- Die Adresse kann man sich mit dem Adressoperator `&` zurückgeben lassen.\n",
    "\n",
    "- Beim Aufruf einer Operation werden in der Regel **Kopien** der Argumente gemacht und in den lokalen Variablen, die die Parameter darstellen, gespeichert. Diesen Vorgang nennt man **Call-By-Value** - \"Aufruf mittels Wert\".\n",
    "\n",
    "- Wird dem Namen des Parameters in der Signatur der Adressoperator `&` vorangestellt wird der Wert des Arguments nicht kopiert, sondern derselbe Speicherbereich verwendet. Diesen Vorgang nennt man **Call-By-Reference** - \"Aufruf mittels Referenz\".\n",
    "\n",
    "- Man kann auch **Referenz-Variablen** deklarieren, die auf andere Variablen verweisen."
   ]
  },
  {
   "cell_type": "markdown",
   "metadata": {},
   "source": [
    "# Die Nutzung von Referenz-Parametern\n",
    "\n",
    "Mit Hilfe von Referenz-Parametern kann man z.B. Operationen implementieren, die mehrere Werte zurückgeben. Zum Beispiel kann man gleichzeitig **beide** Koordinaten eines Kreismittelpunktes zurückgeben."
   ]
  },
  {
   "cell_type": "code",
   "execution_count": 1,
   "metadata": {},
   "outputs": [],
   "source": [
    "#include <algoviz/SVG.hpp>\n",
    "#include <iostream>\n",
    "using namespace std;\n",
    "\n",
    "AlgoViz::clear();\n",
    "\n",
    "SVG zeichnung = SVG(400,400);\n",
    "Circle kreis = Circle(70,30,5,&zeichnung);"
   ]
  },
  {
   "cell_type": "code",
   "execution_count": 2,
   "metadata": {},
   "outputs": [],
   "source": [
    "void getPos(Circle k, int &x, int &y) {\n",
    "    // x und y sind Referenz-Parameter\n",
    "    // Die Koordinaten des Kreises werden in x und y gespeichert.\n",
    "    x = k.getX();\n",
    "    y = k.getY();\n",
    "}"
   ]
  },
  {
   "cell_type": "code",
   "execution_count": 3,
   "metadata": {},
   "outputs": [
    {
     "name": "stdout",
     "output_type": "stream",
     "text": [
      "70,30\n"
     ]
    }
   ],
   "source": [
    "int xpos; \n",
    "int ypos;\n",
    "\n",
    "kreis.moveTo(120,50);\n",
    "\n",
    "getPos(kreis,xpos,ypos);\n",
    "\n",
    "// Nach dem Aufruf enthalten die Variablen xpos\n",
    "// und ypos Die Koordinaten des Kreismittelpunktes.\n",
    "cout << xpos << \",\" << ypos << endl;"
   ]
  },
  {
   "cell_type": "markdown",
   "metadata": {},
   "source": [
    "<div class=\"followup\">\n",
    "    <h3>Wo es weiter geht</h3>\n",
    "    <div>Die Adressen eines Objektes oder eines Wertes können auch noch auf andere Art genutzt werden.\n",
    "        Man kann sie als\n",
    "        <a class=\"followup\" href=\"/user-redirect/algoviz/lessons/05_Objekte/02_Zeiger.ipynb\">Zeiger</a>\n",
    "        auf Objekte und Daten verwenden.\n",
    "    </div>\n",
    "</div>   "
   ]
  }
 ],
 "metadata": {
  "kernelspec": {
   "display_name": "C++17",
   "language": "C++17",
   "name": "xcpp17"
  },
  "language_info": {
   "codemirror_mode": "text/x-c++src",
   "file_extension": ".cpp",
   "mimetype": "text/x-c++src",
   "name": "c++",
   "version": "17"
  }
 },
 "nbformat": 4,
 "nbformat_minor": 4
}
