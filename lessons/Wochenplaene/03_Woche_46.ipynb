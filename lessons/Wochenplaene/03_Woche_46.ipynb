{
 "cells": [
  {
   "cell_type": "markdown",
   "metadata": {},
   "source": [
    "# Kalender-Woche 46 (9.11.2020)\n",
    "\n",
    "## Einführung\n",
    "\n",
    "* [Zeichen und Strings](/user-redirect/algoviz/lessons/02_Grundlagen/16_Strings.ipynb)\n",
    "* [Arrays](/user-redirect/algoviz/lessons/03_Fortgeschritten/00_Arrays.ipynb)\n",
    "\n",
    "\n",
    "## Weiterführend\n",
    "\n",
    "* [Cäsar-Verschlüsselung](/user-redirect/algoviz/lessons/02_Grundlagen/22_Caesar.ipynb)\n",
    "* [Beispiel: Snake](/user-redirect/algoviz/lessons/03_Fortgeschritten/01_Snake.ipynb)\n",
    "* [Mehrdimensionale Arrays](/user-redirect/algoviz/lessons/03_Fortgeschritten/02_MultArray.ipynb)\n",
    "* [Beispiel: SimplePaint](/user-redirect/algoviz/lessons/03_Fortgeschritten/03_MultBeispiel.ipynb)\n",
    "* [Vektoren](/user-redirect/algoviz/lessons/03_Fortgeschritten/04_Vektoren.ipynb)\n",
    "* [Shortcuts](/user-redirect/algoviz/lessons/03_Fortgeschritten/05_Shortcuts.ipynb)\n",
    "\n",
    "## Perspektiven\n",
    "\n",
    "## Zusätze"
   ]
  }
 ],
 "metadata": {
  "kernelspec": {
   "display_name": "Python 3",
   "language": "python",
   "name": "python3"
  },
  "language_info": {
   "codemirror_mode": {
    "name": "ipython",
    "version": 3
   },
   "file_extension": ".py",
   "mimetype": "text/x-python",
   "name": "python",
   "nbconvert_exporter": "python",
   "pygments_lexer": "ipython3",
   "version": "3.8.3"
  }
 },
 "nbformat": 4,
 "nbformat_minor": 4
}
