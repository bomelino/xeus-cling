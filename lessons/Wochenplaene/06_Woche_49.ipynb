{
 "cells": [
  {
   "cell_type": "markdown",
   "metadata": {},
   "source": [
    "# Kalender-Woche 49 (30.11.2020)\n",
    "\n",
    "In dieser Woche beschäftigen wir uns insbesondere mit dem technischen Konzepten der Klasse und der Objekte.\n",
    "Wir werden diese im weiteren Verlauf der Vorlesung immer wieder in den unterschiedlichsten arten einsetzen.\n",
    "Daher begnügen wir uns in diesen Lessons mit einem recht einfachen Beispiel, um die Grundlagen kennenzulernen.\n",
    "\n",
    "Vorher werden wir jedoch die **Adressen** von Daten und das darauf beruhende Konzept des **Zeigers** kennenlernen. Beide spielen eine große Rolle bei der Nutzung und Erzeugung von Objekten.\n",
    "\n",
    "## Einführung\n",
    "\n",
    "* [Die Laufzeit von Heapsort](/user-redirect/algoviz/lessons/04_Sortieren/08_HeapSortLaufzeit.ipynb)\n",
    "* Und eine Wiederholung zu [Objekten und Klassen](/user-redirect/algoviz/lessons/05_Objekte/00_Objekte.ipynb)\n",
    "\n",
    "\n",
    "## Weiterführend\n",
    "\n",
    "* [Referenzen und Adressen](/user-redirect/algoviz/lessons/05_Objekte/01_Referenzen.ipynb)\n",
    "* [Zeiger](/user-redirect/algoviz/lessons/05_Objekte/02_Zeiger.ipynb)\n",
    "* [Dynamische Objekte](/user-redirect/algoviz/lessons/05_Objekte/03_DynamischeObjekte.ipynb)\n",
    "* [Beispiel: Regentropfen](/user-redirect/algoviz/lessons/05_Objekte/04_Raindrops.ipynb)\n",
    "* [Erstellen eigener Klassen](/user-redirect/algoviz/lessons/05_Objekte/05_Klassen.ipynb)\n",
    "* [Konstruktoren und Destruktoren](/user-redirect/algoviz/lessons/05_Objekte/06_Konstruktoren.ipynb)\n",
    "* [Kapselung](/user-redirect/algoviz/lessons/05_Objekte/07_Kapselung.ipynb)\n",
    "* [Beispiel: Die Klasse Bruch](/user-redirect/algoviz/lessons/05_Objekte/08_Bruch.ipynb)\n",
    "\n",
    "\n",
    "## Perspektiven\n",
    "\n",
    "Sind aus Zeitgründen leider noch nicht fertig (werden eventuell im Laufe der Woche ergänzt)\n",
    "\n",
    "\n",
    "## Zusätze"
   ]
  }
 ],
 "metadata": {
  "kernelspec": {
   "display_name": "Python 3",
   "language": "python",
   "name": "python3"
  },
  "language_info": {
   "codemirror_mode": {
    "name": "ipython",
    "version": 3
   },
   "file_extension": ".py",
   "mimetype": "text/x-python",
   "name": "python",
   "nbconvert_exporter": "python",
   "pygments_lexer": "ipython3",
   "version": "3.8.3"
  }
 },
 "nbformat": 4,
 "nbformat_minor": 4
}
