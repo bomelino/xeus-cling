{
 "cells": [
  {
   "cell_type": "markdown",
   "metadata": {},
   "source": [
    "# Kalender-Woche 51 (14.12.2020)\n",
    "\n",
    "\n",
    "## Einführung\n",
    "\n",
    "* [MergeSort](/user-redirect/algoviz/lessons/07_Rekursion/00_Mergesort.ipynb)\n",
    "* [Rekursion](/user-redirect/algoviz/lessons/07_Rekursion/04_Rekursion.ipynb)\n",
    "\n",
    "## Weiterführend\n",
    "\n",
    "* [Die Implementierung von MergeSort](/user-redirect/algoviz/lessons/07_Rekursion/01_MergesortImplementierung.ipynb)\n",
    "* [Die Laufzeit von MergeSort](/user-redirect/algoviz/lessons/07_Rekursion/02_MergesortLaufzeit.ipynb)\n",
    "* [Einfache Beispiele für Rekursion](/user-redirect/algoviz/lessons/07_Rekursion/05_RekursionBeispiele.ipynb)\n",
    "* [Rekursion in Algorithmen](/user-redirect/algoviz/lessons/07_Rekursion/06_RekursionAlgorithmen.ipynb)\n",
    "* [QuickSort](/user-redirect/algoviz/lessons/07_Rekursion/07_Quicksort.ipynb)\n",
    "* [Die Laufzeit von QuickSort](/user-redirect/algoviz/lessons/07_Rekursion/08_QuicksortLaufzeit.ipynb)\n",
    "\n",
    "\n",
    "## Perspektiven\n",
    "\n",
    "* Ein frohes und (hoffentlich) gesundes neues Jahr!\n",
    "* [Hier geht es weiter](/user-redirect/algoviz/lessons/Wochenplaene/08_Woche_51.ipynb)\n",
    "\n",
    "## Zusätze\n",
    "\n",
    "* **Die Weihnachtsvorlesung** am 17.12.2020 um 18:00 Uhr auf dem üblichen Live-Streaming-Kanal"
   ]
  }
 ],
 "metadata": {
  "kernelspec": {
   "display_name": "Python 3",
   "language": "python",
   "name": "python3"
  },
  "language_info": {
   "codemirror_mode": {
    "name": "ipython",
    "version": 3
   },
   "file_extension": ".py",
   "mimetype": "text/x-python",
   "name": "python",
   "nbconvert_exporter": "python",
   "pygments_lexer": "ipython3",
   "version": "3.8.3"
  }
 },
 "nbformat": 4,
 "nbformat_minor": 4
}
