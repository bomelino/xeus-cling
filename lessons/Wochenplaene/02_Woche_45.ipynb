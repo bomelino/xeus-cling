{
 "cells": [
  {
   "cell_type": "markdown",
   "metadata": {},
   "source": [
    "# Kalender-Woche 45 (2.11.2020)\n",
    "\n",
    "## Einführung\n",
    "\n",
    "* [Entscheidungsanweisungen](/user-redirect/algoviz/lessons/02_Grundlagen/11_Entscheidngen.ipynb)\n",
    "* [Booleans](/user-redirect/algoviz/lessons/02_Grundlagen/04_Booleans.ipynb)\n",
    "\n",
    "\n",
    "## Weiterführend\n",
    "\n",
    "* [Vergleiche](/user-redirect/algoviz/lessons/02_Grundlagen/15_Vergleiche.ipynb)\n",
    "* [Schleifen](/user-redirect/algoviz/lessons/02_Grundlagen/12_Schleifen.ipynb)\n",
    "* [Umwandlung von Binärzahlen](/user-redirect/algoviz/lessons/02_Grundlagen/20_UmwandlungBinaer.ipynb)\n",
    "* [Zählschleifen](/user-redirect/algoviz/lessons/02_Grundlagen/13_Zaehlschleifen.ipynb)\n",
    "* [Tastatureingaben](/user-redirect/algoviz/lessons/02_Grundlagen/18_Tastatur.ipynb)\n",
    "* [Tracetabellen](/user-redirect/algoviz/lessons/02_Grundlagen/17_Tracetabellen.ipynb)\n",
    "\n",
    "## Perspektiven\n",
    "\n",
    "* [Zeichen und Strings](/user-redirect/algoviz/lessons/02_Grundlagen/16_Strings.ipynb)\n",
    "\n",
    "## Zusätze\n",
    "\n",
    "* [Der hüpfende Ball](/user-redirect/algoviz/lessons/02_Grundlagen/19_BouncingBall.ipynb)"
   ]
  }
 ],
 "metadata": {
  "kernelspec": {
   "display_name": "Python 3",
   "language": "python",
   "name": "python3"
  },
  "language_info": {
   "codemirror_mode": {
    "name": "ipython",
    "version": 3
   },
   "file_extension": ".py",
   "mimetype": "text/x-python",
   "name": "python",
   "nbconvert_exporter": "python",
   "pygments_lexer": "ipython3",
   "version": "3.8.3"
  }
 },
 "nbformat": 4,
 "nbformat_minor": 4
}
