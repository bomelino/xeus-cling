{
 "cells": [
  {
   "cell_type": "markdown",
   "metadata": {},
   "source": [
    "# Kalender-Woche 43 (19.10.2020)\n",
    "\n",
    "## Einführung\n",
    "\n",
    "* [Notebooks und Zellen](/user-redirect/algoviz/lessons/00_Organisatorisches/00_NotebooksUndZellen.ipynb)\n",
    "* [Ein erstes Programm](/user-redirect/algoviz/lessons/01_Algorithmen/00_EinErstesProgramm.ipynb)\n",
    "* [Aktualisierung der Materialien](/user-redirect/algoviz/lessons/00_Organisatorisches/01_Aktualisierung.ipynb)\n",
    "\n",
    "## Weiterführend\n",
    "\n",
    "* [Algorithmen](/user-redirect/algoviz/lessons/01_Algorithmen/01_Algorithmen.ipynb)\n",
    "* [Imperative Programme](/user-redirect/algoviz/lessons/01_Algorithmen/02_ImperativeProgramme.ipynb)\n",
    "* [Algorithmendarstellungen](/user-redirect/algoviz/lessons/01_Algorithmen/04_Algorithmendarstellungen.ipynb)\n",
    "* [Bits, Bytes und Binärzahlen](/user-redirect/algoviz/lessons/02_Grundlagen/00_Binaerzahlen.ipynb)\n",
    "\n",
    "## Perspektiven\n",
    "\n",
    "* [Datentypen](/user-redirect/algoviz/lessons/02_Grundlagen/01_Datentypen.ipynb)\n",
    "* [Ein- und Ausgabe](/user-redirect/algoviz/lessons/02_Grundlagen/06_EinUndAusgabe.ipynb)\n",
    "\n",
    "## Zusätze\n",
    "\n",
    "* [Wirkungen und die fiktive Maschine](/user-redirect/algoviz/lessons/01_Algorithmen/03_FiktiveMaschine.ipynb)"
   ]
  }
 ],
 "metadata": {
  "kernelspec": {
   "display_name": "Python 3",
   "language": "python",
   "name": "python3"
  },
  "language_info": {
   "codemirror_mode": {
    "name": "ipython",
    "version": 3
   },
   "file_extension": ".py",
   "mimetype": "text/x-python",
   "name": "python",
   "nbconvert_exporter": "python",
   "pygments_lexer": "ipython3",
   "version": "3.8.3"
  }
 },
 "nbformat": 4,
 "nbformat_minor": 4
}
