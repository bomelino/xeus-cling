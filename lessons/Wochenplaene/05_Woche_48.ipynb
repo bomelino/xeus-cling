{
 "cells": [
  {
   "cell_type": "markdown",
   "metadata": {},
   "source": [
    "# Kalender-Woche 48 (23.11.2020)\n",
    "\n",
    "## Einführung\n",
    "\n",
    "* [Asymptotische Laufzeit](/user-redirect/algoviz/lessons/04_Sortieren/03_AsymptotischeLaufzeiten.ipynb)\n",
    "* [Sortieren](/user-redirect/algoviz/lessons/04_Sortieren/04_Sortieren.ipynb)\n",
    "\n",
    "\n",
    "## Weiterführend\n",
    "\n",
    "* [Weitere Sortierverfahren](/user-redirect/algoviz/lessons/04_Sortieren/05_WeitereVerfahren.ipynb)\n",
    "* [HeapSort](/user-redirect/algoviz/lessons/04_Sortieren/06_Heapsort.ipynb)\n",
    "* [Die Implementierung von HeapSort](/user-redirect/algoviz/lessons/04_Sortieren/07_HeapSortImplementierung.ipynb)\n",
    "\n",
    "\n",
    "## Perspektiven\n",
    "\n",
    "\n",
    "## Zusätze"
   ]
  }
 ],
 "metadata": {
  "kernelspec": {
   "display_name": "Python 3",
   "language": "python",
   "name": "python3"
  },
  "language_info": {
   "codemirror_mode": {
    "name": "ipython",
    "version": 3
   },
   "file_extension": ".py",
   "mimetype": "text/x-python",
   "name": "python",
   "nbconvert_exporter": "python",
   "pygments_lexer": "ipython3",
   "version": "3.8.3"
  }
 },
 "nbformat": 4,
 "nbformat_minor": 4
}
