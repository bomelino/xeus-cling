{
 "cells": [
  {
   "cell_type": "markdown",
   "metadata": {},
   "source": [
    "# Kalender-Woche 44 (26.10.2020)\n",
    "\n",
    "## Einführung\n",
    "\n",
    "* [Datentypen](/user-redirect/algoviz/lessons/02_Grundlagen/01_Datentypen.ipynb)\n",
    "\n",
    "## Weiterführend\n",
    "\n",
    "* [Variablen](/user-redirect/algoviz/lessons/02_Grundlagen/02_Variablen.ipynb)\n",
    "* [Integer Typen](/user-redirect/algoviz/lessons/02_Grundlagen/03_Ints.ipynb)\n",
    "* [Rechnen in beschränkten Zahlräumen](/user-redirect/algoviz/lessons/02_Grundlagen/05_RechnenImKreis.ipynb)\n",
    "* [Datentypen für Dezmalzahlen](/user-redirect/algoviz/lessons/02_Grundlagen/07_Floats.ipynb)\n",
    "* [Ein- und Ausgabe](/user-redirect/algoviz/lessons/02_Grundlagen/06_EinUndAusgabe.ipynb)\n",
    "* [AlgoViz](/user-redirect/algoviz/lessons/02_Grundlagen/10_AlgoViz.ipynb)\n",
    "* [Ein erster Kontakt mit Objekten](/user-redirect/algoviz/lessons/02_Grundlagen/14_ErsterKontaktMitObjekten.ipynb)\n",
    "\n",
    "## Perspektiven\n",
    "\n",
    "* [Entscheidungsanweisungen](/user-redirect/algoviz/lessons/02_Grundlagen/11_Entscheidungen.ipynb)\n",
    "\n",
    "## Zusätze\n",
    "\n",
    "* [Festkomma-Darstellung](/user-redirect/algoviz/lessons/02_Grundlagen/08_Festkomma.ipynb)\n",
    "* [Gleitkomma-Darstellung](/user-redirect/algoviz/lessons/02_Grundlagen/09_Gleitkomma.ipynb)"
   ]
  }
 ],
 "metadata": {
  "kernelspec": {
   "display_name": "Python 3",
   "language": "python",
   "name": "python3"
  },
  "language_info": {
   "codemirror_mode": {
    "name": "ipython",
    "version": 3
   },
   "file_extension": ".py",
   "mimetype": "text/x-python",
   "name": "python",
   "nbconvert_exporter": "python",
   "pygments_lexer": "ipython3",
   "version": "3.8.3"
  }
 },
 "nbformat": 4,
 "nbformat_minor": 4
}
