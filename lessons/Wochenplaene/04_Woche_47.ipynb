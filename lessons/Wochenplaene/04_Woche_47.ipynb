{
 "cells": [
  {
   "cell_type": "markdown",
   "metadata": {},
   "source": [
    "# Kalender-Woche 47 (16.11.2020)\n",
    "\n",
    "## Einführung\n",
    "\n",
    "* [Operationen](/user-redirect/algoviz/lessons/03_Fortgeschritten/06_Operationen.ipynb)\n",
    "\n",
    "\n",
    "## Weiterführend\n",
    "\n",
    "* [Lokale Variablen](/user-redirect/algoviz/lessons/03_Fortgeschritten/07_LokaleVariablen.ipynb)\n",
    "* [Lineare Suche in Arrays](/user-redirect/algoviz/lessons/04_Sortieren/00_Suche.ipynb)\n",
    "* [Binäre Suche in Arrays](/user-redirect/algoviz/lessons/04_Sortieren/01_BinaereSuche.ipynb)\n",
    "* [Die Laufzeit der binären Suche](/user-redirect/algoviz/lessons/04_Sortieren/02_BinaereSucheLaufzeit.ipynb)\n",
    "* [Asymptotische Laufzeit](/user-redirect/algoviz/lessons/04_Sortieren/03_AsymptotischeLaufzeiten.ipynb) - Diese Lesson ist etwas länger und recht theoretisch. Man kann sie gut zwischen dieser und nächster Woche aufteilen.\n",
    "\n",
    "\n",
    "## Perspektiven\n",
    "\n",
    "Diesmal gibt es aufgrund der Asymptotischen Laufzeit keine Perspektive. Nehmen Sie sich lieber Zeit um dieses Konzept zu verstehen.\n",
    "\n",
    "## Zusätze"
   ]
  }
 ],
 "metadata": {
  "kernelspec": {
   "display_name": "Python 3",
   "language": "python",
   "name": "python3"
  },
  "language_info": {
   "codemirror_mode": {
    "name": "ipython",
    "version": 3
   },
   "file_extension": ".py",
   "mimetype": "text/x-python",
   "name": "python",
   "nbconvert_exporter": "python",
   "pygments_lexer": "ipython3",
   "version": "3.8.3"
  }
 },
 "nbformat": 4,
 "nbformat_minor": 4
}
