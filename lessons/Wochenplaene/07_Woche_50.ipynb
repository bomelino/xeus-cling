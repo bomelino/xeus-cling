{
 "cells": [
  {
   "cell_type": "markdown",
   "metadata": {},
   "source": [
    "# Kalender-Woche 50 (7.12.2020)\n",
    "\n",
    "\n",
    "## Einführung\n",
    "\n",
    "* [Abstrakte Datentypen](/user-redirect/algoviz/lessons/06_ADT/00_AbstrakteDatentypen.ipynb)\n",
    "\n",
    "\n",
    "## Weiterführend\n",
    "\n",
    "* [Listen](/user-redirect/algoviz/lessons/06_ADT/01_Liste.ipynb)\n",
    "* [Iteration über eine Liste](/user-redirect/algoviz/lessons/06_ADT/02_Iteration.ipynb)\n",
    "* [Einfügen und Löschen in Listen](/user-redirect/algoviz/lessons/06_ADT/03_EinfuegenLoeschen.ipynb)\n",
    "* [Sortiertes Einfügen](/user-redirect/algoviz/lessons/06_ADT/04_SortiertesEinfuegen.ipynb)\n",
    "* [Queues](/user-redirect/algoviz/lessons/06_ADT/05_Queues.ipynb)\n",
    "* [Der FloodFill-Algorithmus](/user-redirect/algoviz/lessons/06_ADT/06_FloodFill.ipynb)\n",
    "* [Stacks](/user-redirect/algoviz/lessons/06_ADT/07_Stacks.ipynb)\n",
    "* [Sortieren mit Stacks](/user-redirect/algoviz/lessons/06_ADT/08_StackSort.ipynb)\n",
    "\n",
    "\n",
    "## Perspektiven\n",
    "\n",
    "\n",
    "## Zusätze\n",
    "\n",
    "* [Der FloodFill-Algorithmus mit einem Stack](/user-redirect/algoviz/lessons/06_ADT/06_FloodFillStack.ipynb)"
   ]
  }
 ],
 "metadata": {
  "kernelspec": {
   "display_name": "Python 3",
   "language": "python",
   "name": "python3"
  },
  "language_info": {
   "codemirror_mode": {
    "name": "ipython",
    "version": 3
   },
   "file_extension": ".py",
   "mimetype": "text/x-python",
   "name": "python",
   "nbconvert_exporter": "python",
   "pygments_lexer": "ipython3",
   "version": "3.8.3"
  }
 },
 "nbformat": 4,
 "nbformat_minor": 4
}
