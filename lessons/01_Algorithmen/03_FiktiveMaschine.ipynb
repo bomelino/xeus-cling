{
 "cells": [
  {
   "cell_type": "markdown",
   "metadata": {},
   "source": [
    "# Wirkungen und die fiktive Maschine\n",
    "\n",
    "Dieser Abschnitt ist ein Zusatz, der einen Aspekt der didaktischen Philosophie dieser Vorlesung erläutert. Das Konzept der fiktiven Maschine ist allerdings ein tatsächliches technisches Konzept, dass die verschiedenen Abstraktionsebenen des Computers, bzw. von informationsverarbeitenden Systemen modelliert.\n",
    "\n",
    "Insofern ist dieser Abschnitt vielleicht für angehende Lehrer und echte Informatiker von besonderem Interesse."
   ]
  },
  {
   "cell_type": "markdown",
   "metadata": {},
   "source": [
    "<div class=\"slideshow 01_Algorithmen/05_FiktiveMaschine/slides.json\">Fiktive Maschinen</div>"
   ]
  },
  {
   "cell_type": "markdown",
   "metadata": {},
   "source": [
    "<div class=\"foolowup\">\n",
    "    <h\n",
    "</div>"
   ]
  },
  {
   "cell_type": "markdown",
   "metadata": {},
   "source": [
    "<div class=\"followup\">\n",
    "    <h3>Wo es weitergeht</h3>\n",
    "    <div>\n",
    "        <ul>\n",
    "            <li><a class=\"followup\" href=\"/user-redirect/algoviz/lessons/02_Grundlagen/00_Binaerzahlen.ipynb\">Bits, Bytes und Binärzahlen</a></li>\n",
    "        </ul>\n",
    "    </div>\n",
    "</div>"
   ]
  }
 ],
 "metadata": {
  "kernelspec": {
   "display_name": "C++17",
   "language": "C++17",
   "name": "xcpp17"
  },
  "language_info": {
   "codemirror_mode": "text/x-c++src",
   "file_extension": ".cpp",
   "mimetype": "text/x-c++src",
   "name": "c++",
   "version": "17"
  }
 },
 "nbformat": 4,
 "nbformat_minor": 4
}
