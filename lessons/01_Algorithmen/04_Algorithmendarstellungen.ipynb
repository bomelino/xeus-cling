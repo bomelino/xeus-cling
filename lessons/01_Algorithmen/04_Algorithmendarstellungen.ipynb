{
 "cells": [
  {
   "cell_type": "markdown",
   "metadata": {},
   "source": [
    "# Algorithmendarstellungen\n",
    "\n",
    "In dieser Lesson stellen wir einige Algorithmendarstellungen vor, die an verschiedenen Stellen im Studium auftreten werden. Wir werden insbesondere den Pseudocode und die Struktogramme verwenden."
   ]
  },
  {
   "cell_type": "markdown",
   "metadata": {},
   "source": [
    "<div class=\"slideshow 01_Algorithmen/06_Algorithmendarstellung/slides.json\">Algorithmendarstellungen</div>"
   ]
  },
  {
   "cell_type": "markdown",
   "metadata": {},
   "source": [
    "<div class=\"task\">\n",
    "    <h3>Aufgabe</h3>\n",
    "    <div>\n",
    "       Der <a href=\"https://structorizer.fisch.lu/\">Structorizer</a> ist ein Programm mit dem man sehr gut\n",
    "        Struktogramme erstellen kann. Wir empfehlen, dass Sie sich diesen einmal ansehen.\n",
    "    </div>\n",
    "    <div>\n",
    "        Als (gar nicht so kleine) Übung könnten Sie z.B. den <b>Freundschafts-Algorithmus</b> in ein\n",
    "        Struktogramm umwandeln. Flussdiagramme für ihn finden Sie im WWW.\n",
    "    </div>\n",
    "</div>"
   ]
  },
  {
   "cell_type": "markdown",
   "metadata": {},
   "source": [
    "<div class=\"followup\">\n",
    "    <h3>Wo es weitergeht</h3>\n",
    "    <div>\n",
    "    <ul>\n",
    "        <li><a class=\"followup\" href=\"/user-redirect/algoviz/lessons/02_Grundlagen/00_Binaerzahlen.ipynb\">Bits, Bytes und Binärzahlen</a></li>\n",
    "    </ul>\n",
    "    </div>\n",
    "</div>"
   ]
  }
 ],
 "metadata": {
  "kernelspec": {
   "display_name": "C++17",
   "language": "C++17",
   "name": "xcpp17"
  },
  "language_info": {
   "codemirror_mode": "text/x-c++src",
   "file_extension": ".cpp",
   "mimetype": "text/x-c++src",
   "name": "c++",
   "version": "17"
  }
 },
 "nbformat": 4,
 "nbformat_minor": 4
}
