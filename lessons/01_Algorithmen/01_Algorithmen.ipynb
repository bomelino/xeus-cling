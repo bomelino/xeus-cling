{
 "cells": [
  {
   "cell_type": "markdown",
   "metadata": {},
   "source": [
    "# Algorithmen"
   ]
  },
  {
   "cell_type": "markdown",
   "metadata": {},
   "source": [
    "<div class=\"slideshow 01_Algorithmen/02_Algorithmen/slides.json\">Algorithmen</div>"
   ]
  },
  {
   "cell_type": "markdown",
   "metadata": {},
   "source": [
    "Algorithmen und Programme sind also im Kern **Sequenzen** von **Anweisungen** oder **Befehlen**, die auf einem bestimmten **System** ausgeführt werden. Diese müssen in einer bestimmten Form und nach bestimmten Regeln, der sogenannten **Syntax**, notiert werden. Außerdem verwendet man bestimmte **Schlüsselworte**, mit denen die möglichen Befehle bezeichnet werden. Zudem hat jede Anweisung eine eindeutig bestimmte Wirkung auf das programmierte System. Dies fasst man unter dem Begriff **Semantik** zusammen.\n",
    "\n",
    "Im Folgenden werden wir uns anhand eines sehr intuitiven Systems mit der Syntax von Anweisungen in C++ beschäftigen."
   ]
  },
  {
   "cell_type": "markdown",
   "metadata": {},
   "source": [
    "## Elementaroperationen - Die Schildkröte\n",
    "\n",
    "Ein sehr intuitives System, dass seit den 60er Jahren des zwanzigsten Jahrhunderts dafür genutzt wird Kindern das Programmieren beizubringen, ist die **Schildkröten-Grafik**. Dabei steuert man eine kleine Schildkröte über ein Blatt Papier. Sie hinterlässt dabei eine Linie, die den von ihr gelaufenen Weg nachzeichnet.\n",
    "\n",
    "Zur Steuerung der Schildkröte stehen nur einige wenige **Basisbefehle** oder **Elementaroperationen** zur Verfügung:\n",
    "* *Gehe X Schritte vorwärts*\n",
    "* *Gehe X Schritte rückwärts*\n",
    "* *Drehe dich x Grad im Uhrzeigersinn*\n",
    "* *Hebe den Stift an*\n",
    "* *Senke den Stift ab*\n",
    "* *Ändere die Zeichenfarbe auf x*\n",
    "\n",
    "Die **Semantik** dieser Anweisungen, also ihre Wirkung auf die Schildkröte, ist sofort klar.\n",
    "D.h. wir können uns auf die Syntax konzentrieren."
   ]
  },
  {
   "cell_type": "markdown",
   "metadata": {},
   "source": [
    "### Eine Biliothek\n",
    "\n",
    "Um die Schildkröte programmieren zu können benötigen wir eine **Bilbiothek**. Bibliotheken sind Programmkomponenten, die uns bestimmte Funktionalitäten zur Verfügung stellen. In C++ binden wir sie mit der **include-Direktive** ein. Für die Schildkröte benötigen wir die Bibliothek `algoviz/Turtle.hpp`. Wir binden sie ein."
   ]
  },
  {
   "cell_type": "code",
   "execution_count": 1,
   "metadata": {},
   "outputs": [],
   "source": [
    "#include <algoviz/Turtle.hpp>"
   ]
  },
  {
   "cell_type": "markdown",
   "metadata": {},
   "source": [
    "Wichtig an dieser Stelle ist die genaue Einhaltung der **Syntax**:\n",
    "* Das `#include` am Anfang, ohne Leerzeichen zwischen dem `#` und dem Wort `include`\n",
    "* Der korrekte Name, eingeschlossen von enem Paar **spitzer Klammern** `< ... >`"
   ]
  },
  {
   "cell_type": "markdown",
   "metadata": {},
   "source": [
    "Als nächstes \"machen\" wir eine Schildkröte. Dazu verwenden wir die **Klasse** `Turtle`. Dies ist eine der Programmkomponenten, die durch die Bibliothek `algoviz/Turtle` (man lässt das `hpp` häufig weg) zur Verfügung gestellt wird. Was genau eine **Klasse** ist werden wir später kennenlernen."
   ]
  },
  {
   "cell_type": "code",
   "execution_count": 2,
   "metadata": {},
   "outputs": [],
   "source": [
    "Turtle bowser = Turtle(420,420);"
   ]
  },
  {
   "cell_type": "markdown",
   "metadata": {},
   "source": [
    "<img style=\"float:right\" src=\"/user-redirect/algoviz/img/bowser.jpeg\" width=\"100\"></img>\n",
    "Diese Zeile ist zur Zeit vielleicht noch etwas rätselhaft. Tatsächlich hat sie zwei Wirkungen. Der Teil `Turtle(420,420)` bewirkt, dass eine Schildkröte erzeugt und dargestellt wird. Der Teil `Turtle bowser = ` bewirkt, dass eine [Variable](/user-redirect/algoviz/02_Grundlagen/02_Variqablen.ipynb) mit dem Namen `bowser` **deklariert** und die neu erzeugte Schildkröte in ihr gespeichert wird. \n",
    "\n",
    "Die Anweisung `Turtle(420,420)` hat außerdem zwei **Parameter**, die Breite und die Höhe des Zeichenbereichs in Pixeln.\n",
    "\n",
    "Der Befehl hat eine deutlich spürbare Wirkung. Es öffnet sich eine *Sidebar* in dem das Blatt Papier und die Schildkröte zu sehen sind."
   ]
  },
  {
   "cell_type": "markdown",
   "metadata": {},
   "source": [
    "Lassen wir sie Vorwärts gehen, sich um 90 Grad im Uhrzeigersinn drehen und wieder etwas vorwärts gehen."
   ]
  },
  {
   "cell_type": "code",
   "execution_count": 3,
   "metadata": {},
   "outputs": [],
   "source": [
    "bowser.forward(100);\n",
    "bowser.turn(90);\n",
    "bowser.forward(50);"
   ]
  },
  {
   "cell_type": "markdown",
   "metadata": {},
   "source": [
    "Wir haben drei Befehle hintereinander ausgeführt. Mit dem Befehl `forward(x)` geht die Schildkröte\n",
    "`x` Pixel in ihre aktuelle Richtung. Mit `turn(alpha)` dreht sich die Schildkröte um `alpha` Grad im Uhrzeigersinn.\n",
    "\n",
    "Wichtig ist, dass jeder Befehl mit einem **Semikolon** `;` beendet wird.\n",
    "\n",
    "Die Werte in den runden Klammern `( ... )` sind **Argumente**, die den Befehlen übergeben werden. Sie dienen dazu, bestimmte **Parameter** für die Befehle festzulegen. Beachten Sie dabei den Unterschied der beiden Begriffe:\n",
    "\n",
    "* Ein Befehl kann mehrere **Parameter** haben, die seine Wirkung beeinflussen. Beispiele sind die Größe des Zeichenbereichs, die Distanz, die die Schildkröte geht oder der Winkel um den sie sich dreht.\n",
    "\n",
    "* Bei der Ausführung eines Befehls müssen seine Parameter mit konkreten Werten versehen werden. Dies sind die **Argumente**. Sie werden dem Befehl in runden Klammern angehängt und jeweils durch Kommata getrennt.\n",
    "\n",
    "Es ist außerdem wichtig, dass wir stets `bowser.` vor den Befehl schreiben (inklusive des Punktes). Warum werden wir unten sehen."
   ]
  },
  {
   "cell_type": "markdown",
   "metadata": {},
   "source": [
    "Es stehen noch ein paar andere Befehle zur Verfügung:\n",
    "* `backward(x)`\n",
    "* `penUp()` (Achtung! Kein Argument!)\n",
    "* `penDown()`\n",
    "* `setColor(farbe)`\n",
    "* `setWidth(w)`\n",
    "* `clear()`\n",
    "* `reset()`\n",
    "* `moveTo(x,y)`\n",
    "\n",
    "Dabei sind `x`, `y` und `w` Zahlen. `farbe` jedoch ist eine Farbe. Die sehen etwas anders aus, z.B.\n",
    "* `\"red\"`oder `\"grün\"`\n",
    "* `\"#0000FF\"`\n",
    "Dabei sind die doppelten Anführungszeichen wichtig!\n",
    "\n",
    "Die Farben verwenden die [CSS Farbnamen](https://www.w3schools.com/cssref/css_colors.asp) oder die [CSS Farbnotation](https://www.w3schools.com/cssref/css_colors_legal.asp)."
   ]
  },
  {
   "cell_type": "markdown",
   "metadata": {},
   "source": [
    "<div class=\"task\">\n",
    "    <h3>Aufgabe</h3>\n",
    "    <div>\n",
    "    <p>Probieren Sie alle Befehle aus um ihre Wirkung kennenzulernen.</p>\n",
    "    <p>Fangen Sie mit <code>bowser.setColor(\"#0000FF\");</code> an</p>\n",
    "    </div>\n",
    "</div>"
   ]
  },
  {
   "cell_type": "code",
   "execution_count": 5,
   "metadata": {},
   "outputs": [],
   "source": [
    "// Los geht's! Experimentieren Sie rum!"
   ]
  },
  {
   "cell_type": "markdown",
   "metadata": {},
   "source": [
    "<img style=\"float:right\" src=\"/algoviz/img/tmnt.jpeg\" width=\"200\"></img>\n",
    "\n",
    "## Noch eine Schildkröte\n",
    "\n",
    "Bevor wir ein bisschen mit den Befehlen rumspielen, beantworten wir noch eine Frage: ** Warum muss immer `bowser` davor geschrieben werden?**\n",
    "\n",
    "Die Antwort ist relativ einfach: Es könnte noch eine andere Schildkröte geben. Machen wir noch eine:"
   ]
  },
  {
   "cell_type": "code",
   "execution_count": 6,
   "metadata": {},
   "outputs": [
    {
     "data": {
      "text/html": [
       "<script id=\"algoviz30\">try{AlgoViz.processMsg({\"type\":\"show\"},\"algoviz30\");}catch(ex){}</script>"
      ]
     },
     "metadata": {
      "tags": [
       "algoviz_output"
      ]
     },
     "output_type": "display_data"
    },
    {
     "data": {
      "text/html": [
       "<script id=\"algoviz32\">try{AlgoViz.processMsg({\"cmd\":\"create\",\"gheight\":2,\"gwidth\":2,\"height\":120,\"id\":31,\"type\":\"svg\",\"width\":120},\"algoviz32\");}catch(ex){}</script>"
      ]
     },
     "metadata": {
      "tags": [
       "algoviz_output"
      ]
     },
     "output_type": "display_data"
    },
    {
     "data": {
      "text/html": [
       "<script id=\"algoviz33\">try{AlgoViz.processMsg({\"cmd\":\"add\",\"eid\":0,\"form\":\"g\",\"id\":31,\"type\":\"svg\"},\"algoviz33\");}catch(ex){}</script>"
      ]
     },
     "metadata": {
      "tags": [
       "algoviz_output"
      ]
     },
     "output_type": "display_data"
    },
    {
     "data": {
      "text/html": [
       "<script id=\"algoviz34\">try{AlgoViz.processMsg({\"cmd\":\"add\",\"eid\":1,\"form\":\"g\",\"id\":31,\"type\":\"svg\"},\"algoviz34\");}catch(ex){}</script>"
      ]
     },
     "metadata": {
      "tags": [
       "algoviz_output"
      ]
     },
     "output_type": "display_data"
    },
    {
     "data": {
      "text/html": [
       "<script id=\"algoviz35\">try{AlgoViz.processMsg({\"attrs\":[\"d\",\"fill\"],\"cmd\":\"add\",\"eid\":2,\"form\":\"path\",\"id\":31,\"type\":\"svg\",\"values\":[\"M0 -5 L15 0 L0 5 Z\",\"transparent\"]},\"algoviz35\");}catch(ex){}</script>"
      ]
     },
     "metadata": {
      "tags": [
       "algoviz_output"
      ]
     },
     "output_type": "display_data"
    },
    {
     "data": {
      "text/html": [
       "<script id=\"algoviz36\">try{AlgoViz.processMsg({\"childid\":2,\"cmd\":\"addChild\",\"eid\":1,\"id\":31,\"type\":\"svg\"},\"algoviz36\");}catch(ex){}</script>"
      ]
     },
     "metadata": {
      "tags": [
       "algoviz_output"
      ]
     },
     "output_type": "display_data"
    },
    {
     "data": {
      "text/html": [
       "<script id=\"algoviz37\">try{AlgoViz.processMsg({\"attrs\":[\"transform\"],\"cmd\":\"attrs\",\"eid\":1,\"id\":31,\"type\":\"svg\",\"values\":[\"translate(0.000000,0.000000) rotate(0.000000)\"]},\"algoviz37\");}catch(ex){}</script>"
      ]
     },
     "metadata": {
      "tags": [
       "algoviz_output"
      ]
     },
     "output_type": "display_data"
    },
    {
     "data": {
      "text/html": [
       "<script id=\"algoviz38\">try{AlgoViz.processMsg({\"attrs\":[\"stroke\"],\"cmd\":\"attrs\",\"eid\":2,\"id\":31,\"type\":\"svg\",\"values\":[\"black\"]},\"algoviz38\");}catch(ex){}</script>"
      ]
     },
     "metadata": {
      "tags": [
       "algoviz_output"
      ]
     },
     "output_type": "display_data"
    },
    {
     "data": {
      "text/html": [
       "<script id=\"algoviz39\">try{AlgoViz.processMsg({\"attrs\":[\"fill\"],\"cmd\":\"attrs\",\"eid\":2,\"id\":31,\"type\":\"svg\",\"values\":[\"transparent\"]},\"algoviz39\");}catch(ex){}</script>"
      ]
     },
     "metadata": {
      "tags": [
       "algoviz_output"
      ]
     },
     "output_type": "display_data"
    },
    {
     "data": {
      "text/html": [
       "<script id=\"algoviz40\">try{AlgoViz.processMsg({\"cmd\":\"tofront\",\"eid\":1,\"id\":31,\"type\":\"svg\"},\"algoviz40\");}catch(ex){}</script>"
      ]
     },
     "metadata": {
      "tags": [
       "algoviz_output"
      ]
     },
     "output_type": "display_data"
    },
    {
     "data": {
      "text/html": [
       "<script id=\"algoviz41\">try{AlgoViz.processMsg({\"cmd\":\"empty\",\"eid\":0,\"id\":31,\"type\":\"svg\"},\"algoviz41\");}catch(ex){}</script>"
      ]
     },
     "metadata": {
      "tags": [
       "algoviz_output"
      ]
     },
     "output_type": "display_data"
    },
    {
     "data": {
      "text/html": [
       "<script id=\"algoviz42\">try{AlgoViz.processMsg({\"attrs\":[\"transform\"],\"cmd\":\"attrs\",\"eid\":1,\"id\":31,\"type\":\"svg\",\"values\":[\"translate(60.000000,60.000000) rotate(0.000000)\"]},\"algoviz42\");}catch(ex){}</script>"
      ]
     },
     "metadata": {
      "tags": [
       "algoviz_output"
      ]
     },
     "output_type": "display_data"
    },
    {
     "data": {
      "text/html": [
       "<script id=\"algoviz43\">try{AlgoViz.processMsg({\"attrs\":[\"stroke\"],\"cmd\":\"attrs\",\"eid\":2,\"id\":31,\"type\":\"svg\",\"values\":[\"black\"]},\"algoviz43\");}catch(ex){}</script>"
      ]
     },
     "metadata": {
      "tags": [
       "algoviz_output"
      ]
     },
     "output_type": "display_data"
    },
    {
     "data": {
      "text/html": [
       "<script id=\"algoviz44\">try{AlgoViz.processMsg({\"attrs\":[\"fill\"],\"cmd\":\"attrs\",\"eid\":2,\"id\":31,\"type\":\"svg\",\"values\":[\"black\"]},\"algoviz44\");}catch(ex){}</script>"
      ]
     },
     "metadata": {
      "tags": [
       "algoviz_output"
      ]
     },
     "output_type": "display_data"
    },
    {
     "data": {
      "text/html": [
       "<script id=\"algoviz45\">try{AlgoViz.processMsg({\"cmd\":\"tofront\",\"eid\":1,\"id\":31,\"type\":\"svg\"},\"algoviz45\");}catch(ex){}</script>"
      ]
     },
     "metadata": {
      "tags": [
       "algoviz_output"
      ]
     },
     "output_type": "display_data"
    }
   ],
   "source": [
    "Turtle leonardo = Turtle(120,120);"
   ]
  },
  {
   "cell_type": "markdown",
   "metadata": {},
   "source": [
    "Wie man sieht, haben wir jetzt zwei. Und wir können beide getrennt steuern. Da beide zur Klasse `Turtle` gehören -- man sagt auch sie seien **Objekte** der Klasse `Turtle` -- können sie beide die gleichen Dinge. Also alle Befehle, die für `bowser` funktionierten, funktionieren auch für `leonardo`."
   ]
  },
  {
   "cell_type": "code",
   "execution_count": 7,
   "metadata": {},
   "outputs": [
    {
     "data": {
      "text/html": [
       "<script id=\"algoviz46\">try{AlgoViz.processMsg({\"attrs\":[\"transform\"],\"cmd\":\"attrs\",\"eid\":1,\"id\":1,\"type\":\"svg\",\"values\":[\"translate(310.000000,260.000000) rotate(90.000000)\"]},\"algoviz46\");}catch(ex){}</script>"
      ]
     },
     "metadata": {
      "tags": [
       "algoviz_output"
      ]
     },
     "output_type": "display_data"
    },
    {
     "data": {
      "text/html": [
       "<script id=\"algoviz47\">try{AlgoViz.processMsg({\"attrs\":[\"stroke\"],\"cmd\":\"attrs\",\"eid\":2,\"id\":1,\"type\":\"svg\",\"values\":[\"black\"]},\"algoviz47\");}catch(ex){}</script>"
      ]
     },
     "metadata": {
      "tags": [
       "algoviz_output"
      ]
     },
     "output_type": "display_data"
    },
    {
     "data": {
      "text/html": [
       "<script id=\"algoviz48\">try{AlgoViz.processMsg({\"attrs\":[\"fill\"],\"cmd\":\"attrs\",\"eid\":2,\"id\":1,\"type\":\"svg\",\"values\":[\"green\"]},\"algoviz48\");}catch(ex){}</script>"
      ]
     },
     "metadata": {
      "tags": [
       "algoviz_output"
      ]
     },
     "output_type": "display_data"
    },
    {
     "data": {
      "text/html": [
       "<script id=\"algoviz49\">try{AlgoViz.processMsg({\"cmd\":\"tofront\",\"eid\":1,\"id\":1,\"type\":\"svg\"},\"algoviz49\");}catch(ex){}</script>"
      ]
     },
     "metadata": {
      "tags": [
       "algoviz_output"
      ]
     },
     "output_type": "display_data"
    },
    {
     "data": {
      "text/html": [
       "<script id=\"algoviz50\">try{AlgoViz.processMsg({\"attrs\":[\"x1\",\"y1\",\"x2\",\"y2\",\"stroke\",\"stroke-width\"],\"childid\":-1,\"cmd\":\"addChild\",\"eid\":0,\"form\":\"line\",\"id\":31,\"type\":\"svg\",\"values\":[60.0,60.0,110.0,59.99999999999999,\"black\",1]},\"algoviz50\");}catch(ex){}</script>"
      ]
     },
     "metadata": {
      "tags": [
       "algoviz_output"
      ]
     },
     "output_type": "display_data"
    },
    {
     "data": {
      "text/html": [
       "<script id=\"algoviz51\">try{AlgoViz.processMsg({\"attrs\":[\"transform\"],\"cmd\":\"attrs\",\"eid\":1,\"id\":31,\"type\":\"svg\",\"values\":[\"translate(110.000000,60.000000) rotate(0.000000)\"]},\"algoviz51\");}catch(ex){}</script>"
      ]
     },
     "metadata": {
      "tags": [
       "algoviz_output"
      ]
     },
     "output_type": "display_data"
    },
    {
     "data": {
      "text/html": [
       "<script id=\"algoviz52\">try{AlgoViz.processMsg({\"attrs\":[\"stroke\"],\"cmd\":\"attrs\",\"eid\":2,\"id\":31,\"type\":\"svg\",\"values\":[\"black\"]},\"algoviz52\");}catch(ex){}</script>"
      ]
     },
     "metadata": {
      "tags": [
       "algoviz_output"
      ]
     },
     "output_type": "display_data"
    },
    {
     "data": {
      "text/html": [
       "<script id=\"algoviz53\">try{AlgoViz.processMsg({\"attrs\":[\"fill\"],\"cmd\":\"attrs\",\"eid\":2,\"id\":31,\"type\":\"svg\",\"values\":[\"black\"]},\"algoviz53\");}catch(ex){}</script>"
      ]
     },
     "metadata": {
      "tags": [
       "algoviz_output"
      ]
     },
     "output_type": "display_data"
    },
    {
     "data": {
      "text/html": [
       "<script id=\"algoviz54\">try{AlgoViz.processMsg({\"cmd\":\"tofront\",\"eid\":1,\"id\":31,\"type\":\"svg\"},\"algoviz54\");}catch(ex){}</script>"
      ]
     },
     "metadata": {
      "tags": [
       "algoviz_output"
      ]
     },
     "output_type": "display_data"
    }
   ],
   "source": [
    "bowser.setColor(\"green\");\n",
    "leonardo.forward(50);"
   ]
  },
  {
   "cell_type": "markdown",
   "metadata": {},
   "source": [
    "Jetzt können wir auch sehen, dass `Turtle(100,200)` bereits ein eigener Befehl ist. Wir führen ihn mal aus."
   ]
  },
  {
   "cell_type": "code",
   "execution_count": 8,
   "metadata": {},
   "outputs": [
    {
     "data": {
      "text/html": [
       "<script id=\"algoviz55\">try{AlgoViz.processMsg({\"type\":\"show\"},\"algoviz55\");}catch(ex){}</script>"
      ]
     },
     "metadata": {
      "tags": [
       "algoviz_output"
      ]
     },
     "output_type": "display_data"
    },
    {
     "data": {
      "text/html": [
       "<script id=\"algoviz57\">try{AlgoViz.processMsg({\"cmd\":\"create\",\"gheight\":4,\"gwidth\":2,\"height\":200,\"id\":56,\"type\":\"svg\",\"width\":100},\"algoviz57\");}catch(ex){}</script>"
      ]
     },
     "metadata": {
      "tags": [
       "algoviz_output"
      ]
     },
     "output_type": "display_data"
    },
    {
     "data": {
      "text/html": [
       "<script id=\"algoviz58\">try{AlgoViz.processMsg({\"cmd\":\"add\",\"eid\":0,\"form\":\"g\",\"id\":56,\"type\":\"svg\"},\"algoviz58\");}catch(ex){}</script>"
      ]
     },
     "metadata": {
      "tags": [
       "algoviz_output"
      ]
     },
     "output_type": "display_data"
    },
    {
     "data": {
      "text/html": [
       "<script id=\"algoviz59\">try{AlgoViz.processMsg({\"cmd\":\"add\",\"eid\":1,\"form\":\"g\",\"id\":56,\"type\":\"svg\"},\"algoviz59\");}catch(ex){}</script>"
      ]
     },
     "metadata": {
      "tags": [
       "algoviz_output"
      ]
     },
     "output_type": "display_data"
    },
    {
     "data": {
      "text/html": [
       "<script id=\"algoviz60\">try{AlgoViz.processMsg({\"attrs\":[\"d\",\"fill\"],\"cmd\":\"add\",\"eid\":2,\"form\":\"path\",\"id\":56,\"type\":\"svg\",\"values\":[\"M0 -5 L15 0 L0 5 Z\",\"transparent\"]},\"algoviz60\");}catch(ex){}</script>"
      ]
     },
     "metadata": {
      "tags": [
       "algoviz_output"
      ]
     },
     "output_type": "display_data"
    },
    {
     "data": {
      "text/html": [
       "<script id=\"algoviz61\">try{AlgoViz.processMsg({\"childid\":2,\"cmd\":\"addChild\",\"eid\":1,\"id\":56,\"type\":\"svg\"},\"algoviz61\");}catch(ex){}</script>"
      ]
     },
     "metadata": {
      "tags": [
       "algoviz_output"
      ]
     },
     "output_type": "display_data"
    },
    {
     "data": {
      "text/html": [
       "<script id=\"algoviz62\">try{AlgoViz.processMsg({\"attrs\":[\"transform\"],\"cmd\":\"attrs\",\"eid\":1,\"id\":56,\"type\":\"svg\",\"values\":[\"translate(0.000000,0.000000) rotate(0.000000)\"]},\"algoviz62\");}catch(ex){}</script>"
      ]
     },
     "metadata": {
      "tags": [
       "algoviz_output"
      ]
     },
     "output_type": "display_data"
    },
    {
     "data": {
      "text/html": [
       "<script id=\"algoviz63\">try{AlgoViz.processMsg({\"attrs\":[\"stroke\"],\"cmd\":\"attrs\",\"eid\":2,\"id\":56,\"type\":\"svg\",\"values\":[\"black\"]},\"algoviz63\");}catch(ex){}</script>"
      ]
     },
     "metadata": {
      "tags": [
       "algoviz_output"
      ]
     },
     "output_type": "display_data"
    },
    {
     "data": {
      "text/html": [
       "<script id=\"algoviz64\">try{AlgoViz.processMsg({\"attrs\":[\"fill\"],\"cmd\":\"attrs\",\"eid\":2,\"id\":56,\"type\":\"svg\",\"values\":[\"transparent\"]},\"algoviz64\");}catch(ex){}</script>"
      ]
     },
     "metadata": {
      "tags": [
       "algoviz_output"
      ]
     },
     "output_type": "display_data"
    },
    {
     "data": {
      "text/html": [
       "<script id=\"algoviz65\">try{AlgoViz.processMsg({\"cmd\":\"tofront\",\"eid\":1,\"id\":56,\"type\":\"svg\"},\"algoviz65\");}catch(ex){}</script>"
      ]
     },
     "metadata": {
      "tags": [
       "algoviz_output"
      ]
     },
     "output_type": "display_data"
    },
    {
     "data": {
      "text/html": [
       "<script id=\"algoviz66\">try{AlgoViz.processMsg({\"cmd\":\"empty\",\"eid\":0,\"id\":56,\"type\":\"svg\"},\"algoviz66\");}catch(ex){}</script>"
      ]
     },
     "metadata": {
      "tags": [
       "algoviz_output"
      ]
     },
     "output_type": "display_data"
    },
    {
     "data": {
      "text/html": [
       "<script id=\"algoviz67\">try{AlgoViz.processMsg({\"attrs\":[\"transform\"],\"cmd\":\"attrs\",\"eid\":1,\"id\":56,\"type\":\"svg\",\"values\":[\"translate(50.000000,100.000000) rotate(0.000000)\"]},\"algoviz67\");}catch(ex){}</script>"
      ]
     },
     "metadata": {
      "tags": [
       "algoviz_output"
      ]
     },
     "output_type": "display_data"
    },
    {
     "data": {
      "text/html": [
       "<script id=\"algoviz68\">try{AlgoViz.processMsg({\"attrs\":[\"stroke\"],\"cmd\":\"attrs\",\"eid\":2,\"id\":56,\"type\":\"svg\",\"values\":[\"black\"]},\"algoviz68\");}catch(ex){}</script>"
      ]
     },
     "metadata": {
      "tags": [
       "algoviz_output"
      ]
     },
     "output_type": "display_data"
    },
    {
     "data": {
      "text/html": [
       "<script id=\"algoviz69\">try{AlgoViz.processMsg({\"attrs\":[\"fill\"],\"cmd\":\"attrs\",\"eid\":2,\"id\":56,\"type\":\"svg\",\"values\":[\"black\"]},\"algoviz69\");}catch(ex){}</script>"
      ]
     },
     "metadata": {
      "tags": [
       "algoviz_output"
      ]
     },
     "output_type": "display_data"
    },
    {
     "data": {
      "text/html": [
       "<script id=\"algoviz70\">try{AlgoViz.processMsg({\"cmd\":\"tofront\",\"eid\":1,\"id\":56,\"type\":\"svg\"},\"algoviz70\");}catch(ex){}</script>"
      ]
     },
     "metadata": {
      "tags": [
       "algoviz_output"
      ]
     },
     "output_type": "display_data"
    }
   ],
   "source": [
    "Turtle(100,200);"
   ]
  },
  {
   "cell_type": "markdown",
   "metadata": {},
   "source": [
    "Wie man sieht wird dadurch noch eine Schuldkröte erzeugt. Aber leider können wir sie nicht steuern, da  wir sie nicht in einer Variable gespeichert haben."
   ]
  },
  {
   "cell_type": "markdown",
   "metadata": {},
   "source": [
    "## Das erste Programm"
   ]
  },
  {
   "cell_type": "markdown",
   "metadata": {},
   "source": [
    "<div class=\"task\">\n",
    "    <h3>Aufgabe</h3>\n",
    "    <div>\n",
    "        Lassen Sie eine der Schildkröten das <a href=\"https://de.wikipedia.org/wiki/Haus_vom_Nikolaus\">Haus des Nikolaus mit Garage</a> zeichnen. Dabei sollen alle Wände und die Dachflächen 100 Pixel lang sein. <b>Achtung!</b> Das Bild stimmt nicht ganz.\n",
    "    </div>\n",
    "    <center><img src=\"../../img/Haus-nikolaus-garage.gif\"></img></center><br/>\n",
    "</div>"
   ]
  },
  {
   "cell_type": "code",
   "execution_count": null,
   "metadata": {},
   "outputs": [],
   "source": [
    "// Möge der Hausbau beginnen!"
   ]
  },
  {
   "cell_type": "markdown",
   "metadata": {},
   "source": [
    "<div class=\"followup\">\n",
    "    <h3>Wie es weitergeht</h3>\n",
    "    <div>\n",
    "        <p>Mögliche nächste Themen sind:\n",
    "            <ul>\n",
    "                <li><a class=\"followup\" href=\"/user-redirect/algoviz/lessons/01_Algorithmen/04_Algorithmendarstellungen.ipynb\">Algorithmendarstellungen</a></li>\n",
    "                <li>Erste Versuche mit Kontrollstrukturen können Sie hier machen: <a class=\"followup\" href=\"/user-redirect/algoviz/lessons/01_Algorithmen/02_ImperativeProgramme.ipynb\">Imperative Programme</a></li>\n",
    "            </ul>\n",
    "        </p>\n",
    "    </div>\n",
    "</div>"
   ]
  }
 ],
 "metadata": {
  "kernelspec": {
   "display_name": "C++17",
   "language": "C++17",
   "name": "xcpp17"
  },
  "language_info": {
   "codemirror_mode": "text/x-c++src",
   "file_extension": ".cpp",
   "mimetype": "text/x-c++src",
   "name": "c++",
   "version": "17"
  }
 },
 "nbformat": 4,
 "nbformat_minor": 4
}
