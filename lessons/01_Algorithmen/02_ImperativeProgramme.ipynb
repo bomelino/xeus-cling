{
 "cells": [
  {
   "cell_type": "markdown",
   "metadata": {},
   "source": [
    "# Imperative Programme"
   ]
  },
  {
   "cell_type": "markdown",
   "metadata": {},
   "source": [
    "<div class=\"prereq\">\n",
    "    <h3>Voraussetzungen</h3>\n",
    "    <div>\n",
    "        <ul>\n",
    "            <li><a class=\"prereq\" href=\"/user-redirect/algoviz/lessons/01_Algorithmen/01_Algorithmen.ipynb\">Algorithmen</a>\n",
    "        </ul>\n",
    "    </div>\n",
    "</div>"
   ]
  },
  {
   "cell_type": "markdown",
   "metadata": {},
   "source": [
    "<div class=\"slideshow 01_Algorithmen/03_ImperativeProgramme/slides.json\">Imperative Programme</div>"
   ]
  },
  {
   "cell_type": "markdown",
   "metadata": {},
   "source": [
    "Nachdem wir erste Kontrollstrukturen kennengelernt haben, können wir uns die ersten in C++ ansehen. Allerdings werden wir die Details später behandeln und uns hier auf ein paar intuitive Aspekte und einfache Experimente beschränken."
   ]
  },
  {
   "cell_type": "markdown",
   "metadata": {},
   "source": [
    "Wir verwenden wieder die [Schildkröte](/user-redirect/algoviz/lessons/01_Algorithmen/01_Algorithmen.ipynb)."
   ]
  },
  {
   "cell_type": "code",
   "execution_count": 3,
   "metadata": {},
   "outputs": [],
   "source": [
    "#include <algoviz/Turtle.hpp>\n",
    "Turtle bowser = Turtle(420,420);"
   ]
  },
  {
   "cell_type": "markdown",
   "metadata": {},
   "source": [
    "Die erste Kontrollstruktur, die vorkam ist die **Zählschleife**. Sie wird auch als **For-Schleife** bezeichnet, da sie im Englischen das Schlüsselwort `for` verwendet. Der folgende Quelltext entspricht diesem **Pseuducode**:\n",
    "\n",
    "    Setze die Schildkröte in die Mitte und lösche die Zeichenfläche\n",
    "    \n",
    "    Für zaehler = 1 bis 9 wiederhole\n",
    "        Gehe 100 Pixel vorwärts\n",
    "        Drehe dich um 170 Grad im Uhrzeigersinn"
   ]
  },
  {
   "cell_type": "code",
   "execution_count": 4,
   "metadata": {},
   "outputs": [],
   "source": [
    "bowser.reset();\n",
    "\n",
    "for ( int zaehler = 0; zaehler < 10; zaehler = zaehler + 1 ) {\n",
    "    bowser.forward(200);\n",
    "    bowser.turn(170);\n",
    "}"
   ]
  },
  {
   "cell_type": "markdown",
   "metadata": {},
   "source": [
    "<div class=\"task\">\n",
    "    <h3>Aufgaben</h3>\n",
    "    <div>\n",
    "        <ul>\n",
    "            <li>Probieren Sie aus, welche Wirkung die `0` und die `10` in der For-Schleife haben.</li>\n",
    "            <li>Welche Funktion hat der Teil `zaehler = zaehler + 1`. Rufen Sie sich dazu auch\n",
    "                nochmal die Beschreibung der For-Schleife in der Slideshow in Erinnerung.</li>\n",
    "            <li>Verändern Sie das Programm so, dass der Stern vollständig verändert wird.</li>\n",
    "            <li>Probieren Sie aus, was passiert wenn Sie `zaehler = zaehler + 1` auf \n",
    "                `zaehler = zaehler + 2` ändern. Erklären Sie den Effekt.</li>\n",
    "        </ul>        \n",
    "    </div>\n",
    "</div>"
   ]
  },
  {
   "cell_type": "markdown",
   "metadata": {},
   "source": [
    "## Ein Karomuster\n",
    "\n",
    "Als nächstes wollen wir uns an einem einfachen Karomuster mit einer Kästchenweite von 20 Pixeln versuchen. Insgesamt soll das Muster eine Breite von 400 Pixeln haben.\n",
    "\n",
    "Die Idee ist, dass wir zuerst die waagerechten Linien zeichnen.\n",
    "\n",
    "Besonders hilfreich erweist sich dabei der Befehl `bowser.moveTo(x,y)` der die Schildkröte an die Position `(x,y)` der Zeichenfläche bewegt, **ohne** zu zeichnen. Die linke obere Ecke hat übrigens die Koordinaten (0,0)."
   ]
  },
  {
   "cell_type": "code",
   "execution_count": 5,
   "metadata": {},
   "outputs": [
    {
     "name": "stderr",
     "output_type": "stream",
     "text": [
      "\u001b[1minput_line_13:3:34: \u001b[0m\u001b[0;1;31merror: \u001b[0m\u001b[1mexpected expression\u001b[0m\n",
      "for ( int zaehler = 0; zaehler < ???; zaehler=zaehler + 1 ) {\n",
      "\u001b[0;1;32m                                 ^\n",
      "\u001b[0m\u001b[1minput_line_13:3:35: \u001b[0m\u001b[0;1;31merror: \u001b[0m\u001b[1mexpected expression\u001b[0m\n",
      "for ( int zaehler = 0; zaehler < ???; zaehler=zaehler + 1 ) {\n",
      "\u001b[0;1;32m                                  ^\n",
      "\u001b[0m\u001b[1minput_line_13:3:36: \u001b[0m\u001b[0;1;31merror: \u001b[0m\u001b[1mexpected expression\u001b[0m\n",
      "for ( int zaehler = 0; zaehler < ???; zaehler=zaehler + 1 ) {\n",
      "\u001b[0;1;32m                                   ^\n",
      "\u001b[0m\u001b[1minput_line_13:3:37: \u001b[0m\u001b[0;1;31merror: \u001b[0m\u001b[1mexpected expression\u001b[0m\n",
      "for ( int zaehler = 0; zaehler < ???; zaehler=zaehler + 1 ) {\n",
      "\u001b[0;1;32m                                    ^\n",
      "\u001b[0m\u001b[1minput_line_13:3:37: \u001b[0m\u001b[0;1;31merror: \u001b[0m\u001b[1mexpected ':'\u001b[0m\n",
      "for ( int zaehler = 0; zaehler < ???; zaehler=zaehler + 1 ) {\n",
      "\u001b[0;1;32m                                    ^\n",
      "\u001b[0m\u001b[0;32m                                    : \n",
      "\u001b[0m\u001b[1minput_line_13:3:36: \u001b[0m\u001b[0;1;30mnote: \u001b[0mto match this '?'\u001b[0m\n",
      "for ( int zaehler = 0; zaehler < ???; zaehler=zaehler + 1 ) {\n",
      "\u001b[0;1;32m                                   ^\n",
      "\u001b[0m\u001b[1minput_line_13:3:37: \u001b[0m\u001b[0;1;31merror: \u001b[0m\u001b[1mexpected expression\u001b[0m\n",
      "for ( int zaehler = 0; zaehler < ???; zaehler=zaehler + 1 ) {\n",
      "\u001b[0;1;32m                                    ^\n",
      "\u001b[0m\u001b[1minput_line_13:3:37: \u001b[0m\u001b[0;1;31merror: \u001b[0m\u001b[1mexpected ':'\u001b[0m\n",
      "for ( int zaehler = 0; zaehler < ???; zaehler=zaehler + 1 ) {\n",
      "\u001b[0;1;32m                                    ^\n",
      "\u001b[0m\u001b[0;32m                                    : \n",
      "\u001b[0m\u001b[1minput_line_13:3:35: \u001b[0m\u001b[0;1;30mnote: \u001b[0mto match this '?'\u001b[0m\n",
      "for ( int zaehler = 0; zaehler < ???; zaehler=zaehler + 1 ) {\n",
      "\u001b[0;1;32m                                  ^\n",
      "\u001b[0m\u001b[1minput_line_13:3:37: \u001b[0m\u001b[0;1;31merror: \u001b[0m\u001b[1mexpected expression\u001b[0m\n",
      "for ( int zaehler = 0; zaehler < ???; zaehler=zaehler + 1 ) {\n",
      "\u001b[0;1;32m                                    ^\n",
      "\u001b[0m\u001b[1minput_line_13:3:37: \u001b[0m\u001b[0;1;31merror: \u001b[0m\u001b[1mexpected ':'\u001b[0m\n",
      "for ( int zaehler = 0; zaehler < ???; zaehler=zaehler + 1 ) {\n",
      "\u001b[0;1;32m                                    ^\n",
      "\u001b[0m\u001b[0;32m                                    : \n",
      "\u001b[0m\u001b[1minput_line_13:3:34: \u001b[0m\u001b[0;1;30mnote: \u001b[0mto match this '?'\u001b[0m\n",
      "for ( int zaehler = 0; zaehler < ???; zaehler=zaehler + 1 ) {\n",
      "\u001b[0;1;32m                                 ^\n",
      "\u001b[0m\u001b[1minput_line_13:3:37: \u001b[0m\u001b[0;1;31merror: \u001b[0m\u001b[1mexpected expression\u001b[0m\n",
      "for ( int zaehler = 0; zaehler < ???; zaehler=zaehler + 1 ) {\n",
      "\u001b[0;1;32m                                    ^\n",
      "\u001b[0m\u001b[1minput_line_13:4:19: \u001b[0m\u001b[0;1;31merror: \u001b[0m\u001b[1mexpected expression\u001b[0m\n",
      "    bowser.moveTo(???,???);\n",
      "\u001b[0;1;32m                  ^\n",
      "\u001b[0m\u001b[1minput_line_13:4:20: \u001b[0m\u001b[0;1;31merror: \u001b[0m\u001b[1mexpected expression\u001b[0m\n",
      "    bowser.moveTo(???,???);\n",
      "\u001b[0;1;32m                   ^\n",
      "\u001b[0m\u001b[1minput_line_13:4:21: \u001b[0m\u001b[0;1;31merror: \u001b[0m\u001b[1mexpected expression\u001b[0m\n",
      "    bowser.moveTo(???,???);\n",
      "\u001b[0;1;32m                    ^\n",
      "\u001b[0m\u001b[1minput_line_13:4:22: \u001b[0m\u001b[0;1;31merror: \u001b[0m\u001b[1mexpected expression\u001b[0m\n",
      "    bowser.moveTo(???,???);\n",
      "\u001b[0;1;32m                     ^\n",
      "\u001b[0m\u001b[1minput_line_13:4:23: \u001b[0m\u001b[0;1;31merror: \u001b[0m\u001b[1mexpected expression\u001b[0m\n",
      "    bowser.moveTo(???,???);\n",
      "\u001b[0;1;32m                      ^\n",
      "\u001b[0m\u001b[1minput_line_13:4:24: \u001b[0m\u001b[0;1;35mwarning: \u001b[0m\u001b[1mtrigraph converted to ']' character [-Wtrigraphs]\u001b[0m\n",
      "    bowser.moveTo(???,???);\n",
      "\u001b[0;1;32m                       ^\n",
      "\u001b[0m\u001b[1minput_line_13:4:24: \u001b[0m\u001b[0;1;31merror: \u001b[0m\u001b[1mexpected expression\u001b[0m\n",
      "\u001b[1minput_line_13:4:24: \u001b[0m\u001b[0;1;31merror: \u001b[0m\u001b[1mexpected ':'\u001b[0m\n",
      "    bowser.moveTo(???,???);\n",
      "\u001b[0;1;32m                       ^\n",
      "\u001b[0m\u001b[0;32m                       : \n",
      "\u001b[0m\u001b[1minput_line_13:4:23: \u001b[0m\u001b[0;1;30mnote: \u001b[0mto match this '?'\u001b[0m\n",
      "    bowser.moveTo(???,???);\n",
      "\u001b[0;1;32m                      ^\n",
      "\u001b[0m\u001b[1minput_line_13:4:24: \u001b[0m\u001b[0;1;31merror: \u001b[0m\u001b[1mexpected expression\u001b[0m\n",
      "    bowser.moveTo(???,???);\n",
      "\u001b[0;1;32m                       ^\n",
      "\u001b[0m\u001b[1minput_line_13:4:24: \u001b[0m\u001b[0;1;31merror: \u001b[0m\u001b[1mexpected ':'\u001b[0m\n",
      "    bowser.moveTo(???,???);\n",
      "\u001b[0;1;32m                       ^\n",
      "\u001b[0m\u001b[0;32m                       : \n",
      "\u001b[0m\u001b[1minput_line_13:4:21: \u001b[0m\u001b[0;1;30mnote: \u001b[0mto match this '?'\u001b[0m\n",
      "    bowser.moveTo(???,???);\n",
      "\u001b[0;1;32m                    ^\n",
      "\u001b[0m\u001b[0;1;31mfatal error: \u001b[0mtoo many errors emitted, stopping now [-ferror-limit=]\u001b[0m\n"
     ]
    },
    {
     "ename": "Interpreter Error",
     "evalue": "",
     "output_type": "error",
     "traceback": [
      "Interpreter Error: "
     ]
    }
   ],
   "source": [
    "bowser.reset();\n",
    "\n",
    "for ( int zaehler = 0; zaehler < ???; zaehler=zaehler + 1 ) {\n",
    "    bowser.moveTo(???,???);\n",
    "    bowser.forward(???);\n",
    "}"
   ]
  },
  {
   "cell_type": "markdown",
   "metadata": {},
   "source": [
    "<div class=\"task\">\n",
    "    <h3>Aufgaben</h3>\n",
    "    <div>\n",
    "        <ul>\n",
    "            <li>Ersetzen Sie die `???` im Programm so, dass die notwendige Anzahl an waagerechten Linien\n",
    "                gezeichnet wird.</li>\n",
    "            <li>Ergänzen Sie das Programm um die senkrechten Linien.</li>\n",
    "        </ul>        \n",
    "    </div>\n",
    "</div>"
   ]
  },
  {
   "cell_type": "markdown",
   "metadata": {},
   "source": [
    "## Die Vielfachen\n",
    "\n",
    "Wir können die For-Schleife auch ohne die Schildkröte nutzen. Dazu schauen wir uns nochmal das Programm für die Vielfachen im Pseudocode an.\n",
    "\n",
    "    Erfrage eine Zahl x vom Nutzer\n",
    "    \n",
    "    Für y = 1 bis 10 wiederhole\n",
    "        Gebe x*y aus\n"
   ]
  },
  {
   "cell_type": "markdown",
   "metadata": {},
   "source": [
    "<div class=\"task\">\n",
    "    <h3>Aufgaben</h3>\n",
    "    <div>\n",
    "        <p>Implementieren Sie den Algorithmus mit Hilfe einer For-Schleife. Arbeiten Sie vorher <a class=\"perspective\" href=\"/user-redirect/algoviz/lessons/02_Grundlagen/06_EinUndAusgabe.ipynb\">die Lesson \"Ein- und Ausgabe\"</a> durch.</p>\n",
    "    </div>\n",
    "</div>"
   ]
  },
  {
   "cell_type": "code",
   "execution_count": 19,
   "metadata": {},
   "outputs": [],
   "source": [
    "#include <iostream> // Die Bibliothek nicht vergessen.\n",
    "\n",
    "// ..."
   ]
  },
  {
   "cell_type": "markdown",
   "metadata": {},
   "source": [
    "<div class=\"followup\">\n",
    "    <h3>Wo es weiter geht</h3>\n",
    "    <div>\n",
    "        <ul>\n",
    "            <li><a class=\"followup\" href=\"/user-redirect/algoviz/lessons/01_Algorithmen/04_Algorithmendarstellungen.ipynb\">Algorithmendarstellungen</a></li>\n",
    "            <li><a class=\"followup\" href=\"/user-redirect/algoviz/lessons/02_Grundlagen/00_Binaerzahlen.ipynb\">Bits, Bytes und Binärzahlen</a></li>\n",
    "            <li>Man kann auch schon komplexere <a class=\"perspective\" href=\"/user-redirect/algoviz/lessons/02_Grundlagen/10_AlgoViz.ipynb\">Zeichnungen</a>\n",
    "                mit einfachen Schleifen machen.</li>\n",
    "        </ul>        \n",
    "    </div>\n",
    "</div>"
   ]
  }
 ],
 "metadata": {
  "kernelspec": {
   "display_name": "C++17",
   "language": "C++17",
   "name": "xcpp17"
  },
  "language_info": {
   "codemirror_mode": "text/x-c++src",
   "file_extension": ".cpp",
   "mimetype": "text/x-c++src",
   "name": "c++",
   "version": "17"
  }
 },
 "nbformat": 4,
 "nbformat_minor": 4
}
