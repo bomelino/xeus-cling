{
 "cells": [
  {
   "cell_type": "markdown",
   "metadata": {},
   "source": [
    "# Ein erstes Programm\n",
    "\n",
    "Wir beginnen mit einer Slideshow! Klicken Sie auf den folgenden Button."
   ]
  },
  {
   "cell_type": "markdown",
   "metadata": {},
   "source": [
    "<div class=\"slideshow 01_Algorithmen/01_EinErstesProgramm/slides.json\">Ein erstes Programm</div>"
   ]
  },
  {
   "cell_type": "markdown",
   "metadata": {},
   "source": [
    "Und jetzt, wie versprochen ein wenig Praxis."
   ]
  },
  {
   "cell_type": "markdown",
   "metadata": {},
   "source": [
    "## Das Programm\n",
    "\n",
    "Als erstes binden wir die Bibliothek ein und teilen dem Programm mit, dass wir den [Namespace](/user-redirect/algoviz/lessons/02_Grundlagen/21_Namespaces.ipynb) `std` verwenden. Führen Sie die folgende Zelle aus."
   ]
  },
  {
   "cell_type": "code",
   "execution_count": 1,
   "metadata": {},
   "outputs": [],
   "source": [
    "#include <iostream>\n",
    "\n",
    "using namespace std;"
   ]
  },
  {
   "cell_type": "markdown",
   "metadata": {},
   "source": [
    "Jetzt können wir die [Variablen](/user-redirect/algoviz/lessons/02_Grundlagen/02_Variablen.ipynb) **deklarieren**. Das darf im Notebook nur einmal geschehen. Daher machen wir das in einer eigenen Zelle. Mehr Dazu bei den [Variablen](/user-redirect/algoviz/lessons/02_Grundlagen/02_Variablen.ipynb)."
   ]
  },
  {
   "cell_type": "code",
   "execution_count": 2,
   "metadata": {},
   "outputs": [],
   "source": [
    "int a = 0;\n",
    "int b = 0;"
   ]
  },
  {
   "cell_type": "markdown",
   "metadata": {},
   "source": [
    "Kommen wir jetzt zum eigentlichen Programm."
   ]
  },
  {
   "cell_type": "code",
   "execution_count": 6,
   "metadata": {},
   "outputs": [
    {
     "name": "stdout",
     "output_type": "stream",
     "text": [
      "Geben Sie die erste Zahl ein : text\n",
      "Geben Sie die zweite Zahl ein : 0 * 4 = 0\n",
      "0 + 4 = 4\n"
     ]
    }
   ],
   "source": [
    "cout << \"Geben Sie die erste Zahl ein : \";\n",
    "cin >> a;\n",
    "\n",
    "// Die zweite Zahl schaffen Sie selbst (Noobs schauen in der Slideshow nach!)\n",
    "//...\n",
    "//...\n",
    "\n",
    "cout << \"Geben Sie die zweite Zahl ein : \";\n",
    "cin >> b;\n",
    "\n",
    "// Ach übrigens: Durch die beiden Schrägstriche wird der Text bis zum Zeilenende zu einem KOMMENTAR. Mehr dazu unten!\n",
    "\n",
    "// In der nächsten Zeile steckt ein Fehler. Finden und korrigieren Sie ihn.\n",
    "\n",
    "cout << a << \" * \" << b << \" = \" << (a*b) << endl;\n",
    "cout << a << \" + \" << b << \" = \" << (a+b) << endl;"
   ]
  },
  {
   "cell_type": "markdown",
   "metadata": {},
   "source": [
    "## Kommentare\n",
    "\n",
    "In dem Quelltext kam etwas neues vor: **KOMMENTARE**.\n",
    "\n",
    "Das sind Teile des Quelltextes, die keinen Einfluss auf das Programm haben. Sie dienen dazu, dass man erläuternde Texte\n",
    "zur Erhöhung der Lesbarkeit einfügen kann.\n",
    "\n",
    "Es gibt zwei Arten von Kommentaren. **Einzeilige Kommentare** beginnen mit `//`. Alles was bis zum Ende der Zeile darauf folgt ist ein Kommentar und wird ignoriert."
   ]
  },
  {
   "cell_type": "code",
   "execution_count": 4,
   "metadata": {},
   "outputs": [
    {
     "name": "stderr",
     "output_type": "stream",
     "text": [
      "\u001b[1minput_line_11:3:1: \u001b[0m\u001b[0;1;31merror: \u001b[0m\u001b[1munknown type name 'Dies'\u001b[0m\n",
      "Dies ist kein Teil des Kommentars mehr und führt zu einem Fehler beim Ausführen.\n",
      "\u001b[0;1;32m^\n",
      "\u001b[0m\u001b[1minput_line_11:3:9: \u001b[0m\u001b[0;1;31merror: \u001b[0m\u001b[1mexpected ';' at end of declaration\u001b[0m\n",
      "Dies ist kein Teil des Kommentars mehr und führt zu einem Fehler beim Ausführen.\n",
      "\u001b[0;1;32m        ^\n",
      "\u001b[0m\u001b[0;32m        ;\n",
      "\u001b[0m"
     ]
    },
    {
     "ename": "Interpreter Error",
     "evalue": "",
     "output_type": "error",
     "traceback": [
      "Interpreter Error: "
     ]
    }
   ],
   "source": [
    "// Dieser Kommentar ist eine Zeile lang und endet hier.\n",
    "Dies ist kein Teil des Kommentars mehr und führt zu einem Fehler beim Ausführen."
   ]
  },
  {
   "cell_type": "markdown",
   "metadata": {},
   "source": [
    "**Mehrzeilige Kommentare** beginnen mit `/*` und enden mit dem ersten  `*/`."
   ]
  },
  {
   "cell_type": "code",
   "execution_count": 5,
   "metadata": {},
   "outputs": [],
   "source": [
    "/*\n",
    "    Dieser Kommentar\n",
    "    geht über\n",
    "    mehrere Zeilen.\n",
    "*/"
   ]
  },
  {
   "cell_type": "markdown",
   "metadata": {},
   "source": [
    "In der Regel macht man die mehrzeiligen Kommentare etwas schöner:"
   ]
  },
  {
   "cell_type": "code",
   "execution_count": 6,
   "metadata": {},
   "outputs": [],
   "source": [
    "/**\n",
    " * Dadurch ist der Kommentar besser\n",
    " * als solcher erkennbar.\n",
    " */"
   ]
  },
  {
   "cell_type": "markdown",
   "metadata": {},
   "source": [
    "## Ein paar Variationen\n",
    "\n",
    "Im Folgenden sollen Sie mal ein paar kleine Variationen ausprobieren."
   ]
  },
  {
   "cell_type": "markdown",
   "metadata": {},
   "source": [
    "<div class=\"task\">\n",
    "    <h3>Aufgabe</h3>\n",
    "    <div>\n",
    "        Schreiben Sie Codeabschnitte, die folgendes tun:\n",
    "        <ul>\n",
    "            <li>Zusätzlich zum Produkt auch die Summe, die Differenz, und den Quotienten (ganzzahlig) berechnen und ausgeben.</li>\n",
    "            <li>Drei Zahlen miteinander multiplizieren.</li>\n",
    "            <li>Probieren Sei aus, was passiert, wenn Sie Texte statt Zahlen eingeben.</li>            \n",
    "        </ul>\n",
    "         Beachten Sie dabei, dass die Variablen `a` und `b` schon oben deklariert wurden und nicht noch einmal\n",
    "        deklariert werden dürfen (Das Wort \"deklariert\" wird <a href=\"/user-redirect/algoviz/lessons/02_Grundlagen/02_Variablen.ipynb\">hier</a> erklärt.)\n",
    "    </div>\n",
    "</div>"
   ]
  },
  {
   "cell_type": "code",
   "execution_count": null,
   "metadata": {},
   "outputs": [],
   "source": [
    "// Platz für Ihren Code ...."
   ]
  },
  {
   "cell_type": "markdown",
   "metadata": {},
   "source": [
    "<div class=\"followup\">\n",
    "    <h3>Nächste Schritte</h3>\n",
    "    <div>\n",
    "        <p>\n",
    "        Der direkte nächste Schritt sind die <a class=\"followup\" href=\"/user-redirect/algoviz/lessons/01_Algorithmen/01_Algorithmen.ipynb\">Algorithmen</a>.\n",
    "        </p>\n",
    "    </div>\n",
    "</div>"
   ]
  }
 ],
 "metadata": {
  "kernelspec": {
   "display_name": "C++17",
   "language": "C++17",
   "name": "xcpp17"
  },
  "language_info": {
   "codemirror_mode": "text/x-c++src",
   "file_extension": ".cpp",
   "mimetype": "text/x-c++src",
   "name": "c++",
   "version": "17"
  }
 },
 "nbformat": 4,
 "nbformat_minor": 4
}
