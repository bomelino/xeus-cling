{
 "cells": [
  {
   "cell_type": "markdown",
   "metadata": {},
   "source": [
    "# Aktualisieren der Materialien\n",
    "\n",
    "Sind Sie **nicht** auf der [Metis](https://metis.informatik.uos.de) müssen Sie die Materialien regelmäßig aktualisieren.\n",
    "Das geschieht automatisch, wenn Jupyter Notebook über die Links oder das Skript `aud` gestartet wird. Anonsten\n",
    "gibt es in der [**Baum-Ansicht**](http://localhost:8888/tree) den Button **Download AuD Material**. Wird dieser angeklickt, werden die aktuellen Materialien heruntergeladen. Das dauert unter Umständen etwas. Es sollten zwei Meldungen am unteren Bildschirmrand erscheinen. Als erstes\n",
    "\n",
    "> Downloading material from `http://abbozza.informatik.uos.de/aud/jupyter/aud-materila.zip`\n",
    "\n",
    "Nach einer gewissen Zeit (etwas gedulden!) sollte die Meldung\n",
    "\n",
    "> Material successfully updated!\n",
    "\n",
    "erscheinen. Dann müsste sich das Verzeichnis automatisch erneuern. Im Zweifelsfall führen sie einen **Reload** der Seite durch (F5).\n",
    "\n",
    "Das wars auch schon."
   ]
  }
 ],
 "metadata": {
  "kernelspec": {
   "display_name": "C++17",
   "language": "C++17",
   "name": "xcpp17"
  },
  "language_info": {
   "codemirror_mode": "text/x-c++src",
   "file_extension": ".cpp",
   "mimetype": "text/x-c++src",
   "name": "c++",
   "version": "17"
  }
 },
 "nbformat": 4,
 "nbformat_minor": 4
}
