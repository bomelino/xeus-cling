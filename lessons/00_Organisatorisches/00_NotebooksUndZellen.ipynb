{
 "cells": [
  {
   "cell_type": "markdown",
   "metadata": {},
   "source": [
    "# Notebooks und Zellen\n",
    "\n",
    "In diesem Notebok probieren wir ein erstes kleines C++-Programm aus. Dabei geht es weniger um das Programmieren sondern vielmehr um den Umgang mit Jupyter."
   ]
  },
  {
   "cell_type": "markdown",
   "metadata": {},
   "source": [
    "### Markdown-Zellen\n",
    "\n",
    "Die einzelnen Elemente eines Notebooks nennt man **Cells** oder **Zellen**. Jede enthält Inhalte von einem bestimmten **Typ**. Diese Zelle z.B. ist eine [**Markdown**](https://de.wikipedia.org/wiki/Markdown)-Zelle. Solche Zellen dienen dazu einen **formatierten Text** darzustellen."
   ]
  },
  {
   "cell_type": "markdown",
   "metadata": {},
   "source": [
    "Durch einen **Doppelklick** auf eine Zelle sieht man ihren Quelltext. Will man sie in Ihrer **ausgeführten** Version sehen - als formatiert - muss man sie **ausführen**. Dies geschieht entweder mit dem Button **Run** in der Kopfzeile oder durch das Drücken der Tasten **Strg + Enter** bzw. **Ctrl + Enter**."
   ]
  },
  {
   "cell_type": "markdown",
   "metadata": {},
   "source": [
    "Probieren Sie es doch mal mit dieser Zelle aus!"
   ]
  },
  {
   "cell_type": "markdown",
   "metadata": {},
   "source": [
    "### Code-Zellen\n",
    "\n",
    "Die nächste Zelle ist eine **Code**-Zelle. D.h. sie enthält tatsächlich ausführbaren Quelltext. In unserem Falle in der Programmiersprache C++."
   ]
  },
  {
   "cell_type": "code",
   "execution_count": 1,
   "metadata": {},
   "outputs": [
    {
     "name": "stdout",
     "output_type": "stream",
     "text": [
      "Hello world!"
     ]
    }
   ],
   "source": [
    "#include <iostream>\n",
    "\n",
    "std::cout << \"Hello world!\";"
   ]
  },
  {
   "cell_type": "markdown",
   "metadata": {},
   "source": [
    "Probieren Sie sie mal aus, indem Sie sie *ausführen*. Es sollte der Text `Hello world!` ausgegeben werden. Mehr zur Ausgabe erfahren Sie [hier](EinAusgabe.ipynb)."
   ]
  },
  {
   "cell_type": "markdown",
   "metadata": {},
   "source": [
    "### Wechsel des Zell-Typs\n",
    "Den Typ einer Zelle können Sie entweder über den Menüpunkt *Cell -> Cell Type -> Code* oder *Cell -> Cell Type -> Markdown* ändern. Alternativ können Sie das **Dropdown-Menü** in der unteren Zeile verwenden (mal sehen, ob Sie es finden). Alternativ können Sie den Zelltyp auch über einen **Keyboard Shortcut** ändern. Dazu drücken Sie erst **Escape** und dann **Y** für eine Code-Zelle oder **M** für eine Markdown-Zelle."
   ]
  },
  {
   "cell_type": "code",
   "execution_count": null,
   "metadata": {},
   "outputs": [],
   "source": [
    "Mach mich zu MARKDOWN!"
   ]
  },
  {
   "cell_type": "markdown",
   "metadata": {},
   "source": [
    "### Keyboard Shortcuts\n",
    "\n",
    "Jupyter verfügt über eine ganze Reihe von Keyboard Shortcuts. Eine Übersicht finden Sie unter dem Menüpunkt *Help ->  Keyboard Shortcuts*."
   ]
  },
  {
   "cell_type": "markdown",
   "metadata": {},
   "source": [
    "### Zellen hinzufügen und löschen\n",
    "\n",
    "Mittels des kleinen Plus in der Buttonleiste können Sie eine Zelle hinter der aktuellen einfügen. Mit der Schere daneben können Sie die aktuelle Zelle entfernen. ***Aber Achtung!*** Danach ist der Inhalt der Zelle weg!\n",
    "\n",
    "Naja! er ist nicht ganz weg. Mit der Taste **Z** können Sie die zuletzt gelöschte Zelle wieder herstellen."
   ]
  },
  {
   "cell_type": "markdown",
   "metadata": {},
   "source": [
    "***Lösch mich!*** (und stell mich wieder her)"
   ]
  },
  {
   "cell_type": "markdown",
   "metadata": {},
   "source": [
    "Änderungen in einer Zelle können Sie mit **Strg+Z** rückgängig machen."
   ]
  },
  {
   "cell_type": "markdown",
   "metadata": {},
   "source": [
    "In den Keyboard Shortcuts finden Sie noch eine Reihe anderer nützlicher Dinge."
   ]
  },
  {
   "cell_type": "markdown",
   "metadata": {},
   "source": [
    "<div class=\"followup\">\n",
    "    <h3>Wo man weitermachen kann</h3>\n",
    "    <div>\n",
    "    <ul>\n",
    "        <li>Ein erstes Programm schreibt man mit der <a class=\"followup\"                                                               href=\"/user-redirect/algoviz/lessons/01_Algorithmen/00_EinErstesProgramm.ipynb\">Turtle</a></li>\n",
    "    </ul>\n",
    "    </div>\n",
    "</div>"
   ]
  },
  {
   "cell_type": "markdown",
   "metadata": {},
   "source": [
    "<div style=\"float:right; font-stretch: ultra-condensed\">\n",
    "<a href=\"http://www.goominet.com/unspeakable-vault/\">/|\\(;,;)/|\\</a>\n",
    "</div>"
   ]
  }
 ],
 "metadata": {
  "kernelspec": {
   "display_name": "C++17",
   "language": "C++17",
   "name": "xcpp17"
  },
  "language_info": {
   "codemirror_mode": "text/x-c++src",
   "file_extension": ".cpp",
   "mimetype": "text/x-c++src",
   "name": "c++",
   "version": "17"
  }
 },
 "nbformat": 4,
 "nbformat_minor": 4
}
