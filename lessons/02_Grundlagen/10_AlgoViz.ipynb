{
 "cells": [
  {
   "cell_type": "markdown",
   "metadata": {},
   "source": [
    "# AlgoViz"
   ]
  },
  {
   "cell_type": "markdown",
   "metadata": {},
   "source": [
    "<div class=\"prereq\">\n",
    "    <h3>Vorraussetzungen</h3>\n",
    "    <div>\n",
    "        <ul>\n",
    "            <li><a class=\"prereq\" href=\"/user-redirect/algoviz/lessons/01_Algorithmen/02_ImperativeProgramme.ipynb\">Imperative Programme</a></li>\n",
    "            <li><a class=\"prereq\" href=\"/user-redirect/algoviz/lessons/02_Grundlagen/02_Variablen.ipynb\">Variablen</a> und \n",
    "                <a class=\"prereq\" href=\"/user-redirect/algoviz/lessons/02_Grundlagen/03_Ints.ipynb\">Integer-Typen.</a></li>\n",
    "        </ul>\n",
    "    </div>\n",
    "</div>"
   ]
  },
  {
   "cell_type": "markdown",
   "metadata": {},
   "source": [
    "In der Vorlesung nutzen wir die eigens entwickelte Bibliothek **AlgoViz**. Zu ihr gehören neben der bereits bekannten [Schildkröte](/user-redirect/algoviz/lessons/01_Algorithmen/01_Algorithmen.ipynb) auch einige andere Funktionalitäten. Eine davon - sogenannte [SVG-Grafiken](https://de.wikipedia.org/wiki/Scalable_Vector_Graphics) - wollen wir in diesem Notebook kennenlernen. Dazu müssen wir die richtige Bibliothek einbinden. Dies geschieht mit dem üblichen `#include`. "
   ]
  },
  {
   "cell_type": "code",
   "execution_count": 1,
   "metadata": {},
   "outputs": [],
   "source": [
    "#include <algoviz/SVG.hpp>"
   ]
  },
  {
   "cell_type": "markdown",
   "metadata": {},
   "source": [
    "Beachten Sie die Groß- und Kleinschreibung!"
   ]
  },
  {
   "cell_type": "markdown",
   "metadata": {},
   "source": [
    "Jetzt können wir die Seitenleiste durch zwei Befehl ein- und ausblenden."
   ]
  },
  {
   "cell_type": "code",
   "execution_count": 2,
   "metadata": {},
   "outputs": [],
   "source": [
    "AlgoViz::show(); // Einblenden"
   ]
  },
  {
   "cell_type": "code",
   "execution_count": 3,
   "metadata": {},
   "outputs": [],
   "source": [
    "AlgoViz::hide(); // Ausblenden"
   ]
  },
  {
   "cell_type": "markdown",
   "metadata": {},
   "source": [
    "Wir können aber auch eine Art **Zeichenbrett** hinzufügen. Dazu steht die **Klasse** `SVG` zur Verfügung. Die Erzeugung ist ähnlich zu dem von `Turtle`. Die beiden Parameter sind die Breite und Höhe der Zeichnung in Punkten."
   ]
  },
  {
   "cell_type": "code",
   "execution_count": 4,
   "metadata": {},
   "outputs": [],
   "source": [
    "SVG zeichnung = SVG(400,400);"
   ]
  },
  {
   "cell_type": "markdown",
   "metadata": {},
   "source": [
    "In der Klasse stehen eine Reihe von Befehlen zur Verfügung. Sie können Sie über die **interne Dokumentation** einsehen. Führen Sie dazu die nächste Zelle aus."
   ]
  },
  {
   "cell_type": "code",
   "execution_count": 5,
   "metadata": {},
   "outputs": [],
   "source": [
    "?SVG"
   ]
  },
  {
   "cell_type": "markdown",
   "metadata": {},
   "source": [
    "Durch das vorangestellte Fragezeichen rufen Sie die Dokumentation der Klasse SVG auf. Sie erscheint in einem eigenen Bereich an der unteren Kante.\n",
    "\n",
    "Das Ganze geht auch mit den Standard C++ Funktionen. Probieren Sie mal Folgendes:"
   ]
  },
  {
   "cell_type": "code",
   "execution_count": 6,
   "metadata": {},
   "outputs": [],
   "source": [
    "?std::cin"
   ]
  },
  {
   "cell_type": "markdown",
   "metadata": {},
   "source": [
    "Jetzt aber zurück zu `SVG`."
   ]
  },
  {
   "cell_type": "code",
   "execution_count": 7,
   "metadata": {},
   "outputs": [],
   "source": [
    "?SVG"
   ]
  },
  {
   "cell_type": "markdown",
   "metadata": {},
   "source": [
    "Scrollen Sie mal nach unten. Sie werden reine Reihe von Operationen entdecken, die wir verwenden können. Beispielsweise `drawCircle(x,y,r)` mit der Sie einen Kreis zeichnen können."
   ]
  },
  {
   "cell_type": "code",
   "execution_count": 8,
   "metadata": {},
   "outputs": [],
   "source": [
    "zeichnung.drawCircle(40,60,30);"
   ]
  },
  {
   "cell_type": "markdown",
   "metadata": {},
   "source": [
    "Es gibt noch eine Reihe anderer Formen, die Sie zeichnen können. Die meisten sind relativ einfach."
   ]
  },
  {
   "cell_type": "markdown",
   "metadata": {},
   "source": [
    "<div class=\"task\">\n",
    "    <h3>Aufgaben</h3>\n",
    "    <div>\n",
    "        <p>Probieren Sie die verschiedenen Befehle für das Zeichnen von Formen aus.</p>\n",
    "    </div>\n",
    "</div>"
   ]
  },
  {
   "cell_type": "code",
   "execution_count": 9,
   "metadata": {},
   "outputs": [],
   "source": [
    "// Platz zum Experimentieren"
   ]
  },
  {
   "cell_type": "markdown",
   "metadata": {},
   "source": [
    "## Farbe\n",
    "\n",
    "Wir können auch Farben verwenden. Dazu stehen zwei Möglichkeiten zur Verfügung. Entweder verwendet man die sogenannten [CSS-Farbnamen](https://www.w3schools.com/colors/colors_names.asp)\n",
    "oder die [RGB-Komponenten](https://de.wikipedia.org/wiki/RGB-Farbraum). Durch die Operation `setColor()` wird die Linienfarbe für alle nach folgenden Zeichnungen gesetzt. `setFill()` setzt die Füllung der Objekte."
   ]
  },
  {
   "cell_type": "code",
   "execution_count": 10,
   "metadata": {},
   "outputs": [],
   "source": [
    "zeichnung.clear(); // Lösche die Zeichnung\n",
    "\n",
    "zeichnung.setColor(\"red\");\n",
    "zeichnung.setFill(\"MediumSpringGreen\");\n",
    "zeichnung.drawRect(60,70,100,50);\n",
    "\n",
    "zeichnung.setColor(\"blue\");\n",
    "zeichnung.setFill(\"PaleTurquoise\");\n",
    "zeichnung.drawCircle(100,30,20);"
   ]
  },
  {
   "cell_type": "markdown",
   "metadata": {},
   "source": [
    "Die RGB-Komponenten geben die Rot-, Grün- und Blauanteile der Farben an. Sie können Werte zwischen 0 und 255 annehmen."
   ]
  },
  {
   "cell_type": "code",
   "execution_count": 11,
   "metadata": {},
   "outputs": [],
   "source": [
    "zeichnung.clear();\n",
    "\n",
    "zeichnung.setColor(128,0,128);  // \"halb\" rot, \"halb\" blau\n",
    "zeichnung.setFill(0,255,128);   // \"ganz\" grün und \"halb\" blau\n",
    "\n",
    "zeichnung.drawRect(60,70,100,50);\n",
    "zeichnung.drawCircle(100,30,20);"
   ]
  },
  {
   "cell_type": "markdown",
   "metadata": {},
   "source": [
    "Man kann einen optionalen vierten Parameter angeben, der die Transparenz der Farbe angibt. Er kann werte zwischen 0.0 (durchsichtig) und 1.0 (undurchsichtig) annehmen."
   ]
  },
  {
   "cell_type": "code",
   "execution_count": 12,
   "metadata": {},
   "outputs": [],
   "source": [
    "zeichnung.clear();\n",
    "\n",
    "zeichnung.setColor(\"black\");\n",
    "\n",
    "zeichnung.setFill(255,255,0,1.0);  // undurchsichtig\n",
    "zeichnung.drawRect(10,10,100,50);\n",
    "\n",
    "zeichnung.setFill(255,0,255,0.5);  // halb durchsichtig\n",
    "zeichnung.drawRect(20,20,100,50);\n",
    "\n",
    "zeichnung.setFill(0,255,0,0.25);   // etwas durchscheinender\n",
    "zeichnung.drawRect(30,30,100,50);\n",
    "\n",
    "zeichnung.setFill(0,0,0,0.0);      // unsichtbar\n",
    "zeichnung.drawRect(40,40,100,50);"
   ]
  },
  {
   "cell_type": "markdown",
   "metadata": {},
   "source": [
    "Es gibt auch die Farbe \"transparent\"."
   ]
  },
  {
   "cell_type": "code",
   "execution_count": 13,
   "metadata": {},
   "outputs": [],
   "source": [
    "zeichnung.clear();\n",
    "\n",
    "zeichnung.setColor(\"transparent\"); // Der Rand wird nicht gezeichnet.\n",
    "\n",
    "zeichnung.setFill(255,255,0,1.0);\n",
    "zeichnung.drawRect(10,10,100,50);\n",
    "\n",
    "zeichnung.setFill(255,0,255,0.5);\n",
    "zeichnung.drawRect(20,20,100,50);\n",
    "\n",
    "zeichnung.setFill(0,255,0,0.25);\n",
    "zeichnung.drawRect(30,30,100,50);"
   ]
  },
  {
   "cell_type": "markdown",
   "metadata": {},
   "source": [
    "## Variablen für Veränderung\n",
    "\n",
    "<a class=\"prereq\" href=\"/user-redirect/algoviz/lessons/02_Grundlagen/02_Variablen.ipynb\">Variablen</a> können dazu verwendet werden Dinge zu verändern. Um das zu sehen, verwenden wir als erstes Variablen, um Linien in verschiedenen Farben an verschiedenen Stellen zu zeichnen.\n",
    "\n",
    "Aber zuerst räumen wir auf."
   ]
  },
  {
   "cell_type": "code",
   "execution_count": 14,
   "metadata": {},
   "outputs": [],
   "source": [
    "zeichnung.clear();"
   ]
  },
  {
   "cell_type": "code",
   "execution_count": 15,
   "metadata": {},
   "outputs": [],
   "source": [
    "int wert = 0;  // Unsere Variable hat den Wert 0\n",
    "\n",
    "zeichnung.setColor(wert,0,255);       // Damit legen wir die Farbe ...\n",
    "zeichnung.drawLine(0,wert,255,wert);  // ... und die Position der Linie fest."
   ]
  },
  {
   "cell_type": "markdown",
   "metadata": {},
   "source": [
    "Wie man sieht wird an der oberen Kante eine Linie gezeichnet (man muss schon genau hinsehen).\n",
    "\n",
    "Verändern wir jetzt den Wert der Variable und führen dieselben Anweisungen nochmal durch, ergibt sich ein anderes Ergebnis."
   ]
  },
  {
   "cell_type": "code",
   "execution_count": 16,
   "metadata": {},
   "outputs": [],
   "source": [
    "wert = 255;    // Die Variable wir nicht nochmal deklariert!\n",
    "\n",
    "zeichnung.setColor(wert,0,255);       // Genau das gleiche wie oben.\n",
    "zeichnung.drawLine(0,wert,255,wert);  "
   ]
  },
  {
   "cell_type": "markdown",
   "metadata": {},
   "source": [
    "Durch die Veränderung der Variable haben dieselben Anweisungen eine andere Wirkung. Und diesen Effekt kann man gezielt nutzen. Wir können jetzt z.B. eine <a class=\"perspective\" href=\"/user-redirect/algoviz/lessons/02_Grundlagen/13_Zaehlschleifen.ipynb\">Zählschleife</a> verwenden, die alle möglichen Werte der Variable \"durchzählt\"."
   ]
  },
  {
   "cell_type": "code",
   "execution_count": 17,
   "metadata": {},
   "outputs": [],
   "source": [
    "zeichnung.clear();\n",
    "\n",
    "for ( int rot = 0; rot < 256; rot = rot+1 ) {   // Der Wert der Variable wird schrittweise von 0\n",
    "    zeichnung.setColor(rot,0,255);              // von 0 bis 256 gezählt.\n",
    "    zeichnung.drawLine(0,rot,255,rot);\n",
    "}"
   ]
  },
  {
   "cell_type": "markdown",
   "metadata": {},
   "source": [
    "Die Veränderung des Variablenwerts geschieht in der dritten Komponente der Zählschleife. Sie können mal ausprobieren, was passiert, wenn sie damit etwas Spielen."
   ]
  },
  {
   "cell_type": "markdown",
   "metadata": {},
   "source": [
    "\n",
    "<div class=\"task\">\n",
    "  <h3>Aufgabe</h3>\n",
    "    <div><p>\n",
    "Zeichnen Sie einen Farbverlauf, wie er unten dargestellt ist. Eigentlich müssen Sie nur wenig ändern.</p><br/>\n",
    "        <center><img src=\"../../img/Farbverlauf.png\" width=60></img></center>              \n",
    "    </div>\n",
    "</div>"
   ]
  },
  {
   "cell_type": "code",
   "execution_count": 18,
   "metadata": {},
   "outputs": [],
   "source": [
    "// ..."
   ]
  },
  {
   "cell_type": "markdown",
   "metadata": {},
   "source": [
    "# Bilder\n",
    "\n",
    "Sie können auch Bilder verwenden. Diejenige, die im Verzeichnis `img` liegen Können Sie mit dem Pfad `/user-redirect/algoviz/img/<name>`verwenden."
   ]
  },
  {
   "cell_type": "code",
   "execution_count": 1,
   "metadata": {},
   "outputs": [
    {
     "name": "stderr",
     "output_type": "stream",
     "text": [
      "\u001b[1minput_line_7:3:5: \u001b[0m\u001b[0;1;31merror: \u001b[0m\u001b[1muse of undeclared identifier 'zeichnung'\u001b[0m\n",
      "    zeichnung.clear();\n",
      "\u001b[0;1;32m    ^\n",
      "\u001b[0m\u001b[1minput_line_7:6:5: \u001b[0m\u001b[0;1;31merror: \u001b[0m\u001b[1muse of undeclared identifier 'zeichnung'\u001b[0m\n",
      "    zeichnung.setTransform(\"rotate(\" + std::to_string(winkel) + \",50,50)\");\n",
      "\u001b[0;1;32m    ^\n",
      "\u001b[0m\u001b[1minput_line_7:9:5: \u001b[0m\u001b[0;1;31merror: \u001b[0m\u001b[1muse of undeclared identifier 'zeichnung'\u001b[0m\n",
      "    zeichnung.drawImage(\"/user-redirect/algoviz/img/tardis.png\",0,0,100,100);\n",
      "\u001b[0;1;32m    ^\n",
      "\u001b[0m"
     ]
    },
    {
     "ename": "Interpreter Error",
     "evalue": "",
     "output_type": "error",
     "traceback": [
      "Interpreter Error: "
     ]
    }
   ],
   "source": [
    "for ( int winkel = 0; winkel <= 1440; winkel++) {\n",
    "    zeichnung.clear();\n",
    "    \n",
    "    // Diese Zeile ist die Magie. Versuchen Sie sie mal zu verstehen.\n",
    "    zeichnung.setTransform(\"rotate(\" + std::to_string(winkel) + \",50,50)\");\n",
    "    \n",
    "    // Hier wird das Bild gezeichnet.\n",
    "    zeichnung.drawImage(\"/user-redirect/algoviz/img/tardis.png\",0,0,100,100);\n",
    "}"
   ]
  },
  {
   "cell_type": "markdown",
   "metadata": {},
   "source": [
    "Das \"Flackern\" entsteht durch das ständige Löschen des Bildes. Wir werden bald Möglichkeiten kennen lernen das Ganze etwas eleganter zu machen."
   ]
  },
  {
   "cell_type": "markdown",
   "metadata": {},
   "source": [
    "Wollen Sie eigenen Bilder verwenden, müssen Sie sie in Ihr `myNotebooks` Verzeichnis hochladen. Dann können Sie sie über `/user-redirect/algoviz/myNotebooks/<name>` verwenden (ja ich weiß, der Pfad ist nicht schön)."
   ]
  },
  {
   "cell_type": "markdown",
   "metadata": {},
   "source": [
    "<div class=\"task\">\n",
    "    <h3>Aufgabe</h3>\n",
    "    <div>\n",
    "        Laden Sie ein Bild in Ihr <tt>myNotebooks</tt> Verzeichnis hoch und lassen Sie es über das Zeichenbrett wandern.        \n",
    "    </div>\n",
    "</div>    "
   ]
  },
  {
   "cell_type": "code",
   "execution_count": null,
   "metadata": {},
   "outputs": [],
   "source": [
    "// ...."
   ]
  },
  {
   "cell_type": "markdown",
   "metadata": {},
   "source": [
    "<div class=\"followup\">\n",
    "    <h3>Was folgen könnte</h3>\n",
    "    <div>\n",
    "        Bevor es mit den <a class=\"perspective\" href=\"/user-redirect/algoviz/lessons/02_Grundlagen/11_Entscheidungen.ipynb\">Entscheidungsanweisungen</a> \n",
    "        weitergeht, sollten Sie sich schon mal mit <a class=\"followup\" href=\"/user-redirect/algoviz/lessons/02_Grundlagen/14_ErsterKontaktMitObjekten.ipynb\">Objekten</a> beschäftigen.\n",
    "    </div>\n",
    "</div>"
   ]
  }
 ],
 "metadata": {
  "kernelspec": {
   "display_name": "C++17",
   "language": "C++17",
   "name": "xcpp17"
  },
  "language_info": {
   "codemirror_mode": "text/x-c++src",
   "file_extension": ".cpp",
   "mimetype": "text/x-c++src",
   "name": "c++",
   "version": "17"
  }
 },
 "nbformat": 4,
 "nbformat_minor": 4
}
