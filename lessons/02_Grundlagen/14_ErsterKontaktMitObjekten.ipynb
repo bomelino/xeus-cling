{
 "cells": [
  {
   "cell_type": "markdown",
   "metadata": {},
   "source": [
    "# Ein erster Kontakt mit Objekten"
   ]
  },
  {
   "cell_type": "markdown",
   "metadata": {},
   "source": [
    "<div class=\"prereq\">\n",
    "    <h3>Vorraussetzungen</h3>\n",
    "    <div>\n",
    "        Sie sollten sich schon mit <a class=\"prereq\" href=\"/user-redirect/algoviz/lessons/02_Grundlagen/10_AlgoViz.ipynb\">AlgoViz</a> beschäftigt haben.\n",
    "    </div>\n",
    "</div>"
   ]
  },
  {
   "cell_type": "markdown",
   "metadata": {},
   "source": [
    "In dieser Lesson werden wir uns schonmal mit zwei relativ komplexen Konzepten beschäftigen, die wir erst später etwas genauer betrachten: **Klassen** und **Objekte**. Tatsächlich haben wir beide bereits auf sehr intuitive Art angewandt. Und das wollen wir vorerst auch so weiter machen.\n",
    "\n",
    "Zuerst benötigen wir aber wieder eine SVG-Grafik."
   ]
  },
  {
   "cell_type": "code",
   "execution_count": 1,
   "metadata": {},
   "outputs": [],
   "source": [
    "#include <algoviz/SVG.hpp>\n",
    "SVG zeichnung = SVG(400,400);"
   ]
  },
  {
   "cell_type": "markdown",
   "metadata": {},
   "source": [
    "Sie erinnern sich, wie wir einen Kreis zeichnen konnten."
   ]
  },
  {
   "cell_type": "code",
   "execution_count": 2,
   "metadata": {},
   "outputs": [],
   "source": [
    "zeichnung.drawCircle(200,200,20);"
   ]
  },
  {
   "cell_type": "markdown",
   "metadata": {},
   "source": [
    "Und da haben wir schon die Konzepte der **Klassen** und **Objekte** angewandt. `SVG` ist eine **Klasse**, also eine Programmkomponente, die uns bestimmte Funktionalitäten zur Verfügung stellt. In unserem Fall eine SVG-Grafik. Eine andere Klasse, die wir bereits kennen, ist `Turtle`.\n",
    "\n",
    "Eine Klasse ist erstmal etwas abstraktes. Im Grunde eine Sammlung von bestimmten Programmfragmenten, die wir nutzen können. Um damit etwas anfangen zu können, müssen wir **Objekte** dieser Klasse erzeugen. Und genau das hat die Anweisung `SVG zeichnung SVG(400,400);`gemacht. Es wurde in **Objekt** der Klasse `SVG` erzeugt und in der Variable `zeichnung` gespeichert. Etwas vereinfacht können wir auch sagen, dass `zeichnung` ein Objekt der Klasse `SVG` ist.\n",
    "\n",
    "Anschließend haben wir **auf** dem Objekt `zeichnung` die Operation oder Methode `drawCircle()` ausgeführt."
   ]
  },
  {
   "cell_type": "markdown",
   "metadata": {},
   "source": [
    "Das Ganze können wir auch nochmal machen und so ein weiteres Objekt der Klasse `SVG`erzeugen. Diesmal machen wir die Zeichnung aber etwas kleiner:"
   ]
  },
  {
   "cell_type": "code",
   "execution_count": 3,
   "metadata": {},
   "outputs": [],
   "source": [
    "SVG zeichnung2 = SVG(100,100);"
   ]
  },
  {
   "cell_type": "markdown",
   "metadata": {},
   "source": [
    "Wie man sieht ist eine weitere Zeichnung \"entstanden\". Und auch in sie können wir einen Kreis zeichnen."
   ]
  },
  {
   "cell_type": "code",
   "execution_count": 4,
   "metadata": {},
   "outputs": [],
   "source": [
    "zeichnung2.drawCircle(50,50,10);"
   ]
  },
  {
   "cell_type": "markdown",
   "metadata": {},
   "source": [
    "Und wir können in beide Zeichnung getrennt zeichnen."
   ]
  },
  {
   "cell_type": "code",
   "execution_count": 5,
   "metadata": {},
   "outputs": [],
   "source": [
    "zeichnung.drawRect(20,20,60,30);\n",
    "zeichnung2.drawEllipse(40,20,30,10);"
   ]
  },
  {
   "cell_type": "markdown",
   "metadata": {},
   "source": [
    "Wir haben somit zwei **Objekte** derselben **Klasse** `SVG`. Beide können dasselbe, sind aber verschiedene **Instanzen**. D.h. wir können mit Ihnen in einem Programm unterschiedliche Dinge tun."
   ]
  },
  {
   "cell_type": "markdown",
   "metadata": {},
   "source": [
    "## Die Kreise\n",
    "\n",
    "Jetzt wollen wir das Konzept der Objekte nutzen, um unsere Grafiken besser verändern zu können.\n",
    "\n",
    "Als erstes räumen wir alles weg."
   ]
  },
  {
   "cell_type": "code",
   "execution_count": 6,
   "metadata": {},
   "outputs": [],
   "source": [
    "AlgoViz::clear();"
   ]
  },
  {
   "cell_type": "markdown",
   "metadata": {},
   "source": [
    "Und wir benötigen eine neue Zeichnung mit einem Kreis."
   ]
  },
  {
   "cell_type": "code",
   "execution_count": 7,
   "metadata": {},
   "outputs": [],
   "source": [
    "SVG zeichnung = SVG(400,400);\n",
    "zeichnung.drawCircle(200,200,20);"
   ]
  },
  {
   "cell_type": "markdown",
   "metadata": {},
   "source": [
    "Den Kreis den wir gezeichnet haben können wir aber nicht mehr verändern. Wenn dann müssen wir - wie wir das auch schon getan haben - die Zeichnung wieder löschen und den Kreis anders neu zeichnen. Das ist umständlich und führt - aus technischen Gründen zum Flackern. Aber machen wir es mal und lassen den Kreis **wachsen**. Dazu verwenden wir wieder eine <a class=\"perspective\" href=\"/user-redirect/algoviz/lessons/02_Grundlagen/13_Zaehlschleifen.ipynb\">Zählschleife</a>."
   ]
  },
  {
   "cell_type": "code",
   "execution_count": 8,
   "metadata": {},
   "outputs": [],
   "source": [
    "zeichnung.setFill(\"black\");\n",
    "\n",
    "for ( int groesse = 5; groesse < 200; groesse = groesse+1 ) {\n",
    "    zeichnung.clear();\n",
    "    zeichnung.drawCircle(200,200,groesse);\n",
    "    AlgoViz::sleep(10); // Wir warten ein wenig, damit wir den Effekt sehen und es nicht so sehr flackert.\n",
    "}"
   ]
  },
  {
   "cell_type": "markdown",
   "metadata": {},
   "source": [
    "Das geht auf jeden Fall. Aber wir wollen den Kreis nicht immer wieder neu zeichnen (also in Wirklichkeit immer einen neuen Kreis). Stattdessen möchten wir **denselben** Kreis verändern. Das ist mit AlgoViz auch möglich.\n",
    "\n",
    "Und da kommen wieder **Klassen** und **Objekte** ins Spiel. Es wäre super, wenn es eine Klasse - sagen wir mal - `Circle` gäbe, aus der wir ein **Objekt** erzeugen können, dass einen Kreis darstellt. Und dieses Objekt möchten wir dann verändern.\n",
    "\n",
    "Tatsächlich bietet AlgoViz eine solche Klasse `Circle` an. Und wir machen mal zwei davon. Einer hat den Radius 10 und der andere 30."
   ]
  },
  {
   "cell_type": "code",
   "execution_count": 9,
   "metadata": {},
   "outputs": [],
   "source": [
    "zeichnung.clear();\n",
    "\n",
    "Circle kreis1 = Circle(100,100,10, &zeichnung);\n",
    "Circle kreis2 = Circle(200,200,30, &zeichnung);"
   ]
  },
  {
   "cell_type": "markdown",
   "metadata": {},
   "source": [
    "Wie man sieht sind die Befehle ähnlich zu denen für `SVG` und `Turtle`. Man legt jeweils eine Variable vom Typ `Circle` an und \"erzeugt\" ein entsprechendes Objekt.\n",
    "\n",
    "Die ersten beiden Parameter sind die Koordinaten des Mittelpunktes. Der dritte der Radius. Der vierte gibt an, dass die Kreise in `zeichnung` gezeichnet werden sollen. Das komische **Kaufmanns-Und `&`** werden wir später erklären. Im Moment merken sie es sich einfach. Es muss immer dastehen.\n",
    "\n",
    "Was hat uns das gebracht? Wir können jetzt die beiden Kreise unabhängig voneinander verändern. Ändern wir z.B. die Farbe von `kreis1` und die Größe von `kreis2`."
   ]
  },
  {
   "cell_type": "code",
   "execution_count": 10,
   "metadata": {},
   "outputs": [],
   "source": [
    "kreis1.setFill(\"red\");\n",
    "kreis2.setRadius(15);"
   ]
  },
  {
   "cell_type": "markdown",
   "metadata": {},
   "source": [
    "Woher wissen wir, was wir mit den Kreisen tun können? Da hilft die Dokumentation weiter."
   ]
  },
  {
   "cell_type": "code",
   "execution_count": 11,
   "metadata": {},
   "outputs": [],
   "source": [
    "?Circle"
   ]
  },
  {
   "cell_type": "markdown",
   "metadata": {},
   "source": [
    "Wie man sieht kann man z.B. mit `setRadius(r)` den Radius verändern und mit `moveTo(x,y)` den Kreis verschieben. Undletzteres machen wir mit einer Zählschleife."
   ]
  },
  {
   "cell_type": "code",
   "execution_count": 12,
   "metadata": {},
   "outputs": [],
   "source": [
    "for ( int pos = 0; pos < 400; pos=pos+1) {\n",
    "    kreis2.moveTo(pos,pos);\n",
    "    AlgoViz::sleep(20);  // Wir wollen das \"genießen\" und warten zwischen zwei schritten 20ms\n",
    "}"
   ]
  },
  {
   "cell_type": "markdown",
   "metadata": {},
   "source": [
    "Gleichzeitig könnten wir dieselbe Variable nutzen um die Größe des anderen Kreises zu verändern."
   ]
  },
  {
   "cell_type": "markdown",
   "metadata": {},
   "source": [
    "<div class=\"task\">\n",
    "    <h3>Aufgabe</h3>\n",
    "    <div>\n",
    "        Ergänzen Sie das Programm so, dass der andere Kreis gleichzeitig wächst.\n",
    "    </div>\n",
    "</div>"
   ]
  },
  {
   "cell_type": "markdown",
   "metadata": {},
   "source": [
    "## Oberklassen\n",
    "\n",
    "AlgoViz stellt auch noch eine Reihe anderer Klassen zur Verfügung. Unter anderem die Klasse `Rect` für Rechtecke oder `Line` für Linien. Da alle einiges gemeinsam haben, sind sie allen auch in der Klasse `SVGElemente` zusammengefasst. Diese stellt z.B. zu Verfügung, dass man allen Farben geben oder sie drehen kann. Man sagt auch, dass `SVGElement` die **Oberklasse** von `Circle` und den anderen ist. Als Diagramm zeicnet man das so:\n",
    "\n",
    "![SVGElement und seine **Unterklassen**](/user-redirect/algoviz/img/SVGElement.png)\n",
    "\n",
    "Man kann das ein wenig damit Vergleichen, dass sowohl ein **Bleisitft** als auch ein **Füller** **Stifte** sind. Beide können **schreiben** und **gelöscht** werden. Aber der eine hat eine feste Farbe, während der andere austauschbare Patronen hat.\n",
    "\n",
    "![Stifte](/user-redirect/algoviz/img/Stift.png)\n",
    "\n",
    "Genauso haben Rechtecke und Kreise Farben und eine Position. Aber sie haben unterschiedliche **Attribute** für ihre Größe.\n",
    "\n",
    "Welche Klassen es gibt sieht man in der Dokumentation von `SVGElement`. Dort sieht man auch, was alle können."
   ]
  },
  {
   "cell_type": "code",
   "execution_count": 13,
   "metadata": {},
   "outputs": [],
   "source": [
    "?SVGElement"
   ]
  },
  {
   "cell_type": "markdown",
   "metadata": {},
   "source": [
    "Nehmen wir mal ein `Rect`."
   ]
  },
  {
   "cell_type": "code",
   "execution_count": 14,
   "metadata": {},
   "outputs": [],
   "source": [
    "zeichnung.clear();\n",
    "\n",
    "Rect rechteck = Rect(10,10,20,40,&zeichnung);"
   ]
  },
  {
   "cell_type": "markdown",
   "metadata": {},
   "source": [
    "Die Größe können wir in diesem Fall über die zugehörigen Attribute \"width\" und \"height\" ändern:"
   ]
  },
  {
   "cell_type": "code",
   "execution_count": 15,
   "metadata": {},
   "outputs": [],
   "source": [
    "rechteck.setWidth(60);"
   ]
  },
  {
   "cell_type": "markdown",
   "metadata": {},
   "source": [
    "Und jetzt die Höhe."
   ]
  },
  {
   "cell_type": "code",
   "execution_count": 16,
   "metadata": {},
   "outputs": [],
   "source": [
    "rechteck.setHeight(5);"
   ]
  },
  {
   "cell_type": "markdown",
   "metadata": {},
   "source": [
    "In der Dokumentation stehen die diversen Attribute, die verändert werden können."
   ]
  },
  {
   "cell_type": "markdown",
   "metadata": {},
   "source": [
    "<div class=\"task\">\n",
    "    <h3>Aufgaben</h3>\n",
    "    <div>\n",
    "        <p>Probieren Sie die Verschiedenen Klassen aus. Der <tt>Path</tt> ist allerdings etwas \n",
    "            komplizierter. Sie können ihn weglassen. Genau wie <tt>Group</tt>.\n",
    "        </p>\n",
    "        <p> Wenn Sie sich trotzdem an die Pfade rantrauen,\n",
    "            dann können Sie sich<h class=\"external\" href=\"https://www.w3schools.com/graphics/svg_path.asp\">\n",
    "            hier informieren</a> und <a class=\"external\" href=\"https://mavo.io/demos/svgpath/\">hier experimentieren</a>. Aber seien sie gewarnt! Es ist etwas komplizierter und eine kleine Programmiersprache für sich!</p>\n",
    "    </div>\n",
    "</div>"
   ]
  },
  {
   "cell_type": "markdown",
   "metadata": {},
   "source": [
    "## Die rotierende Tardis\n",
    "\n",
    "Jetzt können wir auch unsere Tardis etwas schöner rotieren lassen. Erstmal brauchen wir das Bild als Objekt."
   ]
  },
  {
   "cell_type": "code",
   "execution_count": 17,
   "metadata": {},
   "outputs": [],
   "source": [
    "Image tardis = Image(\"/user-redirect/algoviz/img/tardis.png\",175,175,50,50,&zeichnung);"
   ]
  },
  {
   "cell_type": "markdown",
   "metadata": {},
   "source": [
    "Und dann kann es losgehen."
   ]
  },
  {
   "cell_type": "code",
   "execution_count": 18,
   "metadata": {},
   "outputs": [],
   "source": [
    "for ( int winkel = 0; winkel < 1000; winkel = winkel +1 ) {\n",
    "    tardis.rotateTo(winkel);\n",
    "}"
   ]
  },
  {
   "cell_type": "markdown",
   "metadata": {},
   "source": [
    "<div class=\"followup\">\n",
    "    <h3>Wo es weiter geht</h3>\n",
    "    <div>\n",
    "        Endlich geht es zu den <a class=\"followup\" href=\"/user-redirect/algoviz/lessons/02_Grundlagen/11_Entscheidungen.ipynb\">Entscheidungsanweisungen</a>.\n",
    "    </div>\n",
    "</div>"
   ]
  }
 ],
 "metadata": {
  "kernelspec": {
   "display_name": "C++17",
   "language": "C++17",
   "name": "xcpp17"
  },
  "language_info": {
   "codemirror_mode": "text/x-c++src",
   "file_extension": ".cpp",
   "mimetype": "text/x-c++src",
   "name": "c++",
   "version": "17"
  }
 },
 "nbformat": 4,
 "nbformat_minor": 4
}
