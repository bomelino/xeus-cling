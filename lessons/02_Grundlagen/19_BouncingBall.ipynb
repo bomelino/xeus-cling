{
 "cells": [
  {
   "cell_type": "markdown",
   "metadata": {},
   "source": [
    "# Der hüpfende Ball"
   ]
  },
  {
   "cell_type": "markdown",
   "metadata": {},
   "source": [
    "<div class=\"prereq\">\n",
    "    <h3>Was man wissen sollte</h3>\n",
    "    <div>\n",
    "        <a class=\"prereq\" href=\"/user-redirect/algoviz/lessons/02_Grundlagen/18_Tastatur.ipynb\">Verwendung der Tastatur</a>\n",
    "    </div>\n",
    "</div>    "
   ]
  },
  {
   "cell_type": "markdown",
   "metadata": {},
   "source": [
    "In dieser Lesson wollen wir das Beispiel des sich bewegenden Kreises zu einem hüpfenden Ball mit einer Tastatursteuerung weiter entwickeln. Dadurch soll der Prozess der Entwicklung eines solchen Programmes verdeutlicht werden.\n",
    "\n",
    "Wir beginnen mit dem fliegenden Kreis, der bereits in [Entscheidungen](/user-redirect/algoviz/lessons/02_Grundlagen/11_Entscheidungen.ipynb) entwickelt wurde. Dabei ersetzen wir bereits die For-Schleife durch die per [Tastatur](/user-redirect/algoviz/lessons/02_Grundlagen/18_Tastatur.ipynb) unterbrochene Schleife."
   ]
  },
  {
   "cell_type": "code",
   "execution_count": null,
   "metadata": {},
   "outputs": [],
   "source": [
    "#include <algoviz/SVG.hpp>\n",
    "#include <iostream>\n",
    "\n",
    "using namespace std;   // Hierdurch müssen wir nicht mehr std:: vor cout etc. schreiben AlgoViz::clear();\n",
    "\n",
    "SVG zeichnung = SVG(400,400);\n",
    "Circle ball = Circle(200,50,10,&zeichnung);\n",
    "\n",
    "string key;   // Die Taste\n",
    "int x = 0;\n",
    "int y = 0;\n",
    "int vx = 2;   // Die \"Geschwindigkeit\" in x Richtung\n",
    "int vy = 1;   // Die \"Geschwindigkeit\" in y Richtung\n",
    "\n",
    "do {\n",
    "    // Ermittle die zuletzt gedrückte Taste\n",
    "    key = zeichnung.lastKey();\n",
    "    \n",
    "    // Verändere die Position des Balls\n",
    "    x = x + vx;\n",
    "    y = y + vy;\n",
    "    \n",
    "    // Lasse ihn am Rand reflektieren\n",
    "    if ((x < 0) || (x > 399)) {\n",
    "        vx = -vx;\n",
    "    }\n",
    "\n",
    "    if ((y < 0) || (y > 399)) {\n",
    "        vy = -vy;\n",
    "    }\n",
    "\n",
    "    // Verschiebe den Kreis\n",
    "    ball.moveTo(x,y);\n",
    "    \n",
    "    // Ein wenig warten\n",
    "    AlgoViz::sleep(10);\n",
    "    \n",
    "} while ( key != \"x\" ); // Beende die Schleife, wenn \"x\" gedrückt wurde."
   ]
  },
  {
   "cell_type": "markdown",
   "metadata": {},
   "source": [
    "Wenn man die Geschwindigkeit in einer oder beiden Richtungen erhöht, stellt man schnell fest, dass die *Reflektion* an den Seiten nicht ganz richtig ist. Es kann sein, dass der Kreis zu weit läuft und dann umkehrt.\n",
    "\n",
    "Daher wollen wir als erstes die Reflektion verbessern. Schauen wir uns dazu als Beispiel die linke Kante an. Wenn der Kreis eine Position $x < 10$ hat verschwindet ein Teil aus dem Bild. Die Situation ist in dem Bild schematisch dargestellt. Dabei wird der Kreis nur durch seinen ittelpunkt repräsentiert.\n",
    "\n",
    "![Der linke Rand](/user-redirect/algoviz/img/BouncingBallLeft.png)\n",
    "\n",
    "Da $x<0$ ist, ist der KReis bereits $\\Delta x = 10 - x > 0$ Pixel zu weit links. Damit wir eine Reflektion an der Kante $x=0$ simulieren, müsste die neue x-Korrdinate aber $ x' = 10 + \\Delta x$ sein.\n",
    "Damit ergibt sich\n",
    "$$ x' = 10 + \\Delta x = 20 - x $$\n",
    "Das können wir jetzt sowohl für die $x$-Koordinate als auch die y-Koordinate einbauen."
   ]
  },
  {
   "cell_type": "code",
   "execution_count": null,
   "metadata": {},
   "outputs": [],
   "source": [
    "#include <algoviz/SVG.hpp>\n",
    "#include <iostream>\n",
    "\n",
    "using namespace std;   // Hierdurch müssen wir nicht mehr std:: vor cout etc. schreiben\n",
    "AlgoViz::clear();\n",
    "\n",
    "SVG zeichnung = SVG(400,400);\n",
    "Circle ball = Circle(200,50,10,&zeichnung);\n",
    "\n",
    "string key;   // Die Taste\n",
    "int x = 0;\n",
    "int y = 0;\n",
    "int vx = 2;   // Die \"Geschwindigkeit\" in x Richtung\n",
    "int vy = 1;   // Die \"Geschwindigkeit\" in y Richtung\n",
    "\n",
    "do {\n",
    "    // Ermittle die zuletzt gedrückte Taste\n",
    "    key = zeichnung.lastKey();\n",
    "    \n",
    "    // Verändere die Position des Balls\n",
    "    x = x + vx;\n",
    "    y = y + vy;\n",
    "    \n",
    "    // Lasse ihn am Rand reflektieren\n",
    "    // Der linke Rand\n",
    "    if ( x < 10 ) {\n",
    "        x = 20-x;\n",
    "        vx = -vx;\n",
    "    }\n",
    "    \n",
    "    // Der rechte Rand\n",
    "    if ( x > 399 ) {\n",
    "        x = 399;\n",
    "        vx = -vx;\n",
    "    }\n",
    "\n",
    "    // Der obere Rand\n",
    "    if ( y < 10 ) {\n",
    "       y = 20 - y;\n",
    "       vy = -vy;\n",
    "    }\n",
    "    \n",
    "    // Der untere Rand\n",
    "    if ( y > 399 ) {\n",
    "        y = 399;\n",
    "        vy = -vy;\n",
    "    }\n",
    "\n",
    "    // Verschiebe den Kreis\n",
    "    ball.moveTo(x,y);\n",
    "    \n",
    "    // Ein wenig warten\n",
    "    AlgoViz::sleep(10);\n",
    "    \n",
    "} while ( key != \"x\" ); // Beende die Schleife, wenn \"x\" gedrückt wurde."
   ]
  },
  {
   "cell_type": "markdown",
   "metadata": {},
   "source": [
    "<div class=\"task\">\n",
    "    <h3>Aufgabe</h3>\n",
    "    <div>\n",
    "        Überlegen Sie sich, wie die Reflexion am rechten Rand (x=399) realisiert werden muss und verändern Sie das Programm entsprechend.\n",
    "    </div>\n",
    "</div>"
   ]
  },
  {
   "cell_type": "markdown",
   "metadata": {},
   "source": [
    "## Die Gravitation\n",
    "\n",
    "Damit haben wir die erste Verbesserung vorgenommen. Als nächstes wollen wir die Schwerkraft einbauen. Dazu müssen wir die **Erdbeschleunigung** simulieren. Das können wir relativ einfach tun, indem wir in jeder Runde die Geschwindigkeit nach unten um eine feste Größe erhöhen. D.h. wir müssen in jeder Runde einen festen Betrag auf `vy` addieren. Da die y-Achse nach unten zeigt, muss der Betrag positiv sein. Und wir wählen ihn erstmal als. D.h. wir bauen `vy = vy + 1` an einer geeigneten Stelle ins Programm ein."
   ]
  },
  {
   "cell_type": "markdown",
   "metadata": {},
   "source": [
    "<div class=\"task\">\n",
    "    <h3>Aufgabe</h3>\n",
    "    <div>\n",
    "        Bauen Sie die Zeile `vy = vy + 1` an geeigneter Stelle ins Programm ein.\n",
    "    </div>\n",
    "</div>"
   ]
  },
  {
   "cell_type": "markdown",
   "metadata": {},
   "source": [
    "## Mehr Kontrolle\n",
    "\n",
    "Wenn Sie es richtig gemacht haben sollten, sollte der Ball jetzt schon richtig hüpfen.\n",
    "\n",
    "Als nächstes wollen wir noch die Pfeiltasten dazu nutzen Einfluss auf die Geschwindigkeit zu nehmen.\n",
    "Mit Links/Rechts soll die Geschwindigkeit in x-Richtung entsprechend verändert werden und mit Oben/Unten die in y-Richtung. Außerdem soll man mit \"0\" den Ball anhalten können."
   ]
  },
  {
   "cell_type": "markdown",
   "metadata": {},
   "source": [
    "<div class=\"task\">\n",
    "    <h3>Aufgabe</h3>\n",
    "    <div>\n",
    "        Bauen Sie die beschriebene Tastatursteuerung in das Programm ein.\n",
    "    </div>\n",
    "</div>"
   ]
  },
  {
   "cell_type": "markdown",
   "metadata": {},
   "source": [
    "<div class=\"followup\">\n",
    "    <h3>Wo es weiter geht</h3>\n",
    "    <div>\n",
    "        <a class=\"followup\" href=\"/user-redirect/algoviz/lessons/02_Grundlagen/16_Strings.ipynb\">Strings und Zeichen</a>\n",
    "    </div>\n",
    "</div>    "
   ]
  },
  {
   "cell_type": "markdown",
   "metadata": {},
   "source": [
    "<div style=\"float:right\"><a href=\"/user-redirect/algoviz/lessons/02_Grundlagen/.XX_Tardis.ipynb\"><img width=\"40px\" title=\"Exterminate!\" src=\"/user-redirect/algoviz/img/dalek.jpg\"/></a></div>"
   ]
  }
 ],
 "metadata": {
  "kernelspec": {
   "display_name": "C++17",
   "language": "C++17",
   "name": "xcpp17"
  },
  "language_info": {
   "codemirror_mode": "text/x-c++src",
   "file_extension": ".cpp",
   "mimetype": "text/x-c++src",
   "name": "c++",
   "version": "17"
  }
 },
 "nbformat": 4,
 "nbformat_minor": 4
}
