{
 "cells": [
  {
   "cell_type": "markdown",
   "metadata": {},
   "source": [
    "# Variablen"
   ]
  },
  {
   "cell_type": "markdown",
   "metadata": {},
   "source": [
    "<div class=\"slideshow /02_Grundlagen/02_Variablen/slides.json\">Variablen</div>"
   ]
  },
  {
   "cell_type": "markdown",
   "metadata": {},
   "source": [
    "Nachdem wir die drei **Elementaroperationen** für Variablen kennengelert haben, ist es an der Zeit zu beschreiben, wie wir sie in C++-Programmen verwenden können."
   ]
  },
  {
   "cell_type": "markdown",
   "metadata": {},
   "source": [
    "## Deklaration von Variablen\n",
    "\n",
    "Die **Deklaration** einer Variablen geschieht einfach, indem man ihren Namen und ihren Typ aufschreibt. Allerdings in umgekehrter Reihenfolge. Unser Beispiel legt eine Variable vom Typ `int` an."
   ]
  },
  {
   "cell_type": "code",
   "execution_count": null,
   "metadata": {},
   "outputs": [],
   "source": [
    "int wert;"
   ]
  },
  {
   "cell_type": "markdown",
   "metadata": {},
   "source": [
    "Diese Anweisung legt einen Speicherbereich an (das von Paco gezeichnete Kästchen). Er ist so groß, dass er einen Wert vom Typ `int` enthalten kann. Der Speicherbereich wird mit dem **Namen** `wert` versehen. \n",
    "Die Variable ist somit **deklariert** worden. Allerdings wurde ihr noch kein Wert zugewiesen. Das ist ein Problem, da in C++ Variablen bei der Deklaration standardmäßig nicht mit einem vorgeschriebenen Wert initialisiert werden. D.h. anschließend könnte in der Theorie ein beliebiger Wert in der Variable stehen.\n",
    "\n",
    "Da dies häufig zu Problemen führt, ist es anzuraten die Variable bei der Deklaration direkt mit einem vorgegebenen Wert zu **initialisiern**:"
   ]
  },
  {
   "cell_type": "code",
   "execution_count": null,
   "metadata": {},
   "outputs": [],
   "source": [
    "int value = 1701;"
   ]
  },
  {
   "cell_type": "markdown",
   "metadata": {},
   "source": [
    "Diese Anweisung legt eine neue Variable `value` an und **initialisiert** Sie mit dem Wert 1701.\n",
    "\n",
    "Eine **Deklaration** folgt somit der folgenden **Syntax**:\n",
    "\n",
    "    <typ> <name> = <initaler Wert>;\n",
    "    \n",
    "Dabei ist `<typ>` ein **Platzhalter** für einen Datentyp und `<initialer Wert>` einer für einen beliebigen Wert des entsprechenden Typs. `<name>`steht für einen Namen, der die folgenden Regeln erfüllen muss:\n",
    "* Er ist zwischen 1 und 255 Zeichen lang.\n",
    "* Er besteht aus Buchstaben (`a`-`z`,`A`-`Z`), Ziffern (`0`-`9`) oder Untrstrichen (`_`)\n",
    "* Er beginnt **nicht** mit einer Ziffer.\n",
    "* Er ist kein **reserviertes Wort** der Programmiersprache, wie z.B. `int`.\n",
    "* Groß- und Kleinschreibung in Variablennamen werden unterschieden.\n",
    "\n",
    "Hier noch ein paar Beispiele."
   ]
  },
  {
   "cell_type": "code",
   "execution_count": null,
   "metadata": {},
   "outputs": [],
   "source": [
    "double dezimal_zahl = 42.0;\n",
    "int _dies_ist_eine_Zahl_ = 500;\n",
    "char zeichen2 = 'a';\n",
    "std::string text = \"Dies ist ein String\";"
   ]
  },
  {
   "cell_type": "markdown",
   "metadata": {},
   "source": [
    "<div class=\"prereq\">\n",
    "    <h3>Achtung!</h3>\n",
    "    <div>\n",
    "        <p>In C++ werden Variablen bei der Deklaration nicht mit einem Standardwert belegt.\n",
    "            Daher sollte man <b>immer</b> einen Initialisierungswert angeben!</p>\n",
    "    </div>\n",
    "</div>"
   ]
  },
  {
   "cell_type": "markdown",
   "metadata": {},
   "source": [
    "Ist eine Variable deklariert worden, führt eine erneute Deklaration zu einem Fehler:"
   ]
  },
  {
   "cell_type": "code",
   "execution_count": null,
   "metadata": {},
   "outputs": [],
   "source": [
    "int variable = 50;  // Erste Deklaration.\n",
    "\n",
    "int variable = 13;  // Die zweite Deklaration führt zu einem Fehler."
   ]
  },
  {
   "cell_type": "markdown",
   "metadata": {},
   "source": [
    "<div class=\"followup\">\n",
    "    <h3>Bemerkung</h3>\n",
    "    <div>\n",
    "    In Jupyter Notebook kann man eine Variable mehrfach deklarieren, solange sie in verschiedenen Zellen deklariert wird.\n",
    "    </div>\n",
    "</div>    "
   ]
  },
  {
   "cell_type": "markdown",
   "metadata": {},
   "source": [
    "## Werte\n",
    "\n",
    "Über den Namen der Variable kann man auf ihren aktuellen Wert zugreifen. Als erstes Beispiel geben wir den Wert einfach über die Konsole aus (mehr dazu in der Lesson <a class=\"followup\" href=\"/user-redirect/algoviz/lessons/02_Grundlagen/06_EinUndAusgabe.ipynb\">Ein- und Ausgabe</a>)."
   ]
  },
  {
   "cell_type": "code",
   "execution_count": null,
   "metadata": {},
   "outputs": [],
   "source": [
    "#include <iostream>     //  Die Bibliothek wird für die Ausgabe benötigt\n",
    "\n",
    "std::cout << wert;"
   ]
  },
  {
   "cell_type": "markdown",
   "metadata": {},
   "source": [
    "## Zuweisungen\n",
    "\n",
    "Einer Variable kann ein neuer Wert zugewiesen werden, der den alten ersetzt. Dies geschieht über den **Zuweisungsoperator** `=`."
   ]
  },
  {
   "cell_type": "code",
   "execution_count": null,
   "metadata": {},
   "outputs": [],
   "source": [
    "wert = 73;"
   ]
  },
  {
   "cell_type": "markdown",
   "metadata": {},
   "source": [
    "Eine Zuweisung hat immer die Form\n",
    "\n",
    "    <variable> = <wert>;\n",
    "    \n",
    "Links vom Zuweisungsoperator **muss** ein Variablenname stehen, während rechts der neue Wert steht. Dieser **muss** dabei vom Typ der Variable sein."
   ]
  },
  {
   "cell_type": "code",
   "execution_count": null,
   "metadata": {},
   "outputs": [],
   "source": [
    "double zahl = 1.0;   // Die Variable hat den Typ double\n",
    "\n",
    "zahl = \"string\";     // Hier wird ein string zugewiesen"
   ]
  },
  {
   "cell_type": "markdown",
   "metadata": {},
   "source": [
    "Bei den numerischen Typen kann aber häufig eine automatische **Konvertierung stattfinden**. Bei `double` ist das fast immer der Fall."
   ]
  },
  {
   "cell_type": "code",
   "execution_count": null,
   "metadata": {},
   "outputs": [],
   "source": [
    "double dezimalZahl = '*';   // Der Character wird als ASCII-Code interpretiert\n",
    "dezimalZahl = 42;           // Eine ganze Zahl ist auch eine Dezimalzahl\n",
    "dezimalZahl = true;         // und ein Boolean ist auch eine Zahl (0 oder 1)"
   ]
  },
  {
   "cell_type": "markdown",
   "metadata": {},
   "source": [
    "Aber manchmal gibt es Probleme:"
   ]
  },
  {
   "cell_type": "code",
   "execution_count": null,
   "metadata": {},
   "outputs": [],
   "source": [
    "dezimalZahl = \"3.14159\";"
   ]
  },
  {
   "cell_type": "markdown",
   "metadata": {},
   "source": [
    "Der String kann nicht automatisch in eine Zahl umgewwandelt werden."
   ]
  },
  {
   "cell_type": "markdown",
   "metadata": {},
   "source": [
    "`int`-Variablen sind nicht ganz so flexibel. Will man ihnen einen `double`-Wert zuweisen, führt dies zu einer Warnung, da der Wert gerundet werden muss:"
   ]
  },
  {
   "cell_type": "code",
   "execution_count": null,
   "metadata": {},
   "outputs": [],
   "source": [
    "int ganzeZahl = 3.14159;"
   ]
  },
  {
   "cell_type": "markdown",
   "metadata": {},
   "source": [
    "Mit Strings sieht es noch schlechter aus."
   ]
  },
  {
   "cell_type": "markdown",
   "metadata": {},
   "source": [
    "<div class=\"task\">\n",
    "    <h3>Aufgabe</h3>\n",
    "    <div>\n",
    "        Probieren Sie Zuweisungen mit allen Kombinationen der Typen <tt>int</tt>, <tt>float</tt>,\n",
    "        <tt>bool</tt>, <tt>char</tt> und <tt>std::string</tt> aus. Welche funktionieren und welche nicht?\n",
    "    </div>\n",
    "</div>"
   ]
  },
  {
   "cell_type": "code",
   "execution_count": null,
   "metadata": {},
   "outputs": [],
   "source": []
  },
  {
   "cell_type": "markdown",
   "metadata": {},
   "source": [
    "## Ausdrücke\n",
    "\n",
    "Bislang haben wir Variablen immer nur **konstante Werte** zugewiesen. Man kann die neuen Werte aber auch über **Ausdrücke** berechnen."
   ]
  },
  {
   "cell_type": "code",
   "execution_count": null,
   "metadata": {},
   "outputs": [],
   "source": [
    "int a = 13;\n",
    "int b = 27;\n",
    "\n",
    "a = b + 15;      // Welchen Wert hat a jetzt?\n",
    "\n",
    "std::cout << a;"
   ]
  },
  {
   "cell_type": "markdown",
   "metadata": {},
   "source": [
    "Wie man sieht wurde der Wert von `a` verändert. Dazu wurde der aktuelle Wert von `b` benutzt.\n",
    "\n",
    "Für den Ausdruck auf der **rechten Seite** der Zuweisung kann man die Operationen verwenden, die bereits in der Lesson [Datentypen](/user-redirect/algoviz/lessons/02_Grundlagen/01_Datentypen.ipynb) vorgestellt wurden."
   ]
  },
  {
   "cell_type": "code",
   "execution_count": null,
   "metadata": {},
   "outputs": [],
   "source": [
    "a = ( ( b + 3 ) + 3 ) / 2 ;"
   ]
  },
  {
   "cell_type": "markdown",
   "metadata": {},
   "source": [
    "<div class=\"slideshow /02_Grundlagen/02_VariablenBeispiel/slides.json\">Ein kleines Beispiel</div>"
   ]
  },
  {
   "cell_type": "markdown",
   "metadata": {},
   "source": [
    "<div class=\"task\">\n",
    "    <h3>Aufgabe</h3>\n",
    "    <div>\n",
    "        <p>\n",
    "            Schreiben Sie das in der ersten Slideshow vorgestellte Programm zur Eingabe von zwei Zahlen,\n",
    "            der Berechnung ihrer Summe und der Ausgabe. Verwenden Sie dazu die Informationen aus der\n",
    "            Lesson <a class=\"followup\" href=\"/user-redirect/algoviz/lessons/02_Grundlagen/06_EinUndAusgabe.ipynb\">Ein- und Ausgabe</a>.\n",
    "        </p>\n",
    "    </div>\n",
    "</div>"
   ]
  },
  {
   "cell_type": "markdown",
   "metadata": {},
   "source": []
  },
  {
   "cell_type": "markdown",
   "metadata": {},
   "source": [
    "### Informatische und mathematische Variablen\n",
    "\n",
    "Und damit sind wir beim Unterschied zwischen mathematischen und informatischen Variablen.\n",
    "\n",
    "Legen wir dafür eine Variable an:"
   ]
  },
  {
   "cell_type": "code",
   "execution_count": null,
   "metadata": {},
   "outputs": [],
   "source": [
    "int x = 10;"
   ]
  },
  {
   "cell_type": "markdown",
   "metadata": {},
   "source": [
    "Diese Gleichung hat sowohl in der Mathematik als auch in der Informatik ungefähr die gleiche Bedeutung. Die Variable `x` steht für den Wert 10.\n",
    "\n",
    "Aber die folgende *Gleichung* hat völlig unterschiedliche Bedeutungen:"
   ]
  },
  {
   "cell_type": "code",
   "execution_count": null,
   "metadata": {},
   "outputs": [],
   "source": [
    "x = x + 1;"
   ]
  },
  {
   "cell_type": "markdown",
   "metadata": {},
   "source": [
    "In der Mathematik ist dies eine Gleichung, die angibt, dass der Wert von `x` gleich dem von `x+1` ist. Gesucht wären also alle möglichen Werte von `x`, die diese Bedingung erfüllen. Das wären keine!\n",
    "\n",
    "In der Informatik ist dies aber eine Anweisung. Dabei wird als erstes die rechte Seite ausgewertet. Dabei wird der aktuelle Wert von `x` verwendet, also 10. Auf diesen Wert wird 1 addiert. Das Ergebnis 11 wird dann **anschließend** in der Variable `x` gespeichert. Dadurch geht der alte Wert verloren und die Variable hat anschließend den Wert 11."
   ]
  },
  {
   "cell_type": "markdown",
   "metadata": {},
   "source": [
    "### Noch ein kleiner aber feiner Unterschied\n",
    "\n",
    "Und es gibt noch einen Unterschied, den man dringend beachten muss. Stellen wir uns vor wir haben zwei Variablen `a` und `b`. Wir deklarieren beide und initialisieren Sie mit zwei Werten:"
   ]
  },
  {
   "cell_type": "code",
   "execution_count": 45,
   "metadata": {},
   "outputs": [],
   "source": [
    "int a = 10;\n",
    "int b = 13;"
   ]
  },
  {
   "cell_type": "markdown",
   "metadata": {},
   "source": [
    "Als nächstes ändern wir den Wert von `a` und verwenden den Wert von `b` dazu."
   ]
  },
  {
   "cell_type": "code",
   "execution_count": 48,
   "metadata": {},
   "outputs": [
    {
     "name": "stdout",
     "output_type": "stream",
     "text": [
      "26"
     ]
    }
   ],
   "source": [
    "a = 2*b;\n",
    "\n",
    "std::cout << a;"
   ]
  },
  {
   "cell_type": "markdown",
   "metadata": {},
   "source": [
    "Dadurch hat `a` jetzt den Wert 26. Aber was geschieht, wenn wir anschließend `b` verändern?"
   ]
  },
  {
   "cell_type": "code",
   "execution_count": 49,
   "metadata": {},
   "outputs": [],
   "source": [
    "b = 17;"
   ]
  },
  {
   "cell_type": "markdown",
   "metadata": {},
   "source": [
    "Welchen Wert hat jetzt `a`? Bevor wir es ausprobieren denken wir kurz darüber nach.\n",
    "\n",
    "Wenn wir mathematisch denken, war $a=2 \\cdot b$. D.h. ändern wir den Wert von $b$ ändert sich auch der Wert von $a$ und müsste jetzt 34 sein.\n",
    "\n",
    "Wenn wir aber an Paco denken erkennt man, dass er zwar den Wert von `b` ändert aber **nicht** den Wert von `a`, da die Zuweisung den Wert in diesem Kästchen nicht manipuliert.\n",
    "\n",
    "Und tatsächlich ändert sich `a` nicht:"
   ]
  },
  {
   "cell_type": "code",
   "execution_count": 50,
   "metadata": {},
   "outputs": [
    {
     "name": "stdout",
     "output_type": "stream",
     "text": [
      "26"
     ]
    }
   ],
   "source": [
    "std::cout << a;"
   ]
  },
  {
   "cell_type": "markdown",
   "metadata": {},
   "source": [
    "D.h. obwohl `a` über einen Ausdruck, der den Wert von `b` benutzte, ändert sich der Wert der Variable nicht, wenn `b` verändert wird. Der Ausdruck wird nur im Moment der Ausführung der entsprechenden Zuweisung berechnet. Dabei wird der Wert verwendet, der aktuell in `b` gespeichert ist. Wird er später geändert, hat dies keine Auswirkungen auf `a` (es sei denn wir führen eine entsprechende Anweisung aus)."
   ]
  },
  {
   "cell_type": "markdown",
   "metadata": {},
   "source": [
    "## Die Größe von Variablen\n",
    "\n",
    "Mit dem Schlüsselwort `sizeof` kann man auch die **Größe** des für die Variable reservierten Speicherbereichs in Byte erhalten. Die folgenden Zeilen zeigen, dass ein `int` 4 Byte groß ist."
   ]
  },
  {
   "cell_type": "code",
   "execution_count": null,
   "metadata": {},
   "outputs": [],
   "source": [
    "int ganzeZahl = 42;\n",
    "std::cout << sizeof(ganzeZahl);"
   ]
  },
  {
   "cell_type": "markdown",
   "metadata": {},
   "source": [
    "<div class=\"task\">\n",
    "    <h3>Aufgabe</h3>\n",
    "    <div>\n",
    "        <p>\n",
    "            Finden Sie die Größe für alle bereits eingeführten Typen heraus. Probieren Sie für Strings auch\n",
    "            verschiedene initiale Werte aus. (Den beobachteten Effekt werden wir später erklären!)\n",
    "        </p>\n",
    "    </div>\n",
    "</div>"
   ]
  },
  {
   "cell_type": "code",
   "execution_count": null,
   "metadata": {},
   "outputs": [],
   "source": [
    "// .. Platz zum Ausprobieren"
   ]
  },
  {
   "cell_type": "markdown",
   "metadata": {},
   "source": [
    "<div class=\"followup\">\n",
    "    <h3>Wo es weiter geht</h3>\n",
    "    <div>\n",
    "        <p>\n",
    "        Variablen spielen eine große Rolle bei der <a class=\"followup\" href=\"/user-redirect/algoviz/lessons/02_Grundlagen/06_EinUndAusgabe.ipynb\">Ein- und Ausgabe</a>. Und mit Ihnen lassen sich <a class=\"followup\" href=\"/user-redirect/algoviz/lessons/02_Grundlagen/10_AlgoViz.ipynb\">Veränderungen in Zeichnungen</a> steuern.\n",
    "        </p>\n",
    "        <p>\n",
    "        Die erste Kontrollstruktur mit der wir uns genauer beschäftigen sind <a class=\"perspective\" href=\"/user-redirect/algoviz/lessons/02_Grundlagen/11_Entscheidungen.ipynb\">\n",
    "                Entscheidungsanweisungen</a>\n",
    "        </p>\n",
    "    </div>\n",
    "</div>"
   ]
  }
 ],
 "metadata": {
  "kernelspec": {
   "display_name": "C++17",
   "language": "C++17",
   "name": "xcpp17"
  },
  "language_info": {
   "codemirror_mode": "text/x-c++src",
   "file_extension": ".cpp",
   "mimetype": "text/x-c++src",
   "name": "c++",
   "version": "17"
  }
 },
 "nbformat": 4,
 "nbformat_minor": 4
}
