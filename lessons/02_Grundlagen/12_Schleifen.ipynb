{
 "cells": [
  {
   "cell_type": "markdown",
   "metadata": {},
   "source": [
    "# Schleifen"
   ]
  },
  {
   "cell_type": "markdown",
   "metadata": {},
   "source": [
    "<div class=\"prereq\">\n",
    "    <h3>Was Sie kennen sollten</h3>\n",
    "    <div>\n",
    "    <a class=\"prereq\" href=\"/user-redirect/algoviz/lessons/02_Grundlagen/04_Booleans.ipynb\">Boolesche Ausdrücke</a> und\n",
    "    <a class=\"prereq\" href=\"/user-redirect/algoviz/lessons/02_Grundlagen/11_Entscheidungen.ipynb\">Entscheidungsanweisungen</a>.\n",
    "    </div>\n",
    "</div>    "
   ]
  },
  {
   "cell_type": "markdown",
   "metadata": {},
   "source": [
    "<div class=\"slideshow /02_Grundlagen/12_Schleifen/slides.json\">Schleifen</div>"
   ]
  },
  {
   "cell_type": "markdown",
   "metadata": {},
   "source": [
    "## Der Logarithmus\n",
    " \n",
    "Implementieren wir als erstes den Logarithmus, wie er in der Slideshow vorgestellt wurde."
   ]
  },
  {
   "cell_type": "code",
   "execution_count": null,
   "metadata": {},
   "outputs": [
    {
     "name": "stdout",
     "output_type": "stream",
     "text": [
      "Geben Sie x > 0 ein : "
     ]
    }
   ],
   "source": [
    "#include <iostream>\n",
    "\n",
    "int b;\n",
    "int x;\n",
    "int potenz = 1;\n",
    "int y = 0;\n",
    "\n",
    "std::cout << \"Geben Sie x > 0 ein : \";\n",
    "std::cin >> x;\n",
    "\n",
    "std::cout << \"Geben Sie die Basis b > 0 ein : \";\n",
    "std::cin >> b;\n",
    "\n",
    "while ( potenz < x ) {\n",
    "    potenz = potenz * b;\n",
    "    y = y+1;\n",
    "}\n",
    "\n",
    "std::cout << \"Der aufgerudete Logarithmus von \" << x << \" zur Basis \" << b << \" ist \" << y << std::endl;"
   ]
  },
  {
   "cell_type": "markdown",
   "metadata": {},
   "source": [
    "<div class=\"task\">\n",
    "    <h3>Aufgabe</h3>\n",
    "    <div>\n",
    "        Ergänzen Sie das Programm so, dass sichergestellt ist, dass der Nutzer für <tt>x</tt> und <tt>b</tt> Werte größer\n",
    "        als Null eingibt.\n",
    "    </div>\n",
    "</div>    "
   ]
  },
  {
   "cell_type": "markdown",
   "metadata": {},
   "source": [
    "## Das Heron-Verfahren\n",
    "\n",
    "Als nächstes wollen wir einen Algorithmus zur **Approximation**, d.h. näherungsweise Berechnung der Quadratwurzel $\\sqrt{a}$ einer positiven rellen Zahl $a$ entwickeln. Dabei verwenden wir das [Verfahren von Heron](https://de.wikipedia.org/wiki/Heron-Verfahren) implementieren.\n",
    "Es beruht auf der Idee, das man ein Rechteck der Fläche $a$ schrittweise immer \"quadratischer\" macht. Denn ein Quadrat der Fläche $a$ hätte die Kantenlänge $\\sqrt{a}$.\n",
    "\n",
    "Gehen wir mal davon aus, wir hätten ein beliebiges Rechteck mit den Kantenlängen $w$ und $h$ und $a = w\\cdot h$.\n",
    "Wenn sich $w$ und $h$ unterscheiden, können wir ihren **Mittelwert** $w' = \\frac{w+h}{2}$ berechnen. Der ist etwas größer als die kleinere Kantenlänge und etwas größer als die kleinere. Wählen wir als zweite Kantenlänge $h' = \\frac{a}{w'}$ erhalten wir ein neues Rechteck, das \"etwas quadratischer\" ist als das vorher.\n",
    "\n",
    "Also machen wir in jedem Schritt das folgende:\n",
    "\n",
    "$$ w = \\frac{w+h}{2} \\text{ und anschließend } h = \\frac{a}{w}$$\n",
    "\n",
    "Das wiederholt man, bis  $w$ und $h$ gleich sind. Damit ist das Programm im Grunde klar.\n",
    "In der Implementierung ergänzen wir ihn um die grafische Darstellung des Rechtecks."
   ]
  },
  {
   "cell_type": "code",
   "execution_count": null,
   "metadata": {
    "scrolled": true
   },
   "outputs": [
    {
     "name": "stdout",
     "output_type": "stream",
     "text": [
      "Geben Sie a>0 ein : 2\n"
     ]
    }
   ],
   "source": [
    "#include <iostream>\n",
    "#include <algoviz/SVG.hpp>\n",
    "\n",
    "double w;\n",
    "double h;\n",
    "double a;\n",
    "\n",
    "std::cout << \"Geben Sie a>0 ein : \";\n",
    "std::cin >> a;\n",
    "\n",
    "// Das anfängliche Rechteck\n",
    "w = a;\n",
    "h = 1.0;\n",
    "\n",
    "// Bereite die Darstellung vor\n",
    "AlgoViz::show();\n",
    "AlgoViz::clear();\n",
    "SVG zeichnung = SVG(400,400);\n",
    "\n",
    "// Das ist unser Rechteck\n",
    "Rect rect = Rect(0,0,w*100,h*100,&zeichnung); // Wir machen die Seiten länger (nur a <= 4 sinnvoll)\n",
    "\n",
    "\n",
    "while ( w != h ) {          // Solange w und h unterscheidlich sind\n",
    "    w = (w+h)/2.0;          // Berechne die neuen Kantenlängen\n",
    "    h = a/w;\n",
    "    rect.setWidth(w*100);   // Passe das Rechteck an.\n",
    "    rect.setHeight(h*100);\n",
    "    AlgoViz::sleep(2000);   // Warte, damit wir etwas sehen\n",
    "}\n",
    "\n",
    "std::cout << \"Die Wurzel aus \" << a << \" ist \" << w << std::endl;"
   ]
  },
  {
   "cell_type": "markdown",
   "metadata": {},
   "source": [
    "<div class=\"task\">\n",
    "    <h3>Aufgabe</h3>\n",
    "    <div>\n",
    "        <p>\n",
    "            Ergänzen Sie das Programm so, dass der Nutzer für a nur Zahlen echt größer 0 eingeben kann.\n",
    "        </p>\n",
    "    </div>\n",
    "</div>"
   ]
  },
  {
   "cell_type": "markdown",
   "metadata": {},
   "source": [
    "Auch wenn das Programm fertig zu sein scheint, hat es ein gravierendes Problem, wie Sie vielleicht schon bemerkt haben."
   ]
  },
  {
   "cell_type": "markdown",
   "metadata": {},
   "source": [
    "<div class=\"task\">\n",
    "    <h3>Aufgabe</h3>\n",
    "    <div>\n",
    "        <p>\n",
    "        Probieren Sie verschiedene Werte aus. Fällt Ihnen was auf? (probieren sie z.B. 2 oder 3)\n",
    "        </p>\n",
    "    </div>\n",
    "</div>"
   ]
  },
  {
   "cell_type": "markdown",
   "metadata": {},
   "source": [
    "In vielen Fällen läuft der Algorithmus sehr lange. Unter Umständen hört er gar nicht auf. Versuchen wir herauszufinden woran das liegt."
   ]
  },
  {
   "cell_type": "markdown",
   "metadata": {},
   "source": [
    "<div class=\"task\">\n",
    "    <h3>Aufgabe</h3>\n",
    "    <div>\n",
    "        <p>\n",
    "Ergänzen Sie das Programm so, dass es in jeder Runde die Werte von w und h ausgibt. Probieren Sie es anschließedd wieder mit a=3 aus.\n",
    "        </p>\n",
    "    </div>\n",
    "</div>"
   ]
  },
  {
   "cell_type": "markdown",
   "metadata": {},
   "source": [
    "Scheinbar sind w und h sehr schnell gleich. Trotzdem beendet sich die Schleife nicht.\n",
    "\n",
    "Schaut man genauer hinr, stellt man fest, dass w und h tatsächlich unterschiedlich sind. Die scheinbare Gleichheit ergibt sich nur aus der Tatsache, dass nur eine begrenzte Anzahl von Stellen ausgegeben wird. Erhöht man diese Zahl, sieht man die Ungleichheit. Dazu nutzen wir die Anweisung `std::setprecision(17)` (siehe [Typen für Dezimalzahlen](/user-redirect/algoviz/lessons/02_Grundlagen/07_Floats.ipynb)).\n"
   ]
  },
  {
   "cell_type": "markdown",
   "metadata": {},
   "source": [
    "<div class=\"task\">\n",
    "    <h3>Aufgabe</h3>\n",
    "    <div>\n",
    "        <p>\n",
    "            Erhöhen Sie die Präzision der Ausgabe auf 17 Stellen, indem Sie die Ausgabe entsprechend ergänzen:\n",
    "            <br/>\n",
    "            <center>\n",
    "            <tt>\n",
    "                 std::cout << std::setprecision(17) << ...\n",
    "            </tt>\n",
    "            </center>\n",
    "        <br/>\n",
    "        (siehe auch <a class=\"prereq\" href=\"/user-redirect/algoviz/lessons/02_Grundlagen/07_Floats.ipynb\">Typen für Dezimalzahlen</a>).\n",
    "        </p>\n",
    "    </div>\n",
    "</div>"
   ]
  },
  {
   "cell_type": "markdown",
   "metadata": {},
   "source": [
    "Wie sie sehen, sind die Werte nicht gleich, sondern unterscheiden sich in der 16. Stelle hinter dem Komma. Aber durch die Rechengenauigkeit, verändern sich die Werte von w und h auch nicht mehr. Dadurch endet die Schleife nie!\n",
    "\n",
    "Um das Problem zu lösen, müssen wir die <b>Laufbedingung</b> der Schleife verändern.\n",
    "\n",
    "Durch die Ungenauigkeit der Zahldarstellung mit <tt>double</tt> wird die Gleichheit nicht erreicht. Stattdessen müüsen wir aufhören, wenn sich w und h nicht mehr sehr unterscheiden. D.h. wir geben eine **Genauigkeit** $\\varepsilon > 0$ für unser Ergebnis vor. D.h. wir beenden, die Schleife, wenn sich x und y um höchstens $\\varepsilon$ unterscheiden."
   ]
  },
  {
   "cell_type": "markdown",
   "metadata": {},
   "source": [
    "<div class=\"task\">\n",
    "    <h3>Aufgabe</h3>\n",
    "    <div>\n",
    "        <p>\n",
    "            Ändern Sie das Programm so, dass die Wurzel bis auf eine Genauigkeit von 0.000001 angenähert wird.\n",
    "        </p>\n",
    "    </div>\n",
    "</div>"
   ]
  },
  {
   "cell_type": "markdown",
   "metadata": {},
   "source": [
    "<div class=\"followup\">\n",
    "    <h3>Wo es weitergeht</h3>\n",
    "    <div>\n",
    "        <p>\n",
    "        Die <a class=\"followup\" href=\"/user-redirect/algoviz/lessons/02_Grundlagen/20_UmwandlungBinaer.ipynb\">Umwandlung von Dezimal in Binärzahlen</a> ist ein weiteres Beispiel für einen Algorithmus, der eine While-Schleife verwendet.\n",
    "        </p>\n",
    "        <p>\n",
    "        Ein anderes Beispiel mit Verwendung der <a class=\"followup\" href=\"/user-redirect/algoviz/lessons/02_Grundlagen/18_Tastatur.ipynb\">Tastatur</a> gibt es auch.\n",
    "        </p><p>        \n",
    "        Ansonsten geht es bei den <a class=\"followup\" href=\"/user-redirect/algoviz/lessons/02_Grundlagen/13_Zaehlschleifen.ipynb\">Zählschleifen</a> weiter.\n",
    "        </p>\n",
    "    </div>\n",
    "</div>"
   ]
  }
 ],
 "metadata": {
  "kernelspec": {
   "display_name": "C++17",
   "language": "C++17",
   "name": "xcpp17"
  },
  "language_info": {
   "codemirror_mode": "text/x-c++src",
   "file_extension": ".cpp",
   "mimetype": "text/x-c++src",
   "name": "c++",
   "version": "17"
  }
 },
 "nbformat": 4,
 "nbformat_minor": 4
}
