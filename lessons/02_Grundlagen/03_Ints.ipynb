{
 "cells": [
  {
   "cell_type": "markdown",
   "metadata": {},
   "source": [
    "# Integer-Typen"
   ]
  },
  {
   "cell_type": "markdown",
   "metadata": {},
   "source": [
    "<div class=\"prereq\">\n",
    "    <h3>Was Sie kennen sollten</h3>\n",
    "    <div>\n",
    "        <a class=\"prereq\" href=\"/user-redirect/algoviz/lessons/02_Grundlagen/00_Binaerzahlen.ipynb\">Bits, Bytes und Binärzahlen</a>\n",
    "        und <a class=\"prereq\" href=\"/user-redirect/algoviz/lessons/02_Grundlagen/01_Datentypen.ipynb\">Datentypen</a>\n",
    "    </div>\n",
    "</div>"
   ]
  },
  {
   "cell_type": "markdown",
   "metadata": {},
   "source": [
    "<div class=\"slideshow /02_Grundlagen/03_Ints/slides.json\">Int-Typen</div>"
   ]
  },
  {
   "cell_type": "code",
   "execution_count": 13,
   "metadata": {},
   "outputs": [],
   "source": [
    "#include <iostream> // Wir brauchen die Ausgabe"
   ]
  },
  {
   "cell_type": "markdown",
   "metadata": {},
   "source": [
    "### Integer-Typen in C++\n",
    "\n",
    "Wie schon in der Slideshow gesehen, gibt es eine Reihe von ganzzahligen Typen, die sich nur in der Anzahl der verwendeten Bits unterscheiden. In den meisten Fällen wird uns der Type `int` reichen. Aber fast alles, was wir im folgenden betrachten trifft auf alle Typen zu."
   ]
  },
  {
   "cell_type": "markdown",
   "metadata": {},
   "source": [
    "## Rechenoperationen und Ausdrücke\n",
    "\n",
    "Für die Integer-Datentypen stehen die vier Grundrechenarten zur Verfügung. Die vier **Operatoren** (aka Rechenzeichen) sind `+`, `-`, `*` und `/`. Die ersten drei funktionieren, wie man es erwartet.\n",
    "\n",
    "Die Division zwischen den Integer-Typen ist stets ganzzahlig (wie wir schon bei der allgemeinen Beschreibung der <a class=\"prereq\" href=\"/user-redirect/algoviz/lessons/02_Grundlagen/01_Datentypen.ipynb\">Datentypen</a> gesehen haben). Als Konsequenz wird das Ergebnis einer Division immer auf die nächst kleinere ganze Zahl abgerundet.\n"
   ]
  },
  {
   "cell_type": "code",
   "execution_count": 4,
   "metadata": {},
   "outputs": [
    {
     "data": {
      "text/plain": [
       "8"
      ]
     },
     "execution_count": 4,
     "metadata": {},
     "output_type": "execute_result"
    }
   ],
   "source": [
    "42 / 5"
   ]
  },
  {
   "cell_type": "markdown",
   "metadata": {},
   "source": [
    "Als Ergänzung zur Division gibt es den **Divisionsrest** oder **Modulo**. Er wird durch den **Operator** `%` oder kurz \"mod\" berechnet."
   ]
  },
  {
   "cell_type": "code",
   "execution_count": null,
   "metadata": {},
   "outputs": [],
   "source": [
    "42 % 5"
   ]
  },
  {
   "cell_type": "markdown",
   "metadata": {},
   "source": [
    "Auch Klammern kann man verwenden. Allerdings sind nur die runden Klammern `(` und `)` erlaubt. Die Berechnung eines solchen Ausdrucks erfolgt nach den üblichen Regeln: **Klammer- vor Punkt- vor Strichrechnung**."
   ]
  },
  {
   "cell_type": "code",
   "execution_count": 6,
   "metadata": {},
   "outputs": [
    {
     "data": {
      "text/plain": [
       "34"
      ]
     },
     "execution_count": 6,
     "metadata": {},
     "output_type": "execute_result"
    }
   ],
   "source": [
    "9 + 4 + 7 * 3"
   ]
  },
  {
   "cell_type": "code",
   "execution_count": 5,
   "metadata": {},
   "outputs": [
    {
     "data": {
      "text/plain": [
       "42"
      ]
     },
     "execution_count": 5,
     "metadata": {},
     "output_type": "execute_result"
    }
   ],
   "source": [
    " 9 + (4 + 7) * 3"
   ]
  },
  {
   "cell_type": "code",
   "execution_count": 7,
   "metadata": {},
   "outputs": [
    {
     "data": {
      "text/plain": [
       "60"
      ]
     },
     "execution_count": 7,
     "metadata": {},
     "output_type": "execute_result"
    }
   ],
   "source": [
    "( 9 + 4 + 7 ) * 3"
   ]
  },
  {
   "cell_type": "markdown",
   "metadata": {},
   "source": [
    "Man kann in den Ausdrücken auch Variablen verwenden. Diese werden im Augenblick der Berechnung durch ihren aktuellen Wert ersetzt."
   ]
  },
  {
   "cell_type": "code",
   "execution_count": 8,
   "metadata": {},
   "outputs": [],
   "source": [
    "int x = 10;"
   ]
  },
  {
   "cell_type": "code",
   "execution_count": 10,
   "metadata": {},
   "outputs": [
    {
     "data": {
      "text/plain": [
       "42"
      ]
     },
     "execution_count": 10,
     "metadata": {},
     "output_type": "execute_result"
    }
   ],
   "source": [
    "4 * x + 2"
   ]
  },
  {
   "cell_type": "markdown",
   "metadata": {},
   "source": [
    "## Bereichsüberschreitung\n",
    "\n",
    "Was passiert, wenn wir einen Wert nehmen, der am Rand des möglichen Zahlbereichs für den entsprechenden Typ liegen? Probieren wir es aus.\n",
    "\n",
    "Ein `int` hat eine Größe von 4 Byte und sein maximaler Wert ist 2147484647."
   ]
  },
  {
   "cell_type": "code",
   "execution_count": 21,
   "metadata": {},
   "outputs": [
    {
     "name": "stdout",
     "output_type": "stream",
     "text": [
      "2147483647"
     ]
    }
   ],
   "source": [
    "int max = 2147483647;\n",
    "std::cout << max;"
   ]
  },
  {
   "cell_type": "markdown",
   "metadata": {},
   "source": [
    "Wie man sieht geht das gut. Jetzt erhöhen wir den Wert um eins und sehen uns das Ergebnis an."
   ]
  },
  {
   "cell_type": "code",
   "execution_count": 22,
   "metadata": {},
   "outputs": [
    {
     "name": "stdout",
     "output_type": "stream",
     "text": [
      "-2147483648"
     ]
    }
   ],
   "source": [
    "max = max+1;\n",
    "std::cout << max;"
   ]
  },
  {
   "cell_type": "markdown",
   "metadata": {},
   "source": [
    "Ups! Da ist wohl was schief gegangen. Was genau wird in der Lesson [Rechen in beschränkten Zahlräumen](/user-redirect/algoviz/lessons/02_Grundlagen/05_RechnenImKreis.ipynb) beschrieben.\n",
    "\n",
    "Wir können es aber auch wieder rückgängig machen:"
   ]
  },
  {
   "cell_type": "code",
   "execution_count": 23,
   "metadata": {},
   "outputs": [
    {
     "name": "stdout",
     "output_type": "stream",
     "text": [
      "2147483647"
     ]
    }
   ],
   "source": [
    "max = max-1;\n",
    "std::cout << max;"
   ]
  },
  {
   "cell_type": "markdown",
   "metadata": {},
   "source": [
    "<div class=\"followup\">\n",
    "    <h3>Wo es weiter geht</h3>\n",
    "    <div>\n",
    "        <ul>\n",
    "            <li>Da jeder Integer-Type nur eine maximale Länge hat, muss man <a class=\"followup\" href=\"/user-redirect/algoviz/lessons/02_Grundlagen/05_RechnenImKreis.ipynb\">in beschränkten Zahlenräumen rechnen</a>.</li>\n",
    "        </ul>\n",
    "        Diese Zusätze sind möglich:\n",
    "        <ul>\n",
    "            <li>Um mehr über die Codierung von Dezimalzahlen zu erfahren startet man am Besten\n",
    "                mit den <a class=\"followup\" href=\"/user-redirect/algoviz/lessons/02_Grundlagen/07_Floats.ipynb\">Dezimalzahlen</a>.</li>            \n",
    "        </ul>\n",
    "    </div>\n",
    "</div>"
   ]
  }
 ],
 "metadata": {
  "kernelspec": {
   "display_name": "C++17",
   "language": "C++17",
   "name": "xcpp17"
  },
  "language_info": {
   "codemirror_mode": "text/x-c++src",
   "file_extension": ".cpp",
   "mimetype": "text/x-c++src",
   "name": "c++",
   "version": "17"
  }
 },
 "nbformat": 4,
 "nbformat_minor": 4
}
