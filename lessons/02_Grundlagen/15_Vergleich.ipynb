{
 "cells": [
  {
   "cell_type": "markdown",
   "metadata": {},
   "source": [
    "# Einschub: Vergleiche und Zuweisungen"
   ]
  },
  {
   "cell_type": "markdown",
   "metadata": {},
   "source": [
    "<div class=\"prereq\">\n",
    "    <h3>Was Sie kennen sollten</h3>\n",
    "    <div>\n",
    "        <a class=\"prereq\" href=\"/user-redirect/algoviz/lessons/02_Grundlagen/11_Entscheidungen.ipynb\">Entscheidungen</a>.\n",
    "    </div>\n",
    "</div>"
   ]
  },
  {
   "cell_type": "markdown",
   "metadata": {},
   "source": [
    "In dieser Lesson wollen wir noch einmal kurz den Fokus auf den Unterschied zwischen **Vergleich** und **Zuweisung** legen. Dazu deklarieren wir erstmal zwei Variablen an. Außerdem laden wir die Bibliothek `iostream`."
   ]
  },
  {
   "cell_type": "code",
   "execution_count": 3,
   "metadata": {},
   "outputs": [],
   "source": [
    "#include <iostream>\n",
    "\n",
    "int a = 13;\n",
    "int b = 17;"
   ]
  },
  {
   "cell_type": "markdown",
   "metadata": {},
   "source": [
    "Der **Vergleich** wird mit zwei Gleichheitszeichen geschrieben. Das Ergebnis ist ein Boolean, das angibt, ob die linke und die rechte Seite gleich sind. Wir machen das mal ohne \"Drumrum\". Die resultierende \"Bemerkung\" können wir ignorieren. Entscheidend ist die Ausgabe. Sie ist der Wert, den der Vergleich ergibt."
   ]
  },
  {
   "cell_type": "code",
   "execution_count": 4,
   "metadata": {},
   "outputs": [
    {
     "name": "stderr",
     "output_type": "stream",
     "text": [
      "\u001b[1minput_line_11:2:4: \u001b[0m\u001b[0;1;30mnote: \u001b[0muse '=' to turn this equality comparison into an assignment\u001b[0m\n",
      " a == b\n",
      "\u001b[0;1;32m   ^~\n",
      "\u001b[0m\u001b[0;32m   =\n",
      "\u001b[0m"
     ]
    },
    {
     "data": {
      "text/plain": [
       "false"
      ]
     },
     "execution_count": 4,
     "metadata": {},
     "output_type": "execute_result"
    }
   ],
   "source": [
    "a == b"
   ]
  },
  {
   "cell_type": "markdown",
   "metadata": {},
   "source": [
    "Wie man sieht ist das Ergebnis `false`, d.h. die Werte in `a` und `b` sind somit verschieden. Und die Werte wurden auch nicht verändert.\n",
    "\n",
    "Als nächstes nutzen wir einen weiteren Unterschied zur **Zuweisung** aus. Wir können auch auf der linken Seite einen Ausdruck haben:"
   ]
  },
  {
   "cell_type": "code",
   "execution_count": 5,
   "metadata": {},
   "outputs": [
    {
     "data": {
      "text/plain": [
       "true"
      ]
     },
     "execution_count": 5,
     "metadata": {},
     "output_type": "execute_result"
    }
   ],
   "source": [
    "a+4 == b"
   ]
  },
  {
   "cell_type": "markdown",
   "metadata": {},
   "source": [
    "Da 13+4 = 17 ist, ist das Ergebnis des Vergleiches `true`.\n",
    "\n",
    "Lassen wir jetzt mal eines der Gleichheitszeichen weg:"
   ]
  },
  {
   "cell_type": "code",
   "execution_count": 6,
   "metadata": {},
   "outputs": [
    {
     "name": "stderr",
     "output_type": "stream",
     "text": [
      "\u001b[1minput_line_17:2:6: \u001b[0m\u001b[0;1;31merror: \u001b[0m\u001b[1mexpression is not assignable\u001b[0m\n",
      " a+4 = b\n",
      "\u001b[0;1;32m ~~~ ^\n",
      "\u001b[0m"
     ]
    },
    {
     "ename": "Interpreter Error",
     "evalue": "",
     "output_type": "error",
     "traceback": [
      "Interpreter Error: "
     ]
    }
   ],
   "source": [
    "a+4 = b"
   ]
  },
  {
   "cell_type": "markdown",
   "metadata": {},
   "source": [
    "Diesmal erhalten wir einen echten Fehler, da auf der linken Seite einer Zuweisung kein Ausdruck stehen darf.\n",
    "\n",
    "Also machen wir es andersherum:"
   ]
  },
  {
   "cell_type": "code",
   "execution_count": 7,
   "metadata": {},
   "outputs": [
    {
     "data": {
      "text/plain": [
       "17"
      ]
     },
     "execution_count": 7,
     "metadata": {},
     "output_type": "execute_result"
    }
   ],
   "source": [
    "b = a+4"
   ]
  },
  {
   "cell_type": "markdown",
   "metadata": {},
   "source": [
    "Jetzt ist das Ergebnis eine Zahl die Summe aus `a` und 4 und `b` wird verändert."
   ]
  },
  {
   "cell_type": "markdown",
   "metadata": {},
   "source": [
    "<div class=\"prereq\">\n",
    "    <h3>Hinweis!</h3>\n",
    "    <div>\n",
    "          Achten Sie in Programmen immer darauf, ob Sie eine Zuweisung (<tt>=</tt>) oder einen Vergleich (<tt>==</tt>)\n",
    "          benötigen! Häufig führt eine Verwechslung zu keinem Syntaxfehler, aber zu einem sehr seltsamen Verhalten\n",
    "          des Programms.\n",
    "    </div>\n",
    "</div>"
   ]
  },
  {
   "cell_type": "markdown",
   "metadata": {},
   "source": [
    "<div class=\"followup\">\n",
    "    <h3>Weiter geht's</h3>\n",
    "    <div>\n",
    "        Je nachdem von wo Sie gekommen sind sollten Sie entweder zurück zu <a class=\"prereq\" href=\"/user-redirect/algoviz/lessons/02_Grundlagen/11_Entscheidungen.ipynb\">den Entscheidungen</a> oder mit den <a class=\"followup\" href=\"/user-redirect/algoviz/lessons/02_Grundlagen/04_Booleans.ipynb\">Booleans</a> weitermachen.\n",
    "    </div>\n",
    "</div>"
   ]
  }
 ],
 "metadata": {
  "kernelspec": {
   "display_name": "C++17",
   "language": "C++17",
   "name": "xcpp17"
  },
  "language_info": {
   "codemirror_mode": "text/x-c++src",
   "file_extension": ".cpp",
   "mimetype": "text/x-c++src",
   "name": "c++",
   "version": "17"
  }
 },
 "nbformat": 4,
 "nbformat_minor": 4
}
