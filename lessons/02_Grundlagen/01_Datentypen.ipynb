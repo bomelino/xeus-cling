{
 "cells": [
  {
   "cell_type": "markdown",
   "metadata": {},
   "source": [
    "# Datentypen"
   ]
  },
  {
   "cell_type": "markdown",
   "metadata": {},
   "source": [
    "<div class=\"slideshow 02_Grundlagen/01_Datentypen/slides.json\">Datentypen</div>"
   ]
  },
  {
   "cell_type": "markdown",
   "metadata": {},
   "source": [
    "## Zahltypen\n",
    "\n",
    "In vielen Programmen werden Daten verwendet, die sich nicht verändern, sogenannte **Konstanten**. Auch diese haben einen **Typ**, der unmittelbare Auswirkungen auf bestimmte Operationen hat. Das kann man am Besten an den beiden Zahltypen `int` und `double` zeigen. Im folgenden wollen wir die verschiedenen Typen anhand ihrer **Konstanten** erkunden."
   ]
  },
  {
   "cell_type": "markdown",
   "metadata": {},
   "source": [
    "### Integer\n",
    "\n",
    "Ein `int` oder **Integer** ist eine **ganze Zahl**. Sie wird, wie üblich, als Folge von Ziffern mit einem vorangestellten Vorzeichen notiert."
   ]
  },
  {
   "cell_type": "code",
   "execution_count": null,
   "metadata": {},
   "outputs": [],
   "source": [
    "1234"
   ]
  },
  {
   "cell_type": "code",
   "execution_count": null,
   "metadata": {},
   "outputs": [],
   "source": [
    "-42"
   ]
  },
  {
   "cell_type": "markdown",
   "metadata": {},
   "source": [
    "Zum Rechnen mit Integer stehen die vier Grundrechenarten zur Verfügung. Dabei wird `*` als Multiplikation und `/` als Division verwendet. Letztere ist dabei die **ganzzahlige Division**, wie am am Folgenden Beispiel sieht."
   ]
  },
  {
   "cell_type": "code",
   "execution_count": null,
   "metadata": {},
   "outputs": [],
   "source": [
    "42 / 5"
   ]
  },
  {
   "cell_type": "markdown",
   "metadata": {},
   "source": [
    "5 passt 8 mal in die 42, also ist `42/5 = 8`."
   ]
  },
  {
   "cell_type": "markdown",
   "metadata": {},
   "source": [
    "<div class=\"task\"><h3>Anmerkung</h3><div>Wir können in den Jupyter Notebooks einfach Ausdrücke eingeben und ausführen lassen. Das ist manchmal sehr praktisch, um schnell Rechnungen durchzuführen. Dann brauchen wir auch kein Semikolon am Ende!</div></div>"
   ]
  },
  {
   "cell_type": "markdown",
   "metadata": {},
   "source": [
    "Zusätzlich gibt es den **Divisionsrest** oder **Modulo**, der mit dem Zeichen `%` berechnet wird."
   ]
  },
  {
   "cell_type": "code",
   "execution_count": null,
   "metadata": {},
   "outputs": [],
   "source": [
    "42 % 5"
   ]
  },
  {
   "cell_type": "markdown",
   "metadata": {},
   "source": [
    "8 * 5 ist 40. Also bleibt bei der ganzzahligen Division ein Rest von 2."
   ]
  },
  {
   "cell_type": "markdown",
   "metadata": {},
   "source": [
    "<div class=\"followup\">\n",
    "    <h3>Mehr dazu...</h3>\n",
    "    <div>\n",
    "         ... in der Lesson\n",
    "        <a class=\"followup\" href=\"/user-redirect/algoviz/lessons/02_Grundlagen/03_Ints.ipynb\">Ineger-Datentypen</a>.\n",
    "    </div>\n",
    "</div>"
   ]
  },
  {
   "cell_type": "markdown",
   "metadata": {},
   "source": [
    "### Ausdrücke\n",
    "\n",
    "Natürlich kann man Rechenoperationen auch miteinader zu **(arithmetischen) Ausdrücken** verbinden. Dabei kann man auf die übliche Art **runde Klammern** `( )` verwenden. Bei der Auswertung gelten die üblichen Rechenregeln:\n",
    "\n",
    "> Klammer vor Punkt- vor Strichrechnung"
   ]
  },
  {
   "cell_type": "code",
   "execution_count": null,
   "metadata": {},
   "outputs": [],
   "source": [
    "(3+4)*5"
   ]
  },
  {
   "cell_type": "code",
   "execution_count": null,
   "metadata": {},
   "outputs": [],
   "source": [
    "3+4*5"
   ]
  },
  {
   "cell_type": "markdown",
   "metadata": {},
   "source": [
    "Man darf übrigens auch nicht durch 0 teilen:"
   ]
  },
  {
   "cell_type": "code",
   "execution_count": null,
   "metadata": {},
   "outputs": [],
   "source": [
    "42/0"
   ]
  },
  {
   "cell_type": "markdown",
   "metadata": {},
   "source": [
    "### Dezimalzahlen\n",
    "\n",
    "Der Type `double` stellt **Dezimalzahlen** oder reelle Zahlen dar. Als Konstante schreibt man sie ebenfalls als Ziffernfolge. Allerdings enthalten Sie an einer Stelle einen **Dezimalpunkt**:"
   ]
  },
  {
   "cell_type": "code",
   "execution_count": null,
   "metadata": {},
   "outputs": [],
   "source": [
    "12.34"
   ]
  },
  {
   "cell_type": "code",
   "execution_count": null,
   "metadata": {},
   "outputs": [],
   "source": [
    ".25"
   ]
  },
  {
   "cell_type": "code",
   "execution_count": null,
   "metadata": {},
   "outputs": [],
   "source": [
    "42."
   ]
  },
  {
   "cell_type": "markdown",
   "metadata": {},
   "source": [
    "Auch für sie stehen die üblichen Grundrechenarten zur Verfügung. Diesmal ist `/` jedoch die Division von Dezimalzahlen."
   ]
  },
  {
   "cell_type": "code",
   "execution_count": null,
   "metadata": {},
   "outputs": [],
   "source": [
    "42.0/5.0"
   ]
  },
  {
   "cell_type": "markdown",
   "metadata": {},
   "source": [
    "Aber Modulo, d.h. der Divisionsrest, funktioniert nicht mit `double` Werten."
   ]
  },
  {
   "cell_type": "code",
   "execution_count": null,
   "metadata": {},
   "outputs": [],
   "source": [
    "42.0 % 5.0"
   ]
  },
  {
   "cell_type": "markdown",
   "metadata": {},
   "source": [
    "Bei der Division durch Null erhält man bei der Verwendung von `double`-Werten das Ergebnis `infinity` oder `inf`."
   ]
  },
  {
   "cell_type": "code",
   "execution_count": null,
   "metadata": {},
   "outputs": [],
   "source": [
    "42.0/0.0"
   ]
  },
  {
   "cell_type": "markdown",
   "metadata": {},
   "source": [
    "### Mischen von int und double \n",
    "\n",
    "Werden solche Konstanten in einem Programm verwendet, werden ihnen die entsprechenden Typen zugeordnet. Das hat spürbare Konsequenzen. So werden im folgenden Ausdruck sowohl Zähler als auch Nenner als `int` interpretiert. Dadurch wird auch die Division ganzzahlig ausgeführt und das Ergebnis ist 0."
   ]
  },
  {
   "cell_type": "code",
   "execution_count": null,
   "metadata": {},
   "outputs": [],
   "source": [
    "3/4"
   ]
  },
  {
   "cell_type": "markdown",
   "metadata": {},
   "source": [
    "Beim nächsten Ausdruck hingegen sind beide Zahlen `double`-Werte. D.h. es wird die Division von Dezimalzahlen verwendet und das Ergebnis ist 0.75."
   ]
  },
  {
   "cell_type": "code",
   "execution_count": null,
   "metadata": {},
   "outputs": [],
   "source": [
    "3.0/4.0"
   ]
  },
  {
   "cell_type": "markdown",
   "metadata": {},
   "source": [
    "Werden `int`und `double` Konstanten gemischt \"gewinnt\" `double`:"
   ]
  },
  {
   "cell_type": "code",
   "execution_count": null,
   "metadata": {},
   "outputs": [],
   "source": [
    "3/4.0"
   ]
  },
  {
   "cell_type": "code",
   "execution_count": null,
   "metadata": {},
   "outputs": [],
   "source": [
    "3.0/4"
   ]
  },
  {
   "cell_type": "markdown",
   "metadata": {},
   "source": [
    "Bei komplexeren Ausdrücken muss man allerdings aufpassen:"
   ]
  },
  {
   "cell_type": "code",
   "execution_count": null,
   "metadata": {},
   "outputs": [],
   "source": [
    "0.2*(3/4)"
   ]
  },
  {
   "cell_type": "markdown",
   "metadata": {},
   "source": [
    "In diesem Fall wurde erst die Klammer ausgewertet. Da beide Konstanten `int` Werte sind, wird ganzzahlig gerechnet und das Ergebnis ist 0. 0 mal 0.2 ist immer noch 0, unabhängig vom Typ.\n",
    "\n",
    "Der folgende Ausdruck ist mathematisch äquivalent, führt aber zu einem anderen Ergebnis."
   ]
  },
  {
   "cell_type": "code",
   "execution_count": null,
   "metadata": {},
   "outputs": [],
   "source": [
    "(0.2*3)/4"
   ]
  },
  {
   "cell_type": "markdown",
   "metadata": {},
   "source": [
    "Hier wird ebenfalls erst die Klammer ausgewertet und das Ergebnis ist ein `double`-Wert. Damit wird bei der Division auch mit Dezimalzahlen gerechnet. Es resultiert somit ein `double`."
   ]
  },
  {
   "cell_type": "markdown",
   "metadata": {},
   "source": [
    "<div class=\"task\">\n",
    "    <h3>Beobachtung und Aufgabe</h3>\n",
    "    <div>\n",
    "        <p>\n",
    "        Bei der Auswertung von arithmetischen Ausdrücken kommt es auf die Typen der verrechneten Werte und\n",
    "        die Reihenfolge der Auswertung an. Mathematisch scheinbar äquivalente Ausdrücke können durchaus zu\n",
    "        verschiedenen Ergebnissen führen.\n",
    "        </p>\n",
    "        <p>\n",
    "            Überlegen Sie sich, welche Werte bei den folgenden Ausdrücken resultieren werden. Probieren Sie\n",
    "            erst danach aus!\n",
    "            <ul>\n",
    "                <li><pre>(3.0*5/6)*0.1</pre></li>\n",
    "                <li><pre>(3.0*(5/6))*0.1</pre></li>\n",
    "                <li><pre>(3.0*5.0/6)*0.1</pre></li>\n",
    "                <li><pre>((3.0*5)/6)*0.1</pre></li>\n",
    "                <li><pre>((3*5)/6)*0.1</pre></li>\n",
    "            </ul>\n",
    "        </p>\n",
    "    </div>\n",
    "</div>"
   ]
  },
  {
   "cell_type": "code",
   "execution_count": null,
   "metadata": {},
   "outputs": [],
   "source": [
    "// Platz zum Ausprobieren"
   ]
  },
  {
   "cell_type": "markdown",
   "metadata": {},
   "source": [
    "## Booleans\n",
    "\n",
    "Der Datentyp `bool` speichert einen Booleschen Wahrheitswert oder **Boolean**. Er kann nur zwei Werte haben `true`oder `false` und entspricht dem Ergebnis von Bedingungen in Schleifen und Entscheidungsanweisungen. Dazu später mehr.\n",
    "\n",
    "Allerdings kann man die Konstanten `true` und `false` auch als `int` Werte verwenden. `true` entspricht dann 1 und `false` 0."
   ]
  },
  {
   "cell_type": "code",
   "execution_count": null,
   "metadata": {},
   "outputs": [],
   "source": [
    "true * 42"
   ]
  },
  {
   "cell_type": "code",
   "execution_count": null,
   "metadata": {},
   "outputs": [],
   "source": [
    "false * 42"
   ]
  },
  {
   "cell_type": "markdown",
   "metadata": {},
   "source": [
    "## Zeichen und Strings\n",
    "\n",
    "Ein einzelnes Zeichen ist vom Typ `char` (character). Es wird in **einfache Anführungszeichen** gesetzt."
   ]
  },
  {
   "cell_type": "code",
   "execution_count": null,
   "metadata": {},
   "outputs": [],
   "source": [
    "'a'"
   ]
  },
  {
   "cell_type": "code",
   "execution_count": null,
   "metadata": {},
   "outputs": [],
   "source": [
    "'7'"
   ]
  },
  {
   "cell_type": "code",
   "execution_count": null,
   "metadata": {},
   "outputs": [],
   "source": [
    "'?'"
   ]
  },
  {
   "cell_type": "markdown",
   "metadata": {},
   "source": [
    "Auch einen `char` kann man als Zahl interpretieren:"
   ]
  },
  {
   "cell_type": "code",
   "execution_count": null,
   "metadata": {},
   "outputs": [],
   "source": [
    "1 * 'a'"
   ]
  },
  {
   "cell_type": "code",
   "execution_count": null,
   "metadata": {},
   "outputs": [],
   "source": [
    "1 * '*'"
   ]
  },
  {
   "cell_type": "markdown",
   "metadata": {},
   "source": [
    "Wie man sieht hat `'a'` den Wert 97 und `'*'`den Wert 42. Dies entspricht den [ASCII-Werten](https://de.wikipedia.org/wiki/American_Standard_Code_for_Information_Interchange) der beiden Zeichen. Dabei wird jeder Zahl zwischen 0 und 255 ein festes Zeichen zugeordnet, z.B. die 98 ist `'b'`."
   ]
  },
  {
   "cell_type": "markdown",
   "metadata": {},
   "source": [
    "Ein **String** ist eine Zeichenkette, d.h. eine Sequenz von Zeichen. Er wird in **doppelte Anführungszeichen** gesetzt."
   ]
  },
  {
   "cell_type": "code",
   "execution_count": null,
   "metadata": {},
   "outputs": [],
   "source": [
    "\"Dies ist ein String\""
   ]
  },
  {
   "cell_type": "markdown",
   "metadata": {},
   "source": [
    "Setzt man mehrere Zeichen in **einfache Anführungszeichen** führt dies zu einem Fehler (die Zahl in der Ausgabe einfach mal ignorieren):"
   ]
  },
  {
   "cell_type": "code",
   "execution_count": null,
   "metadata": {},
   "outputs": [],
   "source": [
    "'Ein String ist kein Charachter'"
   ]
  },
  {
   "cell_type": "markdown",
   "metadata": {},
   "source": [
    "Im Gegensatz zu `char` kann man mit einem String nicht rechnen:"
   ]
  },
  {
   "cell_type": "code",
   "execution_count": null,
   "metadata": {},
   "outputs": [],
   "source": [
    "1 * \"Zweiundvierzig\""
   ]
  },
  {
   "cell_type": "markdown",
   "metadata": {},
   "source": [
    "### Strings und Unicode\n",
    "\n",
    "Man kann sogenannte [Unicode-Zeichen](https://en.wikipedia.org/wiki/Unicode) als String verwenden:"
   ]
  },
  {
   "cell_type": "code",
   "execution_count": null,
   "metadata": {},
   "outputs": [],
   "source": [
    "\"\\U0001f600\""
   ]
  },
  {
   "cell_type": "markdown",
   "metadata": {},
   "source": [
    "Unicode ist eine Erweiterung des ASCII Codes. Statt der 256 Zeichen hat man jedoch deutlich mehr zur Auswahl (abhängig von der sogenannten Codierung). Ein solches Unicode-Zeichen wird durch `\\U` eingeleitet. Es folgt eine 8 stellige [Hexadezimalzahl](https://de.wikipedia.org/wiki/Hexadezimalsystem), die das jeweilige Zeichen angibt."
   ]
  },
  {
   "cell_type": "code",
   "execution_count": null,
   "metadata": {},
   "outputs": [],
   "source": [
    "\"\\U0001f34d\""
   ]
  },
  {
   "cell_type": "markdown",
   "metadata": {},
   "source": [
    "<div class=\"task\">\n",
    "    <h3>Aufgabe</h3>\n",
    "    <div>\n",
    "        Finden Sie <a href=\"https://de.wikipedia.org/wiki/Liste_der_Unicodebl%C3%B6cke\">Unicode-Zeichen</a> für:\n",
    "        <ul>\n",
    "            <li>Die weiße Dame beim Schach</li>\n",
    "            <li>Das Hiragana Zeichen Ba</li>\n",
    "            <li>Einen spöttischen Katzensmiley</li>\n",
    "            <li>Einen Schneemann</li>\n",
    "        </ul>\n",
    "    </div>\n",
    "</div>"
   ]
  },
  {
   "cell_type": "markdown",
   "metadata": {},
   "source": [
    "<div class=\"followup\">\n",
    "    <h3>Die nächsten Schritte</h3>\n",
    "    <div>\n",
    "        <ul>\n",
    "            <li>In <a class=\"followup\" href=\"/user-redirect/algoviz/lessons/02_Grundlagen/02_Variablen.ipynb\">\n",
    "                    Variablen</a> kann man Werte speichern.</li>\n",
    "            <li>Die einzelnen Typen werden in verschiedenen Lessons genauer vorgestellt:\n",
    "                <ul>\n",
    "                    <li><a class=\"followup\" href=\"/user-redirect/algoviz/lessons/02_Grundlagen/03_Ints.ipynb\">\n",
    "                        <tt>int</tt>-Typen</a></li>\n",
    "                    <li><a class=\"followup\" href=\"/user-redirect/algoviz/lessons/02_Grundlagen/04_Booleans.ipynb\">\n",
    "                        Booleans</a></li>\n",
    "                    <li><a class=\"followup\" href=\"/user-redirect/algoviz/lessons/02_Grundlagen/07_Floats.ipynb\">\n",
    "                        Typen für Dezimalzahlen</a></li>\n",
    "                    <li><a class=\"followup\" href=\"/user-redirect/algoviz/lessons/02_Grundlagen/16_Strings.ipynb\">\n",
    "                        Zeichen und Strings</a></li>\n",
    "                </ul>\n",
    "            </li>            \n",
    "        </ul>\n",
    "    </div>\n",
    "</div>"
   ]
  }
 ],
 "metadata": {
  "kernelspec": {
   "display_name": "C++17",
   "language": "C++17",
   "name": "xcpp17"
  },
  "language_info": {
   "codemirror_mode": "text/x-c++src",
   "file_extension": ".cpp",
   "mimetype": "text/x-c++src",
   "name": "c++",
   "version": "17"
  }
 },
 "nbformat": 4,
 "nbformat_minor": 4
}
