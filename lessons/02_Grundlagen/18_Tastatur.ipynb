{
 "cells": [
  {
   "cell_type": "markdown",
   "metadata": {},
   "source": [
    "# Tastaturabfragen\n",
    "\n",
    "In dieser Lesson beschäftigen wir uns mit der Möglichkeit AlgoViz-Programme über die Tastatur zu steuern und werden ein paar Beipiele vorstellen. Dabei kommen alle algorithmischen Konstrukte in Kombination zum Einsatz."
   ]
  },
  {
   "cell_type": "markdown",
   "metadata": {},
   "source": [
    "<div class=\"prereq\">\n",
    "    <h3>Was man wissen sollte</h3>\n",
    "    <div>\n",
    "        MAn sollte bereits <a class=\"prereq\" href=\"/user-redirect/algoviz/lessons/02_Grundlagen/14_ErsterKontaktMitObjekten.ipynb\">einen ersten Kontakt mot Objekten </a> gehabt haben und <a class=\"prereq\" href=\"/user-redirect/algoviz/lessons/02_Grundlagen/12_Schleifen.ipynb\"> kennen.\n",
    "    </div>\n",
    "</div>    "
   ]
  },
  {
   "cell_type": "markdown",
   "metadata": {},
   "source": [
    "## Erste Schritte\n",
    "\n",
    "Wir benötigen eine AlgoViz-Fenster. Das kann entweder SVG oder Turtle sein. Fangen wir mal mit einem kleinen SVG an."
   ]
  },
  {
   "cell_type": "code",
   "execution_count": 1,
   "metadata": {},
   "outputs": [],
   "source": [
    "#include <algoviz/SVG.hpp>\n",
    "#include <algoviz/Turtle.hpp>\n",
    "#include <iostream>\n",
    "\n",
    "using namespace std;   // Hierdurch müssen wir nicht mehr std:: vor cout etc. schreiben"
   ]
  },
  {
   "cell_type": "code",
   "execution_count": 2,
   "metadata": {},
   "outputs": [],
   "source": [
    "AlgoViz::clear();\n",
    "SVG zeichnung = SVG(100,100,\"Testfenster\");"
   ]
  },
  {
   "cell_type": "markdown",
   "metadata": {},
   "source": [
    "Als nächstes wollen wir darauf warten, dass in dem Fenster eine Taste gedrückt wird. Das können wir über den Befehl `zeichnung.waitForKey()` erreichen."
   ]
  },
  {
   "cell_type": "code",
   "execution_count": 3,
   "metadata": {},
   "outputs": [
    {
     "name": "stdout",
     "output_type": "stream",
     "text": [
      "d\n"
     ]
    }
   ],
   "source": [
    "cout << zeichnung.waitForKey() << endl;"
   ]
  },
  {
   "cell_type": "markdown",
   "metadata": {},
   "source": [
    "Der Befehl wartet bis in das Fenster klickt und anschließend eine Taste drückt. Er gibt einen String zurück, der den Namen der Taste enthält."
   ]
  },
  {
   "cell_type": "markdown",
   "metadata": {},
   "source": [
    "<div class=\"task\">\n",
    "    <h3>Aufgabe</h3>\n",
    "    <div>\n",
    "        Ermitteln Sie die Tastennamen für die Pfeiltasten heraus.\n",
    "    </div>\n",
    "</div>"
   ]
  },
  {
   "cell_type": "markdown",
   "metadata": {},
   "source": [
    "Da `waitForKey()` tatsächlich wartet bis eine Taste gedrückt wurde, ist es nicht für alle Situationen geeignet. Man braucht häufig eine Möglichkeit festzustellen, ob eine Taste gedrückt wurde, ohne dass das Programm wartet. In AlgoViz geht das mit `lastKey()`. Dabei wir immer die seit dem letzten Aufruf zuletzt gedrückte Taste zurückgegeben.\n",
    "\n",
    "Am Besten kann mand das verstehen, wenn man sich das folgende Beispielprogramm ansieht. Es fragt in do-while-Schleife immer wieder nach der letzten gedrückten Taste. Der Name wird in `key`gespeichert. Wurde seit der letzten Abgrage keine Taste gedrückt ist das Ergebnis der leere String `\"\"`. D.h. die Entscheidungsanweisung prüft, ob eine Taste gedrückt wurde und gibt sie aus.\n",
    "\n",
    "Die Schleife wiederrum wird beendet, sobald x gedückt wurde."
   ]
  },
  {
   "cell_type": "code",
   "execution_count": 4,
   "metadata": {},
   "outputs": [
    {
     "name": "stdout",
     "output_type": "stream",
     "text": [
      "x\n",
      "Ende der Schleife\n"
     ]
    }
   ],
   "source": [
    "string key;\n",
    "\n",
    "do {\n",
    "    key = zeichnung.lastKey();\n",
    "    if ( key != \"\" ) {\n",
    "        cout << key << endl;\n",
    "    }\n",
    "} while ( key != \"x\" );\n",
    "\n",
    "cout << \"Ende der Schleife\" << endl;"
   ]
  },
  {
   "cell_type": "markdown",
   "metadata": {},
   "source": [
    "Mit diesem Mechanismus lassen sich hervorragend Tastatursteuerungen implementieren. Hier ein ganz einfaches Beispiel mit dem die Turtle sich vorwärts bewegen lässt."
   ]
  },
  {
   "cell_type": "code",
   "execution_count": null,
   "metadata": {},
   "outputs": [],
   "source": [
    "AlgoViz::clear();\n",
    "\n",
    "Turtle bowser = Turtle(400,400);\n",
    "\n",
    "string key;\n",
    "\n",
    "do {\n",
    "    key = bowser.lastKey();\n",
    "    \n",
    "    if ( key == \"ArrowUp\" ) {\n",
    "        bowser.forward(1);\n",
    "    }\n",
    "    \n",
    "} while ( key != \"x\" );\n",
    "\n",
    "cout << \"Ende der Schleife\" << endl;"
   ]
  },
  {
   "cell_type": "markdown",
   "metadata": {},
   "source": [
    "<div class=\"task\">\n",
    "    <h3>Aufgabe</h3>\n",
    "    <div>\n",
    "        Ergänzen Sie das Programm um die Tasten <em>Links</em> und <em>Rechts</em>, die die Turtle\n",
    "        entsprechend drehen. Mit <em>Unten</em> soll sie außerdem rückwärts gehen. Andere Tasten\n",
    "        könnten für die Einstellung der Farbe genutzt werden.        \n",
    "    </div>\n",
    "</div>"
   ]
  },
  {
   "cell_type": "markdown",
   "metadata": {},
   "source": [
    "## Der hüpfende Ball\n",
    "\n",
    "Mit der Tastatursteuerung lääst sich auch das Problem der endlichen Schleife für den Ball lösen. Statt einer For-Schleife, die eine feste Anzahl von Durchläufen hat, verwenden wir eine do-while-Schleife, die auf das Drücken einer bestimmten Taste wartet."
   ]
  },
  {
   "cell_type": "code",
   "execution_count": null,
   "metadata": {},
   "outputs": [],
   "source": [
    "AlgoViz::clear();\n",
    "\n",
    "SVG zeichnung = SVG(400,400);\n",
    "\n",
    "string key;\n",
    "Circle ball = Circle(200,50,10,&zeichnung);\n",
    "// Image tardis = Image(\"/user-redirect/algoviz/img/tardis.png\",200,50,20,20,&zeichnung);\n",
    "\n",
    "int x = 0;\n",
    "int y = 0;\n",
    "int vx = 2;\n",
    "int vy = 1;\n",
    "\n",
    "do {\n",
    "    key = zeichnung.lastKey();\n",
    "    \n",
    "    vy = vy + 1;\n",
    "    x = x + vx;\n",
    "    y = y + vy;\n",
    "    \n",
    "    if ((x < 0) || (x > 399)) {\n",
    "        vx = -vx;\n",
    "    }\n",
    "\n",
    "    if ((y < 0) || (y > 399)) {\n",
    "        vy = -vy;\n",
    "    }\n",
    "\n",
    "    ball.moveTo(x,y);\n",
    "    \n",
    "    AlgoViz::sleep(10);\n",
    "    \n",
    "} while ( key != \"x\" );"
   ]
  },
  {
   "cell_type": "code",
   "execution_count": null,
   "metadata": {},
   "outputs": [],
   "source": [
    " string "
   ]
  },
  {
   "cell_type": "code",
   "execution_count": null,
   "metadata": {},
   "outputs": [],
   "source": [
    "int x = 200;\n",
    "int y = 20;\n",
    "int vx = 0;\n",
    "int vy = 0;\n",
    "int ax = 0;\n",
    "int ay = 1;\n",
    "int winkel = 0;\n",
    "\n",
    "std::string key;\n",
    "\n",
    "do {\n",
    "    vx = vx + ax;\n",
    "    vy = vy + ay;\n",
    "    x = x + vx;\n",
    "    y = y + vy;\n",
    "    \n",
    "    if ( y >= 400 ) { \n",
    "        y = (800-y);\n",
    "        vy = -vy;\n",
    "    }\n",
    "    \n",
    "    if ( x < 0 ) {\n",
    "        x = -x;\n",
    "        vx = -vx;\n",
    "    }\n",
    "    \n",
    "    if ( x >= 400 ) {\n",
    "        x = (800-x);\n",
    "        vx = -vx;\n",
    "    }\n",
    "    \n",
    "    winkel = (winkel+10) % 360;\n",
    "    \n",
    "    tardis.rotateTo(winkel);\n",
    "    tardis.moveTo(x,y);\n",
    "    \n",
    "    AlgoViz::sleep(20);\n",
    "    \n",
    "    key = zeichnung.lastKey();\n",
    "    \n",
    "    if ( key == \"ArrowLeft\" ) vx = vx - 1;\n",
    "    if ( key == \"ArrowRight\" ) vx = vx + 1;\n",
    "    if ( key == \"0\" ) vx = 0;\n",
    "    \n",
    "} while ( key != \"x\" );"
   ]
  },
  {
   "cell_type": "markdown",
   "metadata": {},
   "source": [
    "<div class=\"followup\">\n",
    "    <h3>Wo es weiter geht</h3>\n",
    "    <div>\n",
    "        <a class=\"followup\" href=\"/user-redirect/algoviz/lessons/02_Grundlagen/19_BouncingBall.ipynb\">Das Beispiel des hüpfenden Balls</a>.\n",
    "    </div>\n",
    "</div>    "
   ]
  }
 ],
 "metadata": {
  "kernelspec": {
   "display_name": "C++17",
   "language": "C++17",
   "name": "xcpp17"
  },
  "language_info": {
   "codemirror_mode": "text/x-c++src",
   "file_extension": ".cpp",
   "mimetype": "text/x-c++src",
   "name": "c++",
   "version": "17"
  }
 },
 "nbformat": 4,
 "nbformat_minor": 4
}
