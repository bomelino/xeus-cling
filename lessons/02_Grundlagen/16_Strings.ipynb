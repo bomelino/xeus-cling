{
 "cells": [
  {
   "cell_type": "markdown",
   "metadata": {},
   "source": [
    "# Zeichen und Strings"
   ]
  },
  {
   "cell_type": "markdown",
   "metadata": {},
   "source": [
    "<div class=\"prereq\">\n",
    "    <h3>Das sollte man kennen ...</h3>\n",
    "    <div>\n",
    "        <a class=\"prereq\" href=\"/user-redirect/algoviz/lessons/02_Grundlagen/01_Datentypen.ipynb\">Datentypen</a> \n",
    "        und <a class=\"prereq\" href=\"/user-redirect/algoviz/lessons/02_Grundlagen/13_Zaehlschleifen.ipynb\">Zählschleifen</a>.\n",
    "    </div>\n",
    "</div>"
   ]
  },
  {
   "cell_type": "markdown",
   "metadata": {},
   "source": [
    "## Zeichen\n",
    "\n",
    "In den bisherigen Lessons haben wir schon eine Reihe von **Strings** verwendet. Meistens in der Form von **konstanten Strings**, d.h. festen Texten die z.B. ausgegeben werden:"
   ]
  },
  {
   "cell_type": "code",
   "execution_count": 1,
   "metadata": {},
   "outputs": [
    {
     "name": "stdout",
     "output_type": "stream",
     "text": [
      "Dies ist ein KONSTANTER STRING\n"
     ]
    }
   ],
   "source": [
    "#include <iostream>\n",
    "\n",
    "using namespace::std; // Dadurch können uns das vorangestelte std:: sparen\n",
    "\n",
    "cout << \"Dies ist ein KONSTANTER STRING\" << endl;"
   ]
  },
  {
   "cell_type": "markdown",
   "metadata": {},
   "source": [
    "Ein String ist eine Sequenz von einzelnen **Zeichen**. Für diese steht der Datentyp `char` (Kurzform von character) zur Verfügung, den wir schon in der Lesson [Datentypen](/user-redirect/algoviz/lessons(02_Grundlagen/01_Datentypen.ipynb) kennengelernt haben. Im GEgensatz zu den Strings wird ein einzelnes Zeichen in **Einfache Anführungszeichen** gesetzt."
   ]
  },
  {
   "cell_type": "code",
   "execution_count": 2,
   "metadata": {},
   "outputs": [],
   "source": [
    "char zeichen = '*';"
   ]
  },
  {
   "cell_type": "markdown",
   "metadata": {},
   "source": [
    "Wie wir auch schon gesehen haben, entspricht jeder `char` einem 16-Bit ASCII Wert. Um zu sehen, welcher Wert das ist, können wir einfach den Typ **casten**, d.h. umwandeln. Dies geschieht auf die folgende Weise:"
   ]
  },
  {
   "cell_type": "code",
   "execution_count": 3,
   "metadata": {},
   "outputs": [
    {
     "data": {
      "text/plain": [
       "42"
      ]
     },
     "execution_count": 3,
     "metadata": {},
     "output_type": "execute_result"
    }
   ],
   "source": [
    "(int) zeichen"
   ]
  },
  {
   "cell_type": "markdown",
   "metadata": {},
   "source": [
    "Hierzu zwei Anmerkungen:\n",
    "\n",
    "1) Dadurch das wir das Semikolon am Ende weglassen, wird in Jupyter Notebooks das Ergebnis direkt ausgegeben. Wir können uns also `cout << ...` sparen.\n",
    "\n",
    "2) Das vorangestellte `(int)` besagt, dass der folgende Wert in einen `int`-Wert, also eine ganze Zahl umgewandelt werden soll. Daher ist das Ergebnis 42. Der Unicode des Zeichens `*`.\n",
    "\n",
    "Das mit dem Cast geht auch anders herum:"
   ]
  },
  {
   "cell_type": "code",
   "execution_count": 4,
   "metadata": {},
   "outputs": [
    {
     "data": {
      "text/plain": [
       "'*'"
      ]
     },
     "execution_count": 4,
     "metadata": {},
     "output_type": "execute_result"
    }
   ],
   "source": [
    "(char) 42"
   ]
  },
  {
   "cell_type": "markdown",
   "metadata": {},
   "source": [
    "### Was man mit Zeichen machen kann und was nicht\n",
    "\n",
    "Man kann Werte vom Typ `char` miteinander vergleichen. `==` und `!=` prüfen auf Gleich- bzw. Ungleichheit. Die Relationen `<`, `>`, `<=` und `>=` vergleichen die ASCII-Werte der Zeichen miteinander."
   ]
  },
  {
   "cell_type": "code",
   "execution_count": 5,
   "metadata": {},
   "outputs": [
    {
     "data": {
      "text/plain": [
       "true"
      ]
     },
     "execution_count": 5,
     "metadata": {},
     "output_type": "execute_result"
    }
   ],
   "source": [
    "'a' < 'b'"
   ]
  },
  {
   "cell_type": "markdown",
   "metadata": {},
   "source": [
    "Auch die Rechenoperation `+`, `-`, `*`, `/` und `%` verwenden einfach die ASCII-Werte. D.h. die Zeichen werden **implizit** in `int`-Werte umgewandelt. Daher sind die Ergebnisse auch vom Typ `int`."
   ]
  },
  {
   "cell_type": "code",
   "execution_count": 6,
   "metadata": {},
   "outputs": [
    {
     "data": {
      "text/plain": [
       "1"
      ]
     },
     "execution_count": 6,
     "metadata": {},
     "output_type": "execute_result"
    }
   ],
   "source": [
    "'b' - 'a'"
   ]
  },
  {
   "cell_type": "code",
   "execution_count": 7,
   "metadata": {},
   "outputs": [
    {
     "data": {
      "text/plain": [
       "219"
      ]
     },
     "execution_count": 7,
     "metadata": {},
     "output_type": "execute_result"
    }
   ],
   "source": [
    "'a' + 'z'"
   ]
  },
  {
   "cell_type": "markdown",
   "metadata": {},
   "source": [
    "## Strings\n",
    "\n",
    "Wie bereits gesagt, steht der Datentyp `std::string` (oder einfach `string`) für Sequenzen von vielen Zeichen. Er wird durch die Bibliothek `<string>` zur Verfügung gestellt. Häufig wird diese auch durch andere Bibliotheken (z.B. `<iostream>`) \"miteingebunden\", so dass man sich oft sparen kann es selbst zu tun."
   ]
  },
  {
   "cell_type": "code",
   "execution_count": 8,
   "metadata": {},
   "outputs": [],
   "source": [
    "#include <string>\n",
    "\n",
    "using namespace std;"
   ]
  },
  {
   "cell_type": "markdown",
   "metadata": {},
   "source": [
    "Der Datentype `string` und alle damit verbundenen Operationen gehören zum namespace `std`, so dass man ihnen entweder `std::` voranstellen muss. Alternativ kann man sich das mit `using namespace std;` ersparen."
   ]
  },
  {
   "cell_type": "code",
   "execution_count": 9,
   "metadata": {},
   "outputs": [],
   "source": [
    "string text = \"Dies ist eine Text\";"
   ]
  },
  {
   "cell_type": "markdown",
   "metadata": {},
   "source": [
    "Konstante Strings werden in **doppelte Anführungszeichen** gesetzt. Verwendet man, wie bei `char` einfache, erhält man einen Fehler."
   ]
  },
  {
   "cell_type": "code",
   "execution_count": 10,
   "metadata": {},
   "outputs": [
    {
     "name": "stderr",
     "output_type": "stream",
     "text": [
      "\u001b[1minput_line_25:2:16: \u001b[0m\u001b[0;1;35mwarning: \u001b[0m\u001b[1mmulti-character character constant [-Wmultichar]\u001b[0m\n",
      " string text = 'Dies ist kein Text';     // Das wird etwas länger ...\n",
      "\u001b[0;1;32m               ^\n",
      "\u001b[0m\u001b[1minput_line_25:2:16: \u001b[0m\u001b[0;1;35mwarning: \u001b[0m\u001b[1mcharacter constant too long for its type\u001b[0m\n",
      "\u001b[1minput_line_25:2:9: \u001b[0m\u001b[0;1;31merror: \u001b[0m\u001b[1mno viable conversion from 'int' to 'std::__cxx11::string' (aka 'basic_string<char>')\u001b[0m\n",
      " string text = 'Dies ist kein Text';     // Das wird etwas länger ...\n",
      "\u001b[0;1;32m        ^      ~~~~~~~~~~~~~~~~~~~~\n",
      "\u001b[0m\u001b[1m/home/michael/miniconda3/bin/../lib/gcc/x86_64-conda_cos6-linux-gnu/7.3.0/../../../../x86_64-conda_cos6-linux-gnu/include/c++/7.3.0/bits/basic_string.h:437:7: \u001b[0m\u001b[0;1;30mnote: \u001b[0mcandidate constructor not viable: no known conversion from 'int' to 'const std::__cxx11::basic_string<char, std::char_traits<char>,\n",
      "      std::allocator<char> > &' for 1st argument\u001b[0m\n",
      "      basic_string(const basic_string& __str)\n",
      "\u001b[0;1;32m      ^\n",
      "\u001b[0m\u001b[1m/home/michael/miniconda3/bin/../lib/gcc/x86_64-conda_cos6-linux-gnu/7.3.0/../../../../x86_64-conda_cos6-linux-gnu/include/c++/7.3.0/bits/basic_string.h:509:7: \u001b[0m\u001b[0;1;30mnote: \u001b[0mcandidate constructor not viable: no known conversion from 'int' to 'const char *' for 1st argument\u001b[0m\n",
      "      basic_string(const _CharT* __s, const _Alloc& __a = _Alloc())\n",
      "\u001b[0;1;32m      ^\n",
      "\u001b[0m\u001b[1m/home/michael/miniconda3/bin/../lib/gcc/x86_64-conda_cos6-linux-gnu/7.3.0/../../../../x86_64-conda_cos6-linux-gnu/include/c++/7.3.0/bits/basic_string.h:531:7: \u001b[0m\u001b[0;1;30mnote: \u001b[0mcandidate constructor not viable: no known conversion from 'int' to 'std::__cxx11::basic_string<char, std::char_traits<char>,\n",
      "      std::allocator<char> > &&' for 1st argument\u001b[0m\n",
      "      basic_string(basic_string&& __str) noexcept\n",
      "\u001b[0;1;32m      ^\n",
      "\u001b[0m\u001b[1m/home/michael/miniconda3/bin/../lib/gcc/x86_64-conda_cos6-linux-gnu/7.3.0/../../../../x86_64-conda_cos6-linux-gnu/include/c++/7.3.0/bits/basic_string.h:558:7: \u001b[0m\u001b[0;1;30mnote: \u001b[0mcandidate constructor not viable: no known conversion from 'int' to 'initializer_list<char>' for 1st argument\u001b[0m\n",
      "      basic_string(initializer_list<_CharT> __l, const _Alloc& __a = _Alloc())\n",
      "\u001b[0;1;32m      ^\n",
      "\u001b[0m"
     ]
    },
    {
     "ename": "Interpreter Error",
     "evalue": "",
     "output_type": "error",
     "traceback": [
      "Interpreter Error: "
     ]
    }
   ],
   "source": [
    "string text = 'Dies ist kein Text';     // Das wird etwas länger ..."
   ]
  },
  {
   "cell_type": "markdown",
   "metadata": {},
   "source": [
    "Umgekehrt übrigens auch:"
   ]
  },
  {
   "cell_type": "code",
   "execution_count": null,
   "metadata": {},
   "outputs": [],
   "source": [
    "char zeichen = \"a\";       // Die Fehlermeldung ist deutlich kürzer."
   ]
  },
  {
   "cell_type": "markdown",
   "metadata": {},
   "source": [
    "Man kann Strings **konkatenieren**, d.h. aneinanderhängen:"
   ]
  },
  {
   "cell_type": "code",
   "execution_count": null,
   "metadata": {},
   "outputs": [],
   "source": [
    "string s = \"Dies\";\n",
    "string t = \"ist ein Text\";\n",
    "string r = s + \" \" + t;"
   ]
  },
  {
   "cell_type": "markdown",
   "metadata": {},
   "source": [
    "Man kann sie ausgeben:"
   ]
  },
  {
   "cell_type": "code",
   "execution_count": null,
   "metadata": {},
   "outputs": [],
   "source": [
    "cout << r << endl;"
   ]
  },
  {
   "cell_type": "markdown",
   "metadata": {},
   "source": [
    "Und man kann kann sie einlesen:"
   ]
  },
  {
   "cell_type": "code",
   "execution_count": null,
   "metadata": {},
   "outputs": [],
   "source": [
    "string eingabe;\n",
    "\n",
    "cout << \"Geben Sie was ein : \";\n",
    "cin >> eingabe;\n",
    "\n",
    "cout << \"Das haben Sie eingegeben : \\\"\" << eingabe << \"\\\"\" << endl;"
   ]
  },
  {
   "cell_type": "markdown",
   "metadata": {},
   "source": [
    "Der **Backslash** `\\` vor den dopelten Anführungszeichen stellt sicher, das sie als Teil des Strings und nicht als Anfang oder Ende interpretiert werden. Man sagt, dass der Bakslash `\\` das folgende Zeichen **schützt** es wird damit als Zeichen und nicht als syntaktisches Element interpretiert."
   ]
  },
  {
   "cell_type": "markdown",
   "metadata": {},
   "source": [
    "Wenn nicht schon geschehen, probieren Sie mal in der Eingabe etwas mit Leerzeichen."
   ]
  },
  {
   "cell_type": "markdown",
   "metadata": {},
   "source": [
    "Sie werden es nicht hinbekommen!\n",
    "\n",
    "Für solche Fälle wird der folgende Befehl benötigt:"
   ]
  },
  {
   "cell_type": "code",
   "execution_count": null,
   "metadata": {},
   "outputs": [],
   "source": [
    "getline(cin,eingabe);\n",
    "\n",
    "cout << \"Das haben Sie eingegeben : \\\"\" << eingabe << \"\\\"\" << endl;"
   ]
  },
  {
   "cell_type": "markdown",
   "metadata": {},
   "source": [
    "## Die Struktur von Strings\n",
    "\n",
    "Da ein String eine Sequenz von Zeichen ist, ist es nicht wirklich erstaunlich, dass man auf seine einzelnen Zeichen zugreifen kann. Sie sind, beginnend mit 0, durchnummeriert und können auch einzeln abgefragt werden. Dies geht entweder mit `at()` oder mit dem **Index-Operator** `[]`."
   ]
  },
  {
   "cell_type": "code",
   "execution_count": null,
   "metadata": {},
   "outputs": [],
   "source": [
    "string text = \"Zeichenkette\";\n",
    "\n",
    "char zeichen = text.at(7);   // Das Zeichen an Index 7 (also 'k')\n",
    "cout << zeichen << endl;\n",
    "\n",
    "zeichen = text[6];           // Das Zeichen in Index 6 (also 'n')\n",
    "cout << zeichen << endl;"
   ]
  },
  {
   "cell_type": "markdown",
   "metadata": {},
   "source": [
    "Verändern kann man die Zeichen ebenfalls einzeln:"
   ]
  },
  {
   "cell_type": "code",
   "execution_count": null,
   "metadata": {},
   "outputs": [],
   "source": [
    "text[3] = 'X';\n",
    "text.at(4) = 'Y';\n",
    "\n",
    "cout << text << endl;"
   ]
  },
  {
   "cell_type": "markdown",
   "metadata": {},
   "source": [
    "Die **Länge** eines Strings erhält man mittels `length()`."
   ]
  },
  {
   "cell_type": "code",
   "execution_count": null,
   "metadata": {},
   "outputs": [],
   "source": [
    "cout << text.length() << endl;"
   ]
  },
  {
   "cell_type": "markdown",
   "metadata": {},
   "source": [
    "Damit können wir jetzt jeden String rückwärts ausgeben lassen. \n",
    "\n",
    "Dafür verwenden wir eine Zähl- oder For-Schleife und durchlaufen die indices von hinten nach vorne. Da die Nummerierung der Position bei 0 beginnt, hat das letzte Zeichen den Index `length()-1`. Also ist das die Intialisierung.\n",
    "\n",
    "Da wir rückwärts laufen, muss das Inkrement die Position immer um eins senken."
   ]
  },
  {
   "cell_type": "code",
   "execution_count": 11,
   "metadata": {},
   "outputs": [
    {
     "name": "stdout",
     "output_type": "stream",
     "text": [
      "Geben Sie einen Text ein : Dies ist ein Text\n",
      "txeT nie tsi sei\n"
     ]
    }
   ],
   "source": [
    "string eingabe;\n",
    "\n",
    "cout << \"Geben Sie einen Text ein : \";\n",
    "getline(cin,eingabe);\n",
    "\n",
    "for ( int pos = eingabe.length()-1; pos > 0; pos = pos - 1 ) {\n",
    "    cout << eingabe[pos];\n",
    "}\n",
    "cout << endl;"
   ]
  },
  {
   "cell_type": "markdown",
   "metadata": {},
   "source": [
    "<div class=\"task\">\n",
    "    <h3>Aufgabe</h3>\n",
    "    <div>\n",
    "        Das Programm enthält einen Fehler. Korrigieren Sie ihn!\n",
    "    </div>\n",
    "</div>"
   ]
  },
  {
   "cell_type": "markdown",
   "metadata": {},
   "source": [
    "### Was noch so geht\n",
    "\n",
    "Im Folgenden ein paar Beispiele, was man mit Strings so machen kann."
   ]
  },
  {
   "cell_type": "markdown",
   "metadata": {},
   "source": [
    "#### Teilstrings finden\n",
    "\n",
    "Man kann Teilstrings finden."
   ]
  },
  {
   "cell_type": "code",
   "execution_count": 3,
   "metadata": {},
   "outputs": [
    {
     "name": "stdout",
     "output_type": "stream",
     "text": [
      "5\n",
      "39\n",
      "-1\n"
     ]
    }
   ],
   "source": [
    "#include <iostream>  // Falls Sie neustarten müssen\n",
    "using namespace std;\n",
    "    \n",
    "string text = \"Eine Nadel im Heuhaufen, und noch eine Nadel.\";\n",
    "\n",
    "int pos1 = text.find(\"Nadel\");\n",
    "int pos2 = text.find(\"Nadel\", pos1+1);\n",
    "int pos3 = text.find(\"Hammer\");\n",
    "\n",
    "cout << pos1 << endl << pos2 << endl << pos3 << endl;"
   ]
  },
  {
   "cell_type": "markdown",
   "metadata": {},
   "source": [
    "Die Operation `int text.find(string teil, int start)` sucht das erste Vorkommen von `teil` in `text` und gibt die Anfangsposition zurück. Ist der zweite Parameter gegebn, beginnt die Suche bei diesem Index. Ist `teil` nicht enthalten, gibt `find` -1 zurück."
   ]
  },
  {
   "cell_type": "markdown",
   "metadata": {},
   "source": [
    "#### Teilstrings kopieren"
   ]
  },
  {
   "cell_type": "code",
   "execution_count": 5,
   "metadata": {},
   "outputs": [
    {
     "name": "stdout",
     "output_type": "stream",
     "text": [
      "Nadel\n"
     ]
    }
   ],
   "source": [
    "#include <iostream>  // Falls Sie neustarten müssen\n",
    "using namespace std;\n",
    "    \n",
    "string text = \"Eine Nadel im Heuhaufen.\";\n",
    "string teil = text.substr(5,5);\n",
    "\n",
    "cout << teil << endl;"
   ]
  },
  {
   "cell_type": "markdown",
   "metadata": {},
   "source": [
    "#### Teilstrings ersetzen\n",
    "\n",
    "Mit `text.replace` können Sie Teilstrings ersetzen."
   ]
  },
  {
   "cell_type": "code",
   "execution_count": 1,
   "metadata": {},
   "outputs": [
    {
     "name": "stdout",
     "output_type": "stream",
     "text": [
      "Dies ist eine Mücke.\n",
      "Dies ist ein Elefant.\n"
     ]
    }
   ],
   "source": [
    "#include <iostream>  // Falls Sie neustarten müssen\n",
    "using namespace std;\n",
    "    \n",
    "string text = \"Dies ist eine Mücke.\";\n",
    "cout << text << endl;\n",
    "\n",
    "text.replace(12,8,\" Elefant\");  // Der String wird geändert\n",
    "\n",
    "cout << text << endl;"
   ]
  },
  {
   "cell_type": "markdown",
   "metadata": {},
   "source": [
    "Die Argumente von `replace` sind der Index des ersten Zeichens das ersetzt werden soll, die Länge und der Ersatztext."
   ]
  },
  {
   "cell_type": "markdown",
   "metadata": {},
   "source": [
    "<div class=\"prereq\">\n",
    "    <h3>Halt mal!</h3>\n",
    "    <div>\n",
    "        Aber das passt doch gar nicht! `\"e Mücke\"` ist nur sieben Zeichen lang!        \n",
    "    </div>\n",
    "</div>"
   ]
  },
  {
   "cell_type": "markdown",
   "metadata": {},
   "source": [
    "Und da sind wir wieder bei dem Problem mit den Umlauten. Schauen wir uns mal das `'ü'` genauer an und lassen es einfach mal so stehen:"
   ]
  },
  {
   "cell_type": "code",
   "execution_count": 10,
   "metadata": {},
   "outputs": [
    {
     "name": "stderr",
     "output_type": "stream",
     "text": [
      "\u001b[1minput_line_24:2:2: \u001b[0m\u001b[0;1;31merror: \u001b[0m\u001b[1mcharacter too large for enclosing character literal type\u001b[0m\n",
      " 'ü'\n",
      "\u001b[0;1;32m ^\n",
      "\u001b[0m"
     ]
    },
    {
     "ename": "Interpreter Error",
     "evalue": "",
     "output_type": "error",
     "traceback": [
      "Interpreter Error: "
     ]
    }
   ],
   "source": [
    "'ü'"
   ]
  },
  {
   "cell_type": "markdown",
   "metadata": {},
   "source": [
    "Das `'ü'` ist zu groß für ein Zeichen. Es besteht in Wirklichkeit aus mehreren Zeichen."
   ]
  },
  {
   "cell_type": "code",
   "execution_count": 17,
   "metadata": {},
   "outputs": [
    {
     "data": {
      "text/plain": [
       "2"
      ]
     },
     "execution_count": 17,
     "metadata": {},
     "output_type": "execute_result"
    }
   ],
   "source": [
    "string text = \"ü\";\n",
    "text.length()"
   ]
  },
  {
   "cell_type": "markdown",
   "metadata": {},
   "source": [
    "Aber ..."
   ]
  },
  {
   "cell_type": "code",
   "execution_count": 18,
   "metadata": {},
   "outputs": [
    {
     "data": {
      "text/plain": [
       "1"
      ]
     },
     "execution_count": 18,
     "metadata": {},
     "output_type": "execute_result"
    }
   ],
   "source": [
    "text = \"u\";\n",
    "text.length()"
   ]
  },
  {
   "cell_type": "markdown",
   "metadata": {},
   "source": [
    "Sehen wir uns die beiden Zeichen mal an:"
   ]
  },
  {
   "cell_type": "code",
   "execution_count": 21,
   "metadata": {},
   "outputs": [
    {
     "data": {
      "text/plain": [
       "'0xc3'"
      ]
     },
     "execution_count": 21,
     "metadata": {},
     "output_type": "execute_result"
    }
   ],
   "source": [
    "string text=\"ü\";\n",
    "text[0]"
   ]
  },
  {
   "cell_type": "code",
   "execution_count": 22,
   "metadata": {},
   "outputs": [
    {
     "data": {
      "text/plain": [
       "'0xbc'"
      ]
     },
     "execution_count": 22,
     "metadata": {},
     "output_type": "execute_result"
    }
   ],
   "source": [
    "text[1]"
   ]
  },
  {
   "cell_type": "markdown",
   "metadata": {},
   "source": [
    "Beide zusammen ergeben das `ü`. Für uns soll das hier genügen. Wir werden versuchen einfach keine Umlaute oder ähnliches zu nutzen.\n",
    "\n",
    "Wer mehr wissen will findet mehr Informationen untern dem Sticworten **Unicode** und **UTF-8** und in der Zusatz-Lesson [Unicode und andere Codierungen](/user-redirect/algoviz/lessons/02_Grundlagen/22_Unicode.ipynb) (sofern sie fertig ist)."
   ]
  },
  {
   "cell_type": "markdown",
   "metadata": {},
   "source": [
    "<div class=\"task\">\n",
    "    <h3>Aufgabe</h3>\n",
    "    <div style=\"float:right\"><a href=\"https://de.wikipedia.org/wiki/Terry_Pratchett\"><img src=\"/user-redirect/algoviz/img/terrys-hat.png\" width=\"40px\"></a></div>\n",
    "    <div>\n",
    "        Machen Sie in dem folgenden Text aus allen Elefanten Mücken und aus jedem einzelnen Elefanten nur eine Mücke.\n",
    "        <p>\n",
    "            <b>Hinweise und Bemerkungen</b>\n",
    "            <ul>\n",
    "                <li>Die Backslashes schützen dei folgenden Newlines (unsichtbar). Damit gehören sie nicht zum String.</li>\n",
    "                <li>Überlegen Sie sich gut in welcher Reihenfolge sie was ersetzen.</li>\n",
    "                <li>Eine geeignete Schleife mit geeigneter Laufbedingung hilft weiter (eigentlich zwei).</li>\n",
    "            </ul>\n",
    "        </p>\n",
    "    </div>\n",
    "</div>"
   ]
  },
  {
   "cell_type": "code",
   "execution_count": 1,
   "metadata": {},
   "outputs": [],
   "source": [
    "#include <iostream>  // Falls Sie neustarten müssen\n",
    "using namespace std;\n",
    "\n",
    "string pratchett = \n",
    "\"Es heisst , die Welt sei flach und werde von vier Elefanten getragen, \\\n",
    "die auf dem Panzer einer riesigen Schildkroete stehen. Es heisst, \\\n",
    "die Elefanten haetten aufgrund ihrer Groesse Knochen aus Stein und \\\n",
    "Eisen, und Nerven aus Gold, weil diese ueber grosse Entfernungen \\\n",
    "hinweg besser leiten. Es heisst , dass der fuenfte Elefant vor langer \\\n",
    "Zeit heulend und trompetend durch die Luft der jungen Welt raste \\\n",
    "und hart genug landete, um Kontinente zu zerreissen und hohe \\\n",
    "Berge entstehen zu lassen. Niemand beobachtete die Landung, \\\n",
    "woraus sich eine interessante philosophische Frage ergibt: Wenn \\\n",
    "ein Millionen Tonnen schwerer zorniger Elefant vom Himmel faellt, \\\n",
    "ohne dass jemand da ist, der ihn hoert - verursacht er dann, \\\n",
    "philosophisch gesehen, irgendwelche Geraeusche? Und wenn ihn \\\n",
    "niemand sah - schlug er dann wirklich  auf? Mit anderen Worten: \\\n",
    "War es nicht nur eine Geschichte fuer Kinder, um einige interessante \\\n",
    "natuerliche Ereignisse zu erklaeren? Was die Zwerge betrifft, von \\\n",
    "denen diese Legende stammt, und die tiefer graben als viele andere \\\n",
    "Leute: Sie meinen, die Geschichte enthalte ein Koernchen Wahrheit. \\\n",
    " \\\n",
    "An einem klaren Tag konnte man von einem geeigneten Ort in den \\\n",
    "Spitzhornbergen aus weit ueber die Ebene sehen. Im Hochsommer \\\n",
    "war es moeglich, die Staubwolken der Ochsengespanne zu zaehlen. \\\n",
    "Jedes Ochsenpaar bewegte sich mit einer Hoechstgeschwindigkeit \\\n",
    "von zwei Meilen in der Stunde und zog zwei Karren, jeweils mit vier \\\n",
    "Tonnen Fracht beladen. Die Fracht brauchte lange, um ihren \\\n",
    "Bestimmungsort zu erreichen, aber wenn sie dort ankam, gab es \\\n",
    "viel davon. Den Staedten am Runden Meer brachten die Karren \\\n",
    "Rohstoffe und manchmal auch Leute, die ihr Glueck versuchten und \\\n",
    "sich eine Hand voll Diamanten erhofften. Den Bergen brachten sie \\\n",
    "Fertigwaren, seltene Dinge von jenseits des Meeres und Leute, die \\\n",
    "Weisheit gefunden und ein paar Narben davongetragen hatten. Fuer \\\n",
    "gewoehnlich betrug der Abstand zwischen den Gespannen eine \\\n",
    "Tagesreise, wodurch sich die Landschaft in eine ausgebreitete \\\n",
    "Zeitmaschine verwandelte. An einem klaren Tag konnte man den \\\n",
    "letzten Dienstag sehen. Heliographen blitzten in der Ferne, als die \\\n",
    "Staubwolken Mitteilungen austauschten. Diese betrafen die \\\n",
    "Anwesenheit von Raeubern, Ladungen und Lokale, wo man doppeltes \\\n",
    "Spiegelei, eine dreifache Portion Bratkartoffeln und Steaks bekam, \\\n",
    "die auf allen Seiten ueber den Tellerrand ragten. Viele Leute waren mit \\\n",
    "den Karren unterwegs. Die Reise kostete nicht viel und war bequemer \\\n",
    "als ein Fussmarsch. Ausserdem erreichte man sein Ziel, frueher oder \\\n",
    "spaeter. Manche Leute reisten sogar gratis. Der Kutscher eines \\\n",
    "Karrens hatte Probleme mit seinen beiden Ochsen. Sie waren unruhig. \\\n",
    "In den Bergen haette er das erwartet, denn dort streiften Geschoepfe \\\n",
    "umher, die Ochsen fuer eine wandelnde Mahlzeit hielten. Aber hier \\\n",
    "gab es nichts Gefaehrlicheres als Kohl. Hinter ihm, in einer Luecke \\\n",
    "zwischen den Stapeln aus Bauholz schlief jemand. \\\n",
    " \\\n",
    "Terry Pratchett, Der Fuenfte Elefant\";"
   ]
  },
  {
   "cell_type": "code",
   "execution_count": 2,
   "metadata": {},
   "outputs": [
    {
     "name": "stdout",
     "output_type": "stream",
     "text": [
      "Es heisst , die Welt sei flach und werde von vier Muecken getragen, die auf dem Panzer einer riesigen Schildkroete stehen. Es heisst, die Muecken haetten aufgrund ihrer Groesse Knochen aus Stein und Eisen, und Nerven aus Gold, weil diese ueber grosse Entfernungen hinweg besser leiten. Es heisst , dass der fuenfte Muecke vor langer Zeit heulend und trompetend durch die Luft der jungen Welt raste und hart genug landete, um Kontinente zu zerreissen und hohe Berge entstehen zu lassen. Niemand beobachtete die Landung, woraus sich eine interessante philosophische Frage ergibt: Wenn ein Millionen Tonnen schwerer zorniger Muecke vom Himmel faellt, ohne dass jemand da ist, der ihn hoert - verursacht er dann, philosophisch gesehen, irgendwelche Geraeusche? Und wenn ihn niemand sah - schlug er dann wirklich  auf? Mit anderen Worten: War es nicht nur eine Geschichte fuer Kinder, um einige interessante natuerliche Ereignisse zu erklaeren? Was die Zwerge betrifft, von denen diese Legende stammt, und die tiefer graben als viele andere Leute: Sie meinen, die Geschichte enthalte ein Koernchen Wahrheit.  An einem klaren Tag konnte man von einem geeigneten Ort in den Spitzhornbergen aus weit ueber die Ebene sehen. Im Hochsommer war es moeglich, die Staubwolken der Ochsengespanne zu zaehlen. Jedes Ochsenpaar bewegte sich mit einer Hoechstgeschwindigkeit von zwei Meilen in der Stunde und zog zwei Karren, jeweils mit vier Tonnen Fracht beladen. Die Fracht brauchte lange, um ihren Bestimmungsort zu erreichen, aber wenn sie dort ankam, gab es viel davon. Den Staedten am Runden Meer brachten die Karren Rohstoffe und manchmal auch Leute, die ihr Glueck versuchten und sich eine Hand voll Diamanten erhofften. Den Bergen brachten sie Fertigwaren, seltene Dinge von jenseits des Meeres und Leute, die Weisheit gefunden und ein paar Narben davongetragen hatten. Fuer gewoehnlich betrug der Abstand zwischen den Gespannen eine Tagesreise, wodurch sich die Landschaft in eine ausgebreitete Zeitmaschine verwandelte. An einem klaren Tag konnte man den letzten Dienstag sehen. Heliographen blitzten in der Ferne, als die Staubwolken Mitteilungen austauschten. Diese betrafen die Anwesenheit von Raeubern, Ladungen und Lokale, wo man doppeltes Spiegelei, eine dreifache Portion Bratkartoffeln und Steaks bekam, die auf allen Seiten ueber den Tellerrand ragten. Viele Leute waren mit den Karren unterwegs. Die Reise kostete nicht viel und war bequemer als ein Fussmarsch. Ausserdem erreichte man sein Ziel, frueher oder spaeter. Manche Leute reisten sogar gratis. Der Kutscher eines Karrens hatte Probleme mit seinen beiden Ochsen. Sie waren unruhig. In den Bergen haette er das erwartet, denn dort streiften Geschoepfe umher, die Ochsen fuer eine wandelnde Mahlzeit hielten. Aber hier gab es nichts Gefaehrlicheres als Kohl. Hinter ihm, in einer Luecke zwischen den Stapeln aus Bauholz schlief jemand.  Terry Pratchett, Der Fuenfte Muecke\n"
     ]
    }
   ],
   "source": [
    "int pos;\n",
    "\n",
    "do {\n",
    "    pos = pratchett.find(\"Elefanten\");\n",
    "    if ( pos >= 0 ) {\n",
    "        pratchett = pratchett.replace(pos,9,\"Muecken\");\n",
    "    }\n",
    "} while (pos >= 0);\n",
    "\n",
    "do {\n",
    "    pos = pratchett.find(\"Elefant\");\n",
    "    if ( pos >= 0 ) {\n",
    "        pratchett = pratchett.replace(pos,7,\"Muecke\");\n",
    "    }\n",
    "} while (pos >= 0);\n",
    "\n",
    "cout << pratchett << endl;"
   ]
  },
  {
   "cell_type": "markdown",
   "metadata": {},
   "source": [
    "Dann prüfen wir mal, ob Ihr Programm korrekt ist."
   ]
  },
  {
   "cell_type": "code",
   "execution_count": 3,
   "metadata": {},
   "outputs": [
    {
     "name": "stdout",
     "output_type": "stream",
     "text": [
      "Gut Gemacht! Ich habe keinen Elefanten gefunden!\n"
     ]
    }
   ],
   "source": [
    "int check = pratchett.find(\"Elefant\");\n",
    "\n",
    "if ( check == -1 ) {\n",
    "    cout << \"Gut Gemacht! Ich habe keinen Elefanten gefunden!\" << endl;\n",
    "} else {\n",
    "    cout << \"Da ist mindestens noch ein Elefant versteckt!\" << endl;    \n",
    "}"
   ]
  },
  {
   "cell_type": "markdown",
   "metadata": {},
   "source": [
    "Aber sind auch genügend Mücken drin?"
   ]
  },
  {
   "cell_type": "code",
   "execution_count": 5,
   "metadata": {},
   "outputs": [
    {
     "name": "stdout",
     "output_type": "stream",
     "text": [
      "Genau richtig!\n"
     ]
    }
   ],
   "source": [
    "int zaehler = 0;\n",
    "int muecke = -1;\n",
    "\n",
    "do {\n",
    "    muecke = pratchett.find(\"Muecke\",muecke+1);\n",
    "    if ( muecke  >= 0 ) {\n",
    "        zaehler = zaehler+1;\n",
    "    }\n",
    "} while ( muecke >= 0 );\n",
    "    \n",
    "if ( zaehler == 5 ) {\n",
    "    cout << \"Genau richtig!\" << endl;\n",
    "} else if ( zaehler < 5 ) {\n",
    "    cout << \"Zu wenig Mücken!\" << endl;    \n",
    "} else if ( zaehler > 5 ) {\n",
    "    cout << \"Eine Mückenplage! Zu viele!\" << endl;\n",
    "}\n"
   ]
  },
  {
   "cell_type": "markdown",
   "metadata": {},
   "source": [
    "#### Einen Teilstring einfügen\n",
    "\n",
    "Man kann auch Teilstrings einfügen."
   ]
  },
  {
   "cell_type": "code",
   "execution_count": 1,
   "metadata": {},
   "outputs": [
    {
     "name": "stdout",
     "output_type": "stream",
     "text": [
      "penpineappleapplepen\n"
     ]
    }
   ],
   "source": [
    "#include <iostream>  // Falls Sie neustarten müssen\n",
    "using namespace std;\n",
    "\n",
    "string text = \"PenPineapplePen\";\n",
    "string complete = text.insert(12,\"Apple\");\n",
    "\n",
    "cout << complete << endl;"
   ]
  },
  {
   "cell_type": "markdown",
   "metadata": {},
   "source": [
    "<div style=\"float:right\" title=\"Achten Sie darauf wohin Sie klicken!\">✎<a href=\"https://www.youtube.com/watch?v=Ct6BUPvE2sM\">🍍</a><a href=\"https://www.youtube.com/watch?v=m9DgT1lwulY\">🍎</a>✎</div>"
   ]
  },
  {
   "cell_type": "markdown",
   "metadata": {},
   "source": [
    "## Eine wichtige Beobachtung\n",
    "\n",
    "Ist Ihnen bei den diversen Befehlen etwas aufgefallen?"
   ]
  },
  {
   "cell_type": "code",
   "execution_count": null,
   "metadata": {},
   "outputs": [],
   "source": [
    "string s = \"\";\n",
    "int pos = s.find(\"Nadel\");\n",
    "string t = s.substr(6,5);\n",
    "string r = s.replace(13,4,\"Elefant\");\n",
    "string u = s.insert(12,\"Apple\");"
   ]
  },
  {
   "cell_type": "markdown",
   "metadata": {},
   "source": [
    "In allen Fällen wir der String nicht als Parameter übergeben. Stattdessen werden die Operationen auf einer Variable vom Typ `string` aufgerufen. Die Variablke steht durch einen Punkt `.` getrennt davor. Das nennt man **Punktnotation**.\n",
    "\n",
    "Der Grund dafür ist, dass ein `string` ein [Objekt](/user-redirect/algoviz/lessons/02_Grundlagen/14_ErsterKontaktMitObjekten.ipynb) ist. Und damit funktionert er etwas anders als die sogenannten **elementaren** oder **atomaren** Typen `int`, `double`, `char` und `bool` (und ihre Varianten)."
   ]
  },
  {
   "cell_type": "markdown",
   "metadata": {},
   "source": [
    "<div class=\"followup\">\n",
    "    <h3>Weiter geht es mit ...</h3>\n",
    "    <div>\n",
    "        <a class=\"followup\" href=\"/user-redirect/algoviz/lessons/02_Grundlagen/22_Caesar.ipynb\">der Cäsar-Verschlüsselung</a> als Beispiel für einen Algorithmus auf Strings. Danach geht es zu den\n",
    "        <a class=\"followup\" href=\"/user-redirect/algoviz/lessons/03_Fortgeschritten/00_Arrays.ipynb\">Arrays</a>.\n",
    "    </div>\n",
    "</div>"
   ]
  }
 ],
 "metadata": {
  "kernelspec": {
   "display_name": "C++17",
   "language": "C++17",
   "name": "xcpp17"
  },
  "language_info": {
   "codemirror_mode": "text/x-c++src",
   "file_extension": ".cpp",
   "mimetype": "text/x-c++src",
   "name": "c++",
   "version": "17"
  }
 },
 "nbformat": 4,
 "nbformat_minor": 4
}
