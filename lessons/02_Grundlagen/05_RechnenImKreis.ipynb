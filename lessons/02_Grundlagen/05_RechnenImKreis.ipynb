{
 "cells": [
  {
   "cell_type": "markdown",
   "metadata": {},
   "source": [
    "# Rechnen in beschränkten Zahlräumen\n",
    "\n",
    "Durch die beschränkte Größe von Datentypen, müssen Strategien entwickelt werden, wie man damit umgeht, wenn man rechnet. Diese werden hier vorgestellt."
   ]
  },
  {
   "cell_type": "markdown",
   "metadata": {},
   "source": [
    "<div class=\"prereq\">\n",
    "    <h3>Was Sie kennen sollten</h3>\n",
    "    <div>\n",
    "        <a class=\"prereq\" href=\"/user-redirect/algoviz/lessons/02_Grundlagen/00_Binaerzahlen.ipynb\">Bits, Bytes und Binärzahlen</a>\n",
    "    </div>\n",
    "</div>"
   ]
  },
  {
   "cell_type": "markdown",
   "metadata": {},
   "source": [
    "<div class=\"slideshow /02_Grundlagen/05_RechnenImKreis/slides.json\">Rechnen in beschränkten Zahlräumen</div>"
   ]
  },
  {
   "cell_type": "markdown",
   "metadata": {},
   "source": [
    "<div class=\"followup\">\n",
    "        <h3>Wo es weiter geht</h3>\n",
    "    <div>\n",
    "        Wenn Sie die Lesson\n",
    "        <a class=\"prereq\" href=\"/user-redirect/algoviz/lessons/02_Grundlagen/03_Ints.ipynb\">Integer-Datentypen</a>\n",
    "        noch nicht durchgearbeitet haben, wäre dies ein guter Zeitpunkt.\n",
    "    </div>\n",
    "</div>"
   ]
  }
 ],
 "metadata": {
  "kernelspec": {
   "display_name": "C++17",
   "language": "C++17",
   "name": "xcpp17"
  },
  "language_info": {
   "codemirror_mode": "text/x-c++src",
   "file_extension": ".cpp",
   "mimetype": "text/x-c++src",
   "name": "c++",
   "version": "17"
  }
 },
 "nbformat": 4,
 "nbformat_minor": 4
}
