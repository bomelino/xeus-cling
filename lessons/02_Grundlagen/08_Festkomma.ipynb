{
 "cells": [
  {
   "cell_type": "markdown",
   "metadata": {},
   "source": [
    "# Die Festkommadarstellung"
   ]
  },
  {
   "cell_type": "markdown",
   "metadata": {},
   "source": [
    "<div class=\"prereq\">\n",
    "    <h3>Was man wissen sollte</h3>\n",
    "    <div>\n",
    "        <a class=\"prereq\" href=\"/user-redirect/algoviz/lessons/02_Grundlagen/00_Binaerzahlen.ipynb\">Bits, Bytes und Binärzahlen</a>\n",
    "    </div>\n",
    "</div>"
   ]
  },
  {
   "cell_type": "markdown",
   "metadata": {},
   "source": [
    "<div class=\"slideshow /02_Grundlagen/08_Festkomma/slides.json\">Die Festkommadarstellung</div>"
   ]
  },
  {
   "cell_type": "markdown",
   "metadata": {},
   "source": [
    "<div class=\"followup\">\n",
    "    <h3>Mehr zum Thema</h3>\n",
    "    <div>\n",
    "        Nachdem Sie die Festkommadarstellung kennen, sind Sie bereit für die etwas kompliziertere\n",
    "        <a class=\"followup\" href=\"/user-redirect/algoviz/lessons/02_Grundlagen/09_Gleitkomma.ipynb\">Gleitkommadarstellung</a>,\n",
    "        mit der die Zahlen tatsächlich codiert werden.\n",
    "    </div>\n",
    "</div>"
   ]
  }
 ],
 "metadata": {
  "kernelspec": {
   "display_name": "C++17",
   "language": "C++17",
   "name": "xcpp17"
  },
  "language_info": {
   "codemirror_mode": "text/x-c++src",
   "file_extension": ".cpp",
   "mimetype": "text/x-c++src",
   "name": "c++",
   "version": "17"
  }
 },
 "nbformat": 4,
 "nbformat_minor": 4
}
