{
 "cells": [
  {
   "cell_type": "markdown",
   "metadata": {},
   "source": [
    "# Zählschleifen"
   ]
  },
  {
   "cell_type": "markdown",
   "metadata": {},
   "source": [
    "<div class=\"prereq\">\n",
    "    <h3>Was man kennen sollte</h3>\n",
    "    <div>\n",
    "        <ul>\n",
    "            <li><a class=\"prereq\" href=\"/user-redirect/algoviz/lessons/02_Grundlagen/12_Schleifen.ipynb\">Schleifen</a></li>\n",
    "        </ul>\n",
    "    </div>\n",
    "</div>                   "
   ]
  },
  {
   "cell_type": "markdown",
   "metadata": {},
   "source": [
    "<div class=\"slideshow 02_Grundlagen/13_Zaehlschleifen/slides.json\">Zählschleifen</div>"
   ]
  },
  {
   "cell_type": "markdown",
   "metadata": {},
   "source": [
    "Probieren wir das Beispiel aus der Slideshow konkret aus."
   ]
  },
  {
   "cell_type": "code",
   "execution_count": 1,
   "metadata": {},
   "outputs": [],
   "source": [
    "#include <algoviz/SVG.hpp>\n",
    "\n",
    "AlgoViz::show();\n",
    "AlgoViz::clear();\n",
    "\n",
    "SVG zeichnung = SVG(400,400);\n",
    "\n",
    "for ( int i = 0; i < 50; i=i+1) {\n",
    "    zeichnung.setColor(i*5,0,0);\n",
    "    zeichnung.drawCircle(200,200,4*(i+1));\n",
    "}\n"
   ]
  },
  {
   "cell_type": "markdown",
   "metadata": {},
   "source": [
    "<div class=\"task\">\n",
    "    <h3>Aufgabe</h3>\n",
    "    <div>\n",
    "    <p>\n",
    "        Verwenden Sie eine For-Schleifen, um mit Hilfe von <tt>Turtle</tt> ein regelmäßiges $n$-Eck zu\n",
    "        zeichnen. Dabei soll das $n$ und die Seitenlänge jedesmal vom Nutzer eingegeben werden.\n",
    "    </p>\n",
    "        <p>\n",
    "            Sorgen Sie außerdem dafür, dass der Nutzer nur Längen > 0 und Werte n > 1 eingeben kann.\n",
    "        </p>\n",
    "    </div>\n",
    "</div>"
   ]
  },
  {
   "cell_type": "code",
   "execution_count": 2,
   "metadata": {},
   "outputs": [],
   "source": [
    "#include <iostream>\n",
    "#include <algoviz/Turtle.hpp>\n",
    "\n",
    "using namespace std;   // Damit können Sie sich dass vorangestellte std:: sparen\n",
    "\n",
    "AlgoViz::clear();\n",
    "Turtle bowser = Turtle(400,400);\n",
    "\n",
    "// ... Hier könnte ihr Code stehen\n"
   ]
  },
  {
   "cell_type": "markdown",
   "metadata": {},
   "source": [
    "## Geschachtelte Schleifen\n",
    "\n",
    "Man kann Schleifen auch ineinander **schachteln**. Damit kann man z.B. zwei Parameter unabhängig voneinander durchlaufen.\n",
    "\n",
    "Nehmen wir als Beispiel ein Muster aus Kreisen. Es soll ein 20 mal 10 Gitter von Kreisen mit Radius 5\n",
    "gezeichnet werden. Die Kreise sollen dabei in horizontaler und vertikaler Richtung 15 Pixel auseinander liegen.\n",
    "\n",
    "Wir haben also 20 Spalten mit den Indices 0 bis 19. Und in jeder Spalte haben wir zehn Kreise mit den Indices 0 bis 9, die in den jeweiligen Spalten liegen. Daher lassen wir in einer For-Schleife die Variable `spalte` von 0 bis 19 laufen. **Innerhalb** dieser For-Schleife lassen wir eine zweite Variable `zeile` die Werte 0 bis 9 durchlaufen.\n",
    "\n",
    "Damit haben wir für jeden Kreis zwei Parameter: `spalte` und ` zeile`. Sie entsprechen seinen Koordinaten im Gitter. Damit lässt sich die Position des Mittelpunktes des jewiligen Kreises berechnen:\n",
    "`(15*spalte,15*zeile)`."
   ]
  },
  {
   "cell_type": "code",
   "execution_count": 7,
   "metadata": {},
   "outputs": [],
   "source": [
    "AlgoViz::clear();\n",
    "SVG zeichnung = SVG(400,200);\n",
    "\n",
    "for ( int spalte = 0 ; spalte < 20; spalte = spalte + 1 ) {   // Die äußere Schleife\n",
    "    for ( int zeile = 0; zeile < 10; zeile = zeile + 1) {     // Die innere Schleife\n",
    "        zeichnung.drawCircle(15*spalte,15*zeile,5);\n",
    "        AlgoViz::sleep(100);\n",
    "    }\n",
    "}"
   ]
  },
  {
   "cell_type": "markdown",
   "metadata": {},
   "source": [
    "Durch die eingefügte Pause, sieht man, dass die Kreise Spaltenweise gezeichnet werden. Die Äußere Schleife bestimmt die Nummer der Spalte. Die Innere die Nummer der Zeile. D.h. als erstes werden alle Kreise der ersten Spalte gezeichnet. Dann die der zweiten etc."
   ]
  },
  {
   "cell_type": "markdown",
   "metadata": {},
   "source": [
    "<div class=\"task\">\n",
    "    <h3>Aufgabe</h3>\n",
    "    <div>\n",
    "    <p>\n",
    "        Verändern Sie das Programm so, dass die Kreise am linken Rand ganz zu sehen sind.\n",
    "        </p>\n",
    "    </div>\n",
    "</div>"
   ]
  },
  {
   "cell_type": "markdown",
   "metadata": {},
   "source": [
    "<div class=\"task\">\n",
    "    <h3>Aufgabe</h3>\n",
    "    <div>\n",
    "    <p>\n",
    "        Verändern Sie das Programm so, dass die Kreise zeilenweise gezeichnet werden.eingeben kann.\n",
    "        </p>\n",
    "    </div>\n",
    "</div>"
   ]
  },
  {
   "cell_type": "markdown",
   "metadata": {},
   "source": [
    "<div class=\"task\">\n",
    "    <h3>Aufgabe</h3>\n",
    "    <div>\n",
    "    <p>\n",
    "        Verändern Sie das Programm so, dass mit der Spalte die Grün-Komponente der Füllung der \n",
    "        Kreise zunimmt und mit der Zeile die Blau-Komponente.\n",
    "        </p>\n",
    "    </div>\n",
    "</div>"
   ]
  },
  {
   "cell_type": "markdown",
   "metadata": {},
   "source": [
    "<div class=\"followup\">\n",
    "    <h3>Wo man weitermachen kann</h3>\n",
    "    <div>\n",
    "        <ul>\n",
    "            <li>Mit Hilfe der <a class=\"followup\" href=\"/user-redirect/algoviz/lessons/02_Grundlagen/17_Tracetabellen.ipynb\">Tracetabellen und Sichtbarkeit von Variablen</a> kann man den Ablauf einer For-Schleife etwas genauer betrachten und lernt noch etwas Wichtiges über Variablen</li>\n",
    "            <li>Danach sollte man mit <a class=\"followup\" href=\"/user-redirect/algoviz/lessons/02_Grundlagen/16_Strings.ipynb\">Zeichen und Strings</a> weitermachen.</li>\n",
    "        </ul>\n",
    "    </div>\n",
    "</div>        "
   ]
  }
 ],
 "metadata": {
  "kernelspec": {
   "display_name": "C++17",
   "language": "C++17",
   "name": "xcpp17"
  },
  "language_info": {
   "codemirror_mode": "text/x-c++src",
   "file_extension": ".cpp",
   "mimetype": "text/x-c++src",
   "name": "c++",
   "version": "17"
  }
 },
 "nbformat": 4,
 "nbformat_minor": 4
}
