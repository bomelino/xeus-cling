{
 "cells": [
  {
   "cell_type": "markdown",
   "metadata": {},
   "source": [
    "# Booleans"
   ]
  },
  {
   "cell_type": "markdown",
   "metadata": {},
   "source": [
    "<div class=\"prereq\">\n",
    "    <h3>Was Sie kennen sollten</h3>\n",
    "    <div>\n",
    "        <a class=\"prereq\" href=\"/user-redirect/algoviz/lessons/02_Grundlagen/11_Entscheidungen.ipynb\">Entscheidungen</a> und <a class=\"prereq\" href=\"/user-redirect/algoviz/lessons/02_Grundlagen/15_Vergleich.ipynb\">den Unterschied zwischen Vergleich und Zuweisung</a>.        \n",
    "    </div>\n",
    "</div>"
   ]
  },
  {
   "cell_type": "markdown",
   "metadata": {},
   "source": [
    "<div class=\"slideshow /02_Grundlagen/04_Booleans/slides.json\">Booleans</div>"
   ]
  },
  {
   "cell_type": "markdown",
   "metadata": {},
   "source": [
    "Bevor wir loslegen ein wenig Vorbereitung."
   ]
  },
  {
   "cell_type": "code",
   "execution_count": null,
   "metadata": {},
   "outputs": [],
   "source": [
    "#include <algoviz/SVG.hpp>\n",
    "\n",
    "SVG zeichnung = SVG(420,420);\n",
    "Circle kreis = Circle(0,210,10,&zeichnung);"
   ]
  },
  {
   "cell_type": "markdown",
   "metadata": {},
   "source": [
    "Kommen wir auf das Beispiel mit dem zwischen den Rändern hin und her wandernden Kreis zurück. In [der Lesson Entscheidungen](/user-redirect/algoviz/lessons/11_Entscheidungen.ipynb) hatten wir das folgende Struktogramm entwickelt und implementiert. Dabei haben wir drei Entscheidungsanweisungen verwendet.\n",
    "\n",
    "![Das Struktogramm](/user-redirect/algoviz/img/Entscheidungen_Struktogramm5.png)\n",
    "\n",
    "Gehen wir etwas raffinierter vor, kann man das auf eine Entscheidungsanweisung reduzieren.\n",
    "\n",
    "Betrachten wir die beiden Bewegungsrichtungen, so stellen wir fest, dass wir in jeder Runde $x=x+1$ rechen, falls sich der Kreis nach rechts bewegt, und $x=x-1$ falls er nach links läuft. Schreiben wir das etwas mathematischer auf, so ergibt sich\n",
    "\n",
    "$$ x = x + dx \\qquad \\text{ mit } dx = \\begin{cases} 1 & \\text{falls Bewegung nach rechts} \\\\ -1 & \\text{falls Bewegung nach links}\\end{cases}$$\n",
    "\n",
    "Das können wir ausnutzen, um die Bewegungsdrichtung mit einer Variable `dx` zu kodieren. Bei Richtungsänderung ändern wir dann nur das Vorzeichen: `dx = -dx`.\n",
    "\n",
    "Es bleibt die Frage, wann wir die Richtung ändern müssen. Dazu können wir die gleichen Booleschen Ausdrücke verwenden, wie vorher, d.h. `x == 0`und `x == 399`. Allerdings müssen wir das Vorzeichen in **beiden Fällen** ändern, d.h. wenn einer von beiden eintritt. Dazu müssen wir die beiden Bedingungen durch den logischen Operator ODER miteinander verbinden. Dann ergibt sich folgendes Struktogramm (inklusive umgebender Schleife).\n",
    "\n",
    "![Das Struktogramm](/user-redirect/algoviz/img/Entscheidungen_Struktogramm_kurz.png)\n",
    "\n",
    "Implementieren wir diesen Algorithmus, erhalten wir das Folgende. Dabei können wir die **Alternative**, also den `else`-Zweig, weglassen, da in ihr nichts geschieht."
   ]
  },
  {
   "cell_type": "code",
   "execution_count": null,
   "metadata": {},
   "outputs": [],
   "source": [
    "zeichnung.clear();\n",
    "\n",
    "int x = 0;\n",
    "int dx = 1;\n",
    "for ( int runde = 0; runde < 10000; runde=runde + 1) {\n",
    "    if ( (x == 0) || (x == 419) ) {\n",
    "        dx = -dx;\n",
    "    }\n",
    "    x = x+dx;\n",
    "    kreis.moveTo(x,210);\n",
    "    AlgoViz::sleep(10);\n",
    "}"
   ]
  },
  {
   "cell_type": "markdown",
   "metadata": {},
   "source": [
    "<div class=\"prereq\">\n",
    "    <h3>Das funktioniert ja gar nicht!</h3>\n",
    "    <div>\n",
    "        Der Kreis bewegt sich ja gar nicht! Er verschwindet sogar!\n",
    "    </div>\n",
    "</div>    "
   ]
  },
  {
   "cell_type": "markdown",
   "metadata": {},
   "source": [
    "Tatsächlich hat unser Algorithmus ein Problem. Wir setzen die x-Koordinate anfänglich auf 0. Dadurch ist die Bedingung im ersten Schelifendurchlauf erfüllt und `dx` wird auf `-1` geändert. Damit bewegt sich der Kreis nach links statt nach rechts.\n",
    "\n",
    "Für diese Anfangssituation gibt es mehrere Möglichkeiten zur Korrektur.\n",
    "\n",
    "#### 1. Möglichkeit: Wir tun so als wäre der Kreis von rechts gekommen\n",
    "\n",
    "D.h. wir stellen die Ausgangssituation so her, als wäre der Kreis gerade in einer Linksbewegung gewesen. D.h. wir initialisieren `dx`mit -1 statt mit 1.\n",
    "\n",
    "#### 2. Möglichkeit: Wir lassen den Kreis nicht am Rand starten\n",
    "\n",
    "Wir können den Kreis auch einfach bei `x=1`starten lassen. Dann wird die Richtung in der ersten Runde nicht geändert.\n",
    "\n",
    "#### 3. Möglichkeit: Wir verscheiben den Kreis erst und prüfen dann die Richtung für die nächste Runde\n",
    "\n",
    "In dem gegebenen Struktogramm prüfen wir, ob der Kreis den Rand erreicht hat, bevor wir ihn bewegen. Das könne wir auch anders herum machen. Wir bewegen ihn erst und prüfen dann, ob wir in der nächsten Runde die Richtung ändern müssen."
   ]
  },
  {
   "cell_type": "markdown",
   "metadata": {},
   "source": [
    "<div class=\"task\">\n",
    "    <h3>Aufgabe</h3>\n",
    "    <div>\n",
    "        Probieren Sie die drei Möglichkeiten aus.\n",
    "    </div>\n",
    "</div>"
   ]
  },
  {
   "cell_type": "markdown",
   "metadata": {},
   "source": [
    "Die nächsten beiden Aufgaben sind nur Wiederholungen der Aufgaben aus [der Lesson Entscheidungen](/user-redirect/algoviz/lessons/11_Entscheidungen.ipynb) und sollen das Gleiche mit dem einfacheren Ansatz machen."
   ]
  },
  {
   "cell_type": "markdown",
   "metadata": {},
   "source": [
    "<div class=\"task\">\n",
    "    <h3>Aufgabe</h3>\n",
    "    <div>\n",
    "        Ergänzen Sie den Codeabschnitt so, dass der Kreis gleichzietig mit <b>doppelter Geschwindigkeit</b> hoch und runter läuft. Er soll auch am oberen und unteren Rand abprallen.\n",
    "    </div>\n",
    "</div>"
   ]
  },
  {
   "cell_type": "markdown",
   "metadata": {},
   "source": [
    "<div class=\"task\">\n",
    "    <h3>Aufgabe</h3>\n",
    "    <div>\n",
    "        Lassen Sie statt des Balls die Tardis laufen. Sie soll sich gleichzeitig drehen!\n",
    "    </div>\n",
    "</div>"
   ]
  },
  {
   "cell_type": "markdown",
   "metadata": {},
   "source": [
    "<div class=\"followup\">\n",
    "    <h3>Wo es weiter geht</h3>\n",
    "    <div>\n",
    "        Mit <a class=\"followup\" href=\"/user-redirect/algoviz/lessons/02_Grundlagen/12_Schleifen.ipynb\">Schleifen</a>.\n",
    "    </div>\n",
    "</div>\n"
   ]
  }
 ],
 "metadata": {
  "kernelspec": {
   "display_name": "C++17",
   "language": "C++17",
   "name": "xcpp17"
  },
  "language_info": {
   "codemirror_mode": "text/x-c++src",
   "file_extension": ".cpp",
   "mimetype": "text/x-c++src",
   "name": "c++",
   "version": "17"
  }
 },
 "nbformat": 4,
 "nbformat_minor": 4
}
