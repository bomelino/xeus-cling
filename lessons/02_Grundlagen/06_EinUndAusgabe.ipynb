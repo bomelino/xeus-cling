{
 "cells": [
  {
   "cell_type": "markdown",
   "metadata": {},
   "source": [
    "# Ein- und Ausgabe mit C++\n",
    "\n",
    "In diesem Notebook wird erklärt, wie man Texte ausgibt und auch über die Tastatur eingibt."
   ]
  },
  {
   "cell_type": "markdown",
   "metadata": {},
   "source": [
    "### Bibliotheken\n",
    "\n",
    "In C++ und vielen anderen Programmiersprachen werden für viele Funktionalitäten sogenannte **Bibliotheken** benötigt. Das sind Komponenten, die man in eigenen Programmen verwenden kann. Eine der grundlegendsten dieser Bibliotheken in C++ ist `iostream`. Sie stellt die Ein- und Ausgabe über Tastatur und Bildschirm, das sogenannte **Terminal** zur Verfügung."
   ]
  },
  {
   "cell_type": "markdown",
   "metadata": {},
   "source": [
    "Um eine Bibliothek in ein Programm **einzubinden** ist eine entsprechende **Direktive** notwendig. Die Bibliothek `iostream` bindet man z.B. mit der folgenden Zeile ein:"
   ]
  },
  {
   "cell_type": "code",
   "execution_count": null,
   "metadata": {},
   "outputs": [],
   "source": [
    "#include <iostream>"
   ]
  },
  {
   "cell_type": "markdown",
   "metadata": {},
   "source": [
    "Führen Sie die Zeile aus, bevor Sie weitermachen."
   ]
  },
  {
   "cell_type": "markdown",
   "metadata": {},
   "source": [
    "## Ausgabe"
   ]
  },
  {
   "cell_type": "markdown",
   "metadata": {},
   "source": [
    "Jetzt sind wir soweit, eine Ausgabe machen zu können. Dazu verwenden wir den **Konsolen Ausgabestream** `cout` (Es ist nicht ganz so wichtig, dass sie seinen langen Namen kennen. Es reicht eigentlich `cout`). Er ermöglicht es, Dinge auf dem Bildschirm auszugeben."
   ]
  },
  {
   "cell_type": "code",
   "execution_count": null,
   "metadata": {},
   "outputs": [],
   "source": [
    "std::cout << \"Hallo Welt!\\n\";"
   ]
  },
  {
   "cell_type": "markdown",
   "metadata": {},
   "source": [
    "Nehmen wir die Zeile mal auseinander.\n",
    "\n",
    "`cout` kennen wir bereits. Es ist der **Ausgabestream** für die sogenannte **Konsole**, d.h. die Kombination aus Tastatur und Bildschirm. Ein **Stream** wiederrum ist ein **Strom von Zeichen**, d.h. eine Sequenz von Zeichen mit einer bestimmten Reihenfolge.\n",
    "\n",
    "Das vorangestellte `std` ist der **Namensraum** in dem `cout` *definiert* ist. Namensräume sind Präfixe, die den Namen der in ihnen enthaltenen Komponenten vorangestellt werden. Dadurch können gleichlautende Komponenten in verschiedenen Namensrämen verwendet werden (So ein bißchen, wie ein Nach- oder Familienname).\n",
    "\n",
    "Die beiden \"kleiner als\"-Zeichen `<<` zeigen an, dass das folgende **in den Stream geschrieben** wird. In unserem Fall ist das der Text `\"Hallo Welt!\\n\"`. Wie man sieht werden die Anführungszeichen dabei nicht mit ausgegeben. Sie markieren nur den Anfang und das Ende des Textes. \n",
    "\n",
    "Eine Zeichefolge, wie z.B. `\"Dies ist ein Text\"` nennt man in der Informatik auch **String**."
   ]
  },
  {
   "cell_type": "markdown",
   "metadata": {},
   "source": [
    "Aber was soll das `\\n` am Ende des Strings? Probieren wir es aus. Dazu geben wir den Text zweimal direkt nacheinander aus."
   ]
  },
  {
   "cell_type": "code",
   "execution_count": null,
   "metadata": {},
   "outputs": [],
   "source": [
    "std::cout << \"Hallo Welt!\\n\";\n",
    "std::cout << \"Hallo Welt!\\n\";"
   ]
  },
  {
   "cell_type": "markdown",
   "metadata": {},
   "source": [
    "Und jetzt nochmal. Diesmal lassen wir aber in beiden Fällen das `\\n` weg."
   ]
  },
  {
   "cell_type": "code",
   "execution_count": null,
   "metadata": {},
   "outputs": [],
   "source": [
    "std::cout << \"Hallo Welt!\";\n",
    "std::cout << \"Hallo Welt!\";"
   ]
  },
  {
   "cell_type": "markdown",
   "metadata": {},
   "source": [
    "Und? Fällt was auf?"
   ]
  },
  {
   "cell_type": "markdown",
   "metadata": {},
   "source": [
    "Das `\\n` ist ein bestimmtes Zeichen, ein **Newline** oder **Zeilenumbruch**. Es sorgt dafür, dass die aktuelle Ausgabezeile beendet und die nächsten Zeichen in einer neuen Zeile ausgegeben werden."
   ]
  },
  {
   "cell_type": "markdown",
   "metadata": {},
   "source": [
    "Damit haben wir eine erste ..."
   ]
  },
  {
   "cell_type": "markdown",
   "metadata": {},
   "source": [
    "<div class=\"task\"><h3>Aufgabe</h3>\n",
    "    <div>\n",
    "        Schreiben Sie ein Programm, dass die folgende Ausgabe erzeugt:        \n",
    "<center>\n",
    "<pre>\n",
    "    _       ________  \n",
    "   / /      |______  | \n",
    "  / /  _           | | \n",
    " / /__| |_   ______| | \n",
    "|_____   _| |  ______| \n",
    "      | |   | |        \n",
    "      | |   | |______  \n",
    "      |_|   |________| \n",
    "</pre>\n",
    "</center>\n",
    "        (Ok! Das ist nicht wirklich schwer - und auch nicht wirklich hübsch. \n",
    "        Schöneres <a href=\"https://de.wikipedia.org/wiki/ASCII-Art\">ASCII Art</a> gibt es\n",
    "        <a href=\"http://www.ascii-art.de/ascii/ghi/hitchikers_guide.txt\">hier</a>.)\n",
    "</div>\n",
    "</div>"
   ]
  },
  {
   "cell_type": "code",
   "execution_count": null,
   "metadata": {},
   "outputs": [],
   "source": [
    "// Hier könnte Ihr Code stehen."
   ]
  },
  {
   "cell_type": "markdown",
   "metadata": {},
   "source": [
    "## Eingabe\n",
    "\n",
    "Jetzt wissen wir, wie wir etwas ausgeben können. Es fehlt allerdings noch, wie wir etwas **eingeben** können. Dafür verwenden wir den **Eingabestream** `cin`. Er enthält alle Zeichen, die wir auf der Tastatur tippen in der Reihenfolge in der diese eingegeben werden.\n",
    "\n",
    "Dabei gehen wir analog zu oben vor. Diesmal holen wir aber etwas aus `std::cin` heraus (das `std::`ist wieder der Namensraum). Das führt zu soetwas:"
   ]
  },
  {
   "cell_type": "code",
   "execution_count": null,
   "metadata": {},
   "outputs": [],
   "source": [
    "std::cin >> ... ;  // Das wird so nicht funktionieren!"
   ]
  },
  {
   "cell_type": "markdown",
   "metadata": {},
   "source": [
    "Das Problem ist, dass wir das, was eingegeben wird, irgendwo speichern müssen. Dazu verwendet man **Variablen**. Dies sind reservierte Speicherbereiche, in denen **Werte** gespeichert werden können. Sie sind mit einem **Namen** und einem **Typ** versehen. Der Name dient dazu, auf den gespeicherten Wert zuzugreifen, während der Typ angibt, was für eine Art von Wert in der Vaiable gespeichert wird."
   ]
  },
  {
   "cell_type": "markdown",
   "metadata": {},
   "source": [
    "Der einfachste Typ ist ein `int` oder **Integer**. Dabei handelt es sich um eine *ganze Zahl*."
   ]
  },
  {
   "cell_type": "markdown",
   "metadata": {},
   "source": [
    "Bevor man eine Variable benutzen kann, muss man sie **deklarieren**. D.h. man teilt dem Programm mit, wie die Variable heißt und welchen Typ sie hat. Tun wir das mal:"
   ]
  },
  {
   "cell_type": "code",
   "execution_count": null,
   "metadata": {},
   "outputs": [],
   "source": [
    "int zahl = 0;"
   ]
  },
  {
   "cell_type": "markdown",
   "metadata": {},
   "source": [
    "Diese Zeile deklariert eine Variable mit dem Namen `zahl` in der eine ganze Zahl (`ìnt`) gespeichert wird. Sie wird direkt mit dem **Wert** 0 **initialisiert**."
   ]
  },
  {
   "cell_type": "markdown",
   "metadata": {},
   "source": [
    "Jetzt können wir `zahl` dazu benutzen eine eingegebene Zahl zu speichern:"
   ]
  },
  {
   "cell_type": "code",
   "execution_count": null,
   "metadata": {},
   "outputs": [],
   "source": [
    "std::cin >> zahl;"
   ]
  },
  {
   "cell_type": "markdown",
   "metadata": {},
   "source": [
    "Führen Sie die Zeile aus. Wie sie sehen können Sie jetzt eine Zahl eingeben. Beenden Sie die Eingabe mit der Enter-Taste. Der eingegebene Wert wird in `zahl` gespeichert."
   ]
  },
  {
   "cell_type": "markdown",
   "metadata": {},
   "source": [
    "Jetzt können wir die eingegebene Zahl ausgeben:"
   ]
  },
  {
   "cell_type": "code",
   "execution_count": null,
   "metadata": {},
   "outputs": [],
   "source": [
    "std::cout << zahl;"
   ]
  },
  {
   "cell_type": "markdown",
   "metadata": {},
   "source": [
    "Oder wir geben das Doppelte aus:"
   ]
  },
  {
   "cell_type": "code",
   "execution_count": null,
   "metadata": {},
   "outputs": [],
   "source": [
    "std::cout << 2 * zahl;"
   ]
  },
  {
   "cell_type": "markdown",
   "metadata": {},
   "source": [
    "<div class=\"task\">\n",
    "    <h3>Aufgabe</h3>\n",
    "    <div>\n",
    "        <p>Schreiben sie ein Programm, dass <b>zwei</b> Zahlen einliest und ihre Summe und ihr Produkt ausgibt.</p>\n",
    "        <p><b>Hinweis:</b> Sie benötigen zwei Variablen mit zwei verschiedenen Namen.</p>\n",
    "    </div>\n",
    "</div>"
   ]
  },
  {
   "cell_type": "code",
   "execution_count": null,
   "metadata": {},
   "outputs": [],
   "source": [
    "// Ich kann es kaum erwarten ..."
   ]
  },
  {
   "cell_type": "markdown",
   "metadata": {},
   "source": [
    "<div style=\"float:right\"><a style=\"text-decoration:none\" href=\"https://www.youtube.com/watch?v=aqz-KE-bpKQ\"></a><pre>\n",
    "Click me!\n",
    "         (\\_/)   \n",
    "        =(o.o)=          \n",
    "        (\")_(\")\n",
    "</pre>"
   ]
  }
 ],
 "metadata": {
  "kernelspec": {
   "display_name": "C++17",
   "language": "C++17",
   "name": "xcpp17"
  },
  "language_info": {
   "codemirror_mode": "text/x-c++src",
   "file_extension": ".cpp",
   "mimetype": "text/x-c++src",
   "name": "c++",
   "version": "17"
  }
 },
 "nbformat": 4,
 "nbformat_minor": 4
}
