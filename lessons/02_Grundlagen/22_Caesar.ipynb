{
 "cells": [
  {
   "cell_type": "markdown",
   "metadata": {},
   "source": [
    "# Beispiel: Die Cäsar-Verschlüsselung"
   ]
  },
  {
   "cell_type": "markdown",
   "metadata": {},
   "source": [
    "<div class=\"prereq\">\n",
    "    <h3>Was man wissen solte</h3>\n",
    "    <div>\n",
    "        <a class=\"prereq\" href=\"/user-redirect/algoviz/lessons/02_Grundlgen/16_Strings.ipynb\">Zeichen und Strings</a>\n",
    "    </div>\n",
    "</div>"
   ]
  },
  {
   "cell_type": "markdown",
   "metadata": {},
   "source": [
    "Die **Cäsar-Verschlüsselung** ist ein Klassiker der Kryptographie. Auch wenn Sie inzwischen als vollkommen unsicher gilt ist sie dennoch eines der grundlegenden Verfahren mit dem man einige der Prinzipien der Kryptographie demonstrieren kann. Und - wenn man alles richtig macht - könnte man mit ihr sogar perfekt sicher verschlüsseln (allerdings nur mit sehr hohem Aufwand).\n",
    "\n",
    "Uns soll sie als ein gutes Beispiel für die Arbeit mit Strings und Zeichen dienen."
   ]
  },
  {
   "cell_type": "markdown",
   "metadata": {},
   "source": [
    "<div class=\"slideshow /02_Grundlagen/22_Caesar/slides.json\">Die Cäsar-Verschlüsselung</div>"
   ]
  },
  {
   "cell_type": "markdown",
   "metadata": {},
   "source": [
    "Um die Cäsar-Verschlüsselung zu implementieren müssen wir mehrere Probleme angehen:\n",
    "\n",
    "1. Berechnung der Ordnungszahl eines Zeichens.\n",
    "\n",
    "2. Berechnung des Zeiuchens aus der Ordnungszahl.\n",
    "\n",
    "3. Durchlaufen aller Zeichen des Klartextes.\n",
    "\n",
    "4. Umwandeln des Klartextes in Großbuchstaben (weil wir es einfach halten wollen).\n",
    "\n",
    "Der letzte Punkt ist relativ einfach. Es gibt die Operation `char std::toupper(char)`, die einen har`erhält` und dessen Entsprechung als Großbuchstabe zurück gibt. Wir müssen also nur jedes Zeichen unserer Eingabe entsprechend behandeln. Dafür verwenden wir eine For-Schleife."
   ]
  },
  {
   "cell_type": "code",
   "execution_count": 1,
   "metadata": {},
   "outputs": [
    {
     "name": "stdout",
     "output_type": "stream",
     "text": [
      "Geben Sie den Klartext ein: \n",
      "Dies ist eine geheime Botschaft\n",
      "Der angepasste Klartext ist: \"DIES IST EINE GEHEIME BOTSCHAFT\"\n"
     ]
    }
   ],
   "source": [
    "#include <iostream>\n",
    "using namespace std;\n",
    "\n",
    "string klartext;\n",
    "\n",
    "cout << \"Geben Sie den Klartext ein: \" << endl;\n",
    "getline(cin,klartext);\n",
    "\n",
    "for ( int pos = 0; pos < klartext.length(); pos = pos+1 ) {\n",
    "    klartext[pos] = toupper(klartext[pos]);\n",
    "}\n",
    "\n",
    "cout << \"Der angepasste Klartext ist: \\\"\" << klartext << \"\\\"\" << endl;"
   ]
  },
  {
   "cell_type": "markdown",
   "metadata": {},
   "source": [
    "Nachdem wir jetzt den Klartext haben, müssen wir uns darum kümmern die Ordnungszahl für jeden Buchstaben zu berechnen. Da `'A'` die 0 werden soll, müüsen wir nur den ASCII Code von `'A'`abziehen. Das können wir aber ganz leicht erreichen, wenn wir uns daran erinnern, dass man mit Zeichen rechnen kann:"
   ]
  },
  {
   "cell_type": "code",
   "execution_count": 6,
   "metadata": {},
   "outputs": [
    {
     "data": {
      "text/plain": [
       "23"
      ]
     },
     "execution_count": 6,
     "metadata": {},
     "output_type": "execute_result"
    }
   ],
   "source": [
    "'X' - 'A'"
   ]
  },
  {
   "cell_type": "markdown",
   "metadata": {},
   "source": [
    "Um das Zeichen zu Verschlüsseln, müssen wir nun die Ordnungszahl des Schlüssels (in unserem Beispiel `'K'`) auf unser Klartextzeichen `'X'` addieren und Modulo 26 rechnen. Als Ergebnis erhalten wir die Ordnungszahl des Kryptotextzeichens."
   ]
  },
  {
   "cell_type": "code",
   "execution_count": 7,
   "metadata": {},
   "outputs": [
    {
     "data": {
      "text/plain": [
       "7"
      ]
     },
     "execution_count": 7,
     "metadata": {},
     "output_type": "execute_result"
    }
   ],
   "source": [
    "(('X' - 'A') + ('K' -'A')) % 26"
   ]
  },
  {
   "cell_type": "markdown",
   "metadata": {},
   "source": [
    "Jetzt müssen wir aus der Ordungszahl wieder ein Zeichen machen. Dazu addiren wir `'A'` auf und wandeln das Ganze in einen `char` um:"
   ]
  },
  {
   "cell_type": "code",
   "execution_count": 8,
   "metadata": {},
   "outputs": [
    {
     "data": {
      "text/plain": [
       "'H'"
      ]
     },
     "execution_count": 8,
     "metadata": {},
     "output_type": "execute_result"
    }
   ],
   "source": [
    "(char) ( ( (('X' - 'A') + ('K' -'A')) % 26 ) + 'A' )"
   ]
  },
  {
   "cell_type": "markdown",
   "metadata": {},
   "source": [
    "OK das ist vielleicht etwas verwickelt. Deshalb nochmal zusammengefasst als kleines Programm mit Variablen."
   ]
  },
  {
   "cell_type": "code",
   "execution_count": 11,
   "metadata": {},
   "outputs": [
    {
     "name": "stdout",
     "output_type": "stream",
     "text": [
      "H\n"
     ]
    }
   ],
   "source": [
    "char klar = 'X';\n",
    "char schluessel = 'K';\n",
    "\n",
    "int ord = klartext - 'A';\n",
    "int verschluesselt = ( ord + ( schluessel - 'A' ) ) % 26;\n",
    "\n",
    "char krypto = (char) ( verschluesselt + 'A' );\n",
    "\n",
    "cout << krypto << endl;"
   ]
  },
  {
   "cell_type": "markdown",
   "metadata": {},
   "source": [
    "Zum Verschlüsseln müssen wir das jetzt nur für jedes Zeichen des Klartextes machen. Dazu verwenden wir wieder eine For-Schleife. Um den Platz zu haben in dem wir den Kryptotext speichern können, initialisieren wir ihn als Kopie des Klartextes."
   ]
  },
  {
   "cell_type": "code",
   "execution_count": 5,
   "metadata": {},
   "outputs": [
    {
     "name": "stdout",
     "output_type": "stream",
     "text": [
      "Klartext   : \"EPISODE=IVANEUE=HOFFNUNGAES=HERRSCHT=BUERGERKRIEG1=DIE=REBELLEN/=DEREN=RAUMSCHIFFE=VON=EINEM=GEHEIMENASTUETZPUNKT=AUS=ANGREIFEN/=HABEN=IHREN=ERSTEN=SIEG=GEGEN=DAS=BOESE=GALAKTISCHEAIMPERIUM=ERRUNGEN1=WAEHREND=DER=SCHLACHT=IST=ES=SPIONEN=DER=REBELLEN=GELUNGEN/AGEHEIMPLAENE=UEBER=DIE=ABSOLUTE=WAFFE=DES=IMPERIUMS=IN=IHREN=BESITZ=ZU=BRINGEN/ADEN=TODESSTERN/=EINE=BEWAFFNETE=RAUMSTATION/=DEREN=FEUERKRAFT=AUSREICHT/=UMAEINEN=GANZEN=PLANETEN=ZU=VERNICHTEN1=VERFOLGT=VON=DEN=FINSTEREN=AGENTEN=DESAIMPERIUMS/=JAGT=PRINZESSIN=LEIA=AN=BORD=IHRES=STERNENSCHIFFES=NACH=HAUS/=ALSAHUETERIN=DER=ERBEUTETEN=PLAENE/=DIE=IHR=VOLK=RETTEN=UND=DER=GALAXIE=DIE=FREIHEITAWIEDERGEBEN=KOENNTEN111AAAEPISODE=VADAS=IMPERIUM=SCHLAEGT=ZURUECKAES=IST=EINE=DUNKLE=ZEIT=FUER=DIE=REBELLION1=OBWOHL=DER=TODESSTERN=VERNICHTETAWORDEN=IST/=HABEN=IMPERIALE=STREITKRAEFTE=DIE=REBELLEN=AUS=IHREM=VERTECKTENASTUETZPUNKT=VERTRIEBEN=UND=KREUZ=UND=QUER=DURCH=DIE=GALAXIS=VERFOLGT1=NACHDEM=SIEADER=GEFUERCHTETEN=IMPERIALEN=STERNENFLOTTE=ENTKOMMEN=IST/=HAT=JEDOCH=EINE=GRUPPEAVON=FREIHEITSKAEMPFERN=UNTER=DER=FUEHRUNG=VON=LUKE=SKYWALKER=EINEN=NEUEN/=GEHEIMENASTUETZPUNKT=IN=DER=ABGELEGENEN=EISWUESTE=VON=HOTH=ERRICHTET1=DOCH=DER=TEUFLISCHEADARH=VADER=NUR=VON=DEM=GEDANKEN=BESESSEN/=DEN=JUNGEN=SKYWALKER=AUFZUSPUEREN=0=HATATAUSENDE=FERNGESTEUERTE=RAUMSONDEN=BIS=IN=DIE=ENTLEGENSTEN=BEREICHE=DES=WELTALLSAENTSANDT111AAAEPISODE=VIADIE=RUECKKEHR=DER=JEDI0RITTERALUKE=SKYWALKER=IST=AUF=SEINEM=HEIMATPLANETEN=TATTUIN=ZURUECKGEKEHRT/=UM=SEINENAFREUND=HAN=SOLO=DEN=KLAUEN=DES=UEBLEN=GANGSTERS=JABBA=THE=HUTT=ZU=ENTREISSEN1ALUKE=AHNT=NICHT/=DASS=DAS=GALAKTISCHE=IMPERIUM=IM=GEHEIMEN=MIT=DEM=BAU=EINERANEUEN/=BEWAFFNETEN=RAUMSTATION=BEGONNEN=HAT=0=TOEDLICHER=NOCH/=ALS=DERAGEFUERCHTETE=ERSTE=TODESSTERN1=MIT=DIESER=ABSOLUTEN=WAFFE=NAHT=DAS=SICHERE=ENDEAFUER=DIE=KLEINE=SCHAR=VON=REBELLEN=UND=IHREM=KAMPF/=DER=GALAXIS=DIE=FREIHEITAWIEDERZUGEBEN111\"\n",
      "Kryptotext : \"OZSCYNOGSFKXOEOGRYPPXEXQKOCGROBBCMRDGLEOBQOBUBSOQ;GNSOGBOLOVVOX9GNOBOXGBKEWCMRSPPOGFYXGOSXOWGQOROSWOXKCDEODJZEXUDGKECGKXQBOSPOX9GRKLOXGSRBOXGOBCDOXGCSOQGQOQOXGNKCGLYOCOGQKVKUDSCMROKSWZOBSEWGOBBEXQOX;GGKORBOXNGNOBGCMRVKMRDGSCDGOCGCZSYXOXGNOBGBOLOVVOXGQOVEXQOX9KQOROSWZVKOXOGEOLOBGNSOGKLCYVEDOGGKPPOGNOCGSWZOBSEWCGSXGSRBOXGLOCSDJGJEGLBSXQOX9KNOXGDYNOCCDOBX9GOSXOGLOGKPPXODOGBKEWCDKDSYX9GNOBOXGPOEOBUBKPDGKECBOSMRD9GEWKOSXOXGQKXJOXGZVKXODOXGJEGFOBXSMRDOX;GFOBPYVQDGFYXGNOXGPSXCDOBOXGKQOXDOXGNOCKSWZOBSEWC9GTKQDGZBSXJOCCSXGVOSKGKXGLYBNGSRBOCGCDOBXOXCMRSPPOCGXKMRGRKEC9GKVCKREODOBSXGNOBGOBLOEDODOXGZVKOXO9GNSOGSRBGFYVUGBODDOXGEXNGNOBGQKVKHSOGNSOGPBOSROSDKGSONOBQOLOXGUYOXXDOX;;;KKKOZSCYNOGFKNKCGSWZOBSEWGCMRVKOQDGJEBEOMUKOCGSCDGOSXOGNEXUVOGJOSDGPEOBGNSOGBOLOVVSYX;GYLGYRVGNOBGDYNOCCDOBXGFOBXSMRDODKGYBNOXGSCD9GRKLOXGSWZOBSKVOGCDBOSDUBKOPDOGNSOGBOLOVVOXGKECGSRBOWGFOBDOMUDOXKCDEODJZEXUDGFOBDBSOLOXGEXNGUBOEJGEXNGAEOBGNEBMRGNSOGQKVKHSCGFOBPYVQD;GXKMRNOWGCSOKNOBGQOPEOBMRDODOXGSWZOBSKVOXGCDOBXOXPVYDDOGOXDUYWWOXGSCD9GRKDGTONYMRGOSXOGQBEZZOKFYXGPBOSROSDCUKOWZPOBXGEXDOBGNOBGPEORBEXQGFYXGVEUOGCUIGKVUOBGOSXOXGXOEOX9GQOROSWOXKCDEODJZEXUDGSXGNOBGKLQOVOQOXOXGOSCGEOCDOGFYXGRYDRGOBBSMRDOD;GNYMRGNOBGDOEPVSCMROKNKBRGFKNOBGXEBGFYXGNOWGQONKXUOXGLOCOCCOX9GNOXGTEXQOXGCUIGKVUOBGKEPJECZEOBOXG:GRKDKDKECOXNOGPOBXQOCDOEOBDOGBKEWCYXNOXGLSCGSXGNSOGOXDVOQOXCDOXGLOBOSMROGNOCGGOVDKVVCKOXDCKXND;;;KKKOZSCYNOGFSKNSOGBEOMUUORBGNOBGTONS:BSDDOBKVEUOGCUIGKVUOBGSCDGKEPGCOSXOWGROSWKDZVKXODOXGDKDDESXGJEBEOMUQOUORBD9GEWGCOSXOXKPBOEXNGRKXGCYVYGNOXGUVKEOXGNOCGEOLVOXGQKXQCDOBCGTKLLKGDROGREDDGJEGOXDBOSCCOX;KVEUOGKRXDGXSMRD9GNKCCGNKCGQKVKUDSCMROGSWZOBSEWGSWGQOROSWOXGWSDGNOWGLKEGOSXOBKXOEOX9GLOGKPPXODOXGBKEWCDKDSYXGLOQYXXOXGRKDG:GDYONVSMROBGXYMR9GKVCGNOBKQOPEOBMRDODOGOBCDOGDYNOCCDOBX;GWSDGNSOCOBGKLCYVEDOXGGKPPOGXKRDGNKCGCSMROBOGOXNOKPEOBGNSOGUVOSXOGCMRKBGFYXGBOLOVVOXGEXNGSRBOWGUKWZP9GNOBGQKVKHSCGNSOGPBOSROSDKGSONOBJEQOLOX;;;\"\n"
     ]
    }
   ],
   "source": [
    "string kryptotext = klartext;  // Beide sind jetzt gleich lang.\n",
    "\n",
    "char klar;\n",
    "char schluessel = 'K';\n",
    "\n",
    "int ord;\n",
    "char verschluesselt;\n",
    "\n",
    "for ( int pos = 0; pos < klartext.length(); pos = pos + 1) {\n",
    "    klar = klartext[pos];\n",
    "    ord = klar - 'A';\n",
    "    verschluesselt = ( ord + ( schluessel - 'A' ) ) % 26;\n",
    "    kryptotext[pos] = (char) ( verschluesselt + 'A' );    \n",
    "}\n",
    "\n",
    "cout << \"Klartext   : \\\"\" << klartext << \"\\\"\" << endl;\n",
    "cout << \"Kryptotext : \\\"\" << kryptotext << \"\\\"\" << endl;"
   ]
  },
  {
   "cell_type": "markdown",
   "metadata": {},
   "source": [
    "Fassen wir nochmal alles in einer Zelle zusammen."
   ]
  },
  {
   "cell_type": "code",
   "execution_count": null,
   "metadata": {},
   "outputs": [
    {
     "name": "stdout",
     "output_type": "stream",
     "text": [
      "Geben Sie den Klartext ein: \n"
     ]
    }
   ],
   "source": [
    "#include <iostream>\n",
    "using namespace std;\n",
    "\n",
    "string klartext;\n",
    "\n",
    "cout << \"Geben Sie den Klartext ein: \" << endl;\n",
    "getline(cin,klartext);\n",
    "\n",
    "for ( int pos = 0; pos < klartext.length(); pos = pos+1 ) {\n",
    "    klartext[pos] = toupper(klartext[pos]);\n",
    "}\n",
    "\n",
    "string kryptotext = klartext;  // Beide sind jetzt gleich lang.\n",
    "\n",
    "char klar;\n",
    "char schluessel = 'K';\n",
    "\n",
    "int ord;\n",
    "char verschluesselt;\n",
    "\n",
    "for ( int pos = 0; pos < klartext.length(); pos = pos + 1) {\n",
    "    klar = klartext[pos];\n",
    "    ord = klar - 'A';\n",
    "    verschluesselt = ( ord + ( schluessel - 'A' ) ) % 26;\n",
    "    kryptotext[pos] = (char) ( verschluesselt + 'A' );    \n",
    "}\n",
    "\n",
    "cout << \"Klartext   : \\\"\" << klartext << \"\\\"\" << endl;\n",
    "cout << \"Kryptotext : \\\"\" << kryptotext << \"\\\"\" << endl;"
   ]
  },
  {
   "cell_type": "markdown",
   "metadata": {},
   "source": [
    "<div class=\"task\">\n",
    "    <h3>Aufgabe</h3>\n",
    "    <div>\n",
    "        Das erfahren verschlüsselt alle Zeichen, nicht nur Großbuchstaben. Verändern Sie die Implementierung, so dass\n",
    "        es nur noch Großbuchstaben verschlüsselt und alle anderen nicht. Denken Sie dabei daran, dass Sie Zeichen miteinander vergleichen können! Und die Großbuchstaben sind der Bereich von A bis Z.\n",
    "    </div>\n",
    "</div>"
   ]
  },
  {
   "cell_type": "markdown",
   "metadata": {},
   "source": [
    "<div class=\"task\">\n",
    "    <h3>Aufgabe</h3>\n",
    "    <div>\n",
    "        <p>\n",
    "        Implementieren Sie die Verschlüsselung und entschlüsseln Sie damit den folgenden Text. Der Schlüssel ist X.\n",
    "        </p>\n",
    "        <p>\n",
    "            <b>Hinweis:</b> Um von einer Ordnungszahl $x$ eine andere Ordnungszahl $y$ abzuziehen und Modul 26 zu rechnen, \n",
    "            sollte man besser $(26-y)$ auf $x$ addieren, d.h. $$(x-y) \\mod 26 = ( x + (26-y)) \\mod 26$$\n",
    "        </p>\n",
    "    </div>\n",
    "</div>"
   ]
  },
  {
   "cell_type": "code",
   "execution_count": 1,
   "metadata": {},
   "outputs": [],
   "source": [
    "#include <iostream>\n",
    "using namespace std;\n",
    "\n",
    "char schluessel = 'X';\n",
    "string nachricht = \"BMFPLAB FS\\n\\\n",
    "KBRB ELCCKRKD\\n\\\n",
    "BP EBOOPZEQ YRBODBOHOFBD. AFB OBYBIIBK, ABOBK OXRJPZEFCCB SLK BFKBJ DBEBFJBK\\n\\\n",
    "PQRBQWMRKHQ XRP XKDOBFCBK, EXYBK FEOBK BOPQBK PFBD DBDBK AXP YLBPB DXIXHQFPZEB\\n\\\n",
    "FJMBOFRJ BOORKDBK. TXBEOBKA ABO PZEIXZEQ FPQ BP PMFLKBK ABO OBYBIIBK DBIRKDBK,\\n\\\n",
    "DBEBFJMIXBKB RBYBO AFB XYPLIRQB TXCCB ABP FJMBOFRJP FK FEOBK YBPFQW WR YOFKDBK,\\n\\\n",
    "ABK QLABPPQBOK, BFKB YBTXCCKBQB OXRJPQXQFLK, ABOBK CBRBOHOXCQ XRPOBFZEQ, RJ\\n\\\n",
    "BFKBK DXKWBK MIXKBQBK WR SBOKFZEQBK. SBOCLIDQ SLK ABK CFKPQBOBK XDBKQBK ABP\\n\\\n",
    "FJMBOFRJP, GXDQ MOFKWBPPFK IBFX XK YLOA FEOBP PQBOKBKPZEFCCBP KXZE EXRP, XIP\\n\\\n",
    "ERBQBOFK ABO BOYBRQBQBK MIXBKB, AFB FEO SLIH OBQQBK RKA ABO DXIXUFB AFB COBFEBFQ\\n\\\n",
    "TFBABODBYBK HLBKKQBK...\\n\\\n",
    "\\n\\\n",
    "\\n\\\n",
    "BMFPLAB S\\n\\\n",
    "AXP FJMBOFRJ PZEIXBDQ WRORBZH\\n\\\n",
    "BP FPQ BFKB ARKHIB WBFQ CRBO AFB OBYBIIFLK. LYTLEI ABO QLABPPQBOK SBOKFZEQBQ\\n\\\n",
    "TLOABK FPQ, EXYBK FJMBOFXIB PQOBFQHOXBCQB AFB OBYBIIBK XRP FEOBJ SBOQBZHQBK\\n\\\n",
    "PQRBQWMRKHQ SBOQOFBYBK RKA HOBRW RKA NRBO AROZE AFB DXIXUFP SBOCLIDQ. KXZEABJ PFB\\n\\\n",
    "ABO DBCRBOZEQBQBK FJMBOFXIBK PQBOKBKCILQQB BKQHLJJBK FPQ, EXQ GBALZE BFKB DORMMB\\n\\\n",
    "SLK COBFEBFQPHXBJMCBOK RKQBO ABO CRBEORKD SLK IRHB PHVTXIHBO BFKBK KBRBK, DBEBFJBK\\n\\\n",
    "PQRBQWMRKHQ FK ABO XYDBIBDBKBK BFPTRBPQB SLK ELQE BOOFZEQBQ. ALZE ABO QBRCIFPZEB\\n\\\n",
    "AXOE SXABO KRO SLK ABJ DBAXKHBK YBPBPPBK, ABK GRKDBK PHVTXIHBO XRCWRPMRBOBK - EXQ\\n\\\n",
    "QXRPBKAB CBOKDBPQBRBOQB OXRJPLKABK YFP FK AFB BKQIBDBKPQBK YBOBFZEB ABP TBIQXIIP\\n\\\n",
    "BKQPXKAQ...\\n\\\n",
    "\\n\\\n",
    "\\n\\\n",
    "BMFPLAB SF\\n\\\n",
    "AFB ORBZHHBEO ABO GBAF-OFQQBO\\n\\\n",
    "IRHB PHVTXIHBO FPQ XRC PBFKBJ EBFJXQMIXKBQBK QXQQRFK WRORBZHDBHBEOQ, RJ PBFKBK\\n\\\n",
    "COBRKA EXK PLIL ABK HIXRBK ABP RBYIBK DXKDPQBOP GXYYX QEB ERQQ WR BKQOBFPPBK.\\n\\\n",
    "IRHB XEKQ KFZEQ, AXPP AXP DXIXHQFPZEB FJMBOFRJ FJ DBEBFJBK JFQ ABJ YXR BFKBO\\n\\\n",
    "KBRBK, YBTXCCKBQBK OXRJPQXQFLK YBDLKKBK EXQ - QLBAIFZEBO KLZE, XIP ABO\\n\\\n",
    "DBCRBOZEQBQB BOPQB QLABPPQBOK. JFQ AFBPBO XYPLIRQBK TXCCB KXEQ AXP PFZEBOB BKAB\\n\\\n",
    "CRBO AFB HIBFKB PZEXO SLK OBYBIIBK RKA FEOBJ HXJMC, ABO DXIXUFP AFB COBFEBFQ\\n\\\n",
    "TFBABOWRDBYBK...\""
   ]
  },
  {
   "cell_type": "code",
   "execution_count": 4,
   "metadata": {},
   "outputs": [],
   "source": [
    "// .. Platz für Sie"
   ]
  },
  {
   "cell_type": "markdown",
   "metadata": {},
   "source": [
    "<div class=\"followup\">\n",
    "    <h3>Wo es weitergeht</h3>\n",
    "    <div>\n",
    "        <a class=\"followup\" href=\"/user-redirect/algoviz/lessons/03_Fortgeschritten/00_Arrays.ipynb\">Arrays</a> haben gewisse Ähnlichkeiten zu Strings.\n",
    "    </div>\n",
    "</div>"
   ]
  }
 ],
 "metadata": {
  "kernelspec": {
   "display_name": "C++17",
   "language": "C++17",
   "name": "xcpp17"
  },
  "language_info": {
   "codemirror_mode": "text/x-c++src",
   "file_extension": ".cpp",
   "mimetype": "text/x-c++src",
   "name": "c++",
   "version": "17"
  }
 },
 "nbformat": 4,
 "nbformat_minor": 4
}
