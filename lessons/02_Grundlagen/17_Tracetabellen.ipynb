{
 "cells": [
  {
   "cell_type": "markdown",
   "metadata": {},
   "source": [
    "# Tracetabellen und Sichtbarkeit von Variablen"
   ]
  },
  {
   "cell_type": "markdown",
   "metadata": {},
   "source": [
    "<div class=\"prereq\">\n",
    "    <h3>Was man kennen sollte</h3>\n",
    "    <div>\n",
    "        <a class=\"prereq\" href=\"/user-redirect/lessons/02_Grundlagen/13_Zaehlschleifen\">Zählschleifen</a>\n",
    "    </div>\n",
    "</div>    "
   ]
  },
  {
   "cell_type": "markdown",
   "metadata": {},
   "source": [
    "<div class=\"slideshow /02_Grundlagen/17_Tracetabellen/slides.json\">Tracetabellen</div>"
   ]
  },
  {
   "cell_type": "markdown",
   "metadata": {},
   "source": [
    "**Tracetabellen** sind ein sehr wichtiges Werkzeug, um sich die Abläufe in Algorithmen deutlich zu machen. Insbesondere beim Finden von Fehlern können Sie sehr hilfreich sein."
   ]
  },
  {
   "cell_type": "markdown",
   "metadata": {},
   "source": [
    "<div class=\"task\">\n",
    "    <h3>Aufgabe</h3>\n",
    "    <div>\n",
    "        <p>\n",
    "            Versuchen Sie mit Hilfe einer Tracetabelle herauszubekommen, warum der Algorithmus nicht terminiert.\n",
    "        </p>\n",
    "        <p>\n",
    "            Können Sie anfängliche Werte für unten und oben finden, bei denen er terminiert?\n",
    "        </p>\n",
    "    </div>\n",
    "</div>    "
   ]
  },
  {
   "cell_type": "code",
   "execution_count": null,
   "metadata": {},
   "outputs": [],
   "source": [
    "#include <iostream>\n",
    "\n",
    "using namespace std;\n",
    "\n",
    "int unten = 0;\n",
    "int oben = 100;\n",
    "int mitte = 0;\n",
    "\n",
    "while ( unten < oben ) {\n",
    "        mitte = (unten + oben)/2; \n",
    "    \n",
    "        if ( mitte % 2 == 0 ) {\n",
    "            unten = mitte;\n",
    "        } else {\n",
    "            oben = mitte;\n",
    "        }\n",
    "}"
   ]
  },
  {
   "cell_type": "markdown",
   "metadata": {},
   "source": [
    "## Variablen in For-Schleifen\n",
    "\n",
    "Wie in der Slideshow bereits gesagt, kommt es darauf an, wo Variablen deklariert werden.\n",
    "\n",
    "Das Erste Beispiel deklariert die Variable `zaehler` vor der Schleife. Dadurch ist sie auch im Schleifenrumpf und nach der Schleife bekannt. Das Beispiel wurde in der Slideshow vorgeführt."
   ]
  },
  {
   "cell_type": "code",
   "execution_count": 1,
   "metadata": {},
   "outputs": [
    {
     "name": "stdout",
     "output_type": "stream",
     "text": [
      "5\n"
     ]
    }
   ],
   "source": [
    "#include <iostream>\n",
    "\n",
    "using namespace std;\n",
    "\n",
    "int zaehler = 0;\n",
    "int summe = 0;\n",
    "\n",
    "for ( zaehler = 0 ; zaehler < 5; zaehler = zaehler + 1 ) {\n",
    "    summe = summe + zaehler;\n",
    "}\n",
    "\n",
    "cout << zaehler << endl;"
   ]
  },
  {
   "cell_type": "markdown",
   "metadata": {},
   "source": [
    "Beim zweiten Beispiel wird die Variable `zaehler2` erst in der Initialisierung der For-Schleife deklariert. Dann existiert sie nur **innerhalb des Schleifenrumpfs** und während der Durchführung der Schleife. Ist die Schleife beendet, existiert sie nicht mehr. Daher führt das Ausführen der Zelle zu einem Fehler."
   ]
  },
  {
   "cell_type": "code",
   "execution_count": 5,
   "metadata": {},
   "outputs": [
    {
     "name": "stderr",
     "output_type": "stream",
     "text": [
      "\u001b[1minput_line_16:7:9: \u001b[0m\u001b[0;1;31merror: \u001b[0m\u001b[1muse of undeclared identifier 'zaehler2'\u001b[0m\n",
      "cout << zaehler2 << endl;\n",
      "\u001b[0;1;32m        ^\n",
      "\u001b[0m"
     ]
    },
    {
     "ename": "Interpreter Error",
     "evalue": "",
     "output_type": "error",
     "traceback": [
      "Interpreter Error: "
     ]
    }
   ],
   "source": [
    "#include <iostream>\n",
    "\n",
    "using namespace std;\n",
    "\n",
    "int summe = 0;\n",
    "\n",
    "for ( int zaehler2 = 0 ; zaehler2 < 5; zaehler2 = zaehler2 + 1 ) {\n",
    "    summe = summe + zaehler2;\n",
    "}\n",
    "\n",
    "cout << zaehler2 << endl;"
   ]
  },
  {
   "cell_type": "markdown",
   "metadata": {},
   "source": [
    "Die Meldung `input_line_16:7:9: error: use of undeclared identifier 'zaehler2'` besagt, dass in Zeile 7 der Zelle\n",
    "die Variable `zaehler2` nicht bekannt ist.\n",
    "\n",
    "Das Ganz geht aber noch weiter. Sehen Sie sich den folgenden Programmcode an. Führen Sie ihn aus und versuchen Sie den Effekt zu erklären."
   ]
  },
  {
   "cell_type": "code",
   "execution_count": 1,
   "metadata": {},
   "outputs": [
    {
     "name": "stdout",
     "output_type": "stream",
     "text": [
      "summe = 10\n",
      "zaehler3 = -42\n"
     ]
    }
   ],
   "source": [
    "#include <iostream>\n",
    "\n",
    "using namespace std;\n",
    "\n",
    "int zaehler3 = -42;\n",
    "int summe = 0;\n",
    "\n",
    "for ( int zaehler3 = 0 ; zaehler3 < 5; zaehler3 = zaehler3 + 1 ) {\n",
    "    summe = summe + zaehler3;\n",
    "}\n",
    "\n",
    "cout << \"summe = \" << summe << endl;\n",
    "cout << \"zaehler3 = \" << zaehler3 << endl;"
   ]
  },
  {
   "cell_type": "markdown",
   "metadata": {},
   "source": [
    "Hier gibt es **zwei** Variablen `zaehler3`. Die erste wird außerhalb der Schleife deklariert und mit dem Wert `-42` initialisiert.\n",
    "\n",
    "In der Initialisierung der For-Schleife wird eine **zweite** Variable `zaehler3` deklariert, die die äußere **überdeckt**.\n",
    "Während des Schleifendurchlaufs wird immer auf die innere Version zugegriffen. Dadurch durchläuft sie die Werte 0 bis 4 und sie werden auf `summe` addiert.\n",
    "\n",
    "Am Ende hat also die Variable Summe den Wert wie im ersten Beispiel. \n",
    "\n",
    "Das `zaehler3`, dessen Wert am Ende ausgegeben wird ist aber die äußere Version, die mit -42 initialisiert und **nicht** verändert wurde!"
   ]
  },
  {
   "cell_type": "markdown",
   "metadata": {},
   "source": [
    "<div class=\"task\">\n",
    "    <h3>Merksatz</h3>\n",
    "    <div>\n",
    "        <p>\n",
    "        Eine Variable existiert nur in dem Block (und allen in ihm enthaltenen Blöcken), in dem sie deklariert wurde.\n",
    "        </p>\n",
    "        <p>\n",
    "            Variablen die in einem inneren Block deklariert wurden <b>überdecken</b> Variablen gleichen Namens, \n",
    "            die in äußeren Blöcken deklariert wurden.\n",
    "        </p>\n",
    "    </div>\n",
    "</div>    "
   ]
  },
  {
   "cell_type": "markdown",
   "metadata": {},
   "source": [
    "<div class=\"followup\">\n",
    "    <h3>Wo es weiter geht</h3>\n",
    "    <div>\n",
    "        Mit <a class=\"followup\" href=\"/user-redirect/algoviz/lessons/02_Grundlagen/16_Strings.ipynb\">Strings und Zeichen</a> geht es weiter.\n",
    "    </div>\n",
    "</div>    "
   ]
  }
 ],
 "metadata": {
  "kernelspec": {
   "display_name": "C++17",
   "language": "C++17",
   "name": "xcpp17"
  },
  "language_info": {
   "codemirror_mode": "text/x-c++src",
   "file_extension": ".cpp",
   "mimetype": "text/x-c++src",
   "name": "c++",
   "version": "17"
  }
 },
 "nbformat": 4,
 "nbformat_minor": 4
}
