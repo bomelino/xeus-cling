{
 "cells": [
  {
   "cell_type": "markdown",
   "metadata": {},
   "source": [
    "# Die Umwandlung zwischen Binär- und Dezimalzahlen"
   ]
  },
  {
   "cell_type": "markdown",
   "metadata": {},
   "source": [
    "<div class=\"prereq\">\n",
    "    <h3>Was man wissen solte</h3>\n",
    "    <div>\n",
    "        <ul>\n",
    "        <li><a class=\"prereq\" href=\"/user-redirect/algoviz/lessons/02_Grundlagen/00_Binaerzahlen.ipynb\">Bits, Bytes und Binärzahlen</a></li>\n",
    "        <li><a class=\"prereq\" href=\"/user-redirect/algoviz/lessons/02_Grundlagen/03_Ints.ipynb\">Integer-Typen</a></li>\n",
    "        <li><a class=\"prereq\" href=\"/user-redirect/algoviz/lessons/02_Grundlagen/12_Schleifen.ipynb\">Schleifen</a></li>\n",
    "        </ul>\n",
    "    </div>\n",
    "</div>"
   ]
  },
  {
   "cell_type": "markdown",
   "metadata": {},
   "source": [
    "<div class=\"task\">\n",
    "    <video width=\"100%\" src=\"https://abbozza.informatik.uos.de/aud/slideshows/shows/02_Grundlagen/Mini_DezimalZuBinaer.webm\" controls/>\n",
    "</div>"
   ]
  },
  {
   "cell_type": "markdown",
   "metadata": {},
   "source": [
    "Nachdem wir den Algorithmus entwickelt und verstanden haben, soll er implementiert werden. Den Pseudocode finden wir bei 5:40 im Video.\n",
    "\n",
    "Bevor er implementiert werden kann, muss noch geklärt werden, wie man feststellt, ob eine Zahl gerade ist. Dabei hilft uns der **Divisionsrest**, denn eine Zahl ist genau dann gerade, wenn sie bei der Division durch 2 den Rest 0 hat.\n",
    "Also ergibt `x % 2`genau dann 0, wenn $x$ gerade ist. Damit ist die Aufgabe lösbar."
   ]
  },
  {
   "cell_type": "markdown",
   "metadata": {},
   "source": [
    "<div class=\"task\">\n",
    "    <h3>Aufgabe</h3>\n",
    "    <div>\n",
    "        <p>\n",
    "        Ergänzen Sie das Programm, so dass die eingegebene Zahl in ihre Binärdarstellung umgewandelt wird. Stellen Sie außerdem sicher, dass das eingegebene x nicht kleiner als 0 ist.\n",
    "        </p>\n",
    "        <p>\n",
    "            <b>Hinweis:</b> Sie können einen String einfach durch <em>Addition</em> um ein Zeichen verlängern:\n",
    "            <tt>binaer = \"0\" + binaer;</tt> hängt vorne eine 0 davor.\n",
    "        </p>\n",
    "    </div>\n",
    "</div>"
   ]
  },
  {
   "cell_type": "code",
   "execution_count": null,
   "metadata": {},
   "outputs": [],
   "source": [
    "#include <iostream>\n",
    "\n",
    "int x;\n",
    "std::string binaer = \"\";\n",
    "\n",
    "std::cout << \"Geben Sie x ein : \";\n",
    "std::cin >> x;\n",
    "\n",
    "// ...\n",
    "// ...\n",
    "\n",
    "std::cout << \"Die Binärdarstellung von \" << x << \" ist : \" << binaer << std::endl;\n"
   ]
  },
  {
   "cell_type": "markdown",
   "metadata": {},
   "source": [
    "<div class=\"followup\">\n",
    "    <h3>Weiter gehts mit ...</h3>\n",
    "    <div>\n",
    "        <a class=\"followup\" href=\"/user-redirect/algoviz/lessons/02_Grundlagen/13_Zaehlschleifen.ipynb\">Zählschleifen</a>\n",
    "    </div>\n",
    "</div>    "
   ]
  }
 ],
 "metadata": {
  "kernelspec": {
   "display_name": "C++17",
   "language": "C++17",
   "name": "xcpp17"
  },
  "language_info": {
   "codemirror_mode": "text/x-c++src",
   "file_extension": ".cpp",
   "mimetype": "text/x-c++src",
   "name": "c++",
   "version": "17"
  }
 },
 "nbformat": 4,
 "nbformat_minor": 4
}
