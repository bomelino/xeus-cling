{
 "cells": [
  {
   "cell_type": "markdown",
   "metadata": {},
   "source": [
    "# Entscheidungsanweisungen\n",
    "\n",
    "Es wird Zeit für die erste Kontrollstuktur: **Entscheidungsanweisungen**. Dabei werden **Bedingungen** geprüft und je nachdem, wie sie ausgehen, kann das Programm dann unterschiedliche Dinge tun.\n",
    "\n",
    "Um das zu verdeutlichen, sehen wir uns ein einfaches Beispiel an."
   ]
  },
  {
   "cell_type": "code",
   "execution_count": 1,
   "metadata": {},
   "outputs": [],
   "source": [
    "#include <algoviz/SVG.hpp>\n",
    "SVG zeichnung = SVG(420,420);\n",
    "Circle kreis = Circle(0,210,20,&zeichnung);\n",
    "kreis.setFill(\"black\");"
   ]
  },
  {
   "cell_type": "code",
   "execution_count": 2,
   "metadata": {},
   "outputs": [],
   "source": [
    "int x =  0;\n",
    "\n",
    "for (int i = 0; i < 1000; i = i+1 ) {\n",
    "    x = x + 1;\n",
    "    kreis.moveTo(x,210);\n",
    "    AlgoViz::sleep(20);\n",
    "}"
   ]
  },
  {
   "cell_type": "markdown",
   "metadata": {},
   "source": [
    "Die Funktionsweise des Programms ist ganz einfach. Die Variabel `x` ist die x-Koordinate des Kreises. Siwe eird in jedem Durchlauf der Zählschleife um eins erhöht. und der Kreis an die neue Position verschoben. Dadurch läuft er nach rechts und verlässt irgendwann die Zeichnung.\n",
    "\n",
    "Unser Ziel ist es, das der Kreis am Rand der Zeichnung \"umdreht\" und nach links läuft. Erreicht er dann den linken Rand soll er wieder umdrehen. D.h. er soll sein Verhalten ändern. Also müssen wir unterschiedliche Dinge ausführen. Dazu müssen wir uns überlegen, wie wir **entscheiden** was in welcher **Situation** tun ist. Dazu müssen wir erstmal wissen in welcher Situation wir sind.\n",
    "\n",
    "Ein Teil der aktuellen **Situation** ist die Position des Kreises. Die andere Komponente ist die Richtung in die sich der Kreis gerade bewegt. Die beiden Aspekte helfen uns, das gewünschte Verhalten zu beschreiben.\n",
    "\n",
    "> Wenn sich der Kreis gerade nach rechts bewegt **und** am rechten Rand ist, dann ändere die Richtung.\n",
    ">\n",
    "> Wenn sich der Kreis gerade nach links bewegt **und** am linken Rand ist, dann ändere die Richtung.\n",
    ">\n",
    "> Ansonsten bewegt sich der Kreis in die aktuelle Richtung.\n",
    "\n",
    "Beide ersten Fälle enthalten jeweils zwei **Bedingungen**. Eine für die Richtung und eine für die Position.\n",
    "\n",
    "Verwenden wir einen **Entscheidungsbaum** können wir das Ganze auch etwas anders beschreiben.\n",
    "\n",
    "![Der Entscheidungsbaum](/user-redirect/algoviz/img/Entscheidungen_Entscheidungsbaum.png)\n",
    "\n",
    "Ein **Entscheidungsbaum** beginnt mit einem Knoten, der **Wurzel**, in dem eine **Ja-Nein-Frage** gestellt wird. Entsprechend der Antwort schließen sich entweder weitere **innere Knoten** mit weiteren Fragen an, oder **Blätter**, die zu einer **Antwort** oder **Aktion** führen.\n",
    "\n",
    "Um zu entscheiden, was getan werden soll, geht man nun die Knoten entlang. Man beantwortet in der jeweiligen Situation die Frage und entscheidet so, zu welchem Knoten man als nächstes geht.\n",
    "\n",
    "Man beachte, dass wir bei dem Entscheidungsbaum ausgenutzt haben, dass sich der Kreis, wenn er nicht nach rechts läuft, nach links bewegt. D.h. die Frage \"Bewegt sich der Kreis nach rechts?\" wird immer gegenteilig zur Frage \"Bewgt sich der Kreis nach links?\" beantwortet (wir ignorieren mal die Möglichkeit, dass der Kreis sich nicht bewegt).\n",
    "\n",
    "Wir können den Entscheidungsbaum auch als [**Struktogramm**](/user-redirect/algoviz/lessons/01_Algorithmen/04_Algorithmendarstellungen.ipynb) darstellen.\n",
    "\n",
    "![Das Struktogramm](/user-redirect/algoviz/img/Entscheidungen_Struktogramm.png)\n",
    "\n",
    "Und das wollen wir im Folgenden implementieren. Dazu müssen wir aber ein paar Fragen beantworten:\n",
    "\n",
    "* Wie können wir feststellen, ob sich der Kreis nach rechts bewegt?\n",
    "* Wie können wir feststellen, ob der Kreis sich am linken oder rechten Rand befindet?\n",
    "* Wie ändern wir die Richtung?\n",
    "* Wie bewegt sich der Kreis nach links oder rechts?"
   ]
  },
  {
   "cell_type": "markdown",
   "metadata": {},
   "source": [
    "### Wie bewegt sich der Kreis nach links oder rechts?\n",
    "\n",
    "Dies ist die einfachste Frage. Wir haben sie schon beantwortet. Die aktuelle Position des Kreises ist in der Variable `x` gespeichert. Also bewegt er sich nach rechts, wenn `x` erhöhen und nach links, wenn wir sie senken. In beiden Fällen müssen wir anschließend die Position aber auch noch mit `moveTo()` aktualisieren.\n",
    "\n",
    "Tragen wir die Änderungen schon im Struktogramm ein:\n",
    "\n",
    "![Das Struktogramm](/user-redirect/algoviz/img/Entscheidungen_Struktogramm2.png)"
   ]
  },
  {
   "cell_type": "markdown",
   "metadata": {},
   "source": [
    "### Wie können wir feststellen, ob der Kreis sich am linken oder recten Rand befindet?\n",
    "\n",
    "Dazu können wir die aktuelle Position in `x` nutzen. Am linken Rand hat `x` den Wert 0 und am rechten 419. Die 419 ist dabei die Nummer des 420. Pixels (wir beginnen bei 0!). Damit können wir die beiden Fragen ersetzen.\n",
    "\n",
    "![Das Struktogramm](/user-redirect/algoviz/img/Entscheidungen_Struktogramm3.png)"
   ]
  },
  {
   "cell_type": "markdown",
   "metadata": {},
   "source": [
    "### Wie können wir feststellen, ob sich der Kreis nach rechts bewegt?\n",
    "\n",
    "Dazu verwenden wir eine Variable in der wir die aktuelle Richtung speichern. Dabei müssen wir uns nur merken \"rechts oder nicht?\". Das hört sich nach einem Boolean an. Also führen wir eine neue Variable `rechts` vom Typ `bool` ein, die `true` ist, wenn sich der Kreis nach rechts bewegt und `false` sonst. Damit ergeben sich die folgenden Änderungen am Struktogramm:\n",
    "\n",
    "![Das Struktogramm](/user-redirect/algoviz/img/Entscheidungen_Struktogramm4.png)"
   ]
  },
  {
   "cell_type": "markdown",
   "metadata": {},
   "source": [
    "Die Änderung der Richtung haben wir gleich mit erledigt. Durch die Änderung des Wertes von `rechts` können wir auf einfache Art die Richtung des Kreises beeinflussen."
   ]
  },
  {
   "cell_type": "markdown",
   "metadata": {},
   "source": [
    "Jetzt müssen wir uns noch um die **Ja-Nein-Fragen** kümmern. Wir müssen Sie als **Bedingungen** bzw. **Boolesche Ausdrücke** formulieren."
   ]
  },
  {
   "cell_type": "markdown",
   "metadata": {},
   "source": [
    "# Boolesche Ausdrücke"
   ]
  },
  {
   "cell_type": "markdown",
   "metadata": {},
   "source": [
    "<div class=\"slideshow /02_Grundlagen/14_BoolescheAusdruecke/slides.json\">Boolesche Ausdrücke</div>"
   ]
  },
  {
   "cell_type": "markdown",
   "metadata": {},
   "source": [
    "<div class=\"followup\">\n",
    "    <h3>Möglicher Einschub</h3>\n",
    "    <div>\n",
    "        An dieser Stlle könnten Sie einen kleinen Einschub machen und sich genauer mit den Unterschieden zwischen <a class=\"followup\" href=\"/user-redirect/algoviz/lessons/02_Grundlagen/15_Vergleich.ipynb\">Vergleich und Zuweisung</a> beschäftigen. Alternativ verschiebnen Sie das ans Ende dieser Lesson.\n",
    "    </div>\n",
    "</div>    "
   ]
  },
  {
   "cell_type": "markdown",
   "metadata": {},
   "source": [
    "Jetzt können wir unsere Ja-Nein-Fragen direkt durch Boolesche Ausdrücke ersetzen:\n",
    "\n",
    "![Das Struktogramm](/user-redirect/algoviz/img/Entscheidungen_Struktogramm5.png)\n",
    "\n",
    "Und damit brauchen wir jetzt \"nur noch\" die Syntax von **Entscheidungsanweisungen**."
   ]
  },
  {
   "cell_type": "markdown",
   "metadata": {},
   "source": [
    "<div class=\"slideshow /02_Grundlagen/11_Entscheidungen/slides.json\">Entscheidungsanweisungen</div>"
   ]
  },
  {
   "cell_type": "markdown",
   "metadata": {},
   "source": [
    "In der Slideshow haben wir den Quelltext für das Struktogramm entwickelt. Was wir noch hinzufügen müssen sind:\n",
    "* Die Deklarationen der Variablen `x` und `rechts`\n",
    "* Die Schleife zur Wiederholung des ganzen.\n",
    "\n",
    "Letztere können wir einfach von oben übernehmen. Dabei wird unsere Etnscheidungsanweisung in einen eiteren Block, den **Schleifenrumpf** eingebettet.\n",
    "\n",
    "Die Variable `x` hatten wir auch schon. Neu ist aber der **Boolean** `rechts`. Da der Kreis anfänglich nach rechts laufen soll, setzen wir ihn auf `true`."
   ]
  },
  {
   "cell_type": "code",
   "execution_count": 3,
   "metadata": {},
   "outputs": [],
   "source": [
    "int x =  0;\n",
    "bool rechts = true;\n",
    "\n",
    "for (int i = 0; i < 10000; i = i+1 ) {\n",
    "    if ( rechts == true ) {\n",
    "        if ( x == 419 ) {\n",
    "            rechts = false;\n",
    "        } else {\n",
    "            x = x + 1;\n",
    "        }\n",
    "    } else {\n",
    "        if ( x == 0 ) {\n",
    "            rechts = true;\n",
    "        } else {\n",
    "            x = x - 1;\n",
    "        }    \n",
    "    }\n",
    "    kreis.moveTo(x,210);\n",
    "    AlgoViz::sleep(2);\n",
    "}"
   ]
  },
  {
   "cell_type": "markdown",
   "metadata": {},
   "source": [
    "Wie man sieht läuft der Kreis jetzt hin und her. Um ihn länger laufen zu lassen, muss nur die obere Grenze der Zählschleife erhöht werden. Damit wird die Bewegung dann einfach häufiger wiederholt."
   ]
  },
  {
   "cell_type": "markdown",
   "metadata": {},
   "source": [
    "<div class=\"task\">\n",
    "    <h3>Aufgabe</h3>\n",
    "    <div>\n",
    "        Ergänzen Sie den Codeabschnitt so, dass der Kreis gleichzietig mit <b>doppelter Geschwindigkeit</b> hoch und runter läuft. Er soll auch am oberen und unteren Rand abprallen.\n",
    "    </div>\n",
    "</div>"
   ]
  },
  {
   "cell_type": "markdown",
   "metadata": {},
   "source": [
    "<div class=\"task\">\n",
    "    <h3>Aufgabe</h3>\n",
    "    <div>\n",
    "        Lassen Sie statt des Balls die Tardis laufen. Sie soll sich gleichzeitig drehen!\n",
    "    </div>\n",
    "</div>"
   ]
  },
  {
   "cell_type": "markdown",
   "metadata": {},
   "source": [
    "<div class=\"followup\">\n",
    "    <h3>Wo es weiter geht</h3>\n",
    "    <div>\n",
    "        Wenn noch nicht geschehen, sollten Sie sich mit dem Unterschied zwischen <a class=\"followup\" href=\"/user-redirect/algoviz/lessons/02_Grundlagen/15_Vergleich.ipynb\">Vergleich und Zuweisung</a> beschäftigen. Ansonsten geht es weiter mit\n",
    "        <a class=\"followup\" href=\"/user-redirect/algoviz/lessons/02_Grundlagen/04_Booleans.ipynb\">Booleans</a>. </div>\n",
    "</div>"
   ]
  }
 ],
 "metadata": {
  "kernelspec": {
   "display_name": "C++17",
   "language": "C++17",
   "name": "xcpp17"
  },
  "language_info": {
   "codemirror_mode": "text/x-c++src",
   "file_extension": ".cpp",
   "mimetype": "text/x-c++src",
   "name": "c++",
   "version": "17"
  }
 },
 "nbformat": 4,
 "nbformat_minor": 4
}
