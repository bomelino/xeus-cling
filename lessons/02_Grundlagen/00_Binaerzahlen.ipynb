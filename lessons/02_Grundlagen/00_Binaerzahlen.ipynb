{
 "cells": [
  {
   "cell_type": "markdown",
   "metadata": {},
   "source": [
    "# Binärzahlen"
   ]
  },
  {
   "cell_type": "markdown",
   "metadata": {},
   "source": [
    "<div class=\"slideshow /02_Grundlagen/00_Binaerzahlen/slides.json\">Bits, Bytes und Binärzahlen</div>"
   ]
  },
  {
   "cell_type": "markdown",
   "metadata": {},
   "source": [
    "Wie bereits im Video gesehen kann man in C++ die Binärdarstellung direkt verwenden. Man stellt einfach den **Präfix** `0b` vor die Folge der Bits."
   ]
  },
  {
   "cell_type": "code",
   "execution_count": null,
   "metadata": {},
   "outputs": [],
   "source": [
    "0b00101010"
   ]
  },
  {
   "cell_type": "markdown",
   "metadata": {},
   "source": [
    "Man kann die Anzahl der Bits auch erhöhen und die jeweils größte darstellbare Zahl erhalten. Fangen wir mit 16 Bit (2 Byte) an:"
   ]
  },
  {
   "cell_type": "code",
   "execution_count": null,
   "metadata": {},
   "outputs": [],
   "source": [
    "0b1111111111111111"
   ]
  },
  {
   "cell_type": "markdown",
   "metadata": {},
   "source": [
    "Und 24 Bit (3 Byte):"
   ]
  },
  {
   "cell_type": "code",
   "execution_count": null,
   "metadata": {},
   "outputs": [],
   "source": [
    "0b111111111111111111111111"
   ]
  },
  {
   "cell_type": "markdown",
   "metadata": {},
   "source": [
    "und 32 Bit (4 Byte):"
   ]
  },
  {
   "cell_type": "code",
   "execution_count": null,
   "metadata": {},
   "outputs": [],
   "source": [
    "0b11111111111111111111111111111111"
   ]
  },
  {
   "cell_type": "markdown",
   "metadata": {},
   "source": [
    "40 Bit (5 Byte)"
   ]
  },
  {
   "cell_type": "code",
   "execution_count": null,
   "metadata": {},
   "outputs": [],
   "source": [
    "0b1111111111111111111111111111111111111111"
   ]
  },
  {
   "cell_type": "markdown",
   "metadata": {},
   "source": [
    "48 Bit (6 Byte)"
   ]
  },
  {
   "cell_type": "code",
   "execution_count": null,
   "metadata": {},
   "outputs": [],
   "source": [
    "0b111111111111111111111111111111111111111111111111"
   ]
  },
  {
   "cell_type": "markdown",
   "metadata": {},
   "source": [
    "56 Bit (7 Byte)"
   ]
  },
  {
   "cell_type": "code",
   "execution_count": null,
   "metadata": {},
   "outputs": [],
   "source": [
    "0b11111111111111111111111111111111111111111111111111111111"
   ]
  },
  {
   "cell_type": "markdown",
   "metadata": {},
   "source": [
    "64 Bit (8 Byte)"
   ]
  },
  {
   "cell_type": "code",
   "execution_count": null,
   "metadata": {},
   "outputs": [],
   "source": [
    "0b1111111111111111111111111111111111111111111111111111111111111111"
   ]
  },
  {
   "cell_type": "markdown",
   "metadata": {},
   "source": [
    "72 Bit (9 Byte)"
   ]
  },
  {
   "cell_type": "code",
   "execution_count": null,
   "metadata": {},
   "outputs": [],
   "source": [
    "0b111111111111111111111111111111111111111111111111111111111111111111111111"
   ]
  },
  {
   "cell_type": "markdown",
   "metadata": {},
   "source": [
    "Ups! Da ist was schief gegangen!\n",
    "    \n",
    "Wie es scheint, stehen für einen Integer nur 64 Bit zur Verfügung (probieren Sie mal 65 Bit aus).\n",
    "Das hängt mit der sogenannten **Architektur** ihres Computers, bzw. des verwendeten [**Prozessors**](https://de.wikipedia.org/wiki/Prozessor) ab. In der Regel dürfte das ein **64 Bit** Prozessor sein (Sie sehen den Zusammenhang).\n",
    "\n",
    "Haben Sie einen älteren Rechner, könnte das Problem bereits bei 32 Bit aufgetreten sein. Bei noch älteren bereits bei 16 Bit."
   ]
  },
  {
   "cell_type": "markdown",
   "metadata": {},
   "source": [
    "## Hexadezimal\n",
    "\n",
    "**Hexadezimalzahlen** kann man mit dem Präfix `0x` nutzen."
   ]
  },
  {
   "cell_type": "code",
   "execution_count": 6,
   "metadata": {},
   "outputs": [
    {
     "data": {
      "text/plain": [
       "45054"
      ]
     },
     "execution_count": 6,
     "metadata": {},
     "output_type": "execute_result"
    }
   ],
   "source": [
    "0xAFFE // Ein Affe geht."
   ]
  },
  {
   "cell_type": "code",
   "execution_count": 7,
   "metadata": {},
   "outputs": [
    {
     "name": "stderr",
     "output_type": "stream",
     "text": [
      "\u001b[1minput_line_18:2:7: \u001b[0m\u001b[0;1;31merror: \u001b[0m\u001b[1minvalid suffix 'R' on integer constant\u001b[0m\n",
      " 0xBAER // Aber ein Bär geht nicht.\n",
      "\u001b[0;1;32m      ^\n",
      "\u001b[0m"
     ]
    },
    {
     "ename": "Interpreter Error",
     "evalue": "",
     "output_type": "error",
     "traceback": [
      "Interpreter Error: "
     ]
    }
   ],
   "source": [
    "0xBAER // Aber ein Bär geht nicht."
   ]
  },
  {
   "cell_type": "markdown",
   "metadata": {},
   "source": [
    "Dabei muss man sich natürlich auf die erlaubten Ziffern 0 bis 9 und A bis F beschränken."
   ]
  },
  {
   "cell_type": "markdown",
   "metadata": {},
   "source": [
    "# Oktalzahlen\n",
    "\n",
    "Für Oktalzahlen muss man lediglich eine **führende 0** hinzufügen:"
   ]
  },
  {
   "cell_type": "code",
   "execution_count": 10,
   "metadata": {},
   "outputs": [
    {
     "data": {
      "text/plain": [
       "8"
      ]
     },
     "execution_count": 10,
     "metadata": {},
     "output_type": "execute_result"
    }
   ],
   "source": [
    "010"
   ]
  },
  {
   "cell_type": "markdown",
   "metadata": {},
   "source": [
    "Und auch hier muss man auf die erlaubten Ziffern achten."
   ]
  },
  {
   "cell_type": "code",
   "execution_count": 12,
   "metadata": {},
   "outputs": [
    {
     "name": "stderr",
     "output_type": "stream",
     "text": [
      "\u001b[1minput_line_25:2:3: \u001b[0m\u001b[0;1;31merror: \u001b[0m\u001b[1minvalid digit '8' in octal constant\u001b[0m\n",
      " 080\n",
      "\u001b[0;1;32m  ^\n",
      "\u001b[0m"
     ]
    },
    {
     "ename": "Interpreter Error",
     "evalue": "",
     "output_type": "error",
     "traceback": [
      "Interpreter Error: "
     ]
    }
   ],
   "source": [
    "080"
   ]
  },
  {
   "cell_type": "markdown",
   "metadata": {},
   "source": [
    "<div class=\"followup\">\n",
    "    <h3>Wo geht es weiter</h3>\n",
    "    <div><p>\n",
    "        Als nächstes empfehlen wir die Lesson <a class=\"followup\" href=\"/user-redirect/algoviz/lessons/02_Grundlagen/01_Datentypen.ipynb\">Datentypen</a>.\n",
    "        </p>\n",
    "        <p>\n",
    "           Als Perspektive bietet sich die <a class=\"perspective\" href=\"/user-redirect/algoviz/lessons/02_Grundlagen/20_UmwandlungBinaer.ipynb\">Umwandlung von Dezimalzahlen in Binärzahlen</a> an.\n",
    "        </p>            \n",
    "    </div>\n",
    "</div>"
   ]
  }
 ],
 "metadata": {
  "kernelspec": {
   "display_name": "C++17",
   "language": "C++17",
   "name": "xcpp17"
  },
  "language_info": {
   "codemirror_mode": "text/x-c++src",
   "file_extension": ".cpp",
   "mimetype": "text/x-c++src",
   "name": "c++",
   "version": "17"
  }
 },
 "nbformat": 4,
 "nbformat_minor": 4
}
