{
 "cells": [
  {
   "cell_type": "markdown",
   "metadata": {},
   "source": [
    "# Datentypen für Dezimalzahlen"
   ]
  },
  {
   "cell_type": "markdown",
   "metadata": {},
   "source": [
    "<div class=\"prereq\">\n",
    "    <h3>Was man wissen sollte</h3>\n",
    "    <div>\n",
    "        <a class=\"prereq\" href=\"/user-redirect/algoviz/lessons/02_Grundlagen/01_Datentypen.ipynb\">Datentypen</a>\n",
    "    </div>\n",
    "</div>"
   ]
  },
  {
   "cell_type": "markdown",
   "metadata": {},
   "source": [
    "<div class=\"slideshow /02_Grundlagen/07_Floats/slides.json\">Datentypen für Dezimalzahlen</div>"
   ]
  },
  {
   "cell_type": "code",
   "execution_count": 1,
   "metadata": {},
   "outputs": [],
   "source": [
    "#include <iostream>"
   ]
  },
  {
   "cell_type": "markdown",
   "metadata": {},
   "source": [
    "## Ein paar Experimente mit floats und doubles\n",
    "\n",
    "Probieren wir als erstes die kleinsten positiven Werte aus."
   ]
  },
  {
   "cell_type": "code",
   "execution_count": 2,
   "metadata": {},
   "outputs": [
    {
     "name": "stdout",
     "output_type": "stream",
     "text": [
      "1.17549e-38\n",
      "4.94066e-324\n"
     ]
    }
   ],
   "source": [
    "float minFloat = 1.17549e-038;\n",
    "double minDouble = 4.940656458412e-324;\n",
    "\n",
    "std::cout << minFloat << \"\\n\";\n",
    "std::cout << minDouble << \"\\n\";"
   ]
  },
  {
   "cell_type": "markdown",
   "metadata": {},
   "source": [
    "Weisen wir jetzt den kleinste `double` Wert einem `float`zu:"
   ]
  },
  {
   "cell_type": "code",
   "execution_count": 3,
   "metadata": {},
   "outputs": [
    {
     "name": "stdout",
     "output_type": "stream",
     "text": [
      "0\n"
     ]
    }
   ],
   "source": [
    "float klein = minDouble;\n",
    "\n",
    "std::cout << klein << std::endl;"
   ]
  },
  {
   "cell_type": "markdown",
   "metadata": {},
   "source": [
    "Wie man sieht wird der Wert auf 0 gerundet."
   ]
  },
  {
   "cell_type": "code",
   "execution_count": 4,
   "metadata": {},
   "outputs": [
    {
     "name": "stdout",
     "output_type": "stream",
     "text": [
      "16777219\n",
      "1.67772e+07\n"
     ]
    }
   ],
   "source": [
    "long lang = 16777219;\n",
    "float gross = lang;\n",
    "\n",
    "std::cout << lang << std::endl;\n",
    "std::cout << gross << std::endl;"
   ]
  },
  {
   "cell_type": "markdown",
   "metadata": {},
   "source": [
    "Wie es scheint haben wir in `gross` jetzt den Wert 16777200 statt 1677219. Aber es gibt noch ein Problem: Es werden nur fünf Stellen nach dem Komma angezeigt. Das kann man mit `std::setprecision(digits)` aber verändern. Fügt man es in die Ausgabe ein, werden die folgenden Gleitkommatypen mit der angegebenen Anzahl von Nachkommastellen ausgegeben."
   ]
  },
  {
   "cell_type": "code",
   "execution_count": 5,
   "metadata": {},
   "outputs": [
    {
     "name": "stdout",
     "output_type": "stream",
     "text": [
      "16777220\n"
     ]
    }
   ],
   "source": [
    "std::cout << std::setprecision(10) << gross << std::endl;"
   ]
  },
  {
   "cell_type": "markdown",
   "metadata": {},
   "source": [
    "Da ist die 16777220, wie in der Slideshow angegeben. Wie man sieht, wird durch die höher gestellte Zahl auch die sogenannte **wissenschaftliche Notation** mit Exponenten aufgelöst.\n",
    "\n",
    "Spielen wir noch etwas damit herum:"
   ]
  },
  {
   "cell_type": "code",
   "execution_count": 9,
   "metadata": {},
   "outputs": [
    {
     "name": "stdout",
     "output_type": "stream",
     "text": [
      "1e+09\n",
      "1e+09\n",
      "1.23e+09\n",
      "1.2346e+09\n",
      "1.234568e+09\n",
      "1.23456794e+09\n",
      "1234567936\n"
     ]
    }
   ],
   "source": [
    "float zahl = 1234567890.1234567890;\n",
    "\n",
    "std::cout << std::setprecision(0) << zahl << std::endl;\n",
    "std::cout << std::setprecision(1) << zahl << std::endl;\n",
    "std::cout << std::setprecision(3) << zahl << std::endl;\n",
    "std::cout << std::setprecision(5) << zahl << std::endl;\n",
    "std::cout << std::setprecision(7) << zahl << std::endl;\n",
    "std::cout << std::setprecision(9) << zahl << std::endl;\n",
    "std::cout << std::setprecision(10) << zahl << std::endl;"
   ]
  },
  {
   "cell_type": "markdown",
   "metadata": {},
   "source": [
    "Wie man sieht, wurden die Nachkommastellen \"vergessen\" und die letzten drei Ziffern stimmen nicht mehr. \n",
    "Das liegt einfach daran, dass der Wert 1234567890 bereits zu groß für eine Präzision unter 1 ist.\n",
    "\n",
    "Machen wir das Ganze mit einem `double` sieht es so aus:"
   ]
  },
  {
   "cell_type": "code",
   "execution_count": 10,
   "metadata": {},
   "outputs": [
    {
     "name": "stdout",
     "output_type": "stream",
     "text": [
      "1e+09\n",
      "1e+09\n",
      "1.23e+09\n",
      "1.2346e+09\n",
      "1.234568e+09\n",
      "1.23456789e+09\n",
      "1234567890\n"
     ]
    }
   ],
   "source": [
    "double praezise = 1234567890.1234567890;\n",
    "\n",
    "std::cout << std::setprecision(0) << praezise << std::endl;\n",
    "std::cout << std::setprecision(1) << praezise << std::endl;\n",
    "std::cout << std::setprecision(3) << praezise << std::endl;\n",
    "std::cout << std::setprecision(5) << praezise << std::endl;\n",
    "std::cout << std::setprecision(7) << praezise << std::endl;\n",
    "std::cout << std::setprecision(9) << praezise << std::endl;\n",
    "std::cout << std::setprecision(10) << praezise << std::endl;"
   ]
  },
  {
   "cell_type": "markdown",
   "metadata": {},
   "source": [
    "Jetzt stimmt das Resultat."
   ]
  },
  {
   "cell_type": "markdown",
   "metadata": {},
   "source": [
    "<div class=\"followup\">\n",
    "    <h3>Weitere Informationen</h3>\n",
    "    <div>\n",
    "        Wer mehr über die Speicherung von Dezimalzahlen erfahren möchte, sollte mit <a class=\"addon\" href=\"/user-redirect/algoviz/lessons/02_Grundlagen/08_Festkomma.ipynb\">Festkommazahlen</a> fortfahren.\n",
    "    </div>\n",
    "</div>"
   ]
  }
 ],
 "metadata": {
  "kernelspec": {
   "display_name": "C++17",
   "language": "C++17",
   "name": "xcpp17"
  },
  "language_info": {
   "codemirror_mode": "text/x-c++src",
   "file_extension": ".cpp",
   "mimetype": "text/x-c++src",
   "name": "c++",
   "version": "17"
  }
 },
 "nbformat": 4,
 "nbformat_minor": 4
}
