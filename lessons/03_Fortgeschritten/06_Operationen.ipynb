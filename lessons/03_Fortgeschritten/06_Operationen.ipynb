{
 "cells": [
  {
   "cell_type": "markdown",
   "metadata": {},
   "source": [
    "# Operationen"
   ]
  },
  {
   "cell_type": "markdown",
   "metadata": {},
   "source": [
    "<div class=\"prereq\">\n",
    "    <h3>Was man wissen sollte</h3>\n",
    "    <div>\n",
    "        Man sollte bereits einen \n",
    "        <a class=\"prereq\" href=\"/user-redirect/algoviz/lessons/02_Grundlagen/14_ErsterKontaktMitObjekten.ipynb\">ersten Kontakt mit Objekten</a> gehabt haben. Außerdem greifen wir auf <a class=\"prereq\" href=\"/user-redirect/algoviz/lessons/02_Grundlagen/02_Variablen.ipynb\"> Paco und Variablen</a> zurück. Außerdem verwenden wir ab jetzt die <a class=\"prereq\" href=\"/user-redirect/algoviz/lessons/03_Fortgeschritten/05_Shortcuts.ipynb\">Kurzformen</a>.\n",
    "    </div>\n",
    "</div>"
   ]
  },
  {
   "cell_type": "markdown",
   "metadata": {},
   "source": [
    "<div class=\"slideshow /03_Fortgeschritten/06_Operationen/slides.json\">Operationen</div>"
   ]
  },
  {
   "cell_type": "markdown",
   "metadata": {},
   "source": [
    "In Jupyter Notebook kann man pro Zelle nur eine Operation definieren. Und es darf kein zusätzlicher Programmcode in der Zelle sein. Außerdem kann man eine Operation nicht auf mehrere Zellen aufteilen. Das liegt natürlich insbesondere daran, dass man den Rumpf der Operation in ein Paar geschweifter Klammern einfassen muss.\n",
    "\n",
    "Als erstes probieren wir das Beispiel aus der Slideshow aus."
   ]
  },
  {
   "cell_type": "code",
   "execution_count": 7,
   "metadata": {},
   "outputs": [],
   "source": [
    "int exponent(int basis, int potenz) {\n",
    "    int x = 1;\n",
    "    \n",
    "    for ( int i = 0 ; i < potenz; i++ ) {\n",
    "        x *= basis;\n",
    "    }\n",
    "    \n",
    "    return x;\n",
    "}"
   ]
  },
  {
   "cell_type": "markdown",
   "metadata": {},
   "source": [
    "Jetzt können wir die Operation `exponent()` verwenden. Dabei bietet Jupyter Notebook die Möglichkeit, dass wir uns den Rückgabewert direkt ausgeben lassen können, indem wir das Semikolon am Ende weglassen."
   ]
  },
  {
   "cell_type": "code",
   "execution_count": 8,
   "metadata": {},
   "outputs": [
    {
     "data": {
      "text/plain": [
       "62748517"
      ]
     },
     "execution_count": 8,
     "metadata": {},
     "output_type": "execute_result"
    }
   ],
   "source": [
    "exponent(13,7)"
   ]
  },
  {
   "cell_type": "markdown",
   "metadata": {},
   "source": [
    "Natürlich können wir das Ergebnis auch verwenden."
   ]
  },
  {
   "cell_type": "code",
   "execution_count": 10,
   "metadata": {},
   "outputs": [
    {
     "data": {
      "text/plain": [
       "130691232"
      ]
     },
     "execution_count": 10,
     "metadata": {},
     "output_type": "execute_result"
    }
   ],
   "source": [
    "int ergebnis = exponent(42,5);\n",
    "ergebnis "
   ]
  },
  {
   "cell_type": "markdown",
   "metadata": {},
   "source": [
    "Wir können Operationen auch in AlgoViz nutzen."
   ]
  },
  {
   "cell_type": "code",
   "execution_count": 2,
   "metadata": {},
   "outputs": [],
   "source": [
    "#include <algoviz/Turtle.hpp>\n",
    "using namespace std;\n",
    "\n",
    "AlgoViz::clear();\n",
    "\n",
    "Turtle bowser = Turtle(400,400);"
   ]
  },
  {
   "cell_type": "markdown",
   "metadata": {},
   "source": [
    "Jetzt deklarieren wir eine Operation, die `bowser`verwendet."
   ]
  },
  {
   "cell_type": "code",
   "execution_count": 3,
   "metadata": {},
   "outputs": [],
   "source": [
    "void zeichnePolygon(int n, int groesse) {\n",
    "    for ( int i = 0; i < n; i++ ) {\n",
    "        bowser.forward(groesse);\n",
    "        bowser.turn(360/n);\n",
    "    }\n",
    "}"
   ]
  },
  {
   "cell_type": "markdown",
   "metadata": {},
   "source": [
    "Und jetzt können wir die Operation nutzen."
   ]
  },
  {
   "cell_type": "code",
   "execution_count": 4,
   "metadata": {},
   "outputs": [],
   "source": [
    "zeichnePolygon(5,100);"
   ]
  },
  {
   "cell_type": "code",
   "execution_count": 5,
   "metadata": {},
   "outputs": [],
   "source": [
    "zeichnePolygon(8,30);"
   ]
  },
  {
   "cell_type": "code",
   "execution_count": 6,
   "metadata": {},
   "outputs": [],
   "source": [
    "bowser.moveTo(30,30);\n",
    "zeichnePolygon(7,20);"
   ]
  },
  {
   "cell_type": "markdown",
   "metadata": {},
   "source": [
    "Damit sieht man auch schon eine der Hauptfunktionen von Operationen. Sie ermöglichen sehr eleganten Code. Statt immer wieder im Prinzip dasselbe zu programmieren, implementiert man eine Operation und verwendet sie an allen möglichen Stellen. Und durch die Verwendung von Parametern kann man die Operation in möglichst vielen Situationen anwenden."
   ]
  },
  {
   "cell_type": "markdown",
   "metadata": {},
   "source": [
    "Unsere Implementierung von `zeichnePolygon()` ist allerdings noch auf die Variable `bowser` angewiesen, die außerhalb deklariert wird. Das können wir auch noch ändern."
   ]
  },
  {
   "cell_type": "code",
   "execution_count": 8,
   "metadata": {},
   "outputs": [],
   "source": [
    "void zeichnePolygon(Turtle schildkroete, int n, int groesse) {\n",
    "    for ( int i = 0; i < n; i++ ) {\n",
    "        schildkroete.forward(groesse);\n",
    "        schildkroete.turn(360/n);\n",
    "    }\n",
    "}"
   ]
  },
  {
   "cell_type": "markdown",
   "metadata": {},
   "source": [
    "Jetzt können wir die Operation auch für eine andere `Turtle` nutzen."
   ]
  },
  {
   "cell_type": "code",
   "execution_count": 9,
   "metadata": {},
   "outputs": [],
   "source": [
    "Turtle michelangelo = Turtle(100,100);"
   ]
  },
  {
   "cell_type": "code",
   "execution_count": 11,
   "metadata": {},
   "outputs": [],
   "source": [
    "zeichnePolygon(michelangelo,4,20);\n",
    "zeichnePolygon(bowser,3,40)"
   ]
  },
  {
   "cell_type": "markdown",
   "metadata": {},
   "source": [
    "<div class=\"task\">\n",
    "    <h3>Aufgabe</h3>\n",
    "    <div>\n",
    "        Schreiben Sie eine Operation die den <b>aufgerundeten Logarithmus</b> einer Zahl zu einer\n",
    "        gegebenen Basis berechnet (<a href=\"/user-redirect/algoviz/lessons/02_Grundlagen/12_Schleifen.ipynb\">Schauen Sie hier!</a>)\n",
    "    </div>\n",
    "</div>"
   ]
  },
  {
   "cell_type": "code",
   "execution_count": null,
   "metadata": {},
   "outputs": [],
   "source": [
    "// ..."
   ]
  },
  {
   "cell_type": "markdown",
   "metadata": {},
   "source": [
    "## Operationen in Operationen\n",
    "\n",
    "Operationen können auch aus Operationen heraus aufgerufen werden. Daz schauen wir uns mal ein kleines Beispiel an. Dabei machen wir allerdings nichts vernünftiges. Wir wollen nur sehen was geschieht. Aber erst eine kleine Vorbereitung."
   ]
  },
  {
   "cell_type": "code",
   "execution_count": 17,
   "metadata": {},
   "outputs": [],
   "source": [
    "#include <iostream>\n",
    "using namespace std;"
   ]
  },
  {
   "cell_type": "code",
   "execution_count": 18,
   "metadata": {},
   "outputs": [],
   "source": [
    "int innereFunktion(int wert) {\n",
    "    cout << \"      >>> innereFunktion(\" << wert << \") wird ausgeführt\" << endl;\n",
    "    int ergebnis = wert * 2 + 1;\n",
    "    cout << \"      <<< \" << ergebnis << endl;\n",
    "    return ergebnis;    \n",
    "}"
   ]
  },
  {
   "cell_type": "code",
   "execution_count": 19,
   "metadata": {},
   "outputs": [],
   "source": [
    "int aeussereFunktion(int wert) {\n",
    "    cout << \"   >>> aeussereFunktion(\" << wert << \") wird ausgeführt\"<< endl;\n",
    "    \n",
    "    // Der Aufruf von innere Funktion\n",
    "    int ergebnis = innereFunktion(wert+3) * 2;\n",
    "    \n",
    "    cout << \"   <<< \" << ergebnis << endl;\n",
    "    return ergebnis;    \n",
    "}"
   ]
  },
  {
   "cell_type": "markdown",
   "metadata": {},
   "source": [
    "Bevor Sie die nächste Zeile ausführen, denken Sie kurz darüber nach, was herauskomment sollte."
   ]
  },
  {
   "cell_type": "code",
   "execution_count": 20,
   "metadata": {},
   "outputs": [
    {
     "name": "stdout",
     "output_type": "stream",
     "text": [
      "   >>> aeussereFunktion(7) wird ausgeführt\n",
      "      >>> innereFunktion(10) wird ausgeführt\n",
      "      <<< 21\n",
      "   <<< 42\n"
     ]
    },
    {
     "data": {
      "text/plain": [
       "42"
      ]
     },
     "execution_count": 20,
     "metadata": {},
     "output_type": "execute_result"
    }
   ],
   "source": [
    "aeussereFunktion(7)"
   ]
  },
  {
   "cell_type": "markdown",
   "metadata": {},
   "source": [
    "Wie man an der Ausgabe sieht, wird die äußere Operation begonnen. Und während Sie ausgeführt wird, wird die innere Funktion ausgeführt, liefert ein Ergebnis (21), was dann in der äußeren Funktion weiterverarbeitet wird."
   ]
  },
  {
   "cell_type": "code",
   "execution_count": 21,
   "metadata": {},
   "outputs": [],
   "source": [
    "int aeussereFunktion2(int wert) {\n",
    "    cout << \"   >>> aeussereFunktion2(\" << wert << \") wird ausgeführt\"<< endl;\n",
    "    \n",
    "    // Der erste Aufruf von innereFunktion\n",
    "    int ergebnis = innereFunktion(wert);\n",
    "    \n",
    "    // Der zweite Aufruf.\n",
    "    ergebnis += innereFunktion(3*wert/2);\n",
    "    \n",
    "    cout << \"   <<< \" << ergebnis << endl;\n",
    "    return ergebnis;\n",
    "}"
   ]
  },
  {
   "cell_type": "code",
   "execution_count": 22,
   "metadata": {},
   "outputs": [
    {
     "name": "stdout",
     "output_type": "stream",
     "text": [
      "   >>> aeussereFunktion2(8) wird ausgeführt\n",
      "      >>> innereFunktion(8) wird ausgeführt\n",
      "      <<< 17\n",
      "      >>> innereFunktion(12) wird ausgeführt\n",
      "      <<< 25\n",
      "   <<< 42\n"
     ]
    },
    {
     "data": {
      "text/plain": [
       "42"
      ]
     },
     "execution_count": 22,
     "metadata": {},
     "output_type": "execute_result"
    }
   ],
   "source": [
    "aeussereFunktion2(8)"
   ]
  },
  {
   "cell_type": "markdown",
   "metadata": {},
   "source": [
    "Natürlich können wir das noch weiter treiben."
   ]
  },
  {
   "cell_type": "code",
   "execution_count": 23,
   "metadata": {},
   "outputs": [],
   "source": [
    "int nochWeiterAussen(int wert) {\n",
    "    \n",
    "    cout << \">>> nochWeiterAussen(\" << wert << \") wird ausgeführt\"<< endl;\n",
    "    \n",
    "    // Der erste Aufruf von innereFunktion\n",
    "    int ergebnis = aeussereFunktion(wert);\n",
    "    \n",
    "    // Der zweite Aufruf.\n",
    "    ergebnis += aeussereFunktion2(wert+1);\n",
    "    \n",
    "    cout << \"<<< \" << ergebnis/2 << endl;\n",
    "    return ergebnis/2;\n",
    "}"
   ]
  },
  {
   "cell_type": "code",
   "execution_count": 24,
   "metadata": {},
   "outputs": [
    {
     "name": "stdout",
     "output_type": "stream",
     "text": [
      ">>> nochWeiterAussen(7) wird ausgeführt\n",
      "   >>> aeussereFunktion(7) wird ausgeführt\n",
      "      >>> innereFunktion(10) wird ausgeführt\n",
      "      <<< 21\n",
      "   <<< 42\n",
      "   >>> aeussereFunktion2(8) wird ausgeführt\n",
      "      >>> innereFunktion(8) wird ausgeführt\n",
      "      <<< 17\n",
      "      >>> innereFunktion(12) wird ausgeführt\n",
      "      <<< 25\n",
      "   <<< 42\n",
      "<<< 42\n"
     ]
    },
    {
     "data": {
      "text/plain": [
       "42"
      ]
     },
     "execution_count": 24,
     "metadata": {},
     "output_type": "execute_result"
    }
   ],
   "source": [
    "nochWeiterAussen(7)"
   ]
  },
  {
   "cell_type": "markdown",
   "metadata": {},
   "source": [
    "In diesm Beispiel gibt es somit drei Ebenen von Operationsaufrufen. Wie man deutlich sieht werden immer erst die inneren Aufrufe abgeschlossen und dann auf die äußere Ebene zurück gekehrt. Dies entspricht der Blockstruktur von Programmen."
   ]
  },
  {
   "cell_type": "markdown",
   "metadata": {},
   "source": [
    "## Ein Problem\n",
    "\n",
    "Der Aufruf von Operationen aus Operationen führt aber auch zu Problemen, wie das nächste Beispiel zeigt."
   ]
  },
  {
   "cell_type": "code",
   "execution_count": 1,
   "metadata": {},
   "outputs": [],
   "source": [
    "#include <iostream>\n",
    "using namespace std;\n",
    "\n",
    "// Diese Variable benötigen wir, um den Effekt zu verdeutlichen\n",
    "int zaehler = 0;"
   ]
  },
  {
   "cell_type": "code",
   "execution_count": 2,
   "metadata": {},
   "outputs": [],
   "source": [
    "void operation() {\n",
    "    // Eröhe den Zähler\n",
    "    zaehler++;\n",
    "\n",
    "    // Rufe wieder Operation auf.\n",
    "    operation();\n",
    "}"
   ]
  },
  {
   "cell_type": "markdown",
   "metadata": {},
   "source": [
    "Bevor Sie die nächste Zelle ausführen sollten Sie kurz nachdenken. Was erwarten Sie passiert?"
   ]
  },
  {
   "cell_type": "code",
   "execution_count": null,
   "metadata": {},
   "outputs": [],
   "source": [
    "operation();\n",
    "\n",
    "cout << zaehler << endl;"
   ]
  },
  {
   "cell_type": "markdown",
   "metadata": {},
   "source": [
    "Der Kernel, der die Operation ausruft, stirbt. Warum ist das so?\n",
    "\n",
    "Um das zu beantworten müssen wir uns vor Augen führen, wie Paco die Ausführung der Operation durchführt.\n",
    "Er macht für jeden Aufruf eine neue Kopie seiner Kopiervorlagen und legt sie oben auf seinen Aufrufstapel, um sie zu bearbeiten. Da er immer wieder `operation()` aus ihr selbst heraus aufruft, legt er mehr und mehr Bögen auf den Stapel, ohne welche wegzunehmen. Und irgendwann geht im einfach das Papier aus und er muss aufhören.\n",
    "\n",
    "Dieses etwas plaktive Bild entspricht aber tatsächlich relativ gut den technischen Vorgängen. Wie schon in der Slideshow beschrieben, benötigt jeder Aufruf einer Operation etwas Speicherplatz in dem z.B. gespeichert wird, wo man beim Aufruf war und welche Werte die lokalen Variablen da hatten. Und dieser Speicher wird erst freigegeben, wenn die Operation beendet ist (PAco wirt das oberste Blatt weg). Daher ist irgendwann der Speicher vollständig belegt und der nächste Operationsaufruf kann nicht mehr durchgeführt werden. Der Blätterstapel von Paco, bzw. der Call-Stack ist voll. Daher spricht man auch vom **Stack Overflow** oder **Überlauf**.\n",
    "\n",
    "In Jupyter Notebook führt das dazu, dass der Kernel stirbt. Leider sehen wir die entsprechende Fehlermeldung nicht sondern spüren nur die Auswirkung. Daher ist es auch relativ schwer herauszubekommen, bei dem wievielten Aufruf das erfolgt. Allerdings können wir den Wert durch eine leichte Änderung abschätzen.\n"
   ]
  },
  {
   "cell_type": "markdown",
   "metadata": {},
   "source": [
    "<div class=\"task\">\n",
    "    <h3>Augabe</h3>\n",
    "    <div>\n",
    "        Passen Sie <tt>operation()</tt> so an, dass alle 1000 Aufrufe der aktuelle Wert von Zähler\n",
    "        ausgegeben wird.\n",
    "    </div>\n",
    "    <div>\n",
    "        Versuchen Sie anschließend durch geschickte Wahl einer unteren Grenze herauszubekommen\n",
    "        in welcher Runde der Stack Overflow eintritt.\n",
    "    </div>\n",
    "    <div>\n",
    "        <b>Achtung!</b> Der Wert kann zwischen verschiedenen Ausführungen variieren!\n",
    "    </div>\n",
    "</div>"
   ]
  },
  {
   "cell_type": "markdown",
   "metadata": {},
   "source": [
    "<div class=\"followup\">\n",
    "    <h3>Wo es weiter geht</h3>\n",
    "    <div>\n",
    "        Operationen verwenden meistens\n",
    "        <a class=\"followup\" href=\"/user-redirect/algoviz/lessons/03_Fortgeschritten/07_LokaleVariablen.ipynb\">lokale Variablen</a>.\n",
    "    </div>\n",
    "</div>"
   ]
  }
 ],
 "metadata": {
  "kernelspec": {
   "display_name": "C++17",
   "language": "C++17",
   "name": "xcpp17"
  },
  "language_info": {
   "codemirror_mode": "text/x-c++src",
   "file_extension": ".cpp",
   "mimetype": "text/x-c++src",
   "name": "c++",
   "version": "17"
  }
 },
 "nbformat": 4,
 "nbformat_minor": 4
}
