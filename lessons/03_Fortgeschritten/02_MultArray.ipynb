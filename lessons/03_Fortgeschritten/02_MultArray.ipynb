{
 "cells": [
  {
   "cell_type": "markdown",
   "metadata": {},
   "source": [
    "# Mehrdimensionale Arrays"
   ]
  },
  {
   "cell_type": "markdown",
   "metadata": {},
   "source": [
    "<div class=\"slideshow /03_Fortgeschritten/02_MultArray/slides.json\">Mehrdimensionale Arrays</div>"
   ]
  },
  {
   "cell_type": "markdown",
   "metadata": {},
   "source": [
    "Im Folgenden wollen wir die Bigrammzählung implementieren. Dazu nehmen wir einen Kryptotext, der nach dem beschriebenen Verfahren verschlüsselt wurde. Im Folgenden werden Kryptotext-Zeichen immer als Großbuchstaben dargestellt, während Kleinbuchstaben Klartextzeichen sind.\n",
    "\n",
    "Neben dem Kryptotext (in Großbuchstaben) haben wir auch mal eine Liste der häufigsten Klartext-Bigramme (in Kleinbuchstaben) angefertigt."
   ]
  },
  {
   "cell_type": "code",
   "execution_count": null,
   "metadata": {},
   "outputs": [],
   "source": [
    "#include <iostream>\n",
    "\n",
    "using namespace std;\n",
    "\n",
    "string kryptotext = \"MFLKXWAQEOMEKDPESSNEQWDYLEDIMKBEMNOMESEDZE\\\n",
    "XNMSNOMEAJHWELMKBEMNOESYEJSFLXMFLEJUEDSNWJOESWXXESSMJJUPXXIAEMJ\\\n",
    "WJOEDMJQEIMELAJKIASENIEJZMDXEQEJWAHEMJEDHDMEOXMFLEJMJSEXOEDWLJA\\\n",
    "JKSXPSMKBEMNMJYMNNEJSFLZWDIEDYEEDEOEDAJEJOXMFLBEMNAJOESZWDJMFLN\\\n",
    "UPDKESELEJOWSSZMDOMESEKEZWESSEDZEMNQEHWLDEJSPXXEJOMEZMSSEJSFLWH\\\n",
    "NEJSNEAEDJWXXEMJUPEXXMKUEDSFLMEOEJEDMFLNAJKEJAJOSMELWQEJAJSQMSX\\\n",
    "WJKJADZEJMKSFLWOEJIAKEHAEKNOPFLEMJESNWKESZMDOAJSOWSWJEMJWJOEDHA\\\n",
    "EKEJEMJIEXJEDEDBEJJNJMSSESPEDSFLDEFBEJOEGEDSGEBNMUEJOEDZMDBXMFL\\\n",
    "BEMNAJOAJSEDEDHADFLNQWDEJWAHKWQEOWDMJEDPEHHJEJOWSSOMESEPHHEJQWD\\\n",
    "AJKAJSEJNZEOEDMJOEJZWLJSMJJNDEMQNPOEDAJSWASOEDNPEOXMFLEJEDBEJJN\\\n",
    "JMSMJOEJHDMEOEJAJOOEJSFLANIEMJESJEAEJOAJBXEJIEMNWXNEDSHXAEFLNEJ\\\n",
    "XWESSNLPZWDOGLMXXMGSXPUEFDWHNOEDDAHOESFNLAXLA\";\n",
    "    \n",
    "string bigramme[20] = {\"er\",\"en\",\"ch\",\"de\",\"ei\",\"nd\",\"ie\",\"te\",\"in\",\"ge\",\"es\",\"ne\",\"un\",\"st\",\"re\",\"an\",\"he\",\"be\",\"se\",\"ng\"};"
   ]
  },
  {
   "cell_type": "markdown",
   "metadata": {},
   "source": [
    "Als nächstes benötigen wir das zweidimensionale Array mit den Zählern. Da wir 26 Buchstaben haben, muss es 26 Zeilen und 26 Spalten haben. Und wir initialisieren Sie direkt mit 0. Dazu verwenden wir zwei ineinander geschachtelte For-Schleifen. Die erste durchläuft alle Spalten (erster Index), die andere die Zeilen (zweiter Index)."
   ]
  },
  {
   "cell_type": "code",
   "execution_count": null,
   "metadata": {},
   "outputs": [],
   "source": [
    "int zaehler[26][26];\n",
    "\n",
    "for ( int spalte = 0; spalte < 26; spalte = spalte +1 ) {\n",
    "    for ( int zeile = 0; zeile < 26; zeile = zeile +1 ) {\n",
    "        zaehler[spalte][zeile] = 0;\n",
    "    }\n",
    "}"
   ]
  },
  {
   "cell_type": "markdown",
   "metadata": {},
   "source": [
    "Jetzt können wir den Kryptotext Zeichen für Zeichen durchlaufen und die Bigramme zählen. Dabei beginnen wir mit dem Index 0 und laufen bis zum Index `kryptotext.length()-2`, da das **Vorletzte** Zeichen das erste Zeichen des letzten Bigramms ist."
   ]
  },
  {
   "cell_type": "code",
   "execution_count": null,
   "metadata": {},
   "outputs": [],
   "source": [
    "for ( int pos = 0; pos < kryptotext.length()-1; pos = pos+1 ) {\n",
    "    int spalte = ( kryptotext[pos] - 'A' );\n",
    "    int zeile = ( kryptotext[pos+1] - 'A' );\n",
    "    \n",
    "    zaehler[spalte][zeile] = zaehler[spalte][zeile]+1;    \n",
    "}"
   ]
  },
  {
   "cell_type": "markdown",
   "metadata": {},
   "source": [
    "Damit haben wir die Anzahlen der Bigramme. Sehen wir Sie uns mal an:"
   ]
  },
  {
   "cell_type": "code",
   "execution_count": null,
   "metadata": {},
   "outputs": [],
   "source": [
    "for ( int spalte = 0; spalte < 26; spalte = spalte +1 ) {\n",
    "    for ( int zeile = 0; zeile < 26; zeile = zeile +1 ) {\n",
    "        cout << ((char) (spalte + 'A')) << ((char) (zeile + 'A')) << \" \" << zaehler[spalte][zeile] << endl;\n",
    "    }\n",
    "}"
   ]
  },
  {
   "cell_type": "markdown",
   "metadata": {},
   "source": [
    "Reduzieren wir das erstmal auf alle Bigramme, die vorkommen."
   ]
  },
  {
   "cell_type": "code",
   "execution_count": null,
   "metadata": {},
   "outputs": [],
   "source": [
    "for ( int spalte = 0; spalte < 26; spalte = spalte +1 ) {\n",
    "    for ( int zeile = 0; zeile < 26; zeile = zeile +1 ) {\n",
    "        if ( zaehler[spalte][zeile] != 0 ) {\n",
    "            cout << ((char) (spalte + 'A')) << ((char) (zeile + 'A')) << \" \" << zaehler[spalte][zeile] << endl;\n",
    "        }\n",
    "    }\n",
    "}"
   ]
  },
  {
   "cell_type": "markdown",
   "metadata": {},
   "source": [
    "Das ist immer noch unübersichtlich. Also führen wir eine Maximumsuche durch. Dabei gehen wir wie im eindimensionalen Fall vor. Allerdings merken wir uns die Spalte und Zeile des bislang größten Elements."
   ]
  },
  {
   "cell_type": "code",
   "execution_count": null,
   "metadata": {},
   "outputs": [],
   "source": [
    "// Das anfänglich größte Element\n",
    "int max = zaehler[0][0];\n",
    "int maxSpalte = 0;\n",
    "int maxZeile = 0;\n",
    "\n",
    "for ( int spalte = 0; spalte < 26; spalte = spalte +1 ) {\n",
    "    for ( int zeile = 0; zeile < 26; zeile = zeile +1 ) {\n",
    "        if ( zaehler[spalte][zeile] > max ) {\n",
    "            maxSpalte = spalte;\n",
    "            maxZeile = zeile;\n",
    "            max = zaehler[spalte][zeile];\n",
    "        }\n",
    "    }\n",
    "}\n",
    "\n",
    "cout << ((char) (maxSpalte + 'A')) << ((char) (maxZeile + 'A')) << \" \" << zaehler[maxSpalte][maxZeile] << endl;\n"
   ]
  },
  {
   "cell_type": "markdown",
   "metadata": {},
   "source": [
    "Aber wir wollen alle Bigramme nach Häufigkeit geordnet. Da wir aber noch nicht Sortieren könnne (kommt noch).\n",
    "Behelfen wir uns eines **zerstörerischen** und sehr ineffizienten Tricks. Wir suchen das Maximum, geben es aus\n",
    "und ändern den Wert anschließend auf einen sehr kleinen Wert, z.B. indem wir das Vorzeichen ändern. Dann\n",
    "wiederholen wir das einfach, bis es keinen Eintrag > 0 mehr gibt."
   ]
  },
  {
   "cell_type": "code",
   "execution_count": null,
   "metadata": {},
   "outputs": [],
   "source": [
    "// Das anfänglich größte Element\n",
    "int max = zaehler[0][0];\n",
    "int maxSpalte = 0;\n",
    "int maxZeile = 0;\n",
    "\n",
    "// Wiederhole die Maximumsuche\n",
    "do {\n",
    "    // Setze alle Werte zurück und suche.\n",
    "    max = zaehler[0][0];\n",
    "    int maxSpalte = 0;\n",
    "    int maxZeile = 0;\n",
    "    for ( int spalte = 0; spalte < 26; spalte = spalte +1 ) {\n",
    "        for ( int zeile = 0; zeile < 26; zeile = zeile +1 ) {\n",
    "            if ( zaehler[spalte][zeile] > max ) {\n",
    "                maxSpalte = spalte;\n",
    "                maxZeile = zeile;\n",
    "                max = zaehler[spalte][zeile];\n",
    "            }\n",
    "        }\n",
    "    }\n",
    "    // Gebe das gefundene Maximum aus.\n",
    "    cout << ((char) (maxSpalte + 'A')) << ((char) (maxZeile + 'A')) << \" \" << zaehler[maxSpalte][maxZeile] << endl;\n",
    "    \n",
    "    // Änderen das Vorzeichen des Werts. Damit wird er nicht mehr als Maximum gefunden.\n",
    "    zaehler[maxSpalte][maxZeile] = -zaehler[maxSpalte][maxZeile];\n",
    "    \n",
    "} while ( max > 0 );\n",
    "// Die Schleife wird abgebrochen, wenn das erstemal das Maximum 0 erreicht wird."
   ]
  },
  {
   "cell_type": "markdown",
   "metadata": {},
   "source": [
    "Damit lässt sich arbeiten. Allerdings haben wir jetzt unser Array `zaehler` \"kaputt gemacht\". Die Zellen enthalten nicht mehr die korrekten Einträge. Da wir aber immer nur das Vorzeichen geändert haben, können wir das leicht reparieren."
   ]
  },
  {
   "cell_type": "markdown",
   "metadata": {},
   "source": [
    "<div class=\"task\">\n",
    "    <h3>Aufgabe</h3>\n",
    "    <div>\n",
    "        Schreiben Sie ein kleines Programm, um das Array <tt>zaehler</tt> wieder zu reparieren.\n",
    "    </div>\n",
    "</div>"
   ]
  },
  {
   "cell_type": "code",
   "execution_count": null,
   "metadata": {},
   "outputs": [],
   "source": [
    "// ..."
   ]
  },
  {
   "cell_type": "markdown",
   "metadata": {},
   "source": [
    "Damit wir das jetzt gut mit unseren 20 häufigsten Bigrammen vergleichen können, sollen die zwanzig häufigsten gezählten Bigramm auch in ein Array geschrieben werden. Dazu führen wir wieder die Maximumsuche (auf dem reparierten) Array aus. Diesmal allerdings nur zwanzig mal. Diesmal geben wir die gefunden Maxima aber nicht aus, sonder speichern Sie in einem Array."
   ]
  },
  {
   "cell_type": "code",
   "execution_count": 52,
   "metadata": {},
   "outputs": [],
   "source": [
    "// Das anfänglich größte Element\n",
    "int max = zaehler[0][0];\n",
    "int maxSpalte = 0;\n",
    "int maxZeile = 0;\n",
    "\n",
    "string haeufigste[20];\n",
    "\n",
    "// Wiederhole die Maximumsuche 20 mal\n",
    "for ( int i = 0; i < 20; i=i+1 ) {\n",
    "    // Setze alle Werte zurück und suche.\n",
    "    max = zaehler[0][0];\n",
    "    maxSpalte = 0;\n",
    "    maxZeile = 0;\n",
    "    for ( int spalte = 0; spalte < 26; spalte = spalte +1 ) {\n",
    "        for ( int zeile = 0; zeile < 26; zeile = zeile +1 ) {\n",
    "            if ( zaehler[spalte][zeile] > max ) {\n",
    "                maxSpalte = spalte;\n",
    "                maxZeile = zeile;\n",
    "                max = zaehler[spalte][zeile];\n",
    "            }\n",
    "        }\n",
    "    }\n",
    "    // Speichere das gefundene Maximum.\n",
    "    // Dabei müssen wir etwas umständlich vorgehen und die Zeichen einzeln im String setzen.\n",
    "    char a = (char) (maxSpalte + 'A');\n",
    "    char b = (char) (maxZeile + 'A');\n",
    "    haeufigste[i] = \"XX\";\n",
    "    haeufigste[i][0] = a;\n",
    "    haeufigste[i][1] = b;\n",
    "    zaehler[maxSpalte][maxZeile] = - zaehler[maxSpalte][maxZeile];\n",
    "}\n"
   ]
  },
  {
   "cell_type": "markdown",
   "metadata": {},
   "source": [
    "Und jetzt können wir `bigramme` und `haeufigste`parallel ausgeben:"
   ]
  },
  {
   "cell_type": "code",
   "execution_count": null,
   "metadata": {},
   "outputs": [],
   "source": [
    "for (int i = 0; i < 20; i=i+1 ) {\n",
    "    cout << bigramme[i] << \" \" << haeufigste[i] << endl;\n",
    "}"
   ]
  },
  {
   "cell_type": "markdown",
   "metadata": {},
   "source": [
    "Damit wir jetzt schrittweise von Hand entschlüsseln können, bedienen wir uns ebenfalls einer algorithmischen Hilfe.\n",
    "Als erstes legen wir allerdings eine Kopie des Kryptotextes an, die wir verändern können."
   ]
  },
  {
   "cell_type": "code",
   "execution_count": null,
   "metadata": {},
   "outputs": [],
   "source": [
    "string klartext = kryptotext;"
   ]
  },
  {
   "cell_type": "markdown",
   "metadata": {},
   "source": [
    "Der nächste Programmabschnitt ersetzt jedes Vorkommen des Zeichens `alt` durch `neu`. Dadurch kann der Text Buchstabenweise entschlüsselt werden."
   ]
  },
  {
   "cell_type": "code",
   "execution_count": null,
   "metadata": {},
   "outputs": [],
   "source": [
    "char alt = 'A';\n",
    "char neu = 'a';\n",
    "\n",
    "for ( int i = 0; i < klartext.length(); i=i+1) {\n",
    "    if ( klartext[i] == alt ) {\n",
    "        klartext[i] = neu;\n",
    "    }\n",
    "}\n",
    "\n",
    "cout << klartext << endl;"
   ]
  },
  {
   "cell_type": "markdown",
   "metadata": {},
   "source": [
    "<div class=\"task\">\n",
    "    <h3>Aufgabe</h3>\n",
    "    <div>\n",
    "        Versuchen Sie den Text zu entschlüsseln. Die Bigramme helfen den Anfang zu finden. Allerdings ist nicht alles\n",
    "        so wie es scheint! Sie können natürlich auch die Häufigkeiten der einzelnen Buchstaben hinzuziehen.\n",
    "        <p>\n",
    "        Bei dem Text handelt es sich übrigens um den Beginn eines Klassikers der Horrorliteratur.\n",
    "        </p>\n",
    "    </div>\n",
    "</div>"
   ]
  },
  {
   "cell_type": "markdown",
   "metadata": {},
   "source": [
    "<div class=\"followup\">\n",
    "    <h3>Wo es weiter geht</h3>\n",
    "    <div>\n",
    "        Als nächstes gibt es entweder noch ein \n",
    "        <a class=\"followup\" href=\"/user-redirect/algoviz/lessons/03_Fortgeschritten/03_MultBeispiel.ipynb\">Beispiel</a>\n",
    "        für die Verwendung mehrdimensionaler Arrays oder \n",
    "        <a class=\"followup\" href=\"/user-redirect/algoviz/lessons/03_Fortgeschritten/04_Vektoren.ipynb\">Vektoren</a>.\n",
    "    </div>\n",
    "</div>"
   ]
  }
 ],
 "metadata": {
  "kernelspec": {
   "display_name": "C++17",
   "language": "C++17",
   "name": "xcpp17"
  },
  "language_info": {
   "codemirror_mode": "text/x-c++src",
   "file_extension": ".cpp",
   "mimetype": "text/x-c++src",
   "name": "c++",
   "version": "17"
  }
 },
 "nbformat": 4,
 "nbformat_minor": 4
}
