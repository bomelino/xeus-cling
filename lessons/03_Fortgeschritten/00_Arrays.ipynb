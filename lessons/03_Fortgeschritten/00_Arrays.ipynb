{
 "cells": [
  {
   "cell_type": "markdown",
   "metadata": {},
   "source": [
    "# Arrays\n",
    "\n",
    "# Work in Progress"
   ]
  },
  {
   "cell_type": "markdown",
   "metadata": {},
   "source": [
    "<div class=\"prereq\">\n",
    "    <h3>Was man wissen sollte</h3>\n",
    "    <div>\n",
    "        <a class=\"prereq\" href=\"/user-redirect/algoviz/lessons/02_Grundlagen/16_Strings.ipynb\">Zeichen, Strings</a> und die <a class=\"prereq\" href=\"/user-redirect/algoviz/lessons/02_Grundlagen/22_Caesar.ipynb\">Cäsar-Verschlüsselung</a>.\n",
    "    </div>\n",
    "</div>            "
   ]
  },
  {
   "cell_type": "markdown",
   "metadata": {},
   "source": [
    "<div class=\"slideshow /03_Fortgeschritten/00_Arrays/slides.json\">Arrays</div>"
   ]
  },
  {
   "cell_type": "markdown",
   "metadata": {},
   "source": [
    "Im Folgenden wollen wir die beschriebene **Häufigkeitsanalyse** implementieren, um  die Cäsar-Verschlüsselung zu knacken.\n",
    "\n",
    "Beginnen wir mit dem Kryptotext."
   ]
  },
  {
   "cell_type": "code",
   "execution_count": 1,
   "metadata": {},
   "outputs": [],
   "source": [
    "#include <iostream>\n",
    "using namespace std;\n",
    "\n",
    "string kryptotext = \n",
    "\"MUYJTHQKIIUDYDTUDKDUHVEHISXJUDUYDEUTUDUYDUIJEJQBQKITUHCETUWUAECCUDUDQKIBQUKVUHITUIMUIJBYSXUDIFYHQBQHCITUHWQBQNYIB\\\n",
    "UKSXJUJKDRUQSXJUJUYDUABUYDUWUBRUIEDDUKCIYUAHUYIJYDUYDUHUDJVUHDKDWLEDKDWUVQUXHQKSXJKDTDUKDPYWCYBBYEDUDCUYBUDUYDQRI\\\n",
    "EBKJKDRUTUKJUDTUHABUYDUHRBQKWHKUDUHFBQDUJTUIIUDLECQVVUDIJQCCUDTURYEVEHCUDIEUHIJQKDBYSXFHYCYJYLIYDTTQIIIYUTYWYJQBK\\\n",
    "XHUDDESXYCCUHVKUHUYDUKDMQXHISXUYDBYSXJEBBUUHVYDTKDWXQBJUDTYUIUHFBQDUJXQJETUHRUIIUHWUIQWJXQJJUUYDFHERBUCTYUCUYIJUD\\\n",
    "IUYDUHRUMEXDUHMQHUDVQIJYCCUHKDWBKUSABYSXPKHBEUIKDWTYUIUIFHERBUCIMKHTUDLYUBULEHISXBQUWUWUCQSXJQRUHTYUTHUXJUDIYSXCU\\\n",
    "YIJUDIKCTQIXYDKDTXUHABUYDUHRUTHKSAJUHFQFYUHISXUYDSXUDKDTTQIYIJUYDVQSXTHEBBYWMUYBUIYCWHEIIUDKDTWQDPUDZQDYSXJTYUABU\\\n",
    "YDUDRUTHKSAJUDFQFYUHISXUYDSXUDMQHUDTYUIYSXKDWBKUSABYSXVKUXBJUDKDTIERBYURTQIFHERBUCRUIJUXUDLYUBUDBUKJUDWYDWUIISXBU\\\n",
    "SXJTUDCUYIJUDIEWQHCYIUHQRUBIUBRIJTUDUDCYJTYWYJQBKXHUDLYUBUAQCUDQBBCQUXBYSXPKTUHKURUHPUKWKDWUYDUDWHEIIUDVUXBUHWUCQ\\\n",
    "SXJPKXQRUDQBIIYULEDTUDRQUKCUDXUHKDJUHWUAECCUDMQHUDKDTUYDYWUIQWJUDISXEDTYURQUKCUIUYUDUYDXEBPMUWWUMUIUDTYUEPUQDUXQU\\\n",
    "JJUCQDDYUCQBILUHBQIIUDTKUHVUDKDTUYDUITEDDUHIJQWITQDDVQIJPMUYJQKIUDTZQXHUDQSXTUCUYDCQDDQDUYDUDRQKCIJQCCWUDQWUBJMEH\\\n",
    "TUDMQHMUYBUHWUIQWJXQJJUMYUFXQDJQIJYISXUHIYSXTQILEHIJUBBUMUDDTYUBUKJUPKHQRMUSXIBKDWCQBDUJJPKUYDQDTUHMQUHUDAQCUYDCQ\\\n",
    "UTSXUDTQIWQDPQBBUYDYDUYDUCABUYDUDSQVUYDHYSACQDIMEHJXIQIIFBEUJPBYSXQKVTUDJHYSXJUHMQITYUWQDPUPUYJIEISXYUVWUBQKVUDMQ\\\n",
    "HKDTIYUMKIIJUUDTBYSXMYUTYUMUBJWKJKDTWBKUSABYSXMUHTUDAEUDDJUTYUICQBXQJJUIYUIYSXDYSXJWUJQUKISXJUIMKUHTUVKDAJYEDYUHU\\\n",
    "DKDTDYUCQDTMKUHTUTQVKUHQDYHWUDTMQIWUDQWUBJMUHTUDDKHRHQSXJHQKHYWUHMUYIUUXUIYUQDIJUBUVEDWUXUDKDTZUCQDTUCTQLEDUHPQUX\\\n",
    "BUDAEDDJUUYDUVKHSXJRQHTKCCUAQJQIJHEFXUXUHUYDKDTYXHUYTUUWYDWVKUHYCCUHLUHBEHUDTYUIXYUHYIJDYSXJTYUWUISXYSXJUTYUIUICQ\\\n",
    "UTSXUDIUIYIJTYUWUISXYSXJUTYUIUHVKHSXJRQHTKCCUDAQJQIJHEFXUKDTUYDYWUHYXHUHVEBWUDQKIIUHTUCYIJUITYUWUISXYSXJUUYDUIRKS\\\n",
    "XUIUYDUIHUYIUVKUXHUHICYJTUCJYJUBFUHQDXQBJUHTKHSXTYUWQBQNYIAUYDUIUHTUDRKSXUIUIMKHTUDYUQKVTUHUHTULUHEUVVUDJBYSXJKDT\\\n",
    "RYITYUISXHUSABYSXUAQJQIJHEFXUUYDJHQJXQJQKSXAUYDUHTUDCUDISXZUUJMQITQLEDWUXEUHJETUHWUIUXUDJHEJPTUCUYDQUKIIUHIJRUCUH\\\n",
    "AUDIMUHJUIRKSXMQXHISXUYDBYSXTQIRUCUHAUDIMUHJUIJURKSXTQITYUWHEIIUDLUHBQWULEDKHIQCYDEHZUXUHQKIRHQSXJUDLEDTUDUDURUDV\\\n",
    "QBBIAUYDUHTUDCUDISXZUUJMQIWUXEUHJXQJKDTTYUIUIRKSXYIJDYSXJDKHQKIIUHEHTUDJBYSXRUCUHAUDIMUHJUIYIJQKSXQKIIUHEHTUDJBYS\\\n",
    "XUHVEBWHUYSXFEFKBQUHUHQBITUHXYCCBYISXUXUYCISXKUJPUHQBCQDQSXUILUHAQKVJIYSXRUIIUHQBITHUYKDTVKUDVPYWDUKUIQSXUDTYUCQD\\\n",
    "RUYISXMUHUBEIYWAUYJCQSXUDAQDDKDTYIJIJHUYJBKIJYWUHQBIEEBEDSEBKFXYTITHUYFXYBEIEFXYISXURECRUDUHVEBWUMEWEJJIYSXYHHJUD\\\n",
    "ESXUYDFQQHLEDWEJJUIWHEUIIJUDVUXBUHDKDTMUHYIJTUDDTYUIUHWEJJKURUHXQKFJYDLYUBUDTUHUJMQIBQUIIYWUHUDPYLYBYIQJYEDUDQCQU\\\n",
    "KIIUHIJUDEIJHQDTTUHWQBQNYIXQJTUHHUYIUVKUXHUHFUHQDXQBJUHTKHSXTYUWQBQNYITYUWHEIIUUDSOSBEFUTYQWQBQSJYSQQBIIJQDTQHTDQ\\\n",
    "SXISXBQWUMUHAVKUHQBBUAUDDJDYIIUKDTMUYIXUYJUDYDPMYISXUDBQUDWIJQRWUBEUIJTUDDERMEXBUHLYUBUBKUSAUDXQJKDTLYUBUTYDWUUDJ\\\n",
    "XQUBJTYUIUXHPMUYVUBXQVJETUHPKCYDTUIJMQXDIYDDYWKDWUDQKIYDTYIJUHTUCQUBJUHUDKDTLYUBBQDWQJCYWUHUDMUHAYDPMUYUHBUYXYDIY\\\n",
    "SXJKURUHBUWUDUHIJUDIYIJUHUYDRYIISXUDRYBBYWUHKDTPMUYJUDIIJUXUDQKVIUYDUCKCISXBQWYDWHEIIUDVHUKDTBYSXUDRKSXIJQRUDTYUM\\\n",
    "EHJUAUYDUFQDYATEKWBQIQTQCIFUHQDXQBJUHTKHSXTYUWQBQNYIDONTPANIC\";"
   ]
  },
  {
   "cell_type": "markdown",
   "metadata": {},
   "source": [
    "Als nächstes benötigen wir die Zähler. Die realisieren wir als Array mit 26 Einträgen. Wir initialisieren es mit 0."
   ]
  },
  {
   "cell_type": "code",
   "execution_count": 2,
   "metadata": {},
   "outputs": [],
   "source": [
    "int zaehler[26] = {0};"
   ]
  },
  {
   "cell_type": "markdown",
   "metadata": {},
   "source": [
    "Jetzt benötigen wir eine For-Schleife, die den Kryptotext durchläuft. Innerhalb der Schleife müssen wir die Ordnungszahl des aktuellen Zeichens berechnen und den entsprechenden Zähler erhöhen."
   ]
  },
  {
   "cell_type": "code",
   "execution_count": 4,
   "metadata": {},
   "outputs": [],
   "source": [
    "for ( int pos = 0; pos < kryptotext.length(); pos = pos+1 ) {\n",
    "    int ord = kryptotext[pos] - 'A';\n",
    "    zaehler[ord] = zaehler[ord]+1;\n",
    "}"
   ]
  },
  {
   "cell_type": "markdown",
   "metadata": {},
   "source": [
    "Jetzt sollte `zaehler[ord]` die Anzahl der entsprechenden Zeichen enthalten.\n",
    "\n",
    "Geben wir sie aus:"
   ]
  },
  {
   "cell_type": "code",
   "execution_count": 5,
   "metadata": {},
   "outputs": [
    {
     "name": "stdout",
     "output_type": "stream",
     "text": [
      "A : 39\n",
      "B : 134\n",
      "C : 82\n",
      "D : 299\n",
      "E : 89\n",
      "F : 28\n",
      "G : 0\n",
      "H : 202\n",
      "I : 231\n",
      "J : 168\n",
      "K : 131\n",
      "L : 24\n",
      "M : 52\n",
      "N : 7\n",
      "O : 2\n",
      "P : 26\n",
      "Q : 199\n",
      "R : 51\n",
      "S : 104\n",
      "T : 146\n",
      "U : 564\n",
      "V : 43\n",
      "W : 90\n",
      "X : 153\n",
      "Y : 242\n",
      "Z : 6\n"
     ]
    }
   ],
   "source": [
    "for ( int ord = 0; ord < 26; ord = ord+1 ) {\n",
    "    cout << (char) ( ord+'A') << \" : \" << zaehler[ord] << endl;\n",
    "}"
   ]
  },
  {
   "cell_type": "markdown",
   "metadata": {},
   "source": [
    "Damit können wir den häufigsten Buchstaben herausfinden. Allerdings möchten wir das nicht von Hand tun. Also brauchen wir einen Algorithmus mit dem wir das größte Element in einem Array finden können, die **Maximumsuche**. Die Idee des Algorithmus ist sehr einfach. Wir durchlaufen das Array und prüfen, ob das aktuelle Element größer ist als das größte bisher gefundene. Dabei müssen wir uns zwei Werte merken: Den bisher größten gefunden Wert `max` und die Position `maxPos` an der wir ihn gefunden haben.\n",
    "\n",
    "Am Anfang ist der erste Wert der größte bekannte. Also beginnen wir mit `max = zaehler[0]` und `maxPos = 0`.\n",
    "\n",
    "Anschließend durchlaufen wir alle Indices `pos = 1 ... 25` und prüfen jedesmal, ob der Wert `zaehler[pos]` größer ist als unser bisheriges Maximum `max`. Wenn ja, dann merken wir uns die neue Position und das neue Maximum."
   ]
  },
  {
   "cell_type": "code",
   "execution_count": 8,
   "metadata": {},
   "outputs": [
    {
     "name": "stdout",
     "output_type": "stream",
     "text": [
      "Häufigster Buchstabe : U\n",
      "Anzahl : 564\n",
      "Schlüssel : Q"
     ]
    }
   ],
   "source": [
    "int max = zaehler[0];\n",
    "int maxPos = 0;\n",
    "\n",
    "for ( int pos = 1; pos < 26; pos = pos+1 ) {\n",
    "    if ( zaehler[pos] > max ) {\n",
    "        max = zaehler[pos];\n",
    "        maxPos = pos;\n",
    "    }\n",
    "}\n",
    "\n",
    "cout << \"Häufigster Buchstabe : \" << char ( maxPos + 'A' ) << endl;\n",
    "cout << \"Anzahl : \" << max << endl;\n",
    "cout << \"Schlüssel : \" << char ( maxPos + 'A' - 4 );"
   ]
  },
  {
   "cell_type": "markdown",
   "metadata": {},
   "source": [
    "<div class=\"task\">\n",
    "    <h3>Aufgabe</h3>\n",
    "    <div>\n",
    "        Entschlüsseln Sie den Kryptotext mit dem gefundenen Schlüssel. Verwenden Sie dazu den in der Lesson\n",
    "        <a class=\"prereq\" href=\"/user-redirect/algoviz/lessons/02_Grundlagen/22_Caesar.ipynb\">Cäsar-Verschlüsselung</a>\n",
    "        entwickelten Algorithmus.\n",
    "    </div>\n",
    "</div>"
   ]
  },
  {
   "cell_type": "markdown",
   "metadata": {},
   "source": [
    "<div class=\"followup\">\n",
    "    <h3>Wo es weitergeht</h3>\n",
    "    <div>\n",
    "        Entweder mit einem <a class=\"followup\" href=\"/user-redirect/algoviz/lessons/03_Fortgeschritten/01_Snake.ipynb\">Beispiel</a> oder\n",
    "        <a class=\"followup\" href=\"/user-redirect/algoviz/lessons/03_Fortgeschritten/02_MultArray.ipynb\">\n",
    "        mehrdimensionalen Arrays</a>.\n",
    "    </div>\n",
    "</div>"
   ]
  }
 ],
 "metadata": {
  "kernelspec": {
   "display_name": "C++17",
   "language": "C++17",
   "name": "xcpp17"
  },
  "language_info": {
   "codemirror_mode": "text/x-c++src",
   "file_extension": ".cpp",
   "mimetype": "text/x-c++src",
   "name": "c++",
   "version": "17"
  }
 },
 "nbformat": 4,
 "nbformat_minor": 4
}
