{
 "cells": [
  {
   "cell_type": "markdown",
   "metadata": {},
   "source": [
    "# Lokale Variablen"
   ]
  },
  {
   "cell_type": "markdown",
   "metadata": {},
   "source": [
    "<div class=\"prereq\">\n",
    "    <h3>Was man wissen sollte</h3>\n",
    "    <div>\n",
    "        Ohne <a class=\"prereq\" href=\"/user-redirect/algoviz/lessons/03_Fortgeschritten/06_Operationen.ipynb\">Operationen</a> machen lokale Variablen wenig Sinn.\n",
    "    </div>\n",
    "</div>"
   ]
  },
  {
   "cell_type": "markdown",
   "metadata": {},
   "source": [
    "<div class=\"slideshow /03_Fortgeschritten/07_LokaleVariablen/slides.json\">Lokale Variablen</div>"
   ]
  },
  {
   "cell_type": "markdown",
   "metadata": {},
   "source": [
    "Hier nochmal die Experimente aus der Slideshow zum Ausprobieren\n",
    "\n",
    "### Erstes Beispiel\n",
    "\n",
    "Als erstes das Experiment bei dem man sieht, dass **lokale Variablen** nur innerhalb ihrer Operation \"sichtbar\" sind."
   ]
  },
  {
   "cell_type": "code",
   "execution_count": 1,
   "metadata": {},
   "outputs": [],
   "source": [
    "void erste() {\n",
    "    int inErste = 42;\n",
    "}"
   ]
  },
  {
   "cell_type": "code",
   "execution_count": 2,
   "metadata": {},
   "outputs": [
    {
     "name": "stderr",
     "output_type": "stream",
     "text": [
      "\u001b[1minput_line_8:3:5: \u001b[0m\u001b[0;1;31merror: \u001b[0m\u001b[1muse of undeclared identifier 'inErste'\u001b[0m\n",
      "    inErste = 5;\n",
      "\u001b[0;1;32m    ^\n",
      "\u001b[0m"
     ]
    },
    {
     "ename": "Interpreter Error",
     "evalue": "",
     "output_type": "error",
     "traceback": [
      "Interpreter Error: "
     ]
    }
   ],
   "source": [
    "void zweite() {\n",
    "    int inZweite = 13;\n",
    "    inErste = 5;\n",
    "}"
   ]
  },
  {
   "cell_type": "markdown",
   "metadata": {},
   "source": [
    "### Zweites Beispiel\n",
    "\n",
    "Im nächsten Beispiel sieht man, dass sich die Einschränkung der Sichtbarkeit nicht nur auf Operationen bezieht, sondern auch auf Blöcke."
   ]
  },
  {
   "cell_type": "code",
   "execution_count": 3,
   "metadata": {},
   "outputs": [
    {
     "name": "stderr",
     "output_type": "stream",
     "text": [
      "\u001b[1minput_line_9:9:5: \u001b[0m\u001b[0;1;31merror: \u001b[0m\u001b[1muse of undeclared identifier 'nochLokaler'\u001b[0m\n",
      "    nochLokaler = 50;\n",
      "\u001b[0;1;32m    ^\n",
      "\u001b[0m"
     ]
    },
    {
     "ename": "Interpreter Error",
     "evalue": "",
     "output_type": "error",
     "traceback": [
      "Interpreter Error: "
     ]
    }
   ],
   "source": [
    "void lokalDemo() {\n",
    "    int lokal = 42;\n",
    "    \n",
    "    if ( lokal == 43 ) {\n",
    "        int nochLokaler = 13;\n",
    "        nochLokaler = nochLokaler + lokal;\n",
    "    }\n",
    "    \n",
    "    nochLokaler = 50;\n",
    "}"
   ]
  },
  {
   "cell_type": "markdown",
   "metadata": {},
   "source": [
    "### Drittes Beispiel\n",
    "\n",
    "Was geschieht mit lokalen Variablen zwischen den Aufrufen? Wie man an dem folgenden Beispiel sieht, ergeben zwei aufeinanderfolgende Aufrufe unterschiedliche Werte."
   ]
  },
  {
   "cell_type": "code",
   "execution_count": 4,
   "metadata": {},
   "outputs": [],
   "source": [
    "#include <iostream>\n",
    "using namespace std;"
   ]
  },
  {
   "cell_type": "code",
   "execution_count": 5,
   "metadata": {},
   "outputs": [],
   "source": [
    "void operation() {\n",
    "    int lokal;\n",
    "    \n",
    "    cout << lokal << endl;\n",
    "}"
   ]
  },
  {
   "cell_type": "code",
   "execution_count": 6,
   "metadata": {},
   "outputs": [
    {
     "name": "stdout",
     "output_type": "stream",
     "text": [
      "21923\n",
      "21923\n",
      "32766\n"
     ]
    }
   ],
   "source": [
    "operation();\n",
    "operation();\n",
    "operation();"
   ]
  },
  {
   "cell_type": "markdown",
   "metadata": {},
   "source": [
    "Dieser Effekt liegt daran, dass bei Aufruf von `operation()` die Variable `lokal`angleget wird. Dazu wird ein Speicherbereich für sie reserviert. Da siw nicht initialisiert wird, bleiben an der entsprechenden Speicherstelle die Werte stehe, die dort vorher standen.\n",
    "\n",
    "Bei einem erneuten Aufruf wird wieder ein Speicherbereich reserviert. Diesmal aber unter Umständen an anderer Stelle. Dadurch hat `lokal` einen anderen Wert.\n",
    "\n",
    "**Merke:** Lokale Variablen werden nach dem Ende der Operation (oder Block) gelöscht. Ihr Wert geht dabei verloren!"
   ]
  },
  {
   "cell_type": "markdown",
   "metadata": {},
   "source": [
    "## Variablen gleichen Namens\n",
    "\n",
    "Es kann natürlich sein, dass in zwei Operationen lokale Variablen gleichen namens vorkommen. Die haben dann nichts miteinander zu tun. D.h. der Wert der einen beeinflusst den Wert der anderen nicht. Besonders deutlich wird dies, wenn man eine der Operationen in der anderen ausführt."
   ]
  },
  {
   "cell_type": "code",
   "execution_count": 1,
   "metadata": {},
   "outputs": [],
   "source": [
    "#include <iostream>\n",
    "using namespace std;"
   ]
  },
  {
   "cell_type": "code",
   "execution_count": 2,
   "metadata": {},
   "outputs": [],
   "source": [
    "void erste() {\n",
    "   int variable = 1;\n",
    "   cout << \"In erste() : \" << variable << endl;\n",
    "}"
   ]
  },
  {
   "cell_type": "code",
   "execution_count": 3,
   "metadata": {},
   "outputs": [],
   "source": [
    "void zweite() {\n",
    "    int variable = 42;\n",
    "\n",
    "    cout << \"Vor erste() : \" << variable << endl;\n",
    "    \n",
    "    erste();\n",
    "    \n",
    "    cout << \"Nach erste() : \" << variable << endl;\n",
    "}"
   ]
  },
  {
   "cell_type": "code",
   "execution_count": 4,
   "metadata": {},
   "outputs": [
    {
     "name": "stdout",
     "output_type": "stream",
     "text": [
      "Vor erste() : 42\n",
      "In erste() : 1\n",
      "Nach erste() : 42\n"
     ]
    }
   ],
   "source": [
    "zweite();"
   ]
  },
  {
   "cell_type": "markdown",
   "metadata": {},
   "source": [
    "Wie man sieht wurde der Wert von `variable` in `zweite()` durch `erste()` nicht verändert."
   ]
  },
  {
   "cell_type": "markdown",
   "metadata": {},
   "source": [
    "Das Gleiche trifft auch auf globale Variablen zu. Ĺokale Variablen gleichen Namens \"überdecken\" globale Variablen."
   ]
  },
  {
   "cell_type": "code",
   "execution_count": 5,
   "metadata": {},
   "outputs": [
    {
     "name": "stdout",
     "output_type": "stream",
     "text": [
      "Vor erste() : 42\n",
      "In erste() : 1\n",
      "Nach erste() : 42\n",
      "Global: 27\n"
     ]
    }
   ],
   "source": [
    "int variable = 27; // Das ist eine globale Variable.\n",
    "\n",
    "zweite();\n",
    "cout << \"Global: \" << variable << endl;"
   ]
  },
  {
   "cell_type": "markdown",
   "metadata": {},
   "source": [
    "Deklariert man die Variable innerhalb der Operation nicht, so wird auf die gleichnamige globale Variable zurück gegriffen."
   ]
  },
  {
   "cell_type": "code",
   "execution_count": 15,
   "metadata": {},
   "outputs": [],
   "source": [
    "int variable = 27;"
   ]
  },
  {
   "cell_type": "code",
   "execution_count": 16,
   "metadata": {},
   "outputs": [],
   "source": [
    "void dritte() {\n",
    "   variable = 1;   // Die Deklaration entfällt!\n",
    "   cout << \"In erste() : \" << variable << endl;\n",
    "}"
   ]
  },
  {
   "cell_type": "code",
   "execution_count": 17,
   "metadata": {},
   "outputs": [
    {
     "name": "stdout",
     "output_type": "stream",
     "text": [
      "In erste() : 1\n",
      "Global: 1\n"
     ]
    }
   ],
   "source": [
    "dritte();\n",
    "cout << \"Global: \" << variable << endl;"
   ]
  },
  {
   "cell_type": "markdown",
   "metadata": {},
   "source": [
    "<div class=\"followup\">\n",
    "    <h3>Wo es weiter geht</h3>\n",
    "    <div>\n",
    "        Wir betrachten die ersten, einfachen Algorithmen und \n",
    "        <a class=\"followup\" href=\"/user-redirect/algoviz/lessons/04_Sortieren/00_Suche.ipynb\">suchen in einem Array</a>    </div>\n",
    "</div>"
   ]
  }
 ],
 "metadata": {
  "kernelspec": {
   "display_name": "C++17",
   "language": "C++17",
   "name": "xcpp17"
  },
  "language_info": {
   "codemirror_mode": "text/x-c++src",
   "file_extension": ".cpp",
   "mimetype": "text/x-c++src",
   "name": "c++",
   "version": "17"
  }
 },
 "nbformat": 4,
 "nbformat_minor": 4
}
