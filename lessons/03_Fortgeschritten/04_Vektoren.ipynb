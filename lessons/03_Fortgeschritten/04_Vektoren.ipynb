{
 "cells": [
  {
   "cell_type": "markdown",
   "metadata": {},
   "source": [
    "# Vektoren"
   ]
  },
  {
   "cell_type": "markdown",
   "metadata": {},
   "source": [
    "<div class=\"prereq\">\n",
    "    <h3>Was man wissen sollte</h3>\n",
    "    <div>\n",
    "        <a class=\"prereq\" href=\"/user-redirect/algoviz/lessons/03_Fortgeschritten/00_Arrays.ipynb\">Arrays</a>\n",
    "    </div>\n",
    "</div>"
   ]
  },
  {
   "cell_type": "markdown",
   "metadata": {},
   "source": [
    "Die \"klassischen\" Arrays sind durch die festgeschriebene Größe sehr unflexibel. Daher stellt C++ eine Reihe von **Klassen** zur Verfügung, die die gleiche Funktion erfüllen aber deutlich flexibler sind. Eine der wohl am häufigsten genutzten ist die Klasse `vector` die wir im Folgenden näher betrachten werden.\n",
    "\n",
    "Grundsätzlich kann man sich einen `vector`als ein Array vorstellen, das die Möglichkeit bietet Elemente einzufügen und zu löschen. Dadurch kann er in vielen Situationen sehr viel einfacher eingesetzt werden als Arrays.\n",
    "\n",
    "Um einen `vector` nutzen zu können muss die entsprechende Bibliothek eingebunden werden. Die Klasse `vector` liegt im Standard-Namespace `std`, so dass wir mit `unsing namespace std` das Voranstellen des Präfixes `std::`vermeiden können."
   ]
  },
  {
   "cell_type": "code",
   "execution_count": 1,
   "metadata": {},
   "outputs": [],
   "source": [
    "#include <vector>\n",
    "#include <iostream>\n",
    "using namespace std;"
   ]
  },
  {
   "cell_type": "markdown",
   "metadata": {},
   "source": [
    "Die Deklaration eines Vektors erfordert die Angabe des Typs, der in ihm gespeichert werden soll. Dies geschieht in dem man bei der Deklaration diesen als **Template-Parameter** angibt."
   ]
  },
  {
   "cell_type": "code",
   "execution_count": 3,
   "metadata": {},
   "outputs": [],
   "source": [
    "// Ein Vektor, der int-Werte speichert.\n",
    "vector<int> zahlen;\n",
    "\n",
    "// Ein Vektor, der Strings speichert.\n",
    "vector<string> texte;"
   ]
  },
  {
   "cell_type": "markdown",
   "metadata": {},
   "source": [
    "Anfänglich enthält der Vektor kein Element. Das kann man mittels `vector::size()` überprüfen.\n",
    "\n",
    "**Anmerkung:** Da wir im Folgenden häufiger verschiedene Typen oder Klassen nutzen, stellen wir den ewileigen Operationen und Befehlen, die auf den Objekten dieser Klassen ausgeführt werden können, ab jetzt immer den Klassennamen und zwei Doppelpunkte voran (s.o.)."
   ]
  },
  {
   "cell_type": "code",
   "execution_count": 4,
   "metadata": {},
   "outputs": [
    {
     "data": {
      "text/plain": [
       "0"
      ]
     },
     "execution_count": 4,
     "metadata": {},
     "output_type": "execute_result"
    }
   ],
   "source": [
    "zahlen.size()"
   ]
  },
  {
   "cell_type": "markdown",
   "metadata": {},
   "source": [
    "Zum Einfügen von ELementen stehen eine Reihe von Operationen zur Verfügung.\n",
    "Eine der einfachsten ist `vector::push_back( wert )` Sie fügt `wert` am Ende ein."
   ]
  },
  {
   "cell_type": "code",
   "execution_count": 5,
   "metadata": {},
   "outputs": [],
   "source": [
    "for ( int wert = 0; wert < 10; wert = wert+1 ) {\n",
    "    zahlen.push_back(wert);\n",
    "}"
   ]
  },
  {
   "cell_type": "markdown",
   "metadata": {},
   "source": [
    "Prüfen wir jetzt die Größe."
   ]
  },
  {
   "cell_type": "code",
   "execution_count": 6,
   "metadata": {},
   "outputs": [
    {
     "data": {
      "text/plain": [
       "10"
      ]
     },
     "execution_count": 6,
     "metadata": {},
     "output_type": "execute_result"
    }
   ],
   "source": [
    "zahlen.size()"
   ]
  },
  {
   "cell_type": "markdown",
   "metadata": {},
   "source": [
    "Auf die Elemente können wir auf die gleiche Art zugreifen, wie be Arrays. "
   ]
  },
  {
   "cell_type": "code",
   "execution_count": 7,
   "metadata": {},
   "outputs": [
    {
     "name": "stdout",
     "output_type": "stream",
     "text": [
      "0 1 2 3 4 5 6 7 8 9 "
     ]
    }
   ],
   "source": [
    "for ( int index = 0; index < zahlen.size(); index = index+1 ) {\n",
    "    cout << zahlen[index] << \" \";\n",
    "}"
   ]
  },
  {
   "cell_type": "markdown",
   "metadata": {},
   "source": [
    "Man kann Werte auch verändern:"
   ]
  },
  {
   "cell_type": "code",
   "execution_count": 8,
   "metadata": {},
   "outputs": [],
   "source": [
    "zahlen[5] = 42;"
   ]
  },
  {
   "cell_type": "code",
   "execution_count": 9,
   "metadata": {},
   "outputs": [
    {
     "name": "stdout",
     "output_type": "stream",
     "text": [
      "0 1 2 3 4 42 6 7 8 9 "
     ]
    }
   ],
   "source": [
    "for ( int index = 0; index < zahlen.size(); index = index+1 ) {\n",
    "    cout << zahlen[index] << \" \";\n",
    "}"
   ]
  },
  {
   "cell_type": "markdown",
   "metadata": {},
   "source": [
    "Versucht man allerdings auf Element zuzugreifen, die es nicht gibt, so weiß man nicht was man erhält:"
   ]
  },
  {
   "cell_type": "code",
   "execution_count": 12,
   "metadata": {},
   "outputs": [
    {
     "data": {
      "text/plain": [
       "1164527969"
      ]
     },
     "execution_count": 12,
     "metadata": {},
     "output_type": "execute_result"
    }
   ],
   "source": [
    "zahlen[10]"
   ]
  },
  {
   "cell_type": "code",
   "execution_count": 13,
   "metadata": {},
   "outputs": [
    {
     "data": {
      "text/plain": [
       "0"
      ]
     },
     "execution_count": 13,
     "metadata": {},
     "output_type": "execute_result"
    }
   ],
   "source": [
    "zahlen[-1]"
   ]
  },
  {
   "cell_type": "code",
   "execution_count": 14,
   "metadata": {},
   "outputs": [
    {
     "data": {
      "text/plain": [
       "1634547781"
      ]
     },
     "execution_count": 14,
     "metadata": {},
     "output_type": "execute_result"
    }
   ],
   "source": [
    "zahlen[11]"
   ]
  },
  {
   "cell_type": "markdown",
   "metadata": {},
   "source": [
    "Man kann auch Werte an Positionen zuweisen, die man vorher nicht hinzugefügt hat."
   ]
  },
  {
   "cell_type": "code",
   "execution_count": 19,
   "metadata": {},
   "outputs": [],
   "source": [
    "zahlen[15] = 17;"
   ]
  },
  {
   "cell_type": "markdown",
   "metadata": {},
   "source": [
    "Man erhält sie sogar zurück."
   ]
  },
  {
   "cell_type": "code",
   "execution_count": 21,
   "metadata": {},
   "outputs": [
    {
     "data": {
      "text/plain": [
       "17"
      ]
     },
     "execution_count": 21,
     "metadata": {},
     "output_type": "execute_result"
    }
   ],
   "source": [
    "zahlen[15]"
   ]
  },
  {
   "cell_type": "markdown",
   "metadata": {},
   "source": [
    "Aber wenn man die Größe erfragt, hat sich nichts geändert."
   ]
  },
  {
   "cell_type": "code",
   "execution_count": 22,
   "metadata": {},
   "outputs": [
    {
     "data": {
      "text/plain": [
       "10"
      ]
     },
     "execution_count": 22,
     "metadata": {},
     "output_type": "execute_result"
    }
   ],
   "source": [
    "zahlen.size()"
   ]
  },
  {
   "cell_type": "code",
   "execution_count": 17,
   "metadata": {},
   "outputs": [
    {
     "name": "stdout",
     "output_type": "stream",
     "text": [
      "0 1 2 3 4 42 6 7 8 9 "
     ]
    }
   ],
   "source": [
    "for ( int index = 0; index < zahlen.size(); index = index+1 ) {\n",
    "    cout << zahlen[index] << \" \";\n",
    "}"
   ]
  },
  {
   "cell_type": "markdown",
   "metadata": {},
   "source": [
    "Das Problem ist, dass die Zuweisung des Wertes an den Index nicht auf dem regulären Weg erfolgte. Daher besteht auch keine Garantie, dass der Wert erhalten bleibt. Daher sollte man das lassen und sicherstellen, dass man nur auf Indices zugreift, sowohl lesend als auch schreibend, die man vorher hinzugefügt hat."
   ]
  },
  {
   "cell_type": "markdown",
   "metadata": {},
   "source": [
    "Will man mehrere Werte hinzufügen bietet sich `vector::assign(anzahl,wert)` an. Dabei wird der Vector geleert und `anzahl` viele Einträge mit dem Wert `wert` hinzugefügt."
   ]
  },
  {
   "cell_type": "code",
   "execution_count": 26,
   "metadata": {},
   "outputs": [],
   "source": [
    "zahlen.assign(5,100);"
   ]
  },
  {
   "cell_type": "markdown",
   "metadata": {},
   "source": [
    "Jetzt sind also alle alten Werte  entfernt worden und fünfmal 100 hinzugefügt worden."
   ]
  },
  {
   "cell_type": "code",
   "execution_count": 28,
   "metadata": {},
   "outputs": [
    {
     "name": "stdout",
     "output_type": "stream",
     "text": [
      "100 100 100 100 100 "
     ]
    }
   ],
   "source": [
    "for ( int index = 0; index < zahlen.size(); index = index+1 ) {\n",
    "    cout << zahlen[index] << \" \";\n",
    "}"
   ]
  },
  {
   "cell_type": "markdown",
   "metadata": {},
   "source": [
    "Bevor wir weitermachen, stellen wir den alten Zustand wieder her. Diesmal aber etwas anders."
   ]
  },
  {
   "cell_type": "code",
   "execution_count": 1,
   "metadata": {},
   "outputs": [
    {
     "name": "stderr",
     "output_type": "stream",
     "text": [
      "\u001b[1minput_line_7:2:2: \u001b[0m\u001b[0;1;31merror: \u001b[0m\u001b[1muse of undeclared identifier 'zahlen'\u001b[0m\n",
      " zahlen.assign(10,0);\n",
      "\u001b[0;1;32m ^\n",
      "\u001b[0m\u001b[1minput_line_7:4:5: \u001b[0m\u001b[0;1;31merror: \u001b[0m\u001b[1muse of undeclared identifier 'zahlen'\u001b[0m\n",
      "    zahlen[index] = index;\n",
      "\u001b[0;1;32m    ^\n",
      "\u001b[0m"
     ]
    },
    {
     "ename": "Interpreter Error",
     "evalue": "",
     "output_type": "error",
     "traceback": [
      "Interpreter Error: "
     ]
    }
   ],
   "source": [
    "zahlen.assign(10,0);\n",
    "\n",
    "for ( int index = 0; index < 10; index = index + 1 ) {\n",
    "    zahlen[index] = index;\n",
    "}"
   ]
  },
  {
   "cell_type": "code",
   "execution_count": 5,
   "metadata": {},
   "outputs": [
    {
     "name": "stdout",
     "output_type": "stream",
     "text": [
      "0 1 2 3 4 5 6 7 8 9 "
     ]
    }
   ],
   "source": [
    "for ( int index = 0; index < zahlen.size(); index = index+1 ) {\n",
    "    cout << zahlen[index] << \" \";\n",
    "}"
   ]
  },
  {
   "cell_type": "markdown",
   "metadata": {},
   "source": [
    "## Iteratoren\n",
    "\n",
    "Um den nächsten Abschnitt besser bearbeiten zu können, stellen wir werstmal wieder eine definierte Ausgangssituation her. Außerdem verwenden wir ab jetzt `char`für die Werte im Vektor, um sie son den Indices unterschieden zu können."
   ]
  },
  {
   "cell_type": "code",
   "execution_count": 1,
   "metadata": {},
   "outputs": [
    {
     "name": "stdout",
     "output_type": "stream",
     "text": [
      "A B C D E F G H I J "
     ]
    }
   ],
   "source": [
    "#include <vector>\n",
    "#include <iostream>\n",
    "using namespace std;\n",
    "\n",
    "vector<char> zeichen;\n",
    "\n",
    "for ( int wert = 0; wert < 10; wert = wert+1 ) {\n",
    "    zeichen.push_back((char)(wert + 'A'));\n",
    "}\n",
    "\n",
    "for ( int wert = 0; wert < 10; wert = wert+1 ) {\n",
    "    cout << zeichen[wert] << \" \";\n",
    "}"
   ]
  },
  {
   "cell_type": "markdown",
   "metadata": {},
   "source": [
    "\n",
    "Ein Konzept, das mit einer Reihe von Datentypen verbunden ist, ist das der **Iteratoren**. Dabei handelt es sich um eine Form der Indizierung, die zusätzliche Möglichkeiten bietet.\n",
    "\n",
    "Man kann sich einen **Iterator** als einen **Zeiger** auf einen der Einträge in dem Vektor vorstellen. Man sagt auch der Iterator **referenziert** den Eintag im Vektor, bzw. ist eine **Referenz** auf den Eintrag (Referenz = Verweis). D.h. der Iterator ist **nicht** der Wert, der an der Stelle gespeichert wurde, sondern er verweist nur auf den Wert!\n",
    "\n",
    "\n",
    "Mit `vector::begin()`erhält man einen Iterator, der auf das erste Element\n",
    "des Vektors zeigt. Entsprechend ist `vector::end()` ein Iterator, der **hinter** das letzte Element des Vektors zeigt.\n",
    "\n",
    "![begin und end](/user-redirect/algoviz/img/03_Fortgeschritten/Iterator_begin_end.png)\n",
    "\n",
    "Holen wir uns den Iterator auf den Anfang. Dafür müssen wir eine entsprechende Variable deklarieren."
   ]
  },
  {
   "cell_type": "code",
   "execution_count": 2,
   "metadata": {},
   "outputs": [],
   "source": [
    "vector<char>::iterator it = zeichen.begin();"
   ]
  },
  {
   "cell_type": "markdown",
   "metadata": {},
   "source": [
    "Wie man sieht ist der Typ eines Iterators recht kompliziert. Er setzt sich aus dem Typ zusammen, der **iteriert** wird, in unserem Fall `vector<int>`, und dem Schlüsselwort `iterator`, getrennt durch die schon häufiger gesehenen doppelten Doppelpunkte."
   ]
  },
  {
   "cell_type": "markdown",
   "metadata": {},
   "source": [
    "Mit einem Iterator kann man auf das Element zugreifen, auf das er zeigt. Allerdings geschieht das auf eine sehr seltsame Art. Man stellt dem Iterator einen Stern voran, alos `*it`. Man sagt, dass der Iterator **dereferenziet** wird, d.h. man greift auf den Wert zu, auf den er zeigt. Entsprechend nennt man den Stern **Dereferenzierungs-Operator**.\n",
    "\n",
    "Holen wir uns den Wert. Da `it` auf das erste Element zeigt, müsste sich 0 ergeben."
   ]
  },
  {
   "cell_type": "code",
   "execution_count": 3,
   "metadata": {},
   "outputs": [
    {
     "data": {
      "text/plain": [
       "'A'"
      ]
     },
     "execution_count": 3,
     "metadata": {},
     "output_type": "execute_result"
    }
   ],
   "source": [
    "*it"
   ]
  },
  {
   "cell_type": "markdown",
   "metadata": {},
   "source": [
    "![Dereferenzieren](/user-redirect/algoviz/img/03_Fortgeschritten/Iterator_dereference.png)"
   ]
  },
  {
   "cell_type": "markdown",
   "metadata": {},
   "source": [
    "Man kann einen Iterator auch verschieben, so dass er auf das nächste zeigt. Das geschieht durch den **Inkrement-Operator** `++`."
   ]
  },
  {
   "cell_type": "code",
   "execution_count": 4,
   "metadata": {},
   "outputs": [
    {
     "data": {
      "text/plain": [
       "@0x55f05994a550"
      ]
     },
     "execution_count": 4,
     "metadata": {},
     "output_type": "execute_result"
    }
   ],
   "source": [
    "it = zeichen.begin();  // Zurück auf den Anfang\n",
    "\n",
    "it++;                 // Erhöhen, d.h. jetzt steht it auf Index 1, Die komische Zahl in der Aufgabe einfach ignorieren"
   ]
  },
  {
   "cell_type": "markdown",
   "metadata": {},
   "source": [
    "![Iterieren](/user-redirect/algoviz/img/03_Fortgeschritten/Iterator_iterate.png)"
   ]
  },
  {
   "cell_type": "code",
   "execution_count": 5,
   "metadata": {},
   "outputs": [
    {
     "data": {
      "text/plain": [
       "'B'"
      ]
     },
     "execution_count": 5,
     "metadata": {},
     "output_type": "execute_result"
    }
   ],
   "source": [
    "*it   // Nachsehen, d.h. Dereferenzieren"
   ]
  },
  {
   "cell_type": "code",
   "execution_count": 6,
   "metadata": {},
   "outputs": [
    {
     "data": {
      "text/plain": [
       "@0x55f0596e4c80"
      ]
     },
     "execution_count": 6,
     "metadata": {},
     "output_type": "execute_result"
    }
   ],
   "source": [
    "it++; \n",
    "it++; // Jetzt müsste er auf 3 stehen"
   ]
  },
  {
   "cell_type": "markdown",
   "metadata": {},
   "source": [
    "![Zweimal vorwärts](/user-redirect/algoviz/img/03_Fortgeschritten/Iterator_iterate2.png)"
   ]
  },
  {
   "cell_type": "code",
   "execution_count": 7,
   "metadata": {},
   "outputs": [
    {
     "data": {
      "text/plain": [
       "'D'"
      ]
     },
     "execution_count": 7,
     "metadata": {},
     "output_type": "execute_result"
    }
   ],
   "source": [
    "*it"
   ]
  },
  {
   "cell_type": "markdown",
   "metadata": {},
   "source": [
    "Es geht auch rückwärts."
   ]
  },
  {
   "cell_type": "code",
   "execution_count": 8,
   "metadata": {},
   "outputs": [],
   "source": [
    "it--;"
   ]
  },
  {
   "cell_type": "code",
   "execution_count": 9,
   "metadata": {},
   "outputs": [
    {
     "data": {
      "text/plain": [
       "'C'"
      ]
     },
     "execution_count": 9,
     "metadata": {},
     "output_type": "execute_result"
    }
   ],
   "source": [
    "*it"
   ]
  },
  {
   "cell_type": "markdown",
   "metadata": {},
   "source": [
    "![Rückwärts iterieren](/user-redirect/algoviz/img/03_Fortgeschritten/Iterator_iterate3.png)"
   ]
  },
  {
   "cell_type": "markdown",
   "metadata": {},
   "source": [
    "Gehen wir mal zurück an den Anfang."
   ]
  },
  {
   "cell_type": "code",
   "execution_count": 11,
   "metadata": {},
   "outputs": [],
   "source": [
    "it = zeichen.begin();"
   ]
  },
  {
   "cell_type": "markdown",
   "metadata": {},
   "source": [
    "Er zeigt jetzt wieder auf den Index 0 (und damit den Wert 0)."
   ]
  },
  {
   "cell_type": "code",
   "execution_count": 12,
   "metadata": {},
   "outputs": [
    {
     "data": {
      "text/plain": [
       "'A'"
      ]
     },
     "execution_count": 12,
     "metadata": {},
     "output_type": "execute_result"
    }
   ],
   "source": [
    "*it"
   ]
  },
  {
   "cell_type": "markdown",
   "metadata": {},
   "source": [
    "Jetzt kombinieren wir mal das Erhöhen und den Zugriff:"
   ]
  },
  {
   "cell_type": "code",
   "execution_count": 13,
   "metadata": {},
   "outputs": [
    {
     "data": {
      "text/plain": [
       "'A'"
      ]
     },
     "execution_count": 13,
     "metadata": {},
     "output_type": "execute_result"
    }
   ],
   "source": [
    "*it++"
   ]
  },
  {
   "cell_type": "markdown",
   "metadata": {},
   "source": [
    "Hmm. Wir hatten doch erhöht ... Na, mal nachsehen ..."
   ]
  },
  {
   "cell_type": "code",
   "execution_count": 14,
   "metadata": {},
   "outputs": [
    {
     "data": {
      "text/plain": [
       "'B'"
      ]
     },
     "execution_count": 14,
     "metadata": {},
     "output_type": "execute_result"
    }
   ],
   "source": [
    "*it"
   ]
  },
  {
   "cell_type": "markdown",
   "metadata": {},
   "source": [
    "Als doch erhöht. Der Punkt ist, dass das Erhöhen **nach** dem Zugriff statt fand. D.h. `*it++` entsprcht `(*it)++`.\n",
    "\n",
    "![Rückwärts iterieren](/user-redirect/algoviz/img/03_Fortgeschritten/Iterator_after_inc.png)\n",
    "\n",
    "Gehen wir wieder zurück an den Anfang und ändern mal die Position von `++`."
   ]
  },
  {
   "cell_type": "code",
   "execution_count": 15,
   "metadata": {},
   "outputs": [
    {
     "data": {
      "text/plain": [
       "'A'"
      ]
     },
     "execution_count": 15,
     "metadata": {},
     "output_type": "execute_result"
    }
   ],
   "source": [
    "it = zeichen.begin();\n",
    "*it"
   ]
  },
  {
   "cell_type": "code",
   "execution_count": 16,
   "metadata": {},
   "outputs": [
    {
     "data": {
      "text/plain": [
       "'B'"
      ]
     },
     "execution_count": 16,
     "metadata": {},
     "output_type": "execute_result"
    }
   ],
   "source": [
    "*++it"
   ]
  },
  {
   "cell_type": "markdown",
   "metadata": {},
   "source": [
    "Diesmal wurde der iterator **vor** dem Zugriff erhöht. Und genau da liegt der Unterschied. `it++` gibt den Wert des Iterators zurück und erhöht ihn anschließend. `++it` hingegen erhöht erst den Iterator und gibt ihn dann zurück. Dieser\n",
    "Unterschied ist ein beliebter Fehler. Also versuchen Sie immer daran zu denken, falls mal ein Index doppelt oder gar nicht berücksichtigt wird.\n",
    "\n",
    "![Rückwärts iterieren](/user-redirect/algoviz/img/03_Fortgeschritten/Iterator_before_inc.png)"
   ]
  },
  {
   "cell_type": "markdown",
   "metadata": {},
   "source": [
    "### Zuweisungen\n",
    "\n",
    "Bevor wir die Iteratoren in Schleifen nutzen, zeigen wir noch, wie man Iteratoren nutzen kann, um einen Wert in dem Vektor zu ändern. Mit den Indices können wir den Wert des entsprechenden Eintrags auf diese Art `zeichen[2] = ' *'` ändern. Mit dem Dereferenzierungs-Operator und einem Iterator geht aber auch `*it = '*'`. Wir probieren das in einem Beispiel aus.\n",
    "\n",
    "Als erstes stellen wir wieder eine Definierte Situation her."
   ]
  },
  {
   "cell_type": "code",
   "execution_count": 51,
   "metadata": {},
   "outputs": [
    {
     "name": "stdout",
     "output_type": "stream",
     "text": [
      "A B C D E F G H I J "
     ]
    }
   ],
   "source": [
    "#include <vector>\n",
    "#include <iostream>\n",
    "using namespace std;\n",
    "\n",
    "vector<char> zeichen;\n",
    "\n",
    "for ( int wert = 0; wert < 10; wert = wert+1 ) {\n",
    "    zeichen.push_back((char)(wert + 'A'));\n",
    "}\n",
    "\n",
    "for ( int wert = 0; wert < 10; wert = wert+1 ) {\n",
    "    cout << zeichen[wert] << \" \";\n",
    "}"
   ]
  },
  {
   "cell_type": "markdown",
   "metadata": {},
   "source": [
    "Jetzt holen wir einen Iterator und schieben ihn zweimal hoch und verändern den Wert an dieser Stelle."
   ]
  },
  {
   "cell_type": "code",
   "execution_count": 52,
   "metadata": {},
   "outputs": [
    {
     "name": "stdout",
     "output_type": "stream",
     "text": [
      "A B * D E F G H I J "
     ]
    }
   ],
   "source": [
    "vector<char>::iterator it = zeichen.begin();\n",
    "\n",
    "it++;  // Index 1\n",
    "it++;  // Index 2\n",
    "\n",
    "// Hier wird der Wert beim Index 2 verändert\n",
    "*it = '*';\n",
    "\n",
    "\n",
    "for ( int wert = 0; wert < 10; wert = wert+1 ) {\n",
    "    cout << zeichen[wert] << \" \";\n",
    "}"
   ]
  },
  {
   "cell_type": "markdown",
   "metadata": {},
   "source": [
    "## Schleifen mit Iteratoren\n",
    "\n",
    "Und wieder stellen wir erstmal eine definierte Ausgangssituation her."
   ]
  },
  {
   "cell_type": "code",
   "execution_count": 24,
   "metadata": {},
   "outputs": [],
   "source": [
    "#include <vector>\n",
    "#include <iostream>\n",
    "using namespace std;\n",
    "\n",
    "vector<char> zeichen;\n",
    "\n",
    "for ( int wert = 0; wert < 10; wert = wert+1 ) {\n",
    "    zeichen.push_back((char)(wert + 'A'));\n",
    "}"
   ]
  },
  {
   "cell_type": "markdown",
   "metadata": {},
   "source": [
    "Den Iterator kann man auch in For-Schleifen verwenden. Man initialisiert den Iterator mit `vector::begin()`, inkrementier ihn mit `it++`und prüft ob er bereits gleich `vector::end()` ist. Dies ist eine bestimmte Position, die **hinter** dem letzten Element liegt und damit zur Prüfung genutzt werden kann, ob das Ende erreicht wurde. Damit sieht die For-Schleife dann so aus."
   ]
  },
  {
   "cell_type": "code",
   "execution_count": 25,
   "metadata": {},
   "outputs": [
    {
     "name": "stdout",
     "output_type": "stream",
     "text": [
      "A B C D E F G H I J "
     ]
    }
   ],
   "source": [
    "for ( vector<char>::iterator it = zeichen.begin(); it != zeichen.end(); it++ ) {\n",
    "    cout << *it << \" \";\n",
    "}"
   ]
  },
  {
   "cell_type": "markdown",
   "metadata": {},
   "source": [
    "Das ist nicht wirklich kürzer. Daher wurde eine etwas elegantere Version der For-Schleife speziell für Datentypen wie `veector` eingeführt, die mit Iteratoren arbeiten können."
   ]
  },
  {
   "cell_type": "code",
   "execution_count": 26,
   "metadata": {},
   "outputs": [
    {
     "name": "stdout",
     "output_type": "stream",
     "text": [
      "A B C D E F G H I J "
     ]
    }
   ],
   "source": [
    "for ( char buchstabe : zeichen ) {\n",
    "    cout << buchstabe << \" \";\n",
    "}"
   ]
  },
  {
   "cell_type": "markdown",
   "metadata": {},
   "source": [
    "Das ist schon viel eleganter. Statt des drei Kompinenten für die Kontrolle der For-Schleife gibt man einen Ausdruck der Form `( <Deklaration der Wert-Variable> : <iterierte Variable> )` an. Das führt dazu, das die Schleife über alle Einträge iteriert und in der Wert-Variable zur Verfügung stellt.\n",
    "\n",
    "Die obige Schleife entspricht somit der Folgenden:"
   ]
  },
  {
   "cell_type": "code",
   "execution_count": 28,
   "metadata": {},
   "outputs": [
    {
     "name": "stdout",
     "output_type": "stream",
     "text": [
      "A B C D E F G H I J "
     ]
    }
   ],
   "source": [
    "char buchstabe;\n",
    "\n",
    "for ( vector<char>::iterator it = zeichen.begin(); it != zeichen.end(); it++ ) {\n",
    "    buchstabe = *it;\n",
    "    \n",
    "    // Jetzt kommt der eigentliche Schleifenrumpf\n",
    "    cout << buchstabe << \" \";\n",
    "}"
   ]
  },
  {
   "cell_type": "markdown",
   "metadata": {},
   "source": [
    " Man beachte, dass die Variable, die die Werte enthält innerhalb der For-Schleife deklariert werden muss! D.h. der Folgende Cose-Abschnitt führt zu einem Fehler, da die Variable **vorher** deklariert wird."
   ]
  },
  {
   "cell_type": "code",
   "execution_count": 29,
   "metadata": {},
   "outputs": [
    {
     "name": "stderr",
     "output_type": "stream",
     "text": [
      "\u001b[1minput_line_51:3:7: \u001b[0m\u001b[0;1;31merror: \u001b[0m\u001b[1mrange-based for loop requires type for loop variable\u001b[0m\n",
      "for ( buchstabe : zeichen ) {\n",
      "\u001b[0;1;32m      ^\n",
      "\u001b[0m"
     ]
    },
    {
     "ename": "Interpreter Error",
     "evalue": "",
     "output_type": "error",
     "traceback": [
      "Interpreter Error: "
     ]
    }
   ],
   "source": [
    "char buchstabe = ' ';\n",
    "\n",
    "for ( buchstabe : zeichen ) {\n",
    "    cout << buchstabe << \" \";\n",
    "}"
   ]
  },
  {
   "cell_type": "markdown",
   "metadata": {},
   "source": [
    "## Einfügen und Löschen\n",
    "\n",
    "Bislang scheinen Iteratoren nur dazu zu führen, dass man eleganter über den Vektor **iterieren** kann. Aber sie haben noch einen praktischen anderen Nutzen. Hat man einen Iterator auf eine Position im Vekor, dann kann man mit `vector::insert(iterator,wert)` den Wert `wert` **vor** der aktuellen Position einfügen."
   ]
  },
  {
   "cell_type": "code",
   "execution_count": 36,
   "metadata": {},
   "outputs": [
    {
     "data": {
      "text/plain": [
       "'E'"
      ]
     },
     "execution_count": 36,
     "metadata": {},
     "output_type": "execute_result"
    }
   ],
   "source": [
    "#include <vector>\n",
    "#include <iostream>\n",
    "using namespace std;\n",
    "\n",
    "vector<char> zeichen;\n",
    "\n",
    "for ( int wert = 0; wert < 10; wert = wert+1 ) {\n",
    "    zeichen.push_back((char)(wert + 'A'));\n",
    "}\n",
    "\n",
    "// Jetzt bringen wir uns in Position\n",
    "\n",
    "vector<char>::iterator it = zeichen.begin();  // it steht auf Index 0\n",
    "it = it + 4;                                  // ... auf Index 4\n",
    "\n",
    "*it"
   ]
  },
  {
   "cell_type": "markdown",
   "metadata": {},
   "source": [
    "Jetzt fügen wir etwas ein und sehen nach. Der Befehl gibt einen neuen Iterator zurück, der auf das neu eingefügte Element zeigt. Man sollte nach dem Einfügen den \"alten\" Iterator nicht mehr verwenden, da er unter Umständen nicht mehr funktioniert. Daher ist es eine gute Idee, so vorzugehen:"
   ]
  },
  {
   "cell_type": "code",
   "execution_count": 37,
   "metadata": {},
   "outputs": [],
   "source": [
    "it = zeichen.insert(it,'*');"
   ]
  },
  {
   "cell_type": "markdown",
   "metadata": {},
   "source": [
    "Sehen wir mal nach."
   ]
  },
  {
   "cell_type": "code",
   "execution_count": 38,
   "metadata": {},
   "outputs": [
    {
     "name": "stdout",
     "output_type": "stream",
     "text": [
      "A B C D * E F G H I J "
     ]
    }
   ],
   "source": [
    "for ( char buchstabe : zeichen ) {\n",
    "    cout << buchstabe << \" \";\n",
    "}"
   ]
  },
  {
   "cell_type": "markdown",
   "metadata": {},
   "source": [
    "Der `'*'` wurde **vor** dem `'E'` eingefügt. Schauen wir nach, wo `it` hinzeigt."
   ]
  },
  {
   "cell_type": "code",
   "execution_count": 39,
   "metadata": {},
   "outputs": [
    {
     "data": {
      "text/plain": [
       "'*'"
      ]
     },
     "execution_count": 39,
     "metadata": {},
     "output_type": "execute_result"
    }
   ],
   "source": [
    "*it"
   ]
  },
  {
   "cell_type": "markdown",
   "metadata": {},
   "source": [
    "Er zeigt auf das **neue** Element. Hier nochmal grafisch zusammen gefasst."
   ]
  },
  {
   "cell_type": "markdown",
   "metadata": {},
   "source": [
    "![Insert](/user-redirect/algoviz/img/03_Fortgeschritten/Iterator_insert.png)"
   ]
  },
  {
   "cell_type": "markdown",
   "metadata": {},
   "source": [
    "Mit `vector::erase(iterator)` kann man im Grunde genauso ein Element löschen. Auch hier sollte man den Iterator \"erneuern\"."
   ]
  },
  {
   "cell_type": "code",
   "execution_count": 40,
   "metadata": {},
   "outputs": [],
   "source": [
    "it = zeichen.erase(it);"
   ]
  },
  {
   "cell_type": "code",
   "execution_count": 41,
   "metadata": {},
   "outputs": [
    {
     "name": "stdout",
     "output_type": "stream",
     "text": [
      "A B C D E F G H I J "
     ]
    }
   ],
   "source": [
    "for ( char buchstabe : zeichen ) {\n",
    "    cout << buchstabe << \" \";\n",
    "}"
   ]
  },
  {
   "cell_type": "markdown",
   "metadata": {},
   "source": [
    "Jetzt wollen wir das Einfügen mal nutzen. Wir wollen zufällige Buchstaben erzeugen und sortiert in einen Vektor einfügen. \n",
    "\n",
    "**Anmerkung:** Die zufälligen Buchstaben werden  mit Hilfe von Zufallszahlen zwischen 0 und 25 erzeugt. Diese wiederum erzeugen wir mit `std::rand()`. Mit `srand(time(NULL))` initialisieren wir den Zufallsgenerator.\n",
    "\n",
    "Die Idee des Algorithmus ist, dass wir für jeden Wert einen Iterator auf den Beginn des Vectors setzen.\n",
    "Anschließend erhöhen wir den Iterator, solange der Wert auf den er zeigt kleiner als der einzufügende Wert ist\n",
    "und das Ende noch nicht erreicht wurde."
   ]
  },
  {
   "cell_type": "code",
   "execution_count": 47,
   "metadata": {},
   "outputs": [],
   "source": [
    "#include <vector>\n",
    "#include <iostream>\n",
    "\n",
    "using namespace std;\n",
    "\n",
    "// Initialisiere den Zufallsgenerator\n",
    "srand (time(nullptr));\n",
    "\n",
    "vector<char> zeichen; \n",
    "\n",
    "for (int i = 0; i < 10; i=i+1 ) {\n",
    "    // Erzeuge einen zufälligen Buchstaben\n",
    "    char buchstabe = (char)('A' + (rand() % 26)); \n",
    "    \n",
    "    vector<char>::iterator it = zeichen.begin();\n",
    "    \n",
    "    // Solange das Ende nicht erreicht wurde und der Wert beim Iterator kleiner ist ...\n",
    "    while ( (it != zeichen.end()) && (*it < buchstabe) ) {\n",
    "        // .. gehe weiter\n",
    "        it++;        \n",
    "    }\n",
    "    // Jetzt steht der Iterator hinter dem letzten Wert, der kleiner ist.\n",
    "    // Also fügen wir hier ein.\n",
    "    \n",
    "    zeichen.insert(it,buchstabe);\n",
    "}"
   ]
  },
  {
   "cell_type": "markdown",
   "metadata": {},
   "source": [
    "Dann schauen wir mal nach."
   ]
  },
  {
   "cell_type": "code",
   "execution_count": 48,
   "metadata": {},
   "outputs": [
    {
     "name": "stdout",
     "output_type": "stream",
     "text": [
      "A I M N Q Q Q R T X "
     ]
    }
   ],
   "source": [
    "for ( char buchstabe : zeichen ) {\n",
    "    cout << buchstabe << \" \";\n",
    "}"
   ]
  },
  {
   "cell_type": "markdown",
   "metadata": {},
   "source": [
    "Hat scheinbar geklappt."
   ]
  },
  {
   "cell_type": "markdown",
   "metadata": {},
   "source": [
    "<div class=\"task\">\n",
    "    <h3>Aufgabe</h3>\n",
    "    <div>\n",
    "        <p>Schreiben Sie ein Programm, dass einen Vektor mit 50 zufällige Zahlen zwischen 0 und 9 erzeugt.\n",
    "        Anschließend sollen aus diesem Vektor alle durch drei teilbaren Zahlen entfernt und in einen zweiten Vektor\n",
    "        eingefügt werden.\n",
    "        </p>\n",
    "        <p>\n",
    "            Das Programm ist in der nächsten Zelle vollständig enthalten. Leider sind die Zeilen etwas\n",
    "            durcheinander geraten. Reparieren Sie es!\n",
    "        </p>\n",
    "        <p>\n",
    "        <b>Hinweis:</b> Eine Zahl <tt>x</tt> ist genau dann durch drei teilbar, wenn <tt>x % 3 == 0</tt> gilt.\n",
    "        </p>\n",
    "    </div>\n",
    "</div>"
   ]
  },
  {
   "cell_type": "code",
   "execution_count": 18,
   "metadata": {},
   "outputs": [
    {
     "name": "stderr",
     "output_type": "stream",
     "text": [
      "\u001b[1minput_line_38:11:17: \u001b[0m\u001b[0;1;31merror: \u001b[0m\u001b[1muse of undeclared identifier 'it'\u001b[0m\n",
      "drei.push_back(*it);\n",
      "\u001b[0;1;32m                ^\n",
      "\u001b[0m\u001b[1minput_line_38:14:7: \u001b[0m\u001b[0;1;31merror: \u001b[0m\u001b[1muse of undeclared identifier 'it'\u001b[0m\n",
      "if ( *it % 3 == 0 ) {\n",
      "\u001b[0;1;32m      ^\n",
      "\u001b[0m\u001b[1minput_line_38:15:1: \u001b[0m\u001b[0;1;31merror: \u001b[0m\u001b[1muse of undeclared identifier 'it'\u001b[0m\n",
      "it++;\n",
      "\u001b[0;1;32m^\n",
      "\u001b[0m"
     ]
    },
    {
     "ename": "Interpreter Error",
     "evalue": "",
     "output_type": "error",
     "traceback": [
      "Interpreter Error: "
     ]
    }
   ],
   "source": [
    "#include <vector>\n",
    "#include <iostream>\n",
    "\n",
    "using namespace std;\n",
    "\n",
    "// Initialisiere den Zufallsgenerator\n",
    "srand (time(nullptr));\n",
    "\n",
    "vector<int> alle;\n",
    "vector<int> drei;\n",
    "\n",
    "for (int i = 0; i < 50; i=i+1 ) {\n",
    "    alle.push_back(rand() % 10);\n",
    "}\n",
    "\n",
    "// Ab hier ist es durcheinander\n",
    "\n",
    "drei.push_back(*it);\n",
    "\n",
    "for ( int wert : alle ) {\n",
    "for ( int wert : drei ) {\n",
    "\n",
    "if ( *it % 3 == 0 ) {\n",
    "it++;\n",
    "vector<int>::iterator it = alle.begin();\n",
    "it = alle.erase(it);\n",
    "\n",
    "cout << endl;\n",
    "cout << wert << \" \";\n",
    "cout << wert << \" \";\n",
    "\n",
    "while ( it != alle.end() ) {\n",
    "    \n",
    "}\n",
    "} else {\n",
    "}\n",
    "}    \n",
    "}"
   ]
  },
  {
   "cell_type": "markdown",
   "metadata": {},
   "source": [
    "# Noch ein paar Dinge zu den Iteratoren\n",
    "\n",
    "Zuerst stellen wir wieder eine definierte Situation her."
   ]
  },
  {
   "cell_type": "code",
   "execution_count": 2,
   "metadata": {},
   "outputs": [],
   "source": [
    "#include <vector>\n",
    "#include <iostream>\n",
    "using namespace std;\n",
    "\n",
    "vector<int> zahlen;\n",
    "\n",
    "for ( int wert = 0; wert < 10; wert = wert+1 ) {\n",
    "    zahlen.push_back(wert);\n",
    "}"
   ]
  },
  {
   "cell_type": "markdown",
   "metadata": {},
   "source": [
    "Wir können auf Iteratoren auch eine Anzahl von Schritten aufaddieren bzw. subtrahieren."
   ]
  },
  {
   "cell_type": "code",
   "execution_count": 3,
   "metadata": {},
   "outputs": [
    {
     "name": "stdout",
     "output_type": "stream",
     "text": [
      "Index 5 : 5\n",
      "Index 3 : 2\n"
     ]
    }
   ],
   "source": [
    "vector<int>::iterator it = zahlen.begin();     // Auf Index 0\n",
    "\n",
    "it = it + 5;\n",
    "cout << \"Index 5 : \" << *it << endl;\n",
    "\n",
    "it = it - 3;\n",
    "cout << \"Index 2 : \" << *it << endl;"
   ]
  },
  {
   "cell_type": "markdown",
   "metadata": {},
   "source": [
    "Das geht auch ohne `it` zu verändern:"
   ]
  },
  {
   "cell_type": "code",
   "execution_count": 4,
   "metadata": {},
   "outputs": [
    {
     "name": "stdout",
     "output_type": "stream",
     "text": [
      "it+6 : 8\n",
      "it : 2\n"
     ]
    }
   ],
   "source": [
    "cout << \"it+6 : \" << *(it+6) << endl; // Man beachte die Klammerung!\n",
    "\n",
    "cout << \"it : \" << *it << endl;"
   ]
  },
  {
   "cell_type": "markdown",
   "metadata": {},
   "source": [
    "Wie man sieht wurde durch `it+6` die Position von `it` nicht verändert."
   ]
  },
  {
   "cell_type": "markdown",
   "metadata": {},
   "source": [
    "<div class=\"followup\">\n",
    "    <h3>Wo es weiter geht</h3>\n",
    "    <div>\n",
    "        <a class=\"followup\" href=\"/user-redirect/algoviz/lessons/03_Fortgeschritten/05_Shortcuts.ipynb\">Einige Kurzschreibweisen</a>\n",
    "    </div>\n",
    "</div>"
   ]
  }
 ],
 "metadata": {
  "kernelspec": {
   "display_name": "C++17",
   "language": "C++17",
   "name": "xcpp17"
  },
  "language_info": {
   "codemirror_mode": "text/x-c++src",
   "file_extension": ".cpp",
   "mimetype": "text/x-c++src",
   "name": "c++",
   "version": "17"
  }
 },
 "nbformat": 4,
 "nbformat_minor": 4
}
