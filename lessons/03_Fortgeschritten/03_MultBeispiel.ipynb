{
 "cells": [
  {
   "cell_type": "markdown",
   "metadata": {},
   "source": [
    "# Beispiel: SimplePaint"
   ]
  },
  {
   "cell_type": "markdown",
   "metadata": {},
   "source": [
    "<div class=\"prereq\">\n",
    "    <h3>Was man wissen sollte</h3>\n",
    "    <div>\n",
    "        <a class=\"prereq\" href=\"/user-redirect/algoviz/lessons/03_Fortgeschritten/02_MultArray.ipynb\">\n",
    "            Mehrdimensionale Arrays</a>\n",
    "    </div>\n",
    "</div>"
   ]
  },
  {
   "cell_type": "markdown",
   "metadata": {},
   "source": [
    "Im Folgenden werden wir ein Beiepiel vorführen, in dem ein Bild durch Mausklicks gemalt wird. Dazu führen wir die Möglichkeit ein auf Mausklicks zu reagieren. Das Ganze funktioniert ähnlich wie das Verwenden von Tasten."
   ]
  },
  {
   "cell_type": "markdown",
   "metadata": {},
   "source": [
    "## Die Maus\n",
    "\n",
    "Als erstes benötigen Wir ein SVG in das wir klicken können."
   ]
  },
  {
   "cell_type": "code",
   "execution_count": 1,
   "metadata": {},
   "outputs": [],
   "source": [
    "#include <algoviz/SVG.hpp>\n",
    "using namespace std;\n",
    "\n",
    "AlgoViz::clear();\n",
    "\n",
    "SVG zeichnung = SVG(400,400);"
   ]
  },
  {
   "cell_type": "markdown",
   "metadata": {},
   "source": [
    "Ob es einen Mausclick gab, fragen wir mit Die Maus fragen wir `zeichnung.lastClick()` ab. Dieser Befehl gibt als Ergebnis ein Objekt der Klasse `MausState` zurück. In ihm werden dei Koordinaten des Mausklicks und die gedrückten Tasten gespeichert."
   ]
  },
  {
   "cell_type": "markdown",
   "metadata": {},
   "source": [
    "Noch eine Bemerkung: Mit `AlgoViz::sendText(\"Text\");` kann man eine Nachricht im Sidebar anzeigen lassen."
   ]
  },
  {
   "cell_type": "code",
   "execution_count": 2,
   "metadata": {},
   "outputs": [
    {
     "name": "stdout",
     "output_type": "stream",
     "text": [
      "167,76\n",
      "199,167\n",
      "314,281\n",
      "75,283\n",
      "46,128\n",
      "227,81\n",
      "342,303\n",
      "208,393\n",
      "45,69\n",
      "325,37\n",
      "364,-8\n",
      "386,175\n",
      "262,353\n",
      "55,393\n",
      "361,411\n",
      "13,-19\n",
      "253,9\n",
      "358,-17\n",
      "305,168\n",
      "137,180\n",
      "71,281\n",
      "163,337\n",
      "280,261\n",
      "164,330\n",
      "89,150\n",
      "179,197\n",
      "102,49\n",
      "255,45\n",
      "302,95\n"
     ]
    }
   ],
   "source": [
    "// Die Variable zum Speichern der Daten das Klicks\n",
    "MouseState maus;\n",
    "string taste;\n",
    "\n",
    "// Gebe eine Nachricht aus, die den Beginn der Schleife anzeigt.\n",
    "AlgoViz::sendText(\"Beenden mit beliebiger Taste\");\n",
    "\n",
    "do {\n",
    "    taste = zeichnung.lastKey();\n",
    "    \n",
    "    // Hole den letzten Klick\n",
    "    maus = zeichnung.lastClick();\n",
    "    \n",
    "    // Wenn es einen Klick gab ...\n",
    "    if ( maus.isLegal() ) {\n",
    "        // ... gebe die Koordinaten des Klicks im SVG aus und welche Taste gedrückt wurde.\n",
    "        cout << maus.x() << \",\" << maus.y() << endl;\n",
    "    }\n",
    "  \n",
    "} while ( taste == \"\" );\n",
    "\n",
    "// Gebe eine Nachricht aus, die das Ende anzeigt.\n",
    "AlgoViz::sendText(\"Ende\");"
   ]
  },
  {
   "cell_type": "markdown",
   "metadata": {},
   "source": [
    "Wie man sieht kann man mit `maus.x()`und `maus.y()` die Koordinaten des Klicks im SVG abfragen. Und das werden wir nutzen, um ein Bild zu zeichnen."
   ]
  },
  {
   "cell_type": "markdown",
   "metadata": {},
   "source": [
    "## Die Pixel\n",
    "\n",
    "Als erstes benötigen wir Pixel, d.h. Bildpunkte, die wir mit dem Mausklick einfärben können. Jedes Pixel ist ein Rechteck und sie sind alle in einm zweidimensionalen Gitter angeordnet. Daher eignet sich eine zweidimensionales Array `rects`, in der wir Objekte der lasse `Rect` verwalten. Das Ganze funktioniert so ähnlich, wie beim Beispiel [Snake](/user-redirect/algoviz/lessons/03_Fortgeschritten/01_Snake.ipynb). Außerdem speichern wir in einem weiteren zweidimensionalen Array `bild` für jeden Pixel die Farbe, 0 für weiß und 1 für schwarz."
   ]
  },
  {
   "cell_type": "code",
   "execution_count": 3,
   "metadata": {},
   "outputs": [],
   "source": [
    "/**\n",
    " ** Das Gitter aus Rechtecken.\n",
    " **/\n",
    "#include <algoviz/SVG.hpp>\n",
    "using namespace std;\n",
    "\n",
    "AlgoViz::clear();\n",
    "\n",
    "SVG zeichnung = SVG(400,400);\n",
    "\n",
    "// Die \"Farbwerte\" der Pixel.\n",
    "// Das Bild besteht aus 40x40 Pixeln.\n",
    "int bild[40][40];\n",
    "\n",
    "// Die Rechtecke, die die Pixel darstellen.\n",
    "Rect rects[40][40];\n",
    "\n",
    "// Durchlaufe alle Pixel\n",
    "for ( int spalte = 0 ; spalte < 40; spalte = spalte+1 ) {\n",
    "    for ( int zeile = 0 ; zeile < 40; zeile = zeile+1 ) {\n",
    "        \n",
    "        // Bewege das Rechteck an die richtige Stelle\n",
    "        rects[spalte][zeile].moveTo(spalte*10,zeile*10);\n",
    "        // Setze es auf die richtige Größe\n",
    "        rects[spalte][zeile].setWidth(10);\n",
    "        rects[spalte][zeile].setHeight(10);\n",
    "    \n",
    "        // Alle Pixel solen weiß sein.\n",
    "        bild[spalte][zeile] = 0;\n",
    "        \n",
    "        // Setze die Farbe der Pixel (in diesem Beispiel eigentlich unnötig)\n",
    "        if ( bild[spalte][zeile] == 1 ) {\n",
    "            rects[spalte][zeile].setFill(\"black\");\n",
    "        } else {\n",
    "            rects[spalte][zeile].setFill(\"white\");\n",
    "        }\n",
    "\n",
    "        // Füge das Rechteck zur Zeichnung hinzu.\n",
    "        rects[spalte][zeile].addTo(&zeichnung);\n",
    "        \n",
    "    }    \n",
    "}"
   ]
  },
  {
   "cell_type": "markdown",
   "metadata": {},
   "source": [
    "Das man 1600 Rechtecke zeichnet und die Kommunikation etwas langsam ist, sieht man den Bildaufbau. Insbesondere sieht man, dass das Gitter spaltenweise aufgebaut wird, da die äußere Schleife die Spalten durchläuft."
   ]
  },
  {
   "cell_type": "markdown",
   "metadata": {},
   "source": [
    "## Das \"Malen\"\n",
    "\n",
    "Jetzt verwenden wir die Maus um die Pixel zu färben. Dazu bestimmen wir die Koordinaten des Mausklicks. Da die Piexl eine Breite und Höhe von 10 haben, müssen wir die Koordinaten des Klicks jeweils durch 10 teilen, um die Koordinaten des Pixels zu erhalten. Dann können wir seinen Wert \"kippen\" und seine Farbe aktualisieren."
   ]
  },
  {
   "cell_type": "code",
   "execution_count": 4,
   "metadata": {},
   "outputs": [],
   "source": [
    "/**\n",
    " ** Jeder Mausklick verändert die Farbe des jeweiligen Pixels\n",
    " **/\n",
    "string taste = \"\";\n",
    "MouseState maus;\n",
    "\n",
    "AlgoViz::sendText(\"Beenden mit einer beliebigen Taste\");\n",
    "\n",
    "do {\n",
    "    // Hole die letzte Taste\n",
    "    taste = zeichnung.lastKey();\n",
    "    \n",
    "    // Hole den letzten Mausklick\n",
    "    maus = zeichnung.lastClick();\n",
    "    \n",
    "    // Falls er \"legal\" ist, d.h. seine Koordinaten im SVG liegen ...\n",
    "    if ( maus.isLegal() ) {\n",
    "        // Berechne die Koordinaten des Pixels\n",
    "        int spalte = maus.x()/10;\n",
    "        int zeile = maus.y()/10;\n",
    "    \n",
    "        // \"Kippe\" den Wert des Pixels, 0 -> 1 -> 0\n",
    "        bild[spalte][zeile] = 1- bild[spalte][zeile];\n",
    "        \n",
    "        // Aktualisiere die Farbe des Pixels.\n",
    "        if ( bild[spalte][zeile] == 1 ) {\n",
    "            rects[spalte][zeile].setFill(\"black\");\n",
    "        } else {\n",
    "            rects[spalte][zeile].setFill(\"white\");\n",
    "        }\n",
    "    }\n",
    "    \n",
    "} while ( taste == \"\" ); // Fahre fort, wenn keine Taste gedrückt wurde.\n",
    "\n",
    "AlgoViz::sendText(\"Ende!\");"
   ]
  },
  {
   "cell_type": "markdown",
   "metadata": {},
   "source": [
    "## Speichern\n",
    "\n",
    "Jetzt kann man das Bild speichern. Dazu verwenden wir ein einfaches System mit dem man zweifarbige Bilder komprimieren kann. Ein ähnliches System wird bei der Übertragung von Faxen eingesetzt.\n",
    "\n",
    "Hier ist der Programmcode, der die Kompression durchführt."
   ]
  },
  {
   "cell_type": "code",
   "execution_count": 21,
   "metadata": {},
   "outputs": [
    {
     "name": "stdout",
     "output_type": "stream",
     "text": [
      "492 1 50 1 74 1 40 1 37 1 42 1 43 1 124 1 195 1 27 1 466"
     ]
    }
   ],
   "source": [
    "int aktuell = 0;\n",
    "int zaehler = 0;\n",
    "string daten = \"\";\n",
    "\n",
    "for ( int zeile = 0 ; zeile < 40; zeile = zeile+1 ) {\n",
    "    for ( int spalte = 0 ; spalte < 40; spalte = spalte+1 ) {\n",
    "        if ( bild[spalte][zeile] != aktuell ) {\n",
    "            daten = daten + to_string(zaehler) + \" \";\n",
    "            aktuell = bild[spalte][zeile];\n",
    "            zaehler = 1;\n",
    "        } else {\n",
    "            zaehler=zaehler+1;\n",
    "        }\n",
    "    }    \n",
    "}\n",
    "\n",
    "daten = daten + to_string(zaehler);\n",
    "\n",
    "cout << daten;"
   ]
  },
  {
   "cell_type": "markdown",
   "metadata": {},
   "source": [
    "<div class=\"task\">\n",
    "    <h3>Aufgabe</h3>\n",
    "    <div>\n",
    "        Die folgende Sequenz codiert ein Bild der Breite 12 Pixel. Rekonstruieren Sie das Bild (von Hand oder mit Programm).\n",
    "        <center>\n",
    "            <a title=\"all\" target=\"_new\" href=\"https://www.youtube.com/watch?v=Gsy5sJy5_34\">\n",
    "                1 2 9 1 2 1 6 1 1 1 2 1 5 1 1 2 2 1 5 1 1 2 2 3 3 1 1 2 2 1</a><br/>\n",
    "            <a title=\"over\"  target=\"_new\" href=\"https://www.youtube.com/watch?v=CbI79e5iZKs\">\n",
    "                2 4 1 2 2 1 2 1 2 1 1 6 1 1 2 1 1 2 4 2 2 1 1 2 4 2 2 1 1</a><br/>\n",
    "            <a title=\"the world\"  target=\"_new\" href=\"https://www.youtube.com/watch?v=v4xZUr0BEfE\">\n",
    "                2 2 2 2 2 2 2 2 1 7 2 3 1 6 2 4 1 5 2 4 1 5 1 1 1 8 1 3 8 2</a>\n",
    "            </center></a>\n",
    "    </div>\n",
    "</div>                "
   ]
  },
  {
   "cell_type": "code",
   "execution_count": 17,
   "metadata": {},
   "outputs": [],
   "source": [
    "int code[] = {\n",
    "    1, 2, 9, 1, 2, 1, 6, 1, 1, 1, 2, 1, 5, 1, 1, 2, 2, 1, 5, 1,\n",
    "    1, 2, 2, 3, 3, 1, 1, 2, 2, 1, 2, 4, 1, 2, 2, 1, 2, 1, 2, 1,\n",
    "    1, 6, 1, 1, 2, 1, 1, 2, 4, 2, 2, 1, 1, 2, 4, 2, 2, 1, 1, 2,\n",
    "    2, 2, 2, 2, 2, 2, 2, 1, 7, 2, 3, 1, 6, 2, 4, 1, 5, 2, 4, 1,\n",
    "    5, 1, 1, 1, 8, 1, 3, 8, 2 };"
   ]
  },
  {
   "cell_type": "markdown",
   "metadata": {},
   "source": [
    "<div class=\"followup\">\n",
    "    <h3>Wo es weiter geht</h3>\n",
    "    <div>\n",
    "        <a class=\"followup\" href=\"/user-redirect/algoviz/lessons/03_Fortgeschritten/04_Vektoren.ipynb\">Vektoren</a>.\n",
    "    </div>\n",
    "</div>"
   ]
  }
 ],
 "metadata": {
  "kernelspec": {
   "display_name": "C++17",
   "language": "C++17",
   "name": "xcpp17"
  },
  "language_info": {
   "codemirror_mode": "text/x-c++src",
   "file_extension": ".cpp",
   "mimetype": "text/x-c++src",
   "name": "c++",
   "version": "17"
  }
 },
 "nbformat": 4,
 "nbformat_minor": 4
}
