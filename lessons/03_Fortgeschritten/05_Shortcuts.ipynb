{
 "cells": [
  {
   "cell_type": "markdown",
   "metadata": {},
   "source": [
    "# Kurzschreibweisen\n",
    "\n",
    "In dieser Lesson führen wir nur eine Reihe von Kurzschreibweisen ein, die in vielen C/C++ Programmen und auch andern Programmiersprachen zu finden sind."
   ]
  },
  {
   "cell_type": "code",
   "execution_count": 1,
   "metadata": {},
   "outputs": [],
   "source": [
    "#include <iostream>\n",
    "using namespace std;"
   ]
  },
  {
   "cell_type": "markdown",
   "metadata": {},
   "source": [
    "## Zusammengesetzte Operatoren\n",
    "\n",
    "Neben den bisher eingefügten Rechen-Operatoren `+`, `-`, `*` , `/` und `%`, sowie den Vergleichen `==`, `<`, `<=`, `>` und `>=` sowie dem Zuweisungsoperator `=`, gibt es auch **zusammengesetzte Operatoren**: `+=`, `-=`, `*=`, `/=` und `%=`.\n",
    "Diese Verbinden eine entsprechende Rechnung mit einer Zuweisung. Sie werden folgendermaßen verwendet:"
   ]
  },
  {
   "cell_type": "code",
   "execution_count": 2,
   "metadata": {},
   "outputs": [
    {
     "name": "stdout",
     "output_type": "stream",
     "text": [
      "42"
     ]
    }
   ],
   "source": [
    "int wert = 40;      // Eine Variable\n",
    "\n",
    "wert += 2;\n",
    "\n",
    "cout << wert;"
   ]
  },
  {
   "cell_type": "markdown",
   "metadata": {},
   "source": [
    "Die Anweisung `wert += 2` entspricht dabei `wert = wert + 2`, d.h. der Wert der Variable auf der linken Seite und der Wert auf der rechten Seite werden addiert und anschließend in der Varibale lnks gespeichert. Die andern zusammengesetzten Operatoren funktionieren genauso."
   ]
  },
  {
   "cell_type": "code",
   "execution_count": 3,
   "metadata": {},
   "outputs": [
    {
     "name": "stdout",
     "output_type": "stream",
     "text": [
      "42"
     ]
    }
   ],
   "source": [
    "wert = 72;\n",
    "    \n",
    "wert -= 30;\n",
    "\n",
    "cout << wert;"
   ]
  },
  {
   "cell_type": "code",
   "execution_count": 4,
   "metadata": {},
   "outputs": [
    {
     "name": "stdout",
     "output_type": "stream",
     "text": [
      "42"
     ]
    }
   ],
   "source": [
    "wert = 21;\n",
    "\n",
    "wert *= 2;\n",
    "\n",
    "cout << wert;"
   ]
  },
  {
   "cell_type": "code",
   "execution_count": 5,
   "metadata": {},
   "outputs": [
    {
     "name": "stdout",
     "output_type": "stream",
     "text": [
      "42"
     ]
    }
   ],
   "source": [
    "wert = 126;\n",
    "\n",
    "wert /= 3;\n",
    "\n",
    "cout << wert;"
   ]
  },
  {
   "cell_type": "code",
   "execution_count": 6,
   "metadata": {},
   "outputs": [
    {
     "name": "stdout",
     "output_type": "stream",
     "text": [
      "42"
     ]
    }
   ],
   "source": [
    "wert = 92;\n",
    "\n",
    "wert %= 50;\n",
    "\n",
    "cout << wert;"
   ]
  },
  {
   "cell_type": "markdown",
   "metadata": {},
   "source": [
    "## Inkrement und Dekrement\n",
    "\n",
    "Ähnlich wie die Iteratoren kann man auch Integer-Variablen mit den Operatoren `++` und `--` um eins erhöhen oder senken.\n",
    "D.h. nach `wert++` ist der Wert der Variable `wert`um eins erhöht worden. Entsprechend senkt `wert--` den Wert."
   ]
  },
  {
   "cell_type": "code",
   "execution_count": 10,
   "metadata": {},
   "outputs": [
    {
     "name": "stdout",
     "output_type": "stream",
     "text": [
      "Vorher  : 42\n",
      "Nach ++ : 43\n",
      "Nach -- : 42\n"
     ]
    }
   ],
   "source": [
    "int wert = 42;\n",
    "\n",
    "cout << \"Vorher  : \" << wert << endl;\n",
    "\n",
    "wert++;\n",
    "\n",
    "cout << \"Nach ++ : \" << wert << endl;\n",
    "\n",
    "wert--;\n",
    "\n",
    "cout << \"Nach -- : \" << wert << endl;"
   ]
  },
  {
   "cell_type": "markdown",
   "metadata": {},
   "source": [
    "Es gibt aber noch eine Subtilität, die beachtet werden muss. Wir sehen sie im folgenden Beispiel."
   ]
  },
  {
   "cell_type": "code",
   "execution_count": 12,
   "metadata": {},
   "outputs": [
    {
     "name": "stdout",
     "output_type": "stream",
     "text": [
      "Vorher : 0\n",
      "Während: 0\n",
      "Nachher: 1\n"
     ]
    }
   ],
   "source": [
    "int wert = 0;\n",
    "\n",
    "cout << \"Vorher : \" << wert << endl;\n",
    "cout << \"Während: \" << wert++ << endl;  // Hier wird wert um eins erhöht\n",
    "cout << \"Nachher: \" << wert << endl;"
   ]
  },
  {
   "cell_type": "markdown",
   "metadata": {},
   "source": [
    "Wie man sieht, wird in der zweiten Zeile noch der **alte** Wert ausgegeben. D.h. das Ergebnis von `wert++` ist der alte Wert von `wert`. Erst danach wird die Variable erhöht.\n",
    "\n",
    "Stellen wir `++` **vor** die Variable sieht die Situation etwas anders aus."
   ]
  },
  {
   "cell_type": "code",
   "execution_count": 13,
   "metadata": {},
   "outputs": [
    {
     "name": "stdout",
     "output_type": "stream",
     "text": [
      "Vorher : 0\n",
      "Während: 1\n",
      "Nachher: 1\n"
     ]
    }
   ],
   "source": [
    "int wert = 0;\n",
    "\n",
    "cout << \"Vorher : \" << wert << endl;\n",
    "cout << \"Während: \" << ++wert << endl;  // Hier wird wert um eins erhöht\n",
    "cout << \"Nachher: \" << wert << endl;"
   ]
  },
  {
   "cell_type": "markdown",
   "metadata": {},
   "source": [
    "Hier wird erst die Variable im Wert verändert und dann das Ergebnis zurückgegeben.\n",
    "\n",
    "Häufig spielt dieser Unterschied keine Rolle. Aber es gibt durchaus Situationen, in denen man diesen Unterschied bedenken muss. Das tritt insbesondere dann ein, wenn man `++` in Ausdrücken verwendet, z.B. beim Zugriff auf ein Array."
   ]
  },
  {
   "cell_type": "code",
   "execution_count": 3,
   "metadata": {},
   "outputs": [
    {
     "name": "stdout",
     "output_type": "stream",
     "text": [
      "feld[i++] : 1\n",
      "i : 2\n"
     ]
    }
   ],
   "source": [
    "int feld[4] = {0,1,2,3};\n",
    "\n",
    "int i = 1;\n",
    "\n",
    "cout << \"feld[i++] : \" << feld[i++] << endl;\n",
    "cout << \"i : \" << i << endl;"
   ]
  },
  {
   "cell_type": "markdown",
   "metadata": {},
   "source": [
    "Aber ..."
   ]
  },
  {
   "cell_type": "code",
   "execution_count": 4,
   "metadata": {},
   "outputs": [
    {
     "name": "stdout",
     "output_type": "stream",
     "text": [
      "feld[i++] : 2\n",
      "i : 2\n"
     ]
    }
   ],
   "source": [
    "i = 1;\n",
    "\n",
    "cout << \"feld[i++] : \" << feld[++i] << endl;\n",
    "cout << \"i : \" << i << endl;"
   ]
  },
  {
   "cell_type": "markdown",
   "metadata": {},
   "source": [
    "Besonders praktisch sind `++` und `--` in For-Schleifen."
   ]
  },
  {
   "cell_type": "code",
   "execution_count": 5,
   "metadata": {},
   "outputs": [
    {
     "name": "stdout",
     "output_type": "stream",
     "text": [
      "0 : 0\n",
      "1 : 1\n",
      "2 : 2\n",
      "3 : 3\n"
     ]
    }
   ],
   "source": [
    "for ( int index = 0; index < 4; index++ ) {\n",
    "    cout << index << \" : \" << feld[index] << endl;\n",
    "} "
   ]
  },
  {
   "cell_type": "markdown",
   "metadata": {},
   "source": [
    "## Bedingte Ausdrücke\n",
    "\n",
    "Die folgende Kurzform für Entscheidungsanweisungen sollte nur in Fällen angewandt werden, in denen eine reguläre If-Else-Anweisung deutlich länger wäre.\n",
    "\n",
    "Als Beispiel betrchten wir eine Situation in der ein Wert darauf geprüft werden soll, ob er positiv ist.\n",
    "Ist er negativ, soll statt seines Wertes 0 ausgegeben werden.\n",
    "\n",
    "Mit einer IF-Anweisung würden wir das so implementieren:"
   ]
  },
  {
   "cell_type": "code",
   "execution_count": 6,
   "metadata": {},
   "outputs": [
    {
     "name": "stdout",
     "output_type": "stream",
     "text": [
      "0\n"
     ]
    }
   ],
   "source": [
    "int wert = -42;\n",
    "\n",
    "if ( wert < 0 ) {\n",
    "    cout << 0 << endl;\n",
    "} else {\n",
    "    cout << wert << endl;    \n",
    "}"
   ]
  },
  {
   "cell_type": "markdown",
   "metadata": {},
   "source": [
    "Mit einer ** bedingten Anweisung** können wir das verkürzen."
   ]
  },
  {
   "cell_type": "code",
   "execution_count": 8,
   "metadata": {},
   "outputs": [
    {
     "name": "stdout",
     "output_type": "stream",
     "text": [
      "0\n"
     ]
    }
   ],
   "source": [
    "int wert = -42;\n",
    "\n",
    "cout << (( wert < 0 ) ? 0 : wert) << endl;"
   ]
  },
  {
   "cell_type": "markdown",
   "metadata": {},
   "source": [
    "Hierbei verwenden wir die folgende Kurzform:\n",
    "\n",
    "`<Bedingung> ? <true-Wert> : <false-Wert>`\n",
    "\n",
    "Dieser Ausdruck prüft die Bedingung. ergibt sie den Wert `true`, wird der `<true-Wert>` als Ergebnis des Ausdrucks verwendet, ansonsten der `<false-Wert>`.\n",
    "\n",
    "Noch ein Beispiel:"
   ]
  },
  {
   "cell_type": "code",
   "execution_count": 3,
   "metadata": {},
   "outputs": [
    {
     "name": "stdout",
     "output_type": "stream",
     "text": [
      "ungerade\n"
     ]
    }
   ],
   "source": [
    "int x = 41;\n",
    "\n",
    "cout << ( (x % 2 == 0) ? \"gerade\" : \"ungerade\" ) << endl;"
   ]
  },
  {
   "cell_type": "markdown",
   "metadata": {},
   "source": [
    "**Bedingte Anweisungen** sollten Sie nur verwenden, wenn Sie sich wirklich sicher fühlen. Verwenden Sie sonst liger die \"normalen\" Entscheidungen mit `if`."
   ]
  },
  {
   "cell_type": "markdown",
   "metadata": {},
   "source": [
    "## Switch-Case\n",
    "\n",
    "Wir hatten schon häufiger eine Sequenz von if-else-Anweisungen. Hier ein einfaches Beispiel dafür."
   ]
  },
  {
   "cell_type": "code",
   "execution_count": 1,
   "metadata": {},
   "outputs": [
    {
     "name": "stdout",
     "output_type": "stream",
     "text": [
      "Geben Sie eine Zahl ein : 5\n",
      "Viele!"
     ]
    }
   ],
   "source": [
    "#include <iostream>\n",
    "#include <string>\n",
    "using namespace std;\n",
    "\n",
    "int wert;\n",
    "\n",
    "cout << \"Geben Sie eine Zahl ein : \";\n",
    "cin >> wert;\n",
    "\n",
    "if ( wert == 1 ) {\n",
    "    cout << \"Eins\";\n",
    "} else if ( wert == 2 ) {\n",
    "    cout << \"Zwei\";\n",
    "} else if ( wert == 3 ) {\n",
    "    cout << \"Drei\";\n",
    "} else if ( wert == 4 ) {\n",
    "    cout << \"Vier\";\n",
    "} else {\n",
    "    cout << \"Viele!\";    \n",
    "}"
   ]
  },
  {
   "cell_type": "markdown",
   "metadata": {},
   "source": [
    "Ist die Variable, die auf ihren Wert geprüft werden soll ein Integer, geht dies mit einer `switch-case`-Anweisung etwas einfacher. Sie erklärt sich weitgehend von selbst."
   ]
  },
  {
   "cell_type": "code",
   "execution_count": 2,
   "metadata": {},
   "outputs": [
    {
     "name": "stdout",
     "output_type": "stream",
     "text": [
      "Geben Sie eine Zahl ein : 5\n",
      "Viele!"
     ]
    }
   ],
   "source": [
    "#include <iostream>\n",
    "#include <string>\n",
    "using namespace std;\n",
    "\n",
    "int wert;\n",
    "\n",
    "cout << \"Geben Sie eine Zahl ein : \";\n",
    "cin >> wert;\n",
    "\n",
    "switch(wert) {                   // Betrachte den Wert\n",
    "    case 1:                    \n",
    "        cout << \"Eins\";\n",
    "        break;\n",
    "    case 2:               \n",
    "        cout << \"Zwei\";\n",
    "        break;               \n",
    "    case 3:                \n",
    "        cout << \"Drei\";\n",
    "        break;               \n",
    "    case 4:              \n",
    "        cout << \"Vier\";\n",
    "        break;                \n",
    "    default:                 \n",
    "        cout << \"Viele!\";\n",
    "}"
   ]
  },
  {
   "cell_type": "markdown",
   "metadata": {},
   "source": [
    "Allerdings muss man ein paar Dinge beachten.\n",
    "\n",
    "Als erstes müssen die Werte der Fälle (cases) **Konstanten** sein. D.h. Sie können nicht aus Variablen berechnet werden.\n",
    "Das folgende Beispiel funktioniert daher nicht, da im ersten Fall die Variable `a` verwendet wird."
   ]
  },
  {
   "cell_type": "code",
   "execution_count": 4,
   "metadata": {},
   "outputs": [
    {
     "name": "stderr",
     "output_type": "stream",
     "text": [
      "\u001b[1minput_line_12:4:10: \u001b[0m\u001b[0;1;31merror: \u001b[0m\u001b[1mcase value is not a constant expression\u001b[0m\n",
      "    case a:\n",
      "\u001b[0;1;32m         ^\n",
      "\u001b[0m\u001b[1minput_line_12:4:10: \u001b[0m\u001b[0;1;30mnote: \u001b[0mread of non-const variable 'a' is not allowed in a constant expression\u001b[0m\n",
      "\u001b[1minput_line_12:2:6: \u001b[0m\u001b[0;1;30mnote: \u001b[0mdeclared here\u001b[0m\n",
      " int a = 1;\n",
      "\u001b[0;1;32m     ^\n",
      "\u001b[0m"
     ]
    },
    {
     "ename": "Interpreter Error",
     "evalue": "",
     "output_type": "error",
     "traceback": [
      "Interpreter Error: "
     ]
    }
   ],
   "source": [
    "int a = 1;\n",
    "\n",
    "switch(wert) {\n",
    "    case a:\n",
    "        cout << \"Eins\";\n",
    "        break;\n",
    "    case 2:               \n",
    "        cout << \"Zwei\";\n",
    "        break;               \n",
    "    default:                 \n",
    "        cout << \"Viele!\";\n",
    "}"
   ]
  },
  {
   "cell_type": "markdown",
   "metadata": {},
   "source": [
    "Zum weiten muss ein einzelner Fall mir `break` bendet werden. Wenn man es weglässt wird alles vom zutreffenden Fall aus ausgeführt. Um das zu verstehen, entfernen wir aus unserem Beispiel alle `breaks` und probieren mal die Werte 1,3 und 4 aus."
   ]
  },
  {
   "cell_type": "code",
   "execution_count": 7,
   "metadata": {},
   "outputs": [
    {
     "name": "stdout",
     "output_type": "stream",
     "text": [
      "Geben Sie eine Zahl ein : 5\n",
      "Viele!"
     ]
    }
   ],
   "source": [
    "#include <iostream>\n",
    "#include <string>\n",
    "using namespace std;\n",
    "\n",
    "int wert;\n",
    "\n",
    "cout << \"Geben Sie eine Zahl ein : \";\n",
    "cin >> wert;\n",
    "\n",
    "switch(wert) {                   // Betrachte den Wert\n",
    "    case 1:                    \n",
    "        cout << \"Eins\";\n",
    "    case 2:               \n",
    "        cout << \"Zwei\";\n",
    "    case 3:                \n",
    "        cout << \"Drei\";\n",
    "    case 4:              \n",
    "        cout << \"Vier\";\n",
    "    default:                 \n",
    "        cout << \"Viele!\";\n",
    "}"
   ]
  },
  {
   "cell_type": "markdown",
   "metadata": {},
   "source": [
    "Gibt man `1` ein, werden **alle** Fälle ausgeführt, das bereits der erste zutrifft.\n",
    "\n",
    "Bei `3` werden nur die letzten drei Fälle ausgeführt, da man erst beim dritten Fall \"einsteigt\", denn der trifft zu.\n",
    "\n",
    "Bei `4` werden entsprechend nur die letzten beiden Fälle ausgeführt."
   ]
  },
  {
   "cell_type": "markdown",
   "metadata": {},
   "source": [
    "Grundsätzlich werden alle Anweisungen ab dem ersten zutreffend Fall bis zum nächsten `break` oder dem Ende der Anweisung ausgeführt."
   ]
  },
  {
   "cell_type": "markdown",
   "metadata": {},
   "source": [
    "## Der Typ `auto`\n",
    "\n",
    "Eine Abkürzung, die sehr praktisch ist, aber auch mit Vorsicht eingesetzt werden sollte ist der Typ `auto`. Mit ihm legt man den Wert einer Variable automatisch durch die Initalisierung mit einem Wert fest. Im folgenden Beispiel erhält die Variable `w` den Typ `int`, da sie mit einem `int` initialisiert wird."
   ]
  },
  {
   "cell_type": "code",
   "execution_count": 4,
   "metadata": {},
   "outputs": [],
   "source": [
    "auto w = 2;   // w hat den Typ int\n",
    "w = 2;"
   ]
  },
  {
   "cell_type": "markdown",
   "metadata": {},
   "source": [
    "Das die Variable tatsächlich den Typ `int` hat sieht man, wenn man ihr mal etwas anderes zuweist."
   ]
  },
  {
   "cell_type": "code",
   "execution_count": 5,
   "metadata": {},
   "outputs": [
    {
     "name": "stderr",
     "output_type": "stream",
     "text": [
      "\u001b[1minput_line_14:2:6: \u001b[0m\u001b[0;1;31merror: \u001b[0m\u001b[1massigning to 'int' from incompatible type 'const char [5]'\u001b[0m\n",
      " w = \"text\";\n",
      "\u001b[0;1;32m     ^~~~~~\n",
      "\u001b[0m"
     ]
    },
    {
     "ename": "Interpreter Error",
     "evalue": "",
     "output_type": "error",
     "traceback": [
      "Interpreter Error: "
     ]
    }
   ],
   "source": [
    "w = \"text\";"
   ]
  },
  {
   "cell_type": "markdown",
   "metadata": {},
   "source": [
    "Jetzt versuchen wir es mal mit einem `char`."
   ]
  },
  {
   "cell_type": "code",
   "execution_count": 13,
   "metadata": {},
   "outputs": [],
   "source": [
    "auto w = 'A';"
   ]
  },
  {
   "cell_type": "markdown",
   "metadata": {},
   "source": [
    "Jetzt können wir ihr keine zu große Zahl zuweisen."
   ]
  },
  {
   "cell_type": "code",
   "execution_count": 16,
   "metadata": {},
   "outputs": [
    {
     "name": "stderr",
     "output_type": "stream",
     "text": [
      "\u001b[1minput_line_26:2:6: \u001b[0m\u001b[0;1;35mwarning: \u001b[0m\u001b[1mimplicit conversion from 'int' to 'char' changes value from 1000 to -24 [-Wconstant-conversion]\u001b[0m\n",
      " w = 1000;\n",
      "\u001b[0;1;32m   ~ ^~~~\n",
      "\u001b[0m"
     ]
    }
   ],
   "source": [
    "w = 1000;"
   ]
  },
  {
   "cell_type": "markdown",
   "metadata": {},
   "source": [
    "Zahlen bis 255 sind allerdings möglich, da sie in einen `char` umgewandelt werden können. Es führt \"nur\" zu einer Warnung."
   ]
  },
  {
   "cell_type": "code",
   "execution_count": 17,
   "metadata": {},
   "outputs": [
    {
     "name": "stderr",
     "output_type": "stream",
     "text": [
      "\u001b[1minput_line_27:2:4: \u001b[0m\u001b[0;1;35mwarning: \u001b[0m\u001b[1mimplicit conversion from 'int' to 'char' changes value from 255 to -1 [-Wconstant-conversion]\u001b[0m\n",
      " w=255\n",
      "\u001b[0;1;32m  ~^~~\n",
      "\u001b[0m"
     ]
    },
    {
     "data": {
      "text/plain": [
       "'0xff'"
      ]
     },
     "execution_count": 17,
     "metadata": {},
     "output_type": "execute_result"
    }
   ],
   "source": [
    "w = 255"
   ]
  },
  {
   "cell_type": "markdown",
   "metadata": {},
   "source": [
    "Besonders praktisch ist der Typ `auto` z.B. mit Iteratoren, bei denen der Typ eher lästig lang ist."
   ]
  },
  {
   "cell_type": "code",
   "execution_count": 2,
   "metadata": {},
   "outputs": [
    {
     "name": "stdout",
     "output_type": "stream",
     "text": [
      "1 2 4 8 16 32 64 128 256 512 1024 2048 4096 8192 16384 32768 65536 131072 262144 524288 "
     ]
    }
   ],
   "source": [
    "#include <iostream>\n",
    "#include <vector>\n",
    "using namespace std;\n",
    "\n",
    "vector<int> zahlen;\n",
    "zahlen.assign(20,0);\n",
    "\n",
    "int wert = 1;\n",
    "\n",
    "// Hier wird der Typ von it auf vector<char>::iterator festgelegt, \n",
    "// da zahlen.begin() einen entsprechenden Wert zurückgibt.\n",
    "auto it = zahlen.begin();\n",
    "\n",
    "while ( it != zahlen.end() ) {\n",
    "    *it = wert;\n",
    "    wert += wert;\n",
    "    it++;\n",
    "}\n",
    "\n",
    "for ( it = zahlen.begin(); it != zahlen.end(); it++ ) {\n",
    "    cout << *it << \" \";\n",
    "}"
   ]
  },
  {
   "cell_type": "markdown",
   "metadata": {},
   "source": [
    "<div class=\"prereq\">\n",
    "    <h3>Achtung</h3>\n",
    "    <div>\n",
    "        Gehen Sie mit diesem Shortcut vorsichtig um. In der Regel ist es besser den Typ explizit festzulegen.\n",
    "        Mit `auto` können unter Umständen Fehler entstehen, die zu seltsamen nicht immer durchschaubaren \n",
    "        Effekten führen.\n",
    "    </div>\n",
    "</div>"
   ]
  },
  {
   "cell_type": "markdown",
   "metadata": {},
   "source": [
    "<div class=\"followup\">\n",
    "    <h3>Wo es weiter geht</h3>\n",
    "    <div>\n",
    "        <a class=\"followup\" href=\"/user-redirect/algoviz/lessons/03_Fortgeschritten/06_Operationen.ipynb\">Operationen</a>\n",
    "    </div>\n",
    "</div>"
   ]
  }
 ],
 "metadata": {
  "kernelspec": {
   "display_name": "C++17",
   "language": "C++17",
   "name": "xcpp17"
  },
  "language_info": {
   "codemirror_mode": "text/x-c++src",
   "file_extension": ".cpp",
   "mimetype": "text/x-c++src",
   "name": "c++",
   "version": "17"
  }
 },
 "nbformat": 4,
 "nbformat_minor": 4
}
