{
 "cells": [
  {
   "cell_type": "markdown",
   "metadata": {},
   "source": [
    "# Weitere Sortierverfahren"
   ]
  },
  {
   "cell_type": "markdown",
   "metadata": {},
   "source": [
    "<div class=\"prereq\">\n",
    "    <h3>Was man wissen sollte</h3>\n",
    "    <div>\n",
    "        Unsere Darstellung der Verfahren basiert auf dem bereits vorgestellten <a class=\"prereq\" href=\"/user-redirect/algoviz/lessons/04_Sortieren/04_Sortieren.ipynb\">SelectionSort</a>. Außerdem sollte man mit dem Konzept der <a class=\"prereq\" href=\"/user-redirect/algoviz/lessons/04_Sortieren/03_AsymptotischeLaufzeiten.ipynb\">asymptotischen Laufzeiten</a>\n",
    "        vertraut sein.\n",
    "    </div>\n",
    "</div>    "
   ]
  },
  {
   "cell_type": "markdown",
   "metadata": {},
   "source": [
    "Neben *SelectionSort** gibt es eine ganze Reihe weiterer Verfahren, die auf ähnlichen Prinzipien beruhen. Das wir sie hier nur in verkürter Form vorstellen soll aber nicht heißen, dass sie schlechter sind. Im Gegenteil sie sind häufig besser. Allerdings würde ihre Diskussion im Detail uns hier nicht viel weiter bringen."
   ]
  },
  {
   "cell_type": "markdown",
   "metadata": {},
   "source": [
    "<div class=\"slideshow /04_Sortieren/13_Fehlstellungen/slides.json\">Weitere Sortierverfahren</a>"
   ]
  },
  {
   "cell_type": "markdown",
   "metadata": {},
   "source": [
    "Die vorgestellten Verfahren sortieren, indem sie Paare von Array-Elemente systematisch durchlaufen und gegebenenfalls Fehlstellungen korrigieren. Auch **SelectionSort** entspricht diesem Scham. Die \"Fehlstellung\" liegt dabei vor, wenn nicht das größte Element hinten ist (bezogen auf das verkürzte Array).\n",
    "\n",
    "\n",
    "Alle bisherigen Verfahren wenden dabei zwei ineinander geschachtelte Schleifen an. Es gibt allerdings ein Verfahren, dass nicht so arbeitet und trotzdem das gleiche Prinzip nutzt."
   ]
  },
  {
   "cell_type": "markdown",
   "metadata": {},
   "source": [
    "<div class=\"slideshow /04_Sortieren/14_GnomeSort/slides.json\">GnomeSort</a>"
   ]
  },
  {
   "cell_type": "markdown",
   "metadata": {},
   "source": [
    "<center>\n",
    "  <video width=\"640\" height=\"480\" controls src=\"https://abbozza.informatik.uos.de/aud/slideshows/shows/04_Sortieren/WelchesVerfahren.mp4\">\n",
    "  </video>\n",
    "</center>"
   ]
  },
  {
   "cell_type": "markdown",
   "metadata": {},
   "source": [
    "<div class=\"followup\">\n",
    "    <h3>Wo es weiter geht</h3>\n",
    "    <div>\n",
    "        Nachdem wir jetzt einige nicht ganz so gute Verfahren kenengelernt haben, werden wir mit <a class=\"followup\" href=\"/user-redirect/algoviz/lessons/04_Sortieren/06_Heapsort.ipynb\">HeapSort</a> ein\n",
    "        sehr schnelles Verfahren kennen.\n",
    "    </div>\n",
    "</div>    "
   ]
  }
 ],
 "metadata": {
  "kernelspec": {
   "display_name": "Python 3",
   "language": "python",
   "name": "python3"
  },
  "language_info": {
   "codemirror_mode": {
    "name": "ipython",
    "version": 3
   },
   "file_extension": ".py",
   "mimetype": "text/x-python",
   "name": "python",
   "nbconvert_exporter": "python",
   "pygments_lexer": "ipython3",
   "version": "3.8.3"
  }
 },
 "nbformat": 4,
 "nbformat_minor": 4
}
