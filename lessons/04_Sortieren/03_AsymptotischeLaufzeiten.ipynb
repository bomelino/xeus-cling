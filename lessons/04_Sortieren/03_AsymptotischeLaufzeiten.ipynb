{
 "cells": [
  {
   "cell_type": "markdown",
   "metadata": {},
   "source": [
    "# Asymptotische Laufzeiten"
   ]
  },
  {
   "cell_type": "markdown",
   "metadata": {},
   "source": [
    "<div class=\"prereq\">\n",
    "    <h3>Was man wissen sollte</h3>\n",
    "    <div>\n",
    "        <a class=\"prereq\" href=\"/user-redirect/algoviz/lessons/04_Sortieren/02_BinaereSucheLaufzeit.ipynb\">Die Laufzeit  der Binären Suche</a> ist ein guter Einstieg in dieses Thema.\n",
    "    </div>\n",
    "</div>    "
   ]
  },
  {
   "cell_type": "markdown",
   "metadata": {},
   "source": [
    "Diese Lesson ist recht theoretisch. Wir werden schrittweise das Konzept der **Asymptotischen Laufzeit** erläutern. Dazu werden wir eine Reihe von längeren und kürzeren Slideshows verwenden. Nehmen Sie sich für jeden Teil Zeit ihn zu verstehen."
   ]
  },
  {
   "cell_type": "markdown",
   "metadata": {},
   "source": [
    "<div class=\"slideshow 04_Sortieren/03_AsymptotischeLaufzeit/slides.json\">Die Idee der asymptotischen Laufzeit</div>"
   ]
  },
  {
   "cell_type": "markdown",
   "metadata": {},
   "source": [
    "Halten wir fest: Wir verwenden ab jetzt die **Wort-Case-Laufzeit**, d.h. die maximale Laufzeit, die ein Algorithmus auf einer seiner Eingaben benötigt. Dazu müssen wir allerdings das Konzept der **Eingabegröße** genauer fassen."
   ]
  },
  {
   "cell_type": "markdown",
   "metadata": {},
   "source": [
    "<div class=\"slideshow 04_Sortieren/04_Eingabegroesse/slides.json\">Die Eingabegröße</div>"
   ]
  },
  {
   "cell_type": "markdown",
   "metadata": {},
   "source": [
    "Damit haben wir das nächste Prinzip kennengelernt. Wir messen die Größe einer Eingabe immer über die Anzahl der Bits, die wir zu ihrer Codierung benötigen. Wenn dabei nur Zahlen einer bestimmten Größe, z.B. 32 Bit vorkommen, reicht es allerdings nur die Zahlen zu zählen, nicht die Bits. Das liegt daran, dass sich in diesem Fall beide Größen nur um einen konstanten Faktor unterscheiden.\n",
    "\n",
    "Ist das allerdings nicht der Fall, muss man tatsächlich die benötigten Bits zählen.\n",
    "\n",
    "Im nächsten Schritt werden wir das Ganze Formalisieren."
   ]
  },
  {
   "cell_type": "markdown",
   "metadata": {},
   "source": [
    "<div class=\"slideshow 04_Sortieren/05_Formalisierung/slides.json\">Die Formalisierung der Worst-Case-Laufzeit</div>"
   ]
  },
  {
   "cell_type": "markdown",
   "metadata": {},
   "source": [
    "In der folgenden Slideshow beschäftigen wir uns damit, wie wir die Laufzeit eines Algorithmus oder Programms abschätzen können. Dazu müssen wir allerdings einige Beobachtungen und Annahmen machen."
   ]
  },
  {
   "cell_type": "markdown",
   "metadata": {},
   "source": [
    "<div class=\"slideshow 04_Sortieren/06_Laufzeit/slides.json\">Die Abschätzung der Laufzeit</div>"
   ]
  },
  {
   "cell_type": "markdown",
   "metadata": {},
   "source": [
    "Jetzt haben wir doch sehr abstrakte Klasse $\\mathcal{O}(f)$ von Funktionen kennengelernt. Sie gehört zu den sogenannten **Landau-Symbolen**. Davon gibt es eine ganze Reihe, die wir aber nur sehr oberflächlich kennenlernen. $\\mathcal{O}(f)$ ist die auf die wir uns konzentrieren werden. Sie gänzlich zu verstehen ist schon eine Herausforderung. In den folgenden Slideshows werden wir uns etwas intensiver mit ihr beschäftigen. Den richtigen Umgang werden wir aber erst später lernen, wenn wir sie für die Analyse von Algorithmen verwenden.\n",
    "\n",
    "Zur Zeit kann man Sie sich wier eine **obere Schranke** vorstellen. Wenn die Laufzeit eines Algorithmus in $\\mathcal{O}(f)$ ist, dann kann sie für hinreichend große Eingaben $n\\geq n_0$ nach oben durch $C \\cdot f(n)$ abgeschätzt werden. Man sagt auch, dass die Laufzeit nicht stärker wächst als $f$.\n",
    "\n",
    "Für $\\mathcal{O}(f)$ gibt es ein paar sehr praktische Rechenregeln, die wir in der nächsten Slideshow betrachten."
   ]
  },
  {
   "cell_type": "markdown",
   "metadata": {},
   "source": [
    "<div class=\"slideshow 04_Sortieren/07_LandauSymbole/slides.json\">Rechenregeln für Landau-Symbole</div>"
   ]
  },
  {
   "cell_type": "markdown",
   "metadata": {},
   "source": [
    "Jetzt können wir gut mit $\\mathcal{O}$ rechnen. Tatsächlich führen die Rechenregeln und insbesondere die **Absorption** und die **Hierarchie** der Klassen dazu, dass wir eigentlich immer sehr einfache Ausdrücke erhalten.\n",
    "\n",
    "Wir haben schon geshen, dass die Klasse $\\mathcal{=}(f)$ das Wachstum von $f$ beschreibt. Das kann man auch exlizit als Interpretation dieser Klasse verwenden. Das machen wir in der nächsten Slideshow."
   ]
  },
  {
   "cell_type": "markdown",
   "metadata": {},
   "source": [
    "<div class=\"slideshow 04_Sortieren/08_Wachstum/slides.json\">Die Wachstums-Interpretation</div>"
   ]
  },
  {
   "cell_type": "markdown",
   "metadata": {},
   "source": [
    "Im Folgenden werden wir all das, was wir über die Asymptotische Laufzeit gelernt haben auf die binäre Suche anwenden und ihre Laufzeit bestimmen. Dabei werden wir sehen, dass wir mit den Vergleichen als kritisches MAß gar nicht schlecht lagen."
   ]
  },
  {
   "cell_type": "markdown",
   "metadata": {},
   "source": [
    "<div class=\"slideshow 04_Sortieren/09_BinaereSucheO/slides.json\">Die Laufzeit der binären Suche</div>"
   ]
  },
  {
   "cell_type": "markdown",
   "metadata": {},
   "source": [
    "Und damit klar ist, warum es manchmal doch nicht ganz so einfach ist, hier noche ein Beispiel bei dem man aufpassen muss. Dabei dreht sich alles um die **Eingabegröße**."
   ]
  },
  {
   "cell_type": "markdown",
   "metadata": {},
   "source": [
    "<div class=\"slideshow 04_Sortieren/10_Primzahltest/slides.json\">Der pseudopolynomielle Primzahltest</div>"
   ]
  },
  {
   "cell_type": "markdown",
   "metadata": {},
   "source": [
    "<div class=\"followup\">\n",
    "    <h3>Wo es weiter geht</h3>\n",
    "    <div>\n",
    "        Nach dieser sehr theoretischen Lesson wird es Zeit, dass wir uns einem grundlegenden und sehr wichtigen Thema widmen: <a class=\"followup\" href=\"/user-redirect/algoviz/lessons/04_Sortieren/04_Sortieren.ipynb\">Dem Sortieren</a>. An ihm werden wir sowohl die Analyse von Algorithmen, als auch interessante algorithmische Strukturen kennenlernen.\n",
    "    </div>\n",
    "</div>    "
   ]
  }
 ],
 "metadata": {
  "kernelspec": {
   "display_name": "C++17",
   "language": "C++17",
   "name": "xcpp17"
  },
  "language_info": {
   "codemirror_mode": "text/x-c++src",
   "file_extension": ".cpp",
   "mimetype": "text/x-c++src",
   "name": "c++",
   "version": "17"
  }
 },
 "nbformat": 4,
 "nbformat_minor": 4
}
