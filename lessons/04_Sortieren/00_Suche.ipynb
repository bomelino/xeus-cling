{
 "cells": [
  {
   "cell_type": "markdown",
   "metadata": {},
   "source": [
    "# Suche in Arrays"
   ]
  },
  {
   "cell_type": "markdown",
   "metadata": {},
   "source": [
    "<div class=\"prereq\">\n",
    "    <h3>Was man wissen sollte</h3>\n",
    "    <div>\n",
    "        Man sollte auf jeden Fall mit <a class=\"prereq\" href=\"/user-redirect/algoviz/lessons/03_Fortgeschritten/00_Arrays.ipynb\">Arrays</a> vertraut sein, da wir in ihnen suchen werden.\n",
    "    </div>\n",
    "</div>    "
   ]
  },
  {
   "cell_type": "markdown",
   "metadata": {},
   "source": [
    "<div class=\"slideshow 04_Sortieren/00_Suche/slides.json\">Suche in Arrays</div>"
   ]
  },
  {
   "cell_type": "markdown",
   "metadata": {},
   "source": [
    "Das werden wir später brauchen."
   ]
  },
  {
   "cell_type": "code",
   "execution_count": 12,
   "metadata": {},
   "outputs": [],
   "source": [
    "#include <iostream>\n",
    "using namespace std;"
   ]
  },
  {
   "cell_type": "markdown",
   "metadata": {},
   "source": [
    "Die Implementierung der linearen Suche ist vergleichsweise einfach und wir haben sie auch schon in Form der Maximumsuche umgesetzt. Im Folgenden wollen wir sie als Operation implementieren.\n",
    "\n",
    "Werfen wir zuerst nochmal einen Blick auf das Struktogramm.\n",
    "\n",
    "![Die Lineare Suche](/user-redirect/algoviz/img/04_Sortieren/LineareSucheStruktogramm.png)\n",
    "\n",
    "Die Implementierung damit ist im Grunde einfach. Allerdings wollen wir sie als Operation realisieren. Dazu müssen wir uns überlegen, welche Parameter sie erhält und was sie zurück gibt. Der Rückgabewert ist der Index des gesuchten Elements ode -1. In beiden Fällen somit ein `int`- Wert. Damit ist der Rückgabewert klar. Als Parameter benötigt die Operation das Array in dem gesucht werden soll und das gesuchte Element.\n",
    "\n",
    "Also ergibt sich die folgende Signatur:\n",
    "\n",
    "`int suche( int gesucht, int feld[])`\n",
    "\n",
    "Allerdings müssen wir noch etwas anderes beachten. Wir benötigen die Länge des Arrays. Dabei können wir zwei Wege verfolgen. Entweder wir berechnen die Länge oder wir übergeben sie als Parameter. Wir gehen den zweiten Weg. Damit\n",
    "passen wir die Signatur twas an:\n",
    "\n",
    "`int suche( int gesucht, int feld[], int laenge )`"
   ]
  },
  {
   "cell_type": "code",
   "execution_count": 17,
   "metadata": {},
   "outputs": [],
   "source": [
    "int suche( int gesucht, int feld[], int laenge ) {\n",
    "    \n",
    "    // Die Schleife\n",
    "    for ( int pos = 0 ; pos < laenge; pos++ ) {\n",
    "        if ( feld[pos] == gesucht ) {\n",
    "            // Breche die Schleife ab und gebe die Position zurück!\n",
    "            return pos;\n",
    "        }\n",
    "    }\n",
    "    \n",
    "    return -1;\n",
    "}"
   ]
  },
  {
   "cell_type": "markdown",
   "metadata": {},
   "source": [
    "Jetzt brauchen wir noch ein Array zum Testen. Das sollte nicht zu groß sein und zufällige Einträge enthalten. Da wir jetzt schon Operationen kennen, verwenden wir auch hierfür eine. Sie erhält ebenfalls das Array, seine Länge und einen maximalen Wert `max`für die Einträge (genauer gesagt liegen die Werte zwischen 0 und `max-1`)."
   ]
  },
  {
   "cell_type": "code",
   "execution_count": 18,
   "metadata": {},
   "outputs": [],
   "source": [
    "void fuelle( int feld[], int laenge, int max ) {\n",
    "    srand(time(NULL));\n",
    "    \n",
    "    for ( int pos = 0; pos < laenge; pos++ ) {\n",
    "        feld[pos] = rand() % max;\n",
    "    }\n",
    "}"
   ]
  },
  {
   "cell_type": "markdown",
   "metadata": {},
   "source": [
    "Und wir implementieren noch eine Operation, die das Array ausgibt ... Aber eigentlich können Sie das selber machen."
   ]
  },
  {
   "cell_type": "markdown",
   "metadata": {},
   "source": [
    "<div class=\"task\">\n",
    "    <h3>Aufgabe</h3>\n",
    "    <div>\n",
    "        Implementieren Sie eine Operation <tt>ausgabe()</tt>, die ein Array ausgibt. Überlegen Sie sich,\n",
    "        welche Parameter die Operation benötigt.\n",
    "    </div>\n",
    "</div>    "
   ]
  },
  {
   "cell_type": "code",
   "execution_count": 19,
   "metadata": {},
   "outputs": [],
   "source": [
    "void ausgabe( int feld[], int laenge ) {\n",
    "    \n",
    "    for ( int pos = 0; pos < laenge; pos++ ) {\n",
    "        cout << feld[pos] << \" \";\n",
    "    }\n",
    "    cout << endl;\n",
    "}"
   ]
  },
  {
   "cell_type": "markdown",
   "metadata": {},
   "source": [
    "Legen wir jetzt ein Feld mit Werten an."
   ]
  },
  {
   "cell_type": "code",
   "execution_count": 37,
   "metadata": {},
   "outputs": [
    {
     "name": "stdout",
     "output_type": "stream",
     "text": [
      "36 16 28 49 66 56 40 11 15 91 39 73 31 88 72 20 15 62 21 54 \n"
     ]
    }
   ],
   "source": [
    "int feld[20];\n",
    "\n",
    "fuelle(feld,20,100);\n",
    "ausgabe(feld,20);"
   ]
  },
  {
   "cell_type": "markdown",
   "metadata": {},
   "source": [
    "Jetzt können wir ein Element suchen. Setzen Sie für `???` verschiedene Werte ein. Testen Sie dabei verschiedene Fälle, in dem sie z.B. das erste Element, das letzte Element, irgendein Element oder ein Zahl suchen, die nicht enthalten ist."
   ]
  },
  {
   "cell_type": "code",
   "execution_count": 41,
   "metadata": {},
   "outputs": [
    {
     "data": {
      "text/plain": [
       "-1"
      ]
     },
     "execution_count": 41,
     "metadata": {},
     "output_type": "execute_result"
    }
   ],
   "source": [
    "suche(???,feld,20)"
   ]
  },
  {
   "cell_type": "markdown",
   "metadata": {},
   "source": [
    "<div class=\"task\">\n",
    "    <h3>Aufgabe</h3>\n",
    "    <div>\n",
    "        Implementieren Sie die <b>Minimumsuche</b> in einem Array als Operation. \n",
    "    </div>\n",
    "</div>    "
   ]
  },
  {
   "cell_type": "code",
   "execution_count": null,
   "metadata": {},
   "outputs": [],
   "source": [
    "// ..."
   ]
  },
  {
   "cell_type": "markdown",
   "metadata": {},
   "source": [
    "<div class=\"task\">\n",
    "    <h3>Aufgabe</h3>\n",
    "    <div>\n",
    "        Implementieren Sie eine Operation, die das <b>zweit kleinste</b> Element in einem Array sucht.\n",
    "    </div>\n",
    "</div>    "
   ]
  },
  {
   "cell_type": "markdown",
   "metadata": {},
   "source": [
    "<div class=\"followup\">\n",
    "    <h3>Wo es weiter geht</h3>\n",
    "    <div>\n",
    "        Einen besseren Ansatz für die Suche bietet die\n",
    "        <a class=\"followup\" href=\"/user-redirect/algoviz/lessons/04_Sortieren/01_BinaereSuche.ipynb\">Binäre Suche</a>.\n",
    "    </div>\n",
    "</div>    "
   ]
  }
 ],
 "metadata": {
  "kernelspec": {
   "display_name": "C++17",
   "language": "C++17",
   "name": "xcpp17"
  },
  "language_info": {
   "codemirror_mode": "text/x-c++src",
   "file_extension": ".cpp",
   "mimetype": "text/x-c++src",
   "name": "c++",
   "version": "17"
  }
 },
 "nbformat": 4,
 "nbformat_minor": 4
}
