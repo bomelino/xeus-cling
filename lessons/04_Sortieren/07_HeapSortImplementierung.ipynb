{
 "cells": [
  {
   "cell_type": "markdown",
   "metadata": {},
   "source": [
    "# Die Implementierung von HeapSort"
   ]
  },
  {
   "cell_type": "markdown",
   "metadata": {},
   "source": [
    "<div class=\"prereq\">\n",
    "    <h3>Was man wissen sollte</h3>\n",
    "    <div>\n",
    "        Vor der Implementierung sollte die Funktionsweise von <a class=\"prereq\" href=\"/user-redirect/algoviz/lessons/04_Sortieren/06_Heapsort.ipynb\">HeapSort</a> bekannt sein.\n",
    "    </div>\n",
    "</div>    "
   ]
  },
  {
   "cell_type": "markdown",
   "metadata": {},
   "source": [
    "Wie bereits geshen können wir das Array direkt als Binärbaum interpretiern. Die Knoten entsprechen dabei den Indices.\n",
    "\n",
    "* Der Index 0 ist die Wurzel\n",
    "* Das linke Kind vom Knoten `i` ist `2*i+1`\n",
    "* Das rechte Kind vom Knoten `i` ist `2*i+2`\n",
    "* Der Vater vom Knoten `i` ist `(i-1)/2` (ganzzahlige Division)\n",
    "\n",
    "Das letzte Blatt können wir abschneiden, indem wir die Länge um eins senken.\n",
    "\n",
    "D.h. den Baum repräsenteien wir durch inr Array `feld[]` mit der tatsächlichen Länge `n` und einer \"verkürzten\" Länge `len`. Die Indices von `len` bis `n-1` enthalten dann immer die bereits sortierten großen Elemente.\n",
    "\n",
    "![Die Beziehungen auf dem Array](/user-redirect/algoviz/img/04_Sortieren/BaumArray.png)"
   ]
  },
  {
   "cell_type": "markdown",
   "metadata": {},
   "source": [
    "## Heapify\n",
    "\n",
    "Als erstes benötigen wir `heapify()`, d.h. das \"Einsickern\" eines Knotens in den Heap. Den Pseudocode hatten wir bereits entwickelt. Wir müssen ihn jetzt schrittweise als Operation implementieren.\n",
    "\n",
    "`SOLANGE ( v hat Kinder ) TUE\n",
    "   u = Kind von v mit dem größeren Wert \n",
    "   WENN ( Wert von u > Wert von v ) DANN\n",
    "      Tausche Wert von v mit Wert von u\n",
    "      v = u\n",
    "   SONST\n",
    "      Beende die Schleife\n",
    "   ENDE   \n",
    "ENDE`\n",
    "\n",
    "Wir beginnen mit den Parametern, die `heapify()`benötigt. Auf der abstrakten Ebene benötigen wir einen Knoten `v`, bei dem wir mit dem \"Einsickern\" beginnen und den Baum `T` in dem dieser Knoten liegt. Also erhalten wir\n",
    "den folgenden Pseudocode:"
   ]
  },
  {
   "cell_type": "code",
   "execution_count": 1,
   "metadata": {},
   "outputs": [],
   "source": [
    "// heapify ( Knoten v, Baum T) {\n",
    "//    SOLANGE ( v hat Kinder ) TUE\n",
    "//       u = Kind von v mit dem größeren Wert\n",
    "//       WENN ( Wert von u > Wert von v ) DANN\n",
    "//          Tausche den Wert von u mit dem Wert von v\n",
    "//          v = u\n",
    "//       SONST\n",
    "//          Beende die Schleife\n",
    "//       ENDE\n",
    "//    ENDE\n",
    "// }"
   ]
  },
  {
   "cell_type": "markdown",
   "metadata": {},
   "source": [
    "Den Knoten `v` repräsenteiren wir durch einen `int`-Wert und den Baum `T` durch das Array `feld[]` und die Länge `len`. Das können wir in der Parameterliste einsetzen."
   ]
  },
  {
   "cell_type": "code",
   "execution_count": null,
   "metadata": {},
   "outputs": [],
   "source": [
    "void heapify ( int v, int feld[], int len ) {\n",
    "//    SOLANGE ( v hat Kinder ) TUE\n",
    "//       u = Kind von v mit dem größeren Wert\n",
    "//       WENN ( Wert von u > Wert von v ) DANN\n",
    "//          Tausche den Wert von u mit dem Wert von v\n",
    "//          v = u\n",
    "//       SONST\n",
    "//          Beende die Schleife\n",
    "//       ENDE\n",
    "//    ENDE\n",
    "}"
   ]
  },
  {
   "cell_type": "markdown",
   "metadata": {},
   "source": [
    "Als nächstes Betrachten wir die Schleife und die Bedingung, dass `v` Kinder hat. Dabei nutzen wir aus, dass auf jeden Fall das linke Kind vorhanden ist, wenn `v` überhaupt Kinder hat. Außerdem ist das Kind vorhanden, wenn sein Index kleiner als `len` ist (denn da schneiden wir den Baum bzw. das Array ab).\n",
    "Also entspricht die Bedingung \"v hat Kinder\" der Bedingung, dass der Index des linken Kinds kleiner als `len` ist. Und da das linke Kind den Index `2*v+1`hat ergibt sich simit:"
   ]
  },
  {
   "cell_type": "code",
   "execution_count": null,
   "metadata": {},
   "outputs": [],
   "source": [
    "void heapify ( int v, int feld[], int len ) {\n",
    "    \n",
    "   while ( 2*v+1 < len ) {   // Solange v Kinder hat\n",
    "       \n",
    "//       u = Kind von v mit dem größeren Wert\n",
    "//       WENN ( Wert von u > Wert von v ) DANN\n",
    "//          Tausche den Wert von u mit dem Wert von v\n",
    "//          v = u\n",
    "//       SONST\n",
    "//          Beende die Schleife\n",
    "//       ENDE       \n",
    "   }\n",
    "    \n",
    "}"
   ]
  },
  {
   "cell_type": "markdown",
   "metadata": {},
   "source": [
    "Damit haben wir auch eine Möglichkeit, dass wir die Schleife beenden können. Wir setzen den Index `v` einfach auf `len`, so dass der Knoten in der nächsten Runde keine Kinder mehr hat."
   ]
  },
  {
   "cell_type": "code",
   "execution_count": 2,
   "metadata": {},
   "outputs": [],
   "source": [
    "void heapify ( int v, int feld[], int len ) {\n",
    "    \n",
    "   while ( 2*v+1 < len ) {   // Solange v Kinder hat\n",
    "       \n",
    "//       u = Kind von v mit dem größeren Wert\n",
    "//       WENN ( Wert von u > Wert von v ) DANN\n",
    "//          Tausche den Wert von u mit dem Wert von v\n",
    "//          v = u\n",
    "//       SONST\n",
    "            v = len;         // Die Schleife wird bei der nächsten Prüfung beendet.\n",
    "//       ENDE       \n",
    "   }\n",
    "    \n",
    "}"
   ]
  },
  {
   "cell_type": "markdown",
   "metadata": {},
   "source": [
    "Als nächstes Suchen wir das Kind `u` von `v` mit dem größeren Wert. Da das linke Kind auf jeden Fall existiert (wir sind in den Schleifenrumpf gegangen), setzen wir als erstes `u = 2*v+1`. Anschließend prüfen wir, ob das rechte Kind existiert (`2*v+2 < len`) und ob es einen größeren Wert hat ( `feld[2*v+2]>feld[u]`). Wenn ja, setzen wir `u2*v+2`."
   ]
  },
  {
   "cell_type": "code",
   "execution_count": 3,
   "metadata": {},
   "outputs": [
    {
     "name": "stderr",
     "output_type": "stream",
     "text": [
      "\u001b[1minput_line_9:5:6: \u001b[0m\u001b[0;1;31merror: \u001b[0m\u001b[1muse of undeclared identifier 'u'\u001b[0m\n",
      "     u = 2*v+1;             // Das linke Kind\n",
      "\u001b[0;1;32m     ^\n",
      "\u001b[0m\u001b[1minput_line_9:6:48: \u001b[0m\u001b[0;1;31merror: \u001b[0m\u001b[1muse of undeclared identifier 'u'\u001b[0m\n",
      "     if ( (2*v+2 < len) && (feld[2*v+2] > feld[u] ) ) {\n",
      "\u001b[0;1;32m                                               ^\n",
      "\u001b[0m\u001b[1minput_line_9:7:10: \u001b[0m\u001b[0;1;31merror: \u001b[0m\u001b[1muse of undeclared identifier 'u'\u001b[0m\n",
      "         u = 2*v+2;\n",
      "\u001b[0;1;32m         ^\n",
      "\u001b[0m"
     ]
    },
    {
     "ename": "Interpreter Error",
     "evalue": "",
     "output_type": "error",
     "traceback": [
      "Interpreter Error: "
     ]
    }
   ],
   "source": [
    "void heapify ( int v, int feld[], int len ) {\n",
    "    int u;\n",
    "    \n",
    "    while ( 2*v+1 < len ) {   // Solange v Kinder hat\n",
    "       \n",
    "       u = 2*v+1;             // Das linke Kind\n",
    "       if ( (2*v+2 < len) && (feld[2*v+2] > feld[u] ) ) {\n",
    "           u = 2*v+2;\n",
    "       }                      // u ist jetzt das Kind mit dem größeren Wert.\n",
    "       \n",
    "//       WENN ( Wert von u > Wert von v ) DANN\n",
    "//          Tausche den Wert von u mit dem Wert von v\n",
    "//          v = u\n",
    "//       SONST\n",
    "            v = len;         // Die Schleife wird bei der nächsten Prüfung beendet.\n",
    "//       ENDE       \n",
    "    }\n",
    "}"
   ]
  },
  {
   "cell_type": "markdown",
   "metadata": {},
   "source": [
    "Nachdem wir jetzt das Kind mit dem größeren Wert haben, können wir auch die Entscheidungsanweisung implementieren."
   ]
  },
  {
   "cell_type": "code",
   "execution_count": 7,
   "metadata": {},
   "outputs": [],
   "source": [
    "void heapify ( int v, int feld[], int len ) {\n",
    "    int u;\n",
    "    \n",
    "    while ( 2*v+1 < len ) {   // Solange v Kinder hat\n",
    "       \n",
    "        u = 2*v+1;             // Das linke Kind\n",
    "        if ( (2*v+2 < len) && (feld[2*v+2] > feld[u] ) ) {\n",
    "            u = 2*v+2;\n",
    "        }                       // u ist jetzt das Kind mit dem größeren Wert.\n",
    "       \n",
    "        if ( feld[u] > feld[v] ) {\n",
    "//          Tausche den Wert von u mit dem Wert von v\n",
    "            v = u;\n",
    "        } else {\n",
    "            v = len;         // Die Schleife wird bei der nächsten Prüfung beendet.\n",
    "        }\n",
    "    }\n",
    "}"
   ]
  },
  {
   "cell_type": "markdown",
   "metadata": {},
   "source": [
    "Es bleibt der Tausch der Werte. Dazu brauchen wir nur eine Helfer-Variable und können dann einfach den sogeannten **swap** machen."
   ]
  },
  {
   "cell_type": "code",
   "execution_count": 1,
   "metadata": {},
   "outputs": [],
   "source": [
    "void heapify ( int v, int feld[], int len ) {\n",
    "    int u;\n",
    "    \n",
    "    while ( 2*v+1 < len ) {   // Solange v Kinder hat\n",
    "       \n",
    "        u = 2*v+1;             // Das linke Kind\n",
    "        if ( (2*v+2 < len) && (feld[2*v+2] > feld[u] ) ) {\n",
    "            u = 2*v+2;\n",
    "        }                       // u ist jetzt das Kind mit dem größeren Wert.\n",
    "       \n",
    "        if ( feld[u] > feld[v] ) {\n",
    "            int helfer = feld[u];  // Tausche die Werte von v und u\n",
    "            feld[u] = feld[v];\n",
    "            feld[v] = helfer;\n",
    "            v = u;                  // Gehe zu u\n",
    "        } else {\n",
    "            v = len;         // Die Schleife wird bei der nächsten Prüfung beendet.\n",
    "        }\n",
    "    }\n",
    "}"
   ]
  },
  {
   "cell_type": "markdown",
   "metadata": {},
   "source": [
    "Und damit sind wir auch schon fertig mit `heapify()` und können es testen. Dazu legen wir ein Array an, das überall einem Heap entspricht, außer in einem Knoten. Auf den wenden wir dann `heapify()` an und prüfen, ob danach ein Heap vorliegt. Hier haben wir ihn. Nur die Wurzel verletzt die Heapbedingung.\n",
    "\n",
    "![Unser Heap](/user-redirect/algoviz/img/04_Sortieren/Heap2.png)\n",
    "\n",
    "Als Array hat er die folgende Form:"
   ]
  },
  {
   "cell_type": "code",
   "execution_count": 2,
   "metadata": {},
   "outputs": [],
   "source": [
    "#include <algoviz/Tools.hpp>\n",
    "using namespace std;\n",
    "\n",
    "int feld[] = { 7, 10, 9, 6, 8, 3, 4, 2, 5, 1};"
   ]
  },
  {
   "cell_type": "markdown",
   "metadata": {},
   "source": [
    "Also wenden wir `heapfiy()` auf den gesamten Baum an, d.h. `len = 10`. Da wir die Wurzel \"reparieren\" wollen ist `v=0`."
   ]
  },
  {
   "cell_type": "code",
   "execution_count": 3,
   "metadata": {},
   "outputs": [
    {
     "name": "stdout",
     "output_type": "stream",
     "text": [
      "10 8 9 6 7 3 4 2 5 1 \n"
     ]
    }
   ],
   "source": [
    "heapify(0,feld,10);\n",
    "Tools::printArray(feld,10);"
   ]
  },
  {
   "cell_type": "markdown",
   "metadata": {},
   "source": [
    "<div class=\"task\">\n",
    "    <h3>Aufgabe</h3>\n",
    "    <div>\n",
    "        Überzeugen sie sich davon, dass der resultierende Binärbaum ein Heap ist.\n",
    "    </div>\n",
    "</div>"
   ]
  },
  {
   "cell_type": "markdown",
   "metadata": {},
   "source": [
    "## Wir bauen den Heap\n",
    "\n",
    "Als nächste wollen wir den Haap bauen. Auch dafür haben wir schon Pseudocode.\n",
    "\n",
    "`buildHeap(Baum T)\n",
    "    FÜR v = (n-2)/2 ... 0 TUE\n",
    "      heapify(v,T)\n",
    "    ENDE`\n",
    "    \n",
    "Das zu implementieren ist mit Hilfe von `heapify()`recht simpel.    "
   ]
  },
  {
   "cell_type": "code",
   "execution_count": 3,
   "metadata": {},
   "outputs": [],
   "source": [
    "void buildHeap(int feld[], int len) {\n",
    "    for ( int v = (len-2)/2 ; v >= 0; v-- ) {\n",
    "        heapify(v,feld,len);\n",
    "    }\n",
    "}"
   ]
  },
  {
   "cell_type": "markdown",
   "metadata": {},
   "source": [
    "Damit können wir jetzt jedes Array in einen Heap umwandeln."
   ]
  },
  {
   "cell_type": "code",
   "execution_count": 3,
   "metadata": {},
   "outputs": [
    {
     "name": "stdout",
     "output_type": "stream",
     "text": [
      "4 12 97 93 46 11 47 80 99 9 41 9 44 6 7 58 0 84 98 57 \n",
      "99 98 97 93 57 44 47 80 84 46 41 9 11 6 7 58 0 4 12 9 \n"
     ]
    }
   ],
   "source": [
    "#include <algoviz/Tools.hpp>\n",
    "using namespace std;\n",
    "\n",
    "const int len = 20;\n",
    "int feld[len];\n",
    "\n",
    "Tools::fillArray(feld,len);\n",
    "Tools::printArray(feld,len);\n",
    "\n",
    "buildHeap(feld,len);\n",
    "\n",
    "Tools::printArray(feld,len);"
   ]
  },
  {
   "cell_type": "markdown",
   "metadata": {},
   "source": [
    "<div class=\"task\">\n",
    "    <h3>Aufgabe</h3>\n",
    "    <div>\n",
    "        Überzeugen sie sich davon, dass der resultierende Binärbaum ein Heap ist.\n",
    "    </div>\n",
    "</div>"
   ]
  },
  {
   "cell_type": "markdown",
   "metadata": {},
   "source": [
    "## HeapSort\n",
    "\n",
    "Jetzt können wir HeapSort implementieren. Dazu müssen wir als erstes das Array mit `buildHeap()` zu einem  Heap machen. Danach hollen wir immer das Element aus der Wurzel und tauschen es mit dem Element an der Position `len` danach führen wir `heapify()` auf der Wurzel aus und senken `len`, um den Bereich den wir noch sortieren müssen zu verkürzen."
   ]
  },
  {
   "cell_type": "code",
   "execution_count": 4,
   "metadata": {},
   "outputs": [],
   "source": [
    "void HeapSort(int feld[], int len) {\n",
    "    buildHeap(feld,len);\n",
    "    \n",
    "    for ( int letzter = len-1; letzter > 0; letzter-- ) {\n",
    "        int helfer = feld[letzter];\n",
    "        feld[letzter] = feld[0];\n",
    "        feld[0] = helfer;\n",
    "        \n",
    "        heapify(0,feld,letzter);        \n",
    "    }\n",
    "}"
   ]
  },
  {
   "cell_type": "markdown",
   "metadata": {},
   "source": [
    "Und jetzt können wir es ausprobieren."
   ]
  },
  {
   "cell_type": "code",
   "execution_count": 6,
   "metadata": {},
   "outputs": [
    {
     "name": "stderr",
     "output_type": "stream",
     "text": [
      "In file included from input_line_1:1:\n",
      "In file included from /home/michael/miniconda3/bin/../lib/gcc/x86_64-conda_cos6-linux-gnu/7.3.0/../../../../x86_64-conda_cos6-linux-gnu/include/c++/7.3.0/new:40:\n",
      "In file included from /home/michael/miniconda3/bin/../lib/gcc/x86_64-conda_cos6-linux-gnu/7.3.0/../../../../x86_64-conda_cos6-linux-gnu/include/c++/7.3.0/exception:143:\n",
      "In file included from /home/michael/miniconda3/bin/../lib/gcc/x86_64-conda_cos6-linux-gnu/7.3.0/../../../../x86_64-conda_cos6-linux-gnu/include/c++/7.3.0/bits/nested_exception.h:40:\n",
      "In file included from /home/michael/miniconda3/bin/../lib/gcc/x86_64-conda_cos6-linux-gnu/7.3.0/../../../../x86_64-conda_cos6-linux-gnu/include/c++/7.3.0/bits/move.h:54:\n",
      "\u001b[1m/home/michael/miniconda3/bin/../lib/gcc/x86_64-conda_cos6-linux-gnu/7.3.0/../../../../x86_64-conda_cos6-linux-gnu/include/c++/7.3.0/type_traits:149:31: \u001b[0m\u001b[0;1;31merror: \u001b[0m\u001b[1mno member named 'value' in 'std::__not_<std::is_lvalue_reference<std::basic_ostream<char> &> >'\u001b[0m\n",
      "    : public conditional<_B1::value, __and_<_B2, _B3, _Bn...>, _B1>::type\n",
      "\u001b[0;1;32m                         ~~~~~^\n",
      "\u001b[0m\u001b[1m/home/michael/miniconda3/bin/../lib/gcc/x86_64-conda_cos6-linux-gnu/7.3.0/../../../../x86_64-conda_cos6-linux-gnu/include/c++/7.3.0/ostream:676:24: \u001b[0m\u001b[0;1;30mnote: \u001b[0min instantiation of template class 'std::__and_<std::__not_<std::is_lvalue_reference<std::basic_ostream<char> &> >,\n",
      "      std::__is_convertible_to_basic_ostream<std::basic_ostream<char> &>, std::__is_insertable<std::basic_ostream<char> &, const int &,\n",
      "      void> >' requested here\u001b[0m\n",
      "    typename enable_if<__and_<__not_<is_lvalue_reference<_Ostream>>,\n",
      "\u001b[0;1;32m                       ^\n",
      "\u001b[0m\u001b[1m/home/michael/miniconda3/include/algoviz/Tools.hpp:87:18: \u001b[0m\u001b[0;1;30mnote: \u001b[0mwhile substituting deduced template arguments into function template 'operator<<'\n",
      "      [with _Ostream = std::basic_ostream<char> &, _Tp = int]\u001b[0m\n",
      "            cout << array[index] << \" \";\n",
      "\u001b[0;1;32m                 ^\n",
      "\u001b[0mIn file included from input_line_1:1:\n",
      "In file included from /home/michael/miniconda3/bin/../lib/gcc/x86_64-conda_cos6-linux-gnu/7.3.0/../../../../x86_64-conda_cos6-linux-gnu/include/c++/7.3.0/new:40:\n",
      "In file included from /home/michael/miniconda3/bin/../lib/gcc/x86_64-conda_cos6-linux-gnu/7.3.0/../../../../x86_64-conda_cos6-linux-gnu/include/c++/7.3.0/exception:143:\n",
      "In file included from /home/michael/miniconda3/bin/../lib/gcc/x86_64-conda_cos6-linux-gnu/7.3.0/../../../../x86_64-conda_cos6-linux-gnu/include/c++/7.3.0/bits/nested_exception.h:40:\n",
      "In file included from /home/michael/miniconda3/bin/../lib/gcc/x86_64-conda_cos6-linux-gnu/7.3.0/../../../../x86_64-conda_cos6-linux-gnu/include/c++/7.3.0/bits/move.h:54:\n",
      "\u001b[1m/home/michael/miniconda3/bin/../lib/gcc/x86_64-conda_cos6-linux-gnu/7.3.0/../../../../x86_64-conda_cos6-linux-gnu/include/c++/7.3.0/type_traits:149:31: \u001b[0m\u001b[0;1;31merror: \u001b[0m\u001b[1mno member named 'value' in 'std::__not_<std::is_lvalue_reference<std::basic_ostream<char> &> >'\u001b[0m\n",
      "    : public conditional<_B1::value, __and_<_B2, _B3, _Bn...>, _B1>::type\n",
      "\u001b[0;1;32m                         ~~~~~^\n",
      "\u001b[0m\u001b[1m/home/michael/miniconda3/bin/../lib/gcc/x86_64-conda_cos6-linux-gnu/7.3.0/../../../../x86_64-conda_cos6-linux-gnu/include/c++/7.3.0/ostream:676:24: \u001b[0m\u001b[0;1;30mnote: \u001b[0min instantiation of template class 'std::__and_<std::__not_<std::is_lvalue_reference<std::basic_ostream<char> &> >,\n",
      "      std::__is_convertible_to_basic_ostream<std::basic_ostream<char> &>, std::__is_insertable<std::basic_ostream<char> &, char const\n",
      "      (&)[2], void> >' requested here\u001b[0m\n",
      "    typename enable_if<__and_<__not_<is_lvalue_reference<_Ostream>>,\n",
      "\u001b[0;1;32m                       ^\n",
      "\u001b[0m\u001b[1m/home/michael/miniconda3/include/algoviz/Tools.hpp:87:34: \u001b[0m\u001b[0;1;30mnote: \u001b[0mwhile substituting deduced template arguments into function template 'operator<<' [with _Ostream = std::basic_ostream<char> &, _Tp =\n",
      "      char [2]]\u001b[0m\n",
      "            cout << array[index] << \" \";\n",
      "\u001b[0;1;32m                                 ^\n",
      "\u001b[0m"
     ]
    },
    {
     "ename": "Interpreter Error",
     "evalue": "",
     "output_type": "error",
     "traceback": [
      "Interpreter Error: "
     ]
    }
   ],
   "source": [
    "#include <algoviz/Tools.hpp>\n",
    "using namespace std;\n",
    "\n",
    "const int len = 20;\n",
    "int feld[len];\n",
    "\n",
    "Tools::fillArray(feld,len);\n",
    "Tools::printArray(feld,len);\n",
    "\n",
    "HeapSort(feld,len);\n",
    "\n",
    "Tools::printArray(feld,len);"
   ]
  },
  {
   "cell_type": "markdown",
   "metadata": {},
   "source": [
    "## Messungen\n",
    "\n",
    "Nachdem wir die Implementierung haben können wir auch mal die konkrete Laufzeit messen. Dabei gehen wir wie bei der binären und linearen Suche vor."
   ]
  },
  {
   "cell_type": "code",
   "execution_count": 5,
   "metadata": {},
   "outputs": [],
   "source": [
    "const int len = 100000;\n",
    "int feld[len];"
   ]
  },
  {
   "cell_type": "code",
   "execution_count": 6,
   "metadata": {},
   "outputs": [
    {
     "name": "stdout",
     "output_type": "stream",
     "text": [
      "15.9 ms +- 855 us per loop (mean +- std. dev. of 7 runs 100 loops each)\n"
     ]
    }
   ],
   "source": [
    "%%timeit\n",
    "Tools::fillArray(feld,len);\n",
    "HeapSort(feld,len);"
   ]
  },
  {
   "cell_type": "markdown",
   "metadata": {},
   "source": [
    "<div class=\"task\">\n",
    "    <h3>Aufgabe</h3>\n",
    "    <div>\n",
    "        Führen Sie die Zeitmessung für die in dem Array <tt>laengen[]</tt> (siehe nächste Zelle) durch.\n",
    "        Tragen Sie die Werte in Millisekunden (ms) in das Array <tt>messungen[]</tt> ein. Beachten Sie\n",
    "        dabei die Reihenfolge und die Einheiten (bei HeapSort könnten auch Mikrosekunden (us) gemessen werden!)\n",
    "    </div>\n",
    "    <div>\n",
    "        In dem Array <tt>referenz[]</tt> ist bereits eine Reihe von Messungen für HeapSort gegeben.\n",
    "        Und in <tt>selectionSort[]</tt> sind die Referenzmessungen für SelectionSort enthalten.\n",
    "    </div>\n",
    "</div>"
   ]
  },
  {
   "cell_type": "code",
   "execution_count": 1,
   "metadata": {},
   "outputs": [],
   "source": [
    "double laengen[]   = { 1000, 2000, 3000, 4000, 5000, 6000, 7000, 8000, 9000, 10000, 12000, 15000, 20000 };\n",
    "double messungen[] = {    0,    0,    0,    0,    0,    0,    0,    0,    0,     0,     0,     0,     0 };\n",
    "\n",
    "double referenz[]  = { 0.08, 0.21, 0.34, 0.469, 0.60, 0.74,  0.87, 1.01,  1.14,  1.29, 1.55,  1.95,  2.63 };    \n",
    "double selectionSort[]  = { 0.56, 2.19, 4.86, 10.1, 15.2, 19.2, 26.3, 34.3, 43.5,  53.7,  76.9,   119,   212 };"
   ]
  },
  {
   "cell_type": "code",
   "execution_count": 4,
   "metadata": {},
   "outputs": [],
   "source": [
    "#include <algoviz/DataPlot.hpp>\n",
    "AlgoViz::clear();\n",
    "DataPlot plot = DataPlot(400,400);\n",
    "\n",
    "// Plotte die beiden Messreihen.\n",
    "plot.plot(laengen,messungen,13,\"red\");   // Die roten Punkte sind ihre Messungen\n",
    "plot.plot(laengen,referenz,13,\"blue\");   // Die blauen die Referenzmessungen\n",
    "plot.plot(laengen,selectionSort,13,\"black\");  // Die schwarzen sind die SelectionSort Messungen"
   ]
  },
  {
   "cell_type": "markdown",
   "metadata": {},
   "source": [
    "Wie Sie sehen benötigt HeapSort deutlich weniger Zeit als SelectionSort. Es sieht sogar fast so aus, alls würde die Laufzeit von HeapSort gar nicht steigen. Das das nicht ganz stimmt sieht man, wenn man die Messung von SelectionSort nicht mit plotten lässt.\n",
    "\n",
    "Diese einfachen Experimente scheinen also nahezulegen, dass HeapSort deutlich besser ist als SelectionSort. Aber können wir das auch nachweisen?"
   ]
  },
  {
   "cell_type": "markdown",
   "metadata": {},
   "source": [
    "<div class=\"followup\">\n",
    "    <h3>Wo es weiter geht</h3>\n",
    "    <div>Diese einfachen Experimente scheinen also nahezulegen, dass HeapSort deutlich besser ist als SelectionSort. Aber können wir das auch        \n",
    "        <a class=\"followup\" href=\"/user-redirect/algoviz/lessons/04_Sortieren/08_HeapSortLaufzeit.ipynb\">nachweisen</a>?\n",
    "    </div>\n",
    "</div>    "
   ]
  }
 ],
 "metadata": {
  "kernelspec": {
   "display_name": "C++17",
   "language": "C++17",
   "name": "xcpp17"
  },
  "language_info": {
   "codemirror_mode": "text/x-c++src",
   "file_extension": ".cpp",
   "mimetype": "text/x-c++src",
   "name": "c++",
   "version": "17"
  }
 },
 "nbformat": 4,
 "nbformat_minor": 4
}
