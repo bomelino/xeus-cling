{
 "cells": [
  {
   "cell_type": "markdown",
   "metadata": {},
   "source": [
    "# HeapSort"
   ]
  },
  {
   "cell_type": "markdown",
   "metadata": {},
   "source": [
    "<div class=\"prereq\">\n",
    "    <h3>Was man wissen sollte</h3>\n",
    "    <div>\n",
    "        Unsere Darstellung der Verfahren basiert auf dem bereits vorgestellten <a class=\"prereq\" href=\"/user-redirect/algoviz/lessons/04_Sortieren/04_Sortieren.ipynb\">SelectionSort</a> und den <a class=\"prereq\" href=\"/user-redirect/algoviz/lessons/04_Sortieren/05_WeitereVerfahren.ipynb\">anderen Verfahren</a>. Außerdem sollte man mit dem Konzept der <a class=\"prereq\" href=\"/user-redirect/algoviz/lessons/04_Sortieren/03_AsymptotischeLaufzeiten.ipynb\">asymptotischen Laufzeiten</a>\n",
    "        vertraut sein.\n",
    "    </div>\n",
    "</div>    "
   ]
  },
  {
   "cell_type": "markdown",
   "metadata": {},
   "source": [
    "Die bisherigen Sortierverfahren hattern alle ein Worst-Case-Laufzeit von $\\mathcal{O}(n^2)$. Im mittleren oder besten Fall waren sie allerdings unter Umständen etwas besser. Aber es drängt sich schon ein wenig die Frage auf, ob es Verfahren gibt, die weniger al $\\mathcal{O}(n^2)$ Zeit benötigen.\n",
    "\n",
    "Die Antwort darauf lautet: Ja, es gibt sie. Und eines der bekanntesten werden wir im Folgenden kennen lernen: **HeapSort**\n",
    "\n",
    "Statt den Algorithmus in seiner fertigen Form zu präsentieren, werden wir seine Idee allerdings schrittweise entwickeln. Dazu betrachten wir aber als erstes eine Möglichkeit die Informationen, die wir durch Vergleiche sammeln, darzustellen."
   ]
  },
  {
   "cell_type": "markdown",
   "metadata": {},
   "source": [
    "<div class=\"slideshow 04_Sortieren/15_BaumDerVergleiche/slides.json\">Der Baum der Vergleiche</a>"
   ]
  },
  {
   "cell_type": "markdown",
   "metadata": {},
   "source": [
    "## Exkurs: Bäume\n",
    "\n",
    "In der Slideshow wurden **Bäume** verwendet. Da diese uns ab jetzt ständig begleiten werden, machen einen kurzen Exkurs, um ein paar Begriffe und Sprechweisen festzulegen."
   ]
  },
  {
   "cell_type": "markdown",
   "metadata": {},
   "source": [
    "<div class=\"slideshow 04_Sortieren/16_Baeume/slides.json\">Bäume</a>"
   ]
  },
  {
   "cell_type": "markdown",
   "metadata": {},
   "source": [
    "## Die Idee von HeapSort\n",
    "\n",
    "Im Kern verwendet HeapSort die Idee des Baumes der Vergleiche. Allerdings versucht der Algorithmus die Elemente in dem Array immer so anzuordnen, dass dieser Baum eine bestimmte Form hat."
   ]
  },
  {
   "cell_type": "markdown",
   "metadata": {},
   "source": [
    "<div class=\"slideshow 04_Sortieren/17_HeapSort/slides.json\">Die Idee von HeapSort</a>"
   ]
  },
  {
   "cell_type": "markdown",
   "metadata": {},
   "source": [
    "Bevor Sie selbst \"Hand anlegen\" dürfen, noch ein Beispiel."
   ]
  },
  {
   "cell_type": "markdown",
   "metadata": {},
   "source": [
    "<div class=\"slideshow 04_Sortieren/18_HeapSortBeispiel/slides.json\">Ein Beispiel</a>"
   ]
  },
  {
   "cell_type": "markdown",
   "metadata": {},
   "source": [
    "<div class=\"task\">\n",
    "    <h3>Aufgabe</h3>\n",
    "    <div>\n",
    "        Führen Sie den abstrakten HeapSort von Hand auf dem folgenden Baum durch. Beachten Sie, dass er bereits ein Heap ist!\n",
    "    </div>\n",
    "    <div>\n",
    "        <center>\n",
    "            <img width=\"200\" src=\"/user-redirect/algoviz/img/04_Sortieren/Heap.png\">\n",
    "        </center>\n",
    "    </div>\n",
    "</div>"
   ]
  },
  {
   "cell_type": "markdown",
   "metadata": {},
   "source": [
    "## Vom Array zum Heap\n",
    "\n",
    "Nachdem wir die Grundidee von HeapSort kennengelernt haben, müsen wir uns noch darum kümmern, wie wir den anfänglichen Heap herstellen und wie wir den Baum in einem Programm repräsentieren. Zum Glück erweist sich das zweite Problem als unerwartet einfach."
   ]
  },
  {
   "cell_type": "markdown",
   "metadata": {},
   "source": [
    "<div class=\"slideshow 04_Sortieren/19_HeapSortAnfang/slides.json\">Vom Array zum Baum</a>"
   ]
  },
  {
   "cell_type": "markdown",
   "metadata": {},
   "source": [
    "<div class=\"task\">\n",
    "    <h3>Aufgabe</h3>\n",
    "    <div>\n",
    "        Nehmen Sie an, dass in einem Array die Buchstaben A bis Z vorliegen. Verwenden Sie die\n",
    "        Vater-Kind-Relationen, die sich aus der Interpretation des Arrays als Binärbaum ergeben, um das \n",
    "        12 buchstabige Schlüsselwort zu ermitteln, indem Sie die folgenden Verwandtschaftsbeziehungen\n",
    "        auflösen (der Einfachheit halber verwende ich die weiblichen Formen). <b>Zeichnen Sie nicht den\n",
    "        Baum, sondern verwenden Sie das Array!</b>\n",
    "    </div>\n",
    "    <div>\n",
    "        <ol>\n",
    "            <li>Die rechte Tochter von A</li>\n",
    "            <li>Die Großmutter von G</li>\n",
    "            <li>Die linke Tochter von F</li>\n",
    "            <li>Die linke Nichte von J</li>\n",
    "            <li>Die rechte Tochter von der linken Tochter von B</li>\n",
    "            <li>Die Schwester von O</li>\n",
    "            <li>Die linkeste Enkelin von B</li>\n",
    "            <li>Die rechte Cousine von M</li>\n",
    "            <li>Die Urgroßmutter von T</li>\n",
    "            <li>Die Urgroßmutter von Q</li>\n",
    "            <li>Der Onkel von 7</li>\n",
    "            <li>Die rechte Tochter von 5</li>\n",
    "        </ol>\n",
    "    </div>\n",
    "    <div>\n",
    "        Führen Sie anschließend die folgende Zelle aus und geben Sie das Codewort in Großbuchstaben ein.\n",
    "    </div>\n",
    "</div>"
   ]
  },
  {
   "cell_type": "code",
   "execution_count": 2,
   "metadata": {},
   "outputs": [
    {
     "name": "stdout",
     "output_type": "stream",
     "text": [
      "Das Codewort ist: \n",
      "CALVINHOBBES\n"
     ]
    }
   ],
   "source": [
    "#include <string>\n",
    "#include <algoviz/AlgoViz.hpp>\n",
    "using namespace std;\n",
    "\n",
    "std::string s;\n",
    "\n",
    "cout << \"Das Codewort ist: \" << endl;\n",
    "cin >> s;\n",
    "AlgoViz::sendCode(s);"
   ]
  },
  {
   "cell_type": "markdown",
   "metadata": {},
   "source": [
    "### Der Beweis, dass ein Knoten keine zwei Väter hat\n",
    "\n",
    "In der Slideshow wurde geagt, dass es relativ einfach zu zeigen ist, dass kein Knoten Kind von zwei verschiedenen Vätern ist. Gehen wir dazu mal davon aus, dass es einen Index $j$ gibt, der als Kind zweiter Väter interpretiert wird. Die Indices dieser Väter seien $i$ und $i'$. Jetzt müssen wir drei Fälle unterscheiden.\n",
    "\n",
    "Im ersten Fall ist $j$ das linke Kind von $i$ und von $i'$. Dann müsste folgendes gelten:\n",
    "\n",
    "    $$ 2 i + 1 = 2 i' + 1 $$\n",
    "    \n",
    "Das wiederrum hätte zur Folge, dass $i=i'$ gelten muss. Also Kann $j$ nicht das jeweils linke Kind von verschiedenen Vätern seinsein.\n",
    "\n",
    "Im zweiten Fall ist $j$ das rechte Kind von $i$ und $i'$.  Dann müsste folgendes gelten:\n",
    "   \n",
    "    $$ 2i + 2 = 2i' + 2 $$\n",
    "    \n",
    "   und auch daraus würde $i = i'$ folgen. Also kann $j$ auch nicht das jeweils rechte Kind von zwei verschiedenen Vätern sein.\n",
    "   \n",
    "   Also bleibt nur der dritte Fall. $j$ ist das linke Kind von $i$ und das rechte von $i'$. Dann würde folgendes gelten:\n",
    "   \n",
    "   $$2i+1 = 2i' +2 $$\n",
    "   \n",
    "   Das aber würde heißen das eine ungerade Zahl (links) gleich einer geraden Zahl (rechts) ist. Und das kann nicht sein.\n",
    "   \n",
    "   Also kann kein Index Kind zweier verschiederner Väter sein.\n",
    "   \n",
    "   Außerdem sind wir sicher, dass jeder Knoten (außer 0) einen Vater hat, denn wir können seinen Index berechnen."
   ]
  },
  {
   "cell_type": "markdown",
   "metadata": {},
   "source": [
    "## Der Bau des Heaps"
   ]
  },
  {
   "cell_type": "markdown",
   "metadata": {},
   "source": [
    "Als nächstes müssen wir dafür sorgen, dass der Binärbaum zu einem Heap wird."
   ]
  },
  {
   "cell_type": "markdown",
   "metadata": {},
   "source": [
    "<div class=\"slideshow 04_Sortieren/19a_HeapSortAnfang/slides.json\">Der Bau des Heaps</a>"
   ]
  },
  {
   "cell_type": "markdown",
   "metadata": {},
   "source": [
    "Und jetzt nochmal ein Beispiel für Heapify."
   ]
  },
  {
   "cell_type": "markdown",
   "metadata": {},
   "source": [
    "<div class=\"slideshow 04_Sortieren/20_HeapSortHeapify/slides.json\">Ein Beispiel für buildHeap()</a>"
   ]
  },
  {
   "cell_type": "markdown",
   "metadata": {},
   "source": [
    "<div class=\"task\">\n",
    "    <h3>Aufgabe</h3>\n",
    "    <div>\n",
    "        Nehmen Sie den Text als Inhalt eines <tt>char</tt>-Arrays und machen Sie es mit dem vorgestellten\n",
    "        Verfahren zu einem Heap. Verwenden Sie dabei die alphabetische Ordnung der Buchstaben. \n",
    "    </div>\n",
    "    <center><tt>CROSSINGOVER</tt></center>\n",
    "     <div>\n",
    "         Geben Sie veränderten Inhalt des Arrays anschließend als Wort in der nächsten Zelle ein.\n",
    "    </div>\n",
    "</div>"
   ]
  },
  {
   "cell_type": "code",
   "execution_count": 2,
   "metadata": {},
   "outputs": [
    {
     "name": "stdout",
     "output_type": "stream",
     "text": [
      "Das Codewort ist: \n",
      "VSRSRINGOVEO\n"
     ]
    }
   ],
   "source": [
    "#include <string>\n",
    "#include <algoviz/AlgoViz.hpp>\n",
    "using namespace std;\n",
    "\n",
    "string s;\n",
    "\n",
    "cout << \"Das Codewort ist: \" << endl;\n",
    "cin >> s;\n",
    "AlgoViz::sendCode(s);"
   ]
  },
  {
   "cell_type": "markdown",
   "metadata": {},
   "source": [
    "<div class=\"followup\">\n",
    "    <h3>Wo es weiter geht</h3>\n",
    "    <div>\n",
    "        Wir müssen HeapSort noch <a class=\"followup\" href=\"/user-redirect/algoviz/lessons/04_Sortieren/07_HeapSortImplementierung.ipynb\">implementieren</a> und seine\n",
    "        <a class=\"followup\" href=\"/user-redirect/algoviz/lessons/04_Sortieren/08_HeapSortLaufzeit.ipynb\">Laufzeit analysieren</a>.\n",
    "    </div>\n",
    "</div>    "
   ]
  }
 ],
 "metadata": {
  "kernelspec": {
   "display_name": "C++17",
   "language": "C++17",
   "name": "xcpp17"
  },
  "language_info": {
   "codemirror_mode": "text/x-c++src",
   "file_extension": ".cpp",
   "mimetype": "text/x-c++src",
   "name": "c++",
   "version": "17"
  }
 },
 "nbformat": 4,
 "nbformat_minor": 4
}
