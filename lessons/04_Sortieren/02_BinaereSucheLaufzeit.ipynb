{
 "cells": [
  {
   "cell_type": "markdown",
   "metadata": {},
   "source": [
    "# Die Laufzeit der Binären Suche"
   ]
  },
  {
   "cell_type": "markdown",
   "metadata": {},
   "source": [
    "<div class=\"prereq\">\n",
    "    <h3>Was man wissen sollte</h3>\n",
    "    <div>\n",
    "        Ohne die \n",
    "        <a class=\"prereq\" href=\"/user-redirect/algoviz/lessons/04_Sortieren/01_BinaereSuche.ipynb\">binäre Suche</a>\n",
    "        zu kennen, braucht man hier gar nicht anfangen.\n",
    "    </div>\n",
    "</div>    "
   ]
  },
  {
   "cell_type": "markdown",
   "metadata": {},
   "source": [
    "<div class=\"slideshow 04_Sortieren/02_BinaereSucheLaufzeit/slides.json\">Die Laufzeit der binären Suche</div>"
   ]
  },
  {
   "cell_type": "markdown",
   "metadata": {},
   "source": [
    "Im Folgenden wollen wir ein paar Experimente machen und die Zeit, dei die lineare und die binäre Suche benötigen messen. Dabei wollen wir insbesondere überprüfen, ob unsere Annahme, dass die benötigte Zeit ungefähr proportional zur Anzahl der gemachten Vergleiche bzw. Runden ist.\n",
    "\n",
    "Als erste benötigen wir Operationen für das Füllen eines Arrays, die Ausgabe und natürlich die lineare und binäre Suche. Dazu nehmen wir die Implementierungen aus den beiden entsprechenden Lessons."
   ]
  },
  {
   "cell_type": "code",
   "execution_count": 1,
   "metadata": {},
   "outputs": [],
   "source": [
    "#include <iostream>\n",
    "using namespace std;"
   ]
  },
  {
   "cell_type": "code",
   "execution_count": 2,
   "metadata": {},
   "outputs": [],
   "source": [
    "void fuelleSortiert(int x[], int n) {\n",
    "    srand(time(NULL));\n",
    "    \n",
    "    x[0] = rand() % 20;\n",
    "    \n",
    "    for ( int i = 1; i < n; i++ ) {\n",
    "        x[i] =  x[i-1] + 1 + ( rand() % 20 );\n",
    "    }\n",
    "}"
   ]
  },
  {
   "cell_type": "code",
   "execution_count": 3,
   "metadata": {},
   "outputs": [],
   "source": [
    "void ausgabe( int feld[], int laenge ) {\n",
    "    \n",
    "    for ( int pos = 0; pos < laenge; pos++ ) {\n",
    "        cout << feld[pos] << \" \";\n",
    "    }\n",
    "    cout << endl;\n",
    "}"
   ]
  },
  {
   "cell_type": "markdown",
   "metadata": {},
   "source": [
    "In die beiden Suchen bauen wir globale Zähler für die Vergleiche und Runden ein."
   ]
  },
  {
   "cell_type": "code",
   "execution_count": 4,
   "metadata": {},
   "outputs": [],
   "source": [
    "int vergleiche;\n",
    "int runden;"
   ]
  },
  {
   "cell_type": "code",
   "execution_count": 5,
   "metadata": {},
   "outputs": [],
   "source": [
    "int lineareSuche( int gesucht, int feld[], int laenge ) {\n",
    "    \n",
    "    vergleiche = 0;\n",
    "    \n",
    "    // Die Schleife\n",
    "    for ( int pos = 0 ; pos < laenge; pos++ ) {\n",
    "        vergleiche++;\n",
    "        if ( feld[pos] == gesucht ) {\n",
    "            // Breche die Schleife ab und gebe die Position zurück!\n",
    "            return pos;\n",
    "        }\n",
    "    }\n",
    "    \n",
    "    return -1;\n",
    "}"
   ]
  },
  {
   "cell_type": "code",
   "execution_count": 6,
   "metadata": {},
   "outputs": [],
   "source": [
    "int binaereSuche(int gesucht, int daten[], int n) {\n",
    "    int start = 0;\n",
    "    int ende = n-1;\n",
    "    int vergleich;\n",
    "    \n",
    "    vergleiche = 0;\n",
    "    runden = 0;\n",
    "    \n",
    "    while ( start <= ende ) {\n",
    "        runden++;\n",
    "        \n",
    "        vergleich = (start + ende)/2;\n",
    "        vergleiche++;\n",
    "        if ( daten[vergleich] == gesucht) {\n",
    "            return vergleich;\n",
    "        } else {\n",
    "            vergleiche++;\n",
    "            if ( daten[vergleich] < gesucht ) {\n",
    "                start = vergleich+1;\n",
    "            } else {\n",
    "                ende = vergleich-1;\n",
    "            }\n",
    "        }\n",
    "    }\n",
    "    \n",
    "    return -1;\n",
    "}"
   ]
  },
  {
   "cell_type": "markdown",
   "metadata": {},
   "source": [
    "Jetzt können wir ein Array sortiert befüllen und beide Operationen darauf suführen. Dabei wählen wir das gesuchte Element zufällig in dem Bereich zwischen 0 und `20*n` (zur Erinnerung: wir machen immer höchsten einen Schritt von 20 beim Befüllen)."
   ]
  },
  {
   "cell_type": "code",
   "execution_count": 35,
   "metadata": {},
   "outputs": [
    {
     "name": "stdout",
     "output_type": "stream",
     "text": [
      "13 25 34 40 46 66 74 77 92 105 119 122 140 154 162 171 185 196 207 212 \n",
      "gesucht: 153\n",
      "\n",
      "LINEARE SUCHE\n",
      "Index: -1\n",
      "Vergleiche: 20\n",
      "\n",
      "BINAERE SUCHE\n",
      "Index: -1\n",
      "Vergleiche: 10\n",
      "Runden: 5\n"
     ]
    }
   ],
   "source": [
    "srand(time(NULL));\n",
    "\n",
    "int feld[20];\n",
    "int gesucht = rand() % (20*20);\n",
    "\n",
    "fuelleSortiert(feld,20);\n",
    "ausgabe(feld,20);\n",
    "\n",
    "cout << \"gesucht: \" << gesucht << endl << endl;\n",
    "\n",
    "cout << \"LINEARE SUCHE\" << endl;\n",
    "cout << \"Index: \" << lineareSuche(gesucht,feld,20) << endl;\n",
    "cout << \"Vergleiche: \" << vergleiche << endl << endl;\n",
    "\n",
    "cout << \"BINAERE SUCHE\" << endl;\n",
    "cout << \"Index: \" << binaereSuche(gesucht,feld,20) << endl;\n",
    "cout << \"Vergleiche: \" << vergleiche << endl;\n",
    "cout << \"Runden: \" << runden << endl;"
   ]
  },
  {
   "cell_type": "markdown",
   "metadata": {},
   "source": [
    "Mit dem ogen gegebenen Code können wir leicht die Anzahl der Vergleiche und Runden zwischen den beiden Algorithmen vergleichen. Dabei stellt man fest, dass tatsächlich die binäre Suche in der Regel deutlich weniger Runden und auch Vergleiche benötigt."
   ]
  },
  {
   "cell_type": "markdown",
   "metadata": {},
   "source": [
    "## Die Zeitmessung\n",
    "\n",
    "Wir wollen aber auch die Zeit messen, die die Algorithmen benötigen und prüfen, ob sie proportional zu der Anzahl der Vergleiche bzw. Runden ist. Dazu füllen wir erst ein Array, das wir dann für die Experimente verwenden."
   ]
  },
  {
   "cell_type": "code",
   "execution_count": 37,
   "metadata": {},
   "outputs": [
    {
     "name": "stdout",
     "output_type": "stream",
     "text": [
      "2 19 31 48 58 76 79 97 115 128 138 153 159 174 177 194 195 196 204 219 \n"
     ]
    }
   ],
   "source": [
    "int feld[20];\n",
    "int gesucht = rand() % (20*20);\n",
    "\n",
    "fuelleSortiert(feld,20);\n",
    "ausgabe(feld,20);"
   ]
  },
  {
   "cell_type": "markdown",
   "metadata": {},
   "source": [
    "In der globalen Variable `gesucht` legen wir den Wert fest, den wir suchen. Wir werden dabei mehrere Werte wählen, die im Array vorkommen und einen der nicht vorkommt."
   ]
  },
  {
   "cell_type": "code",
   "execution_count": 96,
   "metadata": {},
   "outputs": [],
   "source": [
    "int gesucht = 220;"
   ]
  },
  {
   "cell_type": "markdown",
   "metadata": {},
   "source": [
    "Als nächstes Wollen wir wissen wie viele Vergleiche die lineare Suche benötigt."
   ]
  },
  {
   "cell_type": "code",
   "execution_count": 97,
   "metadata": {},
   "outputs": [
    {
     "name": "stdout",
     "output_type": "stream",
     "text": [
      "Vergleiche (linear): 20\n",
      "\n",
      "Vergleiche (binaer): 10\n",
      "\n"
     ]
    }
   ],
   "source": [
    "lineareSuche(gesucht,feld,20);\n",
    "cout << \"Vergleiche (linear): \" << vergleiche << endl << endl;\n",
    "\n",
    "binaereSuche(gesucht,feld,20);\n",
    "cout << \"Vergleiche (binaer): \" << vergleiche << endl << endl;"
   ]
  },
  {
   "cell_type": "markdown",
   "metadata": {},
   "source": [
    "Und jetzt kommt die Zeitmessung. Jupyter Notebook bietet die Möglichkeit die Zeit für die Ausführung einer Zelle zu messen. Dabei führt es die Zelle sogar mehrere Mal durch und ermittelt den Mittelwert der benötigten Zeit und die Standardabweichung. Der Befehl dafür ist `%%timeit`. Wird er am Anfang der Zelle ingefügt, wir die Messung durchgeführt. Das dauert durchaus etwas."
   ]
  },
  {
   "cell_type": "code",
   "execution_count": 98,
   "metadata": {},
   "outputs": [
    {
     "name": "stdout",
     "output_type": "stream",
     "text": [
      "28.7 ns +- 0.0587 ns per loop (mean +- std. dev. of 7 runs 10000000 loops each)\n"
     ]
    }
   ],
   "source": [
    "%%timeit\n",
    "lineareSuche(gesucht,feld,20);"
   ]
  },
  {
   "cell_type": "markdown",
   "metadata": {},
   "source": [
    "In der Ausgabe sieht man die benötigte mittlere Zeit (in diesem Fall in der Regel in Nanosekunden), die Standardabweichung. Außerdem erfährt man, dass 7 Läufe mit jeweils 100000000 Durchführungen gemacht wurden (d.h. insgesamt 700000000 Suchen).\n",
    "\n",
    "Und jetzt für die binäre Suche."
   ]
  },
  {
   "cell_type": "code",
   "execution_count": 99,
   "metadata": {},
   "outputs": [
    {
     "name": "stdout",
     "output_type": "stream",
     "text": [
      "14.5 ns +- 0.0212 ns per loop (mean +- std. dev. of 7 runs 100000000 loops each)\n"
     ]
    }
   ],
   "source": [
    "%%timeit\n",
    "binaereSuche(gesucht,feld,20);"
   ]
  },
  {
   "cell_type": "markdown",
   "metadata": {},
   "source": [
    "<div class=\"task\">\n",
    "    <h3>Aufgabe</h3>\n",
    "    <div>\n",
    "        Diese Aufgabe ist etwas aufwändiger. Führen Sie die Zeitmessung für die Indices 0,5,9,10,14,15,17,18,19 und für ein Element, das nicht in <tt>feld[]</tt> enthalten ist. D.h. sie setzen <tt>gesucht</tt> auf den Wert am entsprechenden Index. Notieren Sie sich die Anzahl der benötigten Vergleiche und die mittlere benötigte Zeit. Notieren Sie beides getrennt für die lineare und binäre Suche.\n",
    "    </div>\n",
    "    <div>\n",
    "        Berechnen Sie für die Messpaare die Zeit pro Vergleich und vergleichen Sie die erhaltenen Werte.\n",
    "    </div>\n",
    "</div>    "
   ]
  },
  {
   "cell_type": "markdown",
   "metadata": {},
   "source": [
    "Hier sind die Werte, die ich bei einer Testmessung für die **lineare Suche** erhalten habe."
   ]
  },
  {
   "cell_type": "markdown",
   "metadata": {},
   "source": [
    "<table>\n",
    "<tr>\n",
    " <th>Vergleiche</th><td>1</td><td>6</td><td>10</td><td>11</td><td>15</td><td>18</td><td>19</td><td>20</td>\n",
    "</tr>\n",
    "<tr>\n",
    " <th>Zeit [ns]</th><td>2.35</td><td>8.12</td><td>12.9</td><td>14.4</td><td>20.4</td><td>25.2</td><td>26.6</td><td>28.7</td>\n",
    "</tr>\n",
    "<tr>\n",
    " <th>Zeit pro Vergleich[ns]</th>\n",
    "    <td>2.35</td>\n",
    "    <td>1.35</td>\n",
    "    <td>1.29</td>\n",
    "    <td>1.3</td>\n",
    "    <td>1.36</td>\n",
    "    <td>1.4</td>\n",
    "    <td>1.4</td>\n",
    "    <td>1.44</td>\n",
    "</tr>\n",
    "</table>"
   ]
  },
  {
   "cell_type": "markdown",
   "metadata": {},
   "source": [
    "Wie man sieht ist die Zeit pro Vergleich in etwa konstant, was für eine Proportionalität zwischen den beiden Größen Laufzeit und Anzahl der Vergleiche spricht. Allerings ist das natürlich noch kein echter Nachweis. Dazu müsste man einen viel größere Experimentalreihe durchführen und die Messwerte genauer auswerten.\n",
    "\n",
    "Und hier das Ganze für die **binäre Suche**."
   ]
  },
  {
   "cell_type": "markdown",
   "metadata": {},
   "source": [
    "<table>\n",
    "<tr>\n",
    " <th>Vergleiche</th>\n",
    "    <td>1</td>\n",
    "    <td>3</td>\n",
    "    <td>5</td>\n",
    "    <td>7</td>\n",
    "    <td>7</td>\n",
    "    <td>7</td>\n",
    "    <td>7</td>\n",
    "    <td>10</td>\n",
    "</tr>\n",
    "<tr>\n",
    " <th>Zeit [ns]</th>\n",
    "    <td>3.59</td>\n",
    "    <td>5.56</td>\n",
    "    <td>8.07</td>\n",
    "    <td>11.3</td>\n",
    "    <td>11.3</td>\n",
    "    <td>10.6</td>\n",
    "    <td>10.8</td>\n",
    "    <td>14.5</td>\n",
    "</tr>\n",
    "<tr>\n",
    " <th>Zeit pro Vergleich[ns]</th>\n",
    "    <td>3.59</td>\n",
    "    <td>1.86</td>\n",
    "    <td>1.61</td>\n",
    "    <td>1.61</td>\n",
    "    <td>1.61</td>\n",
    "    <td>1.51</td>\n",
    "    <td>1.54</td>\n",
    "    <td>1.45</td>\n",
    "</tr>\n",
    "</table>"
   ]
  },
  {
   "cell_type": "markdown",
   "metadata": {},
   "source": [
    "Auch hier scheint sich die Proportionalität im Wesentlichen zu bestätigen. Was aber auffällt ist, dass die Zeit pro Vergleich etwa höher zu ein scheint. Dies könnte man z.B. damit erklären, das die Anweisungen, die neben den Vergleichen ausgeführt werden, bei der binären Suche etwas länger benötigen, als die bei der linearen Suche. Trotzdem scheint die geringere Anzahl der Vergleiche bei der binären Suche dazu zu führen, dass sie im Algemeinen schneller ist."
   ]
  },
  {
   "cell_type": "markdown",
   "metadata": {},
   "source": [
    "Insgesamt scheinen unsere sehr einfchen Experimente die Vermutung zu bestätigen, dass die Antzahl der Vergleiche die Laufzeit **dominiert**, oder anders ausgedrückt: Die Laufzeit ist im Wesentlichen proportional zur Anzahl der Vergleiche."
   ]
  },
  {
   "cell_type": "markdown",
   "metadata": {},
   "source": [
    "<div class=\"followup\">\n",
    "    <h3>Wo es weiter geht</h3>\n",
    "    <div>\n",
    "        Im Folgenden werden wir dieses Herangehen mathematisch präzisieren. Dazu werden wir schrittweise das\n",
    "        Konzept der <a class=\"followup\" href=\"/user-redirect/algoviz/lessons/04_Sortieren/03_AsymptotischeLaufzeiten.ipynb\">Asymptotischen Laufzeit</a> einführen.\n",
    "    </div>\n",
    "</div>    "
   ]
  }
 ],
 "metadata": {
  "kernelspec": {
   "display_name": "C++17",
   "language": "C++17",
   "name": "xcpp17"
  },
  "language_info": {
   "codemirror_mode": "text/x-c++src",
   "file_extension": ".cpp",
   "mimetype": "text/x-c++src",
   "name": "c++",
   "version": "17"
  }
 },
 "nbformat": 4,
 "nbformat_minor": 4
}
