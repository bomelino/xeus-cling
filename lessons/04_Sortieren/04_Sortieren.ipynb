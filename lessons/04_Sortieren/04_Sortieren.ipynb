{
 "cells": [
  {
   "cell_type": "markdown",
   "metadata": {},
   "source": [
    "# Sortieren"
   ]
  },
  {
   "cell_type": "markdown",
   "metadata": {},
   "source": [
    "<div class=\"prereq\">\n",
    "    <h3>Was man wissen sollte</h3>\n",
    "    <div>\n",
    "        Die Daten, die wir sortieren werden, liegen in einem <a class=\"prereq\" href=\"/user-redirect/algoviz/lessons/03_Fortgeschritten/00_Arrays.ipynb\">Array</a> vor. Außerdem sollte man mit dem Konzept der <a class=\"prereq\" href=\"/user-redirect/algoviz/lessons/04_Sortieren/03_AsymptotischeLaufzeiten.ipynb\">asymptotischen Laufzeiten</a>\n",
    "        vertraut sein.\n",
    "    </div>\n",
    "</div>    "
   ]
  },
  {
   "cell_type": "markdown",
   "metadata": {},
   "source": [
    "Das Sortieren von Daten ist eines der grundlegenden Probleme der Informatik. Es spielt nicht nur bei der Präsentation und Bearbeitung von Daten eine große Rolle. Auch in der Algorithmik ist die Vorsortierung von Daten häufig für die Entwicklung von effizienten Methoden notwendig.\n",
    "\n",
    "Da das Problem in vielen verschiedenen Kontexten auftirtt, gibt es eine ganze Reihe von Sortieralgorithmen, die alle ihre jeweiligen Besonderheiten haben. Und es kommt durchaus vor, dass ein Algorithmus, der in einer Situation schlechter erscheint als ein anderer, in einer anderen Situation durchaus besser ist. Aspekte, die dabei eine Rolle spielen sind unter anderem der Grad der Vorsortierung der Daten, die Größe und Anzahl der Daten, die Organisation des Speichers und ob die Daten vollständig im Arbeitsspeicher verarbeitet werden können oder Stückweise von einem externen Speicher - z.B. einer Festplatte - eingelesen werden müssen.\n",
    "\n",
    "Außerdem bieten Sortieralgorithmen sehr gute Möglichkeiten sich mit der Entwicklung, Struktur und Analyse von Algorithmen zu beschäftigen. Und genau darauf wird unser Fokus liegen."
   ]
  },
  {
   "cell_type": "markdown",
   "metadata": {},
   "source": [
    "<div class=\"slideshow 04_Sortieren/11_Sortieren/slides.json\">Das Sortierproblem</a>"
   ]
  },
  {
   "cell_type": "markdown",
   "metadata": {},
   "source": [
    "Bevor wir **SelectionSort** implementieren, schauen wir ihn uns an einem Beispiel an. Dabei verwenden wir ein anderes Beispiel, wie man sich Algorithmen erschließen kann (nicht nur Sortieralgorithmen)."
   ]
  },
  {
   "cell_type": "markdown",
   "metadata": {},
   "source": [
    "[](https://abbozza.informatik.uos.de/aud/slideshows/shows/04_Sortieren/SelectionSort.mp4)"
   ]
  },
  {
   "cell_type": "markdown",
   "metadata": {},
   "source": [
    "<center>\n",
    "  <video width=\"640\" height=\"480\" controls src=\"https://abbozza.informatik.uos.de/aud/slideshows/shows/04_Sortieren/SelectionSort.mp4\">\n",
    "  </video>\n",
    "</center>"
   ]
  },
  {
   "cell_type": "markdown",
   "metadata": {},
   "source": [
    "<div class=\"slideshow /04_Sortieren/12_SelectionSort/slides.json\">SelectionSort</a>"
   ]
  },
  {
   "cell_type": "markdown",
   "metadata": {},
   "source": [
    "Zur Implementierung nutzen wir das Struktogram.\n",
    "\n",
    "![SelectionSort als Struktogramm](/user-redirect/algoviz/img/04_Sortieren/SelectionSort.png)\n",
    "\n",
    "Damit ist die Implementierung nicht mehr sehr schwer."
   ]
  },
  {
   "cell_type": "code",
   "execution_count": 1,
   "metadata": {},
   "outputs": [],
   "source": [
    "// Da SelectionSort ein Eigenname ist, weichen wir bei der\n",
    "// Benennung der Operation vom Styleguide ab und beginnen mit \n",
    "// einem Großbuchstaben.\n",
    "\n",
    "void SelectionSort(int feld[], int len) {\n",
    "    \n",
    "    int max;\n",
    "    \n",
    "    // ende läuft rückwärts von len-1\n",
    "    for ( int ende = len-1 ; ende > 0 ; ende-- ) {\n",
    "        max = 0;\n",
    "            \n",
    "        // Die Suche nach dem Maximum\n",
    "        for ( int pos = 1; pos <= ende ; pos++ ) {\n",
    "            if ( feld[pos] > feld[max] ) {\n",
    "                max = pos;\n",
    "            }\n",
    "        }\n",
    "        \n",
    "        // Der Tausch von feld[ende] mit feld[max]\n",
    "        int helper = feld[ende];\n",
    "        feld[ende] = feld[max];\n",
    "        feld[max] = helper;\n",
    "    }\n",
    "}"
   ]
  },
  {
   "cell_type": "markdown",
   "metadata": {},
   "source": [
    "### Ein neues Werkzeug\n",
    "\n",
    "Da wir in der Zukunft etwas häufiger mit Arrays arbeiten, gibt es einige neue praktische Operationen, die wir ab jetzt nutzen. Dazu muss man die Bibliothek `Tools.hpp` einbinden."
   ]
  },
  {
   "cell_type": "code",
   "execution_count": 2,
   "metadata": {},
   "outputs": [],
   "source": [
    "#include <algoviz/Tools.hpp>"
   ]
  },
  {
   "cell_type": "markdown",
   "metadata": {},
   "source": [
    "Alle Operationen, die durch die Bibliothek zur Verfügung gestellt werden, liegen in der Klasse **Tools** `aud`. Damit muss man immer `Tools::` voranstellen. Welche Operationen es gibt, sieht man in der Dokumentation."
   ]
  },
  {
   "cell_type": "code",
   "execution_count": 3,
   "metadata": {},
   "outputs": [],
   "source": [
    "?Tools"
   ]
  },
  {
   "cell_type": "markdown",
   "metadata": {},
   "source": [
    "Probieren wir gleich zwei aus und lassen ein Array zufällig befüllen und ausgeben."
   ]
  },
  {
   "cell_type": "code",
   "execution_count": 4,
   "metadata": {},
   "outputs": [
    {
     "name": "stdout",
     "output_type": "stream",
     "text": [
      "10 4 91 81 72 24 79 95 82 79 94 12 64 55 59 11 13 96 32 1 \n"
     ]
    }
   ],
   "source": [
    "int feld[20];\n",
    "\n",
    "Tools::fillArray(feld,20);\n",
    "Tools::printArray(feld,20);"
   ]
  },
  {
   "cell_type": "markdown",
   "metadata": {},
   "source": [
    "Und jetzt können wir es sortieren lassen."
   ]
  },
  {
   "cell_type": "code",
   "execution_count": 5,
   "metadata": {},
   "outputs": [
    {
     "name": "stdout",
     "output_type": "stream",
     "text": [
      "1 4 10 11 12 13 24 32 55 59 64 72 79 79 81 82 91 94 95 96 \n"
     ]
    }
   ],
   "source": [
    "SelectionSort(feld,20);\n",
    "Tools::printArray(feld,20);"
   ]
  },
  {
   "cell_type": "markdown",
   "metadata": {},
   "source": [
    "Sieht gut aus. Damit haben wir einen ersten Sortier-Algorithmus implementiert."
   ]
  },
  {
   "cell_type": "markdown",
   "metadata": {},
   "source": [
    "## Die Laufzeit von Selection Sort\n",
    "\n",
    "Als nächstes wollen wir uns die Laufzeit von SelectionSort im Experiment ansehen. Dazu führen wir ihn auf zufällig befüllten Arrays verschiedener Größe aus und messen die Zeit, wie wir es schon bei der [linearen und binären Suche](/user-redirect/algoviz/lessons/04_Sortieren/02_BinaereSucheLaufzeiten.ipynb) gemacht haben.\n",
    "\n",
    "Als erstes benötigen wir das Array und die Anzahl der Elemente. Hier können wir einen \"Trick\" anwenden, um uns die Arbeit etwas zu erleichtern. Dabei müssen wir uns daran erinnern, dass die Länge eines Arrays eine Konstante sein muss und nicht durch eine Variable gegeben werden kann. Das können wir umgehen, indem wir **garantieren**, dass die Variable knstant ist, d.h. dass wir ihren Wert nicht verändern. Das können wir erreichen, indem wir der Deklaration das Schlüsselwort `const` voranstellen. Dadurch können wir den Wert der Variable nicht mehr verändern. Probieren wir das mal aus."
   ]
  },
  {
   "cell_type": "code",
   "execution_count": 65,
   "metadata": {},
   "outputs": [],
   "source": [
    "const int konstante = 42;   // Eine Konstante"
   ]
  },
  {
   "cell_type": "markdown",
   "metadata": {},
   "source": [
    "Und jetzt versuchen wir sie zu verändern, was zu einem Fehler führt."
   ]
  },
  {
   "cell_type": "code",
   "execution_count": 67,
   "metadata": {},
   "outputs": [
    {
     "name": "stderr",
     "output_type": "stream",
     "text": [
      "\u001b[1minput_line_280:2:12: \u001b[0m\u001b[0;1;31merror: \u001b[0m\u001b[1mcannot assign to variable 'konstante' with const-qualified type 'const int'\u001b[0m\n",
      " konstante = 43; // Wir können sie nicht verändern!\n",
      "\u001b[0;1;32m ~~~~~~~~~ ^\n",
      "\u001b[0m\u001b[1minput_line_278:2:12: \u001b[0m\u001b[0;1;30mnote: \u001b[0mvariable 'konstante' declared const here\u001b[0m\n",
      " const int konstante = 42;   // Eine Konstante\n",
      "\u001b[0;1;32m ~~~~~~~~~~^~~~~~~~~~~~~~\n",
      "\u001b[0m"
     ]
    },
    {
     "ename": "Interpreter Error",
     "evalue": "",
     "output_type": "error",
     "traceback": [
      "Interpreter Error: "
     ]
    }
   ],
   "source": [
    "konstante = 43; // Wir können sie nicht verändern!"
   ]
  },
  {
   "cell_type": "markdown",
   "metadata": {},
   "source": [
    "Wenn wir jetzt eine solche Konstante dazu nutzen die Länge des Arrays festzulegen, geht das."
   ]
  },
  {
   "cell_type": "code",
   "execution_count": 76,
   "metadata": {},
   "outputs": [],
   "source": [
    "const int len = 20000;\n",
    "int feld[len];"
   ]
  },
  {
   "cell_type": "markdown",
   "metadata": {},
   "source": [
    "Jetzt können wir das Array zufällig befüllen und sortieren. Dabei messen wir die benötigte Zeit."
   ]
  },
  {
   "cell_type": "code",
   "execution_count": 77,
   "metadata": {},
   "outputs": [
    {
     "name": "stdout",
     "output_type": "stream",
     "text": [
      "212 ms +- 1.36 ms per loop (mean +- std. dev. of 7 runs 1 loop each)\n"
     ]
    }
   ],
   "source": [
    "%%timeit\n",
    "Tools::fillArray(feld,len);\n",
    "SelectionSort(feld,len);"
   ]
  },
  {
   "cell_type": "markdown",
   "metadata": {},
   "source": [
    "Durch die Änderung von `len` kann man jetzt die Messung für verschiedene Arraylängen wiederholen."
   ]
  },
  {
   "cell_type": "markdown",
   "metadata": {},
   "source": [
    "<div class=\"task\">\n",
    "    <h3>Aufgabe</h3>\n",
    "    <div>\n",
    "        Führen Sie die Zeitmessung für die in dem Array <tt>laengen[]</tt> (siehe nächste Zelle) durch.\n",
    "        Tragen Sie die Werte in Millisekunden (ms) in das Array <tt>messungen[]</tt> ein. Beachten Sie\n",
    "        dabei die Reihenfolge.\n",
    "    </div>\n",
    "    <div>\n",
    "        In dem Array <tt>referenz[]</tt> ist bereits eine Reihe von Messungen gegeben.\n",
    "    </div>\n",
    "</div>"
   ]
  },
  {
   "cell_type": "code",
   "execution_count": 1,
   "metadata": {},
   "outputs": [],
   "source": [
    "double laengen[]   = { 1000, 2000, 3000, 4000, 5000, 6000, 7000, 8000, 9000, 10000, 12000, 15000, 20000 };\n",
    "double messungen[] = {    0,    0,    0,    0,    0,    0,    0,    0,    0,     0,     0,     0,     0 };\n",
    "    \n",
    "double referenz[]  = { 0.56, 2.19, 4.86, 10.1, 15.2, 19.2, 26.3, 34.3, 43.5,  53.7,  76.9,   119,   212 };"
   ]
  },
  {
   "cell_type": "markdown",
   "metadata": {},
   "source": [
    "Jetzt wollen wir uns die Werte mal ansehen. Dazu nutzen wir den View `DataPlot`. Er dient der Visualisierung von Dateneihen."
   ]
  },
  {
   "cell_type": "code",
   "execution_count": 2,
   "metadata": {},
   "outputs": [],
   "source": [
    "#include <algoviz/DataPlot.hpp>\n",
    "AlgoViz::clear();\n",
    "DataPlot plot = DataPlot(400,400);\n",
    "\n",
    "// Plotte die beiden Messreihen.\n",
    "plot.plot(laengen,messungen,13,\"red\");   // Die roten Punkte sind ihre Messungen\n",
    "plot.plot(laengen,referenz,13,\"black\");  // Die schwarzen die Referenzmessungen"
   ]
  },
  {
   "cell_type": "markdown",
   "metadata": {},
   "source": [
    "Wenn Sie den Verlauf der Zeiten in Abhängigkeit von der Größe des Arrays betrachten, sollten sie in beiden Messreihen relativ gut die Parabel erkennen, die die in der Analyse festgestellt quadratische Laufzeit $\\mathcal{O}(n^2)$ bestätigt. Dabei können beide Messreihen, abhängig von der\n",
    "Leistungsfähigkeit ihres Computers durch aus gegeneinander verschoben sein. Diese Verschiebung entspricht den unterschiedlichen Konstanten, die wir durch die Einführung der [asymptotischen Laufzeiten](/usr-redirect/algoviz/lessons/04_Sortieren/03_AsymptotischeLaufzeiten.ipynb) in den Griff bekommen wollten."
   ]
  },
  {
   "cell_type": "markdown",
   "metadata": {},
   "source": [
    "<div class=\"followup\">\n",
    "    <h3>Wo es weiter geht</h3>\n",
    "    <div>\n",
    "        Außer <b>SelectionSort</b> gibt es noche eine ganze Reihe anderer Verfahren, die auf ähnlichen\n",
    "        Prinzipien beruhen. Sie sind Thema der Lesson <a class=\"followup\" href=\"/user-redirect/algoviz/lessons/04_Sortieren/05_WeitereVerfahren.ipynb\">\"Weitere Sortierverfahren\"</a>.       \n",
    "    </div>\n",
    "    <div>\n",
    "    <div>\n",
    "        Wer es eilig hat kann aber auch schon mal einen Blick auf <a class=\"followup\" href=\"/user-redirect/algoviz/lessons/04_Sortieren/06_Heapsort.ipynb\">HeapSort</a> werfen.\n",
    "    </div>        \n",
    "    </div>\n",
    "</div>    "
   ]
  }
 ],
 "metadata": {
  "kernelspec": {
   "display_name": "C++17",
   "language": "C++17",
   "name": "xcpp17"
  },
  "language_info": {
   "codemirror_mode": "text/x-c++src",
   "file_extension": ".cpp",
   "mimetype": "text/x-c++src",
   "name": "c++",
   "version": "17"
  }
 },
 "nbformat": 4,
 "nbformat_minor": 4
}
