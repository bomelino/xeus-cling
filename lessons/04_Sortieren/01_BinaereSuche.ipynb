{
 "cells": [
  {
   "cell_type": "markdown",
   "metadata": {},
   "source": [
    "# Die binäre Suche"
   ]
  },
  {
   "cell_type": "markdown",
   "metadata": {},
   "source": [
    "<div class=\"prereq\">\n",
    "    <h3>Was man wissen sollte</h3>\n",
    "    <div>\n",
    "        Da wir die \n",
    "        <a class=\"prereq\" href=\"/user-redirect/algoviz/lessons/04_Sortieren/00_Suche.ipynb\">lineare Suche</a>\n",
    "        verbessern wollen, wäre es gut sie zu kennen.\n",
    "    </div>\n",
    "</div>    "
   ]
  },
  {
   "cell_type": "markdown",
   "metadata": {},
   "source": [
    "<div class=\"slideshow 04_Sortieren/01_BinaereSuche/slides.json\">Die binäre Suche</div>"
   ]
  },
  {
   "cell_type": "code",
   "execution_count": 6,
   "metadata": {},
   "outputs": [],
   "source": [
    "#include <iostream>\n",
    "using namespace std;"
   ]
  },
  {
   "cell_type": "markdown",
   "metadata": {},
   "source": [
    "Basierend auf dem entwickelten Struktogramm ist die Implementierung der binären Suche reltativ einfach. Also beginnen wir mit dem Struktogramm.\n",
    "\n",
    "![Die binäre Suche](/user-redirect/algoviz/img/04_Sortieren/BinaereSucheStruktogramm.png)\n",
    "\n",
    "Wir implementieren Sie direkt als Operation. Die Parameter sind dabei dieselben, wie bei der linearen Suche."
   ]
  },
  {
   "cell_type": "code",
   "execution_count": 7,
   "metadata": {},
   "outputs": [],
   "source": [
    "int binaereSuche(int daten[], int n, int gesucht) {\n",
    "    int start = 0;\n",
    "    int ende = n-1;\n",
    "    int vergleich;\n",
    "    \n",
    "    while ( start <= ende ) {\n",
    "        vergleich = (start + ende)/2;\n",
    "        if ( daten[vergleich] == gesucht) {\n",
    "            return vergleich;\n",
    "        } else {\n",
    "            if ( daten[vergleich] < gesucht ) {\n",
    "                start = vergleich+1;\n",
    "            } else {\n",
    "                ende = vergleich-1;\n",
    "            }\n",
    "        }\n",
    "    }\n",
    "    \n",
    "    return -1;\n",
    "}"
   ]
  },
  {
   "cell_type": "markdown",
   "metadata": {},
   "source": [
    "Damit wir die Operation testen können benötigen wir allerdings ein **sortiertes Array**. Dabei möchten wir sicherstellen, dass jede Zahl höchsten einmal vorkommt. Ein Array so mit zufälligen Zahlen zu füllen bedarf schon eines eigenen Algorithmus, den wir im Folgenden entwickeln.\n",
    "\n",
    "## Das sortierte Array\n",
    "\n",
    "Wir wollen ein gegebenes Array mit zufälligen Zahlen sortieren. Die Werte sollen aufsteigend sortiert sein und jeder Wert soll höchstens einmal vorkommen. Dabei werden wir uns der Einfachheit halber etwas einschränken, um \"schöne\" zufällige Arrays zu erhalten. Wir werden die nächste Zahl immer zwischen 1 und 20 größer wählen als die vorherige.\n",
    "D.h. ist `x[i]` die zufällige Zahl am Index `i`, dann setzen wir `x[i] = x[x-1] + 1 + (rand() % 20)` und `x[0] = rand() % 20`. Damit können wir zwar nicht alle möglichen zufälligen aufsteigend sortierten Array erzeugen, aber für unsere Zwecke reicht es.\n"
   ]
  },
  {
   "cell_type": "code",
   "execution_count": 30,
   "metadata": {},
   "outputs": [],
   "source": [
    "void fuelleSortiert(int x[], int n) {\n",
    "    srand(time(NULL));\n",
    "    \n",
    "    x[0] = rand() % 20;\n",
    "    \n",
    "    for ( int i = 1; i < n; i++ ) {\n",
    "        x[i] =  x[i-1] + 1 + ( rand() % 20 );\n",
    "    }\n",
    "}"
   ]
  },
  {
   "cell_type": "markdown",
   "metadata": {},
   "source": [
    "Für die Ausgabe des Arrays nehmen wir die gleiche Operation wie bei der [linearen Suche](/user-redirect/algoviz/lessons/04_Sortieren/00_Suche.ipynb)."
   ]
  },
  {
   "cell_type": "code",
   "execution_count": 31,
   "metadata": {},
   "outputs": [],
   "source": [
    "void ausgabe( int feld[], int laenge ) {\n",
    "    \n",
    "    for ( int pos = 0; pos < laenge; pos++ ) {\n",
    "        cout << feld[pos] << \" \";\n",
    "    }\n",
    "    cout << endl;\n",
    "}"
   ]
  },
  {
   "cell_type": "markdown",
   "metadata": {},
   "source": [
    "Probieren wir es aus."
   ]
  },
  {
   "cell_type": "code",
   "execution_count": 33,
   "metadata": {},
   "outputs": [
    {
     "name": "stdout",
     "output_type": "stream",
     "text": [
      "13 21 39 57 69 86 105 122 126 129 145 149 156 171 183 203 222 237 240 257 \n"
     ]
    }
   ],
   "source": [
    "int feld[20];\n",
    "\n",
    "fuelleSortiert(feld,20);\n",
    "ausgabe(feld,20);"
   ]
  },
  {
   "cell_type": "markdown",
   "metadata": {},
   "source": [
    "Es funktioniert. Allerdings scheinen überproportional häufig große Werte in dem Array zu sein. Aber das ist absolut korrekt. Denn der erste Wert wir zufällig zwischen 0 und 80 gewählt. Damit sind relativ große Anfangswerte recht wahrscheinlich (in 50% der Fälle größer gleich 40).\n",
    "\n",
    "Jetzt können wir die binäre Suche ausprobieren. Probieren Sie verschiedene Werte aus. Decken Sie dabei möglichst viele Fälle ab."
   ]
  },
  {
   "cell_type": "code",
   "execution_count": 36,
   "metadata": {},
   "outputs": [
    {
     "data": {
      "text/plain": [
       "6"
      ]
     },
     "execution_count": 36,
     "metadata": {},
     "output_type": "execute_result"
    }
   ],
   "source": [
    "binaereSuche(feld,20,105)"
   ]
  },
  {
   "cell_type": "markdown",
   "metadata": {},
   "source": [
    "<div class=\"task\">\n",
    "    <h3>Aufgabe</h3>\n",
    "    <div>\n",
    "            Führen Sie zwei globale Variablen <tt>vergleiche</tt> und <tt>runden</tt> ein. Mit ihnen sollen Sie in <tt>binaereSuche()</tt>\n",
    "        zählen, wie viele Vergleiche, bzw. wieviele Schleifendurchläufe benötigt werden.\n",
    "    </div>\n",
    "</div>    "
   ]
  },
  {
   "cell_type": "code",
   "execution_count": 47,
   "metadata": {},
   "outputs": [],
   "source": [
    "int vergleiche;     // Der Zähler für die gemachten Vergleiche\n",
    "int runden;         // Der Zähler für die gemachten Runden"
   ]
  },
  {
   "cell_type": "code",
   "execution_count": 56,
   "metadata": {},
   "outputs": [],
   "source": [
    "// Ergänzen Sie die Zähler\n",
    "// Vergessen Sie dabei nicht die Initialisierung!\n",
    "\n",
    "int binaereSuche(int daten[], int n, int gesucht) {\n",
    "    int start = 0;\n",
    "    int ende = n-1;\n",
    "    int vergleich;\n",
    "    while ( start <= ende ) {\n",
    "        vergleich = (start + ende)/2;        \n",
    "        if ( daten[vergleich] == gesucht) {\n",
    "            return vergleich;\n",
    "        } else {            \n",
    "            if ( daten[vergleich] < gesucht ) {\n",
    "                start = vergleich+1;\n",
    "            } else {\n",
    "                ende = vergleich-1;\n",
    "            }\n",
    "        }\n",
    "    }\n",
    "    \n",
    "    return -1;\n",
    "}"
   ]
  },
  {
   "cell_type": "markdown",
   "metadata": {},
   "source": [
    "Wenn Sie die Ergänzung gemacht haben, können wir die Anzahl der Vergleiche zählen."
   ]
  },
  {
   "cell_type": "code",
   "execution_count": 57,
   "metadata": {},
   "outputs": [
    {
     "name": "stdout",
     "output_type": "stream",
     "text": [
      "8 13 29 48 62 75 90 92 109 124 136 142 154 162 182 184 188 200 201 219 \n"
     ]
    }
   ],
   "source": [
    "int feld[20];\n",
    "\n",
    "fuelleSortiert(feld,20);\n",
    "ausgabe(feld,20);"
   ]
  },
  {
   "cell_type": "code",
   "execution_count": 58,
   "metadata": {},
   "outputs": [
    {
     "name": "stdout",
     "output_type": "stream",
     "text": [
      "Index: -1\n",
      "Vergleiche: 3\n",
      "Runden: 2\n"
     ]
    }
   ],
   "source": [
    "cout << \"Index: \" << binaereSuche(feld,20,37) << endl;\n",
    "cout << \"Vergleiche: \" << vergleiche << endl;\n",
    "cout << \"Runden: \" << runden << endl;"
   ]
  },
  {
   "cell_type": "code",
   "execution_count": 59,
   "metadata": {},
   "outputs": [
    {
     "data": {
      "text/plain": [
       "3"
      ]
     },
     "execution_count": 59,
     "metadata": {},
     "output_type": "execute_result"
    }
   ],
   "source": [
    "vergleiche"
   ]
  },
  {
   "cell_type": "markdown",
   "metadata": {},
   "source": [
    "<div class=\"followup\">\n",
    "    <h3>Wo es weiter geht</h3>\n",
    "    <div>\n",
    "        Aks nächstes wollen die <a class=\"followup\" href=\"/user-redirect/algoviz/lessons/04_Sortieren/02_BinaereSucheLaufzeit.ipynb\">Laufzeit der binären Suche</a> etwas genauer untersuchen.\n",
    "    </div>\n",
    "</div>    "
   ]
  }
 ],
 "metadata": {
  "kernelspec": {
   "display_name": "C++17",
   "language": "C++17",
   "name": "xcpp17"
  },
  "language_info": {
   "codemirror_mode": "text/x-c++src",
   "file_extension": ".cpp",
   "mimetype": "text/x-c++src",
   "name": "c++",
   "version": "17"
  }
 },
 "nbformat": 4,
 "nbformat_minor": 4
}
