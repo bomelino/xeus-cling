{
 "cells": [
  {
   "cell_type": "markdown",
   "metadata": {},
   "source": [
    "# Die Laufzeit von von HeapSort"
   ]
  },
  {
   "cell_type": "markdown",
   "metadata": {},
   "source": [
    "<div class=\"prereq\">\n",
    "    <h3>Was man wissen sollte</h3>\n",
    "    <div>\n",
    "        Vor der Analyse der Laufzeit sollte die Funktionsweise von <a class=\"prereq\" href=\"/user-redirect/algoviz/lessons/04_Sortieren/06_Heapsort.ipynb\">HeapSort</a> bekannt sein.\n",
    "    </div>\n",
    "</div>"
   ]
  },
  {
   "cell_type": "markdown",
   "metadata": {},
   "source": [
    "<div class=\"slideshow 04_Sortieren/21_HeapSortLaufzeit/slides.json\">Die Laufzeit von HeapSort</a>"
   ]
  },
  {
   "cell_type": "markdown",
   "metadata": {},
   "source": [
    "<div class=\"followup\">\n",
    "    <h3>Wo es weiter geht</h3>\n",
    "        <div>Wir werden später nochmal auf Sortierverfahren zurück kommen. Aber zuerst beschäftigen wir uns mit         <a class=\"followup\" href=\"/user-redirect/algoviz/lessons/05_Objekte/00_Objekte.ipynb\">Objekten und Klassen</a>?\n",
    "    </div>\n",
    "</div>    "
   ]
  }
 ],
 "metadata": {
  "kernelspec": {
   "display_name": "C++17",
   "language": "C++17",
   "name": "xcpp17"
  },
  "language_info": {
   "codemirror_mode": "text/x-c++src",
   "file_extension": ".cpp",
   "mimetype": "text/x-c++src",
   "name": "c++",
   "version": "17"
  }
 },
 "nbformat": 4,
 "nbformat_minor": 4
}
