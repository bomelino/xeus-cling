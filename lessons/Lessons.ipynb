{
 "cells": [
  {
   "cell_type": "markdown",
   "metadata": {},
   "source": [
    "# Die Lessons"
   ]
  },
  {
   "cell_type": "markdown",
   "metadata": {},
   "source": [
    "## 00 Organisatorisches\n",
    "\n",
    "Diese Notebooks beziehen sich auf allgemeine Themen und technische Anleitungen.\n",
    "\n",
    "* [00 Notebooks und Zellen](00_Organisatorisches/00_NotebooksUndZellen.ipynb) - Grundlegendes über Jupyter Notebooks\n",
    "* [01 Aktualisierung der Materialien](00_Organisatorisches/01_Aktualisierung.ipynb) - Die Aktualisierung der Materialien"
   ]
  },
  {
   "cell_type": "markdown",
   "metadata": {},
   "source": [
    "## 01 Algorithmen\n",
    "\n",
    "* [00 Ein erstes Programm](01_Algorithmen/00_EinErstesProgramm.ipynb)\n",
    "* [01 Algorithmen](01_Algorithmen/01_Algorithmen.ipynb)"
   ]
  },
  {
   "cell_type": "markdown",
   "metadata": {},
   "source": [
    "## 02 Grundlagen\n",
    "\n",
    "* [00 Anweisungen](02_Grundlagen/00_Anweisungen.ipynb)\n",
    "* [01 Variablen und Datentypen](02_Grundlagen/01_Variablen.ipynb)\n",
    "* [02 Ein- und Ausgabe](02_Grundlagen/02_EinundAusgabe.ipynb)"
   ]
  }
 ],
 "metadata": {
  "kernelspec": {
   "display_name": "C++17",
   "language": "C++17",
   "name": "xcpp17"
  },
  "language_info": {
   "codemirror_mode": "text/x-c++src",
   "file_extension": ".cpp",
   "mimetype": "text/x-c++src",
   "name": "c++",
   "version": "17"
  }
 },
 "nbformat": 4,
 "nbformat_minor": 4
}
