{
 "cells": [
  {
   "cell_type": "markdown",
   "metadata": {},
   "source": [
    "# Einfache Beispiele für die Rekursion"
   ]
  },
  {
   "cell_type": "markdown",
   "metadata": {},
   "source": [
    "<div class=\"prereq\">\n",
    "    <h3>Was man wissen sollte</h3>\n",
    "    <div>Man sollte das Allgemeine über die \n",
    "        <a class=\"prereq\" href=\"/user-redirect/algoviz/lessons/07_Rekursion/04_Rekursion.ipynb\">Rekursion</a> kennen.</div>\n",
    "</div>"
   ]
  },
  {
   "cell_type": "markdown",
   "metadata": {},
   "source": [
    "<div class=\"slideshow 07_Rekursion/05_RekursionBeispiele/slides.json\">Beispiele für die Rekursion</a>"
   ]
  },
  {
   "cell_type": "markdown",
   "metadata": {},
   "source": [
    "## Rekursive Definitionen"
   ]
  },
  {
   "cell_type": "code",
   "execution_count": 2,
   "metadata": {},
   "outputs": [],
   "source": [
    "#include <iostream>\n",
    "#include <string>\n",
    "using namespace std;"
   ]
  },
  {
   "cell_type": "markdown",
   "metadata": {},
   "source": [
    "### Die Fakultät\n",
    "\n",
    "Die Fakultät ist einer der Klassiker. hier nochmal die Implementierung, die auch in der Slideshow beschrieben wurde."
   ]
  },
  {
   "cell_type": "code",
   "execution_count": 5,
   "metadata": {},
   "outputs": [],
   "source": [
    "int fakultaet(int n) {\n",
    "    if ( n <= 1 ) {\n",
    "        return 1;\n",
    "    } else {\n",
    "        return n * fakultaet(n-1);\n",
    "    }\n",
    "}"
   ]
  },
  {
   "cell_type": "code",
   "execution_count": 6,
   "metadata": {},
   "outputs": [
    {
     "data": {
      "text/plain": [
       "479001600"
      ]
     },
     "execution_count": 6,
     "metadata": {},
     "output_type": "execute_result"
    }
   ],
   "source": [
    "fakultaet(12)"
   ]
  },
  {
   "cell_type": "markdown",
   "metadata": {},
   "source": [
    "### Der euklidische Algorithmus\n",
    "\n",
    "Auch der Euklidische Algorithmus zur Berechnung des **größten gemeinsamen Teilers** ist ein Klassiker der Rekursion. Auch hier die vorgestellte Implementierung zum Ausprobieren."
   ]
  },
  {
   "cell_type": "code",
   "execution_count": 4,
   "metadata": {},
   "outputs": [],
   "source": [
    "int euklid(int gross, int klein) {\n",
    "    if ( gross % klein == 0 ) {\n",
    "        return klein;\n",
    "    } else {\n",
    "        return euklid(klein, gross % klein);\n",
    "    }\n",
    "}"
   ]
  },
  {
   "cell_type": "code",
   "execution_count": 5,
   "metadata": {},
   "outputs": [
    {
     "data": {
      "text/plain": [
       "3"
      ]
     },
     "execution_count": 5,
     "metadata": {},
     "output_type": "execute_result"
    }
   ],
   "source": [
    "euklid(252,75)"
   ]
  },
  {
   "cell_type": "markdown",
   "metadata": {},
   "source": [
    "### Die Fibonacci-Zahlen\n",
    "\n",
    "Wie schon die Beispiele vorher, ist die Implementierung der Fibonacci-Zahlen sehr einfach."
   ]
  },
  {
   "cell_type": "code",
   "execution_count": 7,
   "metadata": {},
   "outputs": [],
   "source": [
    "int fibonacci(int n) {\n",
    "    if ( n<= 1 ) {\n",
    "        return 1;\n",
    "    } else {\n",
    "        return fibonacci(n-1) + fibonacci(n-2);\n",
    "    }\n",
    "}"
   ]
  },
  {
   "cell_type": "code",
   "execution_count": 8,
   "metadata": {},
   "outputs": [
    {
     "data": {
      "text/plain": [
       "13"
      ]
     },
     "execution_count": 8,
     "metadata": {},
     "output_type": "execute_result"
    }
   ],
   "source": [
    "fibonacci(6)"
   ]
  },
  {
   "cell_type": "markdown",
   "metadata": {},
   "source": [
    "### Palindrome\n",
    "\n",
    "Auch die Prüfung von Palindromen ist einfach. Aber wir implementieren sie hier ohne die Grenzen als Parameter zu nutzen. Stattdessen verkürzen wir den String."
   ]
  },
  {
   "cell_type": "code",
   "execution_count": 1,
   "metadata": {},
   "outputs": [],
   "source": [
    "#include <iostream>\n",
    "#include <string>\n",
    "using namespace std;"
   ]
  },
  {
   "cell_type": "code",
   "execution_count": 8,
   "metadata": {},
   "outputs": [],
   "source": [
    "bool palindrom(string wort) {\n",
    "    \n",
    "    if ( wort.length() <= 1 ) {\n",
    "        return true;\n",
    "    } else {\n",
    "        if ( wort[0] == wort[wort.length()-1] ) {\n",
    "            return palindrom(wort.substr(1,wort.length()-2));\n",
    "        } else {\n",
    "            return false;\n",
    "        }\n",
    "    }\n",
    "    \n",
    "}"
   ]
  },
  {
   "cell_type": "code",
   "execution_count": 9,
   "metadata": {},
   "outputs": [
    {
     "data": {
      "text/plain": [
       "true"
      ]
     },
     "execution_count": 9,
     "metadata": {},
     "output_type": "execute_result"
    }
   ],
   "source": [
    "palindrom(\"PALINDROMMORDNILAP\")"
   ]
  },
  {
   "cell_type": "markdown",
   "metadata": {},
   "source": [
    "### Binomialkoeffizienten\n",
    "\n",
    "Für die Binomialkoeffizienten ${n \\choose k}$ gibt es ebenfalls eine rekursive Definition:\n",
    "$$\n",
    "    {n\\choose k} = \\begin{cases}\n",
    "        1 & \\text{ falls } k = 0 \\text{ oder } n = k\\\\\n",
    "        {n-1 \\choose k-1} + {n-1 \\choose k} & \\text{ sonst}\\\\\n",
    "        0 & \\text{ falls } k < 0 , k > n \\text{ oder } n < 0\n",
    "    \\end{cases}\n",
    "$$"
   ]
  },
  {
   "cell_type": "markdown",
   "metadata": {},
   "source": [
    "<div class=\"task\">\n",
    "    <h3>Aufgabe</h3>\n",
    "    <div>\n",
    "        Implementieren Sie eine rekursive Operation <tt>binom(n,k)</tt>, die den Binomialkoeffizienten\n",
    "        berechnet.\n",
    "    </div>\n",
    "</div>"
   ]
  },
  {
   "cell_type": "code",
   "execution_count": 10,
   "metadata": {},
   "outputs": [],
   "source": [
    "int binom(int n, int k) {\n",
    "    // ....\n",
    "}"
   ]
  },
  {
   "cell_type": "code",
   "execution_count": 3,
   "metadata": {},
   "outputs": [
    {
     "data": {
      "text/plain": [
       "15"
      ]
     },
     "execution_count": 3,
     "metadata": {},
     "output_type": "execute_result"
    }
   ],
   "source": [
    "// Und ausprobieren\n",
    "binom(6,2)"
   ]
  },
  {
   "cell_type": "markdown",
   "metadata": {},
   "source": [
    "<div class=\"followup\">\n",
    "    <h3>Wo es weiter geht</h3>\n",
    "        <div>\n",
    "            Als nächstes werden wir an einem Beispielerläutern, wie man\n",
    "            <a class=\"followup\" href=\"/user-redirect/algoviz/lessons/07_Rekursion/06_RekursionAlgorithmen.ipynb\">Rekursion gezielt in Algorithmen</a>\n",
    "            einsetzen kann.\n",
    "    </div>\n",
    "</div>    "
   ]
  }
 ],
 "metadata": {
  "kernelspec": {
   "display_name": "C++17",
   "language": "C++17",
   "name": "xcpp17"
  },
  "language_info": {
   "codemirror_mode": "text/x-c++src",
   "file_extension": ".cpp",
   "mimetype": "text/x-c++src",
   "name": "c++",
   "version": "17"
  }
 },
 "nbformat": 4,
 "nbformat_minor": 4
}
