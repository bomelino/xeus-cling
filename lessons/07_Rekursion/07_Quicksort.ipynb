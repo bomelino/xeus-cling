{
 "cells": [
  {
   "cell_type": "markdown",
   "metadata": {},
   "source": [
    "# QuickSort"
   ]
  },
  {
   "cell_type": "markdown",
   "metadata": {},
   "source": [
    "<div class=\"prereq\">\n",
    "    <h3>Was man wissen sollte</h3>\n",
    "    <div>\n",
    "        QuickSort ist im Grunde eine Weiterentwicklung von <a class=\"prereq\" href=\"/user-redirect/algoviz/lessons/07_Rekursion/00_Mergesort.ipynb\">MergeSort</a>.        \n",
    "        </div>\n",
    "</div>"
   ]
  },
  {
   "cell_type": "markdown",
   "metadata": {},
   "source": [
    "<div class=\"slideshow 07_Rekursion/07_Quicksort/slides.json\">QuickSort</a>"
   ]
  },
  {
   "cell_type": "markdown",
   "metadata": {},
   "source": [
    "Für die Implementierung von **QuickSort** verwenden wir die bereits bekannten Tools."
   ]
  },
  {
   "cell_type": "code",
   "execution_count": 1,
   "metadata": {},
   "outputs": [],
   "source": [
    "#include <iostream>\n",
    "#include <algoviz/Tools.hpp>\n",
    "using namespace std;"
   ]
  },
  {
   "cell_type": "markdown",
   "metadata": {},
   "source": [
    "Legen wir als erstes ein Array an."
   ]
  },
  {
   "cell_type": "code",
   "execution_count": 2,
   "metadata": {},
   "outputs": [
    {
     "name": "stdout",
     "output_type": "stream",
     "text": [
      "97 7 63 76 36 13 86 86 7 60 51 64 70 51 49 88 50 62 4 60 84 94 52 95 83 97 62 65 6 96 \n"
     ]
    }
   ],
   "source": [
    "int feld[30];\n",
    "Tools::fillArray(feld,30);\n",
    "Tools::printArray(feld,30);"
   ]
  },
  {
   "cell_type": "code",
   "execution_count": 3,
   "metadata": {},
   "outputs": [],
   "source": [
    "int partition(int feld[], int start, int ende) {\n",
    "    \n",
    "    int p = feld[start]; // Wir wählen einfach das erste Element als Pivotelement.\n",
    "    int i = start+1;\n",
    "    int dummy;\n",
    "\n",
    "    for ( int j = start+1 ; j < ende ; j++) {\n",
    "        if ( feld[j] < p ) {\n",
    "            dummy = feld[i];\n",
    "            feld[i] = feld[j];\n",
    "            feld[j] = dummy;\n",
    "            i++;\n",
    "        }\n",
    "    }\n",
    "    \n",
    "    feld[start] = feld[i-1];    \n",
    "    feld[i-1] = p;\n",
    "    \n",
    "    return i-1;\n",
    "}"
   ]
  },
  {
   "cell_type": "code",
   "execution_count": 4,
   "metadata": {},
   "outputs": [
    {
     "name": "stdout",
     "output_type": "stream",
     "text": [
      "28\n",
      "96 7 63 76 36 13 86 86 7 60 51 64 70 51 49 88 50 62 4 60 84 94 52 95 83 62 65 6 97 97 \n"
     ]
    }
   ],
   "source": [
    "cout << partition(feld,0,30) << endl;\n",
    "Tools::printArray(feld,30);"
   ]
  },
  {
   "cell_type": "code",
   "execution_count": 9,
   "metadata": {},
   "outputs": [
    {
     "name": "stderr",
     "output_type": "stream",
     "text": [
      "\u001b[1minput_line_17:2:10: \u001b[0m\u001b[0;1;31merror: \u001b[0m\u001b[1muse of undeclared identifier 'partition2'; did you mean 'partition'?\u001b[0m\n",
      " cout << partition2(feld,3,5) << endl;\n",
      "\u001b[0;1;32m         ^~~~~~~~~~\n",
      "\u001b[0m\u001b[0;32m         partition\n",
      "\u001b[0m\u001b[1minput_line_15:1:5: \u001b[0m\u001b[0;1;30mnote: \u001b[0m'partition' declared here\u001b[0m\n",
      "int partition(int feld[], int start, int ende) {\n",
      "\u001b[0;1;32m    ^\n",
      "\u001b[0m"
     ]
    },
    {
     "ename": "Interpreter Error",
     "evalue": "",
     "output_type": "error",
     "traceback": [
      "Interpreter Error: "
     ]
    }
   ],
   "source": [
    "cout << partition2(feld,3,5) << endl;\n",
    "Tools::printArray(feld,30);"
   ]
  },
  {
   "cell_type": "markdown",
   "metadata": {},
   "source": [
    "Jetzt können wir QuickSort selbst implementieren. Der Basisfall tritt dabei ein, wenn höchstens noch ein Element zwischen start und ende liegen."
   ]
  },
  {
   "cell_type": "code",
   "execution_count": 22,
   "metadata": {},
   "outputs": [],
   "source": [
    "void quicksort(int feld[], int start, int ende) {\n",
    "    if ( ende-start > 1 ) {\n",
    "        int pivot = partition(feld,start,ende);\n",
    "        quicksort(feld,start,pivot);\n",
    "        quicksort(feld,pivot+1,ende);\n",
    "    }\n",
    "}"
   ]
  },
  {
   "cell_type": "code",
   "execution_count": 23,
   "metadata": {},
   "outputs": [
    {
     "name": "stdout",
     "output_type": "stream",
     "text": [
      "0 0 0 0 0 0 0 0 0 0 0 0 0 0 0 0 0 0 0 0 0 0 0 0 0 0 0 0 0 0 \n"
     ]
    }
   ],
   "source": [
    "quicksort(feld,0,30);\n",
    "Tools::printArray(feld,30);"
   ]
  },
  {
   "cell_type": "markdown",
   "metadata": {},
   "source": [
    "## Ein paar Messungen\n",
    "\n",
    "Im Folgenden werden wir mal ein paar Messungen durchführen, um die Laufzeit zu beurteilen. Dazu gehen wir genauso vor, wie bei den Messungen zu [HeapSort](/user-redirect/algoviz/lessons/04_Sortieren/07_HeapSortImplementierung.ipynb)."
   ]
  },
  {
   "cell_type": "code",
   "execution_count": 44,
   "metadata": {},
   "outputs": [],
   "source": [
    "const int len = 1000;\n",
    "int feld[len];"
   ]
  },
  {
   "cell_type": "code",
   "execution_count": 45,
   "metadata": {},
   "outputs": [
    {
     "name": "stdout",
     "output_type": "stream",
     "text": [
      "50 us +- 641 ns per loop (mean +- std. dev. of 7 runs 10000 loops each)\n"
     ]
    }
   ],
   "source": [
    "%%timeit\n",
    "Tools::fillArray(feld,len);\n",
    "quicksort(feld,0,len);"
   ]
  },
  {
   "cell_type": "markdown",
   "metadata": {},
   "source": [
    "<div class=\"task\">\n",
    "    <h3>Aufgabe</h3>\n",
    "    <div>\n",
    "        Führen Sie die Zeitmessung für die in dem Array <tt>laengen[]</tt> (siehe nächste Zelle)\n",
    "        durch. Tragen Sie die Werte in Millisekunden (ms) in das Array <tt>messungen[]</tt> ein.\n",
    "        Beachten Sie dabei die Reihenfolge und die Einheiten.\n",
    "    </div>\n",
    "    <div>\n",
    "        In dem Array <tt>referenz[]</tt> ist bereits eine Reihe von Messungen für QuickSort gegeben.\n",
    "        In <tt>heapsort[]</tt>  sind die Referenzmessungen für die\n",
    "        entsprechenden Algorithmen enthalten.\n",
    "    </div>\n",
    "</div>"
   ]
  },
  {
   "cell_type": "code",
   "execution_count": 10,
   "metadata": {},
   "outputs": [],
   "source": [
    "double laengen[]   = { 1000, 2000, 3000, 4000, 5000, 6000, 7000, 8000, 9000, 10000, 12000, 15000, 20000 };\n",
    "double messungen[] = {    0,    0,    0,    0,    0,    0,    0,    0,    0,     0,     0,     0,     0 };\n",
    "\n",
    "double referenz[] =  { 0.05, 0.14, 0.26, 0.40, 0.55, 0.73, 0.91, 1.12, 1.35,  1.6,  2.18,  3.17,   5.22 };\n",
    "double heapsort[]  = { 0.08, 0.21, 0.34, 0.469, 0.60, 0.74,  0.87, 1.01,  1.14,  1.29, 1.55,  1.95,  2.63 };    \n",
    "double selectionSort[]  = { 0.56, 2.19, 4.86, 10.1, 15.2, 19.2, 26.3, 34.3, 43.5,  53.7,  76.9,   119,   212 };"
   ]
  },
  {
   "cell_type": "code",
   "execution_count": 71,
   "metadata": {},
   "outputs": [],
   "source": [
    "#include <algoviz/DataPlot.hpp>\n",
    "AlgoViz::clear();\n",
    "DataPlot plot = DataPlot(400,400);\n",
    "\n",
    "// Plotte die beiden Messreihen.\n",
    "plot.plot(laengen,messungen,13,\"red\");   // Die roten Punkte sind ihre Messungen\n",
    "plot.plot(laengen,referenz,13,\"blue\");   // Die blauen die Referenzmessungen\n",
    "plot.plot(laengen,heapsort,13,\"green\");   // Die blauen die Referenzmessungen\n",
    "// plot.plot(laengen,selectionSort,13,\"black\");  // Die schwarzen sind die SelectionSort Messungen"
   ]
  },
  {
   "cell_type": "markdown",
   "metadata": {},
   "source": []
  },
  {
   "cell_type": "markdown",
   "metadata": {},
   "source": [
    "## Eine andere Version von Partition\n",
    "\n",
    "In der Praxis erweist sich eine anderes Vorgehen zur Partitionierung häufig als bessser. Dabei geht man von der folgenden Situation aus, die am Ende jeder Runde erreicht werden soll.\n",
    "\n",
    "![Die alternative Partitionierung](/user-redirect/algoviz/img/07_Rekursion/quicksort.png)\n",
    "\n",
    "Der noch nicht partitonierte Teil iegt dabei zwischen den Indices `i` und  `j`. Der dieser Indices markiert das Ende des Bereichs mit Elementen kleiner glech dem Pivot-Element, während der zweite den Beginn das Bereich mit den größeren Elementen markiert. Das Pivotelement ist hier das letzte.\n",
    "\n",
    "In jeder Runde wird nunn `i` erhöht, bis es auf ein Element trifft, das größer als `p` ist oder das Ende des Abschnitts erreicht. Entsprechend wird `j` gesenkt bis es ein Element kleiner `p` oder den Anfang erreicht. Anschließend liegt im Allgemeinen die folgende Situation vor:\n",
    "\n",
    "![Die Zwischensituation](/user-redirect/algoviz/img/07_Rekursion/quicksort2.png)\n",
    "\n",
    "Dann werden die Elemente an den Indices `i` und `j` getauscht und man ist in wieder in der oben angegebenen Situation. \n",
    "\n",
    "Dieses Vorgehen wir wiederholt, bis `i` und `j` gleich sind oder eines von Ihnen den Anfang bzw. das Ende erreicht.\n",
    "Dann wird das Pivot-Element an die korrekte Stelle getauscht.\n",
    "\n",
    "Dies ist der resultierende Quelltext."
   ]
  },
  {
   "cell_type": "code",
   "execution_count": 1,
   "metadata": {},
   "outputs": [],
   "source": [
    "int partition2(int feld[], int start, int ende) {\n",
    "    \n",
    "    int i = start;\n",
    "    int j = ende-2;    \n",
    "    int p = feld[ende-1];\n",
    "    int dummy;\n",
    "    \n",
    "    while ( i < j ) {\n",
    "        while ( (i < ende-1) && (feld[i] < p) ) {\n",
    "            i++;\n",
    "        }\n",
    "\n",
    "        while ( (j > start) && (feld[j] >= p ) ) {\n",
    "            j--;\n",
    "        }\n",
    "        \n",
    "        if ( i < j ) {\n",
    "            dummy = feld[i];\n",
    "            feld[i] = feld[j];\n",
    "            feld[j] = dummy;\n",
    "        }\n",
    "    }\n",
    "    \n",
    "    if ( feld[i] >= p ) {\n",
    "        feld[ende-1] = feld[i];        \n",
    "        feld[i] = p;\n",
    "    }\n",
    "    return i;\n",
    "}"
   ]
  },
  {
   "cell_type": "markdown",
   "metadata": {},
   "source": [
    "Mit Hilfe dieser Partitionierung kann man eine alternative Version von QuickSort implementieren."
   ]
  },
  {
   "cell_type": "code",
   "execution_count": 3,
   "metadata": {},
   "outputs": [],
   "source": [
    "void quicksort2(int feld[], int start, int ende) {\n",
    "    if ( start+1 < ende ) {\n",
    "        int pivot = partition2(feld,start,ende);    \n",
    "        quicksort2(feld,start,pivot);    \n",
    "        quicksort2(feld,pivot+1,ende);\n",
    "    }\n",
    "}"
   ]
  },
  {
   "cell_type": "markdown",
   "metadata": {},
   "source": [
    "Probieren wir es aus."
   ]
  },
  {
   "cell_type": "code",
   "execution_count": 4,
   "metadata": {},
   "outputs": [],
   "source": [
    "#include <iostream>\n",
    "#include <algoviz/Tools.hpp>\n",
    "using namespace std;"
   ]
  },
  {
   "cell_type": "code",
   "execution_count": 5,
   "metadata": {},
   "outputs": [
    {
     "name": "stdout",
     "output_type": "stream",
     "text": [
      "44 68 25 56 22 90 79 78 62 81 83 14 97 99 67 82 30 96 64 12 0 2 75 65 49 73 31 95 17 18 \n"
     ]
    }
   ],
   "source": [
    "int feld[30];\n",
    "Tools::fillArray(feld,30);\n",
    "Tools::printArray(feld,30);"
   ]
  },
  {
   "cell_type": "code",
   "execution_count": 6,
   "metadata": {
    "scrolled": true
   },
   "outputs": [
    {
     "name": "stdout",
     "output_type": "stream",
     "text": [
      "44 68 25 56 22 90 79 78 62 81 83 14 97 99 67 82 30 96 64 12 0 2 75 65 49 73 31 95 17 18 \n",
      "0 2 12 14 17 18 22 25 30 31 44 49 56 62 64 65 67 68 73 75 78 79 81 82 83 90 95 96 97 99 \n"
     ]
    }
   ],
   "source": [
    "Tools::printArray(feld,30);\n",
    "quicksort2(feld,0,30);\n",
    "Tools::printArray(feld,30);"
   ]
  },
  {
   "cell_type": "markdown",
   "metadata": {},
   "source": [
    "<div class=\"task\">\n",
    "    <h3>Aufgabe</h3>\n",
    "    <div>\n",
    "        Führen Sie die Zeitmessung von der alternativen QuickSort Variante <tt>quicksort2</tt>\n",
    "        für die in dem Array <tt>laengen[]</tt> (siehe nächste Zelle)\n",
    "        durch. Tragen Sie die Werte in Millisekunden (ms) in das Array <tt>messungen[]</tt> ein.\n",
    "        Beachten Sie dabei die Reihenfolge und die Einheiten.\n",
    "    </div>\n",
    "    <div>\n",
    "        In dem Array <tt>referenz[]</tt> ist bereits eine Reihe von Messungen für die alternative Version\n",
    "        von QuickSort gegeben. In <tt>heapsort[]</tt>  sind die Referenzmessungen für die\n",
    "        entsprechenden Algorithmen enthalten.\n",
    "    </div>\n",
    "</div>"
   ]
  },
  {
   "cell_type": "code",
   "execution_count": 31,
   "metadata": {},
   "outputs": [],
   "source": [
    "const int len = 20000;\n",
    "int feld[len];"
   ]
  },
  {
   "cell_type": "code",
   "execution_count": 32,
   "metadata": {},
   "outputs": [
    {
     "name": "stdout",
     "output_type": "stream",
     "text": [
      "3.89 ms +- 11.8 us per loop (mean +- std. dev. of 7 runs 100 loops each)\n"
     ]
    }
   ],
   "source": [
    "%%timeit\n",
    "Tools::fillArray(feld,len);\n",
    "quicksort2(feld,0,len);"
   ]
  },
  {
   "cell_type": "code",
   "execution_count": 33,
   "metadata": {},
   "outputs": [],
   "source": [
    "double laengen[]   = { 1000, 2000, 3000, 4000, 5000, 6000, 7000, 8000, 9000, 10000, 12000, 15000, 20000 };\n",
    "double messungen[] = {    0,    0,    0,    0,    0,    0,    0,    0,    0,     0,     0,     0,     0 };\n",
    "\n",
    "double referenz[]  = { 0.06, 0.14, 0.26, 0.37, 0.49, 0.63, 0.78, 0.94, 1.13,  1.31,  1.73,  2.45,  3.89 };    \n",
    "double quicksort[] = { 0.05, 0.14, 0.26, 0.40, 0.55, 0.73, 0.91, 1.12, 1.35,   1.6,  2.18,  3.17,  5.22 };"
   ]
  },
  {
   "cell_type": "code",
   "execution_count": 34,
   "metadata": {},
   "outputs": [],
   "source": [
    "#include <algoviz/DataPlot.hpp>\n",
    "AlgoViz::clear();\n",
    "DataPlot plot = DataPlot(400,400);\n",
    "\n",
    "// Plotte die beiden Messreihen.\n",
    "plot.plot(laengen,messungen,13,\"red\");   // Die roten Punkte sind ihre Messungen\n",
    "plot.plot(laengen,referenz,13,\"blue\");   // Die blauen die Referenzmessungen\n",
    "plot.plot(laengen,quicksort,13,\"green\");   // Die blauen die Referenzmessungen"
   ]
  },
  {
   "cell_type": "markdown",
   "metadata": {},
   "source": [
    "<div class=\"followup\">\n",
    "    <h3>Wo es weiter geht</h3>\n",
    "        <div>\n",
    "            Als nächstes\n",
    "            <a class=\"followup\" href=\"/user-redirect/algoviz/lessons/07_Rekursion/08_QuicksortLaufzeit.ipynb\">analysieren wir die Laufzeit von QuickSort</a>.\n",
    "    </div>\n",
    "</div>    "
   ]
  }
 ],
 "metadata": {
  "kernelspec": {
   "display_name": "C++17",
   "language": "C++17",
   "name": "xcpp17"
  },
  "language_info": {
   "codemirror_mode": "text/x-c++src",
   "file_extension": ".cpp",
   "mimetype": "text/x-c++src",
   "name": "c++",
   "version": "17"
  }
 },
 "nbformat": 4,
 "nbformat_minor": 4
}
