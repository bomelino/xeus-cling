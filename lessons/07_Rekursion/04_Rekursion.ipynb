{
 "cells": [
  {
   "cell_type": "markdown",
   "metadata": {},
   "source": [
    "# Rekursion"
   ]
  },
  {
   "cell_type": "markdown",
   "metadata": {},
   "source": [
    "<div class=\"prereq\">\n",
    "    <h3>Was man wissen sollte</h3>\n",
    "    <div>\n",
    "        Für Rekursion ist es notwendig, dass man\n",
    "        <a class=\"prereq\" href=\"/user-redirect/algoviz/lessons/03_Fortgeschritten/06_Operationen.ipynb\">Operationen</a> kennt.\n",
    "    </div>\n",
    "</div>"
   ]
  },
  {
   "cell_type": "markdown",
   "metadata": {},
   "source": [
    "<div class=\"slideshow 07_Rekursion/04_Rekursion/slides.json\">Was ist Rekursion?</a>"
   ]
  },
  {
   "cell_type": "markdown",
   "metadata": {},
   "source": [
    "Im Folgenden probieren wir die Beispiele aus der Slideshow mal aus.\n",
    "\n",
    "## Die \"unendliche\" Rekursion\n",
    "\n",
    "Beginnen wir mit der \"unendlichen Rekursion\". Dabei beschränken wir dia Ausgabe auf Vielfach von 10000, damit die Anzahl der Nachrichten zwischen dem Kernel im Hintergrund und dem Frontend im Browser in einem handhabbaren Rahmen bleibt."
   ]
  },
  {
   "cell_type": "code",
   "execution_count": 1,
   "metadata": {},
   "outputs": [],
   "source": [
    "#include <iostream>\n",
    "using namespace std;"
   ]
  },
  {
   "cell_type": "code",
   "execution_count": 2,
   "metadata": {},
   "outputs": [],
   "source": [
    "void rekursiv(int i) {\n",
    "    if ( i % 10000 == 0 ) {\n",
    "        cout << i << endl;\n",
    "    }\n",
    "    \n",
    "    rekursiv(i+1);\n",
    "    \n",
    "    if ( i % 10000 == 0 ) {\n",
    "        cout << i << endl;\n",
    "    }\n",
    "}"
   ]
  },
  {
   "cell_type": "code",
   "execution_count": null,
   "metadata": {},
   "outputs": [
    {
     "name": "stdout",
     "output_type": "stream",
     "text": [
      "0\n",
      "10000\n",
      "20000\n",
      "30000\n",
      "40000\n",
      "50000\n",
      "60000\n",
      "70000\n",
      "80000\n",
      "90000\n",
      "100000\n",
      "110000\n",
      "120000\n",
      "130000\n"
     ]
    }
   ],
   "source": [
    "rekursiv(0);"
   ]
  },
  {
   "cell_type": "markdown",
   "metadata": {},
   "source": [
    "## Ein richtiger Basisfall\n",
    "\n",
    "Wie man bei der Ausführung sieht, stürzt der Kernel zu irgendwann ab. Dies liegt daran, dass kein Speicher mehr für den rekursiven Aufruf zur Verfügung steht. Allerdings reduzieren wir die Anzahl der Aufrufe auf 20, um das Ganze überschaubar zu halten."
   ]
  },
  {
   "cell_type": "code",
   "execution_count": 1,
   "metadata": {},
   "outputs": [],
   "source": [
    "#include <iostream>\n",
    "using namespace std;"
   ]
  },
  {
   "cell_type": "code",
   "execution_count": 2,
   "metadata": {},
   "outputs": [],
   "source": [
    "void rekursivGefixed(int i) {\n",
    "    cout << i << endl;\n",
    "    if ( i < 20 ) {\n",
    "        rekursivGefixed(i+1); \n",
    "    } else {\n",
    "        cout << \"Basisfall\" << endl;\n",
    "    }\n",
    "    cout << i << endl;\n",
    "}"
   ]
  },
  {
   "cell_type": "code",
   "execution_count": 3,
   "metadata": {},
   "outputs": [
    {
     "name": "stdout",
     "output_type": "stream",
     "text": [
      "0\n",
      "1\n",
      "2\n",
      "3\n",
      "4\n",
      "5\n",
      "6\n",
      "7\n",
      "8\n",
      "9\n",
      "10\n",
      "11\n",
      "12\n",
      "13\n",
      "14\n",
      "15\n",
      "16\n",
      "17\n",
      "18\n",
      "19\n",
      "20\n",
      "Basisfall\n",
      "20\n",
      "19\n",
      "18\n",
      "17\n",
      "16\n",
      "15\n",
      "14\n",
      "13\n",
      "12\n",
      "11\n",
      "10\n",
      "9\n",
      "8\n",
      "7\n",
      "6\n",
      "5\n",
      "4\n",
      "3\n",
      "2\n",
      "1\n",
      "0\n"
     ]
    }
   ],
   "source": [
    "rekursivGefixed(0);"
   ]
  },
  {
   "cell_type": "markdown",
   "metadata": {},
   "source": [
    "Wie man sieht wird als erstes der Parameter hochgezählt. Bei `i=20` wird der Basisfall erreicht und die Rekursion wird wieder aufgelöst.\n",
    "\n",
    "Im Grunde können wir dadurch Pacos  Aufrufstapel \"sichtbar\" machen. Als erstes wird der Stapel aufgebaut. Jede Zahl entspricht einem neuen Blatt auf dem die Zahl als lokale Variable steht. Wird der Basisfall erreicht, wird der Stapel wieder abgebaut und immer die Zahl des neuen obersten Blattes ausgegebenb."
   ]
  },
  {
   "cell_type": "markdown",
   "metadata": {},
   "source": [
    "<div class=\"task\">\n",
    "    <h3>Aufgabe</h3>\n",
    "    <div>\n",
    "        Betrachten Sei die folgende Rekursion. Sie soll den abgerundeten Logarithmus des Arguments\n",
    "        berechnen. Dazu zählt sie, wie häufig man die Zahl halbieren kann, bis man einen Wert kleiner 1\n",
    "        erreicht. D.h. für die Werte von 4 bis 7 soll sich die 2 ergeben, für 8 bis 15 3 usw.\n",
    "    </div>\n",
    "    <div>\n",
    "        Ergänzen Sie die Rekursion um einen geeigneten Basisfall.\n",
    "    </div>\n",
    "</div>"
   ]
  },
  {
   "cell_type": "code",
   "execution_count": 7,
   "metadata": {},
   "outputs": [],
   "source": [
    "int logarithmus(int i) {\n",
    "    \n",
    "    return logarithmus(i/2)+1;\n",
    "    \n",
    "}"
   ]
  },
  {
   "cell_type": "code",
   "execution_count": 5,
   "metadata": {},
   "outputs": [
    {
     "data": {
      "text/plain": [
       "2"
      ]
     },
     "execution_count": 5,
     "metadata": {},
     "output_type": "execute_result"
    }
   ],
   "source": [
    "logarithmus(7)"
   ]
  },
  {
   "cell_type": "markdown",
   "metadata": {},
   "source": [
    "<div class=\"followup\">\n",
    "    <h3>Wo es weiter geht</h3>\n",
    "        <div>\n",
    "            Als nächstes schauen wir uns ein paar einfache \n",
    "            <a class=\"followup\" href=\"/user-redirect/algoviz/lessons/07_Rekursion/05_RekursionBeispiele.ipynb\">Beispiele für Rekursion</a> an.\n",
    "    </div>\n",
    "</div>    "
   ]
  }
 ],
 "metadata": {
  "kernelspec": {
   "display_name": "C++17",
   "language": "C++17",
   "name": "xcpp17"
  },
  "language_info": {
   "codemirror_mode": "text/x-c++src",
   "file_extension": ".cpp",
   "mimetype": "text/x-c++src",
   "name": "c++",
   "version": "17"
  }
 },
 "nbformat": 4,
 "nbformat_minor": 4
}
