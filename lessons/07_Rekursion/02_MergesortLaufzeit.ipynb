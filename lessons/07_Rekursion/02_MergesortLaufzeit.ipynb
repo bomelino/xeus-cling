{
 "cells": [
  {
   "cell_type": "markdown",
   "metadata": {},
   "source": [
    "# Die Laufzeit von MergeSort"
   ]
  },
  {
   "cell_type": "markdown",
   "metadata": {},
   "source": [
    "<div class=\"prereq\">\n",
    "    <h3>Was man wissen sollte</h3>\n",
    "    <div>\n",
    "        Man sollte\n",
    "        <a class=\"prereq\" href=\"/user-redirect/algoviz/lessons/07_Rekursion/00_Mergesort.ipynb\">MergeSort</a>\n",
    "        kennen, um es zu analysieren.\n",
    "    </div>\n",
    "</div>"
   ]
  },
  {
   "cell_type": "markdown",
   "metadata": {},
   "source": [
    "<div class=\"slideshow 07_Rekursion/02_MergesortLaufzeit/slides.json\">Die Laufzeit von MergeSort</a>"
   ]
  },
  {
   "cell_type": "markdown",
   "metadata": {},
   "source": [
    "<div class=\"followup\">\n",
    "    <h3>Wo es weiter geht</h3>\n",
    "        <div>\n",
    "            Jetzt wird es Zeit sich mit der \n",
    "            <a class=\"followup\" href=\"/user-redirect/algoviz/lessons/07_Rekursion/04_Rekursion.ipynb\">Rekursion</a>\n",
    "            im Allgemeinen zu beschäftigen.\n",
    "    </div>\n",
    "</div>    "
   ]
  }
 ],
 "metadata": {
  "kernelspec": {
   "display_name": "C++17",
   "language": "C++17",
   "name": "xcpp17"
  },
  "language_info": {
   "codemirror_mode": "text/x-c++src",
   "file_extension": ".cpp",
   "mimetype": "text/x-c++src",
   "name": "c++",
   "version": "17"
  }
 },
 "nbformat": 4,
 "nbformat_minor": 4
}
