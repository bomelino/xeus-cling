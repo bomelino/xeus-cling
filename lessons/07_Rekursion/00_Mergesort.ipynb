{
 "cells": [
  {
   "cell_type": "markdown",
   "metadata": {},
   "source": [
    "# MergeSort"
   ]
  },
  {
   "cell_type": "markdown",
   "metadata": {},
   "source": [
    "<div class=\"prereq\">\n",
    "    <h3>Was man wissen sollte</h3>\n",
    "    <div>\n",
    "        Wir werden <a class=\"prereq\" href=\"/user-redirect/algoviz/lessons/06_ADT/01_Liste.ipynb\">Listen</a> verwenden.\n",
    "        </div>\n",
    "</div>"
   ]
  },
  {
   "cell_type": "markdown",
   "metadata": {},
   "source": [
    "<div class=\"slideshow 07_Rekursion/00_Mergesort/slides.json\">MergeSort</a>"
   ]
  },
  {
   "cell_type": "markdown",
   "metadata": {},
   "source": [
    "Bevor wir uns der Implementierung von MergeSort zuwenden, schauen wir uns nochmal ein vollständiges Beispiel an. Das folgende Bild stellt alle Schritt bei der Sortierung der oberen Reihenfolge dar."
   ]
  },
  {
   "cell_type": "markdown",
   "metadata": {},
   "source": [
    "![MergeSort](/user-redirect/algoviz/img/07_Rekursion/mergesort.png)"
   ]
  },
  {
   "cell_type": "markdown",
   "metadata": {},
   "source": [
    "<div class=\"task\">\n",
    "    <h3>Aufgabe</h3>\n",
    "    <div>\n",
    "        Sortieren Sie die folgende Sequenz von Zahlen mittels MergeSort und stellen Sie alle Schritte grafisch dar. Orientieren Sie sich dabei an obigen Darstellung.        \n",
    "    </div>\n",
    "    <div>\n",
    "    <center>\n",
    "        9,6,3,5,11,4,0,2,10,1,7,8\n",
    "    </center>\n",
    "    </div>\n",
    "</div>"
   ]
  },
  {
   "cell_type": "markdown",
   "metadata": {},
   "source": [
    "<div class=\"followup\">\n",
    "    <h3>Wo es weiter geht</h3>\n",
    "        <div>\n",
    "            Als nächstes\n",
    "            <a class=\"followup\" href=\"/user-redirect/algoviz/lessons/07_Rekursion/01_MergesortImplementierung.ipynb\">implementieren wir MergeSort</a>\n",
    "            oder werfen einen BLick auf die\n",
    "            <a class=\"followup\" href=\"/user-redirect/algoviz/lessons/07_Rekursion/04_Rekursion.ipynb\">Rekursion</a>\n",
    "    </div>\n",
    "</div>    "
   ]
  }
 ],
 "metadata": {
  "kernelspec": {
   "display_name": "C++17",
   "language": "C++17",
   "name": "xcpp17"
  },
  "language_info": {
   "codemirror_mode": "text/x-c++src",
   "file_extension": ".cpp",
   "mimetype": "text/x-c++src",
   "name": "c++",
   "version": "17"
  }
 },
 "nbformat": 4,
 "nbformat_minor": 4
}
