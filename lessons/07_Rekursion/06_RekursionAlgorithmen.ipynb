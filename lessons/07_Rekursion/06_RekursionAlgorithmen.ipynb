{
 "cells": [
  {
   "cell_type": "markdown",
   "metadata": {},
   "source": [
    "# Rekursion in Algorithmen"
   ]
  },
  {
   "cell_type": "markdown",
   "metadata": {},
   "source": [
    "<div class=\"prereq\">\n",
    "    <h3>Was man wissen sollte</h3>\n",
    "    <div>\n",
    "        Man sollte sich mit den einfachen \n",
    "        <a class=\"prereq\" href=\"/user-redirect/algoviz/lessons/07_Rekursion/05_RekursionBeispiele.ipynb\">Beispielen zur Rekursion</a> \n",
    "    beschäftigt haben.</div>\n",
    "</div>"
   ]
  },
  {
   "cell_type": "markdown",
   "metadata": {},
   "source": [
    "<div class=\"slideshow 07_Rekursion/06_RekursionAlgorithmen/slides.json\">Rekursion in Algorithmen</a>"
   ]
  },
  {
   "cell_type": "markdown",
   "metadata": {},
   "source": [
    "## Die Türme von Hanoi\n",
    "\n",
    "Für das Beispiel der Türme von Hanoi haben wir die Möglichkeit geschaffen sie mit AgloViz zu programmieren. Dazu müssen wirt `algoviz/Hanoi.hpp` einbinden."
   ]
  },
  {
   "cell_type": "code",
   "execution_count": 1,
   "metadata": {},
   "outputs": [],
   "source": [
    "#include <iostream>\n",
    "#include <algoviz/Hanoi.hpp>\n",
    "using namespace std;"
   ]
  },
  {
   "cell_type": "markdown",
   "metadata": {},
   "source": [
    "Jetzt können wir die Türme im Sidebar darstellen. Der erste Parameter des Konstruktors ist die Anzahl der Scheiben, der zweite und dritte die Größe des Fensters. Der vierte ein Titel."
   ]
  },
  {
   "cell_type": "code",
   "execution_count": 2,
   "metadata": {},
   "outputs": [],
   "source": [
    "Hanoi towers = Hanoi(5,600,300,\"Die Türme von Hanoi\");"
   ]
  },
  {
   "cell_type": "markdown",
   "metadata": {},
   "source": [
    "Mit der Methode `moveDisc(from,to)` verschiebt die oberste Scheibe von Stab `from` zum Stab `to`. Die Stäbe sind mit 0, 1 und 2 durchnummeriert."
   ]
  },
  {
   "cell_type": "code",
   "execution_count": 3,
   "metadata": {},
   "outputs": [],
   "source": [
    "towers.moveDisc(0,2);\n",
    "towers.moveDisc(0,1);"
   ]
  },
  {
   "cell_type": "markdown",
   "metadata": {},
   "source": [
    "Macht man einen ungültigen Zug, bricht das Programm ab."
   ]
  },
  {
   "cell_type": "code",
   "execution_count": 4,
   "metadata": {},
   "outputs": [
    {
     "ename": "Standard Exception",
     "evalue": "Moving larger disc to smaller on position 1",
     "output_type": "error",
     "traceback": [
      "Standard Exception: Moving larger disc to smaller on position 1"
     ]
    }
   ],
   "source": [
    "towers.moveDisc(0,1);"
   ]
  },
  {
   "cell_type": "markdown",
   "metadata": {},
   "source": [
    "Mit `reset()` setzt man die Türme zurück."
   ]
  },
  {
   "cell_type": "code",
   "execution_count": 5,
   "metadata": {},
   "outputs": [],
   "source": [
    "towers.reset();"
   ]
  },
  {
   "cell_type": "markdown",
   "metadata": {},
   "source": [
    "Die >nzahl der Scheiben erfährt man über die Methode `getNumberOfDiscs()` und die Größe der obersten Scheibe über `getSize(pos)`, wobei `pos`die Nummer des Stabes ist. Ein Ergebnis von 0 zeigt, dass keine Scheibe auf dem Stab liegt."
   ]
  },
  {
   "cell_type": "code",
   "execution_count": 6,
   "metadata": {},
   "outputs": [
    {
     "ename": "Standard Exception",
     "evalue": "Moving disc from empty position 1",
     "output_type": "error",
     "traceback": [
      "Standard Exception: Moving disc from empty position 1"
     ]
    }
   ],
   "source": [
    "towers.moveDisc(1,2);"
   ]
  },
  {
   "cell_type": "code",
   "execution_count": 7,
   "metadata": {},
   "outputs": [
    {
     "data": {
      "text/plain": [
       "5"
      ]
     },
     "execution_count": 7,
     "metadata": {},
     "output_type": "execute_result"
    }
   ],
   "source": [
    "towers.getNumberOfDiscs()"
   ]
  },
  {
   "cell_type": "code",
   "execution_count": 8,
   "metadata": {},
   "outputs": [
    {
     "data": {
      "text/plain": [
       "0"
      ]
     },
     "execution_count": 8,
     "metadata": {},
     "output_type": "execute_result"
    }
   ],
   "source": [
    "towers.getSize(2)"
   ]
  },
  {
   "cell_type": "markdown",
   "metadata": {},
   "source": [
    "<div class=\"task\">\n",
    "    <h3>Aufgabe</h3>\n",
    "    <div>\n",
    "        Implementieren Sie den in den Slideshows vorgestellten Algorithmus für die Türme von Hanoi.\n",
    "    </div>\n",
    "</div>"
   ]
  },
  {
   "cell_type": "code",
   "execution_count": 9,
   "metadata": {},
   "outputs": [],
   "source": [
    "void hanoi(int n, int from, int to, int helper) {\n",
    "    // ...\n",
    "}"
   ]
  },
  {
   "cell_type": "code",
   "execution_count": 10,
   "metadata": {},
   "outputs": [],
   "source": [
    "towers.reset();\n",
    "hanoi(5,0,2,1);"
   ]
  },
  {
   "cell_type": "markdown",
   "metadata": {},
   "source": [
    "<div class=\"task\">\n",
    "    <h3>Aufgabe</h3>\n",
    "    <div>\n",
    "        Berechnen Sie die Anzahl der Züge, die der Algorithmus für n Scheiben benötigt.\n",
    "    </div>\n",
    "</div>"
   ]
  },
  {
   "cell_type": "markdown",
   "metadata": {},
   "source": [
    "## Divide and Conquer\n",
    "\n",
    "**Divide-And-Conquer** ist eine Strategie mit der Probleme algorithmisch gelöst werden können. Dabei wird ein größeres Problem in mehrere kleinere Teile zerlegt, die gelöst werden können. Anschließend werden aus den Lösungen der Teilprobleme eine Lösung für das Gesamtproblem konstruiert. \n",
    "\n",
    "![Divide and Conquer](/user-redirect/algoviz/img/07_Rekursion/divide_and_conquer.png)\n",
    "\n",
    "In dieser allgemeinen Form ist das Verfahren noch nicht rekursiv. Das ist er erst, wenn in der Ebene der Lösungen der Teilprobleme dasselbe Verfahren genutzt wird. \n",
    "\n",
    "Ein **nicht-rekursiver** Divide-And-Conquer-Ansatz für die Sortierung eines Arrays wäre z.B., dass man das Gesamtarray in Teile fester Größe aufteilt, diese mit BubbleSort sortiert und anschließend ineinander mischt.\n",
    "\n",
    "MergeSort hingegen ist ein **rekursiver** Divide-And-Conquer-Algorithmus, denn die Teile werden wieder mit MergeSort sortiert.\n",
    "\n",
    "Man kann relativ viele einfache Algorithmen als rekursive Divide-And-Conquer Algorithmen implementieren, z.B. die **Minimumsuche** in einem Array. Dabei teilt man das Array in zwei Hälften, die durch einen Start- und einen Endindex angegeben sind, sucht rekursiv in diesen das Minimum und wählt als Gesamtminimum das kleinere der Minima der Hälften. Dieser Algorithmus ist in `minimumRekursiv()` implementiert."
   ]
  },
  {
   "cell_type": "code",
   "execution_count": 14,
   "metadata": {},
   "outputs": [],
   "source": [
    "/**\n",
    " ** Suche das Minimum in dem Teilarray feld[start ... ende-1].\n",
    " ** start ist somit der Startindex des Teilarrays.\n",
    " ** ende ist der Index NACH dem letzten Element des Teilarrays.\n",
    " **\n",
    " ** Der Aufruf sollte mit minimumRekursiv(feld,0,len) erfolgen,\n",
    " ** wobei len die Länge des Arrays feld[] ist.\n",
    " **/\n",
    "int minimumRekursiv(int feld[], int start, int ende) {\n",
    "    if ( ende <= start+1 ) {\n",
    "        return feld[start];\n",
    "    } else {\n",
    "        int mitte= (start+ende)/2;\n",
    "        int min1 = minimumRekursiv(feld,start,mitte);\n",
    "        int min2 = minimumRekursiv(feld,mitte,ende);\n",
    "        \n",
    "        if ( min1 < min2 ) {\n",
    "            return min1;\n",
    "        } else {\n",
    "            return min2;\n",
    "        }\n",
    "    }\n",
    "}"
   ]
  },
  {
   "cell_type": "markdown",
   "metadata": {},
   "source": [
    "Probieren wir es aus."
   ]
  },
  {
   "cell_type": "code",
   "execution_count": 15,
   "metadata": {},
   "outputs": [
    {
     "name": "stdout",
     "output_type": "stream",
     "text": [
      "94 44 90 45 9 82 77 75 16 26 17 7 82 21 78 33 99 94 74 13 22 88 3 12 93 80 94 23 81 44 \n"
     ]
    }
   ],
   "source": [
    "#include <algoviz/Tools.hpp>\n",
    "using namespace std;\n",
    "\n",
    "int feld[30]; \n",
    "Tools::fillArray(feld,30);\n",
    "Tools::printArray(feld,30);"
   ]
  },
  {
   "cell_type": "code",
   "execution_count": 16,
   "metadata": {},
   "outputs": [
    {
     "data": {
      "text/plain": [
       "3"
      ]
     },
     "execution_count": 16,
     "metadata": {},
     "output_type": "execute_result"
    }
   ],
   "source": [
    "minimumRekursiv(feld,0,30)"
   ]
  },
  {
   "cell_type": "markdown",
   "metadata": {},
   "source": [
    "Natürlich macht diese Umgestaltung zu einem rekursiven Algorithmus im Allgemeinen keinen Sinn. Dies  ändert sich allerdings, wenn die Menge der Zahlen, dei verarbeitet werden müssen, so groß ist, dass sie nicht mehr in den Speicher passt (und z.B. auf einer Festplatte gespeichert wird). Dann klann man das Verfahren nutzen, um die Teilabschnitte rekursiv soweit zu v erkleinern, bis sie in den Speicher passen. Dann wechselt man zu dem \"normalen\" Verfahren und kombiniert anschließend die Ergebnisse."
   ]
  },
  {
   "cell_type": "markdown",
   "metadata": {},
   "source": [
    "## Lindenmayer-Systeme\n",
    "\n",
    "Ein sehr schönes Konzept, dass Rekursion einsetzt sind die sogenannten [Lindenmayer-Systeme](https://de.wikipedia.org/wiki/Lindenmayer-System) oder kurz **L-Systeme**. Diese erzeugen mittels eines **rekursiven Ersetzungssystems** geometrische Figuren, die unter anderem dazu genutzt werden Pflanzenwachstum zu simulieren.\n",
    "\n",
    "### Die Koch-Kurve\n",
    "\n",
    "Eines der einfachsten und bekanntesten L-Systeme ist die [Koch-Kurve](https://de.wikipedia.org/wiki/Koch-Kurve). Dabei handelt es sich um einen Polygonzug, der in einem iterativen Prozess durch Ersetzung von Abschnitten durch einen festen, vorgegebenen Polygonzug, den sogenannten Generator, ewntsteht.\n",
    "\n",
    "Der Generator hat die folgende Form:\n",
    "\n",
    "![Generator](/user-redirect/algoviz/img/07_Rekursion/koch1.png)\n",
    "\n",
    "Alle vier Streckenabschnitte sind gleich lang und die beiden mittleren Abschnitte bilden die Schenkel eines gleichseitigen Dreiecks, d.h. alle Innenwinkel des Dreiecks sind 60 Grad groß.\n",
    "\n",
    "Man Beginnt nun mit einer Strecke einer Gegebene Länge `len`.\n",
    "\n",
    "![Koch-Kurve der 0. Stufe](/user-redirect/algoviz/img/07_Rekursion/koch0.png)\n",
    "\n",
    "Im ersten Schritt ersetzt man sie durch den Generator. Dabei werden die vier Abschnitte des Generators mit der Länge `len/3` gezeichnet.\n",
    "\n",
    "![Koch-Kurve der 1. Stufe](/user-redirect/algoviz/img/07_Rekursion/koch1.png)\n",
    "\n",
    "Im nächsten Schritt ersetzt man alle Streckenabschnitte des resultierenden Polygonzugs erneut durch eine kleinere Kopie des Generators. Die Länge der Abschnitte wird dabei wieder gedrittelt und beträgt somit `len/9`.\n",
    "\n",
    "![Koch-Kurve der 2. Stufe](/user-redirect/algoviz/img/07_Rekursion/koch2.png)\n",
    "\n",
    "So fährt man fort. In jedem Schritt werden alle Strackenabschnitte durch eine entsprechend verkleinerte Version des Genertors ersetzt.\n",
    "\n",
    "![Koch-Kurve der 3. Stufe](/user-redirect/algoviz/img/07_Rekursion/koch3.png)\n",
    "\n",
    "Dieses Verfahren lässt sich sehr gut als rekursive Operation `koch(int len, int n)`formulieren (siehe unten).  Dabei nutzen wir die Anzahl `n` der Schritte, die durchgeführt werden sollen als **Größe der Rekursion**. Im Basisfall `n=0` wird einfach eine Strecke einer gegebene n Länge `len` gezeichnet.\n",
    "\n",
    "Im Rekursonsschritt hingegen, wird eine Sequenz von Streckenabschnitten gezeichnet, die dem Generator entspricht. Mit einer `Turtle`namens `bowser` würde die so aussehen:\n",
    "\n",
    "        bowser.forward(len/3,n-1);\n",
    "        bowser.turn(-60);\n",
    "        bowser.forward(len/3,n-1);\n",
    "        bowser.turn(120);\n",
    "        bowser.forward(len/3,n-1);\n",
    "        bowser.turn(-60);\n",
    "        bowser.forward(len/3,n-1);        \n",
    "        \n",
    "Allerdings ersetzen wird jedes `bowser.forward()` durch einen **rekursiven Aufruf** von `koch()`  bei dem wir die **Tiefe** `n` um eins reduzieren und die Länge dritteln."
   ]
  },
  {
   "cell_type": "code",
   "execution_count": 2,
   "metadata": {},
   "outputs": [],
   "source": [
    "#include <algoviz/Turtle.hpp>\n",
    "AlgoViz::clear();\n",
    "\n",
    "Turtle bowser = Turtle(400,400);"
   ]
  },
  {
   "cell_type": "code",
   "execution_count": 39,
   "metadata": {},
   "outputs": [],
   "source": [
    "void koch(int len, int n) {\n",
    "    if ( (len > 1) && (n>0) ) { // Zusätzliches Rekursionsende, wenn wir zu klein werden.\n",
    "        koch(len/3,n-1);\n",
    "        bowser.turn(-60);\n",
    "        koch(len/3,n-1);\n",
    "        bowser.turn(120);\n",
    "        koch(len/3,n-1);\n",
    "        bowser.turn(-60);\n",
    "        koch(len/3,n-1);        \n",
    "    } else {\n",
    "        bowser.forward(len);  // Der Basisfall\n",
    "    }\n",
    "}"
   ]
  },
  {
   "cell_type": "markdown",
   "metadata": {},
   "source": [
    "Jetzt können wir das Ganze ausprobieren. Dabei positionieren wir `bowser` vorher passend."
   ]
  },
  {
   "cell_type": "code",
   "execution_count": 37,
   "metadata": {},
   "outputs": [],
   "source": [
    "bowser.reset();\n",
    "bowser.penUp();\n",
    "bowser.moveTo(50,300);\n",
    "bowser.penDown();\n",
    "koch(300,0);"
   ]
  },
  {
   "cell_type": "markdown",
   "metadata": {},
   "source": [
    "Ein anderes, sehr schönes Beispiel ist das [Sierpinski-Dreieck](https://de.wikipedia.org/wiki/Sierpinski-Dreieck). Ihr Generator hat die folgende Form. Die Pfeile geben dabei an, dass die Ersetzung der einzelnen Abschnitte in verschiedene Richtungen erfolgt.\n",
    "\n",
    "![Sierpinski-Generator](/user-redirect/algoviz/img/07_Rekursion/sierpinski1.png)\n",
    "\n",
    "Eine Implementierung sieht man im Folgenden. Dabei wird neben der Länge auch immer ein Vorzeichen `sign` mitgeführt, das die Richtung der Ersetzung beschreibt."
   ]
  },
  {
   "cell_type": "code",
   "execution_count": 3,
   "metadata": {},
   "outputs": [],
   "source": [
    "#include <algoviz/Turtle.hpp>\n",
    "AlgoViz::clear();\n",
    "\n",
    "Turtle bowser = Turtle(400,400);"
   ]
  },
  {
   "cell_type": "code",
   "execution_count": 4,
   "metadata": {},
   "outputs": [],
   "source": [
    "void sierpinski(int len, int sign, int n) {\n",
    "    if ( (len > 1) && (n>0) ) { // Zusätzliches Rekursionsende, wenn wir zu klein werden.\n",
    "        bowser.turn(-sign * 60);\n",
    "        sierpinski(len/2,-sign,n-1);\n",
    "        bowser.turn(sign * 60);\n",
    "        sierpinski(len/2,sign,n-1);\n",
    "        bowser.turn(sign * 60);\n",
    "        sierpinski(len/2,-sign,n-1);\n",
    "        bowser.turn(-sign * 60);        \n",
    "    } else {\n",
    "        bowser.forward(len);  // Der Basisfall\n",
    "    }\n",
    "}"
   ]
  },
  {
   "cell_type": "code",
   "execution_count": 5,
   "metadata": {},
   "outputs": [],
   "source": [
    "bowser.reset();\n",
    "bowser.penUp();\n",
    "bowser.moveTo(50,300);\n",
    "bowser.penDown();\n",
    "bowser.hide();\n",
    "sierpinski(300,1,7);"
   ]
  },
  {
   "cell_type": "markdown",
   "metadata": {},
   "source": [
    "## Ein Weihnachtsstern"
   ]
  },
  {
   "cell_type": "markdown",
   "metadata": {},
   "source": [
    "Mit dieser Methode kann man auch einen Weihnachtsstern zeichnen.\n",
    "\n",
    "Stufe 0:\n",
    "![Stufe 0](/user-redirect/algoviz/img/07_Rekursion/stern0.png)\n",
    "\n",
    "Stufe 1:\n",
    "![Stufe 1](/user-redirect/algoviz/img/07_Rekursion/stern1.png)\n",
    "\n",
    "Strufe 2:\n",
    "![Stufe 2](/user-redirect/algoviz/img/07_Rekursion/stern2.png)"
   ]
  },
  {
   "cell_type": "markdown",
   "metadata": {},
   "source": [
    "<div class=\"task\">\n",
    "    <h3>Aufgabe</h3>\n",
    "    <div>\n",
    "        Implementieren Sie eine Operation <tt>stern(len,n)</tt>, die einen entsprechenden Stern zeichnet.\n",
    "    </div>\n",
    "</div>"
   ]
  },
  {
   "cell_type": "code",
   "execution_count": 87,
   "metadata": {},
   "outputs": [],
   "source": [
    "#include <algoviz/Turtle.hpp>\n",
    "AlgoViz::clear();\n",
    "\n",
    "Turtle bowser = Turtle(400,400)"
   ]
  },
  {
   "cell_type": "code",
   "execution_count": 88,
   "metadata": {},
   "outputs": [],
   "source": [
    "void stern(int len, int n) {\n",
    "    // ...\n",
    "}"
   ]
  },
  {
   "cell_type": "code",
   "execution_count": 89,
   "metadata": {},
   "outputs": [],
   "source": [
    "bowser.reset();\n",
    "bowser.hide();\n",
    "stern(100,0);"
   ]
  },
  {
   "cell_type": "markdown",
   "metadata": {},
   "source": [
    "## Ein Weihnachtsbaum"
   ]
  },
  {
   "cell_type": "markdown",
   "metadata": {},
   "source": [
    "Und zum Abschluss noch was Weihnachtliches."
   ]
  },
  {
   "cell_type": "code",
   "execution_count": 99,
   "metadata": {},
   "outputs": [],
   "source": [
    "#include <algoviz/Turtle.hpp>\n",
    "AlgoViz::clear();\n",
    "\n",
    "Turtle bowser = Turtle(400,400);"
   ]
  },
  {
   "cell_type": "code",
   "execution_count": 100,
   "metadata": {},
   "outputs": [
    {
     "name": "stderr",
     "output_type": "stream",
     "text": [
      "\u001b[1minput_line_117:6:9: \u001b[0m\u001b[0;1;31merror: \u001b[0m\u001b[1mcall to 'tree' is ambiguous\u001b[0m\n",
      "        tree((len*8)/10,n-1);        \n",
      "\u001b[0;1;32m        ^~~~\n",
      "\u001b[0m\u001b[1minput_line_113:1:6: \u001b[0m\u001b[0;1;30mnote: \u001b[0mcandidate function\u001b[0m\n",
      "void tree(int len, int n) {\n",
      "\u001b[0;1;32m     ^\n",
      "\u001b[0m\u001b[1minput_line_117:1:6: \u001b[0m\u001b[0;1;30mnote: \u001b[0mcandidate function\u001b[0m\n",
      "void tree(int len, int n) {\n",
      "\u001b[0;1;32m     ^\n",
      "\u001b[0m\u001b[1minput_line_117:8:9: \u001b[0m\u001b[0;1;31merror: \u001b[0m\u001b[1mcall to 'tree' is ambiguous\u001b[0m\n",
      "        tree(len/2,n-3);      \n",
      "\u001b[0;1;32m        ^~~~\n",
      "\u001b[0m\u001b[1minput_line_113:1:6: \u001b[0m\u001b[0;1;30mnote: \u001b[0mcandidate function\u001b[0m\n",
      "void tree(int len, int n) {\n",
      "\u001b[0;1;32m     ^\n",
      "\u001b[0m\u001b[1minput_line_117:1:6: \u001b[0m\u001b[0;1;30mnote: \u001b[0mcandidate function\u001b[0m\n",
      "void tree(int len, int n) {\n",
      "\u001b[0;1;32m     ^\n",
      "\u001b[0m\u001b[1minput_line_117:10:9: \u001b[0m\u001b[0;1;31merror: \u001b[0m\u001b[1mcall to 'tree' is ambiguous\u001b[0m\n",
      "        tree(len/2,n-3);      \n",
      "\u001b[0;1;32m        ^~~~\n",
      "\u001b[0m\u001b[1minput_line_113:1:6: \u001b[0m\u001b[0;1;30mnote: \u001b[0mcandidate function\u001b[0m\n",
      "void tree(int len, int n) {\n",
      "\u001b[0;1;32m     ^\n",
      "\u001b[0m\u001b[1minput_line_117:1:6: \u001b[0m\u001b[0;1;30mnote: \u001b[0mcandidate function\u001b[0m\n",
      "void tree(int len, int n) {\n",
      "\u001b[0;1;32m     ^\n",
      "\u001b[0m"
     ]
    },
    {
     "ename": "Interpreter Error",
     "evalue": "",
     "output_type": "error",
     "traceback": [
      "Interpreter Error: "
     ]
    }
   ],
   "source": [
    "void tree(int len, int n) {\n",
    "    bowser.setWidth(5);\n",
    "    bowser.setColor(\"darkgreen\");    \n",
    "    if ( (len > 1) && (n>0) ) { // Zusätzliches Rekursionsende, wenn wir zu klein werden.\n",
    "        bowser.forward(len);\n",
    "        tree((len*8)/10,n-1);        \n",
    "        bowser.turn(120);\n",
    "        tree(len/2,n-3);      \n",
    "        bowser.turn(120);\n",
    "        tree(len/2,n-3);      \n",
    "        bowser.turn(120);\n",
    "        bowser.backward(len);\n",
    "    } else {\n",
    "        bowser.forward(len);  // Der Basisfall\n",
    "        if ( (len > 5) ) {\n",
    "            // Die Kugeln\n",
    "            bowser.setColor(\"red\");\n",
    "            bowser.setWidth(10);\n",
    "            bowser.forward(10);\n",
    "            bowser.backward(10);\n",
    "            bowser.setColor(\"darkgreen\");\n",
    "            bowser.setWidth(5);        \n",
    "        }\n",
    "        bowser.backward(len);\n",
    "    }\n",
    "}"
   ]
  },
  {
   "cell_type": "code",
   "execution_count": 101,
   "metadata": {
    "scrolled": true
   },
   "outputs": [
    {
     "name": "stderr",
     "output_type": "stream",
     "text": [
      "\u001b[1minput_line_118:8:1: \u001b[0m\u001b[0;1;31merror: \u001b[0m\u001b[1muse of undeclared identifier 'tree'; did you mean 'true'?\u001b[0m\n",
      "tree(60,10);\n",
      "\u001b[0;1;32m^\n",
      "\u001b[0m"
     ]
    },
    {
     "ename": "Interpreter Error",
     "evalue": "",
     "output_type": "error",
     "traceback": [
      "Interpreter Error: "
     ]
    }
   ],
   "source": [
    "bowser.reset();\n",
    "bowser.penUp();\n",
    "bowser.moveTo(200,380);\n",
    "bowser.turn(-90);\n",
    "bowser.penDown();\n",
    "// bowser.hide();\n",
    "tree(60,10);"
   ]
  },
  {
   "cell_type": "markdown",
   "metadata": {},
   "source": [
    "<div class=\"followup\">\n",
    "    <h3>Wo es weiter geht</h3>\n",
    "        <div>\n",
    "            <a class=\"followup\" href=\"/user-                                      redirect/algoviz/lessons/07_Rekursion/07_Quicksort.ipynb\">Quicksort</a> ist ein in der Praxis besonders schneller, rekursiver Sortieralgorithmus.\n",
    "    </div>\n",
    "</div>    "
   ]
  }
 ],
 "metadata": {
  "kernelspec": {
   "display_name": "C++17",
   "language": "C++17",
   "name": "xcpp17"
  },
  "language_info": {
   "codemirror_mode": "text/x-c++src",
   "file_extension": ".cpp",
   "mimetype": "text/x-c++src",
   "name": "c++",
   "version": "17"
  }
 },
 "nbformat": 4,
 "nbformat_minor": 4
}
