{
 "cells": [
  {
   "cell_type": "markdown",
   "metadata": {},
   "source": [
    "# Die Implementierung von MergeSort"
   ]
  },
  {
   "cell_type": "markdown",
   "metadata": {},
   "source": [
    "<div class=\"prereq\">\n",
    "    <h3>Was man wissen sollte</h3>\n",
    "    <div>\n",
    "        Wir werden <a class=\"prereq\" href=\"/user-redirect/algoviz/lessons/06_ADT/01_Liste.ipynb\">Listen</a> verwenden um\n",
    "        Wir werden <a class=\"prereq\" href=\"/user-redirect/algoviz/lessons/07_Rekursion/00_Mergesort.ipynb\">MergeSort</a> zu implementieren.        \n",
    "        </div>\n",
    "</div>"
   ]
  },
  {
   "cell_type": "markdown",
   "metadata": {},
   "source": [
    "<div class=\"slideshow 07_Rekursion/01_MergesortImplementierung/slides.json\">MergeSort Implementierung</a>"
   ]
  },
  {
   "cell_type": "markdown",
   "metadata": {},
   "source": [
    "Wir werden im folgenden MergeSort auf Listen implementieren. Dabei werden wir die Listen dynamisch anlegen und somit Zeiger verwenden.\n",
    "\n",
    "Wir beginnen damit die benötigten Bibliotheken einzubinden."
   ]
  },
  {
   "cell_type": "code",
   "execution_count": 1,
   "metadata": {},
   "outputs": [],
   "source": [
    "#include <list>\n",
    "#include <iostream>\n",
    "using namespace std;"
   ]
  },
  {
   "cell_type": "markdown",
   "metadata": {},
   "source": [
    "Außerdem sind Hilfsoperationen zum zufälligen Befüllen und ausgeben einer Liste sinnvoll. Beide haben wir schon in diversen Varianten gesehen."
   ]
  },
  {
   "cell_type": "code",
   "execution_count": 2,
   "metadata": {},
   "outputs": [],
   "source": [
    "void fuelleListe(list<int> *liste, int n) {\n",
    "    liste->clear();\n",
    "    srand(time(nullptr));\n",
    "    for ( int zaehler = 0; zaehler < n; zaehler++ ) {\n",
    "        liste->push_back(rand() % 100);\n",
    "    }\n",
    "}"
   ]
  },
  {
   "cell_type": "code",
   "execution_count": 3,
   "metadata": {},
   "outputs": [],
   "source": [
    "void printListe(list<int> *liste) {\n",
    "    for ( int wert : *liste ) {\n",
    "        cout << wert << \" \";\n",
    "    }\n",
    "    cout << endl;\n",
    "}"
   ]
  },
  {
   "cell_type": "markdown",
   "metadata": {},
   "source": [
    "Jetzt probieren wir das mal aus. Dazu legen wir eine Liste an, befüllen sie und geben sie aus."
   ]
  },
  {
   "cell_type": "code",
   "execution_count": 4,
   "metadata": {},
   "outputs": [
    {
     "name": "stdout",
     "output_type": "stream",
     "text": [
      "91 48 41 84 42 59 64 33 30 11 9 45 29 84 74 53 87 64 65 18 \n"
     ]
    }
   ],
   "source": [
    "list<int> *liste = new list<int>();\n",
    "fuelleListe(liste,20);\n",
    "printListe(liste);"
   ]
  },
  {
   "cell_type": "markdown",
   "metadata": {},
   "source": [
    "Ok. Wenden wir uns nun den einzelnen algorithmischen Schritten zu. \n",
    "\n",
    "Als erstes teilen wir eine gegebene Liste auf. Dazu erhalten wir drei Zeiger auf Listen als Parameter. Der erste, `liste`, ist die Liste, die wir aufteilen. `teil1`und `teil2` sind die Listen, die befüllt werden. Beide werden anfänglich geleert!"
   ]
  },
  {
   "cell_type": "code",
   "execution_count": 5,
   "metadata": {},
   "outputs": [],
   "source": [
    "void split(list<int> *liste, list<int> *teil1, list<int> *teil2) {\n",
    "    int wert;\n",
    "    \n",
    "    // Leere die beiden Teile\n",
    "    teil1->clear();\n",
    "    teil2->clear();\n",
    "    \n",
    "    while ( !liste->empty() ) {\n",
    "        // Hole das erste Element aus liste und füge es teil1 hinzu\n",
    "        teil1->push_back(liste->front());\n",
    "        liste->pop_front();\n",
    "        \n",
    "        // Wenn noch ein Element drin ist, hole es raus und füge es teil2 hinzu\n",
    "        if ( !liste->empty() ) {\n",
    "            teil2->push_back(liste->front());\n",
    "            liste->pop_front();\n",
    "        }\n",
    "    }\n",
    "}"
   ]
  },
  {
   "cell_type": "markdown",
   "metadata": {},
   "source": [
    "Der nächste Punkt ist das Mischen der beiden sortierten Teile. Diese werden als die ersten beiden Parameter übergeben. Die Liste in die \"gemerged\" wird ist der dritte Parameter. Sie wird auch anfänglich geleert."
   ]
  },
  {
   "cell_type": "code",
   "execution_count": 6,
   "metadata": {},
   "outputs": [],
   "source": [
    "void merge(list<int> *teil1, list<int> *teil2, list<int> *liste) {\n",
    "    \n",
    "    liste->clear();\n",
    "    \n",
    "    while ( ( !teil1->empty() ) && ( !teil2->empty() ) ) {\n",
    "        if ( teil1->front() <= teil2->front() ) {\n",
    "            liste->push_back(teil1->front());\n",
    "            teil1->pop_front();\n",
    "        } else {\n",
    "            liste->push_back(teil2->front());\n",
    "            teil2->pop_front();            \n",
    "        }\n",
    "    }\n",
    "    \n",
    "    while ( !teil1->empty() ) {\n",
    "        liste->push_back(teil1->front());\n",
    "        teil1->pop_front();\n",
    "    }\n",
    "    \n",
    "    while ( !teil2->empty() ) {\n",
    "        liste->push_back(teil2->front());\n",
    "        teil2->pop_front();\n",
    "    }    \n",
    "}"
   ]
  },
  {
   "cell_type": "markdown",
   "metadata": {},
   "source": [
    "Jetzt können wir den eigentlichen Algorithmus implementieren. Dabei weichen wir beim Basisfall etwas von dem vorgestellten ab. Statt dass wir bereits bei zwei Elementen die Rekursion beenden, gehen wir noch einen Schritt weiter und beenden die Rekursion erst, wenn nur noch ein Element in der Liste ist."
   ]
  },
  {
   "cell_type": "code",
   "execution_count": 7,
   "metadata": {},
   "outputs": [],
   "source": [
    "void mergeSort(list<int> *liste) {\n",
    "    \n",
    "    // Wenn NICHT der Basisfall eintritt, \n",
    "    // führe die Rekursion aus.\n",
    "    if ( liste->size() > 1 ) {\n",
    "\n",
    "        list<int> *teil1 = new list<int>();\n",
    "        list<int> *teil2 = new list<int>();\n",
    "        \n",
    "        split(liste,teil1,teil2);\n",
    "        mergeSort(teil1);\n",
    "        mergeSort(teil2);\n",
    "        merge(teil1,teil2,liste);\n",
    "        \n",
    "        delete teil1;\n",
    "        delete teil2;        \n",
    "    }\n",
    "    \n",
    "}"
   ]
  },
  {
   "cell_type": "markdown",
   "metadata": {},
   "source": [
    "Jetzt können wir tatsächlich mal sortieren."
   ]
  },
  {
   "cell_type": "code",
   "execution_count": 13,
   "metadata": {},
   "outputs": [
    {
     "name": "stdout",
     "output_type": "stream",
     "text": [
      "13 13 15 22 23 30 31 40 44 49 57 60 65 67 68 72 78 81 81 89 \n"
     ]
    }
   ],
   "source": [
    "fuelleListe(liste,20);\n",
    "mergeSort(liste);\n",
    "printListe(liste);"
   ]
  },
  {
   "cell_type": "markdown",
   "metadata": {},
   "source": [
    "## Ein paar Messungen\n",
    "\n",
    "Im Folgenden werden wir mal ein paar Messungen durchführen, um die Laufzeit zu beurteilen. Dazu gehen wir genauso vor, wie bei den Messungen zu [HeapSort](/user-redirect/algoviz/lessons/04_Sortieren/07_HeapSortImplementierung.ipynb)."
   ]
  },
  {
   "cell_type": "code",
   "execution_count": 15,
   "metadata": {},
   "outputs": [],
   "source": [
    "const int len = 9000;\n",
    "int feld[len];"
   ]
  },
  {
   "cell_type": "code",
   "execution_count": 16,
   "metadata": {},
   "outputs": [
    {
     "name": "stdout",
     "output_type": "stream",
     "text": [
      "39.7 ms +- 184 us per loop (mean +- std. dev. of 7 runs 10 loops each)\n"
     ]
    }
   ],
   "source": [
    "%%timeit\n",
    "fuelleListe(liste,len);\n",
    "mergeSort(liste);"
   ]
  },
  {
   "cell_type": "markdown",
   "metadata": {},
   "source": [
    "<div class=\"task\">\n",
    "    <h3>Aufgabe</h3>\n",
    "    <div>\n",
    "        Führen Sie die Zeitmessung für die in dem Array <tt>laengen[]</tt> (siehe nächste Zelle)\n",
    "        durch. Tragen Sie die Werte in Millisekunden (ms) in das Array <tt>messungen[]</tt> ein.\n",
    "        Beachten Sie dabei die Reihenfolge und die Einheiten.\n",
    "    </div>\n",
    "    <div>\n",
    "        In dem Array <tt>referenz[]</tt> ist bereits eine Reihe von Messungen für MergeSort gegeben.\n",
    "        In <tt>heapsort[]</tt> und <tt>selectionSort[]</tt> sind die Referenzmessungen für die\n",
    "        entsprechenden Algorithmen enthalten.\n",
    "    </div>\n",
    "</div>"
   ]
  },
  {
   "cell_type": "code",
   "execution_count": 18,
   "metadata": {},
   "outputs": [],
   "source": [
    "double laengen[]   = { 1000, 2000, 3000, 4000, 5000, 6000, 7000, 8000, 9000, 10000, 12000, 15000, 20000 };\n",
    "double messungen[] = {    0,    0,    0,    0,    0,    0,    0,    0,    0,     0,     0,     0,     0 };\n",
    "\n",
    "double referenz[] = {  3.61, 7.56, 12.4, 16.6, 21.2,   26, 31.2, 35.9,   41,  45.7,  55.9,  70.4,   95.3 };\n",
    "double heapsort[]  = { 0.08, 0.21, 0.34, 0.469, 0.60, 0.74,  0.87, 1.01,  1.14,  1.29, 1.55,  1.95,  2.63 };    \n",
    "double selectionSort[]  = { 0.56, 2.19, 4.86, 10.1, 15.2, 19.2, 26.3, 34.3, 43.5,  53.7,  76.9,   119,   212 };"
   ]
  },
  {
   "cell_type": "code",
   "execution_count": 36,
   "metadata": {},
   "outputs": [],
   "source": [
    "#include <algoviz/DataPlot.hpp>\n",
    "AlgoViz::clear();\n",
    "DataPlot plot = DataPlot(400,400);\n",
    "\n",
    "// Plotte die beiden Messreihen.\n",
    "plot.plot(laengen,messungen,13,\"red\");   // Die roten Punkte sind ihre Messungen\n",
    "plot.plot(laengen,referenz,13,\"blue\");   // Die blauen die Referenzmessungen\n",
    "plot.plot(laengen,heapsort,13,\"green\");   // Die blauen die Referenzmessungen\n",
    "plot.plot(laengen,selectionSort,13,\"black\");  // Die schwarzen sind die SelectionSort Messungen"
   ]
  },
  {
   "cell_type": "markdown",
   "metadata": {},
   "source": [
    "Bei den Messung sollte deutlich werden, dass MergeSort deutlich langsamer ist als HeapSort. Dies liegt im Wesentlichen an der Verwendung von Listen. Aber es sollte auch deutlich werden, dass der Anstieg für MergeSort deutlich flacher ist als der von SelectionSort."
   ]
  },
  {
   "cell_type": "markdown",
   "metadata": {},
   "source": [
    "<div class=\"followup\">\n",
    "    <h3>Wo es weiter geht</h3>\n",
    "        <div>\n",
    "            Als nächstes\n",
    "            <a class=\"followup\" href=\"/user-redirect/algoviz/lessons/07_Rekursion/02_MergesortLaufzeit.ipynb\">analysieren wir die Laufzeit von MergeSort</a>.\n",
    "    </div>\n",
    "</div>    "
   ]
  }
 ],
 "metadata": {
  "kernelspec": {
   "display_name": "C++17",
   "language": "C++17",
   "name": "xcpp17"
  },
  "language_info": {
   "codemirror_mode": "text/x-c++src",
   "file_extension": ".cpp",
   "mimetype": "text/x-c++src",
   "name": "c++",
   "version": "17"
  }
 },
 "nbformat": 4,
 "nbformat_minor": 4
}
