{
 "cells": [
  {
   "cell_type": "markdown",
   "metadata": {},
   "source": [
    "# Die Laufzeit von QuickSort"
   ]
  },
  {
   "cell_type": "markdown",
   "metadata": {},
   "source": [
    "<div class=\"prereq\">\n",
    "    <h3>Was man wissen sollte</h3>\n",
    "    <div>\n",
    "        Man sollte\n",
    "        <a class=\"prereq\" href=\"/user-redirect/algoviz/lessons/07_Rekursion/07_Quicksort.ipynb\">QuickSort</a>\n",
    "        kennen, um es zu analysieren.\n",
    "    </div>\n",
    "</div>"
   ]
  },
  {
   "cell_type": "markdown",
   "metadata": {},
   "source": [
    "<div class=\"slideshow 07_Rekursion/08_QuicksortLaufzeit/slides.json\">Die Laufzeit von QuickSort</a>"
   ]
  },
  {
   "cell_type": "markdown",
   "metadata": {},
   "source": [
    "<div class=\"followup\">\n",
    "    <h3>Wo es weiter geht</h3>\n",
    "        <div>\n",
    "            Jetzt wird es Zeit sich mit  \n",
    "            <a class=\"followup\" href=\"https://music.youtube.com/watch?v=dsqC6HRS8Lc&list=RDAMVMdsqC6HRS8Lc\">Weihnachten</a>\n",
    "            zu beschäftigen.\n",
    "    </div>\n",
    "</div>    "
   ]
  }
 ],
 "metadata": {
  "kernelspec": {
   "display_name": "C++17",
   "language": "C++17",
   "name": "xcpp17"
  },
  "language_info": {
   "codemirror_mode": "text/x-c++src",
   "file_extension": ".cpp",
   "mimetype": "text/x-c++src",
   "name": "c++",
   "version": "17"
  }
 },
 "nbformat": 4,
 "nbformat_minor": 4
}
