{
 "cells": [
  {
   "cell_type": "markdown",
   "metadata": {},
   "source": [
    "# Der FloodFill-Algorithmus mit einem Stack"
   ]
  },
  {
   "cell_type": "markdown",
   "metadata": {},
   "source": [
    "<div class=\"prereq\">\n",
    "    <h3>Was man wissen sollte</h3>\n",
    "    <div>\n",
    "        Wir verwenden \n",
    "        <a class=\"prereq\" href=\"/user-redirect/algoviz/lessons/06_ADT/07_Stacks.ipynb\">Stacks</a>\n",
    "        und bauen auf dem Beispiel <a class=\"prereq\" href=\"/user-redirect/algoviz/lessons/06_ADT/06_FloodFill.ipynb\">FloodFill mit Queue</a> auf.\n",
    "    </div>\n",
    "</div>"
   ]
  },
  {
   "cell_type": "markdown",
   "metadata": {},
   "source": [
    "## Die Implementierung\n",
    "\n",
    "Wir verwenden wieder dieselben Komponenten wie bei den Queues."
   ]
  },
  {
   "cell_type": "code",
   "execution_count": 8,
   "metadata": {},
   "outputs": [],
   "source": [
    "/**\n",
    " ** Das Gitter aus Rechtecken.\n",
    " **/\n",
    "#include <algoviz/SVG.hpp>\n",
    "using namespace std;\n",
    "\n",
    "AlgoViz::clear();\n",
    "\n",
    "SVG zeichnung = SVG(400,400);\n",
    "\n",
    "// Die \"Farbwerte\" der Pixel.\n",
    "// Das Bild besteht aus 40x40 Pixeln.\n",
    "int bild[40][40];\n",
    "\n",
    "// Die Rechtecke, die die Pixel darstellen.\n",
    "Rect rects[40][40];\n",
    "\n",
    "// Durchlaufe alle Pixel\n",
    "for ( int spalte = 0 ; spalte < 40; spalte = spalte+1 ) {\n",
    "    for ( int zeile = 0 ; zeile < 40; zeile = zeile+1 ) {\n",
    "        \n",
    "        // Bewege das Rechteck an die richtige Stelle\n",
    "        rects[spalte][zeile].moveTo(spalte*10,zeile*10);\n",
    "        // Setze es auf die richtige Größe\n",
    "        rects[spalte][zeile].setWidth(10);\n",
    "        rects[spalte][zeile].setHeight(10);\n",
    "    \n",
    "        // Alle Pixel solen weiß sein.\n",
    "        bild[spalte][zeile] = 0;\n",
    "        \n",
    "        // Setze die Farbe der Pixel (in diesem Beispiel eigentlich unnötig)\n",
    "        if ( bild[spalte][zeile] == 1 ) {\n",
    "            rects[spalte][zeile].setFill(\"black\");\n",
    "        } else {\n",
    "            rects[spalte][zeile].setFill(\"white\");\n",
    "        }\n",
    "\n",
    "        // Füge das Rechteck zur Zeichnung hinzu.\n",
    "        rects[spalte][zeile].addTo(&zeichnung);\n",
    "        \n",
    "    }    \n",
    "}"
   ]
  },
  {
   "cell_type": "code",
   "execution_count": 9,
   "metadata": {},
   "outputs": [],
   "source": [
    "string FARBEN[8] = { \"#FFFFFF\", \n",
    "                     \"#000000\", \n",
    "                     \"#FF0000\", \n",
    "                     \"#00FF00\",\n",
    "                     \"#0000FF\",\n",
    "                     \"#FFFF00\",\n",
    "                     \"#FF00FF\",\n",
    "                     \"#00FFFF\" };"
   ]
  },
  {
   "cell_type": "code",
   "execution_count": 10,
   "metadata": {},
   "outputs": [],
   "source": [
    "void setPixel(int x, int y, int color) {\n",
    "    // Falls die Koordinaten \"ungültig\" sind, tue nichts.\n",
    "    if ( (x<0) || (x>=40) || (y<0) || (y>=40)) return;\n",
    "    \n",
    "    bild[x][y] = color;\n",
    "    rects[x][y].setFill(FARBEN[color]);\n",
    "}"
   ]
  },
  {
   "cell_type": "code",
   "execution_count": 11,
   "metadata": {},
   "outputs": [],
   "source": [
    "setPixel(10,10,5);"
   ]
  },
  {
   "cell_type": "code",
   "execution_count": 12,
   "metadata": {},
   "outputs": [],
   "source": [
    "class Pixel {\n",
    "    public:\n",
    "        int x;\n",
    "        int y;\n",
    "    \n",
    "        Pixel(int x, int y) {\n",
    "            this->x = x;\n",
    "            this->y = y;\n",
    "        }\n",
    "}"
   ]
  },
  {
   "cell_type": "markdown",
   "metadata": {},
   "source": [
    "Implementieren wir jetzt den FloodFill-Algorithmus. Dazu benötigen wir diesmal einen Stack."
   ]
  },
  {
   "cell_type": "code",
   "execution_count": 13,
   "metadata": {},
   "outputs": [],
   "source": [
    "#include \"Stack.hpp\""
   ]
  },
  {
   "cell_type": "code",
   "execution_count": 14,
   "metadata": {},
   "outputs": [],
   "source": [
    "// Der Algorithmus erhält die Koordinaten des Startpixels \n",
    "// und die neue Farbe als Parameter\n",
    "\n",
    "void floodFillRed(int x, int y, int color) {\n",
    "\n",
    "    int alt = bild[x][y];\n",
    "    \n",
    "    Stack<Pixel> pixel;\n",
    "\n",
    "    pixel.push(Pixel(x,y));\n",
    "        \n",
    "    while ( !pixel.isEmpty() ) {\n",
    "        Pixel p = pixel.pop();\n",
    "        \n",
    "        if ( bild[p.x][p.y] == alt ) {\n",
    "            setPixel(p.x,p.y,color);\n",
    "            \n",
    "            if ( p.x-1 >= 0 ) {\n",
    "                pixel.push(Pixel(p.x-1,p.y));\n",
    "            }\n",
    "            \n",
    "            if ( p.x+1 < 40) {\n",
    "                pixel.push(Pixel(p.x+1,p.y));\n",
    "            }\n",
    "            \n",
    "            if ( p.y-1 >= 0 ) {\n",
    "                pixel.push(Pixel(p.x,p.y-1));\n",
    "            }\n",
    "            \n",
    "            if ( p.y+1 < 40) {\n",
    "                pixel.push(Pixel(p.x,p.y+1));\n",
    "            }            \n",
    "        }\n",
    "    }\n",
    "}"
   ]
  },
  {
   "cell_type": "markdown",
   "metadata": {},
   "source": [
    "Jetzt können wir mal die gesamte Fläche füllen."
   ]
  },
  {
   "cell_type": "code",
   "execution_count": 15,
   "metadata": {},
   "outputs": [],
   "source": [
    "floodFillRed(19,19,3);"
   ]
  },
  {
   "cell_type": "markdown",
   "metadata": {},
   "source": [
    "Wie man sieht füllt sich die Fläche jetzt auf eine ganz andere Art. Das liegt einfach an der durch den Stacl veränderten Reihenfolge der Bearbeitung der Pixel."
   ]
  },
  {
   "cell_type": "markdown",
   "metadata": {},
   "source": [
    "<div class=\"followup\">\n",
    "    <h3>Wo es weiter geht</h3>\n",
    "        <div>\n",
    "            Die nächste Datenstruktur mir der wir uns beschäftigen sind\n",
    "            <a class=\"followup\" href=\"/user-redirect/algoviz/lessons/06_ADT/08_StackSort.ipynb\">StackSort</a>.\n",
    "    </div>\n",
    "</div>    "
   ]
  }
 ],
 "metadata": {
  "kernelspec": {
   "display_name": "C++17",
   "language": "C++17",
   "name": "xcpp17"
  },
  "language_info": {
   "codemirror_mode": "text/x-c++src",
   "file_extension": ".cpp",
   "mimetype": "text/x-c++src",
   "name": "c++",
   "version": "17"
  }
 },
 "nbformat": 4,
 "nbformat_minor": 4
}
