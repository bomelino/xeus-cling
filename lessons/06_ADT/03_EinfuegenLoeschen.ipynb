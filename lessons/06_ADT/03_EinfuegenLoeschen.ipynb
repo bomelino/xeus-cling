{
 "cells": [
  {
   "cell_type": "markdown",
   "metadata": {},
   "source": [
    "# Einfügen und Löschen von Elementen"
   ]
  },
  {
   "cell_type": "markdown",
   "metadata": {},
   "source": [
    "<div class=\"prereq\">\n",
    "    <h3>Was man wissen sollte</h3>\n",
    "    <div>\n",
    "        Wir benötigen\n",
    "        <a class=\"prereq\" href=\"/user-redirect/algoviz/lessons/06_ADT/02_Iteration.ipynb\">Iteratoren</a>\n",
    "        für Listen.\n",
    "    </div>\n",
    "</div>"
   ]
  },
  {
   "cell_type": "markdown",
   "metadata": {},
   "source": [
    "<div class=\"slideshow 06_ADT/03_EinfuegenLoeschen/slides.json\">Einfügen und Löschen in Listen</a>"
   ]
  },
  {
   "cell_type": "markdown",
   "metadata": {},
   "source": [
    "Die Implementierung einer Liste in C++ ermöglicht das Löschen und Einfügen mit den Methoden `erase()` und `insert()`. Erstere erhält nur einen Iterator als Parameter, während die zweite einen Iterator und ein einzufügendes Element erhält. Beide geben außerdem einen Iterator als Ergebnis zurück."
   ]
  },
  {
   "cell_type": "markdown",
   "metadata": {},
   "source": [
    "## Einfügen"
   ]
  },
  {
   "cell_type": "code",
   "execution_count": 21,
   "metadata": {},
   "outputs": [
    {
     "name": "stdout",
     "output_type": "stream",
     "text": [
      "3 2 4 1 "
     ]
    }
   ],
   "source": [
    "#include <iostream>\n",
    "#include <list>\n",
    "using namespace std;\n",
    "\n",
    "list<int> liste = list<int>();\n",
    "\n",
    "liste.push_front(1);\n",
    "liste.push_front(2);\n",
    "liste.push_front(3);     // Die Liste hat jetzt den Inhalt (3,2,1)\n",
    "\n",
    "auto it = liste.begin(); // Gehe zum ersten Element \n",
    "it++;\n",
    "it++;                    // Jetzt ist der Iterator bei der 1\n",
    "\n",
    "auto it2 = liste.insert(it,4);  // Die 4 wird VOR der 1 eingefügt: (3,2,4,1)\n",
    "\n",
    "for ( int i : liste ) {\n",
    "    cout << i << \" \";\n",
    "}"
   ]
  },
  {
   "cell_type": "markdown",
   "metadata": {},
   "source": [
    "Wie angekündigt wurde die 4 vor der 1 eingefügt. Serhen wir uns noch an, wo der ursprüngliche Iterator nach dem Einfügen steht und auf welches Element der zurückgegebene Iterator `it2` zeigt."
   ]
  },
  {
   "cell_type": "code",
   "execution_count": 22,
   "metadata": {},
   "outputs": [
    {
     "name": "stdout",
     "output_type": "stream",
     "text": [
      "1"
     ]
    }
   ],
   "source": [
    "cout << *it;"
   ]
  },
  {
   "cell_type": "markdown",
   "metadata": {},
   "source": [
    "Der ursprüngliche Iterator wurde nicht verändert. Er zeigt auf das alte Element."
   ]
  },
  {
   "cell_type": "code",
   "execution_count": 23,
   "metadata": {},
   "outputs": [
    {
     "name": "stdout",
     "output_type": "stream",
     "text": [
      "4"
     ]
    }
   ],
   "source": [
    "cout << *it2;"
   ]
  },
  {
   "cell_type": "markdown",
   "metadata": {},
   "source": [
    "Der **zurückgegebene** Iterator zeigt auf das neue Element.\n",
    "\n",
    "Fassen wir zusammen. `liste.insert(it,v)` fügt den Wert `v` **vor** dem Element auf das der Iterator `it` zeigt, ein. Der übergebene Iterator bleibt unverändert. Aber `insert()` gibt einen Iterator zurück, der auf das **neue** Element zeigt."
   ]
  },
  {
   "cell_type": "markdown",
   "metadata": {},
   "source": [
    "## Löschen\n",
    "\n",
    "Kommen wir jetzt zum Löschen."
   ]
  },
  {
   "cell_type": "code",
   "execution_count": 1,
   "metadata": {},
   "outputs": [
    {
     "name": "stderr",
     "output_type": "stream",
     "text": [
      "\u001b[1minput_line_7:2:2: \u001b[0m\u001b[0;1;31merror: \u001b[0m\u001b[1muse of undeclared identifier 'it'\u001b[0m\n",
      " it = liste.begin();   // Zur 3\n",
      "\u001b[0;1;32m ^\n",
      "\u001b[0m\u001b[1minput_line_7:2:7: \u001b[0m\u001b[0;1;31merror: \u001b[0m\u001b[1muse of undeclared identifier 'liste'\u001b[0m\n",
      " it = liste.begin();   // Zur 3\n",
      "\u001b[0;1;32m      ^\n",
      "\u001b[0m\u001b[1minput_line_7:3:1: \u001b[0m\u001b[0;1;31merror: \u001b[0m\u001b[1muse of undeclared identifier 'it'\u001b[0m\n",
      "it++;                 // Zur 2\n",
      "\u001b[0;1;32m^\n",
      "\u001b[0m\u001b[1minput_line_7:4:1: \u001b[0m\u001b[0;1;31merror: \u001b[0m\u001b[1muse of undeclared identifier 'it2'\u001b[0m\n",
      "it2 = liste.erase(it);      // Die 2 wird gelöscht.\n",
      "\u001b[0;1;32m^\n",
      "\u001b[0m\u001b[1minput_line_7:4:7: \u001b[0m\u001b[0;1;31merror: \u001b[0m\u001b[1muse of undeclared identifier 'liste'\u001b[0m\n",
      "it2 = liste.erase(it);      // Die 2 wird gelöscht.\n",
      "\u001b[0;1;32m      ^\n",
      "\u001b[0m\u001b[1minput_line_7:4:19: \u001b[0m\u001b[0;1;31merror: \u001b[0m\u001b[1muse of undeclared identifier 'it'\u001b[0m\n",
      "it2 = liste.erase(it);      // Die 2 wird gelöscht.\n",
      "\u001b[0;1;32m                  ^\n",
      "\u001b[0m\u001b[1minput_line_7:6:15: \u001b[0m\u001b[0;1;31merror: \u001b[0m\u001b[1muse of undeclared identifier 'liste'\u001b[0m\n",
      "for ( int i : liste ) {\n",
      "\u001b[0;1;32m              ^\n",
      "\u001b[0m\u001b[1minput_line_7:7:5: \u001b[0m\u001b[0;1;31merror: \u001b[0m\u001b[1muse of undeclared identifier 'cout'\u001b[0m\n",
      "    cout << i << \" \";\n",
      "\u001b[0;1;32m    ^\n",
      "\u001b[0m"
     ]
    },
    {
     "ename": "Interpreter Error",
     "evalue": "",
     "output_type": "error",
     "traceback": [
      "Interpreter Error: "
     ]
    }
   ],
   "source": [
    "it = liste.begin();   // Zur 3\n",
    "it++;                 // Zur 2\n",
    "\n",
    "it2 = liste.erase(it);      // Die 2 wird gelöscht.\n",
    "    \n",
    "for ( int i : liste ) {\n",
    "    cout << i << \" \";\n",
    "}"
   ]
  },
  {
   "cell_type": "markdown",
   "metadata": {},
   "source": [
    "Wie angekündigt wurde die 2 gelöscht. Und wo steht der Iterator?"
   ]
  },
  {
   "cell_type": "code",
   "execution_count": 25,
   "metadata": {},
   "outputs": [
    {
     "name": "stdout",
     "output_type": "stream",
     "text": [
      "32"
     ]
    }
   ],
   "source": [
    "cout << *it;"
   ]
  },
  {
   "cell_type": "markdown",
   "metadata": {},
   "source": [
    "In der Regel scheint der Iterator auf einen Wert zu verweisen, der gar nicht in der Liste war (durch Zufall kann es ein Wert aus der Liste sein). Tatsächlich wird der übergebene Iterator durch das Löschen\n",
    "**ungültig**.\n",
    "\n",
    "Aber wie sieht es mit dem zurückgegebenen Iterator `it2` aus?\n"
   ]
  },
  {
   "cell_type": "code",
   "execution_count": 26,
   "metadata": {},
   "outputs": [
    {
     "name": "stdout",
     "output_type": "stream",
     "text": [
      "4"
     ]
    }
   ],
   "source": [
    "cout << *it2;"
   ]
  },
  {
   "cell_type": "markdown",
   "metadata": {},
   "source": [
    "Er zweigt auf das Element **hinter** dem gelöschten. D.h. bei `erase()` müssen wir darauf achten, dass der Iterator entsprechend gesetzt wird."
   ]
  },
  {
   "cell_type": "markdown",
   "metadata": {},
   "source": [
    "Wir verdeutlichen das Problem an einem Beispiel, bei dem wir aus den Zahlen von 1 bis 20 alle nicht durch drei teilbaren entfernen."
   ]
  },
  {
   "cell_type": "code",
   "execution_count": null,
   "metadata": {},
   "outputs": [],
   "source": [
    "#include <iostream>\n",
    "#include <list>\n",
    "using namespace std;\n",
    "\n",
    "list<int> liste = list<int>();\n",
    "\n",
    "// Befüllen der Liste\n",
    "for ( int i = 1; i <= 20; i++ ) {\n",
    "    liste.push_back(i);\n",
    "}\n",
    "\n",
    "\n",
    "auto it = liste.begin();\n",
    "\n",
    "while ( it != liste.end() ) {\n",
    "    // Lösche einen geraden  Wert\n",
    "    if ( *it % 3 != 0 ) {\n",
    "        liste.erase(it);\n",
    "    }\n",
    "    // Gehe zum nächsten\n",
    "    it++;\n",
    "}\n",
    "\n",
    "for ( int i : liste ) {\n",
    "    cout << i << \" \" ;\n",
    "}"
   ]
  },
  {
   "cell_type": "markdown",
   "metadata": {},
   "source": [
    "Führt man dieses Programm aus, stürzt es ab. Das Problem besteht darin, dass nach dem Löschen in Zeile 18 der Iterator `it` **ungültig** ist. Dadurch stürzt das Programm beim Erhöhen in Zeile 21 ab!\n",
    "\n",
    "Um das zu beheben, müssen wir den von `erase()` zurückgegebenen Iterator nutzen."
   ]
  },
  {
   "cell_type": "code",
   "execution_count": 3,
   "metadata": {},
   "outputs": [
    {
     "name": "stdout",
     "output_type": "stream",
     "text": [
      "2 3 5 6 8 9 11 12 14 15 17 18 20 "
     ]
    }
   ],
   "source": [
    "#include <iostream>\n",
    "#include <list>\n",
    "using namespace std;\n",
    "\n",
    "list<int> liste = list<int>();\n",
    "\n",
    "// Befüllen der Liste\n",
    "for ( int i = 1; i <= 20; i++ ) {\n",
    "    liste.push_back(i);\n",
    "}\n",
    "\n",
    "\n",
    "auto it = liste.begin();\n",
    "\n",
    "while ( it != liste.end() ) {\n",
    "    // Lösche einen geraden  Wert\n",
    "    if ( *it % 3 != 0 ) {\n",
    "        // Nehme den zurückgergebenen Iterator\n",
    "        it = liste.erase(it);\n",
    "    }\n",
    "    // Gehe zum nächsten\n",
    "    it++;\n",
    "}\n",
    "\n",
    "for ( int i : liste ) {\n",
    "    cout << i << \" \" ;\n",
    "}"
   ]
  },
  {
   "cell_type": "markdown",
   "metadata": {},
   "source": [
    "Hmm. Das Programm ist nicht abgestürzt. Aber da ist etwas anderes schief gegangen. Wie es scheint wurden nicht alle nicht durch drei teilbaren Zahlen gelöscht. Versuchen wir nachzuvollziehen, was schief gegangen ist.\n",
    "\n",
    "Wir haben mit der folgenden Liste angefangen: `1,2,3,4,5,6,7,8,9,10,11,12,13,14,15,16,17,18,19,20`\n",
    "\n",
    "Der Iterator wurde anfänglich auf die `1` gesetzt. Da sie nicht durch drei teilbar ist, wird sie gelöscht. Das geschieht in Zeile 19. Gleichzeitig wird `it` auf den Rückgabewert von `erase()`gesetzt. Dies ist das Element **hinter** dem gelöschten, also `2`. Anschließend wird der Iterator in Zeile 22 nocheinmal erhöht und er steht anschließend auf `3`.\n",
    "\n",
    "Die `2` wurde also übersprungen. Dadurch wird sie nicht geprüft und nicht gelöscht. Das gleiche geschieht mit der 5, der 8, der 11 und mit allen verbliebenen nicht durch drei teilbaren Zahlen.\n",
    "\n",
    "In der Konsequenz müssen wird den Iterator nach dem Löschen nicht noch zusätzlich erhöhen, da dies durch `erase()` bereits geschehen ist. Also führen wir `it++` (Zeile 22) in der Alternative, dem `else`-Zweig aus.\n",
    "    \n"
   ]
  },
  {
   "cell_type": "code",
   "execution_count": 4,
   "metadata": {},
   "outputs": [
    {
     "name": "stdout",
     "output_type": "stream",
     "text": [
      "3 6 9 12 15 18 "
     ]
    }
   ],
   "source": [
    "#include <iostream>\n",
    "#include <list>\n",
    "using namespace std;\n",
    "\n",
    "list<int> liste = list<int>();\n",
    "\n",
    "// Befüllen der Liste\n",
    "for ( int i = 1; i <= 20; i++ ) {\n",
    "    liste.push_back(i);\n",
    "}\n",
    "\n",
    "\n",
    "auto it = liste.begin();\n",
    "\n",
    "while ( it != liste.end() ) {\n",
    "    // Lösche einen geraden  Wert\n",
    "    if ( *it % 3 != 0 ) {\n",
    "        // Nehme den zurückgergebenen Iterator\n",
    "        it = liste.erase(it);\n",
    "    } else {  // NEU!!!\n",
    "        // Gehe zum nächsten\n",
    "        it++;\n",
    "    }\n",
    "}\n",
    "\n",
    "for ( int i : liste ) {\n",
    "    cout << i << \" \" ;\n",
    "}"
   ]
  },
  {
   "cell_type": "markdown",
   "metadata": {},
   "source": [
    "Jetzt klappt es!\n",
    "\n",
    "Fassen wir zusammen, was wir gesehen haben: Wir ein Element aus einer Liste gelöscht, wird der Iterator **ungültig**. Allerdins gibt `erase` einen ITerator auf das Element **hinter** dem gelöschten zurück, so dass\n",
    "man mit `it = liste.erase(it)`bereits beim nächsten Element ist. D.h. will man weiter laufen, muss man nicht noch zusätzlich den Iterator weiter setzen."
   ]
  },
  {
   "cell_type": "markdown",
   "metadata": {},
   "source": [
    "<div class=\"followup\">\n",
    "    <h3>Wo es weiter geht</h3>\n",
    "        <div>\n",
    "            Als Beispiel für die Arbeit mit Listen schauen wir uns in der nächsten Lesson das <a class=\"followup\" href=\"/user-redirect/algoviz/lessons/06_ADT/04_SortiertesEinfuegen.ipynb\">sortierte Einfügen an.</a>\n",
    "    </div>\n",
    "</div>    "
   ]
  }
 ],
 "metadata": {
  "kernelspec": {
   "display_name": "C++17",
   "language": "C++17",
   "name": "xcpp17"
  },
  "language_info": {
   "codemirror_mode": "text/x-c++src",
   "file_extension": ".cpp",
   "mimetype": "text/x-c++src",
   "name": "c++",
   "version": "17"
  }
 },
 "nbformat": 4,
 "nbformat_minor": 4
}
