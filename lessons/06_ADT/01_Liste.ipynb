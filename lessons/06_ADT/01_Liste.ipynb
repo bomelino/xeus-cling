{
 "cells": [
  {
   "cell_type": "markdown",
   "metadata": {},
   "source": [
    "# Listen"
   ]
  },
  {
   "cell_type": "markdown",
   "metadata": {},
   "source": [
    "<div class=\"prereq\">\n",
    "    <h3>Was man wissen sollte</h3>\n",
    "    <div>\n",
    "        Verwandte <a class=\"prereq\" href=\"/user-redirect/algoviz/lessons/06_ADT/00_AbstrakteDatentypen.ipynb\">Datentypen</a> sind\n",
    "            <a class=\"prereq\" href=\"/user-redirect/algoviz/lessons/03_Fortgeschritten/00_Arrays.ipynb\">Arrays</a>\n",
    "        und <a class=\"prereq\" href=\"/user-redirect/algoviz/lessons/03_Fortgeschritten/04_Vektoren.ipynb\">Vektoren</a>\n",
    "    </div>\n",
    "</div>"
   ]
  },
  {
   "cell_type": "markdown",
   "metadata": {},
   "source": [
    "<div class=\"slideshow 06_ADT/01_Listen/slides.json\">Listen - Ein ADT für dynamische Reihenfolgen</a>"
   ]
  },
  {
   "cell_type": "markdown",
   "metadata": {},
   "source": [
    "Statt eine Liste vollständig neu zu implementieren, verwenden wir eine Implementierung, die in der Standard-Bibliothek von C++ zur Verfügung steht. Sie hat eine Reihe von Vorteilen gegenüber einer selbst implementierten Version. Zum einen kann sie für **jeden** beliebigen Datentyp verwendet werden. Zum anderen ist sie, aufgrund der technischen Details ihrer Implementierung, hocheffizient. Außerdem steht im Folgenden die Nutzung der Liste als Datenstruktur im Vordergrund.\n",
    "\n",
    "Die Liste wird wie andere Komponenten der Standardbibliothek mittels `#include` eingebunden."
   ]
  },
  {
   "cell_type": "code",
   "execution_count": 1,
   "metadata": {},
   "outputs": [],
   "source": [
    "#include <list>\n",
    "#include <iostream>\n",
    "using namespace std;"
   ]
  },
  {
   "cell_type": "markdown",
   "metadata": {},
   "source": [
    "Die Deklaration einer Liste erfolgt genauso, wie die eines Vektors. Der Typ der Daten, die gespechert werden solen, wird ebenfalls in spitzen Klammern angegeben."
   ]
  },
  {
   "cell_type": "code",
   "execution_count": 3,
   "metadata": {},
   "outputs": [],
   "source": [
    "list<int> liste = list<int>();   // Eine Liste für integer Werte"
   ]
  },
  {
   "cell_type": "markdown",
   "metadata": {},
   "source": [
    "Das Hinzufügen von Elementen erfolgt jetzt über die Operationen `push_front()` und `push_back()`."
   ]
  },
  {
   "cell_type": "code",
   "execution_count": 4,
   "metadata": {},
   "outputs": [],
   "source": [
    "liste.push_front(100);   // 100 kommt nach vorne\n",
    "liste.push_back(42);     // 42 nach hinten"
   ]
  },
  {
   "cell_type": "markdown",
   "metadata": {},
   "source": [
    "Schauen wir mal nach."
   ]
  },
  {
   "cell_type": "code",
   "execution_count": 5,
   "metadata": {},
   "outputs": [
    {
     "name": "stdout",
     "output_type": "stream",
     "text": [
      "Vorne  : 100\n",
      "Hinten : 42"
     ]
    }
   ],
   "source": [
    "cout << \"Vorne  : \" << liste.front() << endl;\n",
    "cout << \"Hinten : \" << liste.back();"
   ]
  },
  {
   "cell_type": "markdown",
   "metadata": {},
   "source": [
    "Fügen wir noch ein paar Werte hinzu."
   ]
  },
  {
   "cell_type": "code",
   "execution_count": 6,
   "metadata": {},
   "outputs": [],
   "source": [
    "liste.push_back(13);\n",
    "liste.push_front(17);\n",
    "liste.push_front(73);\n",
    "liste.push_back(24);"
   ]
  },
  {
   "cell_type": "markdown",
   "metadata": {},
   "source": [
    "Welche Reihenfolge haben wir jetzt? Nbch den ersten beiden Elementen war der Inhalt $(100,42)$.\n",
    "Also führten die vier Schritte zu der folgenden Reihenfolge: $(73,17,100,42,13,24)$.\n",
    "\n",
    "Um das zu prüfen, müssen wir jetzt alle Elemente der Liste von vorne bis hinten durchlaufen. Leider ist das noch nicht möglich (kommt noch). Daher werden wir alle Elemente aus der Liste entfernen und ausgeben. Dabei holen wir uns immer das erste Element."
   ]
  },
  {
   "cell_type": "code",
   "execution_count": 2,
   "metadata": {},
   "outputs": [
    {
     "name": "stdout",
     "output_type": "stream",
     "text": [
      "18 16 14 12 10 8 6 4 2 0 1 3 5 7 9 11 13 15 17 19 "
     ]
    }
   ],
   "source": [
    "// Solange die Liste nicht leer ist\n",
    "while ( !liste.empty() ) {\n",
    "    // Holle den ersten Wert\n",
    "    int wert = liste.front();\n",
    "    \n",
    "    // Entferne den ersten Wert\n",
    "    liste.pop_front();\n",
    "    \n",
    "    // Gebe den Wert aus.\n",
    "    cout << wert << \" \";\n",
    "}"
   ]
  },
  {
   "cell_type": "markdown",
   "metadata": {},
   "source": [
    "Passt. Machen wir es etwas schwieriger."
   ]
  },
  {
   "cell_type": "code",
   "execution_count": 1,
   "metadata": {},
   "outputs": [],
   "source": [
    "#include <iostream>\n",
    "#include <list>\n",
    "using namespace std;\n",
    "\n",
    "list<int> liste = list<int>();\n",
    "\n",
    "for (int i = 0; i < 20; i++ ) {\n",
    "    if ( i%2 == 0 ) {\n",
    "        liste.push_front(i);\n",
    "    } else {\n",
    "        liste.push_back(i);\n",
    "    }\n",
    "}"
   ]
  },
  {
   "cell_type": "markdown",
   "metadata": {},
   "source": [
    "<div class=\"task\">\n",
    "    <h3>Aufgabe</h3>\n",
    "    <div>\n",
    "        In welcher Reihenfolge stehen die Elemente nach dem ausführen der Zelle in der Liste? \n",
    "        Vollziehen Sie das Ganze erstmal von Hand nach, bevor sie es sich ausgeben lassen.\n",
    "    </div>\n",
    "</div>"
   ]
  },
  {
   "cell_type": "markdown",
   "metadata": {},
   "source": [
    "Wir können Listen auch als dynamische Objekte anlegen. Dann speichern wir in einer Variable den **Zeiger** auf das entsprechende Objekt."
   ]
  },
  {
   "cell_type": "code",
   "execution_count": 3,
   "metadata": {},
   "outputs": [],
   "source": [
    "#include <iostream>\n",
    "#include <list>\n",
    "using namespace std;\n",
    "\n",
    "list<int> *zeiger = new list<int>();"
   ]
  },
  {
   "cell_type": "markdown",
   "metadata": {},
   "source": [
    "Für ie Verwendung müssen wir dann den **Pfeiloperator** verwenden."
   ]
  },
  {
   "cell_type": "code",
   "execution_count": 4,
   "metadata": {},
   "outputs": [
    {
     "name": "stdout",
     "output_type": "stream",
     "text": [
      "Vorne  : 42\n",
      "Hinten : 100\n"
     ]
    }
   ],
   "source": [
    "zeiger->push_front(42);\n",
    "zeiger->push_back(100);\n",
    "\n",
    "cout << \"Vorne  : \" << zeiger->front() << endl;\n",
    "cout << \"Hinten : \" << zeiger->back() << endl;"
   ]
  },
  {
   "cell_type": "markdown",
   "metadata": {},
   "source": [
    "<div class=\"task\">\n",
    "    <h3>Aufgabe</h3>\n",
    "    <div>\n",
    "        Schreiben Sie ein Programm, dass 100 ufällige Zahlen in zwei unterschiedliche Listen einträgt.\n",
    "        Die eine soll alle geraden Zhalen enthalten, die andere alle ungeraden. Geben Sie die Liste anschließend aus.\n",
    "    </div>\n",
    "</div>"
   ]
  },
  {
   "cell_type": "code",
   "execution_count": 5,
   "metadata": {},
   "outputs": [],
   "source": [
    "// ..."
   ]
  },
  {
   "cell_type": "markdown",
   "metadata": {},
   "source": [
    "<div class=\"followup\">\n",
    "    <h3>Wo es weiter geht</h3>\n",
    "    <div>\n",
    "        Als nächstes beschäftigen wir uns damit, wie man die Elemente einer Liste \n",
    "        <a class=\"followup\" href=\"/user-redirect/algoviz/lessons/06_ADT/02_Iteration.ipynb\">durchlaufen\n",
    "        kann</div>.\n",
    "    </div>\n",
    "</div>    "
   ]
  }
 ],
 "metadata": {
  "kernelspec": {
   "display_name": "C++17",
   "language": "C++17",
   "name": "xcpp17"
  },
  "language_info": {
   "codemirror_mode": "text/x-c++src",
   "file_extension": ".cpp",
   "mimetype": "text/x-c++src",
   "name": "c++",
   "version": "17"
  }
 },
 "nbformat": 4,
 "nbformat_minor": 4
}
