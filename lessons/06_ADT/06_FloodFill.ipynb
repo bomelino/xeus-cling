{
 "cells": [
  {
   "cell_type": "markdown",
   "metadata": {},
   "source": [
    "# Der FloodFill-Algorithmus"
   ]
  },
  {
   "cell_type": "markdown",
   "metadata": {},
   "source": [
    "<div class=\"prereq\">\n",
    "    <h3>Was man wissen sollte</h3>\n",
    "    <div>\n",
    "        Wir verwenden \n",
    "        <a class=\"prereq\" href=\"/user-redirect/algoviz/lessons/06_ADT/05_Queues.ipynb\">Queues</a>\n",
    "        und bauen auf dem Beispiel <a class=\"prereq\" href=\"/user-redirect/algoviz/lessons/03_Fortgeschritten/03_MultBeispiel.ipynb\">SimplePaint</a> auf.\n",
    "    </div>\n",
    "</div>"
   ]
  },
  {
   "cell_type": "markdown",
   "metadata": {},
   "source": [
    "<div class=\"slideshow 06_ADT/05_FloodFill/slides.json\">Der FloodFill-Algorithmus</a>"
   ]
  },
  {
   "cell_type": "markdown",
   "metadata": {},
   "source": [
    "## Die Implementierung\n",
    "\n",
    "Als erstes benötigen wir wieder unser Bild, das wir bereits im Beispiel [SimplePaint](/user-redirect/algoviz/lessons/03_Fortgeschritten/03_MultBeispiel.ipynb) verwendet haben."
   ]
  },
  {
   "cell_type": "code",
   "execution_count": 1,
   "metadata": {},
   "outputs": [],
   "source": [
    "/**\n",
    " ** Das Gitter aus Rechtecken.\n",
    " **/\n",
    "#include <algoviz/SVG.hpp>\n",
    "using namespace std;\n",
    "\n",
    "AlgoViz::clear();\n",
    "\n",
    "SVG zeichnung = SVG(400,400);\n",
    "\n",
    "// Die \"Farbwerte\" der Pixel.\n",
    "// Das Bild besteht aus 40x40 Pixeln.\n",
    "int bild[40][40];\n",
    "\n",
    "// Die Rechtecke, die die Pixel darstellen.\n",
    "Rect rects[40][40];\n",
    "\n",
    "// Durchlaufe alle Pixel\n",
    "for ( int spalte = 0 ; spalte < 40; spalte = spalte+1 ) {\n",
    "    for ( int zeile = 0 ; zeile < 40; zeile = zeile+1 ) {\n",
    "        \n",
    "        // Bewege das Rechteck an die richtige Stelle\n",
    "        rects[spalte][zeile].moveTo(spalte*10,zeile*10);\n",
    "        // Setze es auf die richtige Größe\n",
    "        rects[spalte][zeile].setWidth(10);\n",
    "        rects[spalte][zeile].setHeight(10);\n",
    "    \n",
    "        // Alle Pixel solen weiß sein.\n",
    "        bild[spalte][zeile] = 0;\n",
    "        \n",
    "        // Setze die Farbe der Pixel (in diesem Beispiel eigentlich unnötig)\n",
    "        if ( bild[spalte][zeile] == 1 ) {\n",
    "            rects[spalte][zeile].setFill(\"black\");\n",
    "        } else {\n",
    "            rects[spalte][zeile].setFill(\"white\");\n",
    "        }\n",
    "\n",
    "        // Füge das Rechteck zur Zeichnung hinzu.\n",
    "        rects[spalte][zeile].addTo(&zeichnung);\n",
    "        \n",
    "    }    \n",
    "}"
   ]
  },
  {
   "cell_type": "markdown",
   "metadata": {},
   "source": [
    "Zur Erinnerung: In `bild[x][y]` wird ein `int` gespeichert, der die Farbe beschreibt. Die Farbe wird dann mittels `rects[x][y].setFill()` gesetzt."
   ]
  },
  {
   "cell_type": "markdown",
   "metadata": {},
   "source": [
    "Damit alles etwas bunter wird, verwenden wir ein Array mit verschiedenen Farben."
   ]
  },
  {
   "cell_type": "code",
   "execution_count": 2,
   "metadata": {},
   "outputs": [],
   "source": [
    "string FARBEN[8] = { \"#FFFFFF\", \n",
    "                     \"#000000\", \n",
    "                     \"#FF0000\", \n",
    "                     \"#00FF00\",\n",
    "                     \"#0000FF\",\n",
    "                     \"#FFFF00\",\n",
    "                     \"#FF00FF\",\n",
    "                     \"#00FFFF\" };"
   ]
  },
  {
   "cell_type": "markdown",
   "metadata": {},
   "source": [
    "Damit können wir jetzt eine Operation erstellen, die uns ein Pixel einfärbt. Dazu geben wir die Koordinaten des Pixels und die Farbe als Index in dem Array `FARBEN` an."
   ]
  },
  {
   "cell_type": "code",
   "execution_count": 3,
   "metadata": {},
   "outputs": [],
   "source": [
    "void setPixel(int x, int y, int color) {\n",
    "    // Falls die Koordinaten \"ungültig\" sind, tue nichts.\n",
    "    if ( (x<0) || (x>=40) || (y<0) || (y>=40)) return;\n",
    "    \n",
    "    bild[x][y] = color;\n",
    "    rects[x][y].setFill(FARBEN[color]);\n",
    "}"
   ]
  },
  {
   "cell_type": "markdown",
   "metadata": {},
   "source": [
    "Jetzt können wir die Farbe eines Pixels direkt setzen:"
   ]
  },
  {
   "cell_type": "code",
   "execution_count": 4,
   "metadata": {},
   "outputs": [],
   "source": [
    "setPixel(10,10,5);"
   ]
  },
  {
   "cell_type": "markdown",
   "metadata": {},
   "source": [
    "Implementieren wir jetzt den FloodFill-Algorithmus. Dazu benötigen wir eine Queue. Also binden wir sie ein."
   ]
  },
  {
   "cell_type": "code",
   "execution_count": 5,
   "metadata": {},
   "outputs": [],
   "source": [
    "#include \"Queue.hpp\""
   ]
  },
  {
   "cell_type": "markdown",
   "metadata": {},
   "source": [
    "In der Queue müssen wir die Kordinaten von Pixeln speichern. Da diese aus zwei `int`-Werten bestehen, wäre eine Möglichkeit, dass wir eine eigene Klasse `Pixel` verwenden, in der die beiden Werte zusammengefasst sind. Und genau das tun wir auch."
   ]
  },
  {
   "cell_type": "code",
   "execution_count": 6,
   "metadata": {},
   "outputs": [],
   "source": [
    "class Pixel {\n",
    "    public:\n",
    "        int x;\n",
    "        int y;\n",
    "    \n",
    "        Pixel(int x, int y) {\n",
    "            this->x = x;\n",
    "            this->y = y;\n",
    "        }\n",
    "}"
   ]
  },
  {
   "cell_type": "markdown",
   "metadata": {},
   "source": [
    "Die Klasse benötigt nur zwei Attribute `x` und `y`. Da wir nichts besonders damit vorhaben, machen wir beide `public` und können sie direkt verwenden.\n",
    "\n",
    "Wir können jetzt FloodFill recht einfach implementieren."
   ]
  },
  {
   "cell_type": "code",
   "execution_count": 7,
   "metadata": {},
   "outputs": [],
   "source": [
    "// Der Algorithmus erhält die Koordinaten des Startpixels \n",
    "// und die neue Farbe als Parameter\n",
    "\n",
    "void floodFillRed(int x, int y, int color) {\n",
    "\n",
    "    // Wir holen uns die alte Farbe\n",
    "    int alt = bild[x][y];\n",
    "    \n",
    "    // Wir benötigen eine Queue, die Pixel speichert.\n",
    "    Queue<Pixel> pixel;\n",
    "\n",
    "    // Das Startpixel kommt in die Queue\n",
    "    pixel.enqueue(Pixel(x,y));\n",
    "        \n",
    "    // Solange noch Pixel in der Queue sind ...\n",
    "    while ( !pixel.isEmpty() ) {\n",
    "        // Hole das Pixel aus der Queue\n",
    "        Pixel p = pixel.dequeue();\n",
    "\n",
    "        // Wenn das Pixel die richtige Farbe hat ...\n",
    "        if ( bild[p.x][p.y] == alt ) {\n",
    "            // .. färbe es in der neuen Farbe\n",
    "            setPixel(p.x,p.y,color);\n",
    "            \n",
    "            // Wenn der OBERE Nachbar gültig ist ...\n",
    "            if ( p.x-1 >= 0 ) {\n",
    "                // ... Füge ihn zur Queue hinzu\n",
    "                pixel.enqueue(Pixel(p.x-1,p.y));\n",
    "            }\n",
    "            \n",
    "            // Wenn der UNTERE Nachbar gültig ist ...\n",
    "            if ( p.x+1 < 40) {\n",
    "                // .. füge ihn zu Queue hinzu\n",
    "                pixel.enqueue(Pixel(p.x+1,p.y));\n",
    "            }\n",
    "            \n",
    "            // Wenn der LINKE Nachbar gültig ist ...\n",
    "            if ( p.y-1 >= 0 ) {\n",
    "                // ... Füge ihn zur Queue hinzu\n",
    "                pixel.enqueue(Pixel(p.x,p.y-1));\n",
    "            }\n",
    "            \n",
    "            // Wenn der RECHTE Nachbar gültig ist ...\n",
    "            if ( p.y+1 < 40) {\n",
    "                // .. füge ihn zu Queue hinzu\n",
    "                pixel.enqueue(Pixel(p.x,p.y+1));\n",
    "            }            \n",
    "        }\n",
    "    }\n",
    "}"
   ]
  },
  {
   "cell_type": "markdown",
   "metadata": {},
   "source": [
    "Jetzt können wir mal die gesamte Fläche füllen."
   ]
  },
  {
   "cell_type": "code",
   "execution_count": 8,
   "metadata": {},
   "outputs": [],
   "source": [
    "floodFillRed(19,19,3);"
   ]
  },
  {
   "cell_type": "markdown",
   "metadata": {},
   "source": []
  },
  {
   "cell_type": "markdown",
   "metadata": {},
   "source": [
    "<div class=\"task\">\n",
    "    <h3>Aufgabe</h3>\n",
    "    <div>\n",
    "        Verwenden Sie <a href=\"/user-redirect/algoviz/lessons/03_Fortgeschritten/03_MultBeispiel.ipynb\">SimplePaint</a> um mit der rechten Maustaste die Farbe des angeklickten Pixels \"eins\" weiter zu setzen und mit der rechten Maustaste Flood-Fill auf dem aktuellen Pixel mit der nächsten Farbe auszulösen.\n",
    "    </div>\n",
    "    <div>\n",
    "        <b>Hinweis:</b> Mit `MouseState::buttons()` können Sie herausfinden, welcher Mausknopf gedrückt wurde.\n",
    "    </div>\n",
    "</div>"
   ]
  },
  {
   "cell_type": "code",
   "execution_count": 2,
   "metadata": {},
   "outputs": [
    {
     "name": "stdout",
     "output_type": "stream",
     "text": [
      "Links\n",
      "Links\n",
      "Rechts\n",
      "Rechts\n",
      "Rechts\n",
      "Links\n",
      "Links\n",
      "Links\n",
      "Links\n",
      "Rechts\n",
      "Rechts\n",
      "Links\n"
     ]
    }
   ],
   "source": [
    "string taste = \"\";\n",
    "MouseState maus;\n",
    "\n",
    "while ( taste == \"\" ) {\n",
    "    taste = zeichnung.lastKey();\n",
    "    \n",
    "    maus = zeichnung.lastClick();\n",
    "    \n",
    "    if ( maus.buttons() == 0 ) {\n",
    "        cout << \"Links\" << endl;\n",
    "    }\n",
    "    \n",
    "    if ( maus.buttons() == 2 ) {\n",
    "        cout << \"Rechts\" << endl;\n",
    "    }\n",
    "\n",
    "}"
   ]
  },
  {
   "cell_type": "markdown",
   "metadata": {},
   "source": [
    "<div class=\"followup\">\n",
    "    <h3>Wo es weiter geht</h3>\n",
    "        <div>\n",
    "            Die nächste Datenstruktur mir der wir uns beschäftigen sind\n",
    "            <a class=\"followup\" href=\"/user-redirect/algoviz/lessons/06_ADT/07_Stacks.ipynb\">Stacks</a>.\n",
    "    </div>\n",
    "</div>    "
   ]
  }
 ],
 "metadata": {
  "kernelspec": {
   "display_name": "C++17",
   "language": "C++17",
   "name": "xcpp17"
  },
  "language_info": {
   "codemirror_mode": "text/x-c++src",
   "file_extension": ".cpp",
   "mimetype": "text/x-c++src",
   "name": "c++",
   "version": "17"
  }
 },
 "nbformat": 4,
 "nbformat_minor": 4
}
