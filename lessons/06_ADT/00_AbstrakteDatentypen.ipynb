{
 "cells": [
  {
   "cell_type": "markdown",
   "metadata": {},
   "source": [
    "# Abstrakte Datentypen"
   ]
  },
  {
   "cell_type": "markdown",
   "metadata": {},
   "source": [
    "<div class=\"prereq\">\n",
    "    <h3>Was man wissen sollte</h3>\n",
    "    <div>        \n",
    "        Wir kennen schon ein paar Abstrakte Datentypen, z.B.\n",
    "            <a class=\"prereq\" href=\"/user-redirect/algoviz/lessons/03_Fortgeschritten/00_Arrays.ipynb\">Arrays</a>\n",
    "        und <a class=\"prereq\" href=\"/user-redirect/algoviz/lessons/03_Fortgeschritten/04_Vektoren.ipynb\">Vektoren</a>\n",
    "    </div>\n",
    "</div>"
   ]
  },
  {
   "cell_type": "markdown",
   "metadata": {},
   "source": [
    "<div class=\"slideshow 06_ADT/00_AbstrakteDatentypen/slides.json\">Abstrakte Datentypen</a>"
   ]
  },
  {
   "cell_type": "markdown",
   "metadata": {},
   "source": [
    "<div class=\"task\">\n",
    "    <h3>Aufgabe</h3>\n",
    "    <div>\n",
    "        Gehen Sie zum <a href=\"https://xlinux.nist.gov/dads/HTML/array.html\">Dictionary for Algorithms \n",
    "        and Data Structures</a> und suchen Sie die Einträge für <em>array</em> und <em>heap</em>.                 </div>\n",
    "</div>"
   ]
  },
  {
   "cell_type": "markdown",
   "metadata": {},
   "source": [
    "<div class=\"followup\">\n",
    "    <h3>Wo es weiter geht</h3>\n",
    "      <div>\n",
    "            Die <a class=\"followup\" href=\"/user-redirect/algoviz/lessons/06_ADT/01_Liste.ipynb\">Liste</a> ist die erste Datenstruktur, die wir genauer untersuchen werden.            \n",
    "    </div>\n",
    "</div>    "
   ]
  }
 ],
 "metadata": {
  "kernelspec": {
   "display_name": "C++17",
   "language": "C++17",
   "name": "xcpp17"
  },
  "language_info": {
   "codemirror_mode": "text/x-c++src",
   "file_extension": ".cpp",
   "mimetype": "text/x-c++src",
   "name": "c++",
   "version": "17"
  }
 },
 "nbformat": 4,
 "nbformat_minor": 4
}
