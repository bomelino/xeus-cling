{
 "cells": [
  {
   "cell_type": "markdown",
   "metadata": {},
   "source": [
    "# Beispiel: Sortiertes Einfügen"
   ]
  },
  {
   "cell_type": "markdown",
   "metadata": {},
   "source": [
    "<div class=\"prereq\">\n",
    "    <h3>Was man wissen sollte</h3>\n",
    "    <div>\n",
    "        Wirt benötigen das <a class=\"prereq\" href=\"/user-redirect/algoviz/lessons/06_ADT/03_EinfuegenLoeschen.ipynb\">Einfügen in Listen</a>.\n",
    "    </div>\n",
    "</div>"
   ]
  },
  {
   "cell_type": "markdown",
   "metadata": {},
   "source": [
    "In dieser Lesson beschäftigen wir uns mit einem Klassiker der Verwendung von Listen: **Dem Sortierten Einfügen**.\n",
    "Dabei haben haben eine bereits (ausfsteigend) sortierte Liste gegeben und wollen ein neues Element an der **richtigen** Stelle einfügen.\n",
    "\n",
    "Die Idee des Vorgehens ist recht offensichtlich. Finde mit Hilfe eines Operators das erste Element der Liste, das größer als das neue Element ist und füge es dann **davor** ein. Damit haben wir schon unseren Algorithmus.\n",
    "\n",
    "Um das PRoblem anzugehen benötigen wir als erstes eine sortierte Liste, in die wir einfügen können. Wir füllen also als eine Liste, bei der die Werte aufsteigend sortiert sind. Dabei wird der nächste Wert der eingefügt wird zwischen 0 und 19 größer sein, als der vorherige. Dazu führen wir eine Variable `wert` mit, die wir vor jedem Einfügen um eine zufällige Zahl zwischen 0 und 19 erhöhen:\n",
    "    `wert = wert + (rand() % 20);`"
   ]
  },
  {
   "cell_type": "code",
   "execution_count": 1,
   "metadata": {},
   "outputs": [
    {
     "name": "stdout",
     "output_type": "stream",
     "text": [
      "8 21 30 40 59 68 87 91 110 124 127 144 155 163 165 177 186 189 198 202 "
     ]
    }
   ],
   "source": [
    "#include <iostream>\n",
    "#include <list>\n",
    "\n",
    "using namespace std;\n",
    "srand(time(NULL));\n",
    "\n",
    "list<int> liste;\n",
    "\n",
    "int wert = 0;\n",
    "\n",
    "for ( int zaehler = 0; zaehler < 20; zaehler++ ) {\n",
    "    \n",
    "    // Wähle den nächsten Wert zwischen wert und wert+19\n",
    "    wert = wert + (rand() % 20);\n",
    "    \n",
    "    liste.push_back(wert);\n",
    "}\n",
    "\n",
    "// Mal sehen, ob die Liste sortiert ist\n",
    "for ( int wert : liste ) {\n",
    "    cout << wert << \" \";\n",
    "}"
   ]
  },
  {
   "cell_type": "markdown",
   "metadata": {},
   "source": [
    "Jetzt haben wir unsere sortierte Liste in die wir einfügen wollen. Dazu erzeugen wir einen Iterator und lassen ihn schrittweise über die Liste laufen, bis wir einen Wert finden, der größer als der einzufügende ist. Da wir eine **Laufbedingung** benötigen, müssen wir prüfen, ob der aktuelle Wert kleiner oder gleich dem neuen Wert ist und den Iterator gegebenenfalls weitersetzen."
   ]
  },
  {
   "cell_type": "code",
   "execution_count": 5,
   "metadata": {},
   "outputs": [],
   "source": [
    "int neu = 84;\n",
    "\n",
    "// Unser Iterator\n",
    "auto pos = liste.begin();\n",
    "\n",
    "while (*pos <= neu ) {\n",
    "    pos++;\n",
    "}\n",
    "\n",
    "// Jetzt ist unser Iterator am richtigen Platz.\n",
    "liste.insert(pos,neu);"
   ]
  },
  {
   "cell_type": "markdown",
   "metadata": {},
   "source": [
    "Dann schauen wir mal nach."
   ]
  },
  {
   "cell_type": "code",
   "execution_count": 6,
   "metadata": {},
   "outputs": [
    {
     "name": "stdout",
     "output_type": "stream",
     "text": [
      "6 12 14 28 36 39 45 50 51 69 73 75 77 82 84 86 94 98 101 103 115 "
     ]
    }
   ],
   "source": [
    "for ( int wert : liste ) {\n",
    "    cout << wert << \" \";\n",
    "}"
   ]
  },
  {
   "cell_type": "markdown",
   "metadata": {},
   "source": [
    "Was passiert, wenn wir einen Wert einfügen wollen, der größer als der größte Wert ist? Probieren wir es aus."
   ]
  },
  {
   "cell_type": "code",
   "execution_count": null,
   "metadata": {},
   "outputs": [],
   "source": [
    "// Der Wert 500 ist auf jeden Fall größer als der größte Wert.\n",
    "neu = 500;\n",
    "\n",
    "// Unser Iterator\n",
    "auto pos = liste.begin();\n",
    "\n",
    "while (*pos <= neu ) {\n",
    "    pos++;\n",
    "}\n",
    "\n",
    "// Jetzt ist unser Iterator am richtigen Platz.\n",
    "liste.insert(pos,neu);"
   ]
  },
  {
   "cell_type": "markdown",
   "metadata": {},
   "source": [
    "Wenn Sie die Zelle ausführen, kann das Ganze in eine Endlosschleife geraten. Das liegt daran, dass wir bis zum Ende laufen aber keinen Wert finden der größer ist. Also setzen wir den Iterator weiter und beginnen wieder am Anfang.\n",
    "Also müssen wir eine Kontrolle einbauen, ob das Ende erreicht wurde. Wenn das der Fall ist, fügen wir unseren neuen Wert einfach **vor** dem Ende ein.\n",
    "\n",
    "Um diese Idee umzusetzen prüfen wir in der Laufbedingung der Schleife zusätzlich, ob das Ende schon erreicht wurde (d.h. wir stellen sicher, dass wir es noch nicht erreicht haben). Also machen wir weiter, wenn der aktuelle Wert kleiner oder gleich dem neuen Wert ist UND wir noch nicht das Ende erreicht haben:\n",
    "`((*pos <= neu) && ( pos != liste.end() ))`"
   ]
  },
  {
   "cell_type": "code",
   "execution_count": 2,
   "metadata": {},
   "outputs": [],
   "source": [
    "// ACHTUNG! Vor dieser Zelle müssen sie nochmal die erste Zelle ausführen!\n",
    "\n",
    "// Der Wert 500 ist auf jeden Fall größer als der größte Wert.\n",
    "int neu = 500;\n",
    "\n",
    "// Unser Iterator\n",
    "auto pos = liste.begin();\n",
    "\n",
    "// Die zusätzliche Prüfung aufs Ende\n",
    "while ((*pos <= neu) && ( pos != liste.end() )) {\n",
    "    pos++;\n",
    "}\n",
    "\n",
    "// Jetzt ist unser Iterator am richtigen Platz.\n",
    "liste.insert(pos,neu);"
   ]
  },
  {
   "cell_type": "markdown",
   "metadata": {},
   "source": [
    "Diesmal hat die Ausführung der Zell ein Ende. Sehen wir nach."
   ]
  },
  {
   "cell_type": "code",
   "execution_count": 4,
   "metadata": {},
   "outputs": [
    {
     "name": "stdout",
     "output_type": "stream",
     "text": [
      "8 21 30 40 59 68 87 91 110 124 127 144 155 163 165 177 186 189 198 202 500 "
     ]
    }
   ],
   "source": [
    "for ( int wert : liste ) {\n",
    "    cout << wert << \" \";\n",
    "}"
   ]
  },
  {
   "cell_type": "markdown",
   "metadata": {},
   "source": [
    "Damit haben wir das sortierte Einfügen fertig."
   ]
  },
  {
   "cell_type": "markdown",
   "metadata": {},
   "source": [
    "<div class=\"task\">\n",
    "    <h3>Aufgabe</h3>\n",
    "    <div>\n",
    "        Implementieren Sie eine Operation `sortedInsert()`, die eine int-Liste (als Referenz) erhält und einen\n",
    "        neuen int-Wert, und diesen sortiert einfügt.\n",
    "    </div>\n",
    "    <div>\n",
    "        Nutzen Sie diese Operation, um aus einer gegebenen Liste eine sortierte Liste zu machen (Dabei dürfen sie\n",
    "        die gegebene Liste leeren und eine neue Liste anlegen).\n",
    "    </div>\n",
    "</div>"
   ]
  },
  {
   "cell_type": "markdown",
   "metadata": {},
   "source": [
    "<div class=\"followup\">\n",
    "    <h3>Wo es weiter geht</h3>\n",
    "        <div>\n",
    "            ADTs, die mit der Liste verwandt sind, sind die \n",
    "            <a class=\"followup\" href=\"/user-redirect/algoviz/lessons/06_ADT/05_Queues.ipynb\">Queues</a>\n",
    "            und <a class=\"followup\" href=\"/user-redirect/algoviz/lessons/06_ADT/07_Stacks.ipynb\">Stacks</a>.\n",
    "    </div>\n",
    "</div>    "
   ]
  }
 ],
 "metadata": {
  "kernelspec": {
   "display_name": "C++17",
   "language": "C++17",
   "name": "xcpp17"
  },
  "language_info": {
   "codemirror_mode": "text/x-c++src",
   "file_extension": ".cpp",
   "mimetype": "text/x-c++src",
   "name": "c++",
   "version": "17"
  }
 },
 "nbformat": 4,
 "nbformat_minor": 4
}
