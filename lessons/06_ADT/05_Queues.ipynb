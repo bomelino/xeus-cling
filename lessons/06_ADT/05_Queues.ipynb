{
 "cells": [
  {
   "cell_type": "markdown",
   "metadata": {},
   "source": [
    "# Queues"
   ]
  },
  {
   "cell_type": "markdown",
   "metadata": {},
   "source": [
    "<div class=\"prereq\">\n",
    "    <h3>Was man wissen sollte</h3>\n",
    "    <div>\n",
    "        Queues sind im Grunde eine spezielle Form der \n",
    "        <a class=\"prereq\" href=\"/user-redirect/algoviz/lessons/06_ADT/01_Liste.ipynb\">Liste</a>\n",
    "    </div>\n",
    "</div>"
   ]
  },
  {
   "cell_type": "markdown",
   "metadata": {},
   "source": [
    "<div class=\"slideshow 06_ADT/04_Queues/slides.json\">Queues</a>"
   ]
  },
  {
   "cell_type": "markdown",
   "metadata": {},
   "source": [
    "## Die Implementierung\n",
    "\n",
    "Wie bereits in der Slideshow erwähnt, kann eine Queue im Grunde wie eine Liste implementiert werden. Daher werden wir das auch genauso tun und im Folgenden eine Queue für `int`-Werte mit Hilfe einer Liste implementieren. Wir beginnen mit der Deklaration der Klasse."
   ]
  },
  {
   "cell_type": "code",
   "execution_count": 2,
   "metadata": {},
   "outputs": [],
   "source": [
    "#include <list>\n",
    "using namespace std;\n",
    "\n",
    "class IntQueue {\n",
    "    \n",
    "    private:\n",
    "        list<int> liste;   // Die Liste, die wir verwenden.\n",
    "    \n",
    "    public:\n",
    "        // Die Methoden\n",
    "        IntQueue();           // Der Konstruktor\n",
    "        bool isEmpty();   \n",
    "        int peek();\n",
    "        void enqueue(int value);\n",
    "        int dequeue();\n",
    "}"
   ]
  },
  {
   "cell_type": "markdown",
   "metadata": {},
   "source": [
    "Beginnen wir mit dem Konstruktor. Er muss eigentlich gar nichts machen. Bei der Erzeugung wird automatisch eine Liste als Attribut erzeugt."
   ]
  },
  {
   "cell_type": "code",
   "execution_count": 3,
   "metadata": {},
   "outputs": [],
   "source": [
    "IntQueue::IntQueue() {}"
   ]
  },
  {
   "cell_type": "markdown",
   "metadata": {},
   "source": [
    "Als nächstes ist `isEmpty()` an der Reihe. Es verwendet einfach `empty()` der intern genutzten Liste."
   ]
  },
  {
   "cell_type": "code",
   "execution_count": 4,
   "metadata": {},
   "outputs": [],
   "source": [
    "bool IntQueue::isEmpty() {\n",
    "    return liste.empty();\n",
    "}"
   ]
  },
  {
   "cell_type": "markdown",
   "metadata": {},
   "source": [
    "`peek()` gibt einfach das erste Element der liste zurück."
   ]
  },
  {
   "cell_type": "code",
   "execution_count": 5,
   "metadata": {},
   "outputs": [],
   "source": [
    "int IntQueue::peek() {\n",
    "    return liste.front();\n",
    "}"
   ]
  },
  {
   "cell_type": "markdown",
   "metadata": {},
   "source": [
    "`enqueue()` fügt das neue Element **hinten** an. Also verwendet es `push_back()`."
   ]
  },
  {
   "cell_type": "code",
   "execution_count": 6,
   "metadata": {},
   "outputs": [],
   "source": [
    "void IntQueue::enqueue(int value) {\n",
    "    liste.push_back(value);\n",
    "}"
   ]
  },
  {
   "cell_type": "markdown",
   "metadata": {},
   "source": [
    "Und `dequeue()` löscht das erste Element und gib es zurück."
   ]
  },
  {
   "cell_type": "code",
   "execution_count": 7,
   "metadata": {},
   "outputs": [],
   "source": [
    "int IntQueue::dequeue() {\n",
    "    int val = liste.front();\n",
    "    liste.pop_front();\n",
    "    return val;\n",
    "}"
   ]
  },
  {
   "cell_type": "markdown",
   "metadata": {},
   "source": [
    "Wie man sieht ist die Implementierung recht einfach, wenn man einfach die einer Liste verwendet. Tatsächlich ist eine **Queue** nur eine Art Liste mit eingeschränkter Funktion. Zu der Einschränkung gehört dabei nicht nur, dass man nur vorne Löschen und hinten hinzufügen kann, sondern auch, dass man die Liste **nicht iterieren** kann. D.h. man hat **keinen** Zugriff auf die Element in der Liste. Tatsächlich kann man nur das erste Element \"sehen\"."
   ]
  },
  {
   "cell_type": "markdown",
   "metadata": {},
   "source": [
    "Auf den ersten Blick erscheint es daher sinnlos eine Queue als etwas anderes als eine Liste zu implementieren oder auch nur sie in Algorithmen zu verwenden. Allerdings gibt es für Queues auch noch andere Implementierungen, die weniger Speicher verwenden. Als erste einfache Idee in dieser Hinsicht könnte man sich z.B. die ganzen Zeiger auf die **Vorgänger** sparen. Man benötigt eigentlich nur die Zeiger auf die Nachfolger. Das würde den für die Verlinkung benötigten Speicher schonmal halbieren.\n",
    "\n",
    "Außerdem kann man auf die Klasse des Iterators verzichten. Auch das führt zu einer einfacheren Implementierung."
   ]
  },
  {
   "cell_type": "markdown",
   "metadata": {},
   "source": [
    "In [Queue.hpp](/user-redirect/algoviz/lessons/06_ADT/Queue.hpp) steht eine Implementierung zur Verfügung, die mit beliebigen Typen genutzt werden kann."
   ]
  },
  {
   "cell_type": "code",
   "execution_count": 1,
   "metadata": {},
   "outputs": [],
   "source": [
    "#include <iostream>\n",
    "#include \"Queue.hpp\"\n",
    "\n",
    "using namespace std;\n",
    "\n",
    "// Deklaration einer Queue\n",
    "Queue<double> queue;  // Eine Queue, die doubles speichert\n",
    "\n",
    "// Befüllen der Queue\n",
    "for ( int i = 0; i < 10; i++ ) {\n",
    "    queue.enqueue( 0.1 * i*i );\n",
    "}"
   ]
  },
  {
   "cell_type": "markdown",
   "metadata": {},
   "source": [
    "Jetzt können wir alle Elemente wieder aus der Queue herausholen:"
   ]
  },
  {
   "cell_type": "code",
   "execution_count": 3,
   "metadata": {},
   "outputs": [
    {
     "name": "stdout",
     "output_type": "stream",
     "text": [
      "0 0.1 0.4 0.9 1.6 2.5 3.6 4.9 6.4 8.1 "
     ]
    }
   ],
   "source": [
    "while ( !queue.isEmpty() ) {\n",
    "    cout << queue.dequeue() << \" \";\n",
    "}"
   ]
  },
  {
   "cell_type": "markdown",
   "metadata": {},
   "source": [
    "An dieser Stelle ist es wichtig, dass auf die Element der Queue nur zugreifen können, indem wir sie entnehmen. Dadurch wird die Queue geleert!"
   ]
  },
  {
   "cell_type": "markdown",
   "metadata": {},
   "source": [
    "<div class=\"followup\">\n",
    "    <h3>Wo es weiter geht</h3>\n",
    "        <div>\n",
    "            Der \n",
    "            <a class=\"followup\" href=\"/user-redirect/algoviz/lessons/06_ADT/06_FloodFill.ipynb\">\n",
    "            FloodFill-Algorithmus</a> ist ein Algorithmus, der eine Queue verwendet. Und\n",
    "            <a class=\"followup\" href=\"/user-redirect/algoviz/lessons/06_ADT/07_Stacks.ipynb\">Stacks</a>\n",
    "            sind eine mit den Queues verwandte Datenstruktur.\n",
    "    </div>\n",
    "</div>    "
   ]
  }
 ],
 "metadata": {
  "kernelspec": {
   "display_name": "C++17",
   "language": "C++17",
   "name": "xcpp17"
  },
  "language_info": {
   "codemirror_mode": "text/x-c++src",
   "file_extension": ".cpp",
   "mimetype": "text/x-c++src",
   "name": "c++",
   "version": "17"
  }
 },
 "nbformat": 4,
 "nbformat_minor": 4
}
