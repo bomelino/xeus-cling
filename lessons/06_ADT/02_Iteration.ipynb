{
 "cells": [
  {
   "cell_type": "markdown",
   "metadata": {},
   "source": [
    "# Iteration über eine Liste"
   ]
  },
  {
   "cell_type": "markdown",
   "metadata": {},
   "source": [
    "<div class=\"prereq\">\n",
    "    <h3>Was man wissen sollte</h3>\n",
    "    <div>\n",
    "        Um über eine Liste iterieren zu können , benötigen wir eine \n",
    "        <a class=\"prereq\" href=\"/user-redirect/algoviz/lessons/06_ADT/01_Liste.ipynb\">Liste</a>.\n",
    "    </div>\n",
    "</div>"
   ]
  },
  {
   "cell_type": "markdown",
   "metadata": {},
   "source": [
    "<div class=\"slideshow 06_ADT/02_Iteration/slides.json\">Die Iteration über eine Liste</a>"
   ]
  },
  {
   "cell_type": "markdown",
   "metadata": {},
   "source": [
    "Für unsere Experimente benötigen wir eine Liste."
   ]
  },
  {
   "cell_type": "code",
   "execution_count": 1,
   "metadata": {},
   "outputs": [],
   "source": [
    "#include <iostream>\n",
    "#include <list>\n",
    "using namespace std;"
   ]
  },
  {
   "cell_type": "code",
   "execution_count": 2,
   "metadata": {},
   "outputs": [],
   "source": [
    "list<int> liste = list<int>();\n",
    "\n",
    "for ( int i = 0; i < 20; i++ ) {\n",
    "    liste.push_back(i);\n",
    "}"
   ]
  },
  {
   "cell_type": "markdown",
   "metadata": {},
   "source": [
    "Die Iteration erfolgt im Grunde genauso, wie wir das bereits für Vektoren gesehen haben. Und statt der in der Slideshow vorgestellten Operationen verwendet C++ die Inkrement- und Dekrement-Operatoren `++` und `--`. Insgesamt ergeben sich die folgenden Ersetzungen:\n",
    "\n",
    "- `it.toFirst()` wird zu `it = list.begin()`\n",
    "- `it.toLast()` wird zu `it = list.end()`\n",
    "- `it.toNext()` entspricht `it++`\n",
    "- `it.toPrev()` entspricht `it--`\n",
    "- `it.hasNext() == false` entspricht in etwa `it == list.begin()`\n",
    "- `it.hasPrev() == false` entspricht in etwa `it == list.end()`\n",
    "- `it.getData()`entspricht `*it` (Dereferenzierung)\n",
    "\n",
    "Damit können wir die Liste jetzt iterieren."
   ]
  },
  {
   "cell_type": "code",
   "execution_count": 3,
   "metadata": {},
   "outputs": [
    {
     "name": "stdout",
     "output_type": "stream",
     "text": [
      "0 1 2 3 4 5 6 7 8 9 10 11 12 13 14 15 16 17 18 19 "
     ]
    }
   ],
   "source": [
    "list<int>::iterator it = liste.begin();  // Der Typ kann auch durch auto ersetzt werden\n",
    "\n",
    "while ( it != liste.end() ) {\n",
    "    cout << *it << \" \";\n",
    "    it++;\n",
    "}"
   ]
  },
  {
   "cell_type": "markdown",
   "metadata": {},
   "source": [
    "Oder auch rückwärts:"
   ]
  },
  {
   "cell_type": "code",
   "execution_count": 4,
   "metadata": {},
   "outputs": [
    {
     "name": "stdout",
     "output_type": "stream",
     "text": [
      "20 19 18 17 16 15 14 13 12 11 10 9 8 7 6 5 4 3 2 1 "
     ]
    }
   ],
   "source": [
    "list<int>::iterator it = liste.end();  // Der Typ kann auch durch auto ersetzt werden\n",
    "\n",
    "while ( it != liste.begin() ) {\n",
    "    cout << *it << \" \";\n",
    "    it--;\n",
    "}"
   ]
  },
  {
   "cell_type": "markdown",
   "metadata": {},
   "source": [
    "Wie bei Vektoren kann man die Iteration in C++ auch mit einer For-Schleife durchführen."
   ]
  },
  {
   "cell_type": "code",
   "execution_count": 5,
   "metadata": {},
   "outputs": [
    {
     "name": "stdout",
     "output_type": "stream",
     "text": [
      "0 1 2 3 4 5 6 7 8 9 10 11 12 13 14 15 16 17 18 19 "
     ]
    }
   ],
   "source": [
    "for ( int i : liste ) {\n",
    "    cout << i << \" \";\n",
    "}"
   ]
  },
  {
   "cell_type": "markdown",
   "metadata": {},
   "source": [
    "## Ein Beispiel - Die Maximumsuche\n",
    "\n",
    "Wir können die Iteration genauso nutzen, wie den Durchlauf von Arrays. Z.B. um das Maximum in einer\n",
    "Liste von zufälligen Zahlen zu finden."
   ]
  },
  {
   "cell_type": "code",
   "execution_count": 10,
   "metadata": {},
   "outputs": [
    {
     "name": "stdout",
     "output_type": "stream",
     "text": [
      "2136750745\n"
     ]
    }
   ],
   "source": [
    "#include <iostream>\n",
    "#include <list>\n",
    "using namespace std;\n",
    "\n",
    "list<int> liste = list<int>();\n",
    "\n",
    "srand(time(NULL));\n",
    "\n",
    "// Wir befüllen die Liste mit zufälligen Zahlen.\n",
    "for ( int i = 0 ; i < 100 ; i++ ) {\n",
    "    liste.push_back(rand());\n",
    "}\n",
    "\n",
    "\n",
    "// Hier beginnt die Maximumsuche\n",
    "\n",
    "// Hole das erste Element\n",
    "int max = liste.front();\n",
    "\n",
    "for ( int i : liste ) {\n",
    "    if ( i > max ) {\n",
    "        max = i;\n",
    "    }\n",
    "}\n",
    "\n",
    "// Und das Ergebnis ...\n",
    "cout << max << endl;"
   ]
  },
  {
   "cell_type": "markdown",
   "metadata": {},
   "source": [
    "## [Alles hat ein Ende ...](https://www.youtube.com/watch?v=a4JSE32fuOc)\n",
    "\n",
    "In diesem Abschnitt werfen wir einen Blick auf die konkreten Iteratoren, die die Klasse `list` in C++ zur Verfügung stellt. Speziell geht es um die Enden der Liste, die einige Besonderheiten aufweisen. Und diese technischen Details müssen unter Umständen in Programmen berücksichtigt werden.\n",
    "\n",
    "Was passiert eigentlich, wenn man den Iterator, den beim Aufruf von `liste.end()` erhält? Probieren wir es aus. Erstmal bereiten wir eine Liste vor."
   ]
  },
  {
   "cell_type": "code",
   "execution_count": 11,
   "metadata": {},
   "outputs": [],
   "source": [
    "#include <iostream>\n",
    "#include <list>\n",
    "using namespace std;\n",
    "\n",
    "list<int> liste = list<int>();\n",
    "\n",
    "srand(time(NULL));\n",
    "\n",
    "// Wir befüllen die Liste mit zufälligen Zahlen.\n",
    "for ( int i = 0 ; i < 10 ; i++ ) {\n",
    "    liste.push_back(i);\n",
    "}"
   ]
  },
  {
   "cell_type": "markdown",
   "metadata": {},
   "source": [
    "Jetzt holen wir uns das \"Ende\"."
   ]
  },
  {
   "cell_type": "code",
   "execution_count": 17,
   "metadata": {},
   "outputs": [],
   "source": [
    "auto it = liste.end();"
   ]
  },
  {
   "cell_type": "markdown",
   "metadata": {},
   "source": [
    "Als ersets schauen wir nach, auf welchen Wert der Iterator verweist."
   ]
  },
  {
   "cell_type": "code",
   "execution_count": 18,
   "metadata": {},
   "outputs": [
    {
     "data": {
      "text/plain": [
       "10"
      ]
     },
     "execution_count": 18,
     "metadata": {},
     "output_type": "execute_result"
    }
   ],
   "source": [
    "*it"
   ]
  },
  {
   "cell_type": "markdown",
   "metadata": {},
   "source": [
    "In der Regel sollte jetzt ein Wert erscheinen, der **nicht** zwischen 0 und 9 liegt (durch Zufall kann es zwar einer der Werte sein, aber das wäre wirklich ein ziemlicher Zufall). Tatsächlich zeigt der Iterator zur Zeit auf kein gültiges Element. Daher ist nicht garantiert, welkchen Wert der Zugriff ergibt.\n",
    "\n",
    "Aber wenn wir einen Schritt zurück gehen, dann sollten wir beim letzten definierten Element, also der 9, ankommen."
   ]
  },
  {
   "cell_type": "code",
   "execution_count": 19,
   "metadata": {},
   "outputs": [
    {
     "data": {
      "text/plain": [
       "9"
      ]
     },
     "execution_count": 19,
     "metadata": {},
     "output_type": "execute_result"
    }
   ],
   "source": [
    "it--;\n",
    "\n",
    "*it"
   ]
  },
  {
   "cell_type": "markdown",
   "metadata": {},
   "source": [
    "Das passt. Was geschieht jetzt aber, wenn wir wieder einen Schritt vorgehen."
   ]
  },
  {
   "cell_type": "code",
   "execution_count": 20,
   "metadata": {},
   "outputs": [
    {
     "data": {
      "text/plain": [
       "10"
      ]
     },
     "execution_count": 20,
     "metadata": {},
     "output_type": "execute_result"
    }
   ],
   "source": [
    "it++;\n",
    "*it"
   ]
  },
  {
   "cell_type": "markdown",
   "metadata": {},
   "source": [
    "Wie es scheint sind wir wieder beim **undefinierten** Ende. Und was passiert, wenn wir noch einen Schritt vorgehen?"
   ]
  },
  {
   "cell_type": "code",
   "execution_count": 21,
   "metadata": {},
   "outputs": [
    {
     "data": {
      "text/plain": [
       "0"
      ]
     },
     "execution_count": 21,
     "metadata": {},
     "output_type": "execute_result"
    }
   ],
   "source": [
    "it++;\n",
    "*it"
   ]
  },
  {
   "cell_type": "markdown",
   "metadata": {},
   "source": [
    "Wir scheinen wieder vorne angekommen zu sein. Machen wir das nochmal."
   ]
  },
  {
   "cell_type": "code",
   "execution_count": 22,
   "metadata": {},
   "outputs": [
    {
     "data": {
      "text/plain": [
       "1"
      ]
     },
     "execution_count": 22,
     "metadata": {},
     "output_type": "execute_result"
    }
   ],
   "source": [
    "it++;\n",
    "*it"
   ]
  },
  {
   "cell_type": "markdown",
   "metadata": {},
   "source": [
    "Die 1, wie erwartet. D.h. wenn wir `end()` erreicht haben und den Iterator weitersetzen, dann kommen wir wieder beim ersten Element an. Wir laufen also im Kreis.\n",
    "\n",
    "Probieren wir aus, ob das auch mit `front()` und rückwärts laufen funktioniert."
   ]
  },
  {
   "cell_type": "code",
   "execution_count": 24,
   "metadata": {},
   "outputs": [
    {
     "data": {
      "text/plain": [
       "10"
      ]
     },
     "execution_count": 24,
     "metadata": {},
     "output_type": "execute_result"
    }
   ],
   "source": [
    "it = liste.begin();\n",
    "it--;\n",
    "*it"
   ]
  },
  {
   "cell_type": "markdown",
   "metadata": {},
   "source": [
    "Der gleiche Wert, wie vorhin. Und noch einen Schritt."
   ]
  },
  {
   "cell_type": "code",
   "execution_count": 26,
   "metadata": {},
   "outputs": [
    {
     "data": {
      "text/plain": [
       "9"
      ]
     },
     "execution_count": 26,
     "metadata": {},
     "output_type": "execute_result"
    }
   ],
   "source": [
    "it--;\n",
    "*it"
   ]
  },
  {
   "cell_type": "markdown",
   "metadata": {},
   "source": [
    "**Merke: Die Liste in C++ hat nur ein Ende!** Man erreicht es, wenn man mit einem Iterator über das letzte Element hinausläuft, oder vom ersten Element rückwärts geht. Läuft man über das Ende hinaus, kommt man am anderen Ende der Liste an."
   ]
  },
  {
   "cell_type": "markdown",
   "metadata": {},
   "source": [
    "<div class=\"followup\">\n",
    "    <h3>Wo es weiter geht</h3>\n",
    "        <div>\n",
    "            Mit Hilfe der Iteratoren kann man Positionen in einer Liste beschreiben. Das ermöglicht auch\n",
    "            das\n",
    "            <a class=\"followup\" href=\"/user-redirect/algoviz/lessons/06_ADT/03_EinfuegenLoeschen.ipynb\">Einfügen und Löschen</a> von Elementen.\n",
    "    </div>\n",
    "</div>    "
   ]
  }
 ],
 "metadata": {
  "kernelspec": {
   "display_name": "C++17",
   "language": "C++17",
   "name": "xcpp17"
  },
  "language_info": {
   "codemirror_mode": "text/x-c++src",
   "file_extension": ".cpp",
   "mimetype": "text/x-c++src",
   "name": "c++",
   "version": "17"
  }
 },
 "nbformat": 4,
 "nbformat_minor": 4
}
