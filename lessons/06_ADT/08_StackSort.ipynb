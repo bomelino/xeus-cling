{
 "cells": [
  {
   "cell_type": "markdown",
   "metadata": {},
   "source": [
    "# Sortieren mit Stacks"
   ]
  },
  {
   "cell_type": "markdown",
   "metadata": {},
   "source": [
    "<div class=\"prereq\">\n",
    "    <h3>Was man wissen sollte</h3>\n",
    "    <div>\n",
    "        Natürlich benötigen wir <a class=\"prereq\" href=\"/user-redirect/algoviz/lessons/06_ADT/07_Stacks.ipynb\">Stacks</a>.\n",
    "    </div>\n",
    "</div>"
   ]
  },
  {
   "cell_type": "markdown",
   "metadata": {},
   "source": [
    "<div class=\"slideshow 06_ADT/07_StackSort/slides.json\">Sortieren mit Stacks</a>"
   ]
  },
  {
   "cell_type": "markdown",
   "metadata": {},
   "source": [
    "## Die Implementierung\n",
    "\n",
    "Im Grunde haben wir die Implementierung bereits gesehen. Also probieren wir sie hier nocheinmal konkret aus.\n",
    "\n",
    "Als erste benötigen wir eine unsortierte Queue."
   ]
  },
  {
   "cell_type": "code",
   "execution_count": 1,
   "metadata": {},
   "outputs": [
    {
     "name": "stdout",
     "output_type": "stream",
     "text": [
      "Unsortiert: 27 3 57 37 41 48 50 99 89 18 87 30 44 69 5 11 11 46 68 70 \n"
     ]
    }
   ],
   "source": [
    "#include <iostream>\n",
    "#include \"Queue.hpp\"\n",
    "#include \"Stack.hpp\"\n",
    "\n",
    "using namespace std;\n",
    "\n",
    "srand(time(NULL));\n",
    "\n",
    "int wert = 0;\n",
    "\n",
    "Queue<int> zug;\n",
    "\n",
    "cout << \"Unsortiert: \";\n",
    "\n",
    "for ( int i = 0; i <20; i++ ) {\n",
    "    // Wir geben die Werte der Queue zur Kontrolle aus.\n",
    "    wert = rand() % 100;\n",
    "    zug.enqueue(wert);\n",
    "                \n",
    "    cout << wert << \" \";    \n",
    "}\n",
    "                \n",
    "cout << endl;"
   ]
  },
  {
   "cell_type": "code",
   "execution_count": 2,
   "metadata": {},
   "outputs": [],
   "source": [
    "Stack<int> s1;\n",
    "Stack<int> s2;\n",
    "\n",
    "int x = 0;\n",
    "\n",
    "while ( !zug.isEmpty() ) {\n",
    "    x = zug.dequeue();\n",
    "    \n",
    "    while ( (!s2.isEmpty()) && (s2.top() < x) ) {\n",
    "        s1.push(s2.pop());\n",
    "    }\n",
    "    \n",
    "    while ( (!s1.isEmpty()) && (s1.top() > x) ) {\n",
    "        s2.push(s1.pop());\n",
    "    }\n",
    "    \n",
    "    s2.push(x);    \n",
    "}\n",
    "\n",
    "while ( !s1.isEmpty() ) {\n",
    "    s2.push(s1.pop());\n",
    "}\n",
    "\n",
    "while ( !s2.isEmpty() ) {\n",
    "    zug.enqueue(s2.pop());\n",
    "}"
   ]
  },
  {
   "cell_type": "markdown",
   "metadata": {},
   "source": [
    "Geben wir das Ergebnis mal aus."
   ]
  },
  {
   "cell_type": "code",
   "execution_count": 3,
   "metadata": {},
   "outputs": [
    {
     "name": "stdout",
     "output_type": "stream",
     "text": [
      "Sortiert: 3 5 11 11 18 27 30 37 41 44 46 48 50 57 68 69 70 87 89 99 "
     ]
    }
   ],
   "source": [
    "cout << \"Sortiert: \";\n",
    "\n",
    "while ( !zug.isEmpty() ) {\n",
    "    cout << zug.dequeue() << \" \";\n",
    "}"
   ]
  },
  {
   "cell_type": "markdown",
   "metadata": {},
   "source": [
    "<div class=\"task\">\n",
    "    <h3>Aufgabe</h3>\n",
    "    <div>\n",
    "        Bei diesem Verfahren sind die Aktionen zum \"Bewegen\" eines Waggons die teuersten Einzelaktionen.\n",
    "        D.h. wir zählen als Maß für die Laufzeit die Verschiebungen eines Elements von einer \n",
    "        Datenstruktur in eine andere.\n",
    "    </div>\n",
    "    <div>\n",
    "        Konstruieren Sie mit den Werten 1 bis 10 eine Eingabereihenfolge, ber der die Anzahl der\n",
    "        \"Waggonbewegungen\" maximal wird. Verallgemeinerne Sie diese Situation und schätzen Sie dann die\n",
    "        Laufzeit des Verfahrens ab.\n",
    "    </div>\n",
    "</div>"
   ]
  },
  {
   "cell_type": "markdown",
   "metadata": {},
   "source": [
    "<div class=\"followup\">\n",
    "    <h3>Wo es weiter geht</h3>\n",
    "        <div>\n",
    "            Wir können große Listen sehr gut mit dem Verfahren\n",
    "            <a class=\"followup\" href=\"/user-redirect/algoviz/lessons/07_Rekursion/00_Mergesort.ipynb\">\n",
    "                MergeSort</a> sortieren.\n",
    "    </div>\n",
    "</div>    "
   ]
  }
 ],
 "metadata": {
  "kernelspec": {
   "display_name": "C++17",
   "language": "C++17",
   "name": "xcpp17"
  },
  "language_info": {
   "codemirror_mode": "text/x-c++src",
   "file_extension": ".cpp",
   "mimetype": "text/x-c++src",
   "name": "c++",
   "version": "17"
  }
 },
 "nbformat": 4,
 "nbformat_minor": 4
}
