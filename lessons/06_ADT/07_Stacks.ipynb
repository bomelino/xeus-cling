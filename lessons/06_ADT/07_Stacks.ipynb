{
 "cells": [
  {
   "cell_type": "markdown",
   "metadata": {},
   "source": [
    "# Stacks"
   ]
  },
  {
   "cell_type": "markdown",
   "metadata": {},
   "source": [
    "<div class=\"prereq\">\n",
    "    <h3>Was man wissen sollte</h3>\n",
    "    <div>\n",
    "        Queues sind im Grunde eine spezielle Form der \n",
    "        <a class=\"prereq\" href=\"/user-redirect/algoviz/lessons/06_ADT/01_Liste.ipynb\">Liste</a>\n",
    "        und eng verwandt mit den \n",
    "        <a class=\"prereq\" href=\"/user-redirect/algoviz/lessons/06_ADT/05_Queues.ipynb\">Queues</a>.\n",
    "    </div>\n",
    "</div>"
   ]
  },
  {
   "cell_type": "markdown",
   "metadata": {},
   "source": [
    "<div class=\"slideshow 06_ADT/06_Stacks/slides.json\">Stacks</a>"
   ]
  },
  {
   "cell_type": "markdown",
   "metadata": {},
   "source": [
    "## Die Implementierung\n",
    "\n",
    "Wie bereits in der Slideshow erwähnt, kann ein Stack im Grunde wie eine Liste implementiert werden. Daher werden wir das auch genauso tun und im Folgenden einen Stack für `int`-Werte mit Hilfe einer Liste implementieren. Wir beginnen mit der Deklaration der Klasse."
   ]
  },
  {
   "cell_type": "code",
   "execution_count": 2,
   "metadata": {},
   "outputs": [],
   "source": [
    "#include <list>\n",
    "using namespace std;\n",
    "\n",
    "class IntStack {\n",
    "    \n",
    "    private:\n",
    "        list<int> liste;   // Die Liste, die wir verwenden.\n",
    "    \n",
    "    public:\n",
    "        // Die Methoden\n",
    "        IntStack();           // Der Konstruktor\n",
    "        bool isEmpty();   \n",
    "        int top();\n",
    "        void push(int value);\n",
    "        int pop();\n",
    "}"
   ]
  },
  {
   "cell_type": "markdown",
   "metadata": {},
   "source": [
    "Beginnen wir mit dem Konstruktor. Er muss eigentlich gar nichts machen. Bei der Erzeugung wird automatisch eine Liste als Attribut erzeugt."
   ]
  },
  {
   "cell_type": "code",
   "execution_count": 3,
   "metadata": {},
   "outputs": [],
   "source": [
    "IntStack::IntStack() {}"
   ]
  },
  {
   "cell_type": "markdown",
   "metadata": {},
   "source": [
    "Als nächstes ist `isEmpty()` an der Reihe. Es verwendet einfach `empty()` der intern genutzten Liste."
   ]
  },
  {
   "cell_type": "code",
   "execution_count": 4,
   "metadata": {},
   "outputs": [],
   "source": [
    "bool IntStack::isEmpty() {\n",
    "    return liste.empty();\n",
    "}"
   ]
  },
  {
   "cell_type": "markdown",
   "metadata": {},
   "source": [
    "`top()` gibt einfach das erste Element der liste zurück."
   ]
  },
  {
   "cell_type": "code",
   "execution_count": 5,
   "metadata": {},
   "outputs": [],
   "source": [
    "int IntStack::top() {\n",
    "    return liste.front();\n",
    "}"
   ]
  },
  {
   "cell_type": "markdown",
   "metadata": {},
   "source": [
    "`push()` fügt das neue Element **vorne** an. Also verwendet es `push_front()`."
   ]
  },
  {
   "cell_type": "code",
   "execution_count": 6,
   "metadata": {},
   "outputs": [],
   "source": [
    "void IntStack::push(int value) {\n",
    "    liste.push_front(value);\n",
    "}"
   ]
  },
  {
   "cell_type": "markdown",
   "metadata": {},
   "source": [
    "Und `pop()` löscht das erste Element und gib es zurück."
   ]
  },
  {
   "cell_type": "code",
   "execution_count": 1,
   "metadata": {},
   "outputs": [
    {
     "name": "stderr",
     "output_type": "stream",
     "text": [
      "\u001b[1minput_line_7:1:5: \u001b[0m\u001b[0;1;31merror: \u001b[0m\u001b[1muse of undeclared identifier 'IntQueue'\u001b[0m\n",
      "int IntQueue::pop() {\n",
      "\u001b[0;1;32m    ^\n",
      "\u001b[0m"
     ]
    },
    {
     "ename": "Interpreter Error",
     "evalue": "",
     "output_type": "error",
     "traceback": [
      "Interpreter Error: "
     ]
    }
   ],
   "source": [
    "int IntStack::pop() {\n",
    "    int val = liste.front();\n",
    "    liste.pop_front();\n",
    "    return val;\n",
    "}"
   ]
  },
  {
   "cell_type": "markdown",
   "metadata": {},
   "source": [
    "Wie man sieht ist die Implementierung eines Stacks fast identisch zu der einer Queue. Lediglich `push()`unterscheidet sich von `enqueue()`. Ebenfalls wie bei der Queue kann nicht auf man die Elemente eines Stacks zugreifen. Lediglich das **oberste** Element ist verfügbar."
   ]
  },
  {
   "cell_type": "markdown",
   "metadata": {},
   "source": [
    "In [Stack.hpp](/user-redirect/algoviz/lessons/06_ADT/Stack.hpp) steht eine Implementierung zur Verfügung, die mit beliebigen Typen genutzt werden kann."
   ]
  },
  {
   "cell_type": "code",
   "execution_count": 4,
   "metadata": {},
   "outputs": [],
   "source": [
    "#include <iostream>\n",
    "#include \"Stack.hpp\"\n",
    "\n",
    "using namespace std;\n",
    "\n",
    "// Deklaration eines Stacks\n",
    "Stack<double> stack;  // Ein Stack, der doubles speichert\n",
    "\n",
    "// Befüllen des Stacks\n",
    "for ( int i = 0; i < 10; i++ ) {\n",
    "    stack.push( 0.1 * i*i );\n",
    "}"
   ]
  },
  {
   "cell_type": "markdown",
   "metadata": {},
   "source": [
    "Jetzt können wir alle Elemente wieder aus dem Stack herausholen. Dabei kehrt sich die Reihenfolge aber um."
   ]
  },
  {
   "cell_type": "code",
   "execution_count": 5,
   "metadata": {},
   "outputs": [
    {
     "name": "stdout",
     "output_type": "stream",
     "text": [
      "8.1 6.4 4.9 3.6 2.5 1.6 0.9 0.4 0.1 0 "
     ]
    }
   ],
   "source": [
    "while ( !stack.isEmpty() ) {\n",
    "    cout << stack.pop() << \" \";\n",
    "}"
   ]
  },
  {
   "cell_type": "markdown",
   "metadata": {},
   "source": [
    "<div class=\"followup\">\n",
    "    <h3>Wo es weiter geht</h3>\n",
    "        <div>\n",
    "            Der \n",
    "            <a class=\"followup\" href=\"/user-redirect/algoviz/lessons/06_ADT/08_StackSort.ipynb\">\n",
    "            StackSort-Algorithmus</a> sortiert mit Hilfe zweier Stacks. Man kann sich auch\n",
    "            <a class=\"followup\" href=\"/user-redirect/algoviz/lessons/06_ADT/06_FloodFillStack.ipynb\">\n",
    "                FloodFill mit einem Stack</a> ansehen.\n",
    "    </div>\n",
    "</div>    "
   ]
  }
 ],
 "metadata": {
  "kernelspec": {
   "display_name": "C++17",
   "language": "C++17",
   "name": "xcpp17"
  },
  "language_info": {
   "codemirror_mode": "text/x-c++src",
   "file_extension": ".cpp",
   "mimetype": "text/x-c++src",
   "name": "c++",
   "version": "17"
  }
 },
 "nbformat": 4,
 "nbformat_minor": 4
}
